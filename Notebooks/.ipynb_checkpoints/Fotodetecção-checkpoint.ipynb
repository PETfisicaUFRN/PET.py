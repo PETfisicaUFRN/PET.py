{
 "cells": [
  {
   "cell_type": "markdown",
   "id": "981dac22-e7b6-41db-8e6f-d78faddfa218",
   "metadata": {},
   "source": [
    "# Processos Estocásticos Quânticos: Um Estudo de Fotodetecção"
   ]
  },
  {
   "cell_type": "markdown",
   "id": "9c992ee6-2664-431a-a689-b49d46d666fa",
   "metadata": {},
   "source": [
    "- PET - Física UFRN\n",
    "- Petiano: Tiago Pernambuco Toledo de Macêdo\n",
    "- 31 de Outubro de 2025"
   ]
  },
  {
   "cell_type": "markdown",
   "id": "4041e51a-36ba-42bb-8c5f-197c4f3f55db",
   "metadata": {},
   "source": [
    "$\\quad$ Processos estocásticos são ubíquos na física clássica, descrevendo o movimento de partículas microscópicas em gases, processos de transporte e difusão e muito mais. Na física quântica, porém, a estocasticidade está intimamente correlacionada com o princípio da incerteza de Heisenberg e o caráter disruptivo das medições no mundo subatômico. Um exemplo importante de processo estocástico quântico é a fotodetecção, que consiste na detecção da presença e intensidade da luz.\n",
    "\n",
    "$\\quad$ O objetivo deste `Notebook` é dar uma breve introdução aos processos estocásticos quânticos com ênfase em problemas de fotodetecção. Mais especificamente, vamos discutir e simular numericamente os processos de fotodetecção direta e homódina, onde se calcula a intensidade da luz através da contagem de fótons e de medidas de quadratura de campo."
   ]
  },
  {
   "cell_type": "markdown",
   "id": "880d4613-7e4b-49b0-8adb-0d835f5d7fd4",
   "metadata": {},
   "source": [
    "$\\quad$ Este `Notebook` possui 5 seções:\n",
    "\n",
    "1. Introdução;\n",
    "2. Processos Estocásticos;\n",
    "3. Fotodetecção;\n",
    "4. Simulação Numérica;\n",
    "5. Conclusões."
   ]
  },
  {
   "cell_type": "markdown",
   "id": "42b1db94-3e5d-4691-859e-e47824ddd36c",
   "metadata": {},
   "source": [
    "### Importando Bibliotecas"
   ]
  },
  {
   "cell_type": "code",
   "execution_count": 1,
   "id": "acdaedc4-a812-484d-823a-8a270f2220ac",
   "metadata": {},
   "outputs": [],
   "source": [
    "import numpy as np\n",
    "import matplotlib.pyplot as plt\n",
    "from tqdm import tqdm"
   ]
  },
  {
   "cell_type": "markdown",
   "id": "c2910618-79db-4e3b-a1c1-bc30c9a66149",
   "metadata": {},
   "source": [
    "### Versões dos Softwares"
   ]
  },
  {
   "cell_type": "code",
   "execution_count": 2,
   "id": "e7d88c8f-9abc-4e53-94ff-14d09d652f91",
   "metadata": {},
   "outputs": [],
   "source": [
    "%load_ext version_information"
   ]
  },
  {
   "cell_type": "code",
   "execution_count": 3,
   "id": "8ce4a821-4e57-4759-8b47-48c9e0e26885",
   "metadata": {},
   "outputs": [
    {
     "data": {
      "application/json": {
       "Software versions": [
        {
         "module": "Python",
         "version": "3.12.7 64bit [MSC v.1929 64 bit (AMD64)]"
        },
        {
         "module": "IPython",
         "version": "8.27.0"
        },
        {
         "module": "OS",
         "version": "Windows 11 10.0.26200 SP0"
        },
        {
         "module": "numpy",
         "version": "1.26.4"
        },
        {
         "module": "matplotlib",
         "version": "3.10.3"
        },
        {
         "module": "tqdm",
         "version": "4.66.5"
        }
       ]
      },
      "text/html": [
       "<table><tr><th>Software</th><th>Version</th></tr><tr><td>Python</td><td>3.12.7 64bit [MSC v.1929 64 bit (AMD64)]</td></tr><tr><td>IPython</td><td>8.27.0</td></tr><tr><td>OS</td><td>Windows 11 10.0.26200 SP0</td></tr><tr><td>numpy</td><td>1.26.4</td></tr><tr><td>matplotlib</td><td>3.10.3</td></tr><tr><td>tqdm</td><td>4.66.5</td></tr><tr><td colspan='2'>Wed Oct 29 14:14:48 2025 Hora Padrão de Buenos Aires</td></tr></table>"
      ],
      "text/latex": [
       "\\begin{tabular}{|l|l|}\\hline\n",
       "{\\bf Software} & {\\bf Version} \\\\ \\hline\\hline\n",
       "Python & 3.12.7 64bit [MSC v.1929 64 bit (AMD64)] \\\\ \\hline\n",
       "IPython & 8.27.0 \\\\ \\hline\n",
       "OS & Windows 11 10.0.26200 SP0 \\\\ \\hline\n",
       "numpy & 1.26.4 \\\\ \\hline\n",
       "matplotlib & 3.10.3 \\\\ \\hline\n",
       "tqdm & 4.66.5 \\\\ \\hline\n",
       "\\hline \\multicolumn{2}{|l|}{Wed Oct 29 14:14:48 2025 Hora Padrão de Buenos Aires} \\\\ \\hline\n",
       "\\end{tabular}\n"
      ],
      "text/plain": [
       "Software versions\n",
       "Python 3.12.7 64bit [MSC v.1929 64 bit (AMD64)]\n",
       "IPython 8.27.0\n",
       "OS Windows 11 10.0.26200 SP0\n",
       "numpy 1.26.4\n",
       "matplotlib 3.10.3\n",
       "tqdm 4.66.5\n",
       "Wed Oct 29 14:14:48 2025 Hora Padrão de Buenos Aires"
      ]
     },
     "execution_count": 3,
     "metadata": {},
     "output_type": "execute_result"
    }
   ],
   "source": [
    "version_information numpy, matplotlib, tqdm"
   ]
  },
  {
   "cell_type": "markdown",
   "id": "46ef0e02-9e11-455f-9be4-474f0726169f",
   "metadata": {},
   "source": [
    "## 1. Introdução"
   ]
  },
  {
   "cell_type": "markdown",
   "id": "909b104e-02cc-44ef-aec0-f94db6481e90",
   "metadata": {},
   "source": [
    "$\\quad$ Processos estocásticos são uma ferramenta matemática poderosíssima, capaz de descrever a dinâmica de sistemas físicos em que há a presença de fenômenos não-determinísticos. O formalismo de processos estocásticos é ubíquo na física clássica, onde encontra diversas aplicações em física estatística, fenômenos de transporte, biofísica e muitos outros campos de estudo.\n",
    "\n",
    "$\\quad$ Na física quântica, porém, em que o não-determinismo é uma característica intrínseca, a estocasticidade se manifesta de maneiras um tanto quanto diferentes. Mais especificamente, os tipos de fenômenos que podemos descrever através do formalismo de processos estocásticos na mecânica quântica estão frequentemente conectados ao princípio da incerteza de Heisenberg e ao caráter disruptivo das medições em sistemas microscópicos.\n",
    "\n",
    "$\\quad$ Neste `Notebook`, utilizamos o formalismo de processos estocásticos quânticos para descrever cenários de fotodetecção. Em particular, simulamos um campo eletromagnético quantizado em interação com um sistema atômico de dois níveis e modelamos a detecção de fótons emitidos de duas formas diferentes: as chamadas fotodetcção direta e homódina. Para fazer isso, nos baseamos inteiramente nos métodos presentes no livro _The Theory of Open Quantum Systems_, de H.-P. Breuer e F. Petruccione [1]."
   ]
  },
  {
   "cell_type": "markdown",
   "id": "c48844a8-8a56-402f-b7cb-27a18b381adc",
   "metadata": {},
   "source": [
    "## 2. Processos Estocásticos"
   ]
  },
  {
   "cell_type": "markdown",
   "id": "be373c35-6c00-405d-bbf4-d5cfc7db75d6",
   "metadata": {},
   "source": [
    "$\\quad$Um processo estocástico é uma grandeza que evolui no tempo de forma não determinística, isto é, cuja evolução não pode ser prevista com certeza absoluta, mas apenas em termos de probabilidades. Matematicamente, um processo estocástico é uma família de variáveis aleatórias\n",
    "\n",
    "$$\n",
    "\\{ X_t : t \\ge 0 \\},\n",
    "$$\n",
    "\n",
    "definida sobre um mesmo espaço de probabilidades. Para cada tempo $t$, $X_t$ é uma variável aleatória. O conjunto de suas realizações no tempo é uma trajetória estocástica.\n",
    "\n",
    "$\\quad$A forma como essas variáveis se correlacionam é descrita por distribuições condicionais $P(X_{t+\\tau}|X_t)$. Um caso importante é o processo de Markov, em que o futuro depende apenas do presente:\n",
    "\n",
    "$$\n",
    "P(X_{t+\\tau}|X_t, X_{t-\\tau}, \\ldots) = P(X_{t+\\tau}|X_t). \\tag{1}\n",
    "$$\n",
    "\n",
    "$\\quad$Essa propriedade permite escrever equações diferenciais para as probabilidades, como a equação de Fokker–Planck ou de Langevin. Por exemplo, o movimento browniano é descrito por\n",
    "\n",
    "$$\n",
    "\\frac{dx}{dt} = -\\gamma x + \\sqrt{2D}\\,\\xi(t), \\tag{2}\n",
    "$$\n",
    "\n",
    "onde $\\xi(t)$ é um ruído branco gaussiano com $\\langle \\xi(t)\\xi(t') \\rangle = \\delta(t-t')$."
   ]
  },
  {
   "cell_type": "markdown",
   "id": "f3420cd4-71e8-400a-b45c-908be59ab161",
   "metadata": {},
   "source": [
    "### 2.1. Processos Estocásticos Clássicos"
   ]
  },
  {
   "cell_type": "markdown",
   "id": "89282b83-e3dd-4e31-a060-8c24a2811cf1",
   "metadata": {
    "jp-MarkdownHeadingCollapsed": true
   },
   "source": [
    "$\\quad$Na física clássica, processos estocásticos surgem sempre que há incerteza ou complexidade suficiente para impedir uma descrição puramente determinística. Um exemplo típico é o movimento browniano de uma partícula suspensa em um fluido: as colisões aleatórias com as moléculas do meio fazem com que a posição e a velocidade da partícula flutuem de maneira imprevisível. Em sistemas macroscópicos, fenômenos como ruído térmico, difusão de carga ou flutuações de pressão também são descritos por esse formalismo.\n",
    "\n",
    "$\\quad$Do ponto de vista matemático, há duas principais abordagens complementares:\n",
    "\n",
    "#### Equações de Langevin — descrição em trajetórias\n",
    "\n",
    "$\\quad$A equação de Langevin descreve a evolução temporal de uma variável física $x(t)$ sujeita a uma força determinística $f(x,t)$ e a um termo aleatório associado ao ruído:\n",
    "\n",
    "$$\n",
    "\\dot{x}(t) = f(x,t) + g(x,t)\\,\\xi(t), \\tag{3}\n",
    "$$\n",
    "\n",
    "onde $\\xi(t)$ é um processo de ruído (geralmente ruído branco gaussiano) caracterizado por\n",
    "\n",
    "$$\n",
    "\\langle \\xi(t) \\rangle = 0, \\quad \\langle \\xi(t)\\xi(t') \\rangle = \\delta(t - t'). \\tag{3.1}\n",
    "$$\n",
    "\n",
    "$\\quad$A função $g(x,t)$ determina a intensidade com que o ruído afeta o sistema. Cada realização do ruído $\\xi(t)$ gera uma trajetória diferente $x(t)$, e a média sobre muitas realizações define o comportamento médio do sistema.\n",
    "\n",
    "#### Equações de Fokker–Planck — descrição em densidades\n",
    "\n",
    "$\\quad$Em vez de acompanhar trajetórias individuais, podemos descrever a evolução da densidade de probabilidade $P(x,t)$ associada à variável aleatória $x(t)$. Essa densidade obedece à equação de Fokker–Planck:\n",
    "\n",
    "$$\n",
    "\\frac{\\partial P}{\\partial t} = -\\frac{\\partial}{\\partial x}[A(x)P] + \\frac{1}{2}\\frac{\\partial^2}{\\partial x^2}[B(x)P]. \\tag{4}\n",
    "$$\n",
    "\n",
    "$\\quad$O primeiro termo, proporcional a $A(x)$, representa o fluxo determinístico da probabilidade (drift), enquanto o segundo, proporcional a $B(x)$, representa a difusão causada pelo ruído. As funções $A(x)$ e $B(x)$ estão relacionadas aos coeficientes da equação de Langevin por\n",
    "\n",
    "$$\n",
    "A(x) = f(x,t), \\quad B(x) = g^2(x,t). \\tag{4.1}\n",
    "$$\n",
    "\n",
    "$\\quad$Essa equação fornece uma descrição estatística completa do sistema e é amplamente usada em física estatística, termodinâmica de não equilíbrio e teoria da informação. Ela permite calcular quantidades como variâncias, tempos de relaxação e distribuições estacionárias $P_{\\text{st}}(x)$.\n",
    "\n",
    "$\\quad$Assim, as equações de Langevin e Fokker–Planck são representações equivalentes do mesmo processo estocástico: a primeira enfatiza o comportamento individual das trajetórias, e a segunda, o comportamento coletivo das probabilidades.\n"
   ]
  },
  {
   "cell_type": "markdown",
   "id": "17eae3d8-b8d1-45c8-9908-a557c8cacbfc",
   "metadata": {},
   "source": [
    "### 2.2. Processos Estocásticos Quânticos"
   ]
  },
  {
   "cell_type": "markdown",
   "id": "f6afe6df-71e4-42e2-95e3-e508a98871d3",
   "metadata": {},
   "source": [
    "$\\quad$Em mecânica quântica, a incerteza é parte fundamental da teoria, e o estado do sistema é descrito por um vetor $|\\psi(t)\\rangle$ ou por uma matriz densidade $\\rho(t)$.  \n",
    "No entanto, quando o sistema interage com o ambiente ou é continuamente medido, surgem flutuações e ruídos que não têm análogo direto na física clássica. Essas flutuações dão origem aos chamados processos estocásticos quânticos.\n",
    "\n",
    "$\\quad$De maneira geral, o estado quântico evolui de forma determinística quando isolado, segundo a equação de Schrödinger. Mas, quando há dissipação e medição, a dinâmica média é descrita por uma equação mestra de Lindblad:\n",
    "\n",
    "$$\n",
    "\\frac{d\\rho}{dt} = -i[H, \\rho] + \\sum_k \\mathcal{D}[L_k]\\rho, \\tag{5}\n",
    "$$\n",
    "\n",
    "onde cada operador $L_k$ representa um canal de dissipação e o superoperador dissipativo tem a forma\n",
    "\n",
    "$$\n",
    "\\mathcal{D}[L]\\rho = L\\rho L^\\dagger - \\tfrac{1}{2}(L^\\dagger L\\rho + \\rho L^\\dagger L). \\tag{5.1}\n",
    "$$\n",
    "\n",
    "$\\quad$Essa equação descreve a evolução média de um conjunto de sistemas idênticos sem acompanhar resultados individuais de medições. No entanto, se quisermos descrever a dinâmica condicional — isto é, a evolução do estado à medida que obtemos resultados de medição — devemos recorrer às equações estocásticas quânticas ou trajetórias quânticas.\n",
    "\n",
    "\n",
    "\n",
    "#### Equação Mestra Estocástica\n",
    "\n",
    "$\\quad$A forma geral de uma equação mestra estocástica (SME) é:\n",
    "\n",
    "$$\n",
    "d\\rho_c = -i[H,\\rho_c]\\,dt + \\mathcal{D}[L]\\rho_c\\,dt + \\text{(termos estocásticos dependentes da medição)}. \\tag{6}\n",
    "$$\n",
    "\n",
    "$\\quad$O estado $\\rho_c(t)$ é dito “condicionado” porque depende da informação obtida na medição até o tempo $t$.  \n",
    "Os termos estocásticos dependem do tipo de medição:\n",
    "\n",
    "- Saltos de Poisson aparecem quando a medição envolve a detecção discreta de quanta, como em contagem de fótons (fotodetecção direta);  \n",
    "- Incrementos de Wiener aparecem quando a medição é contínua e sensível às quadraturas de campo, como na fotodetecção homódina.\n",
    "\n",
    "$\\quad$Em ambos os casos, cada realização do ruído gera uma trajetória $\\rho_c(t)$ diferente, e a média sobre todas as trajetórias reproduz a equação mestra de Lindblad (Eq. 5).\n",
    "\n",
    "\n",
    "\n",
    "#### Equação de Schrödinger Estocástica\n",
    "\n",
    "$\\quad$No nível dos vetores de estado, o análogo da SME é a equação de Schrödinger estocástica (SSE):\n",
    "\n",
    "$$\n",
    "d|\\psi_c\\rangle = \\left[-iH_{\\text{eff}}dt + F(|\\psi_c\\rangle)dW(t)\\right]|\\psi_c\\rangle. \\tag{7}\n",
    "$$\n",
    "\n",
    "$\\quad$Aqui, $H_{\\text{eff}}$ é o Hamiltoniano efetivo não hermitiano que incorpora a perda de probabilidade associada à dissipação ou à ausência de detecção, enquanto $F(|\\psi_c\\rangle)$ é um operador que descreve a retroação (feedback) da medição contínua. O termo $dW(t)$ representa um incremento de Wiener, caracterizado por $\\mathbb{E}[dW] = 0$ e $dW^2 = dt$.\n",
    "\n",
    "$\\quad$A solução dessa equação gera uma trajetória quântica, que representa a evolução de um único sistema sob uma sequência específica de resultados de medição. A média sobre muitas trajetórias, que equivale à matriz de covariância do processo estocástico, recupera a dinâmica determinística do ensemble:\n",
    "\n",
    "$$\n",
    "\\mathbb{E}[|\\psi_c\\rangle\\langle\\psi_c|] = \\rho(t). \\tag{7.1}\n",
    "$$\n",
    "\n",
    "$\\quad$Portanto, os processos estocásticos quânticos constituem a ponte conceitual entre a mecânica quântica da medição e a teoria clássica dos processos aleatórios, descrevendo como a informação adquirida continuamente modifica o estado de um sistema individual em tempo real.\n"
   ]
  },
  {
   "cell_type": "markdown",
   "id": "b8b788c7-242f-47bc-a28e-5750ca0fbdd6",
   "metadata": {},
   "source": [
    "## 3. Fotodetecção"
   ]
  },
  {
   "cell_type": "markdown",
   "id": "08135d4e-a484-4bba-9bd6-7ed65b9eeef9",
   "metadata": {},
   "source": [
    "$\\quad$A fotodetecção é o processo pelo qual a presença de fótons em um campo eletromagnético é inferida por meio da resposta de um detector. Fundamentalmente, o que se mede não é o número de fótons diretamente, mas sim a ocorrência de eventos de detecção, que correspondem a interações entre o campo e os graus de liberdade do detector (por exemplo, um átomo ou uma cavidade acoplada).  \n",
    "\n",
    "$\\quad$Podemos descrever a fotodetecção por uma dinâmica condicional do sistema quântico, dependente do registro de contagens ou sinais contínuos associados ao detector. Cada sequência possível de resultados (por exemplo, a sequência temporal de cliques) define uma trajetória estocástica distinta do estado quântico.\n",
    "\n",
    "$\\quad$A média sobre todas as possíveis trajetórias recupera a equação mestra determinística de Lindblad:\n",
    "\n",
    "$$\n",
    "\\frac{d\\rho}{dt} = -i[H,\\rho] + \\mathcal{D}[\\sigma_-]\\rho, \\tag{1}\n",
    "$$\n",
    "\n",
    "onde $\\mathcal{D}[\\sigma_-]\\rho = \\sigma_-\\rho \\sigma_+ - \\tfrac{1}{2}\\{\\sigma_+ \\sigma_-,\\rho\\}$ representa o termo dissipativo associado ao operador de salto $\\sigma_-$.\n",
    "\n",
    "$\\quad$ Caso tratemos o sistema como um átomo com dois níveis de energia ($|e\\rangle, |g\\rangle$, para o estado excitado e o estado fundamental, respectivamente) que interage com um campo eletromagnético quantizado com Hamiltoniano da forma $H_B = \\sum_j \\omega_j b_j^\\dagger b_j$, o processo de emissão de um fóton consiste em um decaimento do estado excitado para o fundamental. Assim, $\\sigma_-$ é dado pela matriz $\\begin{pmatrix} 0&&0 \\\\ 1&&0\\end{pmatrix}$. Nessa notação, $\\sigma_+ = \\sigma_-^\\dagger$ e $\\sigma_+ \\sigma_-$ é o operador de número de fótons emitidos.\n",
    "\n",
    "$\\quad$Quando há monitoramento contínuo do campo, o estado do sistema não obedece a essa equação média, mas sim a uma equação mestra estocástica (SME) condicionada ao registro da medição. Cada tipo de detecção (direta, homódina, heteródina, etc.) dá origem a um tipo diferente de ruído estocástico e, portanto, a uma forma distinta da equação de Schrödinger estocástica (SSE).\n"
   ]
  },
  {
   "cell_type": "markdown",
   "id": "7e47c0ed-b7f0-457f-9410-8b8b51fa026f",
   "metadata": {},
   "source": [
    "### 3.1. Fotodetecção Direta"
   ]
  },
  {
   "cell_type": "markdown",
   "id": "ec13f226-32f3-426c-b197-1590e8862d88",
   "metadata": {},
   "source": [
    "$\\quad$Na fotodetecção direta, o detector registra a chegada de fótons individuais. O processo de detecção é descrito por incrementos de Poisson $dN(t)$, que assumem valor $1$ se um fóton é detectado no intervalo $[t, t + dt)$ e $0$ caso contrário. A média satisfaz $\\mathbb{E}[dN(t)] = \\langle \\sigma_+ \\sigma_-\\rangle dt$.  \n",
    "\n",
    "$\\quad$A dinâmica média do sistema é dada novamente pela equação de Lindblad (1), mas a evolução condicional obedece à equação mestra estocástica de salto quântico:\n",
    "\n",
    "$$\n",
    "d\\rho_c = -i[H, \\rho_c]\\,dt - \\frac{1}{2}\\{\\sigma_+ \\sigma_- \\rho_c\\}\\,dt + \\text{Tr}[\\sigma_+ \\sigma_-\\rho_c]\\rho_c\\,dt + \\left(\\frac{\\sigma_-\\rho_c \\sigma_+}{\\text{Tr}[\\sigma_+ \\sigma_-\\rho_c]} - \\rho_c\\right)dN(t). \\tag{2}\n",
    "$$\n",
    "\n",
    "$\\quad$O primeiro termo descreve a evolução não unitária entre os saltos (decorrente do Hamiltoniano efetivo não hermitiano), enquanto o termo proporcional a $dN(t)$ descreve o salto do estado quando ocorre um evento de detecção.\n",
    "\n",
    "$\\quad$Em termos vetoriais, a forma correspondente da equação de Schrödinger estocástica é:\n",
    "\n",
    "$$\n",
    "d|\\psi_c\\rangle = \\left[-iH_{\\text{eff}}dt + \\left(\\frac{\\sigma_-}{\\sqrt{\\langle \\sigma_+ \\sigma_-\\rangle}} - 1\\right)dN(t)\\right]|\\psi_c\\rangle, \\tag{3}\n",
    "$$\n",
    "\n",
    "com o Hamiltoniano efetivo dado por\n",
    "\n",
    "$$\n",
    "    H_{\\text{eff}} = -\\frac{\\Omega}{2}(\\sigma_+ + \\sigma_-) - \\frac{i\\gamma}{2} \\sigma_+ \\sigma_- + \\frac{i\\gamma}{2}\\langle \\sigma_+ \\sigma_-\\rangle. \\tag{4}\n",
    "$$\n",
    "\n",
    "$\\quad$ Na expressão acima, $\\Omega$ é a frequência de Rabi do sistema e $\\gamma$ descreve a taxa de emissão espontânea. Quando nenhum fóton é detectado ($dN = 0$), o estado sofre uma evolução determinística e não unitária, que reduz sua norma. Quando um fóton é detectado ($dN = 1$), o estado sofre um salto instantâneo $|\\psi\\rangle \\to \\sigma_-|\\psi\\rangle / \\|\\sigma_-|\\psi\\rangle\\|$.  \n",
    "\n",
    "$\\quad$A média sobre muitas trajetórias recupera a evolução dissipativa padrão de Lindblad. Essa formulação é a base da teoria de trajetórias quânticas.\n"
   ]
  },
  {
   "cell_type": "markdown",
   "id": "9602fcd2-43a0-46e3-b605-0dfe8a353c4a",
   "metadata": {},
   "source": [
    "### 3.2. Fotodetecção Homódina"
   ]
  },
  {
   "cell_type": "markdown",
   "id": "e4552acc-90cf-4447-920e-6c3acb3e5175",
   "metadata": {},
   "source": [
    "$\\quad$Na fotodetecção homódina, o campo de saída do sistema é misturado com um campo de referência clássico — o oscilador local — em uma junção tipo beam splitter. A diferença de intensidades nas duas saídas é medida, produzindo uma corrente elétrica contínua proporcional a uma quadratura do campo. Em contraste com a fotodetecção direta, aqui a medida é difusiva e não descontínua.\n",
    "\n",
    "$\\quad$O operador de salto $\\sigma_-$ é o mesmo, mas o tipo de ruído muda. O detector mede uma combinação linear dos operadores de criação e aniquilação, conhecida como quadratura:\n",
    "$$\n",
    "X_\\phi = \\frac{1}{2}\\left(e^{-i\\phi}\\sigma_- + e^{i\\phi}\\sigma_+\\right),\n",
    "\\tag{6}\n",
    "$$\n",
    "onde $\\phi$ é a fase do oscilador local. Dependendo de $\\phi$, mede-se a quadratura de amplitude ($\\phi = 0$) ou de fase ($\\phi = \\pi/2$).\n",
    "\n",
    "$\\quad$A corrente de fotodetecção homódina, isto é, o sinal medido no detector, é dada por:\n",
    "$$\n",
    "I(t)\\,dt = \\sqrt{\\eta\\,\\gamma}\\,\\langle e^{-i\\phi}\\sigma_- + e^{i\\phi}\\sigma_+ \\rangle\\, dt + dW_t,\n",
    "\\tag{7}\n",
    "$$\n",
    "onde $\\eta$ é a eficiência do detector e $dW_t$ é um incremento de Wiener com $\\mathbb{E}[dW_t]=0$ e $dW_t^2 = dt$. Esse termo $dW_t$ representa o ruído quântico inevitável, originado da incerteza associada à quadratura não medida.\n",
    "\n",
    "$\\quad$O estado condicionado evolui de acordo com uma equação de Schrödinger estocástica difusiva:\n",
    "$$\n",
    "d|\\psi\\rangle = \\left[-i H\\,dt - \\frac{\\gamma}{2}\\left(\\sigma_+\\sigma_- - \\langle \\sigma_+\\sigma_- \\rangle\\right)dt + \\sqrt{\\gamma}\\left(e^{i\\phi}\\sigma_- - \\langle e^{i\\phi}\\sigma_- \\rangle\\right)dW_t \\right]|\\psi\\rangle.\n",
    "\\tag{8}\n",
    "$$\n",
    "\n",
    "$\\quad$Essa equação descreve a evolução contínua e condicionada do estado do sistema sob uma medição homódina. Diferentemente do caso de contagem direta, o estado não sofre saltos, mas evolui suavemente sob ruído branco quântico. A informação obtida pela medida está codificada na corrente $I(t)$, cuja média segue as quadraturas do campo emitido, e cujas flutuações refletem a natureza estocástica da medição.\n"
   ]
  },
  {
   "cell_type": "markdown",
   "id": "76c9fc14-21e0-4d0c-9236-19f4895b477d",
   "metadata": {},
   "source": [
    "## 4. Simulação Numérica"
   ]
  },
  {
   "cell_type": "markdown",
   "id": "0da13ba2-3823-4b29-8c5b-e4143206dcaa",
   "metadata": {},
   "source": [
    "$\\quad$ Agora que tratamos da teoria por trás dos fenômenos que buscamos simular, podemos começar o trabalho numérico. Primeiro, vamos definir valores concretos para algumas constantes relevantes para a física do sistema e para a simulação em si:"
   ]
  },
  {
   "cell_type": "code",
   "execution_count": 4,
   "id": "531527c5-0dba-4d47-b9b3-68e8bb7d07d6",
   "metadata": {},
   "outputs": [],
   "source": [
    "Omega = 0.4          # Frequência de Rabi (Ω)\n",
    "gamma0 = 0.4         # Taxa de decaimento espontâneo (γ₀)\n",
    "T = 20.0             # Tempo total de simulação\n",
    "dt = 0.0005          # Passo temporal\n",
    "Npassos = int(T/dt)  # Número de passos\n",
    "Ntraj = 2000         # Número de trajetórias independentes"
   ]
  },
  {
   "cell_type": "markdown",
   "id": "71a16b5e-39b2-4268-8f98-ea0455df4612",
   "metadata": {},
   "source": [
    "$\\quad$ Agora, podemos definir as formas matriciais dos operadores $\\sigma_\\pm$, da identidade $I_2$, do Hamiltoniano $H = -\\frac{\\Omega}{2}(\\sigma_+ + \\sigma_-)$ e também, por simplicidade, definir $L = \\sqrt{\\gamma}\\sigma_-$."
   ]
  },
  {
   "cell_type": "code",
   "execution_count": 5,
   "id": "b6c308f4-95fe-452e-bfca-6c593aefad28",
   "metadata": {},
   "outputs": [],
   "source": [
    "sigma_menos = np.array([[0, 0],\n",
    "                        [1, 0]], dtype=complex)\n",
    "\n",
    "sigma_mais  = sigma_menos.conj().T\n",
    "\n",
    "I2 = np.eye(2, dtype=complex)\n",
    "\n",
    "# Hamiltoniano H = (Ω/2)(σ₊ + σ₋)\n",
    "H = -0.5 * Omega * (sigma_mais + sigma_menos)\n",
    "\n",
    "# Operador de salto\n",
    "L = np.sqrt(gamma0) * sigma_menos"
   ]
  },
  {
   "cell_type": "markdown",
   "id": "a65a3256-6956-4a55-b7cf-b0d78c357c82",
   "metadata": {},
   "source": [
    "$\\quad$ Agora, inicializamos nosso sistema como um átomo no estado fundamental:"
   ]
  },
  {
   "cell_type": "code",
   "execution_count": 6,
   "id": "2415ef5f-b416-480a-956f-3bf50762242e",
   "metadata": {},
   "outputs": [],
   "source": [
    "psi0 = np.array([0.0, 1.0], dtype=complex)"
   ]
  },
  {
   "cell_type": "markdown",
   "id": "61608a9e-555d-4296-babd-c53b28295e4a",
   "metadata": {},
   "source": [
    "$\\quad$ Por fim, definimos as funções `normalize` e `expval` para normalizar estados e calcular valores esperados mais facilmente."
   ]
  },
  {
   "cell_type": "code",
   "execution_count": 7,
   "id": "4f29ca49-ff0d-4ed2-b59f-41c990fd11d9",
   "metadata": {},
   "outputs": [],
   "source": [
    "def normalize(psi):\n",
    "    return psi/np.linalg.norm(psi)\n",
    "\n",
    "def expval(psi, op):\n",
    "    return np.vdot(psi, op @ psi).real"
   ]
  },
  {
   "cell_type": "markdown",
   "id": "c52ff5bc-5bef-45a8-a46b-c6c06d01b5d6",
   "metadata": {},
   "source": [
    "### 4.1. Fotodetecção Direta"
   ]
  },
  {
   "cell_type": "markdown",
   "id": "84fb4a22-b40e-44f8-81ea-3e5402eb17eb",
   "metadata": {},
   "source": [
    "$\\quad$ Com as preliminares prontas, definimos a função `trajetoria_direta` para realizar a simulação da fotodetecção direta. Isso é feito com base no seguinte procedimento:\n",
    "\n",
    "1. Inicializamos nosso estado e começamos um _loop_ para calcular a evolução temporal do sistema;\n",
    "2. Sorteamos um número aleatório de uma distribuição uniforme entre $0$ e $1$ e, se ele for menor do que `p_salto`, o que ocorre com probabilidade `p_salto`, realizamos um salto quântico, i.e., aplicamos a transformação $|\\Psi\\rangle \\rightarrow \\frac{L|\\Psi\\rangle}{||L|\\Psi\\rangle||}$;\n",
    "3. Caso não tenha havido nenhum salto, evoluimos o sistema deterministicamente de acordo com a equação de Schrödinger com o Hamiltoniano efetivo $H_{eff}$ definido anteriormente. Para isso, utilizamos o método de Euler para integração numérica da equação diferencial;\n",
    "4. Registramos o valor esperado $\\langle \\sigma_+ \\sigma_- \\rangle$, i.e., a \"densidade de fótons\" detectados naquele instante de tempo;\n",
    "5. Repetimos os passos 2 - 4 até o final do _loop_."
   ]
  },
  {
   "cell_type": "code",
   "execution_count": 8,
   "id": "726a32c0-1621-45e5-be46-6b8d12e9857f",
   "metadata": {},
   "outputs": [],
   "source": [
    "def trajetoria_direta(dt, Nsteps):\n",
    "    psi = psi0.copy()\n",
    "    pops = np.zeros(Nsteps)\n",
    "    saltos = []\n",
    "\n",
    "    for t in range(Nsteps):\n",
    "        exp_LdagL = np.vdot(psi, (L.conj().T @ L) @ psi).real\n",
    "        p_salto = exp_LdagL * dt\n",
    "\n",
    "        if np.random.rand() < p_salto:\n",
    "            # SALTO: |ψ⟩ → L|ψ⟩ / ||L|ψ⟩||\n",
    "            psi = L @ psi\n",
    "            psi = normalize(psi)\n",
    "            saltos.append(t*dt)\n",
    "        else:\n",
    "            # EVOLUÇÃO CONTÍNUA: H_eff\n",
    "            H_eff = H - 0.5j * (L.conj().T @ L)\n",
    "            psi += (-1j * H_eff @ psi) * dt\n",
    "            psi = normalize(psi)\n",
    "\n",
    "        pops[t] = expval(psi, sigma_mais @ sigma_menos)\n",
    "\n",
    "    return pops, saltos"
   ]
  },
  {
   "cell_type": "markdown",
   "id": "bfa3ceb4-6279-44ac-b066-d380fc7db253",
   "metadata": {},
   "source": [
    "$\\quad$ Como estamos trabalhando com um processo estocástico que sabemos que reproduz, em média, o comportamento do sistema descrito pela equação de Lindblad, repetimos o procedimento acima por várias realizações (trajetórias) e tomamos a média dos nossos resultados:"
   ]
  },
  {
   "cell_type": "code",
   "execution_count": 9,
   "id": "12e1ec67-816b-4530-853e-151515ad702e",
   "metadata": {},
   "outputs": [
    {
     "name": "stderr",
     "output_type": "stream",
     "text": [
      "100%|██████████| 2000/2000 [24:55<00:00,  1.34it/s]\n"
     ]
    }
   ],
   "source": [
    "all_pops_salto = []\n",
    "salto_times = []\n",
    "\n",
    "for _ in tqdm(range(Ntraj)):\n",
    "    p, j = trajetoria_direta(dt, Npassos)\n",
    "    all_pops_salto.append(p)\n",
    "    salto_times.append(j)\n",
    "\n",
    "all_pops_salto = np.array(all_pops_salto)"
   ]
  },
  {
   "cell_type": "code",
   "execution_count": 10,
   "id": "9254b7b2-b158-44ab-9821-969aa7ace607",
   "metadata": {},
   "outputs": [],
   "source": [
    "media_salto = np.mean(all_pops_salto, axis=0)\n",
    "time = np.arange(Npassos)*dt"
   ]
  },
  {
   "cell_type": "markdown",
   "id": "deb7fa1a-88d0-41a4-aab7-c1a82944df17",
   "metadata": {},
   "source": [
    "$\\quad$ Com os nossos resultados em mãos, podemos plotar um gráfico para entender visualmente o que está acontecendo em nossa simulação:"
   ]
  },
  {
   "cell_type": "code",
   "execution_count": 11,
   "id": "55cac686-b598-4782-b962-4f8988679bf3",
   "metadata": {},
   "outputs": [
    {
     "data": {
      "image/png": "[encoded data removed]",
      "text/plain": [
       "<Figure size 800x500 with 1 Axes>"
      ]
     },
     "metadata": {},
     "output_type": "display_data"
    }
   ],
   "source": [
    "plt.figure(figsize=(8,5))\n",
    "plt.plot(time, media_salto)\n",
    "plt.xlabel(\"Tempo\")\n",
    "plt.ylabel(r\"$\\langle \\sigma_+\\sigma_- \\rangle$\")\n",
    "plt.title(\"Fotodetecção Direta\")\n",
    "plt.grid()\n",
    "plt.show()"
   ]
  },
  {
   "cell_type": "markdown",
   "id": "dc55bf95-d82d-40bd-907d-dd2ce67eba6b",
   "metadata": {},
   "source": [
    "$\\quad$ Como podemos ver, o número de fótons emitidos começa em $0$, uma vez que inicializamos o sistema no estado fundamental. Ao longo do tempo, a interação do átomo com o campo eletromagnético excita-o, fazendo com que eventualmente decaia e emita fótons que são detectados pelo aparato de medição. Para os valores das constantes $\\Omega$ e $\\gamma$ utilizados, o comportamento estacionário ao qual o sistema chega depois de algum tempo consiste em flutuações ao redor do valor $\\langle \\sigma_+ \\sigma_- \\rangle \\approx 0.35$."
   ]
  },
  {
   "cell_type": "markdown",
   "id": "197b4c27-922a-41cb-b9cd-3a013a84b568",
   "metadata": {},
   "source": [
    "$\\quad$ Para fins ilustrativos, estão dispostos abaixo os instantes em que os saltos ocorreram nas primeiras três trajetórias simuladas:"
   ]
  },
  {
   "cell_type": "code",
   "execution_count": 12,
   "id": "82aa42de-d5ae-4906-9af9-b5be08c7f3a5",
   "metadata": {},
   "outputs": [
    {
     "data": {
      "text/plain": [
       "([7.5575, 10.5015, 19.2865],\n",
       " [4.699, 9.896, 13.290000000000001],\n",
       " [4.918, 13.7825, 18.346])"
      ]
     },
     "execution_count": 12,
     "metadata": {},
     "output_type": "execute_result"
    }
   ],
   "source": [
    "salto_times[0], salto_times[1], salto_times[2]"
   ]
  },
  {
   "cell_type": "markdown",
   "id": "21afbb32-e369-4762-96d6-cc3c2394824c",
   "metadata": {},
   "source": [
    "### 4.2. Fotodetecção Homódina"
   ]
  },
  {
   "cell_type": "markdown",
   "id": "0a2f82c9-13be-46f8-a5a9-088023cc376d",
   "metadata": {},
   "source": [
    "$\\quad$ Agora que terminamos a simulação da fotodetecção direta, podemos fazer o mesmo para a homódina. Como dessa vez não estamos trabalhando com saltos e sim com um ruído estatístico descrito por incrementos de Wiener $dW$ nas medidas de quadratura, a parte estocástica da dinâmica é diferente, sendo realizada em todas as iterações do _loop_. De resto, o princípio básico é basicamente o mesmo: realizmos a evolução com base tanto na parte determinística como na estocástica e registramos os valores esperados de $\\langle \\sigma_- \\sigma_+ \\rangle$ em cada instante de tempo."
   ]
  },
  {
   "cell_type": "code",
   "execution_count": 13,
   "id": "de58a9e1-da1b-49b7-befc-a9c9f325a661",
   "metadata": {},
   "outputs": [],
   "source": [
    "def trajetoria_homodina(dt, Npassos):\n",
    "    psi = psi0.copy()\n",
    "    pops = np.zeros(Npassos)\n",
    "    dWs = np.random.normal(0, np.sqrt(dt), Npassos)\n",
    "\n",
    "    for t in range(Npassos):\n",
    "        # Valores Esperados\n",
    "        exp_sig_menos = np.vdot(psi, sigma_menos @ psi)\n",
    "        exp_sig_mais  = np.conjugate(exp_sig_menos)\n",
    "        exp_sigp_sig = np.vdot(psi, sigma_mais @ sigma_menos @ psi).real\n",
    "\n",
    "        # Ruído Wiener\n",
    "        dW = dWs[t]\n",
    "\n",
    "        # Parte determinística\n",
    "        term_det = (-1j * H\n",
    "                    - 0.5 * gamma0 * (sigma_mais @ sigma_menos - exp_sigp_sig * I2)\n",
    "                    + gamma0 * exp_sig_mais * sigma_menos\n",
    "                    - 0.5 * gamma0 * abs(exp_sig_menos)**2 * I2)\n",
    "\n",
    "        # Parte estocástica\n",
    "        term_sto = np.sqrt(gamma0) * (sigma_menos - exp_sig_menos * I2)\n",
    "\n",
    "        # Evolução (forma Itô)\n",
    "        psi += term_det @ psi * dt + term_sto @ psi * dW\n",
    "\n",
    "        # Normalização\n",
    "        psi = normalize(psi)\n",
    "        pops[t] = expval(psi, sigma_mais @ sigma_menos)\n",
    "\n",
    "    return pops"
   ]
  },
  {
   "cell_type": "markdown",
   "id": "4555f0a6-0058-4766-ad12-0d7c71f6f310",
   "metadata": {},
   "source": [
    "$\\quad$ Novamente, tomamos aqui a média de várias trajetórias para recuperar o comportamento da equação de Lindblad:"
   ]
  },
  {
   "cell_type": "code",
   "execution_count": 14,
   "id": "b3ea7eed-20a6-49b9-a45c-198307a95e91",
   "metadata": {},
   "outputs": [
    {
     "name": "stderr",
     "output_type": "stream",
     "text": [
      "100%|██████████| 2000/2000 [44:46<00:00,  1.34s/it]\n"
     ]
    }
   ],
   "source": [
    "all_pops_hom = np.array([trajetoria_homodina(dt, Npassos) for _ in tqdm(range(Ntraj))])\n",
    "media_hom = np.mean(all_pops_hom, axis=0)\n",
    "time = np.arange(Npassos)*dt"
   ]
  },
  {
   "cell_type": "markdown",
   "id": "fc16250d-c789-4926-92fd-04a1af8b4259",
   "metadata": {},
   "source": [
    "e plotamos um gráfico com os nossos resultados:"
   ]
  },
  {
   "cell_type": "code",
   "execution_count": 15,
   "id": "1976224e-659b-4112-ba5c-1dec96c671b8",
   "metadata": {},
   "outputs": [
    {
     "data": {
      "image/png": "[encoded data removed]",
      "text/plain": [
       "<Figure size 800x500 with 1 Axes>"
      ]
     },
     "metadata": {},
     "output_type": "display_data"
    }
   ],
   "source": [
    "plt.figure(figsize=(8,5))\n",
    "plt.plot(time, media_hom)\n",
    "plt.xlabel(\"Tempo\")\n",
    "plt.ylabel(r\"$\\langle \\sigma_+\\sigma_- \\rangle$\")\n",
    "plt.title(\"Fotodetecção Homódina\")\n",
    "plt.grid()\n",
    "plt.show()"
   ]
  },
  {
   "cell_type": "markdown",
   "id": "4d1746f4-74fe-43d3-9806-b2cae0ed3834",
   "metadata": {},
   "source": [
    "$\\quad$ Como podemos ver, o número de fótons detectados é muito semelhante ao do caso da fotodetecção direta, evidenciando que os dois processos simulados nada mais são do que dois métodos diferentes de se medir a mesma coisa, fornecendo assim resultados quantitativamente consistentes. Por fim, mostramos que essa comparação é realmente válida ao comparar as duas curvas plotadas anteriormente sobre um mesmo plano:"
   ]
  },
  {
   "cell_type": "code",
   "execution_count": 16,
   "id": "cbfa39b6-0654-474e-b188-feb5ac982837",
   "metadata": {},
   "outputs": [
    {
     "data": {
      "image/png": "[encoded data removed]",
      "text/plain": [
       "<Figure size 800x500 with 1 Axes>"
      ]
     },
     "metadata": {},
     "output_type": "display_data"
    }
   ],
   "source": [
    "plt.figure(figsize=(8,5))\n",
    "plt.plot(time, media_hom, label=\"Fotodetecção Homódina\")\n",
    "plt.plot(time, media_salto, label=\"Fotodetecção Direta\", ls='--')\n",
    "plt.xlabel(\"Tempo\")\n",
    "plt.ylabel(r\"$\\langle \\sigma_+\\sigma_- \\rangle$\")\n",
    "plt.title(\"Decaimento Espontâneo Condicional\")\n",
    "plt.legend()\n",
    "plt.grid()\n",
    "plt.show()"
   ]
  },
  {
   "cell_type": "markdown",
   "id": "3e135cc6-1bed-4ec7-a482-14abe4d913e5",
   "metadata": {},
   "source": [
    "$\\quad$ É evidente que o comportamento dos dois sistemas é aproximadamente o mesmo, com as disparidades podendo provavelmente ser atribuídas às flutuações estatísticas dos processos de salto (Poisson) e Wiener em cada um dos casos."
   ]
  },
  {
   "cell_type": "markdown",
   "id": "af129188-780d-4c7f-86d9-887be9dcce4f",
   "metadata": {},
   "source": [
    "## 5. Conclusões"
   ]
  },
  {
   "cell_type": "markdown",
   "id": "e3ce6e48-7ce3-4bf7-a515-2be3d3150162",
   "metadata": {},
   "source": [
    "$\\quad$ Neste `Notebook`, estudamos numericamente dois diferentes cenários de fotodetecção. Para isso, primeiro, discutimos o que são processos estocásticos e a diferença entre tais processos nos casos clássico e quântico. Depois disso, exploramos conceitualmente o problema da fotodetecção e, em particular, os métodos direto e homódino para realizar esse tipo de medição.\n",
    "\n",
    "$\\quad$ Com isso, simulamos o comportamento de sistemas atômicos e campos acoplados a campos eletromagnéticos em suas evoluções temporais estocásticas, segundo os formalismos de fotodetecção direta e homódina. Para isso, inicializamos nossos sistemas em seus estados fundamentais e realizamos uma evolução temporal determinística e uma estocástica discreta (no caso direto) ou contínua (no caso homódino). Por fim, mostramos que os resultados de ambos os métodos são consistentes, demonstrando efetivamente que ambos podem ser usados para medir a mesma coisa com precisão."
   ]
  },
  {
   "cell_type": "markdown",
   "id": "7a3bed0b-eb3f-458d-b669-57ef616ce194",
   "metadata": {},
   "source": [
    "## Referências"
   ]
  },
  {
   "cell_type": "markdown",
   "id": "f25a98fe-7701-44e9-aeeb-1fa89f1abc92",
   "metadata": {},
   "source": [
    "[1] H.-P. Breuer e F. Petruccione, The Theory of Open Quantum Systems, 1ª edição. Oxford University Press, 2002."
   ]
  }
 ],
 "metadata": {
  "kernelspec": {
   "display_name": "Python 3 (ipykernel)",
   "language": "python",
   "name": "python3"
  },
  "language_info": {
   "codemirror_mode": {
    "name": "ipython",
    "version": 3
   },
   "file_extension": ".py",
   "mimetype": "text/x-python",
   "name": "python",
   "nbconvert_exporter": "python",
   "pygments_lexer": "ipython3",
   "version": "3.12.7"
  }
 },
 "nbformat": 4,
 "nbformat_minor": 5
}
