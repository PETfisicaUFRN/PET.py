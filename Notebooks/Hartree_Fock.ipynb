{
 "cells": [
  {
   "cell_type": "markdown",
   "id": "87597d50",
   "metadata": {},
   "source": [
    "# Método de Hartree-Fock"
   ]
  },
  {
   "cell_type": "markdown",
   "id": "c9dc804c",
   "metadata": {},
   "source": [
    "* PET - Física UFRN\n",
    "* Petianos: Bruno Ramos Galindo, José Arthur de Luna Oliveira e Tiago Pernambuco Toledo de Macêdo\n",
    "* Data: "
   ]
  },
  {
   "cell_type": "code",
   "execution_count": null,
   "id": "41824b78",
   "metadata": {},
   "outputs": [],
   "source": []
  },
  {
   "cell_type": "markdown",
   "id": "433922b8",
   "metadata": {
    "tags": []
   },
   "source": [
    "## Parte José Arthur"
   ]
  },
  {
   "cell_type": "markdown",
   "id": "77615e73",
   "metadata": {},
   "source": [
    "Para continuar o desenvolvimento matemático, vamos desenvolver o operador de um elétron $\\hat{A}$ e o de dois elétrons $\\hat{B}$, os quais podem ser expressos da seguinte forma:"
   ]
  },
  {
   "cell_type": "markdown",
   "id": "55000412",
   "metadata": {},
   "source": [
    "$$\\hat{A} = \\sum\\limits_{n}\\hat{a}_n  \\ , \\tag{...}$$"
   ]
  },
  {
   "cell_type": "markdown",
   "id": "7c1df5a8",
   "metadata": {},
   "source": [
    "$$\\hat{B} = \\frac{1}{2}\\sum\\limits_{m \\neq n}^{N}\\hat{b}_{mn} \\ , \\tag{...}$$"
   ]
  },
  {
   "cell_type": "markdown",
   "id": "ba75884f",
   "metadata": {},
   "source": [
    "em que o operador $\\hat{a}$ atua apenas no n-ésimo elétron e o operador $\\hat{b}_{mn}$"
   ]
  },
  {
   "cell_type": "markdown",
   "id": "ae17ccf5",
   "metadata": {},
   "source": [
    "## Referência"
   ]
  },
  {
   "cell_type": "markdown",
   "id": "ca1d9aa9",
   "metadata": {},
   "source": [
    "**[1]** *Bartlett, Rodney, and John Stanton. Applications of Post-Hartree-Fock Methods: A Tutorial. 1994.*\n",
    "\n",
    "**[2]** *Oliveira Bastos, Carlos Maciel. Método de Hartree-Fock. 17 Nov. 2015.*"
   ]
  },
  {
   "cell_type": "code",
   "execution_count": null,
   "id": "25369996",
   "metadata": {},
   "outputs": [],
   "source": []
  }
 ],
 "metadata": {
  "kernelspec": {
   "display_name": "Python 3 (ipykernel)",
   "language": "python",
   "name": "python3"
  },
  "language_info": {
   "codemirror_mode": {
    "name": "ipython",
    "version": 3
   },
   "file_extension": ".py",
   "mimetype": "text/x-python",
   "name": "python",
   "nbconvert_exporter": "python",
   "pygments_lexer": "ipython3",
   "version": "3.11.4"
  }
 },
 "nbformat": 4,
 "nbformat_minor": 5
}
