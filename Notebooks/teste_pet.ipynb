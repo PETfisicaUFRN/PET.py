{
 "cells": [
  {
   "cell_type": "code",
   "execution_count": 46,
   "id": "790ec5b2-f1a2-4152-9f7b-717738d0e25b",
   "metadata": {},
   "outputs": [],
   "source": [
    "import numpy as np"
   ]
  },
  {
   "cell_type": "code",
   "execution_count": 51,
   "id": "f1555c60-55ff-41d6-b38f-9b2784a08cb8",
   "metadata": {},
   "outputs": [
    {
     "name": "stdout",
     "output_type": "stream",
     "text": [
      "Azul: 429.44 nm\n",
      "Verde: 478.91 nm\n",
      "Laranja: 560.17 nm\n",
      "Vermelho: 639.74 nm\n"
     ]
    }
   ],
   "source": [
    "def lambda_(d,l,L):\n",
    "    d = d*1e-3\n",
    "    l = l*1e-3\n",
    "    L = L*1e-2\n",
    "    return (d * l)/np.sqrt((L**2 + l**2))\n",
    "x = 1/600\n",
    "# Para L = 51\n",
    "lambda_1 = lambda_(d=x,l=136,L=51)\n",
    "lambda_2 = lambda_(d=x,l=153,L=51)\n",
    "lambda_3 = lambda_(d=x,l=182,L=51)\n",
    "lambda_4 = lambda_(d=x,l=212,L=51)\n",
    "print(f'Azul: {lambda_1*1e9:.2f} nm')\n",
    "print(f'Verde: {lambda_2*1e9:.2f} nm')\n",
    "print(f'Laranja: {lambda_3*1e9:.2f} nm')\n",
    "print(f'Vermelho: {lambda_4*1e9:.2f} nm')"
   ]
  },
  {
   "cell_type": "code",
   "execution_count": 52,
   "id": "847804c5-27b2-4b70-ad85-7fc22a4fe7e4",
   "metadata": {},
   "outputs": [
    {
     "name": "stdout",
     "output_type": "stream",
     "text": [
      "136\n",
      "153\n",
      "182\n",
      "212\n"
     ]
    }
   ],
   "source": [
    "# o valor de l\n",
    "print(422-286) # para o primeiro lambda em mm\n",
    "print(422-269) # para o primeiro lambda em mm\n",
    "print(422-240)\n",
    "print(422-210)"
   ]
  },
  {
   "cell_type": "code",
   "execution_count": 53,
   "id": "6fbe31fd-7435-4a95-9a04-09b9adb499e3",
   "metadata": {},
   "outputs": [
    {
     "name": "stdout",
     "output_type": "stream",
     "text": [
      "Roxo: 404.23 nm\n",
      "Verde: 500.80 nm\n",
      "Verde claro: 529.94 nm\n"
     ]
    }
   ],
   "source": [
    "lambda_1 = lambda_(d=x,l=123,L=49.2)\n",
    "lambda_2 = lambda_(d=x,l=155,L=49.2)\n",
    "lambda_3 = lambda_(d=x,l=165,L=49.2)\n",
    "print(f'Roxo: {lambda_1*1e9:.2f} nm')\n",
    "print(f'Verde: {lambda_2*1e9:.2f} nm')\n",
    "print(f'Verde claro: {lambda_3*1e9:.2f} nm')"
   ]
  },
  {
   "cell_type": "code",
   "execution_count": 54,
   "id": "798917d2-793e-4ed9-9a25-e55cbf13c893",
   "metadata": {},
   "outputs": [
    {
     "name": "stdout",
     "output_type": "stream",
     "text": [
      "123\n",
      "155\n",
      "165\n"
     ]
    }
   ],
   "source": [
    "print(707-584) # para o segundo\n",
    "print(707-552) # para o segundo\n",
    "print(707-542) # para o segundo"
   ]
  },
  {
   "cell_type": "code",
   "execution_count": null,
   "id": "afe68f91-c450-40f8-8073-963fc7ae6229",
   "metadata": {},
   "outputs": [],
   "source": []
  }
 ],
 "metadata": {
  "kernelspec": {
   "display_name": "Python 3 (ipykernel)",
   "language": "python",
   "name": "python3"
  },
  "language_info": {
   "codemirror_mode": {
    "name": "ipython",
    "version": 3
   },
   "file_extension": ".py",
   "mimetype": "text/x-python",
   "name": "python",
   "nbconvert_exporter": "python",
   "pygments_lexer": "ipython3",
   "version": "3.13.0"
  }
 },
 "nbformat": 4,
 "nbformat_minor": 5
}
