{
 "cells": [
  {
   "cell_type": "markdown",
   "id": "87597d50",
   "metadata": {},
   "source": [
    "# Método de Hartree-Fock"
   ]
  },
  {
   "cell_type": "markdown",
   "id": "c9dc804c",
   "metadata": {},
   "source": [
    "* PET - Física UFRN\n",
    "* Petianos: Bruno Ramos Galindo, José Arthur de Luna Oliveira e Tiago Pernambuco Toledo de Macêdo\n",
    "* Data: "
   ]
  },
  {
   "cell_type": "markdown",
   "id": "a2136b28",
   "metadata": {},
   "source": [
    "Este `Notebook` possui as seguinte seções:\n",
    "\n",
    "*  Introdução;\n",
    "*  Operadores;\n",
    "*  Aplicando Computacionalmente;\n",
    "*  Conclusão;\n",
    "*  Apêndice A."
   ]
  },
  {
   "cell_type": "markdown",
   "id": "2be2b886",
   "metadata": {
    "tags": []
   },
   "source": [
    "## 2. Operadores"
   ]
  },
  {
   "cell_type": "markdown",
   "id": "9f3e9701",
   "metadata": {},
   "source": [
    "Antes de desenvolver os operadores, devemos definir alguns resultados para facilitar as demonstrações das próximas seções. Estamos interessados em obter um conjunto de orbitais de spin {$\\chi_a$}, tal qual o determinante de Slater a partir desses orbitais é expresso por"
   ]
  },
  {
   "cell_type": "markdown",
   "id": "bb3f5192",
   "metadata": {},
   "source": [
    "$$\\vert \\Psi_0 \\rangle = \\vert \\chi_1 \\chi_2 ... \\chi_a\\chi_b ... \\chi_N \\rangle \\ , \\tag{2.1}$$"
   ]
  },
  {
   "cell_type": "markdown",
   "id": "17491acb",
   "metadata": {},
   "source": [
    "esse é a melhor aproximação para o estado fundamenta para um sistema de N-alétrons descrito pelo Hamiltoninano eletrônico $H$. Conhecendo o princípio variocional, devemos obter os orbitais spin que minimizam a energia eletrônica,"
   ]
  },
  {
   "cell_type": "markdown",
   "id": "65dae0fe",
   "metadata": {},
   "source": [
    "$$E_0 = \\langle \\Psi_0 \\vert H \\vert \\Psi_0 \\rangle = \\sum \\limits_a \\langle a \\vert h \\vert a \\rangle + \\frac{1}{2}\\sum \\limits_{ab} \\langle ab \\vert ab \\rangle$$"
   ]
  },
  {
   "cell_type": "markdown",
   "id": "3f47b49b",
   "metadata": {},
   "source": [
    "(Esse passo está explicitado no Apêndice A)"
   ]
  },
  {
   "cell_type": "markdown",
   "id": "7c5c51cf",
   "metadata": {},
   "source": [
    "$$E_0 = \\sum \\limits_a \\langle a \\vert h \\vert a \\rangle + \\frac{1}{2}\\sum \\limits_{ab} [aa|bb] - [ab|ba] \\tag{2.2}$$"
   ]
  },
  {
   "cell_type": "markdown",
   "id": "3a0e9ee3",
   "metadata": {},
   "source": []
  },
  {
   "cell_type": "markdown",
   "id": "83420fb5",
   "metadata": {},
   "source": []
  },
  {
   "cell_type": "markdown",
   "id": "5289f0f9",
   "metadata": {},
   "source": []
  },
  {
   "cell_type": "markdown",
   "id": "71c9a535",
   "metadata": {},
   "source": [
    "### 2.1 Operador de Coulomb"
   ]
  },
  {
   "cell_type": "markdown",
   "id": "24738fde",
   "metadata": {},
   "source": []
  },
  {
   "cell_type": "markdown",
   "id": "49e199d1",
   "metadata": {},
   "source": []
  },
  {
   "cell_type": "markdown",
   "id": "c141ddb0",
   "metadata": {},
   "source": []
  },
  {
   "cell_type": "markdown",
   "id": "1393249f",
   "metadata": {},
   "source": []
  },
  {
   "cell_type": "markdown",
   "id": "041460f1",
   "metadata": {},
   "source": []
  },
  {
   "cell_type": "markdown",
   "id": "cbbee390",
   "metadata": {},
   "source": []
  },
  {
   "cell_type": "markdown",
   "id": "02a49a23",
   "metadata": {},
   "source": []
  },
  {
   "cell_type": "markdown",
   "id": "573139d0",
   "metadata": {},
   "source": [
    "## Apêndice A"
   ]
  },
  {
   "cell_type": "markdown",
   "id": "8281d19a",
   "metadata": {},
   "source": [
    "Aqui iremos determinar dois operadores, o de um elétron $\\hat{A}$ e o de dois elétrons $\\hat{B}$."
   ]
  },
  {
   "cell_type": "markdown",
   "id": "6ae99e48",
   "metadata": {},
   "source": [
    "### Operador $Â$"
   ]
  },
  {
   "cell_type": "markdown",
   "id": "5d183e49",
   "metadata": {},
   "source": [
    "O operador $\\hat{A}$ pode ser expresso por, "
   ]
  },
  {
   "cell_type": "markdown",
   "id": "b740229b",
   "metadata": {},
   "source": [
    "$$\\hat{A} = \\sum \\limits_n \\hat{a}_n \\tag{1}$$"
   ]
  },
  {
   "cell_type": "markdown",
   "id": "5c2de270",
   "metadata": {},
   "source": [
    "em que o operador $\\hat{a}_n$ atua apenas no n-ésimo elétron. Assim, o valor esperado do operador $\\hat{A}$ é dado por"
   ]
  },
  {
   "cell_type": "markdown",
   "id": "341f393d",
   "metadata": {},
   "source": [
    "$$\\langle \\Psi \\vert \\hat{A} \\vert \\Psi \\rangle = \\langle \\chi_1\\chi_2 ... \\chi_N \\vert \\sum \\limits_n \\hat{a}_n \\vert \\chi_1\\chi_2 ... \\chi_N \\rangle$$"
   ]
  },
  {
   "cell_type": "markdown",
   "id": "ab5ff5df",
   "metadata": {},
   "source": [
    "$$\\implies \\langle \\Psi \\vert \\hat{A} \\vert \\Psi \\rangle = \\sum \\limits_n \\langle \\chi_1\\chi_2 ... \\chi_N \\vert \\hat{a}_n \\vert \\chi_1\\chi_2 ... \\chi_N \\rangle $$"
   ]
  },
  {
   "cell_type": "markdown",
   "id": "92eca9e1",
   "metadata": {},
   "source": [
    "lembrando que o operador $\\hat{a}_n$ só atua na n-ésima função de onda, então"
   ]
  },
  {
   "cell_type": "markdown",
   "id": "8c72f473",
   "metadata": {},
   "source": [
    "$$\\implies \\langle \\Psi \\vert \\hat{A} \\vert \\Psi \\rangle = \\sum \\limits_n \\langle \\chi_{n} \\vert \\hat{a}_n \\vert \\chi_n \\rangle \\langle \\chi_1 \\vert \\chi_1 \\rangle \\langle \\chi_2 \\vert \\chi_2 \\rangle ... \\langle \\chi_N \\vert \\chi_N \\rangle$$"
   ]
  },
  {
   "cell_type": "markdown",
   "id": "1823be88",
   "metadata": {},
   "source": [
    "dado que os orbitais são ortonormais, então $\\langle \\chi_i \\vert \\chi_j \\rangle = \\delta_{ij}$. Logo, temos que"
   ]
  },
  {
   "cell_type": "markdown",
   "id": "d58c09f8",
   "metadata": {},
   "source": [
    "$$\\implies \\langle \\Psi \\vert \\hat{A} \\vert \\Psi \\rangle = \\sum \\limits_n \\langle \\chi_{n} \\vert \\hat{a}_n \\vert \\chi_n \\rangle \\delta_{11}\\delta_{22}...\\delta_{NN}$$"
   ]
  },
  {
   "cell_type": "markdown",
   "id": "a7388fbf",
   "metadata": {},
   "source": [
    "$$ \\therefore \\boxed{ \\langle \\Psi \\vert \\hat{A} \\vert \\Psi \\rangle = \\sum \\limits_n \\langle \\chi_{n} \\vert \\hat{a}_n \\vert \\chi_n \\rangle }$$"
   ]
  },
  {
   "cell_type": "markdown",
   "id": "3d37ab90",
   "metadata": {},
   "source": [
    "### Operador $\\hat{B}$"
   ]
  },
  {
   "cell_type": "code",
   "execution_count": null,
   "id": "7caf5030",
   "metadata": {},
   "outputs": [],
   "source": []
  },
  {
   "cell_type": "code",
   "execution_count": null,
   "id": "21ea244b",
   "metadata": {},
   "outputs": [],
   "source": []
  },
  {
   "cell_type": "code",
   "execution_count": null,
   "id": "db0de6aa",
   "metadata": {},
   "outputs": [],
   "source": []
  },
  {
   "cell_type": "code",
   "execution_count": null,
   "id": "3fa18175",
   "metadata": {},
   "outputs": [],
   "source": []
  },
  {
   "cell_type": "code",
   "execution_count": null,
   "id": "e9931d30",
   "metadata": {},
   "outputs": [],
   "source": []
  },
  {
   "cell_type": "code",
   "execution_count": null,
   "id": "e6ecb7de",
   "metadata": {},
   "outputs": [],
   "source": []
  },
  {
   "cell_type": "markdown",
   "id": "bf73dcd6",
   "metadata": {},
   "source": [
    "## Referência"
   ]
  },
  {
   "cell_type": "markdown",
   "id": "c30bfaf9",
   "metadata": {},
   "source": [
    "**[1]** *Szabo, Attila, and Neil S. Ostlund. Modern Quantum Chemistry. Dover Publications, 2 July 1996.*\n",
    "\n",
    "**[2]** *Oliveira Bastos, Carlos Maciel. Método de Hartree-Fock. 17 Nov. 2015.*"
   ]
  },
  {
   "cell_type": "code",
   "execution_count": null,
   "id": "df88d666",
   "metadata": {},
   "outputs": [],
   "source": []
  }
 ],
 "metadata": {
  "kernelspec": {
   "display_name": "Python 3 (ipykernel)",
   "language": "python",
   "name": "python3"
  },
  "language_info": {
   "codemirror_mode": {
    "name": "ipython",
    "version": 3
   },
   "file_extension": ".py",
   "mimetype": "text/x-python",
   "name": "python",
   "nbconvert_exporter": "python",
   "pygments_lexer": "ipython3",
   "version": "3.11.4"
  }
 },
 "nbformat": 4,
 "nbformat_minor": 5
}
