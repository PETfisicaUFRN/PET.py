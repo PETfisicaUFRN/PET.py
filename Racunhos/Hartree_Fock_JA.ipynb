{
 "cells": [
  {
   "cell_type": "markdown",
   "id": "87597d50",
   "metadata": {},
   "source": [
    "# Método de Hartree-Fock"
   ]
  },
  {
   "cell_type": "markdown",
   "id": "c9dc804c",
   "metadata": {},
   "source": [
    "* PET - Física UFRN\n",
    "* Petianos: Bruno Ramos Galindo, José Arthur de Luna Oliveira e Tiago Pernambuco Toledo de Macêdo\n",
    "* Data: "
   ]
  },
  {
   "cell_type": "markdown",
   "id": "c5bca1cd",
   "metadata": {},
   "source": [
    "Este `Notebook` possui as seguinte seções:\n",
    "\n",
    "*  Introdução;\n",
    "*  Operadores;\n",
    "*  Aplicando Computacionalmente;\n",
    "*  Conclusão;\n",
    "*  Apêndice A."
   ]
  },
  {
   "cell_type": "markdown",
   "id": "2be2b886",
   "metadata": {
    "tags": []
   },
   "source": [
    "## 2. Operadores"
   ]
  },
  {
   "cell_type": "markdown",
   "id": "5bf0699a",
   "metadata": {},
   "source": [
    "Antes de desenvolver os operadores, devemos definir alguns resultados para facilitar as demonstrações das próximas seções. Estamos interessados em obter um conjunto de orbitais de spin {$\\chi_a$}, tal qual o determinante de Slater a partir desses orbitais é expresso por"
   ]
  },
  {
   "cell_type": "markdown",
   "id": "0b2cf9c4",
   "metadata": {},
   "source": [
    "$$\\vert \\Psi_0 \\rangle = \\vert \\chi_1 \\chi_2 ... \\chi_a\\chi_b ... \\chi_N \\rangle \\ , \\tag{2.1}$$"
   ]
  },
  {
   "cell_type": "markdown",
   "id": "296205bb",
   "metadata": {},
   "source": [
    "esse é a melhor aproximação para o estado fundamenta para um sistema de N-alétrons descrito pelo Hamiltoninano eletrônico $H$. Conhecendo o princípio variocional, devemos obter os orbitais spin que minimizam a energia eletrônica,"
   ]
  },
  {
   "cell_type": "markdown",
   "id": "c0f970b2",
   "metadata": {},
   "source": [
    "$$E_0 = \\langle \\Psi_0 \\vert H \\vert \\Psi_0 \\rangle = \\sum \\limits_a \\langle a \\vert h \\vert a \\rangle + \\frac{1}{2}\\sum \\limits_{ab} \\left( \\langle ab \\vert \\vert ab \\rangle \\right)$$"
   ]
  },
  {
   "cell_type": "markdown",
   "id": "f867654f",
   "metadata": {},
   "source": [
    "em que $h$ é o hamiltoniano para um elétron específico (o resultado acima está demonstrada no *Apêndice A*)."
   ]
  },
  {
   "cell_type": "markdown",
   "id": "e22fe4e8",
   "metadata": {},
   "source": [
    "$$E_0 = \\sum \\limits_a ^N \\langle a \\vert h \\vert a \\rangle + \\frac{1}{2}\\sum \\limits_{a, \\ b}^N (\\langle ab|ab \\rangle- \\langle ab|ba\\rangle) \\tag{2.2}$$"
   ]
  },
  {
   "cell_type": "markdown",
   "id": "f7a16694",
   "metadata": {},
   "source": [
    "Variando os orbitais de spin {Xa} até que a energia $E_0$ seja mínima. Após isso, é obtido uma equação que define os melhores orbitais de spin, aqueles que minimizam $E_0$, esta equação é a equação integro-diferencial de Hartree-Fock"
   ]
  },
  {
   "cell_type": "markdown",
   "id": "e8e53dc5",
   "metadata": {},
   "source": [
    "$$h(1)\\chi_a(1) + \\sum\\limits_{b \\neq a} \\left[ \\int dx_2 |\\chi_b(2)|^2 r_{12}^{-1} \\right]\\chi_a(1) - \\sum\\limits_{b\\neq a} \\left[ \\int dx_2 \\chi_b^*(2)\\chi_a(2) r_{12}^{-1} \\right]\\chi_b(1) = \\epsilon_a\\chi_a(1) \\tag{2.3}$$"
   ]
  },
  {
   "cell_type": "markdown",
   "id": "7d8efca6",
   "metadata": {},
   "source": [
    "em que $\\epsilon_a$ é a energia do spin orbital $\\chi_a$ e"
   ]
  },
  {
   "cell_type": "markdown",
   "id": "6ff1f113",
   "metadata": {},
   "source": [
    "$$h(1) = -\\frac{1}{2}\\nabla_1^2 -\\sum\\limits_A \\frac{Z_A}{r_{1A}} \\tag{2.4}$$"
   ]
  },
  {
   "cell_type": "markdown",
   "id": "26ad1ac3",
   "metadata": {},
   "source": [
    "tal termo é a energia cinética e potencial da atração nuclear, em que o índice $1$ representa o elétron escolhido."
   ]
  },
  {
   "cell_type": "markdown",
   "id": "979700bd",
   "metadata": {},
   "source": [
    "### 2.1 Operador de Coulomb"
   ]
  },
  {
   "cell_type": "markdown",
   "id": "24738fde",
   "metadata": {},
   "source": [
    "Note que na Equação **(2.3)** os termos com somatório estão com o fator de interação elétron-elétron. Se tirarmos esses termos,"
   ]
  },
  {
   "cell_type": "markdown",
   "id": "49e199d1",
   "metadata": {},
   "source": [
    "$$h(1)\\chi_a(1) = \\epsilon_a\\chi_a(1) \\tag{2.5}$$"
   ]
  },
  {
   "cell_type": "markdown",
   "id": "c141ddb0",
   "metadata": {},
   "source": [
    "sobrando apenas uma equação de Schrödinger de um elétron para os estados spins obitais de um único elétron no campo de núcleo. O primeiro termo de dois elétrons ($r_{12}^{-1}$) na Equação **(2.3)** é a o termo de Coulomb, já o segundo é o termo de troca, que surge devido à natureza antissimétrica da função de onda determinante.\n",
    "\n",
    "A interação coulombiana é representada pelo operador de dois elétrons $r_{ij}^{-1}$. Na interação Hartree-Fock mostra que o elétron um em $\\chi_a$ sente o potencial de coulombiano de um elétron, definido como"
   ]
  },
  {
   "cell_type": "markdown",
   "id": "1393249f",
   "metadata": {},
   "source": [
    "$$v_{a}^{coul}(1) = \\sum\\limits_{b \\neq a} \\int dx_2 |\\chi_b(2)|^2 r_{12}^{-1} \\tag{2.6}$$"
   ]
  },
  {
   "cell_type": "markdown",
   "id": "8b159269",
   "metadata": {},
   "source": []
  },
  {
   "cell_type": "markdown",
   "id": "6975c2fc",
   "metadata": {},
   "source": []
  },
  {
   "cell_type": "markdown",
   "id": "fffc1938",
   "metadata": {},
   "source": []
  },
  {
   "cell_type": "markdown",
   "id": "aece3852",
   "metadata": {},
   "source": [
    "## Apêndice A"
   ]
  },
  {
   "cell_type": "markdown",
   "id": "ef1e98b9",
   "metadata": {},
   "source": [
    "Aqui iremos determinar dois operadores, o de um elétron $O_1$ e o de dois elétrons $O_2$. Vale ressaltar que precisaremos usar o determinante de Slater na forma de somatório, também vale rassaltar que esse desenvolvimento está descrito na referência **[2]**."
   ]
  },
  {
   "cell_type": "markdown",
   "id": "55d6a183",
   "metadata": {},
   "source": [
    "### Operador $O_1$"
   ]
  },
  {
   "cell_type": "markdown",
   "id": "3d4aafea",
   "metadata": {},
   "source": [
    "O operador $O_1$ pode ser expresso por,"
   ]
  },
  {
   "cell_type": "markdown",
   "id": "c8a9ccce",
   "metadata": {},
   "source": [
    "$$O_1 = \\sum \\limits_{n=1} ^N h(n)$$"
   ]
  },
  {
   "cell_type": "markdown",
   "id": "1ed41f9e",
   "metadata": {},
   "source": [
    "em que o operador $h(n)$ atua apenas no n-ésimo elétron. Assim, o valor esperado do operador $O_1$ é dado por"
   ]
  },
  {
   "cell_type": "markdown",
   "id": "b1e97d69",
   "metadata": {},
   "source": [
    "$$\\langle \\Psi \\vert O_1 \\vert \\Psi \\rangle =\\frac{1}{N!} \\langle \\sum\\limits_{i=1}^{N!} (-1)^{p_i}\\chi_{i_1}\\chi_{i_2} ... \\chi_{i_N} \\vert \\sum \\limits_n h(n) \\vert\\sum\\limits_{j=1}^{N!}(-1)^{p_j}\\chi_{j_1}\\chi_{j_2} ... \\chi_{j_N} \\rangle$$"
   ]
  },
  {
   "cell_type": "markdown",
   "id": "9c43d8ed",
   "metadata": {},
   "source": [
    "$$\\implies \\langle \\Psi \\vert O_1 \\vert \\Psi \\rangle = \\sum \\limits_n \\frac{1}{N!} \\langle \\sum\\limits_{i=1}^{N!} (-1)^{p_i}\\chi_{i-1}\\chi_{i_2} ... \\chi_{i_N} \\vert h(n) \\vert\\sum\\limits_{j=1}^{N!}(-1)^{p_j}\\chi_{j_1}\\chi_{j_2} ... \\chi_{j_N} \\rangle$$"
   ]
  },
  {
   "cell_type": "markdown",
   "id": "b214ddef",
   "metadata": {},
   "source": [
    "lembrando que o operador $h(n)$ só atua na n-ésima função de onda, então expandindo o somatório teremos"
   ]
  },
  {
   "cell_type": "markdown",
   "id": "3865d402",
   "metadata": {},
   "source": [
    "$$\\langle \\Psi \\vert O_1 \\vert \\Psi \\rangle = \\frac{1}{N!}\\sum \\limits_n \\sum\\limits_{i=1}^{N!}\\sum\\limits_{j=1}^{N!} (-1)^{p_i+p_j}\\langle \\chi_{i_1} \\vert \\chi_{j_1} \\rangle \\langle \\chi_{i_2} \\vert \\chi_{j_2}\\rangle ... \\langle \\chi_{i_n} \\vert h(n) \\vert \\chi_{j_n} \\rangle ... \\langle \\chi_{i_N} \\vert \\chi_{j_N} \\rangle$$"
   ]
  },
  {
   "cell_type": "markdown",
   "id": "3dad007f",
   "metadata": {},
   "source": [
    "dado que os orbitais são ortonormais, então $\\langle \\chi_i \\vert \\chi_j \\rangle = \\delta_{ij}$. logo, temos que"
   ]
  },
  {
   "cell_type": "markdown",
   "id": "649a7364",
   "metadata": {},
   "source": [
    "$$\\langle \\Psi \\vert O_1 \\vert \\Psi \\rangle = \\frac{1}{N!}\\sum \\limits_n \\sum\\limits_{i=1}^{N!}\\sum\\limits_{j=1}^{N!} (-1)^{p_i+p_j} \\langle \\chi_{i_n} \\vert h(n) \\vert \\chi_{j_n} \\rangle \\delta_{i_1 j_1}\\delta_{i_2 j_2}...\\delta_{i_N j_N}$$"
   ]
  },
  {
   "cell_type": "markdown",
   "id": "cd9155a6",
   "metadata": {},
   "source": [
    "Conseguinte, os somatórios em $i$ e em $j$ somem, como $\\delta_{ij} = 0$ para $i\\neq j$, assim só devemos considerar o caso em que $i=j$, com isso o valor esperado ficará da seguinte forma "
   ]
  },
  {
   "cell_type": "markdown",
   "id": "72504571",
   "metadata": {},
   "source": [
    "$$\\langle \\Psi \\vert O_1 \\vert \\Psi \\rangle = \\frac{1}{N!}\\sum \\limits_n \\sum\\limits_{i=1}^{N!}(-1)^{2 p_i} \\langle \\chi_{i_n} \\vert h(n) \\vert \\chi_{i_n} \\rangle = \\frac{1}{N!}\\sum \\limits_n \\sum\\limits_{i=1}^{N!} \\langle \\chi_{i_n} \\vert h(n) \\vert \\chi_{i_n} \\rangle$$"
   ]
  },
  {
   "cell_type": "markdown",
   "id": "ff762e71",
   "metadata": {},
   "source": [
    "Note que os termos do somatório $n$ são sempre iguais, então podemos trocar o somatório por um fator $N$,"
   ]
  },
  {
   "cell_type": "markdown",
   "id": "d736195f",
   "metadata": {},
   "source": [
    "$$\\langle \\Psi \\vert O_1 \\vert \\Psi \\rangle = \\frac{N}{N!}\\sum\\limits_{i=1}^{N!} \\langle \\chi_{i_n} \\vert h(n) \\vert \\chi_{i_n} \\rangle$$"
   ]
  },
  {
   "cell_type": "markdown",
   "id": "3eef1e90",
   "metadata": {},
   "source": [
    "Considerando o elemento $i_n$, todos os outros elementos ($i_1 \\ , i_2 \\ , ... \\ , i_{n-1} \\ , i_{i+n} \\ , ... \\ , i_N$) podem ser escolhidos livremente e contribuem igualmente para os elementos da matriz. Portanto, podemos trocar o somatório em $i$ por um em $i_n$ e multiplicando pelo número de combinações desses elementos, que é $(N - 1)!$, assim"
   ]
  },
  {
   "cell_type": "markdown",
   "id": "c20b5f2e",
   "metadata": {},
   "source": [
    "$$\\langle \\Psi \\vert O_1 \\vert \\Psi \\rangle = \\frac{N}{N!}(N-1)!\\sum\\limits_{i_n=1}^{N} \\langle \\chi_{i_n} \\vert h(n) \\vert \\chi_{i_n} \\rangle = \\frac{N!}{N!}\\sum\\limits_{i_n=1}^{N} \\langle \\chi_{i_n} \\vert h(n) \\vert \\chi_{i_n} \\rangle = \\sum\\limits_{i_n=1}^{N} \\langle \\chi_{i_n} \\vert h(n) \\vert \\chi_{i_n} \\rangle$$"
   ]
  },
  {
   "cell_type": "markdown",
   "id": "34eb365e",
   "metadata": {},
   "source": [
    "Reindexando, $i_n$ por $i$, temos"
   ]
  },
  {
   "cell_type": "markdown",
   "id": "3747d478",
   "metadata": {},
   "source": [
    "$$ \\therefore \\boxed{ \\langle \\Psi \\vert O_1 \\vert \\Psi \\rangle = \\sum \\limits_{i=1}^N \\langle \\chi_{i} \\vert h \\vert \\chi_i \\rangle } \\tag{1}$$"
   ]
  },
  {
   "cell_type": "markdown",
   "id": "3f8a26e9",
   "metadata": {},
   "source": [
    "### Operador $O_2$"
   ]
  },
  {
   "cell_type": "markdown",
   "id": "8e7756da",
   "metadata": {},
   "source": [
    "Vamos desenvolver o operador de dois elétrons $O_2$, cujo é expresso da seguinte forma"
   ]
  },
  {
   "cell_type": "markdown",
   "id": "16ba962f",
   "metadata": {},
   "source": [
    "$$O_2 = \\sum \\limits_{m\\neq n}^N r_{mn}^{-1} \\ , $$"
   ]
  },
  {
   "cell_type": "markdown",
   "id": "8065eb75",
   "metadata": {},
   "source": [
    "análogamente ao oparador $h(n)$, o termo $r_{mn}$ é referente a interação de repulsão Coulombiana entre o m-ésimo e n-ésimo elétrons. Assim, determinando o seu valor esperado, temos"
   ]
  },
  {
   "cell_type": "markdown",
   "id": "fcf410fa",
   "metadata": {},
   "source": [
    "$$\\langle \\Psi \\vert O_2 \\vert \\Psi \\rangle = \\frac{1}{N!}\\langle \\sum\\limits_{i=1}^{N!} (-1)^{p_i} \\chi_{i_1}\\chi_{i_2} ... \\chi_{i_N} \\vert \\sum \\limits_{m \\neq n}^N r_{mn}^{-1} \\vert \\sum\\limits_{j=1}^{N!} (-1)^{p_j}\\chi_{j_1}\\chi_{j_2} ... \\chi_{j_N} \\rangle$$"
   ]
  },
  {
   "cell_type": "markdown",
   "id": "a21b0414",
   "metadata": {},
   "source": [
    "$$\\implies \\langle \\Psi \\vert O_2 \\vert \\Psi \\rangle = \\frac{1}{N!}\\sum \\limits_{m \\neq n}^N\\sum\\limits_{i=1}^{N!} \\sum\\limits_{j=1}^{N!} (-1)^{p_i+p_j}\\langle \\chi_{i_1}\\chi_{i_2} ... \\chi_{i_N} \\vert r_{mn}^{-1} \\vert \\chi_{j_1}\\chi_{j_2} ... \\chi_{j_N} \\rangle$$"
   ]
  },
  {
   "cell_type": "markdown",
   "id": "3d7961c8",
   "metadata": {},
   "source": [
    "Como $\\hat{b}_{mn}$ interage apenas com os orbitais m e n, então"
   ]
  },
  {
   "cell_type": "markdown",
   "id": "49add5ba",
   "metadata": {},
   "source": [
    "$$\\langle \\Psi \\vert O_2 \\vert \\Psi \\rangle =  \\frac{1}{N!}\\sum \\limits_{m \\neq n}^N\\sum\\limits_{i=1}^{N!} \\sum\\limits_{j=1}^{N!} (-1)^{p_i+p_j} \\langle \\chi_{i_1} \\vert \\chi_{j_1} \\rangle \\langle \\chi_{i_2} \\vert \\chi_{j_2} \\rangle ... \\langle \\chi_{i_m} \\chi_{i_n} \\vert r_{mn}^{-1} \\vert \\chi_{j_m} \\chi_{j_n} \\rangle ... \\langle \\chi_{i_N} \\vert \\chi_{j_N} \\rangle$$"
   ]
  },
  {
   "cell_type": "markdown",
   "id": "fee696c9",
   "metadata": {},
   "source": [
    "$$\\implies \\langle \\Psi \\vert O_2 \\vert \\Psi \\rangle =  \\frac{1}{N!}\\sum \\limits_{m \\neq n}^N\\sum\\limits_{i=1}^{N!} \\sum\\limits_{j=1}^{N!} (-1)^{p_i+p_j}  \\langle \\chi_{i_m} \\chi_{i_n} \\vert r_{mn}^{-1} \\vert \\chi_{j_m} \\chi_{j_n} \\rangle \\delta_{i_1 j_1} \\delta_{i_2 j_2}...\\delta_{i_N j_N} $$"
   ]
  },
  {
   "cell_type": "markdown",
   "id": "4c6407c1",
   "metadata": {},
   "source": [
    "Note aqui que todo esse desenvolvimento é análogo ao que fizemos com o valor esperado do operador $O_1$. Porém, nesse caso há duas possibilidades, $ (\\chi_{i_m}, \\ \\chi_{i_n}) = (\\chi_{j_m}, \\ \\chi_{j_n})$ e $(\\chi_{i_m}, \\ \\chi_{i_n})  = (\\chi_{j_n}, \\ \\chi_{j_m})$, o primeiro caso tem como consequência $p_i = p_j$, já o segundo $p_i = p_j \\pm 1$. Em seguida, o somatório em $j$ some, devido aos deltas, mas ainda sim respeitando as possibilidades de $p_i$ e $p_j$. Logo, temos"
   ]
  },
  {
   "cell_type": "markdown",
   "id": "a7346bfb",
   "metadata": {},
   "source": [
    "$$\\langle \\Psi \\vert O_2 \\vert \\Psi \\rangle = \\frac{1}{N!}\\sum \\limits_{m \\neq n}^N \\sum\\limits_{i=1}^{N!}\\left( (-1)^{2 p_i}\\langle \\chi_{i_m} \\chi_{i_n} \\vert r_{mn}^{-1} \\vert \\chi_{i_m} \\chi_{i_n} \\rangle + (-1)^{2 p_i \\mp 1} \\langle \\chi_{i_m} \\chi_{i_n} \\vert r_{mn}^{-1} \\vert \\chi_{i_n} \\chi_{i_m} \\rangle\\right) $$"
   ]
  },
  {
   "cell_type": "markdown",
   "id": "81469bde",
   "metadata": {},
   "source": [
    "$$\\implies \\langle \\Psi \\vert O_2 \\vert \\Psi \\rangle = \\frac{1}{N!}\\sum \\limits_{m \\neq n}^N \\sum\\limits_{i=1}^{N!}\\left(\\langle \\chi_{i_m} \\chi_{i_n} \\vert r_{mn}^{-1} \\vert \\chi_{i_m} \\chi_{i_n} \\rangle - \\langle \\chi_{i_m} \\chi_{i_n} \\vert r_{mn}^{-1} \\vert \\chi_{i_n} \\chi_{i_m} \\rangle\\right) $$"
   ]
  },
  {
   "cell_type": "markdown",
   "id": "b317dbea",
   "metadata": {},
   "source": [
    "Análogo ao que foi feito com o operador $O_1$, podemos substituir o somatório de $(m, \\ n)$ em termos da análise combinatória dos pares $(m, \\ n)$, para isso basta usar a combinação simples, que resulta em $C_{N,2} = \\frac{N!}{2(N-2)!} = \\frac{N(N-1)}{2}$. Já o somatório em $i$, elétrons $m$ e $n$ ocuparão quaisquer dois diferentes orbitais $\\chi_m$ e $\\chi_n$ do conjunto de N spin orbitais. Assim, para cada escolha de dois spins orbitais haverá $(N-2)!$ formas de permutar os outros $N-2$ elétrons no $N-2$ orbitais restantes. Conseguinte, podemos trocar esse somatório por um somatório em $(i_m, \\ i_n)$ surgindo um fator $(N-2)!$. Logo,"
   ]
  },
  {
   "cell_type": "markdown",
   "id": "e302b717",
   "metadata": {},
   "source": [
    "$$\\langle \\Psi \\vert O_2 \\vert \\Psi \\rangle = \\frac{1}{2}\\frac{1}{N!}N(N-1)(N-2)!\\sum \\limits_{i_m \\neq i_n}^N \\left(\\langle \\chi_{i_m} \\chi_{i_n} \\vert r_{mn}^{-1} \\vert \\chi_{i_m} \\chi_{i_n} \\rangle - \\langle \\chi_{i_m} \\chi_{i_n} \\vert r_{mn}^{-1} \\vert \\chi_{i_n} \\chi_{i_m} \\rangle\\right)$$"
   ]
  },
  {
   "cell_type": "markdown",
   "id": "d0ad9366",
   "metadata": {},
   "source": [
    "$$\\implies \\langle \\Psi \\vert O_2 \\vert \\Psi \\rangle = \\frac{1}{2}\\frac{N!}{N!}\\sum \\limits_{i_m \\neq i_n}^N \\left(\\langle \\chi_{i_m} \\chi_{i_n} \\vert r_{mn}^{-1} \\vert \\chi_{i_m} \\chi_{i_n} \\rangle - \\langle \\chi_{i_m} \\chi_{i_n} \\vert r_{mn}^{-1} \\vert \\chi_{i_n} \\chi_{i_m} \\rangle\\right)$$"
   ]
  },
  {
   "cell_type": "markdown",
   "id": "17fb5f39",
   "metadata": {},
   "source": [
    "$$\\implies \\langle \\Psi \\vert O_2 \\vert \\Psi \\rangle = \\frac{1}{2}\\sum \\limits_{i_m \\neq i_n}^N \\left(\\langle \\chi_{i_m} \\chi_{i_n} \\vert r_{mn}^{-1} \\vert \\chi_{i_m} \\chi_{i_n} \\rangle - \\langle \\chi_{i_m} \\chi_{i_n} \\vert r_{mn}^{-1} \\vert \\chi_{i_n} \\chi_{i_m} \\rangle\\right)$$"
   ]
  },
  {
   "cell_type": "markdown",
   "id": "6ce4d0e9",
   "metadata": {},
   "source": [
    "reindexando os índices $i_m$ e $i_n$ por $i$ e $j$, respetivamente."
   ]
  },
  {
   "cell_type": "markdown",
   "id": "64b94c95",
   "metadata": {},
   "source": [
    "$$\\langle \\Psi \\vert O_2 \\vert \\Psi \\rangle = \\frac{1}{2}\\sum \\limits_{i \\neq j}^N \\left(\\langle \\chi_{i} \\chi_{j} \\vert r_{mn}^{-1} \\vert \\chi_{i} \\chi_{j} \\rangle - \\langle \\chi_{i} \\chi_{j} \\vert r_{mn}^{-1} \\vert \\chi_{j} \\chi_{i} \\rangle\\right)$$"
   ]
  },
  {
   "cell_type": "markdown",
   "id": "bc667927",
   "metadata": {},
   "source": [
    "Note que se $i=j$ o termo se anula, assim como não fará diferença no resultado final, então podemos tirar a restrição do somatório de $i\\neq j$. Logo,"
   ]
  },
  {
   "cell_type": "markdown",
   "id": "a9509e09",
   "metadata": {},
   "source": [
    "$$\\therefore \\boxed{\\langle \\Psi \\vert O_2 \\vert \\Psi \\rangle = \\frac{1}{2}\\sum \\limits_{i, \\ j}^N \\left(\\langle \\chi_{i} \\chi_{j} \\vert r_{mn}^{-1} \\vert \\chi_{i} \\chi_{j} \\rangle - \\langle \\chi_{i} \\chi_{j} \\vert r_{mn}^{-1} \\vert \\chi_{j} \\chi_{i} \\rangle\\right)} \\tag{2}$$"
   ]
  },
  {
   "cell_type": "markdown",
   "id": "960914f2",
   "metadata": {},
   "source": [
    "### Hamiltoniano"
   ]
  },
  {
   "cell_type": "markdown",
   "id": "5eef4d67",
   "metadata": {},
   "source": [
    "Assim, com as equações **(1)** e **(2)** podemos finalmente agora determinar o valor esperado do Hamiltoniano, que tal resultado é a energia total, se for conhecido os orbitais. Sabendo que o Hamiltoniano é definido como $\\hat{H} = O_1 + O_2$, então"
   ]
  },
  {
   "cell_type": "markdown",
   "id": "22e71495",
   "metadata": {},
   "source": [
    "$$\\langle \\Psi \\vert \\hat{H} \\vert \\Psi \\rangle = \\langle \\Psi \\vert O_1 \\vert \\Psi \\rangle + \\langle \\Psi \\vert O_2 \\vert \\Psi \\rangle$$"
   ]
  },
  {
   "cell_type": "markdown",
   "id": "6548e1e5",
   "metadata": {},
   "source": [
    "$$ \\implies\\langle \\Psi \\vert \\hat{H} \\vert \\Psi \\rangle = \\sum \\limits_{i=1}^N \\langle \\chi_{i} \\vert h \\vert \\chi_i \\rangle + \\frac{1}{2}\\sum \\limits_{i, \\ j}^N \\left(\\langle \\chi_{i} \\chi_{j} \\vert r_{mn}^{-1}\\vert \\chi_{i} \\chi_{j} \\rangle - \\langle \\chi_{i} \\chi_{j} \\vert r_{mn}^{-1} \\vert \\chi_{j} \\chi_{i} \\rangle\\right)$$"
   ]
  },
  {
   "cell_type": "markdown",
   "id": "4285d169",
   "metadata": {},
   "source": [
    "Para simplicar as equações vamos considerar que $\\langle \\chi_i \\vert = \\langle i \\vert$ e $\\langle \\chi_i \\chi_j \\vert r_{mn}^{-1} \\vert \\chi_j \\chi_i \\rangle = \\langle i j \\vert j i \\rangle$, assim"
   ]
  },
  {
   "cell_type": "markdown",
   "id": "70e274ac",
   "metadata": {},
   "source": [
    "$$\\therefore \\boxed{\\langle \\Psi \\vert \\hat{H} \\vert \\Psi \\rangle = \\sum \\limits_{i=1}^N \\langle i \\vert h \\vert i \\rangle + \\frac{1}{2}\\sum \\limits_{i, \\ j}^N \\left(\\langle i j \\vert i j \\rangle - \\langle i j \\vert j i \\rangle\\right)}$$"
   ]
  },
  {
   "cell_type": "markdown",
   "id": "bf73dcd6",
   "metadata": {},
   "source": [
    "## Referência"
   ]
  },
  {
   "cell_type": "markdown",
   "id": "c30bfaf9",
   "metadata": {},
   "source": [
    "**[1]** *Szabo, Attila, and Neil S. Ostlund. Modern Quantum Chemistry. Dover Publications, 2 July 1996.*\n",
    "\n",
    "**[2]** *Oliveira Bastos, Carlos Maciel. Método de Hartree-Fock. 17 Nov. 2015.*"
   ]
  }
 ],
 "metadata": {
  "kernelspec": {
   "display_name": "Python 3 (ipykernel)",
   "language": "python",
   "name": "python3"
  },
  "language_info": {
   "codemirror_mode": {
    "name": "ipython",
    "version": 3
   },
   "file_extension": ".py",
   "mimetype": "text/x-python",
   "name": "python",
   "nbconvert_exporter": "python",
   "pygments_lexer": "ipython3",
   "version": "3.11.4"
  }
 },
 "nbformat": 4,
 "nbformat_minor": 5
}
