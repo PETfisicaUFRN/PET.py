{
 "cells": [
  {
   "cell_type": "markdown",
   "id": "87597d50",
   "metadata": {},
   "source": [
    "# Método de Hartree-Fock"
   ]
  },
  {
   "cell_type": "markdown",
   "id": "c9dc804c",
   "metadata": {},
   "source": [
    "* PET - Física UFRN\n",
    "* Petianos: Bruno Ramos Galindo, José Arthur de Luna Oliveira e Tiago Pernambuco Toledo de Macêdo\n",
    "* Data: "
   ]
  },
  {
   "cell_type": "markdown",
   "id": "c5bca1cd",
   "metadata": {},
   "source": [
    "Este `Notebook` possui as seguinte seções:\n",
    "\n",
    "*  Introdução;\n",
    "*  Operadores;\n",
    "*  Aplicando Computacionalmente;\n",
    "*  Conclusão;\n",
    "*  Apêndice A."
   ]
  },
  {
   "cell_type": "markdown",
   "id": "2be2b886",
   "metadata": {
    "tags": []
   },
   "source": [
    "## 2. Operadores"
   ]
  },
  {
   "cell_type": "markdown",
   "id": "5bf0699a",
   "metadata": {},
   "source": [
    "Antes de desenvolver os operadores, devemos definir alguns resultados para facilitar as demonstrações das próximas seções. Estamos interessados em obter um conjunto de orbitais de spin {$\\chi_a$}, tal qual o determinante de Slater a partir desses orbitais é expresso por"
   ]
  },
  {
   "cell_type": "markdown",
   "id": "0b2cf9c4",
   "metadata": {},
   "source": [
    "$$\\vert \\Psi_0 \\rangle = \\vert \\chi_1 \\chi_2 ... \\chi_a\\chi_b ... \\chi_N \\rangle \\ , \\tag{2.1}$$"
   ]
  },
  {
   "cell_type": "markdown",
   "id": "296205bb",
   "metadata": {},
   "source": [
    "esse é a melhor aproximação para o estado fundamenta para um sistema de N-alétrons descrito pelo Hamiltoninano eletrônico $H$. Conhecendo o princípio variocional, devemos obter os orbitais spin que minimizam a energia eletrônica,"
   ]
  },
  {
   "cell_type": "markdown",
   "id": "c0f970b2",
   "metadata": {},
   "source": [
    "$$E_0 = \\langle \\Psi_0 \\vert H \\vert \\Psi_0 \\rangle = \\sum \\limits_a \\langle a \\vert h \\vert a \\rangle + \\frac{1}{2}\\sum \\limits_{ab} \\langle ab \\vert ab \\rangle$$"
   ]
  },
  {
   "cell_type": "markdown",
   "id": "f867654f",
   "metadata": {},
   "source": [
    "(Esse passo está explicitado no Apêndice A)"
   ]
  },
  {
   "cell_type": "markdown",
   "id": "e22fe4e8",
   "metadata": {},
   "source": [
    "$$E_0 = \\sum \\limits_a \\langle a \\vert h \\vert a \\rangle + \\frac{1}{2}\\sum \\limits_{ab} [aa|bb] - [ab|ba] \\tag{2.2}$$"
   ]
  },
  {
   "cell_type": "markdown",
   "id": "f7a16694",
   "metadata": {},
   "source": []
  },
  {
   "cell_type": "markdown",
   "id": "e8e53dc5",
   "metadata": {},
   "source": []
  },
  {
   "cell_type": "markdown",
   "id": "7d8efca6",
   "metadata": {},
   "source": []
  },
  {
   "cell_type": "markdown",
   "id": "979700bd",
   "metadata": {},
   "source": [
    "### 2.1 Operador de Coulomb"
   ]
  },
  {
   "cell_type": "markdown",
   "id": "24738fde",
   "metadata": {},
   "source": []
  },
  {
   "cell_type": "markdown",
   "id": "49e199d1",
   "metadata": {},
   "source": []
  },
  {
   "cell_type": "markdown",
   "id": "c141ddb0",
   "metadata": {},
   "source": []
  },
  {
   "cell_type": "markdown",
   "id": "1393249f",
   "metadata": {},
   "source": []
  },
  {
   "cell_type": "markdown",
   "id": "8b159269",
   "metadata": {},
   "source": []
  },
  {
   "cell_type": "markdown",
   "id": "6975c2fc",
   "metadata": {},
   "source": []
  },
  {
   "cell_type": "markdown",
   "id": "fffc1938",
   "metadata": {},
   "source": []
  },
  {
   "cell_type": "markdown",
   "id": "aece3852",
   "metadata": {},
   "source": [
    "## Apêndice A"
   ]
  },
  {
   "cell_type": "markdown",
   "id": "ef1e98b9",
   "metadata": {},
   "source": [
    "Aqui iremos determinar dois operadores, o de um elétron $\\hat{A}$ e o de dois elétrons $\\hat{B}$. Vale ressaltar que precisaremos usar o determinante de Slater na forma de somatório."
   ]
  },
  {
   "cell_type": "markdown",
   "id": "55d6a183",
   "metadata": {},
   "source": [
    "### Operador $\\hat{A}$"
   ]
  },
  {
   "cell_type": "markdown",
   "id": "3d4aafea",
   "metadata": {},
   "source": [
    "O operador $\\hat{A}$ pode ser expresso por, "
   ]
  },
  {
   "cell_type": "markdown",
   "id": "c8a9ccce",
   "metadata": {},
   "source": [
    "$$\\hat{A} = \\sum \\limits_n \\hat{a}_n \\tag{1}$$"
   ]
  },
  {
   "cell_type": "markdown",
   "id": "1ed41f9e",
   "metadata": {},
   "source": [
    "em que o operador $\\hat{a}_n$ atua apenas no n-ésimo elétron. Assim, o valor esperado do operador $\\hat{A}$ é dado por"
   ]
  },
  {
   "cell_type": "markdown",
   "id": "b1e97d69",
   "metadata": {},
   "source": [
    "$$\\langle \\Psi \\vert \\hat{A} \\vert \\Psi \\rangle =\\frac{1}{N!} \\langle \\sum\\limits_{i=1}^{N!} (-1)^{p_i}\\chi_{i1}\\chi_{i2} ... \\chi_{iN} \\vert \\sum \\limits_n \\hat{a}_n \\vert\\sum\\limits_{j=1}^{N!}(-1)^{p_j}\\chi_{j1}\\chi_{j2} ... \\chi_{jN} \\rangle$$"
   ]
  },
  {
   "cell_type": "markdown",
   "id": "9c43d8ed",
   "metadata": {},
   "source": [
    "$$\\implies \\langle \\Psi \\vert \\hat{A} \\vert \\Psi \\rangle = \\sum \\limits_n \\frac{1}{N!} \\langle \\sum\\limits_{i=1}^{N!} (-1)^{p_i}\\chi_{i1}\\chi_{i2} ... \\chi_{iN} \\vert \\hat{a}_n \\vert\\sum\\limits_{j=1}^{N!}(-1)^{p_j}\\chi_{j1}\\chi_{j2} ... \\chi_{jN} \\rangle$$"
   ]
  },
  {
   "cell_type": "markdown",
   "id": "b214ddef",
   "metadata": {},
   "source": [
    "lembrando que o operador $\\hat{a}_n$ só atua na n-ésima função de onda, então expandindo o somatório teremos"
   ]
  },
  {
   "cell_type": "markdown",
   "id": "3865d402",
   "metadata": {},
   "source": [
    "$$\\langle \\Psi \\vert \\hat{A} \\vert \\Psi \\rangle = \\frac{1}{N!}\\sum \\limits_n \\sum\\limits_{i=1}^{N!}\\sum\\limits_{j=1}^{N!} (-1)^{p_i+p_j}\\langle \\chi_{i1} \\vert \\chi_{j1} \\rangle \\langle \\chi_{i2} \\vert \\chi_{j2}\\rangle ... \\langle \\chi_{in} \\vert \\hat{a}_n \\vert \\chi_jn \\rangle ... \\langle \\chi_{iN} \\vert \\chi_{jN} \\rangle$$"
   ]
  },
  {
   "cell_type": "markdown",
   "id": "3dad007f",
   "metadata": {},
   "source": [
    "dado que os orbitais são ortonormais, então $\\langle \\chi_i \\vert \\chi_j \\rangle = \\delta_{ij}$. logo, temos que"
   ]
  },
  {
   "cell_type": "markdown",
   "id": "649a7364",
   "metadata": {},
   "source": [
    "$$\\implies \\langle \\Psi \\vert \\hat{A} \\vert \\Psi \\rangle = \\frac{1}{N!}\\sum \\limits_n \\sum\\limits_{i=1}^{N!}\\sum\\limits_{j=1}^{N!} (-1)^{p_i+p_j} \\langle \\chi_{in} \\vert \\hat{a}_n \\vert \\chi_{jn} \\rangle \\delta_{i1 j1}\\delta_{i2 j2}...\\delta_{iN jN}$$"
   ]
  },
  {
   "cell_type": "markdown",
   "id": "c54a88fa",
   "metadata": {},
   "source": [
    "Conseguinte, os somatórios em $i$ e em $j$ somem, como $\\delta_{ij} = 0$ para $i\\neq j$, assim só devemos considerar o caso em que $i=j$, com isso o valor esperado ficará da seguinte forma "
   ]
  },
  {
   "cell_type": "markdown",
   "id": "4ba10a0c",
   "metadata": {},
   "source": [
    "$$\\implies \\langle \\Psi \\vert \\hat{A} \\vert \\Psi \\rangle = \\frac{1}{N!}\\sum \\limits_n \\sum\\limits_{i=1}^{N!}(-1)^{2 p_i} \\langle \\chi_{in} \\vert \\hat{a}_n \\vert \\chi_{in} \\rangle = \\frac{1}{N!}\\sum \\limits_n \\sum\\limits_{i=1}^{N!} \\langle \\chi_{in} \\vert \\hat{a}_n \\vert \\chi_{in} \\rangle$$"
   ]
  },
  {
   "cell_type": "markdown",
   "id": "2d4efb18",
   "metadata": {},
   "source": []
  },
  {
   "cell_type": "code",
   "execution_count": null,
   "id": "c67bcc42",
   "metadata": {},
   "outputs": [],
   "source": []
  },
  {
   "cell_type": "markdown",
   "id": "3747d478",
   "metadata": {},
   "source": [
    "$$ \\therefore \\boxed{ \\langle \\Psi \\vert \\hat{A} \\vert \\Psi \\rangle = \\sum \\limits_n \\langle \\chi_{n} \\vert \\hat{a}_n \\vert \\chi_n \\rangle }$$"
   ]
  },
  {
   "cell_type": "markdown",
   "id": "3f8a26e9",
   "metadata": {},
   "source": [
    "### Operador $\\hat{B}$"
   ]
  },
  {
   "cell_type": "markdown",
   "id": "8e7756da",
   "metadata": {},
   "source": [
    "Vamos desenvolver o operador de dois elétrons $\\hat{B}$, cujo é expresso da seguinte forma"
   ]
  },
  {
   "cell_type": "markdown",
   "id": "f0db782c",
   "metadata": {},
   "source": [
    "$$\\hat{B} = \\frac{1}{2} \\sum \\limits_{m\\neq n}^N b_{mn} \\ , $$"
   ]
  },
  {
   "cell_type": "markdown",
   "id": "8a025a3f",
   "metadata": {},
   "source": [
    "análogamente ao oparador $\\hat{a_n}$, o  operador $\\hat{b_{mn}}$ atua apenas m-ésimo e n-ésimo elétrons. Assim, determinando o seu valor esperado, temos"
   ]
  },
  {
   "cell_type": "markdown",
   "id": "385d34f9",
   "metadata": {},
   "source": [
    "$$\\langle \\Psi \\vert \\hat{B} \\vert \\Psi \\rangle = \\langle \\chi_1\\chi_2 ... \\chi_N \\vert \\frac{1}{2}\\sum \\limits_{m \\neq n}^N \\hat{b}_{mn} \\vert \\chi_1\\chi_2 ... \\chi_N \\rangle$$"
   ]
  },
  {
   "cell_type": "markdown",
   "id": "b9cd75c5",
   "metadata": {},
   "source": [
    "$$\\implies \\langle \\Psi \\vert \\hat{B} \\vert \\Psi \\rangle = \\frac{1}{2}\\sum \\limits_{m \\neq n}^N \\langle \\chi_1\\chi_2 ... \\chi_N \\vert \\hat{b}_{mn} \\vert \\chi_1\\chi_2 ... \\chi_N \\rangle$$"
   ]
  },
  {
   "cell_type": "markdown",
   "id": "cc935c66",
   "metadata": {},
   "source": [
    "Como $\\hat{b}_{mn}$ interage apenas com os orbitais m e n, então"
   ]
  },
  {
   "cell_type": "markdown",
   "id": "2a3a5cbf",
   "metadata": {},
   "source": [
    "$$\\implies \\langle \\Psi \\vert \\hat{B} \\vert \\Psi \\rangle = \\frac{1}{2}\\sum \\limits_{m \\neq n}^N \\langle \\chi_1 \\vert \\chi_1 \\rangle \\langle \\chi_2 \\vert \\chi_2 \\rangle ... \\langle \\chi_m \\chi_{n} \\vert \\hat{b}_{mn} \\vert \\chi_m \\chi_n \\rangle ... \\langle \\chi_N \\vert \\chi_N \\rangle$$"
   ]
  },
  {
   "cell_type": "markdown",
   "id": "c024673b",
   "metadata": {},
   "source": [
    "$$\\implies \\langle \\Psi \\vert \\hat{B} \\vert \\Psi \\rangle = \\frac{1}{2}\\sum \\limits_{m \\neq n}^N  \\langle \\chi_m \\chi_{n} \\vert \\hat{b}_{mn} \\vert \\chi_m \\chi_n \\rangle \\delta_{11} \\delta_{22}...\\delta_{NN} $$"
   ]
  },
  {
   "cell_type": "markdown",
   "id": "8e324f8c",
   "metadata": {},
   "source": [
    "$$\\implies \\langle \\Psi \\vert \\hat{B} \\vert \\Psi \\rangle = \\frac{1}{2}\\sum \\limits_{m \\neq n}^N  \\langle \\chi_m \\chi_{n} \\vert \\hat{b}_{mn} \\vert \\chi_m \\chi_n \\rangle $$"
   ]
  },
  {
   "cell_type": "code",
   "execution_count": null,
   "id": "5877dd51",
   "metadata": {},
   "outputs": [],
   "source": []
  },
  {
   "cell_type": "markdown",
   "id": "bf73dcd6",
   "metadata": {},
   "source": [
    "## Referência"
   ]
  },
  {
   "cell_type": "markdown",
   "id": "c30bfaf9",
   "metadata": {},
   "source": [
    "**[1]** *Szabo, Attila, and Neil S. Ostlund. Modern Quantum Chemistry. Dover Publications, 2 July 1996.*\n",
    "\n",
    "**[2]** *Oliveira Bastos, Carlos Maciel. Método de Hartree-Fock. 17 Nov. 2015.*"
   ]
  },
  {
   "cell_type": "code",
   "execution_count": null,
   "id": "df88d666",
   "metadata": {},
   "outputs": [],
   "source": []
  }
 ],
 "metadata": {
  "kernelspec": {
   "display_name": "Python 3 (ipykernel)",
   "language": "python",
   "name": "python3"
  },
  "language_info": {
   "codemirror_mode": {
    "name": "ipython",
    "version": 3
   },
   "file_extension": ".py",
   "mimetype": "text/x-python",
   "name": "python",
   "nbconvert_exporter": "python",
   "pygments_lexer": "ipython3",
   "version": "3.11.4"
  }
 },
 "nbformat": 4,
 "nbformat_minor": 5
}
