{
 "cells": [
  {
   "cell_type": "markdown",
   "id": "87597d50",
   "metadata": {},
   "source": [
    "# Método de Hartree-Fock"
   ]
  },
  {
   "cell_type": "markdown",
   "id": "c9dc804c",
   "metadata": {},
   "source": [
    "* PET - Física UFRN\n",
    "* Petianos: Bruno Ramos Galindo, José Arthur de Luna Oliveira e Tiago Pernambuco Toledo de Macêdo\n",
    "* Data: "
   ]
  },
  {
   "cell_type": "markdown",
   "id": "6706c774",
   "metadata": {},
   "source": [
    "Este `Notebook` possui as seguinte seções:\n",
    "\n",
    "* 1. Introdução;\n",
    "* 2. Operadores;\n",
    "* 3. Aplicando Computacionalmente;\n",
    "* 4. Conclusão."
   ]
  },
  {
   "cell_type": "markdown",
   "id": "2be2b886",
   "metadata": {
    "tags": []
   },
   "source": [
    "## 2. Operadores"
   ]
  },
  {
   "cell_type": "markdown",
   "id": "4d8ba079",
   "metadata": {},
   "source": [
    "Antes de desenvolver os operadores, devemos definir alguns resultados para facilitar as demonstrações das próximas seções. Estamos interessados em obter um conjunto de orbitais de spin {$\\chi_a$}, tal qual o determinante de Slater a partir desses orbitais é expresso por"
   ]
  },
  {
   "cell_type": "markdown",
   "id": "9c46186d",
   "metadata": {},
   "source": [
    "$$\\langle \\Psi_0 \\vert = \\langle \\chi_1 \\chi_2 ... \\chi_a\\chi_b ... \\chi_N \\vert \\tag{2.1}$$"
   ]
  },
  {
   "cell_type": "markdown",
   "id": "4f596310",
   "metadata": {},
   "source": []
  },
  {
   "cell_type": "markdown",
   "id": "1257791e",
   "metadata": {},
   "source": []
  },
  {
   "cell_type": "markdown",
   "id": "a218ab58",
   "metadata": {},
   "source": []
  },
  {
   "cell_type": "code",
   "execution_count": null,
   "id": "568b58c4",
   "metadata": {},
   "outputs": [],
   "source": []
  },
  {
   "cell_type": "code",
   "execution_count": null,
   "id": "c1e75a0e",
   "metadata": {},
   "outputs": [],
   "source": []
  },
  {
   "cell_type": "code",
   "execution_count": null,
   "id": "9c6e5705",
   "metadata": {},
   "outputs": [],
   "source": []
  },
  {
   "cell_type": "code",
   "execution_count": null,
   "id": "5b5683d7",
   "metadata": {},
   "outputs": [],
   "source": []
  },
  {
   "cell_type": "markdown",
   "id": "e3e85196",
   "metadata": {},
   "source": [
    "### 2.1 Operador de Coulomb"
   ]
  },
  {
   "cell_type": "markdown",
   "id": "24738fde",
   "metadata": {},
   "source": []
  },
  {
   "cell_type": "markdown",
   "id": "49e199d1",
   "metadata": {},
   "source": []
  },
  {
   "cell_type": "markdown",
   "id": "c141ddb0",
   "metadata": {},
   "source": []
  },
  {
   "cell_type": "markdown",
   "id": "1393249f",
   "metadata": {},
   "source": []
  },
  {
   "cell_type": "markdown",
   "id": "89ef7b7c",
   "metadata": {},
   "source": []
  },
  {
   "cell_type": "markdown",
   "id": "3b1e4115",
   "metadata": {},
   "source": []
  },
  {
   "cell_type": "markdown",
   "id": "a7f91533",
   "metadata": {},
   "source": []
  },
  {
   "cell_type": "markdown",
   "id": "575b4e5c",
   "metadata": {},
   "source": []
  },
  {
   "cell_type": "markdown",
   "id": "6fab30aa",
   "metadata": {},
   "source": []
  },
  {
   "cell_type": "markdown",
   "id": "28a79054",
   "metadata": {},
   "source": []
  },
  {
   "cell_type": "markdown",
   "id": "e9345153",
   "metadata": {},
   "source": []
  },
  {
   "cell_type": "markdown",
   "id": "fed9fcea",
   "metadata": {},
   "source": []
  },
  {
   "cell_type": "markdown",
   "id": "dd7569b1",
   "metadata": {},
   "source": []
  },
  {
   "cell_type": "code",
   "execution_count": null,
   "id": "e0bb2121",
   "metadata": {},
   "outputs": [],
   "source": []
  },
  {
   "cell_type": "code",
   "execution_count": null,
   "id": "9dc49a1a",
   "metadata": {},
   "outputs": [],
   "source": []
  },
  {
   "cell_type": "code",
   "execution_count": null,
   "id": "4f1b17fe",
   "metadata": {},
   "outputs": [],
   "source": []
  },
  {
   "cell_type": "code",
   "execution_count": null,
   "id": "c2c5e2b7",
   "metadata": {},
   "outputs": [],
   "source": []
  },
  {
   "cell_type": "code",
   "execution_count": null,
   "id": "e064303c",
   "metadata": {},
   "outputs": [],
   "source": []
  },
  {
   "cell_type": "markdown",
   "id": "bf73dcd6",
   "metadata": {},
   "source": [
    "## Referência"
   ]
  },
  {
   "cell_type": "markdown",
   "id": "c30bfaf9",
   "metadata": {},
   "source": [
    "**[1]** *Szabo, Attila, and Neil S. Ostlund. Modern Quantum Chemistry. Dover Publications, 2 July 1996.*\n",
    "\n",
    "**[2]** *Oliveira Bastos, Carlos Maciel. Método de Hartree-Fock. 17 Nov. 2015.*"
   ]
  },
  {
   "cell_type": "code",
   "execution_count": null,
   "id": "df88d666",
   "metadata": {},
   "outputs": [],
   "source": []
  }
 ],
 "metadata": {
  "kernelspec": {
   "display_name": "Python 3 (ipykernel)",
   "language": "python",
   "name": "python3"
  },
  "language_info": {
   "codemirror_mode": {
    "name": "ipython",
    "version": 3
   },
   "file_extension": ".py",
   "mimetype": "text/x-python",
   "name": "python",
   "nbconvert_exporter": "python",
   "pygments_lexer": "ipython3",
   "version": "3.11.4"
  }
 },
 "nbformat": 4,
 "nbformat_minor": 5
}
