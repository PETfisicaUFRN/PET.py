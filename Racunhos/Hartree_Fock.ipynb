{
 "cells": [
  {
   "cell_type": "markdown",
   "id": "4c98bca1-f998-4315-acc6-9b58308772b4",
   "metadata": {},
   "source": [
    "# Método de Hartree-Fock"
   ]
  },
  {
   "cell_type": "markdown",
   "id": "bec5c3af-13f9-4f1f-bbbf-ef7ae354fd39",
   "metadata": {},
   "source": [
    "* PET - Física UFRN\n",
    "* Petianos: Bruno Ramos Galindo, José Arthur de Luna Oliveira e Tiago Pernambuco Toledo de Macêdo\n",
    "* Data: "
   ]
  },
  {
   "cell_type": "markdown",
   "id": "dee336ad-bed8-44c0-a466-d19071825155",
   "metadata": {},
   "source": [
    "Este `Notebook` possui as seguinte seções:\n",
    "\n",
    "*  Introdução;\n",
    "*  Operadores;\n",
    "*  Aplicando Computacionalmente;\n",
    "*  Conclusão;\n",
    "*  Apêndice A."
   ]
  },
  {
   "cell_type": "markdown",
   "id": "326556f6-813a-4838-bae5-37650f856427",
   "metadata": {},
   "source": [
    "## 1. Introdução"
   ]
  },
  {
   "cell_type": "markdown",
   "id": "0008a41d-0900-479c-8634-7a0fb9673f04",
   "metadata": {},
   "source": [
    "$\\quad$ No estudo de corpos macroscópicos, estudamos o movimento desses corpos e as causas do movimento aplicando a mecânica clássica. Todavia, ao aplicar fundamentos da mecânica clássica na perspectiva microscópica, não obteremos o resultado correto, para tal ponto de vista é necessário outro ramo da física, a chamada Mecânica Quântica. Esta, por sua vez, é o ramo da física responsável por detalhar uma descrição matemática do comportamento dos elétrons e consequentemente dos sistemas químicos."
   ]
  },
  {
   "cell_type": "markdown",
   "id": "cb83fe49-6129-48e6-bc6b-0bedde505825",
   "metadata": {},
   "source": [
    "$\\quad$ Na mecânica clássica, podemos determinar a velocidade e a posição das partículas que constituem um certo sistema oferecido, no entanto, na mecânica quântica as coisas não funcionam deste modo. Pois, pelo princípio de Heisenberg, não é possível determinar a velocidade exata e a posição de uma partícula microscópica simultaneamente. Neste caso, para descrever uma partícula, ou melhor, para descrever o estado de um sistema na mecânica quântica, postula-se uma função de coordenadas denominada de $\\psi $, que se trata de função do tempo $\\psi = \\psi (x,t)$."
   ]
  },
  {
   "cell_type": "markdown",
   "id": "5ea41c38-cb74-4d27-895a-6354e1e165d1",
   "metadata": {},
   "source": [
    "$\\quad$ Nesta função, chamada de função de onda, têm-se todas as informações possíveis do sistema. A partir desta, é possível estudar sistemas moleculares poliatômicos, encontrando a solução da equação de Schrödinger para estes sistemas e descrever o estado quântico. "
   ]
  },
  {
   "cell_type": "markdown",
   "id": "297acdc4-9530-4e3f-a062-55e8e661b95e",
   "metadata": {},
   "source": [
    "$\\quad$ Na década de 20, diversos trabalhos sobre como tratar vários elétrons na teoria quântica, quando Enrico Fermi e Llewellyn Thomas em 1927 publicam algumas considerações estatísticas que, por sua vez, poderiam ser utilizadas para aproximar a distribuição eletrônica em um átomo. No ano de 1927 Thomas afirmar duas suposições, ele afirma que: “Electrons are distributed uniformly in the six-dimensional phase space for the motion of an electron at the rate of two for each h³ of volume” (Os elétrons estão distribuídos uniformemente no espaço de fase hexadimensional para o movimento de um elétron à taxa de dois para cada h³ de volume) e também foi afirmado outro para um campo de potencial que: “[...] is itself determined by the nuclear charge and his distribuição de elétrons” ([...] é em si determinado pela carga nuclear e sua distribuição de elétrons). O modelo de Thomas-Fermi é baseado nessas suposições, possibilitando o cálculo de uma aproximação para um gás de férmions se movimentando sobre um campo externo. Nesse modelo, os principais objetivos são determinar uma forma de calcular a densidade eletrônica e o potencial efetivo, em outras palavras, esse modelo é baseado apenas na densidade eletrônica. Essa teoria foi muito útil para conseguirmos descrever qualitativamente propriedades como a energia dos átomos, no entanto, não descreve de maneira razoável propriedades que dependem dos elétrons de valência, como, por exemplo, ligações químicas, estabilidade de moléculas, entre outros exemplos. O método de Thomas-Fermi serviu de incentivo para Walter Kohn ao desenvolvimento da Teoria do Funcional da Densidade (Density Functional Theory) na década de 60, teoria essa que é usada até os dias atuais para deduções de funcionais. Em 1927, um ano após Schrödinger publicar a famosa equação, Douglas Hartree propõe outra forma de tratar átomos envolvendo muitos elétrons. Ele propôs usar o método variacional para o Hamiltoniano de muitos elétrons usando como função “teste” o produto das funções de onda de cada elétron individualmente(orbitais), que se tornou conhecido como sendo a aproximação de Hartree."
   ]
  },
  {
   "cell_type": "markdown",
   "id": "e747fae8-b27b-435b-92cb-76cf45fddcfb",
   "metadata": {},
   "source": [
    "$\\quad$ Uma vasta quantidade de métodos vem sendo desenvolvida para encontrar uma solução estimada da equação de Schrödinger para sistemas com muitos elétrons. A maioria dos métodos tem como base o método de Hartree-Fock (HF), no entanto, o método HF só considera a parte da correlação eletrônica, o que, por sua vez, faz com que tenhamos que utilizar métodos pós-HF. A energia calculada por esse método tem como um erro um fator de 1%, o que, por sua vez, é de uma certa forma alto, pois a energia de ligação é algo próximo dos $100 Kcal mol^{-1}$. Esse erro pode ser corrigido quando consideramos as interações instantâneas entre os elétrons, que por sua vez é chamada de correlação eletrônica. Sendo assim, existem vários métodos feitos a partir do método HF, onde o termo de correlação eletrônica foi introduzido no sistema. A escolha do uso de um determinado método deve ser feita a partir do sistema de interesse a ser estudado e os tipos de propriedades que se pretende estudar."
   ]
  },
  {
   "cell_type": "markdown",
   "id": "2b9dc0cc-59d8-4942-8045-5884c0ad6e88",
   "metadata": {},
   "source": [
    "## 1.1 Equação de Schrödinger"
   ]
  },
  {
   "cell_type": "markdown",
   "id": "5c595496-39fc-43de-8c16-0d8a5ee11579",
   "metadata": {},
   "source": [
    "$\\quad$ A equação de Schrödinger é uma equação que descreve a mudança de um estado quântico, $\\Psi(r,t)$, de um dado sistema físico que muda com o tempo."
   ]
  },
  {
   "cell_type": "markdown",
   "id": "3be7633d-ec16-434a-8e64-677144d70f47",
   "metadata": {},
   "source": [
    "$$ H  \\Psi (r,t) = E \\Psi(r,t) \\ .\\tag{1.1}$$ "
   ]
  },
  {
   "cell_type": "markdown",
   "id": "1abcfa28-1ce8-4e53-bcc6-02c9ff5ae4d0",
   "metadata": {},
   "source": [
    "* $\\Psi$ é a função de onda;\n",
    "* $E$ é a energia associada a esta função;\n",
    "* $H$ é o operador Hamiltoniano de $\\Psi$ com respeito às coordenadas de cada elétron em função do tempo."
   ]
  },
  {
   "cell_type": "markdown",
   "id": "2ae3a627-d9b7-4290-ba7d-35650b24c1c5",
   "metadata": {},
   "source": [
    "$\\quad$ O estado $\\Psi(r,t)$ é a melhor descrição possível para um sistema físico, de acordo com o primeiro postulado da mecânica quântica."
   ]
  },
  {
   "cell_type": "markdown",
   "id": "ac78bb2c-eeaa-494a-93d1-1a8f0e9ad4c6",
   "metadata": {},
   "source": [
    "$\\quad$ No ano de 1926, Max Born postulou que a densidade de probabilidade de encontrar uma partícula em uma dada posição e um dado instante de tempo $t$ pode ser obtida através da função de onda pela relação"
   ]
  },
  {
   "cell_type": "markdown",
   "id": "47817ba1-bf85-41c9-bbeb-1933e6626aa1",
   "metadata": {},
   "source": [
    "$$p(x,t) = |\\Psi(r,t)|^{2} \\ .\\tag{1.2}$$"
   ]
  },
  {
   "cell_type": "markdown",
   "id": "7584b15e-b0d6-4628-8580-ed47acf13169",
   "metadata": {},
   "source": [
    "$\\quad$ Então, a probabilidade de encontrar uma partícula, em alguma região do espaço, é"
   ]
  },
  {
   "cell_type": "markdown",
   "id": "751f64f4-9b50-4c5a-b2fc-116347c4413b",
   "metadata": {},
   "source": [
    "$$\\int |\\Psi(r,t)|^{2} dr^{3} = 1 \\ .\\tag{1.3}$$"
   ]
  },
  {
   "cell_type": "markdown",
   "id": "6f038f16-d135-470d-b3db-123feaebcb27",
   "metadata": {},
   "source": [
    "$\\quad$ Para ter algum sentido físico as funções de onda precisam possuir algumas propriedades, tais como:"
   ]
  },
  {
   "cell_type": "markdown",
   "id": "3ae8fe46-07f9-4c1e-b1ab-720954825f82",
   "metadata": {},
   "source": [
    "* $\\Psi(r,t)$ deve pertencer a uma região finita do espaço de Hilbert, $L^{2}$;\n",
    "* $\\Psi(r,t)$ é um conjunto de funções de onda composta de funções suficientemente regulares ($\\psi(r,t)$ é um subespaço de $L^{2}$);\n",
    "* Precisa ser contínua e diferenciável;\n",
    "* $|\\Psi(r,t)|²$ deve ser integrável."
   ]
  },
  {
   "cell_type": "markdown",
   "id": "4f50f02e-450d-4a1f-8b01-2802e537f9f1",
   "metadata": {},
   "source": [
    "$\\quad$ A equação de Schrödinger independente do tempo também pode ser escrita como uma equação de autovalores e autovetores. A equação de Schrödinger independente do tempo para uma molécula com vários átomos composta por N elétrons e M núcleos pode ser escrita como:"
   ]
  },
  {
   "cell_type": "markdown",
   "id": "4bfb52d9-d76d-4987-9a56-e24c13d68351",
   "metadata": {},
   "source": [
    "$$H\\psi(r,R) = E\\psi(r,R) \\ .\\tag{1.4}$$"
   ]
  },
  {
   "cell_type": "markdown",
   "id": "6f49fafd-8f40-4e26-a3c3-5585e087c0ca",
   "metadata": {},
   "source": [
    "$\\quad$ Sendo que, $r$ e $R$ representam, respectivamente, as coordenadas dos elétrons e núcleos. Para esse caso, o operador Hamiltoniano é representado como sendo:"
   ]
  },
  {
   "cell_type": "markdown",
   "id": "7d06213a-084e-40eb-87f2-f658d8c9061a",
   "metadata": {},
   "source": [
    "$$ H = -\\sum_{i=1}^{N} \\frac{1}{2} \\nabla_i^2-\\sum_{i=1}^{M} \\frac{1}{2M} \\nabla_A^2 - \\sum_{i=1}^{N} \\sum_{A=1}^{M} \\frac{Z_A}{r_{iA}} + \\sum_{A=1}^{M} \\sum_{B>A}^{M} \\frac{Z_A Z_B}{R_{AB}}\n",
    "+ \\sum_{i=1}^{N} \\sum_{j>i}^{N} \\frac{1}{r_{ij}} \\ .\\tag{1.5}$$ "
   ]
  },
  {
   "cell_type": "markdown",
   "id": "fa2a2790-c053-4460-a222-3b69c8065da7",
   "metadata": {},
   "source": [
    "$\\quad$ Sendo que:\n",
    "\n",
    "* $R_{AB}$ é a distância entre os núcleos A e B, $R_{AB} = |R_A - R_B|$;\n",
    "* $r_{iA}$ é a distância entre o núcleo A e o elétron i, $r_{iA}=|r_i - R_A|$;\n",
    "* $r_{ij}$ é a distância entre os elétrons i e j, $r_{ij} = |r_i - r_j|$;\n",
    "* $Z_A$ é o número atômico do átomo A;\n",
    "* $M_A$ é a razão da massa do núcleo A em relação ao elétron i."
   ]
  },
  {
   "cell_type": "markdown",
   "id": "70a40a95-4790-4f53-8259-53029058d610",
   "metadata": {},
   "source": [
    "$\\quad$ Outra forma de ver a equação é através de"
   ]
  },
  {
   "cell_type": "markdown",
   "id": "65994a0a-9ed7-42b0-88af-d591871723fb",
   "metadata": {},
   "source": [
    "$$ H = T_e + T_N + V_{Ne} + V_N + V_e \\ .\\tag{1.6}$$"
   ]
  },
  {
   "cell_type": "markdown",
   "id": "52319026-cc07-4537-92d3-d73f65e14835",
   "metadata": {},
   "source": [
    "Sendo que:\n",
    "\n",
    "* $T_N$ é o operador de energia cinética nuclear;\n",
    "* $T_e$ é o operador de energia cinética eletrônica;\n",
    "* $V_{Ne}$ é o operador referente à atração núcleo-elétron;\n",
    "* $V_e$ é o operador da energia potencial repulsiva elétron-elétron;\n",
    "* $V_N$ é operador de energia potencia repulsiva núcleo-núcleo."
   ]
  },
  {
   "cell_type": "markdown",
   "id": "6cbc04ae-1e18-47ae-844d-19fce80c83d5",
   "metadata": {},
   "source": [
    "$\\quad$ Sabendo que núcleos são muito pesados, em relação aos elétrons, suas transições são mais lentas do que as transições eletrônicas. Levando isso em conta, para obtermos uma boa aproximação, podemos considerar que os elétrons se movem em um campo de núcleo fixo, essa aproximação, é denominada de aproximação de Born-Oppenheimer.\n",
    "Como consequência dessa aproximação, é notório, que o segundo termo da equação (1.6) é desprezado e o terceiro termo da equação (1.6) é constante, visto que uma vez que o núcleo é fixo a energia cinética do núcleo é zero e a distância núcleo-elétron não se altera, $T_N = 0$ e $V_{Ne} = const$. Qualquer constante adicionada em um operador apenas adiciona ao operador autovalor e não possui nenhum efeito no operador autofunção. Portanto, essa aproximação tem como principal característica separar a equação de Schrödinger independente do tempo em duas partes: uma relacionada à parte eletrônica e outra a parte nuclear."
   ]
  },
  {
   "cell_type": "markdown",
   "id": "23e84519-8b8f-4d4a-ae3e-2403800fa1a5",
   "metadata": {},
   "source": [
    "$\\quad$ A parte eletrônica relata os movimentos dos elétrons para uma determinada configuração nuclear. A parte da equação nuclear relata sobre a dinâmica molecular, as interações de núcleos nos informa o estado eletrônico particular do sistema de moléculas e da energia de repulsão entre os núcleos."
   ]
  },
  {
   "cell_type": "markdown",
   "id": "c2b8fbca-3d4a-4479-90bd-56bfad417db3",
   "metadata": {},
   "source": [
    "$\\quad$ Dito isso, com a aproximação a equação do operador Hamiltoniano fica desta forma"
   ]
  },
  {
   "cell_type": "markdown",
   "id": "e6a75e38-aca6-4701-8e24-e565e07093c7",
   "metadata": {},
   "source": [
    "$$ H_T = T_e + V_{Ne} + V_{e} + V_N \\ .\\tag{1.7}$$ "
   ]
  },
  {
   "cell_type": "markdown",
   "id": "f1f8f21d-5db7-4146-85e1-3878e375c449",
   "metadata": {},
   "source": [
    "$\\quad$ Sendo $H_T$ o Hamiltoniano total"
   ]
  },
  {
   "cell_type": "markdown",
   "id": "04526def-ca26-40a1-9e35-10fc88f80f27",
   "metadata": {},
   "source": [
    "$$ H_T = H_{ele} + V_N \\ .\\tag{1.8}$$"
   ]
  },
  {
   "cell_type": "markdown",
   "id": "c92eff2e-4130-4b6c-a02b-57deec04e7dd",
   "metadata": {},
   "source": [
    "$\\quad$ Temos que $H_{ele}$ é o Hamiltoniano eletrônico."
   ]
  },
  {
   "cell_type": "markdown",
   "id": "1e4e4db2-5f47-4fda-8617-6a1ab90e2d7f",
   "metadata": {},
   "source": [
    "$\\quad$ Para o átomo de hidrogênio, existem apenas 2 termos do operador Hamiltoniano que continuam presentes na equação, são a energia cinética do elétron (assumindo núcleo fixo) e a energia potencial de interação elétron-núcleo. Para esse caso, existe a possibilidade de utilizar o procedimento de “separação de variáveis”, no qual a Equação de Schrödinger independente do tempo é separada em três equações que podem ser solucionadas de forma exata. No entanto, foi observado que a equação de Schrödinger não tem solução analítica para sistema moleculares, por serem sistemas com uma vasta quantidade de elétrons. Para obter uma solução nesse caso, é preciso utilizar de métodos baseados em aproximações matemáticas. Os métodos são denominados de ab initio, e graças a esses métodos que conseguimos soluções para a equação de Schrödinger em sistemas de muitos elétrons."
   ]
  },
  {
   "cell_type": "markdown",
   "id": "8475dfb7-1760-4325-a1eb-85e7f9064cd5",
   "metadata": {},
   "source": [
    "## 1.2 Método Hartree-Fock-Roothan"
   ]
  },
  {
   "cell_type": "markdown",
   "id": "a0abb259-8e0b-40c2-84da-bca37146dc0c",
   "metadata": {},
   "source": [
    "$\\quad$ O método Hartree-Fock (HF) é um método usado para determinar funções de onda e energia no estado fundamental de sistemas quânticos de vários corpos. O método HF serve como base da teoria do orbital molecular, que afirma que cada movimento do elétron pode ser determinado por uma função(orbital) que não depende de maneira explicita da movimentação instantânea de cada elétron. O método HF é o começo para todos os outros métodos quânticos ab initio. "
   ]
  },
  {
   "cell_type": "markdown",
   "id": "77fdd631-5906-46c2-b96e-4e48cfb3da40",
   "metadata": {},
   "source": [
    "$\\quad$ No fim da década de 1920, logo após da determinação da equação de Schrödinger, o método HF teve sua origem. No ano de 1927 J.R. Hartree introduz o método do campo autoconsciente para o cálculo aproximado de funções de onda e de energias para íons e átomos. Em outras palavras, Hartree propõe utilizar o método varicional para o Hamiltoniano de muitos elétrons usando como função \"teste\", o produto das funções de onda de cada elétron individualmente. Esse método ficou conhecido como método de Hartree."
   ]
  },
  {
   "cell_type": "markdown",
   "id": "c7f44f2c-4722-4c39-bb80-03b533d25dde",
   "metadata": {},
   "source": [
    "$\\quad$ Hartree realizou considerações de suma importância em um primeiro estágio na pesquisa para resolver o problema da equação de Schrödinger de sistemas multieletrônico. Hartree fez uma aproximação do termo de interação entre elétrons para um termo de campo médio, deste modo, a separação de funções de onda de cada elétron foi possível, para um sistema de N elétrons."
   ]
  },
  {
   "cell_type": "markdown",
   "id": "cf77e6c7-bab6-41b8-ae34-60b7f5cd003f",
   "metadata": {},
   "source": [
    "$$ \\psi(r) = \\psi_1(r_1)\\psi_2(r_2)\\psi_3(r_3)\\psi_4(r_4)..., = \\prod_{i}^{N}\\psi_i(r_i) \\ . \\tag{1.9}$$"
   ]
  },
  {
   "cell_type": "markdown",
   "id": "2046efb0-ce72-4dc9-b7f6-cffb415b663c",
   "metadata": {},
   "source": [
    "$\\quad$ Esse produto é denominado de produto de Hartree, com este produto a equação de Schrödinger pode ser dividida em N equações independentes para cada elétron. Essa aproximação trata os elétrons como sendo funções de onda independentes e isso, por sua vez, traz sérias implicações, uma vez que, trata a parte de correlação eletrônica."
   ]
  },
  {
   "cell_type": "markdown",
   "id": "10897d9f-1dd7-4d9f-8cda-f23647220268",
   "metadata": {},
   "source": [
    "## 1.3 Determinante de Slater"
   ]
  },
  {
   "cell_type": "markdown",
   "id": "485161f6-7a1f-4a76-aff3-45a0ccef7517",
   "metadata": {},
   "source": [
    "$\\quad$ No ano de 1930, de maneira independente, Slater e Fock, demonstraram que o método de Hartree não obedece o princípio da antissimetria da função de onda.  Hartree usou um método que utilizava o princípio da exclusão de Pauli em sua antiga forma, que proibia a presença de dois elétrons em um mesmo estado quântico. Posteriormente demonstrando que um determinante de Slater satisfaz esse princípio e se trata de uma boa solução para a aplicação do princípio variacional. No ano de 1935 Hartree reajusta o método tornando ele mais adequado para a utilização do princípio variacional. Hartree reformulou seu método tornando mais adequado. Ele aproximou o termo de interação intereletrônica para um termo de campo médio, $v^{HF}$ que é resultado da presença dos demais elétrons.  A função de onda eletrônica anti-simétrica é expressa através de um determinante de Slater. Esse determinante é a forma mais básica de função de onda antissimétrica utilizada para descrever o estado fundamental de sistemas contendo N elétrons."
   ]
  },
  {
   "cell_type": "markdown",
   "id": "11ee0b83-a9dd-4ea2-ae3f-ee8131b151c2",
   "metadata": {},
   "source": [
    "$\\quad$ Considerando que um sistema de dois elétrons em que os orbitais spin $x_i$ e $x_i$ estão ocupados. Se o elétron 1 estiver em $x_i$ e o elétron 2 estiver em $x_i$, e vice-versa, tem-se que:"
   ]
  },
  {
   "cell_type": "markdown",
   "id": "237e5497-6307-4090-8b25-b0d267e1f890",
   "metadata": {},
   "source": [
    "$$\\psi_{12}^{''} = X_i(x_1)X_j(x_2) \\quad \\psi_{21}^{''} = X_i(x_2)X_j(x_1)$$"
   ]
  },
  {
   "cell_type": "markdown",
   "id": "5ae24bf8-793d-4a6b-a7c2-1826b75745ff",
   "metadata": {},
   "source": [
    "$\\quad$  De maneira clara, cada um desses orbitais distingue os elétrons individualmente. No entanto, é possível obter uma função de onda que não faz essa distinção e ainda satisfaz o princípio de exclusão de Pauli, combinando linearmente esses dois produtos."
   ]
  },
  {
   "cell_type": "markdown",
   "id": "3a10bb21-cdb6-45dd-a245-b2ef740909c4",
   "metadata": {},
   "source": [
    "$$\\psi(x_1,x_2) = \\frac{1}{\\sqrt{2}}(X_i(x_1)X_j(x_2) - X_j(x_1)X_i(x_2)) = \\frac{1}{\\sqrt{2}} \\begin{vmatrix} X_i(x_1) & X_j(x_1) \\\\ X_i(x_2) & X_j(x_2)\\end{vmatrix}\\text{.} \\tag{1.10}$$"
   ]
  },
  {
   "cell_type": "markdown",
   "id": "cd5982a4-f277-48dc-9db8-817cc09795d8",
   "metadata": {},
   "source": [
    "$\\quad$ Cujo fator de $2^{-1/2}$ é um fator de normalização e o sinal negativo assegura a antissimétrica de $\\psi^H$ com relação à troca de coordenadas dos elétrons 1 e 2.\n",
    "\n",
    "$\\quad$ Logo, para um sistema de N elétrons temos que:"
   ]
  },
  {
   "cell_type": "markdown",
   "id": "06ffa5ee-c9d5-4592-ad3f-8df08710eb35",
   "metadata": {},
   "source": [
    "$$\\psi(x_1,x_2,...,x_N)=\\frac{1}{\\sqrt{N!}} \\begin{vmatrix} X_i(x_1) & X_j(x_1) & \\cdots & X_k(x_1) \\\\ X_i(x_2) & X_j(x_2) & \\cdots & X_K(x_2) \\\\  \\vdots & \\vdots & \\ddots & \\vdots \\\\ X_i(x_N) & X_j(x_N) & \\cdots & X_k(x_N)\\\\ \\end{vmatrix} \\text{.} \\tag{1.11}$$"
   ]
  },
  {
   "cell_type": "markdown",
   "id": "5763362f-9d5d-4050-bc48-9573ace8c3ea",
   "metadata": {},
   "source": [
    "$$\\psi(x_1,x_2,...,X_N)= |X_i (x_1) X_j(x_2)...X_k(x_N)\\rangle = |X_i X_j...X_k\\rangle \\text{.} \\tag{1.12}$$"
   ]
  },
  {
   "cell_type": "markdown",
   "id": "8ba32d0b-a3ef-472c-ada4-65f6dde20a79",
   "metadata": {},
   "source": [
    "$\\quad$ A troca de coordenadas de dois elétrons corresponde a permutação de duas linhas do determinante de Slater, resultando na mudança de sinal do determinante. Quando dois elétrons ocupam o mesmo orbital de spin, isso se traduz em duas colunas idênticas no determinante, tornando-o zero. Assim, conforme o Princípio de Exclusão de Pauli, não mais do que um elétron pode ocupar um determinado orbital de spin."
   ]
  },
  {
   "cell_type": "markdown",
   "id": "f5da8e1e-e637-4c8d-b487-fcdfb7db2d22",
   "metadata": {},
   "source": [
    "## 1.4 Hartree-Fock"
   ]
  },
  {
   "cell_type": "markdown",
   "id": "c8695b83-c9c4-4b1e-9587-89ba07dc8cef",
   "metadata": {},
   "source": [
    "$\\qua$O método de Hartree-Fock é uma abordagem fundamental na teoria de estrutura eletrônica que descreve sistemas moleculares e atômicos. Em essência, cada elétron em um sistema é caracterizado por uma função de onda que depende apenas das coordenadas desse elétron. Isso significa que a função de onda de cada elétron é tratada como se todos os outros elétrons estivessem presentes em uma média estatística, criando uma abordagem autoconsistente.\n",
    "\n",
    "$\\qua$Uma das premissas do método de Hartree-Fock é que a probabilidade de encontrar um elétron em um ponto específico nas proximidades de um núcleo é determinada principalmente pela posição em relação a esse núcleo, ignorando as influências dos outros núcleos. Isso é conhecido como a aproximação de campo médio.\n",
    "\n",
    "$\\qua$Além disso, o método de Hartree-Fock emprega o conceito de troca de elétrons, onde o efeito da troca quântica entre elétrons é modelado por uma correção que leva em conta a indistinguibilidade dos elétrons. Essa troca é fundamental para obter uma descrição precisa da correlação eletrônica e é incorporada ao cálculo por meio de termos adicionais na equação de Hartree-Fock.\n",
    "\n",
    "$\\qua$Em resumo, o método de Hartree-Fock oferece uma abordagem eficaz para calcular as propriedades eletrônicas de sistemas moleculares e atômicos, tratando cada elétron de forma individual, considerando sua interação com os núcleos e a troca quântica entre ele"
   ]
  },
  {
   "cell_type": "markdown",
   "id": "037baafb-f3c9-4ae5-aa40-df24333fe1ad",
   "metadata": {},
   "source": []
  },
  {
   "cell_type": "markdown",
   "id": "2354ae2f-5217-43bb-a80f-17a0c67bb62e",
   "metadata": {},
   "source": []
  },
  {
   "cell_type": "markdown",
   "id": "51079003-29c8-4459-9df5-b87e20eb58a7",
   "metadata": {},
   "source": []
  },
  {
   "cell_type": "markdown",
   "id": "fc6b9908-69b7-4180-873a-4e1bcc6aaffe",
   "metadata": {},
   "source": []
  },
  {
   "cell_type": "markdown",
   "id": "1a724a00-e405-447a-b192-73441fcefcf5",
   "metadata": {},
   "source": []
  },
  {
   "cell_type": "markdown",
   "id": "28e27265-287f-4a66-9493-c22fe77d7b95",
   "metadata": {},
   "source": []
  },
  {
   "cell_type": "markdown",
   "id": "98181bbc-5bdc-4d13-b735-6d43696ce23a",
   "metadata": {},
   "source": []
  },
  {
   "cell_type": "markdown",
   "id": "114a22df-ed52-449f-b3c2-6a9c0323025d",
   "metadata": {},
   "source": []
  },
  {
   "cell_type": "markdown",
   "id": "e14230a3-fbd6-4fb8-a766-96b29bae8565",
   "metadata": {},
   "source": []
  },
  {
   "cell_type": "markdown",
   "id": "87f3bd7c-2fee-4471-9c3c-2d4b313580f2",
   "metadata": {},
   "source": []
  }
 ],
 "metadata": {
  "kernelspec": {
   "display_name": "Python 3 (ipykernel)",
   "language": "python",
   "name": "python3"
  },
  "language_info": {
   "codemirror_mode": {
    "name": "ipython",
    "version": 3
   },
   "file_extension": ".py",
   "mimetype": "text/x-python",
   "name": "python",
   "nbconvert_exporter": "python",
   "pygments_lexer": "ipython3",
   "version": "3.11.9"
  }
 },
 "nbformat": 4,
 "nbformat_minor": 5
}
