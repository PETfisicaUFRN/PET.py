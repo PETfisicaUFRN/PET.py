{
 "cells": [
  {
   "cell_type": "markdown",
   "id": "40aafd2a-75a4-463e-a3d9-2b0eeaefae45",
   "metadata": {},
   "source": [
    "# Hartre Frock"
   ]
  },
  {
   "cell_type": "markdown",
   "id": "e6644719-c517-49b3-b8a1-c80cbfd0f75e",
   "metadata": {},
   "source": [
    "## 1. Introdução histórica"
   ]
  },
  {
   "cell_type": "markdown",
   "id": "cb522394-8e1d-4c7c-b159-ef793dcdcbc1",
   "metadata": {},
   "source": [
    "No estudo de corpos macroscópicos, estudamos o movimento desses corpos e as causas do movimento aplicando a mecânica clássica. Todavia, ao aplicar fundamentos da mecânica clássica na pespectiva microscopica não obteremos o resultado correto, para tal ponto de vista é necessário outro ramo da física, a chamada Mecânica Quântica. Esta, por sua vez, é o ramo da física responsavel por detalhar uma descrição matemática do comportamento dos elétrons, e consequentemente, dos sistemas químicos.  "
   ]
  },
  {
   "cell_type": "markdown",
   "id": "9910b258-d2df-43aa-a717-7fcaa14e826b",
   "metadata": {},
   "source": [
    "Na mecânica clássica podemos determinar a velocidade e a posição das partículas que constituem um certo sistema oferecido, no entanto, na mecânica quântica as coisas não funcionam deste modo. Pois, pelo principio de Heisenberg, não é possível determinar a velocidade exata e a posição de uma partícula microscopica simultaneamente. Neste caso, para descrever uma partícula, ou melhor, para descrever o estado de um sistema na mecânica quantica, postula-se uma função de coordenadas denonimada de $\\psi $, que se trata de função do tempo $\\psi = \\psi (x,t)$."
   ]
  },
  {
   "cell_type": "markdown",
   "id": "3fbe4239-6d82-4342-b4e2-df3083bc1cf3",
   "metadata": {},
   "source": [
    "Nesta função, chamada de função de onda, tem-se todas as informações possíveis do sistema. A partir desta, é possível estudar sistemas moleculares poliatômicos encontrando a solução da equação de Shrodinger para estes sistemas e descrever o estado quântico. "
   ]
  },
  {
   "cell_type": "markdown",
   "id": "5f81cd2e-50b6-42a2-8599-7212ac656be8",
   "metadata": {},
   "source": [
    "Um vasta quantidade de métodos vem sendo desenvolvido para uma encontrar uma solução estimada da equação de Shrodinger para sistemas com muitos elétrons. A maioria dos métodos tem como base o método  de Hartree-Fock (HF), no entanto, o método HF só leva em consideração a parte da correlação eletrônica, o que por sua vez, faz com que tenhamos que utilizar métodos pós-HF. A energia calculada por esse metodo tem como um erro um fator de 1%, o que por sua vez, é de uma certa forma alto, pois a energia de ligação é algo próximo dos $100 Kcal  mol^{-1}$. Esse erro pode ser corrigido quando levamos em consideração as interações instantâneas entre os elétrons, que por sua vez é chamada de correlação eletrônica. Sendo assim, existem vários métodos feitos a partir do método HF, onde o termo de correlação eletrônica foi introduzida no sistema, a escolha do uso de um determinado método deve ser feita a partir do sistema de interesse a ser estudado e os tipos de propriedades que se pretende estudar. "
   ]
  },
  {
   "cell_type": "markdown",
   "id": "2265ce78-6f95-4088-86c0-195e88b23908",
   "metadata": {},
   "source": [
    "## Equação de Schrodinger"
   ]
  },
  {
   "cell_type": "markdown",
   "id": "8bd8e8cb-150a-4898-9db0-999388af2cad",
   "metadata": {},
   "source": [
    "A equação de Schrodinger é uma equação que descreve a mudança de um estado quântico, $\\Psi(r,t)$, de sistem físico muda com o tempo."
   ]
  },
  {
   "cell_type": "markdown",
   "id": "7a322a7b-57be-4d0b-acf4-db7f3a21f90d",
   "metadata": {},
   "source": [
    "$$ H  \\Psi (r,t) = E \\Psi(r,t) \\tag{1.1}$$ "
   ]
  },
  {
   "cell_type": "markdown",
   "id": "2c04ea24-1046-4904-b886-d4f6cc4624fb",
   "metadata": {},
   "source": [
    "* $\\psi$ é a função de onda"
   ]
  },
  {
   "cell_type": "markdown",
   "id": "176a0cc5-7a8a-494d-aee4-d65cefd42942",
   "metadata": {},
   "source": [
    "* $E$ é a energia associada a esta função "
   ]
  },
  {
   "cell_type": "markdown",
   "id": "e9c7e6ba-3dcd-4d6e-92f8-d59dadd15f26",
   "metadata": {},
   "source": [
    "* $H$ é o operador Hamiltoniano de $\\psi$ com respeito às coordenadas de cada elétron em função do tempo"
   ]
  },
  {
   "cell_type": "markdown",
   "id": "20f98db2-ac64-40de-a418-633a5102a6ce",
   "metadata": {},
   "source": [
    "O estado $\\Psi(r,t)$ é a melhor descrição possível para um sístema físico, de acordo com o primeiro postulado da mecânica quântica."
   ]
  },
  {
   "cell_type": "markdown",
   "id": "24f8dd00-2dea-4cbc-a9fd-d76549aacc7d",
   "metadata": {},
   "source": [
    "No ano de 1926, Max Born postulou qua a densidade de probabilidade de encontrar uma partícula em uma dada posição e um dado instante de tempo t pode ser obtida através da função de onda pela relação:"
   ]
  },
  {
   "cell_type": "markdown",
   "id": "1e63ca69-f16c-499b-be15-31bd5fed298b",
   "metadata": {},
   "source": [
    "$$p(x,t) = |\\Psi(r,t)|^{2} \\tag{1.2}$$"
   ]
  },
  {
   "cell_type": "markdown",
   "id": "6bd7a1b7-544f-4516-b4a1-eb28b0a04b0f",
   "metadata": {},
   "source": [
    "Então, a probabilidade de encontrar uma partícula, em alguma região do espaço, é"
   ]
  },
  {
   "cell_type": "markdown",
   "id": "8d4fc9dd-63a7-423e-be30-255ee98c5b80",
   "metadata": {},
   "source": [
    "$$\\int |\\psi(r,t)|^{2} dr^{3} = 1 \\tag{1.3}$$"
   ]
  },
  {
   "cell_type": "markdown",
   "id": "de78a59e-8e34-4a73-bf5f-80df91900c54",
   "metadata": {},
   "source": [
    "Para ter algum sentido físico as funções de onda precisam possuir algumas propriedades, tais como:"
   ]
  },
  {
   "cell_type": "markdown",
   "id": "5a446725-b787-4262-962d-1f7be7f84ff0",
   "metadata": {},
   "source": [
    "* $\\psi(r,t)$ deve pertencer a uma região finita do espaço de Hilbert, $L^{2}$."
   ]
  },
  {
   "cell_type": "markdown",
   "id": "afaa8879-fdee-438c-a865-35b6fdd7eeff",
   "metadata": {},
   "source": [
    "* $\\psi(r,t)$ é um conjunto de funções de onda composta de funções suficientemente regulares ($\\psi(r,t)$ é um subespaço de $L^{2}$"
   ]
  },
  {
   "cell_type": "markdown",
   "id": "523cb83c-0186-4544-8e88-1d16870e2253",
   "metadata": {},
   "source": [
    "* Precisa ser contínua e diferenciável."
   ]
  },
  {
   "cell_type": "markdown",
   "id": "877a5572-430a-46d8-8815-7b1a07885b3f",
   "metadata": {},
   "source": [
    "* $|\\psi(r,t)|²$ deve ser integrável."
   ]
  },
  {
   "cell_type": "markdown",
   "id": "34121b18-ec61-40e3-8494-41afab115f38",
   "metadata": {},
   "source": [
    "A equação de Schrodinger independente do tempo também pode ser escrita como uma equação de autovalores e autovetores. A equação de Schrodinger independente do tempo para uma molécula com vários atómos composta por N elétrons e M núcleos pode ser escrita como:"
   ]
  },
  {
   "cell_type": "markdown",
   "id": "7aa756d0-58cb-4958-a747-accdf8c676a5",
   "metadata": {},
   "source": [
    "$$H\\psi(r,R) = E\\psi(r,R) \\tag{1.4}$$"
   ]
  },
  {
   "cell_type": "markdown",
   "id": "e2fece32-9e4b-4693-be5a-d4f621576ddc",
   "metadata": {},
   "source": [
    "Sendo que, r e R representam, respectivamente, as coordenadas dos elétrons e núcleos. Para esse caso, o operador Hamiltoniano é representado como sendo:"
   ]
  },
  {
   "cell_type": "markdown",
   "id": "94140f90-5801-4921-91bd-85550803c8c1",
   "metadata": {},
   "source": [
    "$$ H = -\\sum_{i=1}^{N} \\frac{1}{2} \\nabla_i^2-\\sum_{i=1}^{M} \\frac{1}{2M} \\nabla_A^2 - \\sum_{i=1}^{N} \\sum_{A=1}^{M} \\frac{Z_A}{r_{iA}} + \\sum_{A=1}^{M} \\sum_{B>A}^{M} \\frac{Z_A Z_B}{R_{AB}}\n",
    "+ \\sum_{i=1}^{N} \\sum_{j>i}^{N} \\frac{1}{r_{ij}} \\tag{1.5}$$ "
   ]
  },
  {
   "cell_type": "markdown",
   "id": "2810b5d6-f6b3-48f5-ab9a-6bfaeae2e0f5",
   "metadata": {},
   "source": [
    "Sendo que:"
   ]
  },
  {
   "cell_type": "markdown",
   "id": "cb85c6e1-879f-48be-8bb0-8a2e28ff55dd",
   "metadata": {},
   "source": [
    "* $R_{AB}$ é a distância entre os núcleos A e B, $R_{AB} = |R_A - R_B|$\n",
    "* $r_{iA}$ é a distância entre o núcleo A e o elétron i, $r_{iA}=|r_i - R_A|$\n",
    "* $r_{ij}$ é a distância entre os elétrons i e j, $r_{ij} = |r_i - r_j|$\n",
    "* $Z_A$ é o número atômico do átomo A\n",
    "* $M_A$ é a razão da massa do núcleo A em relação ao elétron i"
   ]
  },
  {
   "cell_type": "markdown",
   "id": "996a0bca-5953-404b-945a-edf9c2b8affc",
   "metadata": {},
   "source": [
    "Outra forma de ver a equação é através de:"
   ]
  },
  {
   "cell_type": "markdown",
   "id": "977fc393-6471-4d6e-b7d3-485a9cbd4760",
   "metadata": {},
   "source": [
    "$$ H = T_e + T_N + V_{Ne} + V_N + V_e \\tag{1.6}$$"
   ]
  },
  {
   "cell_type": "markdown",
   "id": "e638732f-0031-4d62-891e-7404dab12d08",
   "metadata": {},
   "source": [
    "Sendo que:"
   ]
  },
  {
   "cell_type": "markdown",
   "id": "6ff33b4c-14fb-4c2d-af63-450dcf669039",
   "metadata": {},
   "source": [
    "* $T_N$ é o operador de energia cinética nuclear\n",
    "* $T_e$ é o operador de energia cinética eletrônica\n",
    "* $V_{Ne}$ é o operador referente á atração núcleo-elétron\n",
    "* $V_e$ é o operador da energia potencial repulsiva elétron-elétron\n",
    "* $V_N$ é operador de energia potencia repulsiva núcleo-núcleo "
   ]
  },
  {
   "cell_type": "markdown",
   "id": "0d163a51-e035-417d-aa9f-38c4e9679376",
   "metadata": {},
   "source": [
    "Sabendo que núcleos são muito pesados, em relação aos elétrons, suas transições são mais lentas do que as transições eletrônicas. Levando isso em conta, para obtermos uma boa aproximação, podemos considerar que os eletrons se movem em um campo de núcleo fixo, essa aproximação, é denonimada de aproximação de Born-Oppenheimer.\n",
    "Como consequência dessa aproximação, é notório, que o segundo termo da equação 6 é desprezado e o terceiro termo da equação 6 é constante, visto que uma vez que o núcleo é fixo a energia cinética do núcleo é zero e a distancia núcleo-eletron não se altera, $T_N = 0$ e $V_{Ne} = const$. Qualquer constante que é adicionada em um operador apenas adiciona ao operador autovalor e não possui nenhum efeito no operador autofunção. Portanto, essa aproximação tem como principal característica separar a equação de Schrodinger independente do tempo em duas partes: uma relacionada á parte eletrônica e outra a parte nuclear."
   ]
  },
  {
   "cell_type": "markdown",
   "id": "db5d4e72-aa7f-45c3-992e-2addecb06a43",
   "metadata": {},
   "source": [
    "A parte eletrônica relata os movimentos do elétrons para uma determinada configuração nuclear. A parte da equação nuclear relata sobre a dinâmica molecular, a interaçãos de núcleos nos informa o estado eletrônico particular do sistema de moleculas e da energia de repulsão entre os núcleos."
   ]
  },
  {
   "cell_type": "markdown",
   "id": "4c6d9da5-4a53-4794-acfc-c81fd6e9132e",
   "metadata": {},
   "source": [
    "Dito isso, com a aproximação a equação do operador Hamiltoniano fica desta forma:"
   ]
  },
  {
   "cell_type": "markdown",
   "id": "bfdc4457-5de9-4bde-b6df-12d84a61deb5",
   "metadata": {},
   "source": [
    "$$ H_T = T_e + V_{Ne} + V_{e} + V_N \\tag{1.7}$$ "
   ]
  },
  {
   "cell_type": "markdown",
   "id": "defb071b-59cc-4f52-9342-acafdd4bf384",
   "metadata": {},
   "source": [
    "Sendo $H_T$ o Hamiltoniano total"
   ]
  },
  {
   "cell_type": "markdown",
   "id": "cc4238b2-36bd-43cb-861b-0d05b6349468",
   "metadata": {},
   "source": [
    "$$ H_T = H_{ele} + V_N \\tag{1.8}$$"
   ]
  },
  {
   "cell_type": "markdown",
   "id": "7309cb30-21a7-40df-be79-db5f1977ba1c",
   "metadata": {},
   "source": [
    "Temos que:"
   ]
  },
  {
   "cell_type": "markdown",
   "id": "e41f36f1-ea7b-4195-bb6a-039e73d85d3f",
   "metadata": {},
   "source": [
    "$H_{ele}$ é o Hamiltoniano eletrônico"
   ]
  },
  {
   "cell_type": "markdown",
   "id": "e7326a24-3d8e-4277-b63e-c35c93267264",
   "metadata": {},
   "source": [
    "Para o átomo de hidrogênio, existem apenas 2 termos do operador Hamiltoniano que continuam presentes na equação, são a energia cinética do elétron (assumindo núcleo fixo) e a energia potencial de interação elétron-núcleo. Para esse caso, existe a possibilidade de utilizar o procedimento de \"separação de variáveis\", no qual a Equação de Schrodinger independete do tempo é separada em três equações que podem ser solucionadas de forma exata. No entanto, foi observado que a equação de Scrodinger não tem solução analítica para sistema moleculares, devido ao fato de serem sistema com uma vasta quantidade de eletróns. Para obter uma solução nesse casos, é preciso utilizar de metodos que são baseados em aproximações matemáticas. Os métodos são denonimados de ab infinito, e graças a esses métodos que conseguimos soluções para a equação de Scrodinger em sistemas de muitos elétrons."
   ]
  },
  {
   "cell_type": "markdown",
   "id": "849233d9-c06e-4a7a-822a-38d71bca5905",
   "metadata": {},
   "source": [
    "alguma coisa"
   ]
  },
  {
   "cell_type": "code",
   "execution_count": null,
   "id": "77e8220c-89bf-4842-8484-9ccaecdff1f2",
   "metadata": {},
   "outputs": [],
   "source": []
  }
 ],
 "metadata": {
  "kernelspec": {
   "display_name": "Python 3 (ipykernel)",
   "language": "python",
   "name": "python3"
  },
  "language_info": {
   "codemirror_mode": {
    "name": "ipython",
    "version": 3
   },
   "file_extension": ".py",
   "mimetype": "text/x-python",
   "name": "python",
   "nbconvert_exporter": "python",
   "pygments_lexer": "ipython3",
   "version": "3.11.4"
  }
 },
 "nbformat": 4,
 "nbformat_minor": 5
}
