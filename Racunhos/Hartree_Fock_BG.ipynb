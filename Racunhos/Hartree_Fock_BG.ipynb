{
 "cells": [
  {
   "cell_type": "markdown",
   "id": "40aafd2a-75a4-463e-a3d9-2b0eeaefae45",
   "metadata": {},
   "source": [
    "# Hartre Frock"
   ]
  },
  {
   "cell_type": "markdown",
   "id": "e6644719-c517-49b3-b8a1-c80cbfd0f75e",
   "metadata": {},
   "source": [
    "## 1. Introdução histórica"
   ]
  },
  {
   "cell_type": "markdown",
   "id": "cb522394-8e1d-4c7c-b159-ef793dcdcbc1",
   "metadata": {},
   "source": [
    "$\\quad$ No estudo de corpos macroscópicos, estudamos o movimento desses corpos e as causas do movimento aplicando a mecânica clássica. Todavia, ao aplicar fundamentos da mecânica clássica na perspectiva microscópica, não obteremos o resultado correto, para tal ponto de vista é necessário outro ramo da física, a chamada Mecânica Quântica. Esta, por sua vez, é o ramo da física responsável por detalhar uma descrição matemática do comportamento dos elétrons e consequentemente dos sistemas químicos."
   ]
  },
  {
   "cell_type": "markdown",
   "id": "9910b258-d2df-43aa-a717-7fcaa14e826b",
   "metadata": {},
   "source": [
    "$\\quad$ Na mecânica clássica, podemos determinar a velocidade e a posição das partículas que constituem um certo sistema oferecido, no entanto, na mecânica quântica as coisas não funcionam deste modo. Pois, pelo princípio de Heisenberg, não é possível determinar a velocidade exata e a posição de uma partícula microscópica simultaneamente. Neste caso, para descrever uma partícula, ou melhor, para descrever o estado de um sistema na mecânica quântica, postula-se uma função de coordenadas denominada de $\\psi $, que se trata de função do tempo $\\psi = \\psi (x,t)$."
   ]
  },
  {
   "cell_type": "markdown",
   "id": "3fbe4239-6d82-4342-b4e2-df3083bc1cf3",
   "metadata": {},
   "source": [
    "$\\quad$ Nesta função, chamada de função de onda, têm-se todas as informações possíveis do sistema. A partir desta, é possível estudar sistemas moleculares poliatômicos, encontrando a solução da equação de Schrödinger para estes sistemas e descrever o estado quântico. "
   ]
  },
  {
   "cell_type": "markdown",
   "id": "bc06c0f0-acfa-4927-b5b0-58a6ab79427b",
   "metadata": {},
   "source": [
    "$\\quad$ Na década de 20, diversos trabalhos sobre como tratar vários elétrons na teoria quântica, quando Enrico Fermi e Llewellyn Thomas em 1927 publicam algumas considerações estatísticas que, por sua vez, poderiam ser utilizadas para aproxiamar a distribuição eletrônica em um átomo. No ano de 1927 Thomas afirmar duas suposições, ele afirma que: \"Electrons are distrbuted uniformly in the six-dimensional phase space for the motion of an electron at the rate of two for each h³ of volume\" (Os elétrons estão distribuídos uniformemente no espaço de fase hexadimensional para o movimento de um elétron à taxa de dois para cada h³\n",
    "de volume) e também foi afirmado outro para uma campo de potencial que: \"[...] is itself determinded by the nuclear charge and his distribuição de elétrons\" ([...] é em si determinado pela carga nuclear e sua distribuição de elétrons). O modelo de Thomas-Fermi é baseado nessas suposições, o que possibilita o calculo de uma aproximação para um gás de férmions se movimentando sobre uma campo externo. Nesse modelo, os principais objetivos são determinar uma forma de calcular a densidade eletrônica e o potencial efetivo, em outras palavras, esse modelo é baseado apenas na densidade eletrônica. Essa teoria foi muito útil para conseguirmos descrever qualitativamente propriedades como a energia dos átomos, no entanto não descreve de maneira razoavel propriedades que dependem dos elétrons de valência, como por exemplo ligações químicas, estabilidade de moléculas, entre outros exemplos. O metodo de Thomas-Fermi serviu de incentivo para Walter-Kohn ao desenvolvimento da Teoria do Funcional da Densidade (Density Functional Theory) na década de 60, teoria essa que é usada até os dias atuais para deduções de funcionais. Em 1927 um ano após Schrodinger publicar a famosa equação, Douglas Hartree propõe outra forma de tratar átomos envolvendo muitos elétrons. Ele propôs usar o método variacional para o Hamiltoniano de muitos elétrons usando como função \"teste\" o produto das funções de onda de cada elétron indivualmente(orbitais), que se tornou conhecido como sendo a aproximação de Hartree. \n",
    "\n"
   ]
  },
  {
   "cell_type": "markdown",
   "id": "5f81cd2e-50b6-42a2-8599-7212ac656be8",
   "metadata": {},
   "source": [
    "$\\quad$ Uma vasta quantidade de métodos vem sendo desenvolvida para encontrar uma solução estimada da equação de Schrödinger para sistemas com muitos elétrons. A maioria dos métodos tem como base o método de Hartree-Fock (HF), no entanto, o método HF só considera a parte da correlação eletrônica, o que, por sua vez, faz com que tenhamos que utilizar métodos pós-HF. A energia calculada por esse método tem como um erro um fator de 1%, o que, por sua vez, é de uma certa forma alto, pois a energia de ligação é algo próximo dos $100 Kcal mol^{-1}$. Esse erro pode ser corrigido quando consideramos as interações instantâneas entre os elétrons, que por sua vez é chamada de correlação eletrônica. Sendo assim, existem vários métodos feitos a partir do método HF, onde o termo de correlação eletrônica foi introduzido no sistema. A escolha do uso de um determinado método deve ser feita a partir do sistema de interesse a ser estudado e os tipos de propriedades que se pretende estudar."
   ]
  },
  {
   "cell_type": "markdown",
   "id": "2265ce78-6f95-4088-86c0-195e88b23908",
   "metadata": {},
   "source": [
    "## 1.1 Equação de Schrodinger"
   ]
  },
  {
   "cell_type": "markdown",
   "id": "8bd8e8cb-150a-4898-9db0-999388af2cad",
   "metadata": {},
   "source": [
    "$\\quad$ A equação de Schrödinger é uma equação que descreve a mudança de um estado quântico, $\\Psi(r,t)$, de um dado sistema físico que muda com o tempo."
   ]
  },
  {
   "cell_type": "markdown",
   "id": "7a322a7b-57be-4d0b-acf4-db7f3a21f90d",
   "metadata": {},
   "source": [
    "$$ H  \\Psi (r,t) = E \\Psi(r,t) \\ .\\tag{1.1}$$ "
   ]
  },
  {
   "cell_type": "markdown",
   "id": "2c04ea24-1046-4904-b886-d4f6cc4624fb",
   "metadata": {},
   "source": [
    "* $\\Psi$ é a função de onda;\n",
    "* $E$ é a energia associada a esta função;\n",
    "* $H$ é o operador Hamiltoniano de $\\Psi$ com respeito às coordenadas de cada elétron em função do tempo."
   ]
  },
  {
   "cell_type": "markdown",
   "id": "20f98db2-ac64-40de-a418-633a5102a6ce",
   "metadata": {},
   "source": [
    "$\\quad$ O estado $\\Psi(r,t)$ é a melhor descrição possível para um sistema físico, de acordo com o primeiro postulado da mecânica quântica."
   ]
  },
  {
   "cell_type": "markdown",
   "id": "24f8dd00-2dea-4cbc-a9fd-d76549aacc7d",
   "metadata": {},
   "source": [
    "$\\quad$ No ano de 1926, Max Born postulou que a densidade de probabilidade de encontrar uma partícula em uma dada posição e um dado instante de tempo $t$ pode ser obtida através da função de onda pela relação"
   ]
  },
  {
   "cell_type": "markdown",
   "id": "1e63ca69-f16c-499b-be15-31bd5fed298b",
   "metadata": {},
   "source": [
    "$$p(x,t) = |\\Psi(r,t)|^{2} \\ .\\tag{1.2}$$"
   ]
  },
  {
   "cell_type": "markdown",
   "id": "6bd7a1b7-544f-4516-b4a1-eb28b0a04b0f",
   "metadata": {},
   "source": [
    "$\\quad$ Então, a probabilidade de encontrar uma partícula, em alguma região do espaço, é"
   ]
  },
  {
   "cell_type": "markdown",
   "id": "8d4fc9dd-63a7-423e-be30-255ee98c5b80",
   "metadata": {},
   "source": [
    "$$\\int |\\Psi(r,t)|^{2} dr^{3} = 1 \\ .\\tag{1.3}$$"
   ]
  },
  {
   "cell_type": "markdown",
   "id": "de78a59e-8e34-4a73-bf5f-80df91900c54",
   "metadata": {},
   "source": [
    "$\\quad$ Para ter algum sentido físico as funções de onda precisam possuir algumas propriedades, tais como:"
   ]
  },
  {
   "cell_type": "markdown",
   "id": "5a446725-b787-4262-962d-1f7be7f84ff0",
   "metadata": {},
   "source": [
    "* $\\Psi(r,t)$ deve pertencer a uma região finita do espaço de Hilbert, $L^{2}$;\n",
    "* $\\Psi(r,t)$ é um conjunto de funções de onda composta de funções suficientemente regulares ($\\psi(r,t)$ é um subespaço de $L^{2}$).\n",
    "* Precisa ser contínua e diferenciável.\n",
    "* $|\\Psi(r,t)|²$ deve ser integrável."
   ]
  },
  {
   "cell_type": "markdown",
   "id": "34121b18-ec61-40e3-8494-41afab115f38",
   "metadata": {},
   "source": [
    "$\\quad$ A equação de Schrödinger independente do tempo também pode ser escrita como uma equação de autovalores e autovetores. A equação de Schrödinger independente do tempo para uma molécula com vários átomos composta por N elétrons e M núcleos pode ser escrita como:"
   ]
  },
  {
   "cell_type": "markdown",
   "id": "7aa756d0-58cb-4958-a747-accdf8c676a5",
   "metadata": {},
   "source": [
    "$$H\\psi(r,R) = E\\psi(r,R) \\ .\\tag{1.4}$$"
   ]
  },
  {
   "cell_type": "markdown",
   "id": "e2fece32-9e4b-4693-be5a-d4f621576ddc",
   "metadata": {},
   "source": [
    "$\\quad$ Sendo que, $r$ e $R$ representam, respectivamente, as coordenadas dos elétrons e núcleos. Para esse caso, o operador Hamiltoniano é representado como sendo:"
   ]
  },
  {
   "cell_type": "markdown",
   "id": "94140f90-5801-4921-91bd-85550803c8c1",
   "metadata": {},
   "source": [
    "$$ H = -\\sum_{i=1}^{N} \\frac{1}{2} \\nabla_i^2-\\sum_{i=1}^{M} \\frac{1}{2M} \\nabla_A^2 - \\sum_{i=1}^{N} \\sum_{A=1}^{M} \\frac{Z_A}{r_{iA}} + \\sum_{A=1}^{M} \\sum_{B>A}^{M} \\frac{Z_A Z_B}{R_{AB}}\n",
    "+ \\sum_{i=1}^{N} \\sum_{j>i}^{N} \\frac{1}{r_{ij}} \\ .\\tag{1.5}$$ "
   ]
  },
  {
   "cell_type": "markdown",
   "id": "2810b5d6-f6b3-48f5-ab9a-6bfaeae2e0f5",
   "metadata": {},
   "source": [
    "$\\quad$ Sendo que:"
   ]
  },
  {
   "cell_type": "markdown",
   "id": "cb85c6e1-879f-48be-8bb0-8a2e28ff55dd",
   "metadata": {},
   "source": [
    "* $R_{AB}$ é a distância entre os núcleos A e B, $R_{AB} = |R_A - R_B|$;\n",
    "* $r_{iA}$ é a distância entre o núcleo A e o elétron i, $r_{iA}=|r_i - R_A|$;\n",
    "* $r_{ij}$ é a distância entre os elétrons i e j, $r_{ij} = |r_i - r_j|$;\n",
    "* $Z_A$ é o número atômico do átomo A;\n",
    "* $M_A$ é a razão da massa do núcleo A em relação ao elétron i."
   ]
  },
  {
   "cell_type": "markdown",
   "id": "996a0bca-5953-404b-945a-edf9c2b8affc",
   "metadata": {},
   "source": [
    "$\\quad$ Outra forma de ver a equação é através de"
   ]
  },
  {
   "cell_type": "markdown",
   "id": "977fc393-6471-4d6e-b7d3-485a9cbd4760",
   "metadata": {},
   "source": [
    "$$ H = T_e + T_N + V_{Ne} + V_N + V_e \\ .\\tag{1.6}$$"
   ]
  },
  {
   "cell_type": "markdown",
   "id": "e638732f-0031-4d62-891e-7404dab12d08",
   "metadata": {},
   "source": [
    "Sendo que:"
   ]
  },
  {
   "cell_type": "markdown",
   "id": "6ff33b4c-14fb-4c2d-af63-450dcf669039",
   "metadata": {},
   "source": [
    "* $T_N$ é o operador de energia cinética nuclear;\n",
    "* $T_e$ é o operador de energia cinética eletrônica;\n",
    "* $V_{Ne}$ é o operador referente à atração núcleo-elétron;\n",
    "* $V_e$ é o operador da energia potencial repulsiva elétron-elétron;\n",
    "* $V_N$ é operador de energia potencia repulsiva núcleo-núcleo."
   ]
  },
  {
   "cell_type": "markdown",
   "id": "0d163a51-e035-417d-aa9f-38c4e9679376",
   "metadata": {},
   "source": [
    "$\\quad$ Sabendo que núcleos são muito pesados, em relação aos elétrons, suas transições são mais lentas do que as transições eletrônicas. Levando isso em conta, para obtermos uma boa aproximação, podemos considerar que os elétrons se movem em um campo de núcleo fixo, essa aproximação, é denominada de aproximação de Born-Oppenheimer.\n",
    "Como consequência dessa aproximação, é notório, que o segundo termo da equação (1.6) é desprezado e o terceiro termo da equação (1.6) é constante, visto que uma vez que o núcleo é fixo a energia cinética do núcleo é zero e a distância núcleo-elétron não se altera, $T_N = 0$ e $V_{Ne} = const$. Qualquer constante adicionada em um operador apenas adiciona ao operador autovalor e não possui nenhum efeito no operador autofunção. Portanto, essa aproximação tem como principal característica separar a equação de Schrödinger independente do tempo em duas partes: uma relacionada à parte eletrônica e outra a parte nuclear."
   ]
  },
  {
   "cell_type": "markdown",
   "id": "db5d4e72-aa7f-45c3-992e-2addecb06a43",
   "metadata": {},
   "source": [
    "$\\quad$ A parte eletrônica relata os movimentos dos elétrons para uma determinada configuração nuclear. A parte da equação nuclear relata sobre a dinâmica molecular, as interações de núcleos nos informa o estado eletrônico particular do sistema de moléculas e da energia de repulsão entre os núcleos."
   ]
  },
  {
   "cell_type": "markdown",
   "id": "4c6d9da5-4a53-4794-acfc-c81fd6e9132e",
   "metadata": {},
   "source": [
    "$\\quad$ Dito isso, com a aproximação a equação do operador Hamiltoniano fica desta forma"
   ]
  },
  {
   "cell_type": "markdown",
   "id": "bfdc4457-5de9-4bde-b6df-12d84a61deb5",
   "metadata": {},
   "source": [
    "$$ H_T = T_e + V_{Ne} + V_{e} + V_N \\ .\\tag{1.7}$$ "
   ]
  },
  {
   "cell_type": "markdown",
   "id": "defb071b-59cc-4f52-9342-acafdd4bf384",
   "metadata": {},
   "source": [
    "$\\quad$ Sendo $H_T$ o Hamiltoniano total"
   ]
  },
  {
   "cell_type": "markdown",
   "id": "cc4238b2-36bd-43cb-861b-0d05b6349468",
   "metadata": {},
   "source": [
    "$$ H_T = H_{ele} + V_N \\ .\\tag{1.8}$$"
   ]
  },
  {
   "cell_type": "markdown",
   "id": "7309cb30-21a7-40df-be79-db5f1977ba1c",
   "metadata": {},
   "source": [
    "$\\quad$ Temos que $H_{ele}$ é o Hamiltoniano eletrônico."
   ]
  },
  {
   "cell_type": "markdown",
   "id": "e7326a24-3d8e-4277-b63e-c35c93267264",
   "metadata": {},
   "source": [
    "$\\quad$ Para o átomo de hidrogênio, existem apenas 2 termos do operador Hamiltoniano que continuam presentes na equação, são a energia cinética do elétron (assumindo núcleo fixo) e a energia potencial de interação elétron-núcleo. Para esse caso, existe a possibilidade de utilizar o procedimento de “separação de variáveis”, no qual a Equação de Schrödinger independente do tempo é separada em três equações que podem ser solucionadas de forma exata. No entanto, foi observado que a equação de Schrödinger não tem solução analítica para sistema moleculares, por serem sistemas com uma vasta quantidade de elétrons. Para obter uma solução nesse caso, é preciso utilizar de métodos baseados em aproximações matemáticas. Os métodos são denominados de ab initio, e graças a esses métodos que conseguimos soluções para a equação de Schrödinger em sistemas de muitos elétrons."
   ]
  },
  {
   "cell_type": "markdown",
   "id": "849233d9-c06e-4a7a-822a-38d71bca5905",
   "metadata": {},
   "source": [
    "## 1.2 Método Hartree-Fock-Roothan"
   ]
  },
  {
   "cell_type": "markdown",
   "id": "bf092621-ba96-4de6-91b2-06386b328ad5",
   "metadata": {},
   "source": [
    "$\\quad$ O método Hartree-Fock (HF) é um método usado para determinar funções de onda e energia no estado fundamental de sistemas quânticos de vários corpos. O método HF serve como base da teoria do orbital molecular, que afirma que cada movimento do elétron pode ser determinado por uma função(orbital) que não depende de maneira explicita da movimentação instantânea de cada elétron. O método HF é o começo para todos os outros métodos quânticos ab initio. "
   ]
  },
  {
   "cell_type": "markdown",
   "id": "b0547afa-c310-4081-9900-9c230a95492b",
   "metadata": {},
   "source": [
    "$\\quad$ No fim da década de 1920, logo após da determinação da equação de Schrödinger, o método HF teve sua origem. No ano de 1927 J.R. Hartree introduz o método do campo autoconsciente para o cálculo aproximado de funções de onda e de energias para íons e átomos. Em outras palavras, Hartree propõe utilizar o método varicional para o Hamiltoniano de muitos elétrons usando como função \"teste\", o produto das funções de onda de cada elétron individualmente. Esse método ficou conhecido como método de Hartree."
   ]
  },
  {
   "cell_type": "markdown",
   "id": "f3bebf7c-8151-43dd-8191-11a6b83b538d",
   "metadata": {},
   "source": [
    "$\\quad$ Hartree realizou considerações de suma importância em um primeiro estágio na pesquisa para resolver o problema da equação de Schrödinger de sistemas multieletrônico. Hartree fez uma aproximação do termo de interação entre elétrons para um termo de campo médio, deste modo, a separação de funções de onda de cada elétron foi possível, para um sistema de N elétrons."
   ]
  },
  {
   "cell_type": "markdown",
   "id": "99119fc7-7d76-46ba-81f4-3a5eae6693c2",
   "metadata": {},
   "source": [
    "$$ \\psi(r) = \\psi_1(r_1)\\psi_2(r_2)\\psi_3(r_3)\\psi_4(r_4)..., = \\prod_{i}^{N}\\psi_i(r_i) \\ . \\tag{1.9}$$"
   ]
  },
  {
   "cell_type": "markdown",
   "id": "efc4c692-a523-4ccf-a696-ed638323e8dd",
   "metadata": {},
   "source": [
    "$\\quad$ Esse produto é denominado de produto de Hartree, com este produto a equação de Schrödinger pode ser dividida em N equações independentes para cada elétron. Essa aproximação trata os elétrons como sendo funções de onda independentes e isso, por sua vez, traz sérias implicações, uma vez que, trata a parte de correlação eletrônica."
   ]
  },
  {
   "cell_type": "markdown",
   "id": "ad34a371-88ec-4502-928b-4b8076ca17b7",
   "metadata": {},
   "source": [
    "## 1.3 Determinante de Slater"
   ]
  },
  {
   "cell_type": "markdown",
   "id": "71c59158-e197-459f-b8e3-1ce1996cd59c",
   "metadata": {},
   "source": [
    "$\\quad$ No ano de 1930, de maneira independente, Slater e Fock, demonstraram que o método de Hartree não obedece o princípio da antissimetria da função de onda.  Hartree usou um metódo que utilizava o principío da exclusão de Pauli em sua antiga forma, que proibia a presença de dois elétrons em um mesmo estado quântico. Posteriormente que um determinante de Slater satisfaz esse princípio variacional. No ano de 1935 Hartree reajusta o metódo tornando ele mais adequado para a utilização do princípio variacional. Hatree reformulou seu método tornando mais adequado. Ele aproximou o termo de interação intereletrônica para um termo de campo médio, $v^{HF}$ que é resultado da presença dos demais elétrons.  A função de onda eletrônica antissimétrica é expressa através de um determinate de Slater. Esse determinante é a forma mais básica de função de onda antissimétrica utilizada para descrever o estado fundamental de sistemas contendo N elétrons."
   ]
  },
  {
   "cell_type": "markdown",
   "id": "562f3009-0844-4bf4-bc0f-65551291805a",
   "metadata": {},
   "source": [
    "$\\quad$ Considerando que um sistema de dois elétrons em que os orbitais spin $x_i$ e $x_i$ estão ocupados. Se o eléteron 1 estiver em $x_i$ e o elétron 2 estiver em $x_i$, e vice-versa, tem-se que:"
   ]
  },
  {
   "cell_type": "markdown",
   "id": "156b1470-9663-457c-b985-ac398858bddd",
   "metadata": {},
   "source": [
    "$$\\psi_{12}^{''} = X_i(x_1)X_j(x_2) \\quad \\psi_{21}^{''} = X_i(x_2)X_j(x_1)$$"
   ]
  },
  {
   "cell_type": "markdown",
   "id": "fae5183a-673b-422d-b823-475b3b7809dc",
   "metadata": {},
   "source": [
    "$\\quad$  De maneira clara, cada um desses orbitais distingue os elétrons individualmente. No entanto, é possível obter uma função de onda que não faz essa distinção e ainda satisfaz o princípio de exclusão de Pauli, combinando linearmente esses dois produtos."
   ]
  },
  {
   "cell_type": "markdown",
   "id": "2bc8a8a6-ca4b-41c3-a859-697d04f8e99a",
   "metadata": {},
   "source": [
    "$\\psi(x_1,x_2) = \\frac{1}{\\sqrt{2}}(X_i(x_1)X_j(x_2) - X_j(x_1)X_i(x_2)) = \\frac{1}{\\sqrt{2}} \\begin{vmatrix} X_i(x_1) & X_j(x_1) \\\\ X_i(x_2) & X_j(x_2)\\end{vmatrix}\\text{.} \\tag{1.10}$ "
   ]
  },
  {
   "cell_type": "markdown",
   "id": "eec2ac51-dae9-402e-80fc-1db317874384",
   "metadata": {},
   "source": [
    "Cujo o fator de $2^{-1/2}$ é um fator de normalização e o sinal negativo asseura a antissimetria de $\\psi^H$ com relação a troca de coordenadas dos elétrons 1 e 2.\n",
    "\n",
    "Logo, para um sistema de N elétrons temos que:"
   ]
  },
  {
   "cell_type": "markdown",
   "id": "797618a3-7c3c-4a29-bf7d-eaf4723fd964",
   "metadata": {},
   "source": [
    "$\\psi(x_1,x_2,...,x_N)=\\frac{1}{\\sqrt{N!}} \\begin{vmatrix} X_i(x_1) & X_j(x_1) & \\cdots & X_k(x_1) \\\\ X_i(x_2) & X_j(x_2) & \\cdots & X_K(x_2) \\\\  \\vdots & \\vdots & \\ddots & \\vdots \\\\ X_i(x_N) & X_j(x_N) & \\cdots & X_k(x_N)\\\\ \\end{vmatrix} \\text{.} \\tag{1.11}$"
   ]
  },
  {
   "cell_type": "markdown",
   "id": "2de29642-1e59-4f83-b609-d326ef574a75",
   "metadata": {},
   "source": [
    "$\\psi(x_1,x_2,...,X_N)= |X_i (x_1) X_j(x_2)...X_k(x_N)\\rangle = |X_i X_j...X_k\\rangle \\text{.} \\tag{1.12}$"
   ]
  },
  {
   "cell_type": "markdown",
   "id": "9a24391b-6478-40e0-9b11-2ea74cf9b391",
   "metadata": {},
   "source": [
    "$\\quad$ A troca de coordenadas de dois elétrons corresponde a permutação de duas linhas do determinante de Slater, resultando na mudança de sinal do determinante. Quando dois elétrons ocupam o mesmo orbital de spin, isso se traduz em duas colunas idênticas no determinante, tornando-o zero. Assim, de acordo com o Princípio de Exclusão de Pauli, não mais do que um elétron pode ocupar um determinado orbital de spin."
   ]
  },
  {
   "cell_type": "markdown",
   "id": "86da2c1b-a771-47d8-afd3-b7baf16c2a8f",
   "metadata": {},
   "source": [
    "## 1.4 Hartree-Fock"
   ]
  },
  {
   "cell_type": "markdown",
   "id": "4bcfade7-5d3d-42c8-b5ac-40df1df46a94",
   "metadata": {},
   "source": [
    "O método de Hartree-Fock é uma abordagem fundamental na teoria de estrutura eletrônica que descreve sistemas moleculares e atômicos. Em essência, cada elétron em um sistema é caracterizado por uma função de onda que depende apenas das coordenadas desse elétron. Isso significa que a função de onda de cada elétron é tratada como se todos os outros elétrons estivessem presentes em uma média estatística, criando uma abordagem autoconsistente.\n",
    "\n",
    "Uma das premissas do método de Hartree-Fock é que a probabilidade de encontrar um elétron em um ponto específico nas proximidades de um núcleo é determinada principalmente pela posição em relação a esse núcleo, ignorando as influências dos outros núcleos. Isso é conhecido como a aproximação de campo médio.\n",
    "\n",
    "Além disso, o método de Hartree-Fock emprega o conceito de troca de elétrons, onde o efeito da troca quântica entre elétrons é modelado por uma correção que leva em conta a indistinguibilidade dos elétrons. Essa troca é fundamental para obter uma descrição precisa da correlação eletrônica e é incorporada ao cálculo por meio de termos adicionais na equação de Hartree-Fock.\n",
    "\n",
    "Em resumo, o método de Hartree-Fock oferece uma abordagem eficaz para calcular as propriedades eletrônicas de sistemas moleculares e atômicos, tratando cada elétron de forma individual, considerando sua interação com os núcleos e a troca quântica entre eles."
   ]
  },
  {
   "cell_type": "markdown",
   "id": "59174008-ae02-4457-93fb-6d003e203f9f",
   "metadata": {},
   "source": [
    "## Referências"
   ]
  },
  {
   "cell_type": "markdown",
   "id": "23a3cec4-2d5a-4d29-a974-1373b9e72ce8",
   "metadata": {},
   "source": [
    "https://www.ifsc.usp.br/~strontium/Teaching/Material2015-2%20SFI5814%20Atomicamolecular/Seminario%20-%20Carlos%20-%20Hartree-Fock.pdf"
   ]
  },
  {
   "cell_type": "markdown",
   "id": "78691c7b-642d-4480-bb55-f4cf9b7d6d63",
   "metadata": {},
   "source": [
    "https://www.ifsc.usp.br/~strontium/Teaching/Material2014-1%20SFI5774%20Mecanicaquantica/Seminario%20-%20Ramon%20-%20O%20metodo%20de%20Hartree-Fock.pdf"
   ]
  },
  {
   "cell_type": "markdown",
   "id": "d6c69bff-790c-403d-a1d6-f55f8b9f75ef",
   "metadata": {},
   "source": [
    "SZABO, A.; OSTLUND, N. S. Modern Quantum Chemistry. [s.l.] Courier Corporation, 2012."
   ]
  },
  {
   "cell_type": "code",
   "execution_count": null,
   "id": "309580ea-c4f0-4b24-acb9-014665938907",
   "metadata": {},
   "outputs": [],
   "source": []
  },
  {
   "cell_type": "code",
   "execution_count": null,
   "id": "a50ffbcb-ff18-4139-acc1-42927ba8b0d9",
   "metadata": {},
   "outputs": [],
   "source": []
  }
 ],
 "metadata": {
  "kernelspec": {
   "display_name": "Python 3 (ipykernel)",
   "language": "python",
   "name": "python3"
  },
  "language_info": {
   "codemirror_mode": {
    "name": "ipython",
    "version": 3
   },
   "file_extension": ".py",
   "mimetype": "text/x-python",
   "name": "python",
   "nbconvert_exporter": "python",
   "pygments_lexer": "ipython3",
   "version": "3.11.3"
  }
 },
 "nbformat": 4,
 "nbformat_minor": 5
}
