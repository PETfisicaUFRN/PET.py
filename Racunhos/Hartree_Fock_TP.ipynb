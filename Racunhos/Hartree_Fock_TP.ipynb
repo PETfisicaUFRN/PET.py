{
 "cells": [
  {
   "cell_type": "markdown",
   "id": "88e7b484",
   "metadata": {},
   "source": [
    "## 3. Funções de Base e as Equações de Roothaan ##\n",
    "\n",
    "\n"
   ]
  },
  {
   "cell_type": "markdown",
   "id": "b7aacfd8",
   "metadata": {},
   "source": [
    "Até esse momento nós desenvolvemos as equações de Hartree-Fock de uma perspectiva matemática formal para um conjunto geral arbitrário de spin-orbitais. Esse desenvolvimento matemático é extremamente valioso para dar uma base sólida à aproximação de Hartree-Fock e também para dar sentido físico aos resultados que podem ser obtidos a partir dela. Esse tratamento matemático, porém, não nos dá nenhuma informação sobre a forma dos spin-orbitais e, por consequência, como as equações de Hartree-Fock só podem ser solucionadas iterativamente, ainda não nos permite realizar nenhum cálculo fisicamente significante. Para que possamos fazer isso, devemos dar uma forma específica para os spin-orbitais.\n",
    "\n",
    "Antes de dar uma forma exata a eles, porém, é necessário fazer uma distinção entre dois tipos de spin-orbitais comumente utilizados na literatura: os spin-orbitais restritos e irrestritos. Essas duas classes de autofunções do operador de Fock tem uma diferença bem específica: os spin-orbitais restritos possuem necessariamente a mesma função de onda espacial para elétrons com spin up e elétrons com spin down, enquanto os irrestritos, como o nome já diz, não obedecem essa limitação.\n",
    "\n",
    "Nesse notebook, nos limitaremos a utilizar o método de Hartree-Fock com spin-orbitais restritos e camadas fechadas, o que significa que utilizaremos a mesma função de onda espacial para spin-orbitais de ambas as orientações do spin e também estudaremos apenas casos em que cada orbital eletrônico está ocupado por dois elétrons, um com spin up e outro com spin down. Dessa forma, não temos spins desemparelhados e consequentemente nossas configurações eletrônicas são no, no geral, mais estáveis."
   ]
  },
  {
   "cell_type": "markdown",
   "id": "916c2872",
   "metadata": {},
   "source": [
    "### 3.1. Spin-Orbitais Restritos de Camada Fechada ###\n",
    "\n",
    "Como para spin-orbitais restritos utilizamos a mesma função espacial para todos os spin-orbitais, temos que as expressões que podem representar $\\chi$ são da forma\n",
    "\n",
    "$$  {\\chi_i (\\textbf{x}) = \\begin{cases} \n",
    "          \\psi_j(\\textbf{r})\\alpha(\\omega)\\\\\n",
    "          \\psi_j(\\textbf{r})\\beta(\\omega)\n",
    "       \\end{cases}   \n",
    "}$$\n",
    "\n",
    "Onde as funções $\\alpha(\\omega)$ e $\\beta(\\omega)$ representam os spins up e down, respectivamente e $\\textbf{x} = (\\textbf{r}, \\omega)$ é o conjunto das variáveis das quais $\\chi_i$ depende: a posição espacial $\\textbf{r}$ e uma variável $\\omega$ que define o comportamento dos spins.\n",
    "\n",
    "Como estamos tratando spin-orbitais de camada fechada, temos que o ground-state do nosso sistema deve ter a forma\n",
    "\n",
    "$$\\vert\\Psi_0\\rangle = \\vert\\chi_1 \\chi_2 \\cdot \\cdot \\cdot \\chi_{N-1} \\chi_n \\rangle = \\vert \\psi_1 \\overline{\\psi}_1\n",
    "\\psi_2 \\overline{\\psi}_2 \\cdot \\cdot \\cdot \\psi_a \\overline{\\psi}_a \\cdot \\cdot \\cdot \\psi_{N/2} \\overline{\\psi}_{N/2}\\rangle$$\n",
    "\n",
    "Onde a utilizamos $\\psi_j =  \\psi_j \\alpha(\\omega)$ para denotar os spin-orbitais com spin up e $\\overline{\\psi_j} =  \\psi_j \\beta(\\omega)$ para denotar os que tem spin down no $j$-ésimo orbital espacial. O estado fundamental se reduz a essa forma uma vez que, como cada orbital espacial terá um spin up e um spin down, para $N$ elétrons no total, teremos $\\frac{N}{2}$ elétrons com spin up e $\\frac{N}{2}$ elétrons com spin down, por isso temos o produto de $\\frac{N}{2}$ pares de orbitais.\n",
    "\n",
    "Agora, para que possemos nos aproveitar do formalismo dos orbitais espaciais, devemos converter a equação geral de Hartree-Fock para spin-orbitais $f \\vert \\chi_i \\rangle = \\epsilon_i \\vert \\chi_i \\rangle$ em uma equação de autovalor de orbitais espaciais onde cada um desses orbitais moleculares está duplamente ocupado. Para isso, devemos integrar as funções de spin $\\alpha(\\omega)$ e $\\beta(\\omega)$ para fora da nossa expressão.\n",
    "\n",
    "Para realizar esse procedimento, vamos primeiro escrever a equação de autovalor de Hartree-Fock explicitando as funções de orbital espacial e de spin. Para essa demonstração, presumiremos que temos spin up ($\\chi_i(\\textbf{x}) = \\psi_j(\\textbf{r})\\alpha(\\omega)$). O resultado para o caso de spin down é idêntico. Temos então que a equação toma a forma\n",
    "\n",
    "$$f(\\textbf{x}_i) \\psi_j(\\textbf{r}_i) \\alpha(\\omega_i) = \\epsilon_j \\psi_j(\\textbf{r}_i) \\alpha(\\omega_i)$$\n",
    "\n",
    "Temos, nessa equação, que $\\epsilon_i$ e $\\epsilon_j$ devem ser idênticos, porém, manteremos o uso de $\\epsilon_j$ pela homogeneidade da notação. Multiplicando ambos os lados da equação por $\\alpha^*(\\omega_i)$ e integrando em $\\omega_i$, ficamos com\n",
    "\n",
    "$$ {\\left[ \\int \\alpha^*(\\omega_i) f(\\textbf{x}_i) \\alpha(\\omega_i) d\\omega_i \\right] \\psi_j(\\textbf{r}_i)  = \\epsilon_j \\left[ \\int \\alpha^*(\\omega_i)\\alpha(\\omega_i) d\\omega_i \\right] \\psi_j(\\textbf{r}_i) }$$\n",
    "\n",
    "Onde pudemos tirar $\\psi_j(\\textbf{r}_i)$ das integrais uma vez que os orbitais espaciais não dependem de $\\omega_i$. Como o lado direito da equação corresponde ao valor esperado de $\\alpha^*(\\omega_i) \\alpha(\\omega_i)$ e $\\alpha$ é uma autofunção de spin, temos que $\\int\\alpha^*(\\omega_i) \\alpha(\\omega_i) d\\omega_i = 1$. Assim, o lado direito da nossa equação de autovalor se torna apenas $ \\epsilon_j \\psi_j(\\textbf{r}_i)$ e a equação de autovalor se simplifica para\n",
    "\n",
    "$$ {\\left[ \\int \\alpha^*(\\omega_i) f(\\textbf{x}_i) \\alpha(\\omega_i) d\\omega_i \\right] \\psi_j(\\textbf{r}_i)  = \\epsilon_j \\psi_j(\\textbf{r}_i)} $$\n",
    "\n",
    "Escrevendo o operador de Fock para spin-orbitais como\n",
    "\n",
    "$${f(\\textbf{x}_i) = h(\\textbf{r}_i) + \\sum_c ^N \\int \\chi_c ^* (\\textbf{x}_j)r_{ik}^{-1}(1 - P_{ik})\\chi_c (\\textbf{x}_k) d\\textbf{x}_k }$$\n",
    "\n",
    "Onde $P_{ij}$ é um operador cujo efeito é permutar os elétrons $i$ e $k$, chegamos a\n",
    "\n",
    "$$\\left[ \\int \\alpha^*(\\omega_i) h(\\textbf{r}_i)\\alpha(\\omega_i) d\\omega_i \\right] \\psi_j(\\textbf{r}_i) + \\left[\\sum_c \\int \\alpha^*(\\omega_i)\\chi_c^*(\\textbf{x}_k) r_{ik}^{-1}(1- P_{ik})\\chi_c(\\textbf{x}_k)\\alpha(\\omega_i) d\\omega_i d\\textbf{x}_k \\right] \\psi_j(\\textbf{r}_i) = \\epsilon_j \\psi_j(\\textbf{r}_i)$$\n",
    "\n",
    "Se deixarmos $f(\\textbf{r}_i)$ ser o operador de Fock para orbitais espaciais, obtido integrando os spins para fora do operador de Fock para spin-orbitais:\n",
    "\n",
    "$$f(\\textbf{r}_i) = \\int \\alpha^*(\\omega_i) f(\\textbf{x}_i)\\alpha(\\omega_i) d\\omega_i$$\n",
    "\n",
    "Temos que\n",
    "\n",
    "$${f(\\textbf{r}_i) \\psi_j(\\textbf{r}_i) } = h(\\textbf{r}_i)\\psi_j(\\textbf{r}_i) + \\left[\\sum_c \\int \\alpha^*(\\omega_i)\\chi_c^*(\\textbf{x}_k) r_{ik}^{-1}\\chi_c(\\textbf{x}_k)\\alpha(\\omega_i) d\\omega_i d\\textbf{x}_k \\right] \\psi_j(\\textbf{r}_i) - \\left[\\sum_c \\int \\alpha^*(\\omega_i)\\chi_c^*(\\textbf{x}_k) r_{ik}^{-1}\\chi_c(\\textbf{x}_i)\\alpha(\\omega_i) d\\omega_i d\\textbf{x}_k \\right] \\psi_j(\\textbf{r}_i) = \\epsilon_j \\psi_j(\\textbf{r}_i) $$\n",
    "\n",
    "Onde o produto por $(1-P_{ik})$ for aplicado distributivamente dentro da integral. Como o somatório ao longo de todos os spin-orbitais $c$, no caso das camadas fechadas, pode ser separado em um somatório de $\\frac{c}{2}$ elétrons com spin up e $\\frac{c}{2}$ elétrons de spin down, temos:"
   ]
  }
 ],
 "metadata": {
  "kernelspec": {
   "display_name": "Python 3 (ipykernel)",
   "language": "python",
   "name": "python3"
  },
  "language_info": {
   "codemirror_mode": {
    "name": "ipython",
    "version": 3
   },
   "file_extension": ".py",
   "mimetype": "text/x-python",
   "name": "python",
   "nbconvert_exporter": "python",
   "pygments_lexer": "ipython3",
   "version": "3.9.16"
  }
 },
 "nbformat": 4,
 "nbformat_minor": 5
}
