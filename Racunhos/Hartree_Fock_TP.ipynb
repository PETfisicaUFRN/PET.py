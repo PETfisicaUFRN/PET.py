{
 "cells": [
  {
   "cell_type": "markdown",
   "id": "88e7b484",
   "metadata": {},
   "source": [
    "## 3. Funções de Base e as Equações de Roothaan ##\n",
    "\n",
    "\n"
   ]
  },
  {
   "cell_type": "markdown",
   "id": "b7aacfd8",
   "metadata": {},
   "source": [
    "Até esse momento nós desenvolvemos as equações de Hartree-Fock de uma perspectiva matemática formal para um conjunto geral arbitrário de spin-orbitais. Esse desenvolvimento matemático é extremamente valioso para dar uma base sólida à aproximação de Hartree-Fock e também para dar sentido físico aos resultados que podem ser obtidos a partir dela. Esse tratamento matemático, porém, não nos dá nenhuma informação sobre a forma dos spin-orbitais e, por consequência, como as equações de Hartree-Fock só podem ser solucionadas iterativamente, ainda não nos permite realizar nenhum cálculo fisicamente significante. Para que possamos fazer isso, devemos dar uma forma específica para os spin-orbitais.\n",
    "\n",
    "Antes de dar uma forma exata a eles, porém, é necessário fazer uma distinção entre dois tipos de spin-orbitais comumente utilizados na literatura: os spin-orbitais restritos e irrestritos. Essas duas classes de autofunções do operador de Fock tem uma diferença bem específica: os spin-orbitais restritos possuem necessariamente a mesma função de onda espacial para elétrons com spin up e elétrons com spin down, enquanto os irrestritos, como o nome já diz, não obedecem essa limitação.\n",
    "\n",
    "Nesse notebook, nos limitaremos a utilizar o método de Hartree-Fock com spin-orbitais restritos e camadas fechadas, o que significa que utilizaremos a mesma função de onda espacial para spin-orbitais de ambas as orientações do spin e também estudaremos apenas casos em que cada orbital eletrônico está ocupado por dois elétrons, um com spin up e outro com spin down. Dessa forma, não temos spins desemparelhados e consequentemente nossas configurações eletrônicas são no, no geral, mais estáveis."
   ]
  },
  {
   "cell_type": "markdown",
   "id": "f8119f07",
   "metadata": {},
   "source": [
    "### 3.1. Spin-Orbitais Restritos de Camada Fechada ###\n",
    "\n",
    "Como para spin-orbitais restritos utilizamos a mesma função espacial para todos os spin-orbitais, temos que as expressões que podem representar $\\chi$ são da forma\n",
    "\n"
   ]
  },
  {
   "cell_type": "markdown",
   "id": "6d2a9f50",
   "metadata": {},
   "source": [
    "$$  {\\chi_i (\\textbf{x}) = \\begin{cases} \n",
    "          \\psi_j(\\textbf{r})\\alpha(\\omega)\\\\\n",
    "          \\psi_j(\\textbf{r})\\beta(\\omega)\n",
    "       \\end{cases}   \n",
    "} \\tag{3.1}$$"
   ]
  },
  {
   "cell_type": "markdown",
   "id": "614b5716",
   "metadata": {},
   "source": [
    "Onde as funções $\\alpha(\\omega)$ e $\\beta(\\omega)$ representam os spins up e down, respectivamente e $\\textbf{x} = (\\textbf{r}, \\omega)$ é o conjunto das variáveis das quais $\\chi_i$ depende: a posição espacial $\\textbf{r}$ e uma variável $\\omega$ que define o comportamento dos spins."
   ]
  },
  {
   "cell_type": "markdown",
   "id": "a77074df",
   "metadata": {},
   "source": [
    "Como estamos tratando spin-orbitais de camada fechada, temos que o ground-state do nosso sistema deve ter a forma"
   ]
  },
  {
   "cell_type": "markdown",
   "id": "be38f521",
   "metadata": {},
   "source": [
    "$$\\vert\\Psi_0\\rangle = \\vert\\chi_1 \\chi_2 \\cdot \\cdot \\cdot \\chi_{N-1} \\chi_n \\rangle = \\vert \\psi_1 \\overline{\\psi}_1\n",
    "\\psi_2 \\overline{\\psi}_2 \\cdot \\cdot \\cdot \\psi_a \\overline{\\psi}_a \\cdot \\cdot \\cdot \\psi_{N/2} \\overline{\\psi}_{N/2}\\rangle \\tag{3.2}$$"
   ]
  },
  {
   "cell_type": "markdown",
   "id": "353565b4",
   "metadata": {},
   "source": [
    "Onde a utilizamos $\\psi_j =  \\psi_j \\alpha(\\omega)$ para denotar os spin-orbitais com spin up e $\\overline{\\psi_j} =  \\psi_j \\beta(\\omega)$ para denotar os que tem spin down no $j$-ésimo orbital espacial. O estado fundamental se reduz a essa forma uma vez que, como cada orbital espacial terá um spin up e um spin down, para $N$ elétrons no total, teremos $\\frac{N}{2}$ elétrons com spin up e $\\frac{N}{2}$ elétrons com spin down, por isso temos o produto de $\\frac{N}{2}$ pares de orbitais."
   ]
  },
  {
   "cell_type": "markdown",
   "id": "828d2cd8",
   "metadata": {},
   "source": [
    "Agora, para que possemos nos aproveitar do formalismo dos orbitais espaciais, devemos converter a equação geral de Hartree-Fock para spin-orbitais $f \\vert \\chi_i \\rangle = \\epsilon_i \\vert \\chi_i \\rangle$ em uma equação de autovalor de orbitais espaciais onde cada um desses orbitais moleculares está duplamente ocupado. Para isso, devemos integrar as funções de spin $\\alpha(\\omega)$ e $\\beta(\\omega)$ para fora da nossa expressão.\n",
    "\n",
    "Para realizar esse procedimento, vamos primeiro escrever a equação de autovalor de Hartree-Fock explicitando as funções de orbital espacial e de spin. Para essa demonstração, presumiremos que temos spin up ($\\chi_i(\\textbf{x}) = \\psi_j(\\textbf{r})\\alpha(\\omega)$). O resultado para o caso de spin down é idêntico. Temos então que a equação toma a forma\n"
   ]
  },
  {
   "cell_type": "markdown",
   "id": "19334a15",
   "metadata": {},
   "source": [
    "$$f(\\textbf{x}_i) \\psi_j(\\textbf{r}_i) \\alpha(\\omega_i) = \\epsilon_j \\psi_j(\\textbf{r}_i) \\alpha(\\omega_i)$$"
   ]
  },
  {
   "cell_type": "markdown",
   "id": "178472ff",
   "metadata": {},
   "source": [
    "Temos, nessa equação, que $\\epsilon_i$ e $\\epsilon_j$ devem ser idênticos, porém, manteremos o uso de $\\epsilon_j$ pela homogeneidade da notação. Multiplicando ambos os lados da equação por $\\alpha^*(\\omega_i)$ e integrando em $\\omega_i$, ficamos com"
   ]
  },
  {
   "cell_type": "markdown",
   "id": "e0d5df20",
   "metadata": {},
   "source": [
    "$$ {\\left[ \\int \\alpha^*(\\omega_i) f(\\textbf{x}_i) \\alpha(\\omega_i) d\\omega_i \\right] \\psi_j(\\textbf{r}_i)  = \\epsilon_j \\left[ \\int \\alpha^*(\\omega_i)\\alpha(\\omega_i) d\\omega_i \\right] \\psi_j(\\textbf{r}_i) } \\tag{3.3}$$"
   ]
  },
  {
   "cell_type": "markdown",
   "id": "0810b055",
   "metadata": {},
   "source": [
    "Onde pudemos tirar $\\psi_j(\\textbf{r}_i)$ das integrais uma vez que os orbitais espaciais não dependem de $\\omega_i$. Como o lado direito da equação corresponde ao valor esperado de $\\alpha^*(\\omega_i) \\alpha(\\omega_i)$ e $\\alpha$ é uma autofunção de spin, temos que $\\int\\alpha^*(\\omega_i) \\alpha(\\omega_i) d\\omega_i = 1$. Assim, o lado direito da nossa equação de autovalor se torna apenas $ \\epsilon_j \\psi_j(\\textbf{r}_i)$ e a equação de autovalor se simplifica para"
   ]
  },
  {
   "cell_type": "markdown",
   "id": "46862583",
   "metadata": {},
   "source": [
    "$$ {\\left[ \\int \\alpha^*(\\omega_i) f(\\textbf{x}_i) \\alpha(\\omega_i) d\\omega_i \\right] \\psi_j(\\textbf{r}_i)  = \\epsilon_j \\psi_j(\\textbf{r}_i)} \\tag{3.4} $$\n"
   ]
  },
  {
   "cell_type": "markdown",
   "id": "b772614e",
   "metadata": {},
   "source": [
    "Escrevendo o operador de Fock para spin-orbitais como"
   ]
  },
  {
   "cell_type": "markdown",
   "id": "8e83b067",
   "metadata": {},
   "source": [
    "$${f(\\textbf{x}_i) = h(\\textbf{r}_i) + \\sum_c ^N \\int \\chi_c ^* (\\textbf{x}_j)r_{ik}^{-1}(1 - P_{ik})\\chi_c (\\textbf{x}_k) d\\textbf{x}_k } \\tag{3.5}$$"
   ]
  },
  {
   "cell_type": "markdown",
   "id": "278c5bca",
   "metadata": {},
   "source": [
    "Onde $P_{ik}$ é um operador cujo efeito é permutar os elétrons $i$ e $k$, chegamos a"
   ]
  },
  {
   "cell_type": "markdown",
   "id": "4898cdf8",
   "metadata": {},
   "source": [
    "$$\\left[ \\int \\alpha^*(\\omega_i) h(\\textbf{r}_i)\\alpha(\\omega_i) d\\omega_i \\right] \\psi_j(\\textbf{r}_i) + \\left[\\sum_c \\int \\alpha^*(\\omega_i)\\chi_c^*(\\textbf{x}_k) r_{ik}^{-1}(1- P_{ik})\\chi_c(\\textbf{x}_k)\\alpha(\\omega_i) d\\omega_i d\\textbf{x}_k \\right] \\psi_j(\\textbf{r}_i) = \\epsilon_j \\psi_j(\\textbf{r}_i) \\tag{3.6}$$"
   ]
  },
  {
   "cell_type": "markdown",
   "id": "3a69ad52",
   "metadata": {},
   "source": [
    "Se deixarmos $f(\\textbf{r}_i)$ ser o operador de Fock para orbitais espaciais, obtido integrando os spins para fora do operador de Fock para spin-orbitais:"
   ]
  },
  {
   "cell_type": "markdown",
   "id": "97176eda",
   "metadata": {},
   "source": [
    "$$f(\\textbf{r}_i) = \\int \\alpha^*(\\omega_i) f(\\textbf{x}_i)\\alpha(\\omega_i) d\\omega_i \\tag{3.7}$$\n"
   ]
  },
  {
   "cell_type": "markdown",
   "id": "7f712594",
   "metadata": {},
   "source": [
    "Temos que\n"
   ]
  },
  {
   "cell_type": "markdown",
   "id": "de700d32",
   "metadata": {},
   "source": [
    "$${f(\\textbf{r}_i) \\psi_j(\\textbf{r}_i) } = h(\\textbf{r}_i)\\psi_j(\\textbf{r}_i) \\newline + \\left[\\sum_c \\int \\alpha^*(\\omega_i)\\chi_c^*(\\textbf{x}_k) r_{ik}^{-1}\\chi_c(\\textbf{x}_k)\\alpha(\\omega_i) d\\omega_i d\\textbf{x}_k \\right] \\psi_j(\\textbf{r}_i) \\newline -\n",
    "\\left[\\sum_c \\int \\alpha^*(\\omega_i)\\chi_c^*(\\textbf{x}_k) r_{ik}^{-1}\\chi_c(\\textbf{x}_i)\\alpha(\\omega_i) d\\omega_i d\\textbf{x}_k \\right] \\psi_j(\\textbf{r}_i) \\newline = \\epsilon_j \\psi_j(\\textbf{r}_i) \\tag{3.8}$$"
   ]
  },
  {
   "cell_type": "markdown",
   "id": "916c2872",
   "metadata": {},
   "source": [
    "Onde o produto por $(1-P_{ik})$ for aplicado distributivamente dentro da integral. Como o somatório ao longo de todos os spin-orbitais $c$, no caso das camadas fechadas, pode ser separado em um somatório de $\\frac{c}{2}$ elétrons com spin up e $\\frac{c}{2}$ elétrons de spin down, temos:\n"
   ]
  },
  {
   "cell_type": "markdown",
   "id": "bb194fdf",
   "metadata": {},
   "source": [
    "$${f(\\textbf{r}_i) \\psi_j(\\textbf{r}_i) } = h(\\textbf{r}_i)\\psi_j(\\textbf{r}_i) \\newline + \n",
    "\\left[\\sum_c^{N/2} \\int \\alpha^*(\\omega_i)\\psi_c^*(\\textbf{r}_k)\\alpha(\\omega_k) r_{ik}^{-1}\\psi_c(\\textbf{r}_k) \\alpha(\\omega_k)\\alpha(\\omega_i) d\\omega_i d\\omega_k d\\textbf{r}_k \\right] \\psi_j(\\textbf{r}_i) \\newline +\n",
    "\\left[\\sum_c^{N/2} \\int \\alpha^*(\\omega_i)\\psi_c^*(\\textbf{r}_k)\\beta(\\omega_k) r_{ik}^{-1}\\psi_c(\\textbf{r}_k) \\beta(\\omega_k)\\alpha(\\omega_i) d\\omega_i d\\omega_k d\\textbf{r}_k \\right] \\psi_j(\\textbf{r}_i) \\newline -\n",
    "\\left[\\sum_c^{N/2} \\int \\alpha^*(\\omega_i)\\psi_c^*(\\textbf{r}_k)\\alpha(\\omega_k) r_{ik}^{-1}\\psi_c(\\textbf{r}_k) \\alpha(\\omega_i)\\alpha(\\omega_k) d\\omega_i d\\omega_k d\\textbf{r}_k \\right] \\psi_j(\\textbf{r}_i) \\newline -\n",
    "\\left[\\sum_c^{N/2} \\int \\alpha^*(\\omega_i)\\psi_c^*(\\textbf{r}_k)\\beta(\\omega_k) r_{ik}^{-1}\\psi_c(\\textbf{r}_k) \\beta(\\omega_i)\\alpha(\\omega_k) d\\omega_i d\\omega_k d\\textbf{r}_k \\right] \\psi_j(\\textbf{r}_i) \\newline = \\epsilon_j \\psi_j(\\textbf{r}_i) \\tag{3.9}$$"
   ]
  },
  {
   "cell_type": "markdown",
   "id": "2ec6a8a2",
   "metadata": {},
   "source": [
    "A expressão acima é extensa, mas pode ser simplificada a partir de algumas observações:\n",
    "\n",
    "* A integral do último termo inclui uma interação de troca entre elétrons com spin antiparalelo. Como interações de troca só podem ocorrer entre elétrons de spin paralelo, devido à ortogonalidade dos spins up e down no espaço de estados, esse termo deve ser nulo;\n",
    "\n",
    "* Os dois primeiros termos, que representam as interações de Coulomb entre os elétrons, são iguais devido ao fato de que interações de Coulomb não distinguem entre os spins dos elétrons interagentes.\n",
    "\n",
    "Assim, a equação (3.9) se torna:\n",
    "\n",
    "\n",
    "\n"
   ]
  },
  {
   "cell_type": "markdown",
   "id": "a036a955",
   "metadata": {},
   "source": [
    "$${f(\\textbf{r}_i) \\psi_j(\\textbf{r}_i) } = h(\\textbf{r}_i)\\psi_j(\\textbf{r}_i) \\newline + 2\\sum_c ^{N/2} \\left[ \\int\\psi_c^*(\\textbf{r}_k) r_{ik}^{-1}\\psi_c(\\textbf{r}_k) d\\textbf{r}_k \\right] \\psi_j(\\textbf{r}_i) \\newline -\n",
    "\\sum_c^{N/2} \\left[\\left[\\int \\psi_c^*(\\textbf{r}_k) r_{ik}^{-1}\\psi_j(\\textbf{r}_k) d\\textbf{r}_k\\right] \\psi_c(\\textbf{r}_i)\\right]  \\newline = \\epsilon_j \\psi_j(\\textbf{r}_i) \\tag{3.10}$$"
   ]
  },
  {
   "cell_type": "markdown",
   "id": "e63591cb",
   "metadata": {},
   "source": [
    "Onde o primeiro termo representa a soma dos dois termos de interação de Coulomb e o segundo termo representa a interação de troca entre os elétrons."
   ]
  },
  {
   "cell_type": "markdown",
   "id": "8b43963f",
   "metadata": {},
   "source": [
    "Realmente, comparando a equação (3.10) com as equações (2.7) e (2.9), podemos reconhecer as formas dos operadores de Coulomb e de troca. Assim, definimos os operadores de Coulomb e troca para camadas fechadas:"
   ]
  },
  {
   "cell_type": "markdown",
   "id": "e9afbc12",
   "metadata": {},
   "source": [
    "$$ J_c(\\textbf{r}_i) = \\int \\psi_c^*(\\textbf{r}_k) r_{ik}^{-1} \\psi_c(\\textbf{r}_k) d\\textbf{r}_k \\tag{3.11}$$"
   ]
  },
  {
   "cell_type": "markdown",
   "id": "41ede337",
   "metadata": {},
   "source": [
    "$$K_c(\\textbf{r}_i) \\psi_j = \\left[\\int \\psi_c^*(\\textbf{r}_k)r_{ik}^{-1}\\psi_j(\\textbf{r}_i) d\\textbf{r}_k \\right]\\psi_c(\\textbf{r}_i) \\tag{3.12}$$"
   ]
  },
  {
   "cell_type": "markdown",
   "id": "eca01da3",
   "metadata": {},
   "source": [
    "Assim, para simplificar a notação, podemos escrever o operador de Fock para camadas fechadas do i-ésimo elétron como sendo:\n",
    "\n",
    "$$f(i) = h(i) + \\sum_c^{N/2} 2J_c(i) - K_c(i) \\tag{3.13}$$\n",
    "\n",
    "Onde a soma ocorre nos pares de elétrons de spins opostos emparelhados em cada orbital."
   ]
  },
  {
   "cell_type": "markdown",
   "id": "1c48afa3",
   "metadata": {},
   "source": [
    "Comparando a equação (3.13) com a equação (2.13), onde definimos pela primeira fez o operador de Fock, notamos duas diferenças principais:\n",
    "\n",
    "* O somatório no operador de Fock para camadas fechadas vai apenas até $N/2$, enquanto o do operador de Fock geral vai até $N$;\n",
    "* O operador de Fock para camadas fechadas apresenta um fator de $2$ multiplicando o operador de Coulomb dentro do somatório.\n",
    "\n",
    "A interpretação dessas disparidades é bem direta: para moléculas que tem um número par $N$ de elétrons distribuídos em pares de spin oposto ao longo de $N/2$ orbitais espaciais, podemos efetivamente tratar como se cada elétron interagisse com cada um dos outros orbitais com uma interação de Coulomb para cada um dos dois elétrons do orbital (uma vez que essa interação não depende do spin dos elétrons) e uma interação de troca apenas pois, como cada orbital tem um spin up e um spin down e interações de troca entre elétrons de spins antiparalelos são nulas, apenas uma interação de troca por orbital acrescentará à energia de interação do sistema."
   ]
  },
  {
   "cell_type": "markdown",
   "id": "dcb52093",
   "metadata": {},
   "source": [
    "Com isso tudo, temos que a equação de Hartree-Fock restrita para orbitais fechados é idêntica em forma à equação (2.14):\n",
    "\n",
    "$$f(i)\\psi_j(i) = \\epsilon_j\\psi_j(i)$$\n",
    "\n",
    "Com a exceção de que temos funções de onda espaciais $\\psi_j$ ao invés dos spin orbitais $\\chi_j$ e que, nesse caso, o operador de Fock é o dado pela equação (3.13)."
   ]
  },
  {
   "cell_type": "markdown",
   "id": "8a770acf",
   "metadata": {},
   "source": [
    "### 3.2. Funções de Base ###\n",
    "\n"
   ]
  }
 ],
 "metadata": {
  "kernelspec": {
   "display_name": "Python 3 (ipykernel)",
   "language": "python",
   "name": "python3"
  },
  "language_info": {
   "codemirror_mode": {
    "name": "ipython",
    "version": 3
   },
   "file_extension": ".py",
   "mimetype": "text/x-python",
   "name": "python",
   "nbconvert_exporter": "python",
   "pygments_lexer": "ipython3",
   "version": "3.9.16"
  }
 },
 "nbformat": 4,
 "nbformat_minor": 5
}
