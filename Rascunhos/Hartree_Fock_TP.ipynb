{
 "cells": [
  {
   "cell_type": "markdown",
   "id": "88e7b484",
   "metadata": {},
   "source": [
    "## 3. Funções de Base e as Equações de Roothaan ##\n",
    "\n",
    "\n"
   ]
  },
  {
   "cell_type": "markdown",
   "id": "b7aacfd8",
   "metadata": {},
   "source": [
    "$\\quad$ Até esse momento nós desenvolvemos as equações de Hartree-Fock de uma perspectiva matemática formal para um conjunto geral arbitrário de spin-orbitais. Esse desenvolvimento matemático é extremamente valioso para dar uma base sólida à aproximação de Hartree-Fock e também para dar sentido físico aos resultados que podem ser obtidos a partir dela. Esse tratamento matemático, porém, não nos dá nenhuma informação sobre a forma dos spin-orbitais e, por consequência, como as equações de Hartree-Fock só podem ser solucionadas iterativamente, ainda não nos permite realizar nenhum cálculo fisicamente significante. Para que possamos fazer isso, devemos dar uma forma específica para os spin-orbitais.\n",
    "\n",
    "$\\quad$ Antes de dar uma forma exata a eles, porém, é necessário fazer uma distinção entre dois tipos de spin-orbitais comumente utilizados na literatura: os spin-orbitais restritos e irrestritos. Essas duas classes de autofunções do operador de Fock tem uma diferença bem específica: os spin-orbitais restritos possuem necessariamente a mesma função de onda espacial para elétrons com spin up e elétrons com spin down, enquanto os irrestritos, como o nome já diz, não obedecem essa limitação.\n",
    "\n",
    "$\\quad$ Nesse notebook, nos limitaremos a utilizar o método de Hartree-Fock com spin-orbitais restritos e camadas fechadas. O que significa que utilizaremos a mesma função de onda espacial para spin-orbitais de ambas as orientações do spin e também estudaremos apenas casos em que cada orbital eletrônico está ocupado por dois elétrons, um com spin up e outro com spin down. Dessa forma, não temos spins desemparelhados e consequentemente nossas configurações eletrônicas são no, no geral, mais estáveis."
   ]
  },
  {
   "cell_type": "markdown",
   "id": "f8119f07",
   "metadata": {},
   "source": [
    "### 3.1. Spin-Orbitais Restritos de Camada Fechada ###"
   ]
  },
  {
   "cell_type": "markdown",
   "id": "f0146aa0-db8e-4f1d-b0ba-df31d5b02198",
   "metadata": {},
   "source": [
    "$\\quad$ Como para spin-orbitais restritos utilizamos a mesma função espacial para todos os spin-orbitais, temos que as expressões que podem representar $\\chi$ são da forma"
   ]
  },
  {
   "cell_type": "markdown",
   "id": "ba43845f",
   "metadata": {},
   "source": [
    "$$  {\\chi_i (\\textbf{x}) = \\begin{cases} \n",
    "          \\psi_j(\\textbf{r})\\alpha(\\omega)\\\\\n",
    "          \\psi_j(\\textbf{r})\\beta(\\omega)\n",
    "       \\end{cases}   \n",
    "} \\ .\\tag{3.1}$$"
   ]
  },
  {
   "cell_type": "markdown",
   "id": "e36281f4",
   "metadata": {},
   "source": [
    "$\\quad$ Onde as funções $\\alpha(\\omega)$ e $\\beta(\\omega)$ representam os spins up e down, respectivamente e $\\textbf{x} = (\\textbf{r}, \\omega)$ é o conjunto das variáveis das quais $\\chi_i$ depende: a posição espacial $\\textbf{r}$ e uma variável $\\omega$ que define o comportamento dos spins."
   ]
  },
  {
   "cell_type": "markdown",
   "id": "a77074df",
   "metadata": {},
   "source": [
    "$\\quad$ Como estamos tratando spin-orbitais de camada fechada, temos que o estado fundamental do nosso sistema deve ter a forma"
   ]
  },
  {
   "cell_type": "markdown",
   "id": "17d5c620",
   "metadata": {},
   "source": [
    "$$\\vert\\Psi_0\\rangle = \\vert\\chi_1 \\chi_2 \\cdot \\cdot \\cdot \\chi_{N-1} \\chi_n \\rangle = \\vert \\psi_1 \\overline{\\psi}_1\n",
    "\\psi_2 \\overline{\\psi}_2 \\cdot \\cdot \\cdot \\psi_a \\overline{\\psi}_a \\cdot \\cdot \\cdot \\psi_{N/2} \\overline{\\psi}_{N/2}\\rangle \\ . \\tag{3.2}$$"
   ]
  },
  {
   "cell_type": "markdown",
   "id": "f24d2d85",
   "metadata": {},
   "source": [
    "$\\quad$ Onde a utilizamos $\\psi_j =  \\psi_j \\alpha(\\omega)$ para denotar os spin-orbitais com spin up e $\\overline{\\psi_j} =  \\psi_j \\beta(\\omega)$ para denotar os que tem spin down no $j$-ésimo orbital espacial. O estado fundamental se reduz a essa forma uma vez que, como cada orbital espacial terá um spin up e um spin down, para $N$ elétrons no total, teremos $\\frac{N}{2}$ elétrons com spin up e $\\frac{N}{2}$ elétrons com spin down, por isso temos o produto de $\\frac{N}{2}$ pares de orbitais."
   ]
  },
  {
   "cell_type": "markdown",
   "id": "828d2cd8",
   "metadata": {},
   "source": [
    "$\\quad$ Agora, para que possemos nos aproveitar do formalismo dos orbitais espaciais, devemos converter a equação geral de Hartree-Fock para spin-orbitais $f \\vert \\chi_i \\rangle = \\epsilon_i \\vert \\chi_i \\rangle$ em uma equação de autovalor de orbitais espaciais onde cada um desses orbitais moleculares está duplamente ocupado. Para isso, devemos integrar as funções de spin $\\alpha(\\omega)$ e $\\beta(\\omega)$ para fora da nossa expressão.\n",
    "\n",
    "$\\quad$ Para realizar esse procedimento, vamos primeiro escrever a equação de autovalor de Hartree-Fock explicitando as funções de orbital espacial e de spin. Para essa demonstração, presumiremos que temos spin up ($\\chi_i(\\textbf{x}) = \\psi_j(\\textbf{r})\\alpha(\\omega)$). O resultado para o caso de spin down é idêntico. Temos então que a equação toma a forma\n"
   ]
  },
  {
   "cell_type": "markdown",
   "id": "2ccd0646",
   "metadata": {},
   "source": [
    "$$f(\\textbf{x}_i) \\psi_j(\\textbf{r}_i) \\alpha(\\omega_i) = \\epsilon_j \\psi_j(\\textbf{r}_i) \\alpha(\\omega_i) \\ .$$"
   ]
  },
  {
   "cell_type": "markdown",
   "id": "def840d6",
   "metadata": {},
   "source": [
    "$\\quad$ Temos, nessa equação, que $\\epsilon_i$ e $\\epsilon_j$ devem ser idênticos, porém, manteremos o uso de $\\epsilon_j$ pela homogeneidade da notação. Multiplicando ambos os lados da equação por $\\alpha^*(\\omega_i)$ e integrando em $\\omega_i$, ficamos com"
   ]
  },
  {
   "cell_type": "markdown",
   "id": "e0d5df20",
   "metadata": {},
   "source": [
    "$$ {\\left[ \\int \\alpha^*(\\omega_i) f(\\textbf{x}_i) \\alpha(\\omega_i) d\\omega_i \\right] \\psi_j(\\textbf{r}_i)  = \\epsilon_j \\left[ \\int \\alpha^*(\\omega_i)\\alpha(\\omega_i) d\\omega_i \\right] \\psi_j(\\textbf{r}_i) } \\ . \\tag{3.3}$$"
   ]
  },
  {
   "cell_type": "markdown",
   "id": "3525c551",
   "metadata": {},
   "source": [
    "$\\quad$ Onde pudemos tirar $\\psi_j(\\textbf{r}_i)$ das integrais uma vez que os orbitais espaciais não dependem de $\\omega_i$. Como o lado direito da equação corresponde ao valor esperado de $\\alpha^*(\\omega_i) \\alpha(\\omega_i)$ e $\\alpha$ é uma autofunção de spin, temos que $\\int\\alpha^*(\\omega_i) \\alpha(\\omega_i) d\\omega_i = 1$. Assim, o lado direito da nossa equação de autovalor se torna apenas $ \\epsilon_j \\psi_j(\\textbf{r}_i)$ e a equação de autovalor se simplifica para"
   ]
  },
  {
   "cell_type": "markdown",
   "id": "46862583",
   "metadata": {},
   "source": [
    "$$ {\\left[ \\int \\alpha^*(\\omega_i) f(\\textbf{x}_i) \\alpha(\\omega_i) d\\omega_i \\right] \\psi_j(\\textbf{r}_i)  = \\epsilon_j \\psi_j(\\textbf{r}_i)} \\ .\\tag{3.4} $$"
   ]
  },
  {
   "cell_type": "markdown",
   "id": "b772614e",
   "metadata": {},
   "source": [
    "$\\quad$ Escrevendo o operador de Fock para spin-orbitais como"
   ]
  },
  {
   "cell_type": "markdown",
   "id": "b1298b1f",
   "metadata": {},
   "source": [
    "$${f(\\textbf{x}_i) = h(\\textbf{r}_i) + \\sum_c ^N \\int \\chi_c ^* (\\textbf{x}_j)r_{ik}^{-1}(1 - P_{ik})\\chi_c (\\textbf{x}_k) d\\textbf{x}_k } \\ .\\tag{3.5}$$"
   ]
  },
  {
   "cell_type": "markdown",
   "id": "5d866d03",
   "metadata": {},
   "source": [
    "$\\quad$ Onde $P_{ik}$ é um operador cujo efeito é permutar os elétrons $i$ e $k$, chegamos a"
   ]
  },
  {
   "cell_type": "markdown",
   "id": "4898cdf8",
   "metadata": {},
   "source": [
    "$$\\left[ \\int \\alpha^*(\\omega_i) h(\\textbf{r}_i)\\alpha(\\omega_i) d\\omega_i \\right] \\psi_j(\\textbf{r}_i) + \\left[\\sum_c \\int \\alpha^*(\\omega_i)\\chi_c^*(\\textbf{x}_k) r_{ik}^{-1}(1- P_{ik})\\chi_c(\\textbf{x}_k)\\alpha(\\omega_i) d\\omega_i d\\textbf{x}_k \\right] \\psi_j(\\textbf{r}_i) = \\epsilon_j \\psi_j(\\textbf{r}_i) \\ .\\tag{3.6}$$"
   ]
  },
  {
   "cell_type": "markdown",
   "id": "15de06f6",
   "metadata": {},
   "source": [
    "$\\quad$ Se deixarmos $f(\\textbf{r}_i)$ ser o operador de Fock para orbitais espaciais, obtido integrando os spins para fora do operador de Fock para spin-orbitais:"
   ]
  },
  {
   "cell_type": "markdown",
   "id": "97176eda",
   "metadata": {},
   "source": [
    "$$f(\\textbf{r}_i) = \\int \\alpha^*(\\omega_i) f(\\textbf{x}_i)\\alpha(\\omega_i) d\\omega_i \\tag{3.7}\\ .$$"
   ]
  },
  {
   "cell_type": "markdown",
   "id": "7f712594",
   "metadata": {},
   "source": [
    "Temos que"
   ]
  },
  {
   "cell_type": "markdown",
   "id": "5d359694",
   "metadata": {},
   "source": [
    "$${f(\\textbf{r}_i) \\psi_j(\\textbf{r}_i) } = h(\\textbf{r}_i)\\psi_j(\\textbf{r}_i)$$"
   ]
  },
  {
   "cell_type": "markdown",
   "id": "b5df5f18",
   "metadata": {},
   "source": [
    "$$ + \\left[\\sum_c \\int \\alpha^*(\\omega_i)\\chi_c^*(\\textbf{x}_k) r_{ik}^{-1}\\chi_c(\\textbf{x}_k)\\alpha(\\omega_i) d\\omega_i d\\textbf{x}_k \\right] \\psi_j(\\textbf{r}_i) \\tag{3.8}$$\n"
   ]
  },
  {
   "cell_type": "markdown",
   "id": "06770b14",
   "metadata": {},
   "source": [
    "$$-\\left[\\sum_c \\int \\alpha^*(\\omega_i)\\chi_c^*(\\textbf{x}_k) r_{ik}^{-1}\\chi_c(\\textbf{x}_i)\\alpha(\\omega_i) d\\omega_i d\\textbf{x}_k \\right] \\psi_j(\\textbf{r}_i)$$"
   ]
  },
  {
   "cell_type": "markdown",
   "id": "789a2658",
   "metadata": {},
   "source": [
    "$$= \\epsilon_j \\psi_j(\\textbf{r}_i) \\ .$$"
   ]
  },
  {
   "cell_type": "markdown",
   "id": "916c2872",
   "metadata": {},
   "source": [
    "$\\quad$ Onde o produto por $(1-P_{ik})$ for aplicado distributivamente dentro da integral. Como o somatório ao longo de todos os spin-orbitais $c$, no caso das camadas fechadas, pode ser separado em um somatório de $\\frac{c}{2}$ elétrons com spin up e $\\frac{c}{2}$ elétrons de spin down, temos:"
   ]
  },
  {
   "cell_type": "markdown",
   "id": "6d2750cf",
   "metadata": {},
   "source": [
    "$${f(\\textbf{r}_i) \\psi_j(\\textbf{r}_i) } = h(\\textbf{r}_i)\\psi_j(\\textbf{r}_i)$$"
   ]
  },
  {
   "cell_type": "markdown",
   "id": "8c9d4e26",
   "metadata": {},
   "source": [
    " $$+ \n",
    "\\left[\\sum_c^{N/2} \\int \\alpha^*(\\omega_i)\\psi_c^*(\\textbf{r}_k)\\alpha(\\omega_k) r_{ik}^{-1}\\psi_c(\\textbf{r}_k) \\alpha(\\omega_k)\\alpha(\\omega_i) d\\omega_i d\\omega_k d\\textbf{r}_k \\right] \\psi_j(\\textbf{r}_i)$$"
   ]
  },
  {
   "cell_type": "markdown",
   "id": "61b57504",
   "metadata": {},
   "source": [
    "$$+\\left[\\sum_c^{N/2} \\int \\alpha^*(\\omega_i)\\psi_c^*(\\textbf{r}_k)\\beta(\\omega_k) r_{ik}^{-1}\\psi_c(\\textbf{r}_k) \\beta(\\omega_k)\\alpha(\\omega_i) d\\omega_i d\\omega_k d\\textbf{r}_k \\right] \\psi_j(\\textbf{r}_i)\\tag{3.9}$$"
   ]
  },
  {
   "cell_type": "markdown",
   "id": "90a195c8",
   "metadata": {},
   "source": [
    "$$\n",
    "-\\left[\\sum_c^{N/2} \\int \\alpha^*(\\omega_i)\\psi_c^*(\\textbf{r}_k)\\alpha(\\omega_k) r_{ik}^{-1}\\psi_c(\\textbf{r}_k) \\alpha(\\omega_i)\\alpha(\\omega_k) d\\omega_i d\\omega_k d\\textbf{r}_k \\right] \\psi_j(\\textbf{r}_i)$$"
   ]
  },
  {
   "cell_type": "markdown",
   "id": "050a7be7",
   "metadata": {},
   "source": [
    "$$-\\left[\\sum_c^{N/2} \\int \\alpha^*(\\omega_i)\\psi_c^*(\\textbf{r}_k)\\beta(\\omega_k) r_{ik}^{-1}\\psi_c(\\textbf{r}_k) \\beta(\\omega_i)\\alpha(\\omega_k) d\\omega_i d\\omega_k d\\textbf{r}_k \\right] \\psi_j(\\textbf{r}_i)$$"
   ]
  },
  {
   "cell_type": "markdown",
   "id": "e40c8224",
   "metadata": {},
   "source": [
    "$$ = \\epsilon_j \\psi_j(\\textbf{r}_i) \\ .$$"
   ]
  },
  {
   "cell_type": "markdown",
   "id": "2ec6a8a2",
   "metadata": {},
   "source": [
    "$\\quad$ A expressão acima é extensa, mas pode ser simplificada a partir de algumas observações:\n",
    "\n",
    "* A integral do último termo inclui uma interação de troca entre elétrons com spin antiparalelo. Como interações de troca só podem ocorrer entre elétrons de spin paralelo, devido à ortogonalidade dos spins up e down no espaço de estados, esse termo deve ser nulo;\n",
    "\n",
    "* Os dois primeiros termos, que representam as interações de Coulomb entre os elétrons, são iguais porque interações de Coulomb não distinguem entre os spins dos elétrons interagentes.\n",
    "\n",
    "$\\quad$ Assim, a equação (3.9) se torna:"
   ]
  },
  {
   "cell_type": "markdown",
   "id": "3fca7ca9",
   "metadata": {},
   "source": [
    "$${f(\\textbf{r}_i) \\psi_j(\\textbf{r}_i) } = h(\\textbf{r}_i)\\psi_j(\\textbf{r}_i)$$"
   ]
  },
  {
   "cell_type": "markdown",
   "id": "746761f9",
   "metadata": {},
   "source": [
    "$$\\newline + 2\\sum_c ^{N/2} \\left[ \\int\\psi_c^*(\\textbf{r}_k) r_{ik}^{-1}\\psi_c(\\textbf{r}_k) d\\textbf{r}_k \\right] \\psi_j(\\textbf{r}_i) \\tag{3.10}$$"
   ]
  },
  {
   "cell_type": "markdown",
   "id": "7bf0b1ac",
   "metadata": {},
   "source": [
    "$$\\newline -\n",
    "\\sum_c^{N/2} \\left[\\left[\\int \\psi_c^*(\\textbf{r}_k) r_{ik}^{-1}\\psi_j(\\textbf{r}_k) d\\textbf{r}_k\\right] \\psi_c(\\textbf{r}_i)\\right]$$"
   ]
  },
  {
   "cell_type": "markdown",
   "id": "0d523593",
   "metadata": {},
   "source": [
    "$$\\newline = \\epsilon_j \\psi_j(\\textbf{r}_i) \\ .$$"
   ]
  },
  {
   "cell_type": "markdown",
   "id": "22298a6e",
   "metadata": {},
   "source": [
    "$\\quad$ Onde o primeiro termo representa a soma dos dois termos de interação de Coulomb e o segundo termo representa a interação de troca entre os elétrons."
   ]
  },
  {
   "cell_type": "markdown",
   "id": "8b43963f",
   "metadata": {},
   "source": [
    "$\\quad$ Realmente, comparando a equação (3.10) com as equações (2.7) e (2.9), podemos reconhecer as formas dos operadores de Coulomb e de troca. Assim, definimos os operadores de Coulomb e troca para camadas fechadas:"
   ]
  },
  {
   "cell_type": "markdown",
   "id": "e9afbc12",
   "metadata": {},
   "source": [
    "$$ J_c(\\textbf{r}_i) = \\int \\psi_c^*(\\textbf{r}_k) r_{ik}^{-1} \\psi_c(\\textbf{r}_k) d\\textbf{r}_k \\ ,\\tag{3.11}$$"
   ]
  },
  {
   "cell_type": "markdown",
   "id": "41ede337",
   "metadata": {},
   "source": [
    "$$K_c(\\textbf{r}_i) \\psi_j = \\left[\\int \\psi_c^*(\\textbf{r}_k)r_{ik}^{-1}\\psi_j(\\textbf{r}_i) d\\textbf{r}_k \\right]\\psi_c(\\textbf{r}_i) \\ .\\tag{3.12}$$"
   ]
  },
  {
   "cell_type": "markdown",
   "id": "eca01da3",
   "metadata": {},
   "source": [
    "$\\quad$ Assim, para simplificar a notação, podemos escrever o operador de Fock para camadas fechadas do i-ésimo elétron como sendo:"
   ]
  },
  {
   "cell_type": "markdown",
   "id": "2ec479cb",
   "metadata": {},
   "source": [
    "$$f(i) = h(i) + \\sum_c^{N/2} 2J_c(i) - K_c(i) \\ .\\tag{3.13}$$"
   ]
  },
  {
   "cell_type": "markdown",
   "id": "f63a5484",
   "metadata": {},
   "source": [
    "$\\quad$ Onde a soma ocorre nos pares de elétrons de spins opostos emparelhados em cada orbital."
   ]
  },
  {
   "cell_type": "markdown",
   "id": "1c48afa3",
   "metadata": {},
   "source": [
    "$\\quad$ Comparando a equação (3.13) com a equação (2.13), onde definimos pela primeira fez o operador de Fock, notamos duas diferenças principais:\n",
    "\n",
    "* O somatório no operador de Fock para camadas fechadas vai apenas até $N/2$, enquanto o do operador de Fock geral vai até $N$;\n",
    "* O operador de Fock para camadas fechadas apresenta um fator de $2$ multiplicando o operador de Coulomb no somatório.\n",
    "\n",
    "$\\quad$ A interpretação dessas disparidades é bem direta: para moléculas que tem um número par $N$ de elétrons distribuídos em pares de spin oposto ao longo de $N/2$ orbitais espaciais, podemos efetivamente tratar como se cada elétron interagisse com cada um dos outros orbitais com uma interação de Coulomb para cada um dos dois elétrons do orbital (uma vez que essa interação não depende do spin dos elétrons) e uma interação de troca apenas, pois, como cada orbital tem um spin up e um spin down e interações de troca entre elétrons de spins antiparalelos são nulas, apenas uma interação de troca por orbital acrescentará à energia de interação do sistema."
   ]
  },
  {
   "cell_type": "markdown",
   "id": "dcb52093",
   "metadata": {},
   "source": [
    "$\\quad$ Com isso tudo, temos que a equação de Hartree-Fock restrita para orbitais fechados é idêntica em forma à equação (2.14):"
   ]
  },
  {
   "cell_type": "markdown",
   "id": "c0534c5d",
   "metadata": {},
   "source": [
    "$$f(i)\\psi_j(i) = \\epsilon_j\\psi_j(i) \\ .\\tag{3.14}$$"
   ]
  },
  {
   "cell_type": "markdown",
   "id": "4bdbf80d",
   "metadata": {},
   "source": [
    "$\\quad$ Com a exceção de que temos funções de onda espaciais $\\psi_j$ ao invés dos spin orbitais $\\chi_j$ e que, nesse caso, o operador de Fock é o dado pela equação (3.13)."
   ]
  },
  {
   "cell_type": "markdown",
   "id": "8a770acf",
   "metadata": {},
   "source": [
    "### 3.2. Funções de Base ###"
   ]
  },
  {
   "cell_type": "markdown",
   "id": "47bf9f37",
   "metadata": {},
   "source": [
    "$\\quad$ Tendo eliminado o spin da nossa equação de autovalor original, podemos agora tentar encontrar uma forma de solucioná-la. Uma primeira possibilidade que vem à mente é tentar uma solução numérica. Isso, porém, se torna inviável para trabalhar moléculas compostas por vários átomos devido a uma mistura de problemas práticos relacionados à parte computacional do método com o fato de que as equações de Hartree-Fock são inerentemente não-lineares.\n",
    "$\\quad$ Felizmente, há uma solução razoavelmente simples para esse problema: podemos definir um conjunto de funções que formam uma base para o espaço de Hilbert ao qual pertencem os estados possíveis do nosso sistema de interesse. Com uma base completa,  seria possível obter uma expansão exata da função de onda de uma molécula qualquer, porém, devido ao fato de que a dimensão do espaço de Hilbert cresce exponencialmente com o tamanho do sistema, devemos, geralmente, nos limitar a uma base que gere um sub-espaço do espaço de Hilbert de forma a obter a melhor aproximação possível para o estado fundamental do nosso sistema. Assim, podemos escrever $\\psi_j$ da seguinte forma:"
   ]
  },
  {
   "cell_type": "markdown",
   "id": "964df7fe",
   "metadata": {},
   "source": [
    "$$\\psi_j = \\sum_{\\mu = 1} ^K C_{\\mu j}\\psi_j\\ . \\tag{3.15}$$"
   ]
  },
  {
   "cell_type": "markdown",
   "id": "840a45c4",
   "metadata": {},
   "source": [
    "$\\quad$ onde $K$ é o número de funções de base utilizadas. Deve ser bastante intuitivo para qualquer pessoa com uma noção básica de álgebra linear que, quando maior o valor de $K$, maior o subespaço gerado pelo conjunto das funções de base e, consequentemente, melhor será a aproximação do estado da molécula. Substituindo a expansão da equação (3.15) na equação (3.14), chegamos à seguinte expressão:"
   ]
  },
  {
   "cell_type": "markdown",
   "id": "ffa59127",
   "metadata": {},
   "source": [
    "$$f(i) \\sum_\\nu C_{\\nu j} \\phi_{\\nu}(i) = \\epsilon_j \\sum_\\nu C_{\\nu j} \\phi_{\\nu}(i)\\ . \\tag{3.16}$$"
   ]
  },
  {
   "cell_type": "markdown",
   "id": "08bfa201",
   "metadata": {},
   "source": [
    "$\\quad$ Multiplicando os dois lados da equação (3.16) à esquerda por $\\phi_\\mu^*$ e integrando em $\\textbf{r}_i$, temos:"
   ]
  },
  {
   "cell_type": "markdown",
   "id": "535c4197",
   "metadata": {},
   "source": [
    "$$\\sum_\\nu C_{\\nu j} \\int{\\phi_\\mu^*(i) f(i) \\phi_\\nu(i) d\\textbf{r}_i} = \\epsilon_j \\sum_\\nu C_{\\nu j}\\int{\\phi_\\mu^*(i)\\phi_\\nu(i) d\\textbf{r}_i}\\ . \\tag{3.17}$$"
   ]
  },
  {
   "cell_type": "markdown",
   "id": "d52a9663",
   "metadata": {},
   "source": [
    "$\\quad$ Com base na equação acima definimos duas matrizes:\n",
    "* A matriz de sobreposição $\\textbf{S}$, cujos elementos são dados por:"
   ]
  },
  {
   "cell_type": "markdown",
   "id": "48279be3",
   "metadata": {},
   "source": [
    "$$\\textbf{S}_{\\mu \\nu} = \\int{\\phi_\\mu^*(i) \\phi_\\nu(i) d\\textbf{r}_i}\\ .$$"
   ]
  },
  {
   "cell_type": "markdown",
   "id": "c855518b",
   "metadata": {},
   "source": [
    "* A matriz de Fock $\\textbf{F}$, cujos elementos são dados por:"
   ]
  },
  {
   "cell_type": "markdown",
   "id": "1e63231d",
   "metadata": {},
   "source": [
    "$$\\textbf{F}_{\\mu \\nu} = \\int{\\phi_\\mu ^*(i) f(i) \\phi_\\nu(i) d\\textbf{r}_i }\\ .$$"
   ]
  },
  {
   "cell_type": "markdown",
   "id": "3488bd0d",
   "metadata": {},
   "source": [
    "$\\quad$ Ambas as matrizes de sobreposição e de Fock são matrizes quadradadas $K \\times K$, onde $K$ é o número de funções de base utilizadas. É fácil notar que os elementos da matriz de sobreposição são produtos internos entre diferentes funções de base. Como a base utilizada, de forma geral, não é ortogonal (embora presumamos aqui, sem perda de generalidade, que ela é normalizada), esses produtos internos não são necessariamente $0$ fora da diagonal principal. Na verdade, todos os elementos da matriz de sobreposição são medidas do quanto as funções de base $\\phi_\\mu$ e $\\phi_\\nu$ se sobrepõe no espaço de Hilbert e são da seguinte forma:"
   ]
  },
  {
   "cell_type": "markdown",
   "id": "8a29d013",
   "metadata": {},
   "source": [
    "$$  {\\begin{cases} \n",
    "          \\textbf{S}_{\\mu \\nu} = 1, \\mu = \\nu\\\\\n",
    "          0 \\leq \\textbf{S}_{\\mu \\nu}<1, \\mu \\neq \\nu\n",
    "       \\end{cases}   \n",
    "} \\ .$$"
   ]
  },
  {
   "cell_type": "markdown",
   "id": "0fd7c53a",
   "metadata": {},
   "source": [
    "$\\quad$ Tendo definido essas duas matrizes, podemos reescrever a equação (3.17) em função de seus elementos, o que nos dá:"
   ]
  },
  {
   "cell_type": "markdown",
   "id": "2b250c0d",
   "metadata": {},
   "source": [
    "$$ \\sum_\\nu \\textbf{F}_{\\mu \\nu} C_{\\nu j} = \\epsilon_j \\sum_\\nu \\textbf{S}_{\\mu \\nu} C_{\\nu j} \\ . \\tag{3.18}$$"
   ]
  },
  {
   "cell_type": "markdown",
   "id": "64782e71",
   "metadata": {},
   "source": [
    "$\\quad$ Ou, ainda,"
   ]
  },
  {
   "cell_type": "markdown",
   "id": "22aa7db0",
   "metadata": {},
   "source": [
    "$$\\textbf{FC} = \\textbf{SC}\\textbf{E} \\ .\\tag{3.19}$$"
   ]
  },
  {
   "cell_type": "markdown",
   "id": "03deeffe",
   "metadata": {},
   "source": [
    "$\\quad$ Onde $\\textbf{C}$ é uma matriz $K \\times K$ cujos elementos são os coeficientes de expansão $C_{\\mu j}$ e $\\textbf{E}$ é uma matriz diagonal $K \\times K$ tal que:"
   ]
  },
  {
   "cell_type": "markdown",
   "id": "110858cb",
   "metadata": {},
   "source": [
    "$$  \\textbf{E}_{j k} = {\\begin{cases} \n",
    "          \\epsilon_j, j = k\\\\\n",
    "          0, j \\neq k\n",
    "       \\end{cases}   \n",
    "} \\ .$$"
   ]
  },
  {
   "cell_type": "markdown",
   "id": "76d3edae",
   "metadata": {},
   "source": [
    "$\\quad$ As expressões da equação (3.18) são chamadas Equações de Roothaan, em homenagem ao físico e químico neerlandês Clemens C. J. Roothaan, que as desenvolveu durante suas pesquisas de doutorado.\n",
    "\n",
    "$\\quad$ Agora que transformamos as nossas equações de Hartree-Fock em uma equação matricial, dedicaremos a próxima seção a obter uma expressão explícita para a matriz de Fock para que possamos resolver a nossa equação matricial efetivamente."
   ]
  },
  {
   "cell_type": "markdown",
   "id": "2dfe4498",
   "metadata": {},
   "source": [
    "### 3.3. Matriz de Densidade e a Matriz de Fock ###"
   ]
  },
  {
   "cell_type": "markdown",
   "id": "490c86c6",
   "metadata": {},
   "source": [
    "$\\quad$ Na mecânica quântica, a probabilidade de se encontrar um elétron descrito pela função de onda $\\psi_a$ numa vizinhança distando $d\\textbf{r}$ ponto $\\textbf{r}$ do espaço é dada por $|\\psi_a(\\textbf{r})|^2 d\\textbf{r}$. Se tivermos uma molécula de camadas fechadas com cada orbital molecular $\\psi_a$ contendo dois elétrons, a densidade eletrônica total será dada por:"
   ]
  },
  {
   "cell_type": "markdown",
   "id": "5d129c29",
   "metadata": {},
   "source": [
    "$$\\rho(\\textbf{r}) = 2\\sum_{a = 1}^{N/2}|\\psi_a(\\textbf{r})|^2 \\ . \\tag{3.20}$$"
   ]
  },
  {
   "cell_type": "markdown",
   "id": "088e8955",
   "metadata": {},
   "source": [
    "$\\quad$De forma que a integral de $\\rho(\\textbf{r})$ em todo o espaço será dada por:"
   ]
  },
  {
   "cell_type": "markdown",
   "id": "2400352f",
   "metadata": {},
   "source": [
    "$$\\int \\rho(\\textbf{r}) d\\textbf{r} = 2 \\sum_{a = 1}^{N/2} \\int |\\psi_a(\\textbf{r})|^2 d\\textbf{r} \\ .$$"
   ]
  },
  {
   "cell_type": "markdown",
   "id": "63b04273",
   "metadata": {},
   "source": [
    "$$ = 2\\sum_1^{N/2} 1 = 2\\cdot\\frac{N}{2} = N$$"
   ]
  },
  {
   "cell_type": "markdown",
   "id": "e99f703e",
   "metadata": {},
   "source": [
    "$\\quad$ Onde $N$ é o número total de elétrons na molécula. Como $|\\psi_a(\\textbf{r})|^2 = \\psi_a^* \\psi_a$, podemos usar a equação (3.15) para escrever:"
   ]
  },
  {
   "cell_type": "markdown",
   "id": "67d43cdc",
   "metadata": {},
   "source": [
    "$$\\rho(\\textbf{r}) = \\sum_{\\mu \\nu} \\left[2\\sum_a^{N/2}C_{\\mu a}C_{\\nu a}^*\\right]\\phi_\\mu(\\textbf{r})\\phi_\\nu^*(\\textbf{r})\\ .$$"
   ]
  },
  {
   "cell_type": "markdown",
   "id": "249ec836",
   "metadata": {},
   "source": [
    "$$\\rho(\\textbf{r}) = \\sum_{\\mu \\nu}Q_{\\mu \\nu} \\phi_\\mu(\\textbf{r} \\phi_\\nu(\\textbf{r})^* \\ . \\tag{3.21}$$"
   ]
  },
  {
   "cell_type": "markdown",
   "id": "9adbdc04",
   "metadata": {},
   "source": [
    "$\\quad$ Onde $Q_{\\mu \\nu} = 2\\sum_{a = 1}^{N/2}C_{\\mu a}C_{\\nu a}^*$ são os elementos da Matriz de Densidade $\\textbf{Q}$, a qual, dado um conjunto de funções de base {$\\phi_\\mu$}, caracteriza completamente a densidade eletrônica $\\rho(\\textbf{r})$. Agora que definimos a matriz $\\textbf{Q}$, podemos construir a matrix de Fock de forma explícita."
   ]
  },
  {
   "cell_type": "markdown",
   "id": "5cdb03b6",
   "metadata": {},
   "source": [
    "$\\quad$ Lembremos primeiro que, de acordo com a equação (3.13), o operador de Fock pode ser escrito como a soma de um operador de energia de um elétron $h(i)$ com os termos de interação de Coulomb e de Troca. Substituindo a equação (3.13) na definição dos elementos da matriz de Fock $\\textbf{F}_{\\mu \\nu}$, encontramos:"
   ]
  },
  {
   "cell_type": "markdown",
   "id": "911c2df4",
   "metadata": {},
   "source": [
    "$$\\textbf{F}_{\\mu \\nu} = \\int\\phi_\\mu^*(\\textbf{r}_i)h(i)\\phi_\\nu(\\textbf{r}_i) d\\textbf{r}_i + \\sum_{a = 1}^{N/2} \\int \\phi_\\mu^*(\\textbf{r}_i)\\left [2J_a(\\textbf{r}_i - K_a(\\textbf{r}_i) \\right] \\phi_\\nu(\\textbf{r}_i) d\\textbf{r}_i \\ .$$"
   ]
  },
  {
   "cell_type": "markdown",
   "id": "ae0c6e1d",
   "metadata": {},
   "source": [
    "$\\quad$ Onde definimos:"
   ]
  },
  {
   "cell_type": "markdown",
   "id": "4d15e001",
   "metadata": {},
   "source": [
    "$$\\textbf{H}_{\\mu \\nu} = \\int\\phi_\\mu^*(\\textbf{r}_i)h(i)\\phi_\\nu(\\textbf{r}_i) d\\textbf{r}_i \\ . \\tag{3.22}$$"
   ]
  },
  {
   "cell_type": "markdown",
   "id": "5b16df8f",
   "metadata": {},
   "source": [
    "$$(\\mu \\nu |\\lambda \\sigma) = \\int \\int \\phi_\\mu^*(\\textbf{r}_i)\\phi_\\nu(\\textbf{r}_i) r_{ij}^{-1}\\phi_\\lambda^*(\\textbf{r}_j)\\phi_\\sigma(\\textbf{r}_j) d\\textbf{r}_i d\\textbf{r}_j \\ . \\tag{3.23}$$"
   ]
  },
  {
   "cell_type": "markdown",
   "id": "92730ca5",
   "metadata": {},
   "source": [
    "$\\quad$ Tal que podemos, através das equações (3.15) e (3.23) e da definição dos elementos da Matriz de Densidade $Q_{\\mu \\nu}$, escrever os elementos da matriz de Fock como sendo:"
   ]
  },
  {
   "cell_type": "markdown",
   "id": "8b3ff6c7",
   "metadata": {},
   "source": [
    "$$\\textbf{F}_{\\mu \\nu} = \\textbf{H}_{\\mu \\nu} + \\sum_{\\lambda \\sigma} \\left[(\\mu \\nu| \\lambda \\sigma) - \\frac{1}{2} (\\mu \\lambda | \\sigma \\nu)\\right] = \\textbf{H}_{\\mu \\nu} + \\textbf{G}_{\\mu \\nu} \\ . \\tag{3.24}$$"
   ]
  },
  {
   "cell_type": "markdown",
   "id": "7fb35ff6",
   "metadata": {},
   "source": [
    "$\\quad$ Na equação (3.24), definimos os $\\textbf{G}_{\\mu \\nu} = \\sum_{\\lambda \\sigma} \\left[(\\mu \\nu | \\lambda \\sigma) - \\frac{1}{2}(\\mu \\lambda | \\sigma \\nu) \\right]$ que são aos elementos da matriz $\\textbf{G}$ e representam as interações entre pares de elétrons. Essa será a nossa expressão final para a matriz de Fock. Agora, para resolver as equações de Roothaan na prática, só falta encontrarmos uma forma de nos livrarmos da matriz de sobreposição $\\textbf{S}$."
   ]
  },
  {
   "cell_type": "markdown",
   "id": "c025cc0a",
   "metadata": {},
   "source": [
    "### 3.4. Ortogonalização da Base e o Procedimento de Campo Autoconsistente"
   ]
  },
  {
   "cell_type": "markdown",
   "id": "1fe06a62",
   "metadata": {},
   "source": [
    "$\\quad$ A forma matricial das equações de Roothaan, como mostrado na equação (3.19), apresenta uma forma muito semelhante ao de um problema matricial de autovalo. Observando a definição dos elementos da matriz de sobreposição $\\textbf{S}_{\\mu \\nu}$, é facilmente notável que, numa base ortonormal, $\\textbf{S}$ seria a matriz identidade. Dessa forma, dado que possamos ortogonalizar nossa base, podemos solucionar as equações de Roothan utilizando métodos iterativos. Existem duas formas comuns de realizar essa ortogonalização no contexto do Método de Hartree-Fock, as chamadas Ortogonalização Simétrica e Ortogonalização Canônica. Os dois métodos consistem em encontrar uma matriz $\\textbf{X}$ de mudança de base que diagonaliza a matriz $\\textbf{S}$. Não entraremos a fundo no funcionamento desses métodos (recomendamos a seção 3.4.5 do livro Modern Quantum Chemistry dos autores Szabo e Ostlund para mais detalhes), ao invés disso, forneceremos apenas as matrizes $\\textbf{X}$ para cada um dos casos."
   ]
  },
  {
   "cell_type": "markdown",
   "id": "d4abfc55",
   "metadata": {},
   "source": [
    "$\\quad$ Para a Ortogononalização Simétrica, temos:"
   ]
  },
  {
   "cell_type": "markdown",
   "id": "f0989c48",
   "metadata": {},
   "source": [
    "$$\\textbf{X}_{Symm} = \\textbf{S}^{-1/2}\\ . \\tag{3.25}$$"
   ]
  },
  {
   "cell_type": "markdown",
   "id": "450a37b2",
   "metadata": {},
   "source": [
    "$\\quad$ Ou seja, na Ortogonalização Simétrica, $\\textbf{X}$ é a raiz quadrada da inversa de $\\textbf{S}$. Para a Ortogonalização Canônica, por outro lado, temos:"
   ]
  },
  {
   "cell_type": "markdown",
   "id": "47ce7cfd",
   "metadata": {},
   "source": [
    "$$\\textbf{X}_{Can} = \\textbf{U}\\textbf{s}^{-1/2}\\ . \\tag{3.26}$$"
   ]
  },
  {
   "cell_type": "markdown",
   "id": "2983626b",
   "metadata": {},
   "source": [
    "$\\quad$ Onde $\\textbf{s}$ é a matriz diagonal cujos elementos são os autovalores de $\\textbf{S}$ e $\\textbf{U}$ é a matriz unitária que diagonaliza $\\textbf{S}$ tal que $\\textbf{s} = \\textbf{U}^{\\dagger}\\textbf{S}\\textbf{U}$."
   ]
  },
  {
   "cell_type": "markdown",
   "id": "7b75ebdd",
   "metadata": {},
   "source": [
    "$\\quad$ Com isso tudo definido, podemos finalmente descrever o procedimento computacional que resolve o problema proposto de encontrar o estado fundamental e estimar quantidades de interesse de uma molécula de camada restrita, que se chama Procedimento de Campo Autoconsistente (frequentemente abreviado como Procedimento SCF, do inglês Self-Consistent Field."
   ]
  },
  {
   "cell_type": "markdown",
   "id": "f25a494c",
   "metadata": {},
   "source": [
    "#### Procedimento SCF"
   ]
  },
  {
   "cell_type": "markdown",
   "id": "d9b2a82d",
   "metadata": {},
   "source": [
    "1. Especifique uma molécula, dada por um conjunto de coordenadas dos núcleos {$R_A$} (estáticas na aproximação de Bohr-Oppenheimer), números atômicos {$Z_A$}, número de elétrons $N$ e um conjunto de funções de base {$\\phi_\\mu$};\n",
    "2. Calcule as integrais moleculares necessárias e obtenha $\\textbf{S}$, $\\textbf{H}$ e $(\\mu \\nu | \\lambda \\sigma)$;\n",
    "3. Diagonalize a matriz de sobreposição $\\textbf{S}$ e obtenha a matriz $\\textbf{X}$ correspondente ao método de Ortogonalização desejado conforme a equação (3.25) ou a equação (3.26);\n",
    "4. Chute um valor inicial para a Matriz de Densidade $\\textbf{Q}$;\n",
    "5. Calcule a matriz $\\textbf{G}$ a partir da Matriz de Densidade $\\textbf{Q}$ e das interações entre pares de elétrons $(\\mu \\nu | \\lambda \\sigma)$;\n",
    "6. Some $\\textbf{H}$ e $\\textbf{G}$ para obter $\\textbf{F}$;\n",
    "7. Calcule a Matriz de Fock transformada por $\\textbf{X}$, $\\textbf{F'} = \\textbf{X}^{\\dagger} \\textbf{F} \\textbf{X}$;\n",
    "8. Diagonalize $\\textbf{F'}$ para obter $textbf{C'}$ e $\\textbf{E}$;\n",
    "9. Calcule $\\textbf{C} = \\textbf{X}\\textbf{C'}$\n",
    "10. Construa uma nova Matriz de Densidade $\\textbf{Q}$ a partir de $\\textbf{C}$.\n",
    "11. Determine se o procedimento já convergiu, ou seja, se a diferença entre a Matriz de Densidade atual e a do passo anterior está dentro da margem de erro desejada. Se o procedimento ainda não houver convergido, retorne ao passo 5 com a nova Matriz de Densidade no lugar da antiga;\n",
    "12. Caso o procedimento já tenha convergido, utilize $\\textbf{C}$, $\\textbf{Q}$ e $\\textbf{F}$ para calcular quaisquer valores esperados ou quantidades de interesse."
   ]
  },
  {
   "cell_type": "markdown",
   "id": "9e2f2bef",
   "metadata": {},
   "source": [
    "$\\quad$ Agora que estabelecemos o Procedimento SCF, podemos finalmente começar a trabalhar numericamente com o Método de Hartree-Fock!"
   ]
  }
 ],
 "metadata": {
  "kernelspec": {
   "display_name": "Python 3 (ipykernel)",
   "language": "python",
   "name": "python3"
  },
  "language_info": {
   "codemirror_mode": {
    "name": "ipython",
    "version": 3
   },
   "file_extension": ".py",
   "mimetype": "text/x-python",
   "name": "python",
   "nbconvert_exporter": "python",
   "pygments_lexer": "ipython3",
   "version": "3.11.9"
  }
 },
 "nbformat": 4,
 "nbformat_minor": 5
}
