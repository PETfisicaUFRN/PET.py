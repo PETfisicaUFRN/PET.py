{
 "cells": [
  {
   "cell_type": "markdown",
   "id": "e4df8b52-ccd5-434a-b1f0-2ab63e096d65",
   "metadata": {},
   "source": [
    "# Lançamento oblíquo e força de arrasto"
   ]
  },
  {
   "cell_type": "markdown",
   "id": "02bfab7b-913c-4e04-8a8a-9e4326fee87e",
   "metadata": {},
   "source": [
    "* PET - Física UFRN\n",
    "* Petiano: José Emanuel Vasconcelos Oliveira\n",
    "* Data: 02/04/2025"
   ]
  },
  {
   "cell_type": "markdown",
   "id": "31d0801a-feac-447e-857e-aa9482879abb",
   "metadata": {},
   "source": [
    "$\\quad$ Neste `Notebook`, estudaremos um dos principais tópicos no estudo da mecânica: lançamento oblíquo. Entretanto, pretendemos trazer aqui uma abordagem mais generalizada e realista. Nosso objetivo aqui é introduzir o conceito de arrasto e simular lançamentos que tenham a interferência desse elemento. Basicamente, estudaremos nesse `Notebook` uma trajetória de projétil sobre a ação da resistência do ar, muitas vezes ignorada. Utilizaremos uma abordagem numérica relatada no livro do Mark Newman [1]. O `Notebook` seguirá a seguinte estrutura:"
   ]
  },
  {
   "cell_type": "markdown",
   "id": "1e9e2023-e5e0-40b1-b9b0-832cab170d38",
   "metadata": {},
   "source": [
    "1. *Introdução*\n",
    "2. *Arrasto*\n",
    "3. *Exemplos*\n",
    "4. *Métodos computacionais*\n",
    "5. *Simulações*\n",
    "6. *Conclusão*"
   ]
  },
  {
   "cell_type": "markdown",
   "id": "d5b4c8c9-de79-4265-bbbf-41d7a6534068",
   "metadata": {},
   "source": [
    "## Pré-requisitos"
   ]
  },
  {
   "cell_type": "markdown",
   "id": "6e40a1d1-588a-433e-b566-d433c2878f88",
   "metadata": {},
   "source": [
    "$\\quad$ Para este `Notebook`, o leitor não precisa se preocupar com a instalação de bibliotecas, pois usaremos somente algumas padrões, do Python. Entretanto, é interessante entender como funciona a abordagem matemática para a resolução de equações diferenciais ordinárias (EDO's)."
   ]
  },
  {
   "cell_type": "markdown",
   "id": "5ebbb7ed-f042-45d2-be24-c9be8c9b5ad0",
   "metadata": {},
   "source": [
    "### Importando bibliotecas"
   ]
  },
  {
   "cell_type": "code",
   "execution_count": 153,
   "id": "ac3ac445-d5ac-48f2-aed6-c0e74ccd5667",
   "metadata": {},
   "outputs": [],
   "source": [
    "import numpy as np\n",
    "import matplotlib.pyplot as plt\n",
    "import scipy.constants as const"
   ]
  },
  {
   "cell_type": "markdown",
   "id": "7cfca4a0-1771-4795-b3a5-05955968ae2b",
   "metadata": {},
   "source": [
    "### Detalhes das bibliotecas"
   ]
  },
  {
   "cell_type": "code",
   "execution_count": 155,
   "id": "2b42d0d8-d6b9-4009-acd2-75f49d3b9370",
   "metadata": {},
   "outputs": [
    {
     "name": "stdout",
     "output_type": "stream",
     "text": [
      "scipy     : 1.13.1\n",
      "numpy     : 1.26.4\n",
      "matplotlib: 3.9.2\n",
      "\n"
     ]
    }
   ],
   "source": [
    "%load_ext watermark\n",
    "%watermark -p scipy,numpy,matplotlib"
   ]
  },
  {
   "cell_type": "markdown",
   "id": "8f7c20ec-6447-4f80-ba53-21fd3d1d0f39",
   "metadata": {},
   "source": [
    "## Introdução"
   ]
  },
  {
   "cell_type": "markdown",
   "id": "cdfddbfc-3465-4eae-b311-f08ba6aec037",
   "metadata": {},
   "source": [
    "$\\quad$ Um dos principais assuntos da física é a cinemática. Essa ciência estuda o estado e o modo de movimento dos corpos. Em um estudo comum de física básica, nos é apresentada essa seção da mecânica e suas particularidades. Geralmente, vimos conceitos de velocidade, aceleração, função da posição, queda livre e lançamentos. Entretanto, todos esses tópicos são trabalhados considerando uma aceleração constante. Além disso, forçamos também que não há, em momento algum, resistência do ar. "
   ]
  },
  {
   "cell_type": "markdown",
   "id": "7fa8bdde-407c-4f06-9df6-2df1fd577a69",
   "metadata": {},
   "source": [
    "$\\quad$ Durante este `Notebook`, utilizaremos equações diferenciais ordinárias (EDO, usaremos a sigla a partir de agora) para retratar o modo como funcionam as trajetórias de corpos. Elas serão baseadas na soma de forças em cada direção, conforme diz a segunda Lei de Newton. Entretanto, em geral, simplificaremos a massa diretamente, enxugando a notação. Dessa forma, espera-se que o leitor tenha familiaridade para lidar com esse tipo de problema. Estaremos considerando somente movimentos em duas dimensões. Por conveniência, escolheremos o plano $xy$ para trabalharmos. Assim sendo, o sentido positivo do eixo $x$ será para a direita e o do eixo $y$ para cima. Além disso, utilizaremos a notação de Newton para derivadas temporais:  "
   ]
  },
  {
   "cell_type": "markdown",
   "id": "877c4254-584e-4f84-8529-0ce97089830c",
   "metadata": {},
   "source": [
    "$$\n",
    "\\frac{dx}{dt} = \\dot{x}\n",
    "$$"
   ]
  },
  {
   "cell_type": "markdown",
   "id": "0cf0b751-6186-48e3-a4ce-51407fcf28bb",
   "metadata": {},
   "source": [
    "$\\quad$ Vamos estudar, agora, o lançamento oblíquo, visto em um curso de cinemática. Trataremos deste diretamente, pois, conforme o princípio da superposição, esse caso é a soma de um lançamento horizontal com um vertical, englobando os principais temas da cinemática. Primeiro, vamos definir nosso vetor deslocamento, $\\vec{r}(t)$, como um vetor bidimensional, onde cada componente deste é uma função temporal que descreve a posição de cada componente em determinado instante de tempo:"
   ]
  },
  {
   "cell_type": "markdown",
   "id": "de93a4f1-adb2-469b-a98d-bf415dadfff1",
   "metadata": {},
   "source": [
    "$$\n",
    "\\vec{r}(t) = x(t) \\ \\hat{i} + y(t) \\ \\hat{j}.   \\tag{1}\n",
    "$$"
   ]
  },
  {
   "cell_type": "markdown",
   "id": "3cd2caa0-a3c7-4c36-8cc2-4d2405ab97cf",
   "metadata": {},
   "source": [
    "$\\quad$ Em um lançamento, cujo projétil está sujeito somente à aceleração gravitacional $g$, obtemos o seguinte:"
   ]
  },
  {
   "cell_type": "markdown",
   "id": "623b1c29-cf22-474b-b179-143a4c07f960",
   "metadata": {},
   "source": [
    "$$\n",
    "\\ddot{\\vec{r}} = \\ddot{x}\\hat{i} + \\ddot{y}\\hat{j} = 0\\ \\hat{i} - g \\ \\hat{j}.  \\tag{2}\n",
    "$$"
   ]
  },
  {
   "cell_type": "markdown",
   "id": "f147cc30-2dfd-4fc7-b168-40e190b2c273",
   "metadata": {},
   "source": [
    "Note que omitimos o fato das funções serem dependentes do tempo, de modo a enxugar a notação. A equação (2) mostra a aceleração no qual o objeto lançado está exposto. Sabemos que, na direção do eixo $x$ não existe nenhuma força atuando. Enquanto isso, consideramos a ação da força gravitacional na direção do eixo $y$, porém com o sentido para baixo, sendo esse o motivo do sinal negativo. Sendo assim, podemos montar o sistema de EDO:"
   ]
  },
  {
   "cell_type": "markdown",
   "id": "b534ddfd-4b23-45ad-b200-cf66b8ea7e42",
   "metadata": {},
   "source": [
    "$$\n",
    "\\begin{aligned}\n",
    "\\ddot{x} = 0 \\ \\  \\\\\n",
    "\\ddot{y} = -g . \n",
    "\\end{aligned}\n",
    "\\tag{3}\n",
    "$$"
   ]
  },
  {
   "cell_type": "markdown",
   "id": "bd4460fb-4a40-4007-9bcc-ba79db7cf47d",
   "metadata": {},
   "source": [
    "$\\quad$ A resolução para (3) é bem direta, basta utilizarmos integração elementar. Por ser simples, o passo a passo para esse caso estará no apêndice. Além disso, se o leitor preferir outra abordagem para esse caso, consultar a referência [3]. Finalmente, obtemos uma expressão para o nosso vetor posição na forma:"
   ]
  },
  {
   "cell_type": "markdown",
   "id": "3231d9e7-4137-4884-81e1-0d9939afae65",
   "metadata": {},
   "source": [
    "$$\n",
    "\\vec{r} = (v_0 \\cos(\\theta) t + x_0) \\ \\hat{i} + \\left(y_0 + v_0 \\sin(\\theta) t - \\frac{gt^2}{2} \\right) \\ \\hat{j} \\quad , \\quad 0 \\leq \\theta \\leq \\pi.\n",
    "\\tag{4}\n",
    "$$"
   ]
  },
  {
   "cell_type": "markdown",
   "id": "f7f5f240-2d04-4429-9c37-3e48a2f27d2e",
   "metadata": {},
   "source": [
    "Onde $v_0$ é o módulo da velocidade inicial de lançamento, $\\theta$ o ângulo do lançamento com relação ao eixo $x$ e $x_0$ e $y_0$ as coordenadas iniciais nos eixos $x$ e $y$, respectivamente. Note que limitamos o ângulo no qual o projétil pode ser lançado pois estamos considerando o eixo $x$ como o nível do solo. Dessa forma, o objeto se movimenta pelo ar, sem infiltrar no chão."
   ]
  },
  {
   "cell_type": "markdown",
   "id": "e835ff8a-0d09-4447-aeb3-e7622e4857df",
   "metadata": {},
   "source": [
    "## Arrasto"
   ]
  },
  {
   "cell_type": "markdown",
   "id": "0e5b32f3-5ebb-4b81-8258-a0c060528513",
   "metadata": {},
   "source": [
    "$\\quad$ É importante notar que, durante a abordagem anterior, consideramos que não existe uma força dissipativa atuando sobre o corpo. Dessa forma, a única força que está agindo no projétil é a força gravitacional. Entretanto, existe um problema quando fazemos essa consideração. Estamos desprezando a influência de algo tão presente em nosso cotidiano: o ar. Se estivéssemos em uma câmara a vácuo e soltássemos uma bola de ferro e uma pena simultaneamente, ambos tocariam o solo ao mesmo tempo, pois estariam submetidos a uma mesma aceleração. Entretanto, se realizarmos esse experimento em um ambiente normal, veremos que a pena demora muito mais tempo para cair. Por qual motivo isso ocorre? "
   ]
  },
  {
   "cell_type": "markdown",
   "id": "a179b0cd-c559-4ffa-9e68-bcfcc5b222c5",
   "metadata": {},
   "source": [
    "$\\quad$ A resposta está no modo em que o ar afeta o movimento dos corpos, através da chamada \"resistência do ar\". Na verdade, essa resistência é uma particularidade de um fenômeno da natureza conhecido como *arrasto*. O arrasto é um tópico muito discutido na mecânica dos fluidos e importantíssimo na engenharia do automobilismo, por exemplo. Não está no escopo deste `Notebook` apresentar o formalismo do estudo de fluidos. Sendo assim, se o leitor se interessar em conhecer a fundo as definições e propriedades de alguns termos aqui mencionados, sugerimos a referência [2]."
   ]
  },
  {
   "cell_type": "markdown",
   "id": "d7c84c42-2db3-44af-9b66-a5895af6ee22",
   "metadata": {},
   "source": [
    "$\\quad$ Agora, vamos buscar entender como funciona o arrasto. Primeiro, vamos imaginar que estamos fazendo o estudo a partir do referencial do objeto que está imerso em um fluido (no caso do lançamento, um projétil no ar).  Assim, consideramos que existe um escoamento desse fluido qualquer em nossa direção. Devido à presença desse objeto, ocorrerão pertubações no escoamento, fazendo surgir uma força resultante com duas componentes: a força de sustentação, perpendicular às linhas de fluxo do escoamento; e a força de arrasto, paralelo ao fluxo. Chamamos de linhas de fluxo (ou corrente), representações esquemáticas do comportamento da trajetória de partículas do fluido. Para continuar com o nosso estudo, precisamos fazer algumas pontuações: "
   ]
  },
  {
   "cell_type": "markdown",
   "id": "3d5cbd45-9dc2-4ae6-a9b5-045808816e11",
   "metadata": {},
   "source": [
    "i) longe do objeto, o fluido está em um regime de escoamento laminar; \n",
    "\n",
    "ii) o regime de fluido é permanente; \n",
    "\n",
    "iii) o fluido é ideal;\n",
    "\n",
    "iv) não consideraremos diferenças de altura na determinação das diferenças de pressão. "
   ]
  },
  {
   "cell_type": "markdown",
   "id": "11b781f0-3ff8-46a2-a79c-440333fdc485",
   "metadata": {},
   "source": [
    "$\\quad$ A partir dessas considerações, podemos continuar nosso trabalho sem problemas. Note que consideramos um fluido ideal, isto é, não produz tensões de cisalhamento. Dessa forma, todo o arrasto para o nosso caso será devido a diferenças de pressão. Entretanto, em fluidos reais, as tensões também causam arrasto. Apesar disso, a forma com que a solução do nosso problema terá também serve para o caso de fluidos reais. Portanto, os passos a seguir, apesar de tratarem um caso específico, conseguem se estender de forma generalizada facilmente."
   ]
  },
  {
   "attachments": {
    "6503bee3-8cf7-4327-87ee-52eb9235e64a.jpg": {
     "image/jpeg": "[encoded data removed]"
    }
   },
   "cell_type": "markdown",
   "id": "801d7380-0615-4d8c-8abc-4c3dfa9797f2",
   "metadata": {},
   "source": [
    "![foto.jpg](attachment:6503bee3-8cf7-4327-87ee-52eb9235e64a.jpg) \n",
    "\n",
    "Figura 1: Representação esquemática de um escoamento de um fluido ideal."
   ]
  },
  {
   "cell_type": "markdown",
   "id": "0dc06095-209c-41c3-9f9f-f75de1a842fd",
   "metadata": {},
   "source": [
    "$\\quad$ Vamos olhar atentamente para a Figura **1**, pois nos ajudará a entender algumas passagens. Primeiro, consideramos que o fluido esteja se movimentando da esquerda para a direita. Agora, apliquemos o princípio de Bernoulli [2] entre um ponto que esteja longe (chamemos de ponto *L*) e à esquerda do objeto e o ponto *A*. Vamos considerar a velocidade em *L* como sendo a velocidade $v$ do fluido. Ficamos com:"
   ]
  },
  {
   "cell_type": "markdown",
   "id": "82691397-211b-4f20-a6aa-8b957ea8caaa",
   "metadata": {},
   "source": [
    "$$\n",
    "\\frac{\\rho v^2}{2} + P_L + \\rho g z_L = \\frac{\\rho {v_A}^2}{2} + P_a + \\rho g z_A \\ ,  \\tag{5}\n",
    "$$"
   ]
  },
  {
   "cell_type": "markdown",
   "id": "d117a861-feae-4d85-8ec6-6cc39d03aa3d",
   "metadata": {},
   "source": [
    "onde $\\rho$ é a densidade do fluido, $P$ representa sua densidade, $g$ a aceleração gravitacional e $z$ uma profundidade medida a partir de um nível de referência. É importante perceber que, como mencionado anteriormente, não iremos considerar diferenças de profundidades em nossos cálculos. Além disso, o ponto *A* é conhecido como *ponto de estagnação*, ou seja, a velocidade do fluido neste é nula. Assim, a equação (5) se reduz para:"
   ]
  },
  {
   "cell_type": "markdown",
   "id": "a2adad0b-11c0-4d40-a72d-44f887e2810c",
   "metadata": {},
   "source": [
    "$$\n",
    "P_A = P_L + \\frac{\\rho v^2}{2} \\ . \\tag{6}\n",
    "$$"
   ]
  },
  {
   "cell_type": "markdown",
   "id": "b0fbbe35-21cc-4775-a9f2-9211d219fb26",
   "metadata": {},
   "source": [
    "$\\quad$ Agora, vamos aplicar a equação de Bernoulli novamente. Entretanto, dessa vez, entre os pontos *L* e *B*. Considerando as afirmações feitas anteriormente, ficamos simplesmente com:"
   ]
  },
  {
   "cell_type": "markdown",
   "id": "7318062e-84a3-42fc-b98e-f96c5ae36f42",
   "metadata": {},
   "source": [
    "$$\n",
    "P_B = P_L + \\frac{\\rho (v^2 - {v_B}^2)}{2} = P_L + \\frac{\\rho \\Delta v^2}{2} \\ . \\tag{7}\n",
    "$$"
   ]
  },
  {
   "cell_type": "markdown",
   "id": "038ffa4f-d6e8-468b-849b-9a866892a886",
   "metadata": {},
   "source": [
    "Entretanto, temos que notar que, a área onde o fluido está passando em *B* é menor do que a área no nosso ponto hipotético *L*. Portanto, de acordo com a equação da continuidade [2], $v_B > v$, logo $\\Delta v^2 < 0$."
   ]
  },
  {
   "cell_type": "markdown",
   "id": "043b276b-72df-437e-a666-b8e802c4acae",
   "metadata": {},
   "source": [
    "$\\quad$ Analisando as equações (6) e (7), podemos perceber um detalhe muito enriquecedor para a nossa discussão. Em (6), o termo somado à pressão no ponto *L* é positivo, indicando que a pressão em *A* é maior. Já em (7), o contrário ocorre. Como $\\Delta v^2 < 0$, a pressão em *B* se torna menor que em *L* e, consequentemente, menor que em *A*. É por causa dessas diferenças de pressões que surge uma força resultante sobre o corpo."
   ]
  },
  {
   "attachments": {
    "f9ea6797-074a-4b24-8258-2b9b03bc9feb.jpg": {
     "image/jpeg": "[encoded data removed]"
    }
   },
   "cell_type": "markdown",
   "id": "a4957bc5-bec6-4af8-b66b-1e805c5a609e",
   "metadata": {},
   "source": [
    "![diagrama de força.jpg](attachment:f9ea6797-074a-4b24-8258-2b9b03bc9feb.jpg)\n",
    "\n",
    "Figura 2. Diagrama de forças para um elemento infinitesimal do fluido. Imagem adaptada de \"Mecânica dos Fluidos\", de Franco Brunetti."
   ]
  },
  {
   "cell_type": "markdown",
   "id": "69d036cb-c1db-4f96-95ac-4a8b1f4d84da",
   "metadata": {},
   "source": [
    "$\\quad$ Vamos analisar a Figura **2** para facilitar a nossa compreensão de como deduzir a força de arrasto. Além disso, lembremos que existe uma expressão para a força em função da pressão, que diz:"
   ]
  },
  {
   "cell_type": "markdown",
   "id": "48023292-7951-4b37-87c1-3cb52e3a2308",
   "metadata": {},
   "source": [
    "$$\\vec{dF} = -P \\ \\vec{n} \\ dA \\ , \\tag{8}$$ "
   ]
  },
  {
   "cell_type": "markdown",
   "id": "bc2c6f00-e535-4c52-ba1a-b692b7716088",
   "metadata": {},
   "source": [
    "onde $dA$ representa o diferencial de área, ou seja, a área de um pequeno elemento do fluido e $\\vec{n}$ representa o vetor unitário normal ao diferencial de área. "
   ]
  },
  {
   "cell_type": "markdown",
   "id": "31ae6285-5127-45ef-9be6-e9f5fddea9a8",
   "metadata": {},
   "source": [
    "$\\quad$ Note que a equação (8) afirma que a força que age no elemento do fluido tem a mesma direção que o vetor normal, mas com sentido oposto. Porém, discutimos anteriormente que a força de arrasto é aquela paralela às linhas de escoamento em uma seção do fluido longe do objeto. Se voltarmos a nossa atenção rapidamente para a Figura **1** novamente, notaremos então que o arrasto deve ser a componente da força na direção do eixo $x$. Podemos verificar que o módulo da componente $dF_x$ da força resultante pode ser escrito como $dF_x = dF\\cos(\\theta)$, por trigonometria básica. Podemos escrever que $dA\\cos(\\theta) = dA_x$. Sendo assim, podemos substituir a pressão pela relação obtida em (7) e calcular a força de arrasto completamente por integração, de modo a obter:"
   ]
  },
  {
   "cell_type": "markdown",
   "id": "e8ea2fc4-208d-4f1b-a254-7e35e3933ce0",
   "metadata": {},
   "source": [
    "$$\n",
    "F_x = \\int \\frac{\\rho \\Delta v^2}{2} \\ dA_x \\ . \\tag{9}\n",
    "$$"
   ]
  },
  {
   "cell_type": "markdown",
   "id": "87446874-0ddc-41ad-951a-72f77324df50",
   "metadata": {},
   "source": [
    "$\\quad$ Perceba que utilizamos um valor levemente diferente para a pressão do o que obtido em (7). Isso acontece, pois estamos interessados somente entre as diferenças de pressão ao redor do corpo, sendo importante apenas o termo referente à varição do quadrado das velocidades. A expressão obtida em (9) geralmente encontra dificuldades com a distribuição da pressão e da diferença de velocidades. Sendo assim, é comum utilizar uma expressão final com uma constante adimensional fazendo o papel de correção numérica. Essa constante é determinada empiricamente e, nesse caso, é denominada de *Coeficiente de arrasto* ($C$). Assim, a expressão para a força de arrasto se torna:"
   ]
  },
  {
   "cell_type": "markdown",
   "id": "2e876cb5-4a2b-45e2-b351-b34eeec1213b",
   "metadata": {},
   "source": [
    "$$\n",
    "F_a = C \\ \\frac{\\rho A v^2 }{2} \\ , \\tag{10}\n",
    "$$"
   ]
  },
  {
   "cell_type": "markdown",
   "id": "6539075f-38ea-4127-8422-298631308922",
   "metadata": {},
   "source": [
    "onde $v$ é a velocidade do fluido longe do objeto e $A$ agora se trata, geralmente, da área projetada deste em um plano perpendicular à $v$."
   ]
  },
  {
   "cell_type": "markdown",
   "id": "ba969baf-dc2b-4f60-aa3d-f6eb3b760f59",
   "metadata": {},
   "source": [
    "## Exemplos"
   ]
  },
  {
   "cell_type": "markdown",
   "id": "7348dd49-35fa-432f-a82c-e6379560bf4d",
   "metadata": {},
   "source": [
    "$\\quad$ Agora que temos uma equação consolidada para a força de arrasto, podemos finalmente aplicá-la ao nosso problema de um lançamento oblíquo. Vamos, no entanto, notar primeiramente a natureza vetorial do arrasto. Ao realizarmos nossa demonstração, consideramos um referencial que acompanhava o objeto imerso no fluido. Notamos também que a contribuição do arrasto para a força resultante era a componente paralela à velocidade do fluido. Portanto, podemos aferir que, em um referencial externo, onde o fluido está parado e o objeto se move com velocidade $v$, a força de arrasto tem a mesma direção da velocidade do objeto, porém com um sentido contrário."
   ]
  },
  {
   "cell_type": "markdown",
   "id": "3e87a128-97dc-4952-a9dd-736b3eb2a568",
   "metadata": {},
   "source": [
    "$\\quad$ Vamos considerar o nosso projétil uma esfera de ferro, perfeitamente lisa. De acordo com [2], o coeficiente de arrasto de uma esfera lisa depende do *Número de Reynolds*. Esta é uma grandeza adimensional muito importante para a mecânica dos fluidos. Em resumo, ele mede o quão turbulento é determinado escoamento de um fluido, devido à viscosidade. A fórmula para determinar esse número é:"
   ]
  },
  {
   "cell_type": "markdown",
   "id": "d466c3b8-12e2-4643-be47-2cfd52f2b3ad",
   "metadata": {},
   "source": [
    "$$\n",
    "Re = \\frac{\\rho vD}{\\mu}, \\tag{11}\n",
    "$$"
   ]
  },
  {
   "cell_type": "markdown",
   "id": "049f080d-6a93-4e2a-9dee-68ba5b65d581",
   "metadata": {},
   "source": [
    "onde $v$ é a velocidade do objeto em relação ao fluido, $D$ o diâmetro característico do corpo (em casos de objetos esféricos, podemos tratá-lo como o diâmetro da esfera), $\\rho$ a densidade do fluido e $\\mu$ a viscosidade dinâmica, sendo as últimas duas características intrínsecas ao fluido. O cálculo para o Número de Reynolds e as informações intrínsecas aos fluidos usados neste `Notebook` estão dispostos na referência [5]."
   ]
  },
  {
   "cell_type": "markdown",
   "id": "8767368c-c57e-40bb-af48-a4431829a9a8",
   "metadata": {},
   "source": [
    "$\\quad$ Conforme a bibliografia mencionada, quando $Re < 1$, o coeficiente de arrasto se torna $C = \\frac{24}{Re}$. Substituindo essa afirmação em (10) , fazendo com que a área de referência seja a de um círculo $\\left (A = \\frac{\\pi D^2}{4} \\right)$ e usando a expressão para o Número de Reynolds de (11), ficamos com:"
   ]
  },
  {
   "cell_type": "markdown",
   "id": "cc2e448f-f3c4-4800-821c-9670af6648c4",
   "metadata": {},
   "source": [
    "$$\n",
    "F_a = \\frac{24}{Re} \\ \\frac{\\rho A v^2 }{2} = \\frac{24 \\mu}{\\rho v D} \\ \\frac{\\rho v^2 \\pi D^2}{8} \\Rightarrow F_a = 3 \\pi \\mu v D. \\tag{12}\n",
    "$$"
   ]
  },
  {
   "cell_type": "markdown",
   "id": "e310c39d-364d-4e31-93e7-125686e03757",
   "metadata": {},
   "source": [
    "Essa é uma expressão para força de arrasto válida somente para escoamentos com um Número de Reynolds muito baixo. Escoamentos desse tipo são ditos \"lentos\" e são mais comuns quando o corpo está imerso em um líquido. "
   ]
  },
  {
   "cell_type": "markdown",
   "id": "5989cddf-4350-450b-af1f-a4dbc34a1c70",
   "metadata": {},
   "source": [
    "#### Exemplo 1"
   ]
  },
  {
   "cell_type": "markdown",
   "id": "4da17a5e-8353-4236-98fa-44932fc785f2",
   "metadata": {},
   "source": [
    "$\\quad$ Com essas informações em mãos, vamos tentar resolver analiticamente, a partir da construção de EDO, o movimento de um corpo em baixa velocidade imerso em um líquido. Para atender os requisitos necessários para obter (12), uma possibilidade para construir o problema seria: uma esfera lisa de ferro com $2 \\ mm$ de diâmetro, pesando $ 3,4 \\cdot 10^{-2} \\ g$, é lançada sob o ângulo de $30 °$ em relação à horizontal a uma velocidade $v = 2 \\ cm/s$ em uma banheira de azeite ($Re = 0,45)$. As equações diferenciais que regem o movimento da esfera são:"
   ]
  },
  {
   "cell_type": "markdown",
   "id": "7c1af442-6a4f-4ca7-b57e-24dc6010243e",
   "metadata": {},
   "source": [
    "$$\n",
    "\\begin{aligned}\n",
    "\\ddot{x} = -K \\dot{x} \\quad \\\\\n",
    "\\ddot{y} = -K \\dot{y} - g \\ ,\n",
    "\\end{aligned}\n",
    "\\quad \\quad K = \\frac{3\\pi \\mu D}{m}. \\tag{13}\n",
    "$$"
   ]
  },
  {
   "cell_type": "markdown",
   "id": "a27304e7-3157-4f0b-8513-103e7ea86702",
   "metadata": {},
   "source": [
    "Utilizamos a constante $K$ para enxugar a notação. É importante notar que a força de arrasto foi escrita na forma vetorial, ou seja, ela age na mesma direção de cada componente da velocidade, porém em sentido contrário. Fica a cargo do leito verificar que, ao calcular o módulo da força de arrasto em (13), obtemos o resultado expresso em (12). "
   ]
  },
  {
   "cell_type": "markdown",
   "id": "1aa5fd8f-ced5-4328-8f19-bf090d534046",
   "metadata": {},
   "source": [
    "$\\quad$ O passo a passo para a resolução das equações em (13) estará expresso no apêndice deste `Notebook`. A solução final para a equação de movimento é, então:"
   ]
  },
  {
   "cell_type": "markdown",
   "id": "10b9bd59-7a36-4f88-b477-09bb61e0eb03",
   "metadata": {},
   "source": [
    "$$\n",
    "\\begin{aligned}\n",
    "\\vec{r} = x \\ \\hat{i} + y \\ \\hat{j} = \\left(\\frac{v \\cos (30°)}{K} \\left(1 - e^{-Kt} \\right)\\right) \\ \\hat{i} - \\left(\\frac{1}{K} \\left[\\left(v \\sin (30°) + \\frac{g}{K}\\right)e^{-Kt} + gt - \\left(v \\sin (30°) + \\frac{g}{K}\\right) \\right]  \\right) \\ \\hat{j} \\qquad \\therefore\n",
    "\\\\\n",
    "\\\\\n",
    "\\vec{r} =  \\left(\\left(\\frac{\\sqrt{3}}{2} \\frac{v}{K} \\right)\\left(1 - e^{-Kt} \\right)\\right) \\ \\hat{i} -  \\left(\\frac{1}{K} \\left[\\left( \\frac{v}{2} + \\frac{g}{K}\\right)e^{-Kt} + gt - \\left(\\frac{v}{2} + \\frac{g}{K}\\right) \\right]  \\right) \\ \\hat{j} \\ . \\qquad \\qquad \\qquad \\qquad\n",
    "\\end{aligned}\n",
    "\\tag{14}\n",
    "$$"
   ]
  },
  {
   "cell_type": "markdown",
   "id": "e0bc7a9c-72ca-40e2-be36-49cd726aca1a",
   "metadata": {},
   "source": [
    "Se o leitor preferir, pode substituir o valor da constante $K$, pelo retratado na equação (13), e da velocidade $v$. As grandezas relacionadas ao fluido são facilmente encontradas em [5]."
   ]
  },
  {
   "cell_type": "markdown",
   "id": "08d0c409-ce65-420f-a38e-3ab2ab560dd7",
   "metadata": {},
   "source": [
    "$\\quad$ Comparando (14) com (4), percebemos que a forma do vetor deslocamento, para um caso específico e simples, ao considerar o arrasto, se torna muito mais complicada. O leitor ainda deve lembrar que estamos ignorando a força de sustentação e assumindo uma esfera perfeita e lisa, sendo essas considerações formas de simplificar nosso problema. Quanto mais nos aproximamos da realidade, mais difícil é conseguir criar um modelo bem definido."
   ]
  },
  {
   "cell_type": "markdown",
   "id": "bca7b7d0-c1dd-444f-82b7-d6dc84e4b40d",
   "metadata": {},
   "source": [
    "#### Exemplo 2"
   ]
  },
  {
   "cell_type": "markdown",
   "id": "917982b6-9f4f-437a-9cb0-f4b8b3c02466",
   "metadata": {},
   "source": [
    "$\\quad$ Agora, vamos partir para um caso mais complicado. Quando $Re > 1$, a força de arrasto se apresenta unicamente como consta em (10), ou seja, proporcional ao módulo da velocidade ao quadrado. Nas regiões em que $1 < Re < 10^3$, é difícil determinar com precisão o coeficiente de arrasto, necessário para nossos cálculos. Porém, a literatura mostra que para $10^3 < Re < 3,5 \\cdot 10^5$, $C$ tem seu valor quase constante em torno de $0,45$. Assim, usaremos um caso de um escoamento com esse Número de Reynolds para embasarmos nosso outro exemplo."
   ]
  },
  {
   "cell_type": "markdown",
   "id": "32b4f5c1-93ff-4d1a-82ea-eb648f6f5612",
   "metadata": {},
   "source": [
    "$\\quad$ Consideremos uma esfera, perfeitamente lisa. Ela possui $10 \\ cm$ de diâmetro e pesa $4 \\ kg$. A esfera é lançada em um canhão, que a fornece uma velocidade inicial de $30 \\ m/s$ com um ângulo em relação à horizontal de $30°$. A esfera viaja pela atmosfera nas condições normais de temperatura e pressão $\\left(Re = 2,03 \\cdot 10^5\\right)$. Agora, com base em (10), as equações diferenciais que regem o movimento da nossa esfera são:"
   ]
  },
  {
   "cell_type": "markdown",
   "id": "33e0f49e-2be7-4c53-a3b8-be7b00378520",
   "metadata": {},
   "source": [
    "$$\n",
    "\\begin{aligned}\n",
    "\\ddot{x} = -\\frac{\\pi D^2 \\rho C}{8m} \\dot{x} \\sqrt{\\dot{x}^2 + \\dot{y}^2} \\quad\n",
    "\\\\\n",
    "\\\\\n",
    "\\ddot{y} = -g -\\frac{\\pi D^2 \\rho C}{8m} \\dot{y} \\sqrt{\\dot{x}^2 + \\dot{y}^2} \\ .\n",
    "\\end{aligned}\n",
    "\\tag{15}\n",
    "$$"
   ]
  },
  {
   "cell_type": "markdown",
   "id": "649f19ef-1beb-4bb7-a9a1-f99289e51aad",
   "metadata": {},
   "source": [
    "A forma que a força de arrasto aparece nas componentes se encontra dessa maneira devido à decomposição na forma vetorial da mesma. Se o leitor quiser verificar que o módulo da força continua o mesmo, o procedimento é análogo ao do exemplo 1."
   ]
  },
  {
   "cell_type": "markdown",
   "id": "b0cc6dc4-0638-450c-b392-ac4f6db36587",
   "metadata": {},
   "source": [
    "$\\quad$ Ao contrário de (13), a equação acima não possui uma resolução analítica. Ou seja, não é possível encontrar uma equação que descreva com perfeição o movimento do projétil. Assim, nossa análise analítica sobre o problema está encerrada. Entretanto, podemos fazer cálculos numéricos de modo a encontrar a trajetória da nossa esfera. É isso que faremos nas seções seguintes. Entretanto, primeiramente, veremos o método que utilizaremos para nosso estudo computacional."
   ]
  },
  {
   "cell_type": "markdown",
   "id": "bf9a8a4e-1f8a-4b0b-8373-0f9faaa07419",
   "metadata": {},
   "source": [
    "## Métodos computacionais"
   ]
  },
  {
   "cell_type": "markdown",
   "id": "65819f71-1d4c-449c-b089-848c3a1d25d4",
   "metadata": {},
   "source": [
    "$\\quad$ Para resolver nossos problemas computacionalmente, usaremos ferramentas de resoluções de EDO descritas na referência [1]. Especificamente, neste `Notebook` utilizaremos o método de Runge-Kutta de quarta ordem. Esse algoritmo se baseia na expansão em Série de Taylor em vários pontos da função dentre um intervalo de tempo e fazendo a combinação linear certa dessas expansões, de modo a gerar expressões simples de programar e com boa acurácia. Entretanto, conforme o autor da referência, a demonstração desse método é tediosa e envolve uma álgebra longa. Por isso, não focaremos nossa atenção sobre ela."
   ]
  },
  {
   "cell_type": "markdown",
   "id": "58c2e236-f794-4b72-b475-d240615a4436",
   "metadata": {},
   "source": [
    "$\\quad$ Vamos definir uma função $x(t)$ tal que $\\dot{x}(t) = f(x,t)$. Evoluímos a nossa função original no tempo a partir das equações:"
   ]
  },
  {
   "cell_type": "markdown",
   "id": "d192869c-562f-4dd9-9e19-5d01b63ddf53",
   "metadata": {},
   "source": [
    "$$\n",
    "\\begin{aligned}\n",
    "k_1 = hf(x,t) \\qquad \\qquad \\qquad \\\\ \\\\\n",
    "k_2 = hf\\left(x + \\frac{k_1}{2}, t +\\frac{h}{2} \\right) \\qquad \\quad \\\\ \\\\\n",
    "k_3 = hf\\left(x + \\frac{k_2}{2}, t +\\frac{h}{2} \\right) \\qquad \\quad \\\\ \\\\\n",
    "k_4 = hf\\left(x + k_3, t + h \\right) \\qquad \\qquad \\\\ \\\\\n",
    "x(t+h) = x(t) + \\frac{1}{6}\\left(k_1 + 2k_2 + 2k_3 + k_4 \\right), \\\\\n",
    "\\end{aligned}\n",
    "\\tag{16}\n",
    "$$"
   ]
  },
  {
   "cell_type": "markdown",
   "id": "2b98304d-9089-4883-81c5-4774e3fda6c4",
   "metadata": {},
   "source": [
    "onde $h$ retrata um intervalo de tempo muito pequeno. Basicamente, esse método permite a evolução temporal de funções a partir de aproximações numéricas do valor da função em um tempo futuro."
   ]
  },
  {
   "cell_type": "markdown",
   "id": "49826474-b657-4206-94d3-cdc59bdd6380",
   "metadata": {},
   "source": [
    "$\\quad$ Entretanto, o leitor deve ter notado que fazemos a resolução de uma função em que conhecemos sua primeira derivada. Para resolvermos equações que dependam da segunda derivada da função, basta separarmos a equação em duas e resolvermos ambas simultaneamente com o método descrito acima. Como exemplo, para resolvermos a EDO para $y$ na equação (3), faríamos:"
   ]
  },
  {
   "cell_type": "markdown",
   "id": "360c362e-529b-4bb3-85e5-0e6d15007152",
   "metadata": {},
   "source": [
    "$$\n",
    "\\begin{aligned}\n",
    "\\dot{y} = v_y \\; \\ \\\\\n",
    "\\dot{v}_y = -g.\n",
    "\\end{aligned}\n",
    "$$"
   ]
  },
  {
   "cell_type": "markdown",
   "id": "8736d59e-3330-47c7-be52-b4a516b17364",
   "metadata": {},
   "source": [
    "A partir daí, usaríamos expressões similares às encontradas em (16) e avançaríamos ambas as grandezas simultaneamente em nosso programa."
   ]
  },
  {
   "cell_type": "markdown",
   "id": "fbb4eee8-1c40-4ab8-ade3-98bb2c16baf4",
   "metadata": {},
   "source": [
    "## Simulações"
   ]
  },
  {
   "cell_type": "markdown",
   "id": "aa10f4ef-2f16-4d70-af80-c22bfea42565",
   "metadata": {},
   "source": [
    "$\\quad$ Agora, utilizaremos os procedimentos vistos na seção anterior para buscarmos resolver numericamente os exemplos 1 e 2. Para o exemplo 1, faremos uma comparação entre o valor obtido usando o método de Runge-Kutta de resolução de EDO e o resultado analítico encontrado. Além disso, em cada gráfico, faremos um comparativo também com lançamentos que desprezem o arrasto."
   ]
  },
  {
   "cell_type": "markdown",
   "id": "c4a5fd1d-6488-49ac-8a97-5badf5f58a49",
   "metadata": {},
   "source": [
    "$\\quad$ Começando com o exemplo 1, vamos primeiro definir as constantes utilizadas (estaremos usando as unidades em gramas e centímetros):"
   ]
  },
  {
   "cell_type": "code",
   "execution_count": 228,
   "id": "ee8213eb-be8c-42be-b14d-6047ea754295",
   "metadata": {},
   "outputs": [],
   "source": [
    "g = const.g #Vamos carregar a constante gravitacional da biblioteca e armazená-la em uma variável com nome mais simples\n",
    "D = 0.2 #Diâmetro da esfera\n",
    "m = 3.4e-2 #Massa\n",
    "u = 0.81 #Viscosidade dinâmica do azeite\n",
    "K = 3*np.pi*D*u/m #Junção das constantes para simplificar a notação\n",
    "v0 = 2 #Velocidade inicial\n",
    "theta = 30 *(np.pi/180) #Ângulo de lançamento, transformado em radianos\n",
    "v0x = v0*np.cos(theta) #Velocidade inicial no eixo x\n",
    "v0y = v0*np.sin(theta) #Velocidade inicial no eixo y\n",
    "x0,y0 =0,0 #Posição inicial"
   ]
  },
  {
   "cell_type": "markdown",
   "id": "a94457e8-8708-444b-a29b-75986aab35ba",
   "metadata": {},
   "source": [
    "$\\quad$ Agora, vamos definir uma função que agrupe o sistema de equações diferenciais em um vetor único, que será iterado com o método apresentado:"
   ]
  },
  {
   "cell_type": "code",
   "execution_count": 230,
   "id": "bdd5fabb-711e-4122-9d0f-95bbf577a0f9",
   "metadata": {},
   "outputs": [],
   "source": [
    "def f1(r,t):\n",
    "    x,vx,y,vy = r[0],r[1],r[2],r[3]\n",
    "    dx = vx\n",
    "    dvx = -K*vx\n",
    "    dy = vy\n",
    "    dvy = -g - K*vy\n",
    "    return np.array([dx,dvx,dy,dvy])"
   ]
  },
  {
   "cell_type": "markdown",
   "id": "c4fefd4d-1bed-4f38-939b-717191308eee",
   "metadata": {},
   "source": [
    "$\\quad$ Definimos uma função para representar o método Runge-Kutta:"
   ]
  },
  {
   "cell_type": "code",
   "execution_count": 232,
   "id": "ffda8b2d-af87-48af-ab7a-e9a8659c6736",
   "metadata": {},
   "outputs": [],
   "source": [
    "def RK4(r,t):\n",
    "    k1 = h*f1(r,t)\n",
    "    k2 = h*f1(r+0.5*k1,t+0.5*h)\n",
    "    k3 = h*f1(r+0.5*k2,t+0.5*h)\n",
    "    k4 = h*f1(r+k3,t+h)\n",
    "    return r+(1/6)*(k1+2*k2+2*k3+k4)"
   ]
  },
  {
   "cell_type": "code",
   "execution_count": 233,
   "id": "37639a45-46e9-453b-b4c5-241ddac6c291",
   "metadata": {},
   "outputs": [],
   "source": [
    "#Aqui inserimos as informações iniciais em um vetor\n",
    "x,y = [],[]\n",
    "r = np.array([x0,v0x,y0,v0y])"
   ]
  },
  {
   "cell_type": "code",
   "execution_count": 234,
   "id": "1a1ec7e7-acc4-4695-95f7-a22460e971b1",
   "metadata": {},
   "outputs": [],
   "source": [
    "t1,t2 = 0,2 #Tempo inicial e final\n",
    "N = 10000 #Sub-intervalos de tempo para calcular as iterações\n",
    "h = (t2-t1)/N #Tamanho temporal do intervalo\n",
    "tempo = np.linspace(t1,t2,N)"
   ]
  },
  {
   "cell_type": "markdown",
   "id": "d03922d6-35ee-4746-958b-dfcaae0100a7",
   "metadata": {},
   "source": [
    "$\\quad$ Agora, vamos fazer o comando principal desse programa: um laço de repetição que atualiza o vetor por completo. Em seguida, plotamos o gráfico da trajetória."
   ]
  },
  {
   "cell_type": "code",
   "execution_count": 241,
   "id": "a3a3b2aa-afc6-4550-8228-1eeaa4177720",
   "metadata": {},
   "outputs": [],
   "source": [
    "for t in tempo:\n",
    "    x.append(r[0])\n",
    "    y.append(r[2])\n",
    "    '''A condicional a seguir é uma maneira de limitar o intervalo de tempo.\n",
    "    Se considerarmos y=0 como o chão, não faz sentido termos y < 0. Se o intervalo\n",
    "    de tempo for muito grande, aparecerão os resultados. Portanto, essa condicional\n",
    "    serve como forma de limitar quando o projétil atinge novamente o nível do solo e para.'''\n",
    "    if r[2] < 0:\n",
    "        break\n",
    "    r=RK4(r, t)"
   ]
  },
  {
   "cell_type": "code",
   "execution_count": 259,
   "id": "254112cd-7f9f-4afe-864b-4186fe65608c",
   "metadata": {},
   "outputs": [
    {
     "data": {
      "image/png": "[encoded data removed]",
      "text/plain": [
       "<Figure size 600x400 with 1 Axes>"
      ]
     },
     "metadata": {},
     "output_type": "display_data"
    }
   ],
   "source": [
    "plt.figure(figsize=(6, 4))\n",
    "plt.plot(x,y)\n",
    "plt.xlabel(\"x (cm)\")\n",
    "plt.ylabel(\"y (cm)\")\n",
    "plt.ticklabel_format(style='sci', axis='both', scilimits=(0,0))\n",
    "plt.title(\"Trajetória do projétil - Exemplo 1\")\n",
    "plt.show()"
   ]
  },
  {
   "cell_type": "markdown",
   "id": "39e92d6b-8712-4dd9-b44b-3c8f520cd690",
   "metadata": {},
   "source": [
    "$\\quad$ Se o leitor já possui um bom conhecimento em cinemática, pode concluir facilmente que essa trajetória se diferencia muito para aquela que sofre apenas influência gravitacional. Para confirmar, vamos apenas retirar o termo relativo ao arrasto. Para isso, basta zerarmos a constante $K$ definida acima, pois é ela quem controla a magnitude do arrasto."
   ]
  },
  {
   "cell_type": "code",
   "execution_count": 246,
   "id": "8b9af54a-afbf-477d-b543-aaf61f890788",
   "metadata": {},
   "outputs": [],
   "source": [
    "K = 0\n",
    "x2,y2 = [],[]\n",
    "r2 = np.array([x0,v0x,y0,v0y])"
   ]
  },
  {
   "cell_type": "code",
   "execution_count": 248,
   "id": "dc3615aa-62e8-4def-9879-104e70543784",
   "metadata": {},
   "outputs": [],
   "source": [
    "for t in tempo:\n",
    "    x2.append(r2[0])\n",
    "    y2.append(r2[2])\n",
    "    r2=RK4(r2, t)\n",
    "    if r2[2] < 0:\n",
    "        break"
   ]
  },
  {
   "cell_type": "markdown",
   "id": "fce68e74-8eb3-4825-aa5d-6bb767b42ef3",
   "metadata": {},
   "source": [
    "$\\quad$ Por fim, plotamos um gráfico das duas soluções juntas:"
   ]
  },
  {
   "cell_type": "code",
   "execution_count": 263,
   "id": "e229d272-5bff-4feb-9a62-3b1c86ff8404",
   "metadata": {},
   "outputs": [
    {
     "data": {
      "image/png": "[encoded data removed]",
      "text/plain": [
       "<Figure size 600x400 with 1 Axes>"
      ]
     },
     "metadata": {},
     "output_type": "display_data"
    }
   ],
   "source": [
    "plt.figure(figsize=(6, 4))\n",
    "plt.plot(x2,y2, color = \"blue\", label= \"Sem arrasto\")\n",
    "plt.plot(x,y, color = \"orange\", label = \"Com arrasto\")\n",
    "plt.xlabel(\"x (cm)\")\n",
    "plt.ylabel(\"y (cm)\")\n",
    "plt.ticklabel_format(style='sci', axis='both', scilimits=(0,0))\n",
    "plt.legend(loc=\"best\")\n",
    "plt.title(\"Comparação de trajetórias com e sem arrasto - Exemplo 1\")\n",
    "plt.show()"
   ]
  },
  {
   "cell_type": "markdown",
   "id": "2d525980-9d1c-4621-8866-f763feb89532",
   "metadata": {},
   "source": [
    "$\\quad$ É fácil observar a diferença entre as trajetórias. Se lançássemos a mesma esfera, nas mesmas condições, porém no vácuo, o seu alcance seria pelo menos sete vezes maior. Além disso, note como o movimento influenciado pelo arrasto faz o projétil realizar uma paralisação horizontal muito rapidamente. Esse é um resultado esperado, pois o azeite é um fluido muito denso, logo a pressão que ele exerce (por consequente, o arrasto) é muito alta, freando a esfera rapidamente. Agora, vamos testar a solução analítica encontrada em (14) para compararmos com nossa solução numérica."
   ]
  },
  {
   "cell_type": "code",
   "execution_count": 266,
   "id": "cbd5a647-1a23-4b3c-b736-2d3e66aa8824",
   "metadata": {},
   "outputs": [],
   "source": [
    "#Definimos uma função para representar a fórmula do vetor deslocamento encontrado na nossa solução analítica.\n",
    "def rteo(t,k):\n",
    "    x = v0x/k * (1- np.exp(-k*t))\n",
    "    y = (-1/k)*((v0y+(g/k))*np.exp(-k*t) + g*t - (v0y+(g/k)))\n",
    "    return np.array([x,y])"
   ]
  },
  {
   "cell_type": "code",
   "execution_count": 268,
   "id": "494e5da0-fe8d-4bb1-ad23-902c6a9e355c",
   "metadata": {},
   "outputs": [],
   "source": [
    "#Fazemos vetores nulos para armazenar os dados\n",
    "xt,yt=[],[]\n",
    "K = 3*np.pi*D*u/m\n",
    "#Preenchemos os vetores de maneira adequada\n",
    "for i in tempo:\n",
    "    xt.append(rteo(i,K)[0])\n",
    "    yt.append(rteo(i,K)[1])\n",
    "    if rteo(i,K)[1] < 0:\n",
    "        break"
   ]
  },
  {
   "cell_type": "code",
   "execution_count": 276,
   "id": "2b0eb3a8-0d29-4041-931a-1e0f91ea5b5b",
   "metadata": {},
   "outputs": [
    {
     "data": {
      "image/png": "[encoded data removed]",
      "text/plain": [
       "<Figure size 600x400 with 1 Axes>"
      ]
     },
     "metadata": {},
     "output_type": "display_data"
    }
   ],
   "source": [
    "plt.figure(figsize=(6, 4))\n",
    "plt.plot(x,y, color = \"blue\", label= \"Solução numérica\")\n",
    "plt.plot(xt,yt, color = \"orange\", label = \"Solução analítica\")\n",
    "plt.xlabel(\"x (cm)\")\n",
    "plt.ylabel(\"y (cm)\")\n",
    "plt.legend(loc=\"upper right\")\n",
    "plt.ticklabel_format(style='sci', axis='both', scilimits=(0,0))\n",
    "plt.title(\"Comparação entre as soluções numérica e analítica - Exemplo 1\")\n",
    "plt.show()"
   ]
  },
  {
   "cell_type": "markdown",
   "id": "5785928b-22b1-41e6-9f54-8e6192fa597d",
   "metadata": {},
   "source": [
    "$\\quad$ O resultado mostra que as duas curvas se sobrepõem. Isso significa que as duas soluções convergiram perfeitamente, como o esperado. Tal conclusão mostra que o método de resoluções de EDO apresentado em [1] é eficaz."
   ]
  },
  {
   "cell_type": "markdown",
   "id": "9b2b1704-4ec7-4965-8b68-c9a0fdda7396",
   "metadata": {},
   "source": [
    "$\\quad$ Agora, finalmente, vamos tentar analisar a trajetória do exemplo 2. Dessa vez, não temos uma solução analítica. Dessa forma, compararemos somente as soluções com e sem arrasto. Vamos fazer o processo análogo ao do exemplo 1, mudando os valores de algumas constantes e nomes de funções e variáveis, para evitar confusão. Além disso, para esse exemplo, usaremos o S.I."
   ]
  },
  {
   "cell_type": "code",
   "execution_count": 280,
   "id": "c21a5730-e351-45f4-a842-d969a30d240f",
   "metadata": {},
   "outputs": [],
   "source": [
    "D = 0.1 #Diâmetro da esfera\n",
    "m = 4 #Massa\n",
    "rho = 1.22 #Densidade do ar\n",
    "v0 = 30 #Velocidade inicial\n",
    "theta = 30 *(np.pi/180) #Ângulo de lançamento, transformado em radianos\n",
    "C = 0.45 #Coeficiente de arrasto\n",
    "v0x = v0*np.cos(theta) #Velocidade inicial no eixo x\n",
    "v0y = v0*np.sin(theta) #Velocidade inicial no eixo y\n",
    "x0,y0 =0,0"
   ]
  },
  {
   "cell_type": "code",
   "execution_count": 282,
   "id": "64fdb637-7d85-4ee0-b407-f6a7b8d4d248",
   "metadata": {},
   "outputs": [],
   "source": [
    "#Definindo a função que monta o sistema de equações diferenciais do exemplo 2\n",
    "def f2(r,t):\n",
    "    x,vx,y,vy = r[0],r[1],r[2],r[3]\n",
    "    a = (np.pi*D**2*rho*C)/(8*m)\n",
    "    raiz = np.sqrt(vx**2+vy**2)\n",
    "    dx = vx\n",
    "    dvx= -a*vx*raiz\n",
    "    dy = vy\n",
    "    dvy = -g - (a*vy*raiz)\n",
    "    return np.array([dx,dvx,dy,dvy])"
   ]
  },
  {
   "cell_type": "code",
   "execution_count": 284,
   "id": "3029803a-4411-4170-8f9d-52e65dde6ab4",
   "metadata": {},
   "outputs": [],
   "source": [
    "def RK4(r,t):\n",
    "    k1 = h*f2(r,t)\n",
    "    k2 = h*f2(r+0.5*k1,t+0.5*h)\n",
    "    k3 = h*f2(r+0.5*k2,t+0.5*h)\n",
    "    k4 = h*f2(r+k3,t+h)\n",
    "    return r+(1/6)*(k1+2*k2+2*k3+k4)"
   ]
  },
  {
   "cell_type": "code",
   "execution_count": 286,
   "id": "4d066c5d-3638-4d91-9f79-04709a554819",
   "metadata": {},
   "outputs": [],
   "source": [
    "t1,t2=0,100\n",
    "N = 10000\n",
    "h = (t2-t1)/N\n",
    "tempo = np.linspace(t1,t2,N)"
   ]
  },
  {
   "cell_type": "code",
   "execution_count": 288,
   "id": "71e50de7-9692-4b8a-ae59-16259685ace7",
   "metadata": {},
   "outputs": [],
   "source": [
    "x_e2,y_e2 = [],[]\n",
    "r_e2 = np.array([x0,v0x,y0,v0y])"
   ]
  },
  {
   "cell_type": "code",
   "execution_count": 290,
   "id": "37d2e532-e806-409c-be56-ef938b74724c",
   "metadata": {},
   "outputs": [],
   "source": [
    "for t in tempo:\n",
    "    x_e2.append(r_e2[0])\n",
    "    y_e2.append(r_e2[2])\n",
    "    r_e2=RK4(r_e2, t)\n",
    "    if r_e2[2] < 0:\n",
    "        break"
   ]
  },
  {
   "cell_type": "code",
   "execution_count": 296,
   "id": "3d521a01-ed62-4260-bfe8-81493a21f49d",
   "metadata": {},
   "outputs": [
    {
     "data": {
      "image/png": "[encoded data removed]",
      "text/plain": [
       "<Figure size 600x400 with 1 Axes>"
      ]
     },
     "metadata": {},
     "output_type": "display_data"
    }
   ],
   "source": [
    "plt.figure(figsize=(6, 4))\n",
    "plt.plot(x_e2,y_e2)\n",
    "plt.xlabel(\"x (m)\")\n",
    "plt.ylabel(\"y (m)\")\n",
    "plt.ticklabel_format(style='sci', axis='both', scilimits=(0,0))\n",
    "plt.title(\"Trajetória do projétil - Exemplo 2\")\n",
    "plt.show()"
   ]
  },
  {
   "cell_type": "markdown",
   "id": "7dce1a88-4091-4845-bd8d-e6af1d8d6156",
   "metadata": {},
   "source": [
    "$\\quad$ Novamente, vamos explorar o movimento sem arrasto para comparação. Fazemos isso zerando o coeficiente de arrasto $C$:"
   ]
  },
  {
   "cell_type": "code",
   "execution_count": 299,
   "id": "46065fdf-86ce-4f1e-98a0-278a3fb50710",
   "metadata": {},
   "outputs": [],
   "source": [
    "C = 0 \n",
    "x2_e2,y2_e2 = [],[]\n",
    "r2_e2 = np.array([x0,v0x,y0,v0y])"
   ]
  },
  {
   "cell_type": "code",
   "execution_count": 301,
   "id": "da63a67f-5871-47e5-9c35-7490f79cd003",
   "metadata": {},
   "outputs": [],
   "source": [
    "for t in tempo:\n",
    "    x2_e2.append(r2_e2[0])\n",
    "    y2_e2.append(r2_e2[2])\n",
    "    r2_e2=RK4(r2_e2, t)\n",
    "    if r2_e2[2] < 0:\n",
    "        break"
   ]
  },
  {
   "cell_type": "code",
   "execution_count": 303,
   "id": "7e7b1354-c626-4538-88f4-437dd0851508",
   "metadata": {},
   "outputs": [
    {
     "data": {
      "image/png": "[encoded data removed]",
      "text/plain": [
       "<Figure size 600x400 with 1 Axes>"
      ]
     },
     "metadata": {},
     "output_type": "display_data"
    }
   ],
   "source": [
    "plt.figure(figsize=(6, 4))\n",
    "plt.plot(x2_e2,y2_e2, label = \"Sem arrasto\")\n",
    "plt.plot(x_e2,y_e2, label =\"Com arrasto\")\n",
    "plt.xlabel(\"x (m)\")\n",
    "plt.ylabel(\"y (m)\")\n",
    "plt.legend(loc=\"best\")\n",
    "plt.ticklabel_format(style='sci', axis='both', scilimits=(0,0))\n",
    "plt.title(\"Comparação de trajetórias com e sem arrasto - Exemplo 2\")\n",
    "plt.show()"
   ]
  },
  {
   "cell_type": "markdown",
   "id": "242d390a-2bba-4f2e-a933-7ee738e2933e",
   "metadata": {},
   "source": [
    "$\\quad$ Como é possível observar, existe uma diferença pouco significativa entre as trajetórias com e sem influência do arrasto. Isso acontece, pois o ar é um fluido de densidade baixa, diferente do azeite. Por isso, a influência na trajetória se diferencia tão bruscamente entre os exemplos. Entretanto, se aumentássemos a velocidade do disparo (nenhum canhão lança um projétil a somente $30 \\ m/s$) ou mudássemos as características físicas do projétil, poderíamos ver um desvio muito maior entre as trajetórias com e sem arrasto. Outra maneira de ver essa mudança seria, por exemplo, fazer o mesmo lançamento em outro fluido com densidade maior, como o azeite ($Re = 3,4 \\cdot 10^4 $):"
   ]
  },
  {
   "cell_type": "code",
   "execution_count": 306,
   "id": "d737b75a-108f-449b-99c6-a3069fee0427",
   "metadata": {},
   "outputs": [],
   "source": [
    "#Redefinimos o coeficiente de arrasto\n",
    "C = 0.45\n",
    "#Mudamos a densidade do meio para a densidade do azeite\n",
    "rho = 920"
   ]
  },
  {
   "cell_type": "code",
   "execution_count": 308,
   "id": "3fa1d47b-f3b4-418b-8a2b-1cfbe57b6415",
   "metadata": {},
   "outputs": [],
   "source": [
    "x3_e2,y3_e2 = [],[]\n",
    "r3_e2 = np.array([x0,v0x,y0,v0y])"
   ]
  },
  {
   "cell_type": "code",
   "execution_count": 310,
   "id": "60ad5444-c2af-4cb7-99c5-5dd9b02e856e",
   "metadata": {},
   "outputs": [],
   "source": [
    "for t in tempo:\n",
    "    x3_e2.append(r3_e2[0])\n",
    "    y3_e2.append(r3_e2[2])\n",
    "    r3_e2=RK4(r3_e2, t)\n",
    "    if r3_e2[2] < 0:\n",
    "        break"
   ]
  },
  {
   "cell_type": "code",
   "execution_count": 314,
   "id": "8aa48bc3-70d4-48c3-b515-06033c1ffcd2",
   "metadata": {},
   "outputs": [
    {
     "data": {
      "image/png": "[encoded data removed]",
      "text/plain": [
       "<Figure size 600x400 with 1 Axes>"
      ]
     },
     "metadata": {},
     "output_type": "display_data"
    }
   ],
   "source": [
    "plt.figure(figsize=(6, 4))\n",
    "plt.plot(x_e2,y_e2, label = \"No ar\")\n",
    "plt.plot(x3_e2,y3_e2, label =\"No azeite\")\n",
    "plt.xlabel(\"x (m)\")\n",
    "plt.ylabel(\"y (m)\")\n",
    "plt.legend(loc=\"best\")\n",
    "plt.ticklabel_format(style='sci', axis='both', scilimits=(0,0))\n",
    "plt.title(\"Comparação de trajetórias com o projétil no ar e no azeite - Exemplo 2\")\n",
    "plt.show()"
   ]
  },
  {
   "cell_type": "markdown",
   "id": "eaac633d-287e-446d-99bc-95edaa2e5246",
   "metadata": {},
   "source": [
    "$\\quad$ Aqui podemos observar como a densidade do fluido faz diferença no alcançe da trajetória. No ar, o projétil alcançou uma distância cerca de dez vezes maior do que se fosse lançado em uma banheira de azeite. Se a velocidade de lançamento fosse maior, a diferença seria ainda mais exorbitante."
   ]
  },
  {
   "cell_type": "markdown",
   "id": "aba0e253-cf42-49f4-acc9-9040ce28d5e3",
   "metadata": {},
   "source": [
    "## Conclusão"
   ]
  },
  {
   "cell_type": "markdown",
   "id": "50f1ef18-b887-414a-91cb-e042e58567f7",
   "metadata": {},
   "source": [
    "$\\quad$ A partir da total construção deste `Notebook`, podemos entender conceitos fundamentais relacionados à mecânica dos fluidos, forças de arrasto e trajetórias oblíquas. Entretanto, algumas outras análises poderiam ser feitas utilizando as técnicas discutidas aqui. Alguns dos questionamentos que podem ficar são: Como o ângulo influencia na trajetória e alcance do projétil? Se adicionarmos a rotação do objeto, a trajetória muda? A viscosidade do fluido poderia ter mais influência?"
   ]
  },
  {
   "cell_type": "markdown",
   "id": "00b75a72-9b9a-4b57-bef3-52f543b57d42",
   "metadata": {},
   "source": [
    "$\\quad$ Bom, as perguntas são inúmeras. Entretanto, não cabe a esse `Notebook` respondê-las. Algumas das respostas podem ser encontradas em outros `Notebook` desse projeto, que deixamos como referência [6] [7]. Se o leitor buscar se aprofundar em tópicos relacionados à mecânica dos fluidos, recomendamos a referência [2]. Com relação aos nossos resultados, eles se mostraram promissores. Podemos afirmar isso, pois quando era esperado que convergissem, isso aconteceu, assim como quando era esperado uma divergência entre as trajetórias. Portanto, dizemos que o objetivo do `Notebook` foi concluído com êxito."
   ]
  },
  {
   "cell_type": "markdown",
   "id": "987af6d2-e357-49ac-88cc-0b74380a82a9",
   "metadata": {},
   "source": [
    "## Apêndice"
   ]
  },
  {
   "cell_type": "markdown",
   "id": "ca7c4fd2-5399-4217-9867-d04a827ae70c",
   "metadata": {},
   "source": [
    "$\\quad$ Nosso primeiro objetivo é resolver o seguinte sistema de equações lineares presente em (3):"
   ]
  },
  {
   "cell_type": "markdown",
   "id": "1f508a5d-7ea0-4a96-bc13-90277edc069a",
   "metadata": {},
   "source": [
    "$$\n",
    "\\begin{aligned}\n",
    "\\ddot{x} = 0 \\ \\  \\\\\n",
    "\\ddot{y} = -g . \n",
    "\\end{aligned}\n",
    "$$"
   ]
  },
  {
   "cell_type": "markdown",
   "id": "8180ac71-3397-4c08-9334-efe762d5ad19",
   "metadata": {},
   "source": [
    "Como não existem dependências cruzadas (equação que dependa de $x$ e $y$, ou suas derivadas, simultaneamente, podemos resolver cada uma separadamente. Em específico, apenas usaremos integração direta. Para a primeira equação, fazemos:"
   ]
  },
  {
   "cell_type": "markdown",
   "id": "95f31211-df6e-459f-9493-ff67662ed26d",
   "metadata": {},
   "source": [
    "$$\n",
    "\\frac{d^2 x}{dt^2} = 0 \\Rightarrow \\int \\frac{d^2 x}{dt^2} \\ dt = \\int 0 \\ dt \\Rightarrow \\frac{dx}{dt} = C, \\qquad C \\  constante\n",
    "$$"
   ]
  },
  {
   "cell_type": "markdown",
   "id": "04b4f625-be37-4177-a910-d632373b2534",
   "metadata": {},
   "source": [
    "$\\quad$ Até então, usamos apenas o Teorema fundamental do Cálculo. Note que a expressão acima diz que a derivada temporal da coordenada $x$ é uma constante. Sabemos que a derivada temporal da posição é a velocidade. Logo, podemos substituir $C$ por $v_x$. Integrando novamente, obtemos:"
   ]
  },
  {
   "cell_type": "markdown",
   "id": "53c4ea29-890d-4d6c-acbd-fb5c2b405470",
   "metadata": {},
   "source": [
    "$$\n",
    "\\int \\frac{dx}{dt} \\ dt = \\int v_x \\ dt \\Rightarrow x(t) = v_x t + K \\ , \\qquad K\\  constante \n",
    "$$"
   ]
  },
  {
   "cell_type": "markdown",
   "id": "02184c9a-fd0f-48a0-85d5-6206de83670e",
   "metadata": {},
   "source": [
    "$\\quad$ A constante K, resultante da integração pode ser entendida facilmente como a posição inicial da partícula no eixo $x$, ou seja, $x_0$. Assim, nossa equação final do movimento se torna: "
   ]
  },
  {
   "cell_type": "markdown",
   "id": "f69fe770-b8b4-4e03-bf5a-4415faa41b4b",
   "metadata": {},
   "source": [
    "$$\n",
    "x(t) = v_x t + x_0.\n",
    "$$"
   ]
  },
  {
   "cell_type": "markdown",
   "id": "8554a0d8-b375-49dc-bd4b-a6907923d3f7",
   "metadata": {},
   "source": [
    "$\\quad$ O procedimento para a coordenada $y$ é análogo. A seguir, segue as operações necessárias:"
   ]
  },
  {
   "cell_type": "markdown",
   "id": "bc246982-1385-415d-bffa-ae128d2b5264",
   "metadata": {},
   "source": [
    "$$\n",
    "\\frac{d^2 y}{dt^2} = -g \\Rightarrow \\int \\frac{d^2 y}{dt^2} \\ dt = \\int -g \\ dt \\Rightarrow \\frac{dy}{dt} = -gt + v_{0y}\n",
    "$$"
   ]
  },
  {
   "cell_type": "markdown",
   "id": "bc8d5010-e76d-4eb3-a761-3ffcaba553c0",
   "metadata": {},
   "source": [
    "$$\n",
    "\\therefore \\int \\frac{dy}{dt} \\ dt = \\int \\left(-gt + v_{0y} \\right) \\ dt \\Rightarrow y(t) = y_0 + v_{0y}t - \\frac{gt^2}{2} .\n",
    "$$"
   ]
  },
  {
   "cell_type": "markdown",
   "id": "b0f7b6fe-e995-42d5-8346-c124d37f2c96",
   "metadata": {},
   "source": [
    "$\\quad$ Onde as constantes foram renomeadas na forma que $v_{0y}$ representa a velocidade inicial na direção do eixo $y$ e $y_0$ a posição inicial neste mesmo eixo. Juntando as equações obtidas, temos que o lançamento oblíquo deve obedecer:"
   ]
  },
  {
   "cell_type": "markdown",
   "id": "92ae7cc8-03f6-4e5e-8b4d-67e7318f823c",
   "metadata": {},
   "source": [
    "$$\n",
    "\\begin{aligned}\n",
    "x(t) = v_xt + x_0 \\quad \\ \\ \\\\ \\\\\n",
    "y(t) = y_0 + v_{0y}t - \\frac{gt^2}{2}.\n",
    "\\end{aligned}\n",
    "$$"
   ]
  },
  {
   "cell_type": "markdown",
   "id": "898cd926-e250-4c7b-a34a-c622840eefc6",
   "metadata": {},
   "source": [
    "$\\quad$ Note que essas equações são muito parecidas com a apresentada em (4). Basta apenas fazermos $v_x = v_0 \\cos(\\theta)$ e $v_{0y} = v_0 \\sin(\\theta)$, com $v_0$ sendo o módulo da velocidade inicial do projétil e $\\theta$ o ângulo de lançamento."
   ]
  },
  {
   "cell_type": "markdown",
   "id": "f9f246b3-c559-4b94-9eab-39af52fd162a",
   "metadata": {},
   "source": [
    "$\\quad$ Agora, queremos achar a solução para o sistema de equações diferenciais apresentado em (13):"
   ]
  },
  {
   "cell_type": "markdown",
   "id": "0d6328ac-4ab6-4abe-8a4b-588bc21596ae",
   "metadata": {},
   "source": [
    "$$\n",
    "\\begin{aligned}\n",
    "\\ddot{x} = -K \\dot{x} \\quad \\\\\n",
    "\\ddot{y} = -K \\dot{y} - g \\ ,\n",
    "\\end{aligned}\n",
    "$$"
   ]
  },
  {
   "cell_type": "markdown",
   "id": "fe2f3b08-6c77-436d-a569-d8741328aa46",
   "metadata": {},
   "source": [
    "onde $K$ é uma constante já discutida e pode ser entendida como a intensificação do arrasto. Difentemente das equações anteriores, não conseguimos resolver apenas por integração. Assim, usaremos os métodos discutidos pelo Guidorizzi [8]. Faremos aqui apenas o passo a passo, se o leitor quiser entender o método, consultar a referência. "
   ]
  },
  {
   "cell_type": "markdown",
   "id": "1ef37116-8757-41b0-bd66-5b21482629a0",
   "metadata": {},
   "source": [
    "$\\quad$ Primeiro, vamos resolver a equação que diz respeito à trajetória no eixo $x$. Usando o polinômio característico, temos que:"
   ]
  },
  {
   "cell_type": "markdown",
   "id": "2ac69a98-e690-47c7-8a07-4c241eae4f7c",
   "metadata": {},
   "source": [
    "$$\n",
    "\\begin{aligned}\n",
    "\\lambda ^2 + K \\lambda = 0 \\Rightarrow \\lambda(\\lambda + K) = 0 \\\\ \\\\\n",
    "\\therefore \\quad \\lambda = 0 \\ ou \\ \\lambda = -K. \\quad \\ \\ \n",
    "\\end{aligned}\n",
    "$$"
   ]
  },
  {
   "cell_type": "markdown",
   "id": "672d48ee-9e01-4089-adae-583789a47084",
   "metadata": {},
   "source": [
    "$\\quad$ Pelo método de resolução de EDO apresentado em [8], isso implica que a solução geral é:"
   ]
  },
  {
   "cell_type": "markdown",
   "id": "98a8eb3b-21ab-484d-9035-edc1352a21b9",
   "metadata": {},
   "source": [
    "$$\n",
    "x(t) = A + B e^{-Kt},\n",
    "$$"
   ]
  },
  {
   "cell_type": "markdown",
   "id": "ba545e0d-e5ff-4419-92b4-f07fe544f025",
   "metadata": {},
   "source": [
    "onde $A$ e $B$ são constantes determinadas através das condições iniciais do problema. Para o nosso lançamento, vamos impor que $x(0) = 0$ e que a velocidade inicial na direção $x$ seja $v_x$, ou seja, $\\dot{x}(0) = v_x$. Aplicando, temos:"
   ]
  },
  {
   "cell_type": "markdown",
   "id": "91568803-5f12-4c68-95ba-943100205c0b",
   "metadata": {},
   "source": [
    "$$\n",
    "\\begin{aligned}\n",
    "x(0) = A + B e^{-K0} = 0 \\Rightarrow A + B = 0 \\Rightarrow A = -B \\\\ \\\\\n",
    "\\dot{x} (0) = -KBe^{-K0} = v_x \\Rightarrow B = -\\frac{v_x}{K} \\ \\therefore \\ A = \\frac{v_x}{K}.\n",
    "\\end{aligned}\n",
    "$$"
   ]
  },
  {
   "cell_type": "markdown",
   "id": "d35d3f6b-84ee-4128-bd83-2eb045297fc8",
   "metadata": {},
   "source": [
    "$\\quad$ Substituindo as constantes em nossa solução, temos então que a trajetória do projétil na coordenada $x$ é da forma:"
   ]
  },
  {
   "cell_type": "markdown",
   "id": "1e5f0e3d-6ba2-40a6-9c48-d527efd92537",
   "metadata": {},
   "source": [
    "$$\n",
    "x(t) = \\frac{v_x}{K} \\left(1 - e^{-Kt}  \\right).\n",
    "$$"
   ]
  },
  {
   "cell_type": "markdown",
   "id": "a8961694-2572-4f1d-9bb0-a8aade6a83ee",
   "metadata": {},
   "source": [
    "$\\quad$ Agora, vamos utilizar um procedimento muito parecido para resolvermos a trajetória na direção $y$. Primeiro, vamos transformar sua equação em:"
   ]
  },
  {
   "cell_type": "markdown",
   "id": "f9fd1977-6ac7-4b34-9732-4011858c3cb3",
   "metadata": {},
   "source": [
    "$$\n",
    "\\ddot{y} + K \\dot{y} = -g.\n",
    "$$"
   ]
  },
  {
   "cell_type": "markdown",
   "id": "997d1051-5a93-4e4d-8138-4f0b7f07317c",
   "metadata": {},
   "source": [
    "$\\quad$ Diferentemente da equação para $x$, essa não é uma equação diferencial homogênea, ou seja, se colocarmos apenas os termos que envolvem combinações lineares das derivadas ou da própria função para um lado, no outro existe uma função diferente de zero. Para resolvermos esse problema, primeiro vamos considerar que a equação para $y$ seja homogênea, encontrar as soluções, e depois buscarmos uma solução particular para a equação inicial. "
   ]
  },
  {
   "cell_type": "markdown",
   "id": "c56f395e-b5a2-456d-86fa-a70d2d7ee24e",
   "metadata": {},
   "source": [
    "$\\quad$ Resolvamos então:"
   ]
  },
  {
   "cell_type": "markdown",
   "id": "5dd2a436-b6e8-4c94-8f82-cff0b5ddede6",
   "metadata": {},
   "source": [
    "$$\n",
    "\\ddot{y} + K \\dot{y} = 0.\n",
    "$$"
   ]
  },
  {
   "cell_type": "markdown",
   "id": "b6fc7f28-c6b7-479c-b497-e9db96296e16",
   "metadata": {},
   "source": [
    "Porém, essa equação é idêntica aquela para a coordenada $x$, dessa forma, sua solução é equivalente, ou seja:"
   ]
  },
  {
   "cell_type": "markdown",
   "id": "4d623061-7ae6-45c9-a687-3e0e3582c888",
   "metadata": {},
   "source": [
    "$$\n",
    "y(t) = \\alpha e^{-Kt} + \\beta + f(t),\n",
    "$$"
   ]
  },
  {
   "cell_type": "markdown",
   "id": "09e2936a-bf29-4fec-817a-7583789c75a5",
   "metadata": {},
   "source": [
    "onde $\\alpha$ e $\\beta$ são constantes a determinar pelas condições iniciais e $f(t)$ é nossa solução particular que devemos procurar."
   ]
  },
  {
   "cell_type": "markdown",
   "id": "17311263-07c8-4c87-a68d-6f851790486d",
   "metadata": {},
   "source": [
    "$\\quad$ Para achar $f(t)$, vamos usar os métodos dos coeficientes a determinar [8]. Assim, devemos pensar em uma função parecida com aquela que faz a EDO deixar de ser homogênea, fazer uma combinação linear desta, substituir na equação e determinar qual constante deve acompanhá-la para que a igualdade seja mantida. Como na equação original de $y$ temos apenas termos com derivadas, e o resultado das operações com estas é uma função constante, vamos buscar uma solução particular na forma $f(t) = \\eta t$ (as estratégias para esse método estão melhor explicadas em [8]). Substituindo na equação, teremos:"
   ]
  },
  {
   "cell_type": "markdown",
   "id": "e0390b0d-6180-406e-9bea-f1d51f8fee79",
   "metadata": {},
   "source": [
    "$$\n",
    "\\frac{d^2}{dt^2} (\\eta t) + K \\frac{d}{dt} (\\eta t) = -g \\Rightarrow 0 + K \\eta = -g \\ \\therefore \\ \\eta = - \\frac{g}{K}.\n",
    "$$"
   ]
  },
  {
   "cell_type": "markdown",
   "id": "c7fea714-8d82-4dcc-aa12-3fcf9b637ddb",
   "metadata": {},
   "source": [
    "$\\quad$ Com isso, descobrimos rapidamente que a nossa solução particular. Substituindo esses resultados na solução encontrada para $y$ anteriormente, vamos obter:"
   ]
  },
  {
   "cell_type": "markdown",
   "id": "0f4ac158-f62d-4d49-b445-fedc73040e99",
   "metadata": {},
   "source": [
    "$$\n",
    "y(t) = \\alpha e^{-Kt} + \\beta - \\frac{gt}{K}.\n",
    "$$"
   ]
  },
  {
   "cell_type": "markdown",
   "id": "e47c883f-3635-4811-b54e-cc9adc674a38",
   "metadata": {},
   "source": [
    "$\\quad$ Agora, vamos determinar as constantes $\\alpha$ e $\\beta$. Vamos estabelecer condições iniciais parecidas com as usadas no eixo $x$. Assim, vamos dizer que a posição inicial em $y$ será nula, ou seja, $y(0) =  0$. Além disso, inicialmente, a velocidade inicial nessa direção será uma constante denominada $v_y$, então $\\dot{y}(0) = v_y$. Aplicando essas condições, vamos obter:"
   ]
  },
  {
   "cell_type": "markdown",
   "id": "af428181-03cc-4ad9-941b-68e1d63f7823",
   "metadata": {},
   "source": [
    "$$\n",
    "\\begin{aligned}\n",
    "y(0) = \\alpha e^{-K0} + \\beta - \\frac{0g}{K} = 0 \\Rightarrow \\alpha + \\beta = 0 \\Rightarrow \\alpha = - \\beta\n",
    "\\end{aligned}\n",
    "$$"
   ]
  },
  {
   "cell_type": "markdown",
   "id": "512b3b4d-f1b6-4b11-8f41-31cc00ea0adb",
   "metadata": {},
   "source": [
    "$$\n",
    "\\begin{aligned}\n",
    "\\dot{y}(0) = -K\\alpha e^{-K0} + 0 - \\frac{g}{K} = v_y \\Rightarrow K\\alpha + \\frac{g}{K} = - v_y \\\\ \\\\\n",
    "\\therefore \\ \\alpha = -\\frac{1}{K}\\left(v_y + \\frac{g}{K} \\right) \\; \\Rightarrow \\; \\beta = \\frac{1}{K}\\left(v_y + \\frac{g}{K} \\right) \\qquad.\n",
    "\\end{aligned}\n",
    "$$"
   ]
  },
  {
   "cell_type": "markdown",
   "id": "9fb8cd71-0c44-4bb7-a42c-c5df62e23e2f",
   "metadata": {},
   "source": [
    "$\\quad$ Agora que achamos todas as constantes, voltamos a nossa solução e substituimos os respectivos valores. Encontrando, portanto:"
   ]
  },
  {
   "cell_type": "markdown",
   "id": "ec16ad38-1c47-48d9-82cd-7ce0b669582c",
   "metadata": {},
   "source": [
    "$$\n",
    "y(t) = -\\frac{1}{K}\\left(v_y + \\frac{g}{K} \\right) e^{-Kt} + \\frac{1}{K}\\left(v_y + \\frac{g}{K} \\right) - \\frac{gt}{K} \\; \\Rightarrow \\; y(t) = -\\frac{1}{K}\\left(\\left(v_y + \\frac{g}{K} \\right) e^{-Kt} - \\left(v_y + \\frac{g}{K} \\right) + gt \\right).\n",
    "$$"
   ]
  },
  {
   "cell_type": "markdown",
   "id": "1981e05c-b98a-4911-90d1-336702b2df31",
   "metadata": {},
   "source": [
    "$\\quad$ Para finalizar, vamos lembrar que as velocidades iniciais em $x$ e em $y$ podem ser obtidas através do módulo da velocidade inicial e do ângulo de lançamento, assim como fizemos para resolver a primeira EDO. Dessa forma, faremos $v_x = v \\cos(\\theta)$ e $v_y = v \\sin(\\theta)$. Apicando essa substituição, as equações que definem a trajetória são:"
   ]
  },
  {
   "cell_type": "markdown",
   "id": "4ee8bd1a-2d15-4109-9b2e-718c8ac2a86e",
   "metadata": {},
   "source": [
    "$$\n",
    "\\begin{aligned}\n",
    "x(t) = \\frac{v \\cos(\\theta)}{K} \\left(1 - e^{-Kt}  \\right) \\qquad \\qquad \\qquad \\\\ \\\\\n",
    "y(t) = -\\frac{1}{K}\\left(\\left(v \\sin(\\theta) + \\frac{g}{K} \\right) e^{-Kt} - \\left(v \\sin(\\theta) + \\frac{g}{K} \\right) + gt \\right).\n",
    "\\end{aligned}\n",
    "$$"
   ]
  },
  {
   "cell_type": "markdown",
   "id": "333ca48c-4506-430d-930f-6bd7d880a080",
   "metadata": {},
   "source": [
    "$\\quad$ Note que essas equações são muito parecidas com aquelas mostradas em (14). Esta que resolvemos é para qualquer ângulo de lançamento. Para obtermos (14), basta fazermos $\\theta = 30°$."
   ]
  },
  {
   "cell_type": "markdown",
   "id": "b7daf817-d7a4-4aa2-82d2-b60134e20150",
   "metadata": {},
   "source": [
    "## Referências"
   ]
  },
  {
   "cell_type": "markdown",
   "id": "433562d8-d708-465b-b321-1ed3d9ecd9f6",
   "metadata": {},
   "source": [
    "[1] Newman, Mark. 2013. Computational Physics. 1 ed.\n",
    "\n",
    "[2] Brunetti, Franco. 2008. Mecânica dos Fluidos. 2 ed.\n",
    "\n",
    "[3] Nussenzveig, H. Moysés. 2013. Curso de Física Básica: Mecânica. 5 ed.\n",
    "\n",
    "[4] PIASSI, Amanda Resende; OLIVEIRA, Samuel de; SOUZA, Daniel Alves de. Análise da abordagem matemática do tema queda dos corpos nos principais livros de física elementar utilizados nas licenciaturas em física no brasil. Revista do Professor de Física, Brasília, v. 3, n. 3, p. 105-118, jan. 2019.\n",
    "\n",
    "[5] Czernia, Dominik. Calculadora do Número de Reynolds. 2024. Disponível em: https://www.omnicalculator.com/pt/fisica/calculadora-numero-de-reynolds\n",
    "\n",
    "[6] Alves, Moisés. 2022. Lançamento de projéteis: o efeito Magnus. Disponível em: https://github.com/moseseusueus/PET.py/blob/main/Notebooks/Lan%C3%A7amento%20de%20proj%C3%A9teis%2C%20o%20efeito%20Magnus.ipynb\n",
    "\n",
    "[7] Alves, Moisés. 2022. Lançamento de projéteis: uma introdução. Disponível em: https://github.com/moseseusueus/PET.py/blob/main/Notebooks/Lan%C3%A7amento%20de%20proj%C3%A9teis%2C%20uma%20introdu%C3%A7%C3%A3o.ipynb\n",
    "\n",
    "[8] Guidorizzi, Hamilton. 2002. Um curso de cálculo. Vol. 4. 5 ed."
   ]
  }
 ],
 "metadata": {
  "kernelspec": {
   "display_name": "Python [conda env:base] *",
   "language": "python",
   "name": "conda-base-py"
  },
  "language_info": {
   "codemirror_mode": {
    "name": "ipython",
    "version": 3
   },
   "file_extension": ".py",
   "mimetype": "text/x-python",
   "name": "python",
   "nbconvert_exporter": "python",
   "pygments_lexer": "ipython3",
   "version": "3.12.7"
  }
 },
 "nbformat": 4,
 "nbformat_minor": 5
}
