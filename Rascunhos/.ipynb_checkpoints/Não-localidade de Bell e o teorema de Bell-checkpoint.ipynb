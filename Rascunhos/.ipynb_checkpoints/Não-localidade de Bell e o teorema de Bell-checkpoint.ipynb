{
 "cells": [
  {
   "cell_type": "markdown",
   "metadata": {},
   "source": [
    "# Não-localidade de Bell e o teorema de Bell\n",
    "\n",
    "* PET - Física UFRN\n",
    "* Ex-Petiano: Moisés da Rocha Alves\n",
    "* Data: 28 de Junho de 2024\n",
    "\n",
    "$\\quad$ A não-localidade de Bell, fenômeno intrínseco da mecânica quântica, é caracterizada pela violação das desigualdades de Bell. Estas desigualdades estabelecem limites para as correlações entre medidas realizadas em sistemas quânticos espacialmente separados, sob a hipótese de realismo local. A violação experimental dessas desigualdades, confirmada em diversos testes, implica que a mecânica quântica não pode ser descrita por nenhuma teoria física local realista.\n",
    "\n",
    "$\\quad$ Neste `Notebook` introduziremos a noção de não-localidade de Bell, ou não “realismo local”, com o fim de mostrar, por meio do teorema de Bell, que a mecânica quântica é incompatível com a noção de realismo local. Para a leitura deste `Notebook`, recomenda-se fortemente a leitura do primeiro capítulo da ref. [1], que descreve em maiores detalhes os procedimentos técnicos que serão aqui realizados.\n",
    "\n",
    "$\\quad$ Este trabalho será dividido em duas partes: na primeira parte, demonstraremos o resultado teórico do teorema de Bell. Na segunda parte, usaremos a biblioteca `Qiskit` para violar a desigualdade CHSH por meio de um computador quântico simulado, implementando um teste de Bell. Um agradecimento especial a Paulo Vitor de Queiroz Ferreira, que fez a maior parte do código em `Qiskit` deste `Notebook`."
   ]
  },
  {
   "cell_type": "markdown",
   "metadata": {},
   "source": [
    "## 1. Realismo local e o modelo de variáveis locais ocultas"
   ]
  },
  {
   "cell_type": "markdown",
   "metadata": {},
   "source": [
    "$\\quad$ Em 1935, Einstein, Podolsky e Rosen (EPR) descrevem, pela primeira vez, o chamado paradoxo EPR, dando origem às primeiras noções de realismo local [2]. Embora a discussão deste paradoxo seja pertinente para introduzir os conceitos de realismo local, não entraremos em maiores detalhes sobre este paradoxo. Ao invés disso, introduziremos o conceito de realismo local, a partir das noções introduzidas por John Bell em 1964, que, brilhantemente, deu forma matemática ao conceito [3]. Para o leitor interessado no paradoxo EPR, entretanto, recomenda-se a leitura da primeira seção da ref. [1], que o introduz a partir da formulação feita por David Bohm, conhecida como paradoxo EPR-Bohm.\n",
    "\n",
    "$\\quad$ Para introduzirmos propriamente esta noção, consideremos o seguinte cenário: duas partículas, A e B, são distribuídas ao laboratório A e ao laboratório B, coordenados por Alice e Bob. Considere que as partículas estão separadas por uma distância tal que não possa haver interferência entre as partículas, de maneira que o que for medido por Alice não afete o resultado de Bob e vice-versa. Suponha que Alice e Bob podem realizar dois tipos de medição, numeradas em 0 ou 1. Para cada medição, um valor de saída binário é gerado, numerados em -1 e 1.\n",
    "\n",
    "$\\quad$ Associamos $x$ e $y$, tais que $x,y \\in \\{0,1\\}$, às medições que Alice e Bob podem realizar, respectivamente. Ainda, associamos $a$ e $b$, tais que $a,b \\in \\{-1,1\\}$, às saídas geradas devido a cada medição de Alice e Bob, respectivamente. Suponha que várias rodadas deste experimento podem ser feitas, onde para cada rodada informamos um par de entradas $(x,y)$ e nos é devolvido um par de saídas $(a,b)$, resultantes das operações feitas por Alice e Bob. A partir disso, coletamos as probabilidades $p(a,b|x,y)$, que se leem como: a probabilidade de termos como saída o par $(a,b)$, dadas as entradas $(x,y)$ (este tipo de probabilidade é definida por meio do Teorema de Bayes [4]). Este cenário é ilustrado na figura disposta abaixo."
   ]
  },
  {
   "attachments": {
    "52a4c29e-7bbd-4ce7-b782-33aad26bcb1f.png": {
     "image/png": "[encoded data removed]"
    }
   },
   "cell_type": "markdown",
   "metadata": {},
   "source": [
    "![cenario_chsh.png](attachment:52a4c29e-7bbd-4ce7-b782-33aad26bcb1f.png)"
   ]
  },
  {
   "cell_type": "markdown",
   "metadata": {},
   "source": [
    "$\\quad$ Mas qual a necessidade de descrevermos um cenário específico como esse? Ora, sistemas de dois níveis sempre terão estados associados a autovalores binários, como $+\\hbar/2$ e $-\\hbar/2$ no caso dos sistemas de spin 1/2, os quais sempre podemos associar às saídas -1 e 1! Note, também, que sempre é possível associar $x$ e $y$, que denotam as possibilidades de medição de Alice e Bob, a um observável da mecânica quântica que desejamos medir, como $S_z$ ou $S_x$, por exemplo. Porém, por hora, não iremos nos ater muito ao funcionamento da mecânica quântica. Descreveremos um modelo dito ser compatível com o realismo local: um modelo de variáveis locais ocultas.\n",
    "\n",
    "$\\quad$ Uma das importantes noções do paradoxo EPR foi a noção de realismo. Assumir **realismo**, em termos mais simples, nada mais é que assumir que há algo, ou alguma variável, que intrinsecamente explica os resultados observados neste tipo de experimento. No contexto da mecânica quântica, é assumir que existe alguma variável oculta (que talvez não tenhamos acesso) que poderia parametrizar de que forma a função de onda deveria colapsar, por exemplo. Através do realismo, podemos descrever a probabilidade conjunta tal que:"
   ]
  },
  {
   "cell_type": "markdown",
   "metadata": {},
   "source": [
    "$$\n",
    "p(a,b|x,y) = \\sum_{\\lambda} p(a,b,\\lambda|x,y), \\tag{1.1}\n",
    "$$"
   ]
  },
  {
   "cell_type": "markdown",
   "metadata": {},
   "source": [
    "onde foi feita uma marginalização de $p(a,b|x,y)$ em uma variável $\\lambda$ (a dita cuja variável oculta). \n",
    "\n",
    "$\\quad$ Antes de prosseguirmos, cabe definir o que chamamos de teorema de Bayes para distribuições de probabilidade conjuntas (com mais de uma variável). Suponha que, dentro de um certo espaço de probabilidades $\\Omega$ possam ocorrer os eventos $A$, $B$ e $C$. Assim, definimos como a probabilidade do evento $A$ acontecer, dado que $B$ e $C$ aconteceram, como:"
   ]
  },
  {
   "cell_type": "markdown",
   "metadata": {},
   "source": [
    "$$\n",
    "p(A|B,C) = \\frac{p(A \\cap B \\cap C)}{p(B \\cap C)} = \\frac{p(A, B, C)}{p(B, C)}. \\tag{1.2}\n",
    "$$"
   ]
  },
  {
   "cell_type": "markdown",
   "metadata": {},
   "source": [
    "$\\quad$ Assim, utilizando esta propriedade, podemos escrever:"
   ]
  },
  {
   "cell_type": "markdown",
   "metadata": {},
   "source": [
    "$$\n",
    "\\begin{align}\n",
    "p(a,b|x,y) &= \\sum_{\\lambda} p(a,b,\\lambda|x,y) \\\\&= \\sum_{\\lambda} \\frac{p(a, b, \\lambda, x, y)}{p(x, y)} \\\\&= \\sum_{\\lambda} \\frac{p(\\lambda, x, y)}{p(\\lambda, x, y)} \\frac{p(a, b, \\lambda, x, y)}{p(x, y)} \n",
    "\\\\ &= \\sum_{\\lambda} p(a,b|\\lambda,x,y)\\ p(\\lambda|x, y). \\tag{1.3}\n",
    "\\end{align}\n",
    "$$"
   ]
  },
  {
   "cell_type": "markdown",
   "metadata": {},
   "source": [
    "$\\quad$ Na construção de nosso experimento, assumimos que os objetos deveriam estar longes o suficiente para que o limite relativístico (da velocidade da luz) nos garantisse que as medições em A não gerassem nenhuma interferência em B, e vice-versa. Assumir esta hipótese é o que chamamos de assumir **localidade**. No contexto das distribuições de probabilidade, podemos dizer que:"
   ]
  },
  {
   "cell_type": "markdown",
   "metadata": {},
   "source": [
    "$$\n",
    "p(a,b|\\lambda,x,y) = p(a|\\lambda,x,y)\\,p(b|\\lambda,x,y), \\tag{1.4}\n",
    "$$"
   ]
  },
  {
   "cell_type": "markdown",
   "metadata": {},
   "source": [
    "tal que as $a$ e $b$ devem ser independentes condicionalmente, para dadas variáveis $\\lambda$, $y$ e $x$. \n",
    "\n",
    "$\\quad$ E ainda continuando no argumento da localidade, já que as saídas $a$ e $b$ só dependem de $x$ e $y$, respectivamente, para dado $\\lambda$, podemos escrever o argumento definitivo da localidade como:"
   ]
  },
  {
   "cell_type": "markdown",
   "metadata": {},
   "source": [
    "$$\n",
    "\\begin{align}\n",
    "        p(a|\\lambda,x,y) = p(a|\\lambda,x),\n",
    "        \\\\ p(b|\\lambda, x, y) = p(b|\\lambda,y). \\tag{1.5}\n",
    "\\end{align}\n",
    "$$"
   ]
  },
  {
   "cell_type": "markdown",
   "metadata": {},
   "source": [
    "$\\quad$ O argumento original formulado por Bell em 1964 [3] pressupõe, ainda, uma terceira premissa assumida de maneira implícita em um modelo compatível com o realismo local: que não há dependência entre $\\lambda$ e $(x,y)$, de maneira que a probabilidade condicional pode ser separada tal que:"
   ]
  },
  {
   "cell_type": "markdown",
   "metadata": {},
   "source": [
    "$$\n",
    "    p(\\lambda|x,y) = \\frac{p(\\lambda, x, y)}{p(x, y)} \n",
    "    =\\frac{ p(\\lambda) p(x,y)}{p(x,y)}\n",
    "    =p(\\lambda), \\tag{1.5}\n",
    "$$"
   ]
  },
  {
   "cell_type": "markdown",
   "metadata": {},
   "source": [
    "onde assumir essa premissa é o que chamamos de assumir *livre-arbítrio*. Implica, desta premissa, que as escolhas de medição feitas por Alice e Bob ($x$ e $y$) são independentes de como o sistema foi preparado ($\\lambda$). Esta premissa também é chamada de premissa da independência de medição."
   ]
  },
  {
   "cell_type": "markdown",
   "metadata": {},
   "source": [
    "$\\quad$ Portanto, ao descrevermos uma teoria que seja compatível com o realismo local, queremos na realidade descrever uma teoria que seja compatível com o seguinte modelo:"
   ]
  },
  {
   "cell_type": "markdown",
   "metadata": {},
   "source": [
    "$$\n",
    "    p(a,b|x,y) = \\sum_{\\lambda} p(\\lambda)\\,p_\\lambda(a|x) \\,p_\\lambda(b|y)\\\\\n",
    "    \\tag{1.6},\n",
    "$$"
   ]
  },
  {
   "cell_type": "markdown",
   "metadata": {},
   "source": [
    "onde as notações $p_\\lambda(a|x) = p(a|\\lambda,x)$ e $p_\\lambda(b|y) = p(b|\\lambda,y)$ foram utilizadas. Tal modelo é chamado de **modelo de variáveis locais ocultas (LHV)**, que serve como condição para o que nos dias de hoje chamamos de condição para **não-localidade de Bell**. De fato, apesar de ser um modelo construído sob três premissas que nos parecem, à primeira vista, bastante razoáveis, fato é que este modelo não é compatível com a descrição quântica. Este é o conteúdo principal do **teorema de Bell**."
   ]
  },
  {
   "cell_type": "markdown",
   "metadata": {},
   "source": [
    "$\\quad$ Porém, ao descrevermos a hipótese de realismo local através de uma distribuição de probabilidade, se faz necessário descrevermos, também, uma distribuição de probabilidade para a teoria quântica. Desta maneira, podemos compará-la com o modelo LHV de modo a verificarmos se a teoria quântica é compatível ou não com este modelo. Uma maneira de fazermos isso é através da regra de Born:"
   ]
  },
  {
   "cell_type": "markdown",
   "metadata": {},
   "source": [
    "$$\n",
    "    p(a,b|x,y) = \\bra{\\psi_{AB}} \\Pi^x_a\\otimes \\Pi^y_b \\ket{\\psi_{AB}}\n",
    "    \\tag{1.7},\n",
    "$$"
   ]
  },
  {
   "cell_type": "markdown",
   "metadata": {},
   "source": [
    "onde $\\Pi^x_a$ e $\\Pi^y_b$ são os operadores de medição de Alice e Bob (que podem ser projetores ou mesmo elementos de um POVM [5]), respectivamente, e $\\ket{\\psi_{AB}}$ é o estado que descreve o estado conjunto de A e B.\n",
    "\n",
    "$\\quad$ De fato, agora temos uma maneira de descrever um conjunto de probabilidades condicionais que representa o comportamento quântico. Entretanto, nos falta, ainda, uma maneira de comparar os dois conjuntos. Para isso, utilizaremos o que chamamos de desigualdades de Bell."
   ]
  },
  {
   "cell_type": "markdown",
   "metadata": {},
   "source": [
    "## 2. A desigualdade CHSH"
   ]
  },
  {
   "attachments": {},
   "cell_type": "markdown",
   "metadata": {},
   "source": [
    "$\\quad$ As desigualdades de Bell são um conjunto de desigualdades compatíveis com a descrição dada na Eq. (1.6). A partir delas, podemos definir um limite para as teorias LHV, de tal forma que é possível compararmos a descrição quântica com o modelo LHV.\n",
    "\n",
    "$\\quad$ Considere, novamente, o cenário anterior, onde  $x,y \\in \\{0,1\\}$ e $a,b \\in \\{-1,1\\}$. Assim, podemos calcular o valor esperado da quantidade $ab$ para uma certa escolha de medição $(x,y)$ através da seguinte relação:"
   ]
  },
  {
   "cell_type": "markdown",
   "metadata": {},
   "source": [
    "$$\n",
    "    \\braket{a_x b_y} = \\sum_{a,b} a b\\,p(a,b|x,y),\n",
    "    \\tag{2.1}\n",
    "$$"
   ]
  },
  {
   "cell_type": "markdown",
   "metadata": {},
   "source": [
    "onde o valor experimental desta medida pode ser calculado a medida em que coletamos a estatística descrita por $a$ e $b$ ao longo de várias rodadas do experimento.\n",
    "\n",
    "$\\quad$ Considere, agora, que há um jogo onde Alice e Bob precisam coordenar suas saídas, de tal forma que devem fornecer saídas iguais quando $(x,y) = (0,0), (0,1), (1,0)$ e saídas diferentes quando $(x,y) = (1,1)$. Desta forma, podemos quantificar este jogo utilizando um *score $S$* dado pela expressão:"
   ]
  },
  {
   "cell_type": "markdown",
   "metadata": {},
   "source": [
    "\\begin{equation}\n",
    "    S = \\braket{a_0 b_0} + \\braket{a_0 b_1} + \\braket{a_1 b_0} - \\braket{a_1 b_1},\n",
    "    \\tag{2.2}\n",
    "\\end{equation}"
   ]
  },
  {
   "cell_type": "markdown",
   "metadata": {},
   "source": [
    "onde, evidentemente, o valor máximo da expressão é atingido quando $S = 4$, onde os jogadores se coordenam perfeitamente.\n",
    "\n",
    "$\\quad$ Agora, precisamos saber qual o limite para $S$ para um modelo LHV descrito conforme a Eq. (1.6). Para isso, utilizaremos um resultado chamado teorema de Fine, o qual não entraremos em grandes detalhes devido ao escopo deste trabalho. Os detalhes técnicos podem ser consultados tanto no artigo original do Artur Fine de 1982 [6], quanto na ref. [1]. Por hora, é importante sabermos que qualquer teoria descrita por um modelo LHV pode ser descrita através de um conjunto de saídas predeterminadas para cada valor de $x$ e de $y$, e este resultado é devido ao teorema de Fine.\n",
    "\n",
    "$\\quad$ Vejamos, agora, o que acontece se tivermos o conjunto de saídas predeterminadas $(a_0, a_1;b_0, b_1)$ para o cenário acima. De fato, para esta situação, teremos que a Eq. (2.1) se torna simplesmente $\\braket{a_x b_y} = a_x b_y$. Assim, nota-se que, nesta situação, podemos escrever $S$ como:"
   ]
  },
  {
   "cell_type": "markdown",
   "metadata": {},
   "source": [
    "$$\n",
    "\\begin{align}\n",
    "    s &= a_0 b_0 + a_0 b_1 + a_1 b_0 - a_1 b_1\n",
    "    \\\\ &= (a_0 + a_1) b_0 + (a_0 - a_1) b_1, \\tag{2.3}\n",
    "\\end{align}\n",
    "$$"
   ]
  },
  {
   "cell_type": "markdown",
   "metadata": {},
   "source": [
    "onde $s$ representa o valor de $S$ para saídas predeterminadas.\n",
    "\n",
    "$\\quad$ Perceba que neste caso temos duas opções: ou $a_0 = a_1$, ou $a_0 = -a_1$. Examinemos cada caso. No primeiro caso, temos que $S = 2a_0 b_0$. Já no segundo caso, teremos que $S = 2 a_0 b_1$. Em ambos os casos, se identifica que, como $a_0, b_0, b_1 \\in \\{-1,1\\}$, logo"
   ]
  },
  {
   "cell_type": "markdown",
   "metadata": {},
   "source": [
    "$$\n",
    "    \\lvert S \\rvert \\leq 2,\n",
    "    \\tag{2.4}\n",
    "$$"
   ]
  },
  {
   "cell_type": "markdown",
   "metadata": {},
   "source": [
    "que é uma desigualdade de Bell conhecida como desigualdade CHSH, devido a John Clauser, Michael Horne, Abner Shimony e Richard Holt, que a descrevem em um artigo de 1969 [7]. Para visualizarmos melhor este resultado, é recomendado ao leitor se dirigir a tabela abaixo, onde para todos os conjuntos de saídas predeterminadas, verificamos que, de fato, a desigualdade é mantida."
   ]
  },
  {
   "attachments": {
    "87a7d253-42ff-427e-a941-bafd40939369.png": {
     "image/png": "[encoded data removed]"
    }
   },
   "cell_type": "markdown",
   "metadata": {},
   "source": [
    "![tabela.png](attachment:87a7d253-42ff-427e-a941-bafd40939369.png)"
   ]
  },
  {
   "cell_type": "markdown",
   "metadata": {},
   "source": [
    "$\\quad$ Assim, atingimos nosso objetivo: obter um limite para $S$ que fosse compatível com o realismo local. Sendo assim, qualquer teoria que tenha $S > 2$, é caracterizada como uma teoria que viola o realismo local. Dizemos, então, que uma teoria que viola o realismo local é uma teoria não-local, no contexto da não-localidade de Bell. Provaremos, a seguir, que a teoria quântica de fato viola esta desigualdade, sendo considerada uma teoria não-local."
   ]
  },
  {
   "cell_type": "markdown",
   "metadata": {},
   "source": [
    "## 3. O teorema de Bell"
   ]
  },
  {
   "cell_type": "markdown",
   "metadata": {},
   "source": [
    "$\\quad$ Para provarmos o teorema de Bell, é necessário que reescrevamos a expressão obtida para $S$ na Eq. (2.2) para um análogo quântico, utilizando os valores de $p(a,b|x,y)$ dados pela regra de Born, conforme a Eq. (1.7). Para isso, utilizamos a definição de $\\braket{a_x b_y}$ contida na Eq. (2.1). Este resultado não será perfeitamente detalhado aqui, entretanto é possível consultá-lo na seção 3.2 do capítulo 3 da ref. [1]. Se reescrevermos $S$ conforme a regra de Born, obteremos:"
   ]
  },
  {
   "cell_type": "markdown",
   "metadata": {},
   "source": [
    "$$\n",
    "    S = \\braket{\\mathbf{A_0} \\otimes \\mathbf{B_0}} + \\braket{\\mathbf{A_0} \\otimes \\mathbf{B_1}} + \\braket{\\mathbf{A_1} \\otimes \\mathbf{B_0}} - \\braket{\\mathbf{A_1} \\otimes \\mathbf{B_1}},\n",
    "    \\tag{3.1}\n",
    "$$"
   ]
  },
  {
   "cell_type": "markdown",
   "metadata": {},
   "source": [
    "onde $\\mathbf{A_0}$, $\\mathbf{A_1}$, $\\mathbf{B_0}$ e $\\mathbf{B_1}$ são observáveis quânticos.\n",
    "\n",
    "$\\quad$ Nos resta, agora, supor um certo estado $\\ket{\\psi_{AB}}$ que será compartilhado por Alice e Bob para podermos calcular os valores esperados. Considere, portanto, o seguinte estado maximamente emaranhado, também conhecido como singleto, escrito na base de $\\sigma_z$:"
   ]
  },
  {
   "cell_type": "markdown",
   "metadata": {},
   "source": [
    "$$\n",
    "    \\ket{\\psi_{AB}} = \\ket{\\psi^-} = \\frac{\\ket{01} - \\ket{10}}{\\sqrt{2}}\n",
    "    \\tag{3.2}.\n",
    "$$"
   ]
  },
  {
   "cell_type": "markdown",
   "metadata": {},
   "source": [
    "$\\quad$ Suponha que preparamos este estado emaranhado e distribuímos a partícula A para Alice e a partícula B para Bob. Se a Alice for permitido realizar as seguintes medições:"
   ]
  },
  {
   "cell_type": "markdown",
   "metadata": {},
   "source": [
    "\\begin{align}\n",
    "    \\mathbf{A_0} = \\sigma_x \\tag{3.3},\\\\\n",
    "    \\mathbf{A_1} = \\sigma_z \\tag{3.4},\n",
    "\\end{align}"
   ]
  },
  {
   "cell_type": "markdown",
   "metadata": {},
   "source": [
    "e a Bob for permitido realizar as medições:"
   ]
  },
  {
   "cell_type": "markdown",
   "metadata": {},
   "source": [
    "\\begin{gather}\n",
    "    \\mathbf{B_0} = \\frac{1}{\\sqrt{2}}(\\sigma_x + \\sigma_z) \\tag{3.5},\\\\\n",
    "    \\mathbf{B_1} = \\frac{1}{\\sqrt{2}}(\\sigma_x - \\sigma_z) \\tag{3.6},\n",
    "\\end{gather}"
   ]
  },
  {
   "cell_type": "markdown",
   "metadata": {},
   "source": [
    "onde $\\sigma_x$ e $\\sigma_z$ são matrizes de Pauli, nos restará apenas calcular o valor esperado $\\braket{\\mathbf{A_x} \\otimes \\mathbf{B_y}}$.\n",
    "\n",
    "$\\quad$ Sabe-se que o valor esperado de um observável qualquer $\\mathbf{O}$ pode ser dado por:"
   ]
  },
  {
   "cell_type": "markdown",
   "metadata": {},
   "source": [
    "$$\n",
    "    \\braket{\\mathbf{O}} = \\bra{\\psi_{AB}} \\mathbf{O} \\ket{\\psi_{AB}} \\tag{3.7}.\n",
    "$$"
   ]
  },
  {
   "cell_type": "markdown",
   "metadata": {},
   "source": [
    "$\\quad$ Dado que $\\sigma_x = \\ket{0}\\bra{1} + \\ket{1}\\bra{0}$ e que $\\sigma_z = \\ket{0}\\bra{0} - \\ket{1}\\bra{1}$, teremos, portanto:"
   ]
  },
  {
   "cell_type": "markdown",
   "metadata": {},
   "source": [
    "$$\n",
    "    \\braket{\\mathbf{A_0} \\otimes \\mathbf{B_0}} = \\braket{\\mathbf{A_0} \\otimes \\mathbf{B_1}} = \\braket{\\mathbf{A_1} \\otimes \\mathbf{B_0}} = -\\braket{\\mathbf{A_1} \\otimes \\mathbf{B_1}} = -\\frac{1}{\\sqrt{2}}. \\tag{3.8}\n",
    "$$"
   ]
  },
  {
   "cell_type": "markdown",
   "metadata": {},
   "source": [
    "$\\quad$  Assim, a Eq. (2.5) referente ao valor de $S$ atinge o seguinte valor:"
   ]
  },
  {
   "cell_type": "markdown",
   "metadata": {},
   "source": [
    "$$\n",
    "    S = -2\\sqrt{2}, \\tag{3.9}\n",
    "$$"
   ]
  },
  {
   "cell_type": "markdown",
   "metadata": {},
   "source": [
    "ou seja, $\\lvert  S \\rvert = 2\\sqrt{2} > 2$. Isto é uma clara violação da desigualdade escrita na Eq. (2.4), provando o teorema de Bell. Veja que por mais plausíveis que fossem as três hipóteses do realismo local, provamos que a teoria quântica não é compatível com estas hipóteses quando consideradas de maneira conjunta. Por este motivo, a teoria quântica exibe a propriedade da não-localidade de Bell. Vale ressaltar, ainda, que este valor é o limite máximo que a teoria quântica pode obter para a desigualdade CHSH, conhecido como limite de Tsirelson [8]. Uma prova deste limite é apresentada, também, na ref. [1]."
   ]
  },
  {
   "cell_type": "markdown",
   "metadata": {},
   "source": [
    "$\\quad$ E, de fato, esta violação foi verificada experimentalmente pela primeira vez por Freedman e Clauser, em 1972 [9], e posteriormente, de maneira mais convincente, por uma série de experimentos de Aspect *et al.* de 1981 a 1982 [10-12]."
   ]
  },
  {
   "cell_type": "markdown",
   "metadata": {},
   "source": [
    "## 4. Violando a desigualdade CHSH utilizando o Qiskit"
   ]
  },
  {
   "cell_type": "markdown",
   "metadata": {},
   "source": [
    "$\\quad$ Um dos fatos mais intrigantes sobre desigualdades de Bell é que elas podem ser testadas experimentalmente! E esse é exatamente o objetivo desta seção. Nesta seção, implementaremos um teste de Bell, com o fim de violar a desigualdade CHSH experimentalmente através da simulação de um computador quântico. Evidentemente, o ideal seria implementarmos os procedimentos aqui feitos em um computador quântico real. Entretanto, além disso, há ainda outras complicações experimentais que vão além desta simples consideração, chamadas de *experimental loopholes*, ou brechas experimentais, as quais iremos discutir brevemente na conclusão.\n",
    "\n",
    "Dito isso tudo, mãos a obra!"
   ]
  },
  {
   "cell_type": "markdown",
   "metadata": {},
   "source": [
    "### Importando as bibliotecas necessárias"
   ]
  },
  {
   "cell_type": "markdown",
   "metadata": {},
   "source": [
    "$\\quad$ Como citado na seção, utilizaremos, principalmente, a biblioteca `Qiskit` e alguns de seus pacotes. Utilizaremos também o `numpy`, como de praxe, e o `qiskit_aer` para realizar a simulação de um computador quântico."
   ]
  },
  {
   "cell_type": "code",
   "execution_count": 1,
   "metadata": {},
   "outputs": [],
   "source": [
    "from qiskit import *\n",
    "from qiskit.visualization import plot_histogram\n",
    "from qiskit_aer import Aer\n",
    "from qiskit.quantum_info import Statevector, Operator\n",
    "import numpy as np"
   ]
  },
  {
   "cell_type": "markdown",
   "metadata": {},
   "source": [
    "$\\quad$ A versão utilizada de cada biblioteca pode ser consultada a seguir."
   ]
  },
  {
   "cell_type": "code",
   "execution_count": 2,
   "metadata": {},
   "outputs": [
    {
     "data": {
      "application/json": {
       "Software versions": [
        {
         "module": "Python",
         "version": "3.12.3 64bit [MSC v.1938 64 bit (AMD64)]"
        },
        {
         "module": "IPython",
         "version": "8.24.0"
        },
        {
         "module": "OS",
         "version": "Windows 11 10.0.22631 SP0"
        },
        {
         "module": "numpy",
         "version": "1.26.4"
        },
        {
         "module": "qiskit",
         "version": "1.1.0"
        },
        {
         "module": "qiskit_aer",
         "version": "0.14.1"
        }
       ]
      },
      "text/html": [
       "<table><tr><th>Software</th><th>Version</th></tr><tr><td>Python</td><td>3.12.3 64bit [MSC v.1938 64 bit (AMD64)]</td></tr><tr><td>IPython</td><td>8.24.0</td></tr><tr><td>OS</td><td>Windows 11 10.0.22631 SP0</td></tr><tr><td>numpy</td><td>1.26.4</td></tr><tr><td>qiskit</td><td>1.1.0</td></tr><tr><td>qiskit_aer</td><td>0.14.1</td></tr><tr><td colspan='2'>Sun May 26 02:35:49 2024 Hora oficial do Brasil</td></tr></table>"
      ],
      "text/latex": [
       "\\begin{tabular}{|l|l|}\\hline\n",
       "{\\bf Software} & {\\bf Version} \\\\ \\hline\\hline\n",
       "Python & 3.12.3 64bit [MSC v.1938 64 bit (AMD64)] \\\\ \\hline\n",
       "IPython & 8.24.0 \\\\ \\hline\n",
       "OS & Windows 11 10.0.22631 SP0 \\\\ \\hline\n",
       "numpy & 1.26.4 \\\\ \\hline\n",
       "qiskit & 1.1.0 \\\\ \\hline\n",
       "qiskit_aer & 0.14.1 \\\\ \\hline\n",
       "\\hline \\multicolumn{2}{|l|}{Sun May 26 02:35:49 2024 Hora oficial do Brasil} \\\\ \\hline\n",
       "\\end{tabular}\n"
      ],
      "text/plain": [
       "Software versions\n",
       "Python 3.12.3 64bit [MSC v.1938 64 bit (AMD64)]\n",
       "IPython 8.24.0\n",
       "OS Windows 11 10.0.22631 SP0\n",
       "numpy 1.26.4\n",
       "qiskit 1.1.0\n",
       "qiskit_aer 0.14.1\n",
       "Sun May 26 02:35:49 2024 Hora oficial do Brasil"
      ]
     },
     "execution_count": 2,
     "metadata": {},
     "output_type": "execute_result"
    }
   ],
   "source": [
    "%load_ext version_information\n",
    "%version_information numpy, qiskit, qiskit_aer"
   ]
  },
  {
   "cell_type": "markdown",
   "metadata": {},
   "source": [
    "$\\quad$ E, agora, vamos ao que interessa!\n",
    "\n",
    "$\\quad$ A primeira coisa que é necessária definir é o simulador que utilizaremos. Neste trabalho, utilizaremos o simulador QASM, que pode ser chamado em código da maneira a seguir."
   ]
  },
  {
   "cell_type": "code",
   "execution_count": 3,
   "metadata": {},
   "outputs": [],
   "source": [
    "simulator = Aer.get_backend('qasm_simulator')"
   ]
  },
  {
   "cell_type": "markdown",
   "metadata": {},
   "source": [
    "$\\quad$ Depois, é necessário que preparemos o estado que faremos o teste de Bell. Neste caso, utilizaremos o estado escrito na Eq. (3.2), o singleto. Façamos da seguinte forma."
   ]
  },
  {
   "cell_type": "code",
   "execution_count": 4,
   "metadata": {},
   "outputs": [
    {
     "data": {
      "text/plain": [
       "CircuitInstruction(operation=Instruction(name='barrier', num_qubits=2, num_clbits=0, params=[]), qubits=(Qubit(QuantumRegister(2, 'q'), 0), Qubit(QuantumRegister(2, 'q'), 1)), clbits=())"
      ]
     },
     "execution_count": 4,
     "metadata": {},
     "output_type": "execute_result"
    }
   ],
   "source": [
    "qc = QuantumCircuit(2,2) \n",
    "qc.h(0) \n",
    "qc.cx(0,1)\n",
    "qc.x(1)\n",
    "qc.z(1)\n",
    "qc.barrier()"
   ]
  },
  {
   "cell_type": "markdown",
   "metadata": {},
   "source": [
    "$\\quad$ Para visualizarmos o circuito quântico utilizado, basta utilizarmos o seguinte comando."
   ]
  },
  {
   "cell_type": "code",
   "execution_count": 5,
   "metadata": {},
   "outputs": [
    {
     "data": {
      "image/png": "[encoded data removed]",
      "text/plain": [
       "<Figure size 538.128x284.278 with 1 Axes>"
      ]
     },
     "execution_count": 5,
     "metadata": {},
     "output_type": "execute_result"
    }
   ],
   "source": [
    "qc.draw(output=\"mpl\")"
   ]
  },
  {
   "cell_type": "markdown",
   "metadata": {},
   "source": [
    "$\\quad$ E para termos certeza que geramos o singleto, podemos fazer o `Qiskit` identificar o estado resultante destas operações:"
   ]
  },
  {
   "cell_type": "code",
   "execution_count": 6,
   "metadata": {},
   "outputs": [
    {
     "data": {
      "text/latex": [
       "$$|\\psi\\rangle =\\frac{\\sqrt{2}}{2} |01\\rangle- \\frac{\\sqrt{2}}{2} |10\\rangle$$"
      ],
      "text/plain": [
       "<IPython.core.display.Latex object>"
      ]
     },
     "execution_count": 6,
     "metadata": {},
     "output_type": "execute_result"
    }
   ],
   "source": [
    "statevector = Statevector.from_instruction(qc)\n",
    "statevector.draw('latex', prefix=\"|\\\\psi\\\\rangle =\")"
   ]
  },
  {
   "cell_type": "markdown",
   "metadata": {},
   "source": [
    "$\\quad$ Observe que, de fato, obtivemos o singleto, assim como o desejado.\n",
    "\n",
    "$\\quad$ Entretanto, apenas obter o estado não é o bastante. Queremos realizar um teste, onde, para cada par de entradas $x, y = \\{0, 1\\}$ nos seja dado um par de saídas $a, b = \\{-1, +1\\}$, de tal forma que para cada escolha de $x$ e $y$, faremos a medição de um observável em específico. Em particular, mediremos os mesmos observáveis descritos nas Eq. (3.3), (3.4), (3.5) e (3.6).\n",
    "\n",
    "$\\quad$ No `Qiskit`, que só mede na base computacional, no entanto, não há uma maneira trivial de fazer isso. Para medirmos em uma base específica, devemos aplicar operadores na base computacional de maneira a “coincidir” com a base que desejamos medir. Para medirmos na base de uma direção arbitrária $\\hat{n}$ das matrizes de Pauli,"
   ]
  },
  {
   "cell_type": "markdown",
   "metadata": {},
   "source": [
    "$$\n",
    "\\hat{n} \\cdot \\vec{\\sigma} = n_x \\sigma_x + n_y \\sigma_y + n_z \\sigma_z \\tag{4.1},\n",
    "$$"
   ]
  },
  {
   "cell_type": "markdown",
   "metadata": {},
   "source": [
    "devemos aplicar rotações em torno dos eixos $Y$ e $Z$ nos qbits desejados, com base na base em que desejamos medir. Em particular, para medir ao longo do plano $XZ$, como é o nosso caso nas Eq. (3.3), (3.4), (3.5) e (3.6), necessitaremos apenas de rotações em torno do eixo $Y$, que podem ser definidas por meio do operador:"
   ]
  },
  {
   "cell_type": "markdown",
   "metadata": {},
   "source": [
    "$$R_Y(\\theta) = \\exp\\left(-i \\frac{\\theta}{2} Y\\right) =\n",
    "    \\begin{pmatrix}\n",
    "        \\cos{\\frac{\\theta}{2}} & -\\sin{\\frac{\\theta}{2}} \\\\\n",
    "        \\sin{\\frac{\\theta}{2}} & \\cos{\\frac{\\theta}{2}}\n",
    "    \\end{pmatrix} .\\tag{4.2}\n",
    "$$"
   ]
  },
  {
   "cell_type": "markdown",
   "metadata": {},
   "source": [
    "$\\quad$ Assim, se quisermos medir na base de $\\sigma_z$, basta medirmos na base computacional, que já é a base de $\\sigma_z$. Isto equivale a fazer a aplicar a rotação $R_Y(\\theta = 0)$ no qubit desejado (ou não fazer rotação alguma, em outras palavras).\n",
    "\n",
    "$\\quad$ Se quisermos medir na base de $\\sigma_x$, devemos efetuar uma rotação de 90º em torno do eixo $Y$. Isto equivale a fazer a aplicar a rotação $R_Y(\\theta = \\pi/2)$ no qubit desejado.\n",
    "\n",
    "$\\quad$ Se quisermos medir na base de $\\frac{1}{\\sqrt{2}}(\\sigma_x + \\sigma_z)$, devemos efetuar uma rotação de 45º em torno do eixo $Y$. Isto equivale a fazer a aplicar a rotação $R_Y(\\theta = \\pi/4)$ no qubit desejado.\n",
    "\n",
    "$\\quad$ Por fim, se quisermos medir na base de $\\frac{1}{\\sqrt{2}}(\\sigma_x - \\sigma_z)$, devemos efetuar uma rotação de 135º em torno do eixo $Y$. Isto equivale a fazer a aplicar a rotação $R_Y(\\theta = 3\\pi/4)$ no qubit desejado.\n",
    "\n",
    "$\\quad$ Podemos sumarizar a discussão acima através da função disposta a seguir, que prepara o estado singleto e define as rotações que serão utilizadas com base em cada entrada específica, além de definir o processo de medição ao final."
   ]
  },
  {
   "cell_type": "code",
   "execution_count": 7,
   "metadata": {},
   "outputs": [],
   "source": [
    "def create_bell_circuit(x, y):\n",
    "    qc = QuantumCircuit(2,2) \n",
    "    qc.h(0) \n",
    "    qc.cx(0,1)\n",
    "    qc.x(1)\n",
    "    qc.z(1)\n",
    "    qc.barrier()\n",
    "\n",
    "    if x == 0:\n",
    "        qc.ry(np.pi/2,0)\n",
    "    elif x == 1:\n",
    "        qc.ry(0,0)\n",
    "    if y == 0:\n",
    "        qc.ry(np.pi/4,1)\n",
    "    elif y == 1:\n",
    "        qc.ry(3*np.pi/4,1)\n",
    "    \n",
    "    qc.measure([0,1], [0,1])\n",
    "    return qc"
   ]
  },
  {
   "cell_type": "markdown",
   "metadata": {},
   "source": [
    "$\\quad$ Ou seja, quando $x=0$, estaremos medindo o qubit 1 na base de $\\sigma_x$, e quando $x=1$, estaremos medindo o qubit 1 na base de $\\sigma_z$. De maneira análoga, quando $y=0$, estaremos medindo o qubit 2 na base de $\\frac{1}{\\sqrt{2}}(\\sigma_x + \\sigma_z)$, e quando $y=1$, estaremos medindo o qubit 2 na base de $\\frac{1}{\\sqrt{2}}(\\sigma_x - \\sigma_z)$."
   ]
  },
  {
   "cell_type": "markdown",
   "metadata": {},
   "source": [
    "$\\quad$ Agora, nos resta apenas realizar propriamente o teste de Bell. Ao invés de aleatorizarmos completamente as entradas de Alice e Bob para cada rodada, consideremos, aqui, pra fins didáticos de simplificação de código, que cada entrada é equiprovável. Desta maneira, faremos 4 testes distintos, para cada par $(x,y)$ possível e coletaremos as estatísticas deste experimento.\n",
    "\n",
    "$\\quad$ Aqui vão os resultados obtidos para cada um dos pares de entradas binárias, definindo o número de shots de cada experimento como sendo 10000."
   ]
  },
  {
   "cell_type": "markdown",
   "metadata": {},
   "source": [
    "Para $(x,y) = (0,0)$:"
   ]
  },
  {
   "cell_type": "code",
   "execution_count": 8,
   "metadata": {},
   "outputs": [
    {
     "name": "stderr",
     "output_type": "stream",
     "text": [
      "C:\\Users\\moise\\AppData\\Local\\Temp\\ipykernel_18988\\339609967.py:7: DeprecationWarning: Using a qobj for run() is deprecated as of qiskit-aer 0.14 and will be removed no sooner than 3 months from that release date. Transpiled circuits should now be passed directly using `backend.run(circuits, **run_options).\n",
      "  result = simulator.run(qobj).result()\n"
     ]
    },
    {
     "data": {
      "image/png": "[encoded data removed]",
      "text/plain": [
       "<Figure size 788.961x284.278 with 1 Axes>"
      ]
     },
     "execution_count": 8,
     "metadata": {},
     "output_type": "execute_result"
    }
   ],
   "source": [
    "n_shots = 10000\n",
    "\n",
    "bell_circuit_00 = create_bell_circuit(0, 0)\n",
    "\n",
    "compiled_circuit_00 = transpile(bell_circuit_00, simulator)\n",
    "qobj = assemble(compiled_circuit_00, shots = n_shots)\n",
    "result = simulator.run(qobj).result()\n",
    "\n",
    "counts_00 = result.get_counts(bell_circuit_00)\n",
    "\n",
    "bell_circuit_00.draw(output=\"mpl\")"
   ]
  },
  {
   "cell_type": "code",
   "execution_count": 9,
   "metadata": {},
   "outputs": [
    {
     "data": {
      "image/png": "[encoded data removed]",
      "text/plain": [
       "<Figure size 640x480 with 1 Axes>"
      ]
     },
     "execution_count": 9,
     "metadata": {},
     "output_type": "execute_result"
    }
   ],
   "source": [
    "plot_histogram(counts_00)"
   ]
  },
  {
   "cell_type": "markdown",
   "metadata": {},
   "source": [
    "Para $(x,y) = (0,1)$:"
   ]
  },
  {
   "cell_type": "code",
   "execution_count": 10,
   "metadata": {},
   "outputs": [
    {
     "name": "stderr",
     "output_type": "stream",
     "text": [
      "C:\\Users\\moise\\AppData\\Local\\Temp\\ipykernel_18988\\1036889153.py:5: DeprecationWarning: Using a qobj for run() is deprecated as of qiskit-aer 0.14 and will be removed no sooner than 3 months from that release date. Transpiled circuits should now be passed directly using `backend.run(circuits, **run_options).\n",
      "  result = simulator.run(qobj).result()\n"
     ]
    },
    {
     "data": {
      "image/png": "[encoded data removed]",
      "text/plain": [
       "<Figure size 788.961x284.278 with 1 Axes>"
      ]
     },
     "execution_count": 10,
     "metadata": {},
     "output_type": "execute_result"
    }
   ],
   "source": [
    "bell_circuit_01 = create_bell_circuit(0, 1)\n",
    "    \n",
    "compiled_circuit_01 = transpile(bell_circuit_01, simulator)\n",
    "qobj = assemble(compiled_circuit_01, shots = n_shots)\n",
    "result = simulator.run(qobj).result()\n",
    "    \n",
    "counts_01 = result.get_counts(bell_circuit_01)\n",
    "\n",
    "bell_circuit_01.draw(output=\"mpl\")"
   ]
  },
  {
   "cell_type": "code",
   "execution_count": 11,
   "metadata": {},
   "outputs": [
    {
     "data": {
      "image/png": "[encoded data removed]",
      "text/plain": [
       "<Figure size 640x480 with 1 Axes>"
      ]
     },
     "execution_count": 11,
     "metadata": {},
     "output_type": "execute_result"
    }
   ],
   "source": [
    "plot_histogram(counts_01)"
   ]
  },
  {
   "cell_type": "markdown",
   "metadata": {},
   "source": [
    "Para $(x,y) = (1,0)$:"
   ]
  },
  {
   "cell_type": "code",
   "execution_count": 12,
   "metadata": {},
   "outputs": [
    {
     "name": "stderr",
     "output_type": "stream",
     "text": [
      "C:\\Users\\moise\\AppData\\Local\\Temp\\ipykernel_18988\\541333792.py:5: DeprecationWarning: Using a qobj for run() is deprecated as of qiskit-aer 0.14 and will be removed no sooner than 3 months from that release date. Transpiled circuits should now be passed directly using `backend.run(circuits, **run_options).\n",
      "  result = simulator.run(qobj).result()\n"
     ]
    },
    {
     "data": {
      "image/png": "[encoded data removed]",
      "text/plain": [
       "<Figure size 788.961x284.278 with 1 Axes>"
      ]
     },
     "execution_count": 12,
     "metadata": {},
     "output_type": "execute_result"
    }
   ],
   "source": [
    "bell_circuit_10 = create_bell_circuit(1, 0)\n",
    "    \n",
    "compiled_circuit_10 = transpile(bell_circuit_10, simulator)\n",
    "qobj = assemble(compiled_circuit_10, shots = n_shots)\n",
    "result = simulator.run(qobj).result()\n",
    "\n",
    "counts_10 = result.get_counts(bell_circuit_10)\n",
    "\n",
    "bell_circuit_10.draw(output=\"mpl\")"
   ]
  },
  {
   "cell_type": "code",
   "execution_count": 13,
   "metadata": {},
   "outputs": [
    {
     "data": {
      "image/png": "[encoded data removed]",
      "text/plain": [
       "<Figure size 640x480 with 1 Axes>"
      ]
     },
     "execution_count": 13,
     "metadata": {},
     "output_type": "execute_result"
    }
   ],
   "source": [
    "plot_histogram(counts_10)"
   ]
  },
  {
   "cell_type": "markdown",
   "metadata": {},
   "source": [
    "Para $(x,y) = (1,1)$:"
   ]
  },
  {
   "cell_type": "code",
   "execution_count": 14,
   "metadata": {},
   "outputs": [
    {
     "name": "stderr",
     "output_type": "stream",
     "text": [
      "C:\\Users\\moise\\AppData\\Local\\Temp\\ipykernel_18988\\4081757156.py:5: DeprecationWarning: Using a qobj for run() is deprecated as of qiskit-aer 0.14 and will be removed no sooner than 3 months from that release date. Transpiled circuits should now be passed directly using `backend.run(circuits, **run_options).\n",
      "  result = simulator.run(qobj).result()\n"
     ]
    },
    {
     "data": {
      "image/png": "[encoded data removed]",
      "text/plain": [
       "<Figure size 788.961x284.278 with 1 Axes>"
      ]
     },
     "execution_count": 14,
     "metadata": {},
     "output_type": "execute_result"
    }
   ],
   "source": [
    "bell_circuit_11 = create_bell_circuit(1, 1)\n",
    "\n",
    "compiled_circuit_11 = transpile(bell_circuit_11, simulator)\n",
    "qobj = assemble(compiled_circuit_11, shots = n_shots)\n",
    "result = simulator.run(qobj).result()\n",
    "\n",
    "counts_11 = result.get_counts(bell_circuit_11)\n",
    "\n",
    "bell_circuit_11.draw(output=\"mpl\")"
   ]
  },
  {
   "cell_type": "code",
   "execution_count": 15,
   "metadata": {},
   "outputs": [
    {
     "data": {
      "image/png": "[encoded data removed]",
      "text/plain": [
       "<Figure size 640x480 with 1 Axes>"
      ]
     },
     "execution_count": 15,
     "metadata": {},
     "output_type": "execute_result"
    }
   ],
   "source": [
    "plot_histogram(counts_11)"
   ]
  },
  {
   "cell_type": "markdown",
   "metadata": {},
   "source": [
    "$\\quad$ Antes de continuarmos com o procedimento, perceba algo importante: formulamos nosso cenário utilizando $a,b \\in \\{-1,+1\\}$. Entretanto, estamos obtendo pares de saídas $a,b \\in \\{0,1\\}$. Porém, nada realmente impede de renomearmos nossas variáveis de $a,b \\in \\{-1,+1\\}$ para $a,b \\in \\{0,1\\}$, já que basta realizarmos a simples troca $(-1 \\rightarrow 0)$."
   ]
  },
  {
   "cell_type": "markdown",
   "metadata": {},
   "source": [
    "$\\quad$ Agora, basta calcularmos as distribuições de probabilidade $p(a,b|x,y)$ para cada um dos pares $(x,y)$. Para isso, definiremos uma `np.array` no mesmo formato para computar estes valores. Faremos isso da seguinte forma."
   ]
  },
  {
   "cell_type": "code",
   "execution_count": 16,
   "metadata": {},
   "outputs": [],
   "source": [
    "p = np.zeros([2,2,2,2])\n",
    "\n",
    "# p(a,b|x=0,y=0)\n",
    "p[0,0,0,0] = counts_00['00']/n_shots\n",
    "p[0,1,0,0] = counts_00['10']/n_shots\n",
    "p[1,0,0,0] = counts_00['01']/n_shots\n",
    "p[1,1,0,0] = counts_00['11']/n_shots\n",
    "\n",
    "# p(a,b|x=0,y=1)\n",
    "p[0,0,0,1] = counts_01['00']/n_shots\n",
    "p[0,1,0,1] = counts_01['10']/n_shots\n",
    "p[1,0,0,1] = counts_01['01']/n_shots\n",
    "p[1,1,0,1] = counts_01['11']/n_shots\n",
    "\n",
    "# p(a,b|x=1,y=0)\n",
    "p[0,0,1,0] = counts_10['00']/n_shots\n",
    "p[0,1,1,0] = counts_10['10']/n_shots\n",
    "p[1,0,1,0] = counts_10['01']/n_shots\n",
    "p[1,1,1,0] = counts_10['11']/n_shots\n",
    "\n",
    "# p(a,b|x=1,y=1)\n",
    "p[0,0,1,1] = counts_11['00']/n_shots\n",
    "p[0,1,1,1] = counts_11['10']/n_shots\n",
    "p[1,0,1,1] = counts_11['01']/n_shots\n",
    "p[1,1,1,1] = counts_11['11']/n_shots"
   ]
  },
  {
   "cell_type": "markdown",
   "metadata": {},
   "source": [
    "$\\quad$ Agora, o que faremos é utilizar a Eq. (2.1) para calcular os valores esperados. Se abrirmos esta expressão, veremos que:"
   ]
  },
  {
   "cell_type": "markdown",
   "metadata": {},
   "source": [
    "$$\n",
    "    \\braket{a_x b_y} = p(-1,-1|x,y) - p(-1,1|x,y) - p(1,-1|x,y) + p(1,1|x,y).\n",
    "    \\tag{4.3}\n",
    "$$"
   ]
  },
  {
   "cell_type": "markdown",
   "metadata": {},
   "source": [
    "$\\quad$ Efetuando a renomeação que fizemos acima, onde $a,b \\in \\{0,1\\}$ ao invés de $a,b \\in \\{-1,+1\\}$, teremos:"
   ]
  },
  {
   "cell_type": "markdown",
   "metadata": {},
   "source": [
    "$$\n",
    "\\braket{a_x b_y} = p(0,0|x,y) - p(0,1|x,y) - p(1,0|x,y) + p(1,1|x,y). \\tag{4.4}\n",
    "$$"
   ]
  },
  {
   "cell_type": "markdown",
   "metadata": {},
   "source": [
    "$\\quad$ Façamos, em código, da seguinte maneira."
   ]
  },
  {
   "cell_type": "code",
   "execution_count": 17,
   "metadata": {},
   "outputs": [
    {
     "data": {
      "text/plain": [
       "array([[-0.7116, -0.707 ],\n",
       "       [-0.6958,  0.7132]])"
      ]
     },
     "metadata": {},
     "output_type": "display_data"
    }
   ],
   "source": [
    "ab = np.zeros([2,2])\n",
    "\n",
    "for x in range(0,2):\n",
    "    for y in range(0,2):\n",
    "        ab[x,y] = p[0,0,x,y] - p[0,1,x,y] - p[1,0,x,y] + p[1,1,x,y]\n",
    "\n",
    "display(ab)"
   ]
  },
  {
   "cell_type": "markdown",
   "metadata": {},
   "source": [
    "$\\quad$ Perceba que os valores esperados $\\braket{a_x b_y}$ coincidem com a Eq. (3.8). Ou seja, o procedimento computacional/experimental corrobora com o resultado desenvolvido analiticamente!"
   ]
  },
  {
   "cell_type": "markdown",
   "metadata": {},
   "source": [
    "$\\quad$ Por fim, basta calcularmos o valor de $S$, conforme a Eq. (2.2). Basta fazermos uma simples soma."
   ]
  },
  {
   "cell_type": "code",
   "execution_count": 18,
   "metadata": {},
   "outputs": [
    {
     "name": "stdout",
     "output_type": "stream",
     "text": [
      "-2.8276\n"
     ]
    }
   ],
   "source": [
    "S = ab[0,0] + ab[1,0] + ab[0,1] - ab[1,1]\n",
    "print(S)"
   ]
  },
  {
   "cell_type": "markdown",
   "metadata": {},
   "source": [
    "$\\quad$ Isto é,"
   ]
  },
  {
   "cell_type": "markdown",
   "metadata": {},
   "source": [
    "$$\n",
    "S = -2.826 \\approx -2\\sqrt{2},\n",
    "$$"
   ]
  },
  {
   "cell_type": "markdown",
   "metadata": {},
   "source": [
    "que nos dá, aproximadamente, o mesmo valor da Eq. (3.9), efetivamente violando a desigualdade CHSH descrita na Eq. (2.4) e dando evidência experimental/computacional ao teorema de Bell."
   ]
  },
  {
   "cell_type": "markdown",
   "metadata": {},
   "source": [
    "## 5. Conclusão"
   ]
  },
  {
   "cell_type": "markdown",
   "metadata": {},
   "source": [
    "$\\quad$ Através do teorema de Bell, conseguimos provar que a mecânica quântica é uma teoria incompatível com um modelo de realismo local! Provamos o resultado totalmente analítico e completamente experimental/computacional.\n",
    "\n",
    "$\\quad$ Entretanto, cabem algumas ressalvas quanto à implementação. A primeira delas é bem óbvia: fizemos uma simulação de um computador quântico. Isto é, não efetivamente utilizamos operações puramente quânticas no nosso resultado. Como estamos investigando aspectos fundamentais da natureza, devemos ter bastante rigor neste sentido em um teste real.\n",
    "\n",
    "$\\quad$ É precisamente por conta deste rigor que nasceram as discussões acerca das brechas experimentais (*experimental loopholes*). Uma das brechas que devemos fechar, por exemplo, é a brecha da localidade. Em um computador quântico real, os qubits não estão separados espacialmente de uma forma que possamos garantir que não haja interferência da medição feita por Alice no qubit de Bob, e vice-versa. O que devemos garantir, no fundo, é que o tempo que a luz percorre de A até B tem que ser maior que o intervalo entre a escolha de medição A e a saída gerada por B. E esta é apenas uma das brechas que não puderam ser fechadas neste experimento, já que existem diversas outras. Como de praxe, a ref. [1] também contém um bom apanhado das principais brechas experimentais abordadas no contexto da não-localidade de Bell.\n",
    "\n",
    "$\\quad$ Recentes experimentos, no entanto, mostraram de maneira bastante convincente que estas principais brechas podem ser fechadas! Estas descobertas levaram ao recente prêmio Nobel de Física de 2022, onde os cientistas Alain Aspect, John F. Clauser e Anton Zeilinger foram premiados [13], em citação direta ao prêmio Nobel, “pelos experimentos com fótons emaranhados, estabelecendo a violação das desigualdades de Bell e sendo pioneiros na ciência da informação quântica”.\n",
    "\n",
    "$\\quad$ Para o leitor que permaneceu interessado, ficam como indicações de leitura as referências [14] e [15], que compilam os principais resultados da área de uma maneira muito mais técnica e profunda!  \n",
    "\n",
    "That's all Folks!"
   ]
  },
  {
   "cell_type": "markdown",
   "metadata": {},
   "source": [
    "## Referências"
   ]
  },
  {
   "cell_type": "markdown",
   "metadata": {},
   "source": [
    "**[1]** [*M. Alves, Uma introdução à não-localidade de Bell, Trabalho de Conclusão de Curso, Universidade Federal do Rio Grande do Norte (2023)*](https://repositorio.ufrn.br/handle/123456789/55773)\n",
    "\n",
    "**[2]** A. Einstein, B. Podolsky, and N. Rosen, Can Quantum-Mechanical Description of Physical Reality Be Considered Complete?, Physical Review 47, 777 (1935).\n",
    "\n",
    "**[3]** J. S. Bell, On the Einstein Podolsky Rosen paradox, Physics 1, 3, 195 (1964).\n",
    "\n",
    "**[4]** Wikipedia, Teorema de Bayes, <https://en.wikipedia.org/wiki/Bayes%27_theorem#Statement_of_theorem>, acesso em: 26 de maio de 2024.\n",
    "\n",
    "**[5]** Wikipedia, Positive operator-valued measure (POVM): <https://en.wikipedia.org/wiki/POVM>, acesso em: 26 de maio de 2024.\n",
    "\n",
    "**[6]** A. Fine, Hidden variables, joint probability, and the Bell inequalities, Phys. Rev. Lett. 48, 291 (1982).\n",
    "\n",
    "**[7]** J. F. Clauser, M. A. Horne, A. Shimony, R. A. Holt, Proposed experiment to test local hidden-variable theories, Phys. Rev. Lett. 23, 880 (1969).\n",
    "\n",
    "**[8]** B. Tsirelson, Quantum Generalizations of Bell’s Inequality, Letters in Mathematical Physics 4, 93 (1980).\n",
    "\n",
    "**[9]** S. J. Freedman, J. F. Clauser, Experimental test of local hidden variable theories, Phys. Rev. Lett. 28, 938 (1972).\n",
    "\n",
    "**[10]** A. Aspect, P. Grangier, G. Roger, Experimental Tests of Realistic Local Theories via Bell’s Theorem, Physical Review Letters 47, 460 (1981).\n",
    "\n",
    "**[11]** A. Aspect, P. Grangier, G. Roger, Experimental Realization of Einstein-Podolsky-Rosen-Bohm Gedankenexperiment: A New Violation of Bell’s Inequalities, Physical Review Letters 49, 91 (1982).\n",
    "\n",
    "**[12]** A. Aspect, J. Dalibard, G. Roger, Experimental test of Bell’s inequalities using time-varying analyzers, Phys. Rev. Lett. 49, 1804 (1982).\n",
    "\n",
    "**[13]** Nobel Prize Outreach, NobelPrize.org, The Nobel Prize in Physics 2022, <https://www.nobelprize.org/prizes/physics/2022/summary/>, acesso em: 26 de maio de 2024.\n",
    "\n",
    "**[14]** V. Scarani, Bell nonlocality, Oxford University Press (2019).\n",
    "\n",
    "**[15]** N. Brunner, D. Cavalcanti, S. Pironio, V. Scarani, S. Wehner, Bell Nonlocality, Reviews of Modern Physics 86, 419 (2014)."
   ]
  }
 ],
 "metadata": {
  "kernelspec": {
   "display_name": "Python 3 (ipykernel)",
   "language": "python",
   "name": "python3"
  },
  "language_info": {
   "codemirror_mode": {
    "name": "ipython",
    "version": 3
   },
   "file_extension": ".py",
   "mimetype": "text/x-python",
   "name": "python",
   "nbconvert_exporter": "python",
   "pygments_lexer": "ipython3",
   "version": "3.11.9"
  }
 },
 "nbformat": 4,
 "nbformat_minor": 4
}
