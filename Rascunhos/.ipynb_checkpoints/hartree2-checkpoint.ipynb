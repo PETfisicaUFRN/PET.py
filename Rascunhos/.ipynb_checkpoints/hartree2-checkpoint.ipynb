{
 "cells": [
  {
   "cell_type": "markdown",
   "id": "b0d95a11-4e12-4e7f-ad8b-6cec13999ac3",
   "metadata": {},
   "source": [
    "# Introdução Histórica"
   ]
  },
  {
   "cell_type": "markdown",
   "id": "ee782f30-4552-412b-9422-d11551f60326",
   "metadata": {},
   "source": [
    "$\\quad$ No estudo de corpos macroscópicos, estudamos o movimento desses corpos e as causas do movimento aplicando a mecânica clássica. Todavia, ao aplicar fundamentos da mecânica clássica na perspectiva microscópica, não obteremos o resultado correto, para tal ponto de vista é necessário outro ramo da física, a chamada Mecânica Quântica. Esta, por sua vez, é o ramo da física responsável por mostrar uma descrição física e matemática do comportamento dos elétrons e consequentemente dos sistemas químicos.\n",
    "\n",
    "Na década iniciada em 1920, houveram diversos trabalhos visando o estudo de vários elétrons no ramo da quântica. No ano de 1927, Llewellyn Thomas e Enrico Fermi publicam algumas condições estátisticas que possibilitam uma aproximação na distribuição de elétrons em um átomo. O trabalho deles se baseiam em duas suposições. Sendo, a primeira que os elétrons são distribuidos de maneira uniforme em um espaço hexadimensional para o movimento de um elétron a uma taxa de dois para cada h³ de volume e a segunda é em relação a um campo potencial que é determinado pela carga nuclear e pela distribuição de elétrons. No modelo em questão, o objetivo é determinar um modo de encontrar a densidade eletrônica e o potencial efetivo. Sendo assim, o metodo é baseado somente na densidade eletrõnica, no qual precisamos determinar a densidade em vez de determinar as funções de ondas dos elétrons. O modelo proposto por Fermi e Thomas serviu de motivação para os pesquisadores Walter e Kohn desenvolverem a Teoria do Funcional da Densidade que é usada até nos dias atuais para o deduzir funcionais. Isso foi possível, pois a teoria de Thomas-Fermi descreve de maneira qualitativa a energia dos átomos. No entanto, não descrevem as caracterisiticas que dependem do elétrons da camada de valência,como por exemplo ligaçoes químicas. No ano de 1927, Douglas Hartree encontra uma nova abordagem para descrever sistemas com muitos elétrons. \n",
    "\n",
    "Ele propôs que usassemos um metodo variacional para o Hamiltoniano de vários elétrons, empregando como função \"teste\" o produto de funções de onda de cada elétron de maneira individual, também conhecidos como orbitais. Esse método ficou conhecido como produto de Hartree."
   ]
  },
  {
   "cell_type": "markdown",
   "id": "c01ed9a9-4617-49df-abd0-be0bffc62665",
   "metadata": {},
   "source": [
    "$$|\\phi \\rangle = |\\phi_1(r_1)\\phi_2(r_2)\\phi_3(r_3)...\\phi_N(r_N)\\rangle$$"
   ]
  },
  {
   "cell_type": "markdown",
   "id": "0bddbd8e-f352-4df4-a928-d6e24949cd12",
   "metadata": {},
   "source": [
    "Douglas Hartree usa o produto de Hartree (ou aproximação de Hartree) juntamente com o metodo variacional determina uma equação para um elétron, porém na formulação desta equação estava contido a interação de todos os outros elétrons, esta equação por sua vez, ficou conhecida como sendo a *equação de Hartree*. \n"
   ]
  },
  {
   "cell_type": "markdown",
   "id": "fde5f9fd-4a90-4902-9cab-a82b1a0c3e84",
   "metadata": {},
   "source": []
  },
  {
   "cell_type": "markdown",
   "id": "5dadea02-af78-4ac7-8e5e-594d54f9235e",
   "metadata": {},
   "source": [
    "$$ H = -\\sum_{i=1}^{N} \\frac{1}{2} \\nabla_i^2-\\sum_{i=1}^{M} \\frac{1}{2M} \\nabla_A^2 - \\sum_{i=1}^{N} \\sum_{A=1}^{M} \\frac{Z_A}{r_{iA}} + \\sum_{A=1}^{M} \\sum_{B>A}^{M} \\frac{Z_A Z_B}{R_{AB}}\n",
    "+ \\sum_{i=1}^{N} \\sum_{j>i}^{N} \\frac{1}{r_{ij}} \\ .\\tag{1.5}$$ "
   ]
  },
  {
   "cell_type": "markdown",
   "id": "ca6efebd-becb-4f12-b148-e7ea405d71ee",
   "metadata": {},
   "source": []
  }
 ],
 "metadata": {
  "kernelspec": {
   "display_name": "Python 3 (ipykernel)",
   "language": "python",
   "name": "python3"
  },
  "language_info": {
   "codemirror_mode": {
    "name": "ipython",
    "version": 3
   },
   "file_extension": ".py",
   "mimetype": "text/x-python",
   "name": "python",
   "nbconvert_exporter": "python",
   "pygments_lexer": "ipython3",
   "version": "3.11.3"
  }
 },
 "nbformat": 4,
 "nbformat_minor": 5
}
