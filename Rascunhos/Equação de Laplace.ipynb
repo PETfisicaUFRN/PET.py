{
 "cells": [
  {
   "cell_type": "markdown",
   "id": "8241e135-3189-4cbd-ba4b-41f82a0772b8",
   "metadata": {},
   "source": [
    "# Equação de Laplace "
   ]
  },
  {
   "cell_type": "markdown",
   "id": "4969ba42-c3c6-4b56-bea0-c619c7f170e5",
   "metadata": {},
   "source": [
    "* PET - Física UFRN\n",
    "* Petiano: José Emanuel Vasconcelos Oliveira\n",
    "* Data: 27/01/2025"
   ]
  },
  {
   "cell_type": "markdown",
   "id": "3a3468fd-215c-4498-82b5-fca7bd3c5173",
   "metadata": {},
   "source": [
    "$\\quad$ Neste `Notebook`, veremos a equação de Laplace, suas aplicabilidades e métodos para resolver essas equações analítica e numericamente. Além disso, investigaremos como o sistema de coordenadas e as condições de contorno do sistema definem a solução para o caso. As soluções dessas equações no presente `Notebook` serão abordadas da maneira mais didática possível. Utilizaremos aqui uma abordagem numérica relatada no livro de Mark Newman [1]. Por fim, iremos verificar se as soluções numéricas e analíticas possuem boa concordância. O `Notebook` seguirá a seguinte estrutura:\n",
    "1. *Introdução*\n",
    "2. *Algumas soluções analíticas*\n",
    "3. *Soluções numéricas*\n",
    "4. *Conclusão*"
   ]
  },
  {
   "cell_type": "markdown",
   "id": "b012f001-b60c-43be-bb8d-d10b076fc8ab",
   "metadata": {},
   "source": [
    "## Pré-requisitos"
   ]
  },
  {
   "cell_type": "markdown",
   "id": "a8f66f63-fe28-486d-ae72-c2cbfa01d8a6",
   "metadata": {},
   "source": [
    "$\\quad$ Para este `Notebook`, o leitor não deve se preocupar com bibliotecas, visto que usaremos as padrões do python. Entretanto, é aconselhável que o leitor possua um conhecimento prévio em cálculo vetorial e diferencial."
   ]
  },
  {
   "cell_type": "markdown",
   "id": "2f8b973a-a747-419d-a1f4-313ad423ffeb",
   "metadata": {},
   "source": [
    "### Importando bibliotecas"
   ]
  },
  {
   "cell_type": "code",
   "execution_count": null,
   "id": "3c912596",
   "metadata": {},
   "outputs": [],
   "source": [
    "import numpy as np\n",
    "import matplotlib.pyplot as plt"
   ]
  },
  {
   "cell_type": "markdown",
   "id": "42575396-762b-4c90-8509-d18689999ab0",
   "metadata": {},
   "source": [
    "### Detalhes das bibliotecas"
   ]
  },
  {
   "cell_type": "code",
   "execution_count": null,
   "id": "02ea789e-9abe-4674-a536-635e05de2bca",
   "metadata": {},
   "outputs": [],
   "source": [
    "%load_ext watermark\n",
    "%watermark -p numpy,matplotlib"
   ]
  },
  {
   "cell_type": "markdown",
   "id": "df188b5e-390d-4de9-b9cb-7e24cd15c505",
   "metadata": {},
   "source": [
    "## Introdução"
   ]
  },
  {
   "cell_type": "markdown",
   "id": "4077a98e-f2d4-46e4-b49d-4300c7669a61",
   "metadata": {},
   "source": [
    "$\\quad$ Uma das ferramentas mais importantes na física, com certeza, é a derivada e os respectivos operadores diferenciais. Em diversos problemas físicos, as equações utilizadas para a modelagem de problemas envolvem derivadas de campos escalares ou vetoriais. Um operador diferencial fundamental na física é o Nabla ($\\nabla$), que indica derivação parcial de um campo em relação às componentes espaciais de um determinado sistema de coordenadas. Em um sistema cartesiano, definimos o operador como:\n"
   ]
  },
  {
   "cell_type": "markdown",
   "id": "d19e62b2-86ec-4331-9e08-1d958f159748",
   "metadata": {},
   "source": [
    "$$\n",
    "\\nabla = \\hat{i} \\frac{\\partial}{\\partial x} + \\hat{j} \\frac{\\partial}{\\partial y} + \\hat{k} \\frac{\\partial}{\\partial z}.  \\tag{1}\n",
    "$$"
   ]
  },
  {
   "cell_type": "markdown",
   "id": "807bba07-6833-4bec-9e58-e6982b0530b7",
   "metadata": {},
   "source": [
    "$\\quad$ O operador descrito em (1) atua sobre campos escalares e o transforma em um campo vetorial, com cada componente sendo a respectiva derivada. Ao realizarmos uma operação do tipo $\\nabla f$, estamos calculando o gradiente de um determinado campo escalar. Outra operação importante, usando o Nabla, é calcular o divergente. Essa operação é feita sobre campos vetoriais e os transforma em campos escalares, com cada componente do campo sendo derivada em relação à respectiva coordenada. Em termos matemáticos, isso é:"
   ]
  },
  {
   "cell_type": "markdown",
   "id": "097adede-c27a-4204-96bc-93e4698f26df",
   "metadata": {},
   "source": [
    "$$\n",
    "\\nabla \\cdot \\ \\vec{F} = \\frac{\\partial F_x}{\\partial x} + \\frac{\\partial F_y}{\\partial y} + \\frac{\\partial F_z}{\\partial z}. \\tag{2}\n",
    "$$"
   ]
  },
  {
   "cell_type": "markdown",
   "id": "f5f932e5-3ce8-4678-952a-8c09ce3af28f",
   "metadata": {},
   "source": [
    "$\\quad$ Agora, podemos utilizar os resultados de (1) e (2) de forma a obter o operador alvo deste `Notebook`. Tratando agora $\\nabla f = \\vec{F}$ e calculando seu divergente, definimos o operador Laplaciano:"
   ]
  },
  {
   "cell_type": "markdown",
   "id": "9cffc081-8b80-41c6-b1bc-a3a69dacef90",
   "metadata": {},
   "source": [
    "$$\n",
    "\\nabla^2 f = \\nabla \\cdot \\nabla f = \\frac{\\partial}{\\partial x} \\left( \\frac{\\partial f}{\\partial x} \\right) + \\frac{\\partial}{\\partial y} \\left( \\frac{\\partial f}{\\partial y} \\right) + \\frac{\\partial}{\\partial z} \\left( \\frac{\\partial f}{\\partial z} \\right) = \\frac{\\partial^2 f}{\\partial x^2}+\\frac{\\partial^2 f}{\\partial y^2} + \\frac{\\partial^2 f}{\\partial z^2}. \\tag{3}\n",
    "$$"
   ]
  },
  {
   "cell_type": "markdown",
   "id": "332480e8-57a4-463d-99a2-f3c8bdc9ab0d",
   "metadata": {},
   "source": [
    "$\\quad$ Em (3), consideramos um sistema de coordenadas cartesianos. Entretanto, a forma do Laplaciano pode ser alterada a depender do sistema de coordenadas que estamos trabalhando. Um exemplo que será útil posteriormente são as coordenadas polares. Imaginemos um problema descrito em torno de uma região circular. Seria muito mais fácil se pudéssemos descrevê-lo como função de seu raio e ângulo. A mudança de coordenadas cartesianas para polares é descrita como:"
   ]
  },
  {
   "cell_type": "markdown",
   "id": "d298b3d3-cd71-4762-9a65-7bc97eb7257f",
   "metadata": {},
   "source": [
    "$$\n",
    "x = \\rho \\cos(\\theta); \\ \\ y = \\rho \\sin(\\theta); \\tag{4}\n",
    "$$"
   ]
  },
  {
   "cell_type": "markdown",
   "id": "dbdce923-22e1-4b6d-87df-b739049fcb62",
   "metadata": {},
   "source": [
    "onde $\\rho =  x^2 + y^2$, ou seja, a distância de um ponto qualquer até a origem; e $\\theta =  tg^{-1}(y/x)$, o ângulo entre a reta que liga o ponto à origem e o eixo x. Esse ângulo também é conhecido como ângulo polar. Vale lembrar que as coordenadas polares são um sistema de coordenadas bidimensional. Podemos tratá-la como um caso específico das coordenadas cilíndricas. Porém, essa discussão mais elaborada não irá agregar muito para o nosso trabalho."
   ]
  },
  {
   "cell_type": "markdown",
   "id": "07844d38-c24d-4238-9572-b77c4389b56b",
   "metadata": {},
   "source": [
    "$\\quad$ Nesse sistema de coordenadas, o Laplaciano se apresenta de maneira diferente, considerando agora uma função dependente das coordenadas polares ($f = f(r,\\theta)$). Isso acontece devido ao ajuste dos diferenciais de posição e à normalização dos vetores na nova base. Para um maior aprofundamento, consultar a referência [2]. Ao realizar as operações necessárias, conseguimos expressar o Laplaciano nesse sistema de coordenadas como:"
   ]
  },
  {
   "cell_type": "markdown",
   "id": "2a36095e-529d-4da8-bfd6-45cab977dcec",
   "metadata": {},
   "source": [
    "$$\n",
    "\\nabla^2 f(r,\\theta)= \\frac{\\partial^2 f}{\\partial r^2} + \\frac{1}{r}\\frac{\\partial f}{\\partial r} + \\frac{1}{r ^2}\\frac{\\partial^2 f}{\\partial \\theta^2}. \\tag{5}\n",
    "$$"
   ]
  },
  {
   "cell_type": "markdown",
   "id": "6f8cd01e-76fc-43f4-94fa-f6b471ebca51",
   "metadata": {},
   "source": [
    "$\\quad$ Para esse `Notebook`, consideramos apenas o operador Laplaciano atuando sobre campos escalares, apesar de que existe também o Laplaciano Vetor, aplicado a campos vetoriais. Diversos campos da física utilizam equações que envolvem o cálculo do Laplaciano, como, por exemplo, a equação da onda. Outro uso fundamental desse operador está atrelado ao eletromagnetismo."
   ]
  },
  {
   "cell_type": "markdown",
   "id": "74b1dd21-ccfc-4466-ae19-fba0dc03af5b",
   "metadata": {},
   "source": [
    "$\\quad$ Vamos utilizar para essa análise a primeira equação de Maxwell, em sua forma diferencial. Essa equação relaciona a divergência do campo elétrico com a densidade de cargas de uma determinada região: "
   ]
  },
  {
   "cell_type": "markdown",
   "id": "d3853c3a-778b-43f4-a318-61b89f25406e",
   "metadata": {},
   "source": [
    "$$\n",
    "\\nabla \\cdot \\vec{E} = \\frac{\\rho}{\\epsilon_0}, \\tag{5}\n",
    "$$"
   ]
  },
  {
   "cell_type": "markdown",
   "id": "681d8ae5-f928-47bf-ba28-c7008be6e2ca",
   "metadata": {},
   "source": [
    "onde $\\vec{E}$ representa o campo elétrico, $\\rho$ a densidade volumétrica de cargas e $\\epsilon_0$ é a constante de permissividade elétrica no vácuo. Porém, podemos definir o campo elétrico como negativo do gradiente de um potencial $\\phi$ qualquer. Dessa dorma, a equação (5) se torna:"
   ]
  },
  {
   "cell_type": "markdown",
   "id": "4389c583-7185-488d-ab63-3a448e082339",
   "metadata": {},
   "source": [
    "$$\n",
    "\\nabla \\cdot (- \\nabla \\phi) = \\frac{\\rho}{\\epsilon_0} \\Rightarrow \\nabla ^2 \\phi = - \\frac{\\rho}{\\epsilon_0}. \\tag{6}\n",
    "$$"
   ]
  },
  {
   "cell_type": "markdown",
   "id": "7cff92f6-f522-4603-9740-5e46ada65e4a",
   "metadata": {},
   "source": [
    "$\\quad$ A equação acima é conhecida como a equação de Poisson. Apesar de muito interessante, ela de maneira geral não será abordada nesse `Notebook`. A equação de Poisson é uma equação diferencial parcial, linear, não-homogênea, de segunda ordem e com coeficientes constantes. Fazendo com que a densidade de cargas seja nula (uma região eletricamente neutra, ou o vácuo, por exemplo), obtemos diretamente de (6): "
   ]
  },
  {
   "cell_type": "markdown",
   "id": "713de3e5-8d44-420c-86d1-594b87114644",
   "metadata": {},
   "source": [
    "$$\n",
    "\\nabla ^2 \\phi = 0. \\tag{7}\n",
    "$$"
   ]
  },
  {
   "cell_type": "markdown",
   "id": "dec577c8-7ad1-4412-9df4-3cb00180be7d",
   "metadata": {},
   "source": [
    "Finalmente, chegamos à esperada *Equação de Laplace*, a qual iremos conter nossa análise. Essa equação é fundamental em diversos campos da física, para além do eletromagnetismo e também possui muita relevância em diversas áreas da matemática. A *Equação de Laplace* é uma equação diferencial parcial, linear, homogênea, de segunda ordem e com coeficientes constantes. Posteriormente, mostraremos que as soluções dessa equação são totalmente dependentes das condições de contorno e sistema de coordenadas. Entretanto, é possível verificar que, a depender das condições de contorno específicas, só existe uma única solução para a equação. Essa proposição é resultado do Teorema de Unicidade da solução [3]. "
   ]
  },
  {
   "cell_type": "markdown",
   "id": "2b2fe508-cf3b-4a26-b7c5-6ca60272bb54",
   "metadata": {},
   "source": [
    "## Algumas soluções analíticas"
   ]
  },
  {
   "cell_type": "markdown",
   "id": "2d706720-9466-45ba-90a9-be00e7b83de3",
   "metadata": {},
   "source": [
    "### Coordenadas cartesianas"
   ]
  },
  {
   "cell_type": "markdown",
   "id": "d588e3d3-e811-40e9-9e68-778007328b35",
   "metadata": {},
   "source": [
    "$\\quad$ Neste `Notebook`, simularemos problemas relacionados ao eletromagnetismo. Entretanto, nesta seção, vamos mencionar métodos gerais para solucionar a equação de Laplace em coordenadas cartesianas e polares. Além disso, vamos tratar alguns casos específicos e desenvolver a matemática necessária para encontrar soluções fechadas para o problema."
   ]
  },
  {
   "cell_type": "markdown",
   "id": "01097e48-043e-4ba0-88f5-2b865b3794d6",
   "metadata": {},
   "source": [
    "$\\quad$ Para solucionar a *Equação de Laplace*, vamos primeiro tratar de um caso cartesiano. Definimos uma função $\\Phi = \\Phi (x,y)$. Além disso, precisamos definir a região onde a nossa função obedecerá à equação. Definimos que $\\Phi$ seja finita e bem definida no retângulo $0 < x < a$, $0 < y < b$. Por fim, precisamos definir as condições de contorno por serem fundamentais para a forma que a solução se apresente. Vamos impor que $\\Phi(x,y)$ obedeça:\n"
   ]
  },
  {
   "cell_type": "markdown",
   "id": "887d971b-ce82-4cca-822d-8d5c5d7a5f6b",
   "metadata": {},
   "source": [
    "$$\n",
    "\\begin{aligned}\n",
    "\\Phi(x, 0) &= 0, \\quad \\Phi(x, b) = 0, \\quad &0 < x < a, \\\\\n",
    "\\Phi(0, y) &= 0, \\quad \\Phi(a, y) = f(y), \\quad &0 \\leq y \\leq b.\n",
    "\\end{aligned}\n",
    "\\tag{8}\n",
    "$$\n"
   ]
  },
  {
   "cell_type": "markdown",
   "id": "405629bc-dcd4-40ab-9438-c08ed8569601",
   "metadata": {},
   "source": [
    "Aqui, $f(y)$ é uma função qualquer definida no intervalo $0 < y < b$."
   ]
  },
  {
   "cell_type": "markdown",
   "id": "30f6498d-45ef-43c3-8c33-c80a18d66089",
   "metadata": {},
   "source": [
    "$\\quad$ Agora, vamos tratar a matemática para solucionar nossa equação. Utilizemos o método de separação de variáveis. Nesse método, dizemos que a função potencial seja resultado do produto de duas funções, cada uma dependente de apenas uma coordenada, ou seja, $\\Phi (x,y) = X(x) Y(y)$. Agora, substituímos esse resultado na equação (7) para obter:"
   ]
  },
  {
   "cell_type": "markdown",
   "id": "507be089-5d5c-49bc-b3c6-b23f4355e780",
   "metadata": {},
   "source": [
    "$$\n",
    "\\frac{\\partial^2 \\Phi}{\\partial x^2} + \\frac{\\partial^2 \\Phi}{\\partial y^2} = 0 \\Rightarrow \\frac{\\partial^2 X(x)Y(y)}{\\partial x^2} + \\frac{\\partial^2 X(x)Y(y)}{\\partial y^2} = 0. \\tag{9}\n",
    "$$"
   ]
  },
  {
   "cell_type": "markdown",
   "id": "46d1bac2-4c22-43c9-9791-1ac865f48f55",
   "metadata": {},
   "source": [
    "Desenvolvendo as derivadas:"
   ]
  },
  {
   "cell_type": "markdown",
   "id": "041dd275-2096-40da-b17b-4b7372e03a91",
   "metadata": {},
   "source": [
    "$$\n",
    "Y(y) \\frac{d^2  X(x)}{dx^2}+ X(x) \\frac{d^2  Y(y)}{dy^2}  = 0. \\tag{10}\n",
    "$$"
   ]
  },
  {
   "cell_type": "markdown",
   "id": "2c211f3c-7ff9-425c-9b3c-b802241b2c23",
   "metadata": {},
   "source": [
    "Aqui, usamos a derivada total, visto que as respectivas funções são dependentes de apenas uma variável. Dividindo (10) por $X(x)$ e $Y(y)$ e omitindo as variáveis entre parênteses, teremos:"
   ]
  },
  {
   "cell_type": "markdown",
   "id": "57e98d46-ab2f-4c01-9ed5-b88eae8d3d01",
   "metadata": {},
   "source": [
    "$$\n",
    "\\frac{1}{X}\\frac{d^2 X}{dx} + \\frac{1}{Y}\\frac{d^2 Y}{dy^2} = 0 \\Rightarrow \\frac{1}{X}\\frac{d^2 X}{dx^2} = -\\frac{1}{Y}\\frac{d^2 Y}{dy^2}. \\tag{11}\n",
    "$$"
   ]
  },
  {
   "cell_type": "markdown",
   "id": "2accd1e0-b052-4716-b1e6-6cbcf729db3b",
   "metadata": {},
   "source": [
    "$\\quad$ Vamos discutir um pouco sobre a equação (11). Ela nos garante a igualdade da divisão entre a segunda derivada de uma função dependente unicamente de $x$ e a própria função de $x$, e o negativo da divisão entre a segunda derivada de uma função dependente exclusivamente de $y$ e a própria função de $y$.  Note que, se em algum dos membros da igualdade existir um termo relacionado a uma das variáveis, o outro termo não conseguirá obter esse resultado, visto que as funções são unicamente dependentes. Logo, a única maneira dessa igualdade ser válida é se o resultado de ambas as divisões for uma constante real. Em termos matemáticos, isso significa que:"
   ]
  },
  {
   "cell_type": "markdown",
   "id": "8685cf6d-3b4d-49c5-a612-2745a2c9e375",
   "metadata": {},
   "source": [
    "$$\n",
    "\\frac{1}{X}\\frac{d^2 X}{dx^2} = k^2 \\; \\ \\  ; \\; \\frac{1}{Y}\\frac{d^2 Y}{dy^2} = -k^2, \\tag{12}\n",
    "$$"
   ]
  },
  {
   "cell_type": "markdown",
   "id": "6cf7767c-cb05-4826-8922-78e42ba16f0d",
   "metadata": {},
   "source": [
    "onde $k$ é uma constante real que está levada ao quadrado apenas para melhorar a notação futuramente. "
   ]
  },
  {
   "cell_type": "markdown",
   "id": "b5441436-3661-453c-b830-7e7b2468a4a3",
   "metadata": {},
   "source": [
    "$\\quad$ As expressões em (12) são equações diferenciais ordinárias, lineares, de segunda ordem, homogêneas e de coeficientes constantes, muito mais simples de serem resolvidas que as expressões (6) e (7). Vamos obter as soluções a partir do método do polinômio característico e suas raízes. Se o leitor quiser um maior aprofundamento sobre esse método de resolução de EDO's, sugerimos a referência [4]. Trataremos apenas a expressão para a função $X(x)$, visto que o processo para a função $Y(y)$ é análogo. Ao final, as soluções para ambas serão mostradas."
   ]
  },
  {
   "cell_type": "markdown",
   "id": "99074228-69fb-49bf-a806-48c9ccfaf1e0",
   "metadata": {},
   "source": [
    "$\\quad$ Multiplicando a primeira expressão de (12) por $X$ e subtraindo o termo $kX$ aos dois lados da equação, obtemos:"
   ]
  },
  {
   "cell_type": "markdown",
   "id": "710bdcb7-fc8d-4bc7-9af4-90f7282611e2",
   "metadata": {},
   "source": [
    "$$\n",
    "\\frac{d^2 X}{dx^2} - k^2X = 0. \\tag{13}\n",
    "$$"
   ]
  },
  {
   "cell_type": "markdown",
   "id": "608dfbc0-58b9-4343-97f7-150ac113119e",
   "metadata": {},
   "source": [
    "Agora, substituímos as derivadas em (13) em função do grau do polinômio de uma variável $\\lambda$. Obtendo assim:"
   ]
  },
  {
   "cell_type": "markdown",
   "id": "be397f6d-7d5b-4852-a1cf-49605b77efb1",
   "metadata": {},
   "source": [
    "$$\n",
    "\\lambda ^2 - k^2 = 0. \n",
    "$$"
   ]
  },
  {
   "cell_type": "markdown",
   "id": "f24f86fe-efdc-4d99-b6a4-7c1a8ac5826e",
   "metadata": {},
   "source": [
    "Precisamos encontrar as raízes dessa equação. É fácil ver que elas são na forma:"
   ]
  },
  {
   "cell_type": "markdown",
   "id": "3690cb16-9225-48a4-9ab7-2999116d8bfa",
   "metadata": {},
   "source": [
    "$$\n",
    "\\lambda = \\pm k.\n",
    "$$"
   ]
  },
  {
   "cell_type": "markdown",
   "id": "aad5e4a9-1768-49e8-b8c5-ca27c510b759",
   "metadata": {},
   "source": [
    "$\\quad$ Com as raízes do polinômio característico em mãos, podemos voltar à nossa expressão (13) e afirmas que as raízes, de maneira geral, são:"
   ]
  },
  {
   "cell_type": "markdown",
   "id": "b8c25db7-d159-41a6-80fc-757fc6466c14",
   "metadata": {},
   "source": [
    "$$\n",
    "X(x) = A \\cosh(kx) + B \\sinh(kx), \\tag{14}\n",
    "$$"
   ]
  },
  {
   "cell_type": "markdown",
   "id": "2eb2e327-062b-492e-8df9-f517999c3756",
   "metadata": {},
   "source": [
    "em que $A$ e $B$ são constantes reais. A solução poderia ser dada em termos de exponenciais. Entretanto, é conveniente deixar a expressão em função das relações trigonométricas hiperbólicas."
   ]
  },
  {
   "cell_type": "markdown",
   "id": "4dff333d-6c6d-494b-ae06-9f1fd6379fa1",
   "metadata": {},
   "source": [
    "$\\quad$ O processo de solução para a função $Y$ é análogo e obteremos, por fim:"
   ]
  },
  {
   "cell_type": "markdown",
   "id": "5b484b64-ac32-4acb-ba3e-19becc77d577",
   "metadata": {},
   "source": [
    "$$\n",
    "Y(y) = C \\cos{(ky)} + D \\sin{(ky)}, \\tag{15}\n",
    "$$"
   ]
  },
  {
   "cell_type": "markdown",
   "id": "994a2afe-f73f-47e1-8084-478f54053356",
   "metadata": {},
   "source": [
    "com $C$ e $D$ sendo constantes reais. Com isso, obtemos de maneira geral a solução para a equação (9) como sendo o produto entre as expressões (14) e (15). Entretanto, vamos melhorar nossa solução impondo condições de contorno bem definidas."
   ]
  },
  {
   "cell_type": "markdown",
   "id": "9f9c4fcd-28e3-44f3-8e96-bedf4d370571",
   "metadata": {},
   "source": [
    "$\\quad$ Lembremos que nossa função $\\Phi$ é produto de duas funções, cada uma dependente de uma única variável. Se analisarmos as condições impostas em (8), conseguimos boas informações sobre o comportamento da função $Y(y)$. Afirmamos isso, pois, para qualquer valor de $x$, quando $y$ é restrito em $0$ ou em $b$, as condições implicam que $\\Phi = 0$. As únicas maneiras para que essa afirmação seja válida são: $X(x) = 0$ para qualquer valor de $x$, o que não queremos por resultar numa restrição de soluções; ou $Y(0) = Y(b) = 0$, que será a maneira com que levaremos a seguir nossa análise.  "
   ]
  },
  {
   "cell_type": "markdown",
   "id": "0dfc4426-3cdf-4b69-a6f8-6e1492c963c3",
   "metadata": {},
   "source": [
    "$\\quad$ Agora, vamos substituir as condições que discutimos anteriormente na expressão (15), a fim de descobrir quais os valores das constantes $C$ e $D$ que satisfazem as nossas condições de contorno. Fazendo $y = 0$:"
   ]
  },
  {
   "cell_type": "markdown",
   "id": "fcef27ab-e6cd-4d3d-b909-cf79df207f3d",
   "metadata": {},
   "source": [
    "$$\n",
    "Y(0) = C \\cos(0) + D \\sin(0) = 0 \\rightarrow C = 0.\n",
    "$$"
   ]
  },
  {
   "cell_type": "markdown",
   "id": "91799992-d895-4157-87ed-c96f5465cd52",
   "metadata": {},
   "source": [
    "Assim, obtemos que $Y(y)$ não possui contribuição da função cosseno. Fazendo o mesmo procedimento anterior, porém com $y=b$ e descartando o termo que acompanha a constante nula:"
   ]
  },
  {
   "cell_type": "markdown",
   "id": "237005d1-6cf5-402e-ab0f-a2c7d080af5f",
   "metadata": {},
   "source": [
    "$$\n",
    "Y(b) = D \\sin(bk) = 0. \\tag{16}\n",
    "$$"
   ]
  },
  {
   "cell_type": "markdown",
   "id": "f37b53df-dcf8-43e7-879b-de6fd3ed0353",
   "metadata": {},
   "source": [
    "Note que a expressão (16) é produto de uma constante por um seno de um argumento bem definido. Queremos buscar soluções não triviais, ou seja, vamos fazer com que $D \\neq 0$ para que nossa função $Y \\neq 0$, e possamos obter um leque de soluções mais diverso. Assim, para que (16), seja verdadeira, devemos fazer com que $\\sin(bk) = 0$, isso só será possível se:"
   ]
  },
  {
   "cell_type": "markdown",
   "id": "54d0e0d9-1184-41ca-b58b-8966b609e193",
   "metadata": {},
   "source": [
    "$$\n",
    "bk = n \\pi \\rightarrow k = \\frac{n \\pi}{b}, \\quad n \\in \\mathbb{N}. \\tag{17}\n",
    "$$"
   ]
  },
  {
   "cell_type": "markdown",
   "id": "f4a7b22f-4903-48b7-8cad-cee3a2390510",
   "metadata": {},
   "source": [
    "Podemos estender o valor de $n$ para todos os inteiros. Entretanto, a fim de facilitar as futuras condições, vamos mantê-lo como no conjunto dos naturais. Com isso, finalmente obtemos uma solução para a nossa função $Y(y)$, que é da forma:"
   ]
  },
  {
   "cell_type": "markdown",
   "id": "6638f6a1-1534-48b6-84ee-6d5444146a4c",
   "metadata": {},
   "source": [
    "$$\n",
    "Y(y) = D \\sin \\left(\\frac{n \\pi y}{b} \\right), \\tag{18}\n",
    "$$"
   ]
  },
  {
   "cell_type": "markdown",
   "id": "673f6c69-27b3-4a45-bd27-50b444729695",
   "metadata": {},
   "source": [
    "em que a constante $D$ será abordada posteriormente."
   ]
  },
  {
   "cell_type": "markdown",
   "id": "f5a32a91-54e8-4b49-b044-0264f1a8d38c",
   "metadata": {},
   "source": [
    "$\\quad$ Vamos agora verificar como se comporta a função $X$ a depender das condições de contorno e da restrição para $k$ obtida em (17). Por (8), devemos ter que $X(0) = 0$, pelos mesmos argumentos utilizados no desenvolvimento da função $Y$. Sendo assim, fazendo $x = 0$ em (14):"
   ]
  },
  {
   "cell_type": "markdown",
   "id": "1fbc56ea-3a4f-45d1-9b78-0e7f4747985b",
   "metadata": {},
   "source": [
    "$$\n",
    "X(0) = A \\cosh(0) + B \\sinh(0) = 0 \\rightarrow A = 0.\n",
    "$$"
   ]
  },
  {
   "cell_type": "markdown",
   "id": "2021b2b7-fa35-4300-9256-a96e0855ca83",
   "metadata": {},
   "source": [
    "Assim, não há contribuição da função cosseno hiperbólico para a função $X$. Podemos substituir a expressão para $k$ em (17) em (14) e desprezando o termo nulo para obter que:"
   ]
  },
  {
   "cell_type": "markdown",
   "id": "9ec9f366-c7f9-48d7-ad04-ea3cf901fa6f",
   "metadata": {},
   "source": [
    "$$\n",
    "X(x) = B \\sinh \\left(\\frac{n \\pi x}{b} \\right). \\tag{19}\n",
    "$$"
   ]
  },
  {
   "cell_type": "markdown",
   "id": "ef037e22-df0f-426a-9ed5-a07c426d2985",
   "metadata": {},
   "source": [
    "$\\quad$ Com posse da forma para as funções $X(x)$ e $Y(y)$, podemos fazer o produto de (18) com (19) para finalmenter obtermos nossa função fundamental $\\Phi (x,y)$:"
   ]
  },
  {
   "cell_type": "markdown",
   "id": "63ea115a-7cdb-4996-8433-a75f77be55c1",
   "metadata": {},
   "source": [
    "$$\n",
    "\\begin{aligned}\n",
    "\\Phi_n (x,y) = X(x)Y(y) \\rightarrow \\Phi_n(x,y) = \\sinh \\left(\\frac{n \\pi x}{b} \\right)  \\sin \\left(\\frac{n \\pi y}{b} \\right) \n",
    "\\\\\n",
    "\\\\\n",
    "\\Phi_n(x,y) = \\sinh \\left(\\frac{n \\pi x}{b} \\right)\\sin \\left(\\frac{n \\pi y}{b} \\right) \\quad \\quad \\quad \\quad\n",
    "\\end{aligned}\n",
    ", \\quad n \\in \\mathbb{N}.\n",
    "\\tag{20}\n",
    "$$"
   ]
  },
  {
   "cell_type": "markdown",
   "id": "38d8599d-0172-40af-9cda-0d719fabaac0",
   "metadata": {},
   "source": [
    "Note que assumimos uma função fundamental, de modo que as constantes multiplicativas são iguais à unidade. Além disso, escrevemos a função com índice $n$, para denotar que, para cada valor de $n$, obtemos uma solução válida. De modo à verificação, o leitor pode substituir a expressão encontrada em (20) na equação (9) e notar que obedece perfeitamente à *Equação de Laplace*. Além disso, é possível verificar que uma combinação linear de (20) também é solução de (9). Assim, podemos escrever que:"
   ]
  },
  {
   "cell_type": "markdown",
   "id": "ec62e4e4-d00e-43d9-a368-0ac5d7d71b5e",
   "metadata": {},
   "source": [
    "$$\n",
    "\\Phi (x,y) = \\sum_{n=0} ^{N} P_n \\sinh \\left(\\frac{n \\pi x}{b} \\right)\\sin \\left(\\frac{n \\pi y}{b} \\right). \\tag{21}\n",
    "$$"
   ]
  },
  {
   "cell_type": "markdown",
   "id": "261cb82a-2c08-4926-93f0-5d205212d428",
   "metadata": {},
   "source": [
    "onde $P_n$ representa a constante n-ésima solução e pode ser entendida como o produto das constantes $B$ e $D$ das equações (18) e (19)."
   ]
  },
  {
   "cell_type": "markdown",
   "id": "f8ee1652-f7d7-428b-8b36-0d3e3f1e3d00",
   "metadata": {},
   "source": [
    "$\\quad$ O leitor deve ter notado que, até então, não utilizamos a última condição de (8). Para utilizarmos, devemos lembrar de outro conceito muito importante na matemática: a Série de Fourier. Ela nos diz que, se uma determinada função $g(u)$, definida em uma região $-L < u < L$, e sua derivada forem contínuas com uma quantidade finita de descontinuidades de primeira espécies (que possui limites laterais), então $g(u)$ pode ser representada fielmente por uma soma infinita de senos e cossenos. Em resumo, o que queremos dizer é que:"
   ]
  },
  {
   "cell_type": "markdown",
   "id": "c306ae99-10e0-4968-a66a-2bc641725bca",
   "metadata": {},
   "source": [
    "$$\n",
    "g:[-L,L] \\rightarrow \\mathbb{R} \\Rightarrow g(u) = \\frac{b_0}{2} + \\sum_{n=1}^{\\infty} a_n \\sin \\left(\\frac{n \\pi u}{L} \\right) +  b_n\\cos \\left(\\frac{n \\pi u}{L}\\right), \\tag{22}\n",
    "$$"
   ]
  },
  {
   "cell_type": "markdown",
   "id": "ac1d61d0-debf-4b86-8693-e0762a5bb0a4",
   "metadata": {},
   "source": [
    "de forma que a série é igual a função no intervalo de $-L$ a $L$. Os coeficientes $a_n$ e $b_n$ são definidos como:"
   ]
  },
  {
   "cell_type": "markdown",
   "id": "9707960f-9b4e-4055-a480-43961b0b6ff0",
   "metadata": {},
   "source": [
    "$$\n",
    "\\begin{aligned}\n",
    "a_n = \\frac{1}{L}\\int_{-L}^L g(u) \\sin \\left(\\frac{n \\pi u}{L} \\right) du\n",
    "\\\\\n",
    "\\\\\n",
    "b_n  = \\frac{1}{L}\\int_{-L}^L g(u) \\cos \\left(\\frac{n \\pi u}{L} \\right) du\n",
    "\\end{aligned}\n",
    "\\tag{23}\n",
    "$$"
   ]
  },
  {
   "cell_type": "markdown",
   "id": "84efe69e-9917-4791-82d0-3fc2655c1c7d",
   "metadata": {},
   "source": [
    "As demonstrações para que os coeficientes se apresentem dessa maneira envolvem a ortogonalidade das funções seno e cosseno. A demonstração foge do objetido e escopo deste `Notebook`, mas sugerimos que, caso tenha interesse, o leitor consulte as referências [4] ou [5] para maior aprofundamento."
   ]
  },
  {
   "cell_type": "markdown",
   "id": "69cd7354-5d83-4abe-881a-1829281e7138",
   "metadata": {},
   "source": [
    "$\\quad$ Com conhecimento sobre a Série de Fourier, podemos finalmente resolver por completo nosso problema. Primeiro, fazemos $x = a$ na equação (21) para obter:"
   ]
  },
  {
   "cell_type": "markdown",
   "id": "a89bb1ae-26c8-463b-a7bb-d447a2956ff3",
   "metadata": {},
   "source": [
    "$$\n",
    "\\Phi(a,y) = \\sum_{n=0} ^{N} P_n \\sinh \\left(\\frac{n \\pi a}{b} \\right)\\sin \\left(\\frac{n \\pi y}{b} \\right). \\tag{24}\n",
    "$$"
   ]
  },
  {
   "cell_type": "markdown",
   "id": "e962d06a-90b0-4a27-921e-020eb899d3c7",
   "metadata": {},
   "source": [
    "Para que respeitemos a condição de contorno em que $\\Phi(a,y) = f(y)$, devemos ter que $N \\rightarrow \\infty$ em (24), de forma a escrever essa expressão como a Série de Fourier da função $f(y)$:"
   ]
  },
  {
   "cell_type": "markdown",
   "id": "b24ef111-59bd-4e6c-9163-f7eb9fe22c66",
   "metadata": {},
   "source": [
    "$$\n",
    "\\Phi(a,y) = \\sum_{n=0} ^{\\infty} P_n \\sinh \\left(\\frac{n \\pi a}{b} \\right)\\sin \\left(\\frac{n \\pi y}{b} \\right) = f(y). \\tag{25}\n",
    "$$"
   ]
  },
  {
   "cell_type": "markdown",
   "id": "ef6a62a8-3c0d-4266-8e0d-a8ce74773aa8",
   "metadata": {},
   "source": [
    "Percebemos, em comparação de (25) com (22), que não existe contribuição de termos múltiplos de cossenos na nossa representação em Série de Fourier da função. Isso significa que, mesmo sem percebermos, $f$ sofreu uma extensão ímpar para o intervalo $-b < y < 0$. Lembremos que nossa função só estava definida para $0 \\leq y \\leq b$. Assim, impomos que nossa função esteja definida no intervalo $-b < y \\leq b$ e sendo uma função ímpar, ou seja, $f(-y) = -f(y)$."
   ]
  },
  {
   "cell_type": "markdown",
   "id": "d862e7d6-9276-44d8-a2e0-4c259e8f5f2d",
   "metadata": {},
   "source": [
    "$\\quad$ Note que em nenhum momento anterior em nossa análise, alteramos alguma definição de $f$. Essa extensão surgiu naturalmente devido à forma da solução obtida e da necessidade de adequá-la para uma Série de Fourier. Agora, conseguimos definir o termo $P_n$, para finalizarmos nossa análise para a *Equação de Laplace* no sistema cartesiano."
   ]
  },
  {
   "cell_type": "markdown",
   "id": "7bbf4533-5ef4-43d2-8488-4a7babd8b5ff",
   "metadata": {},
   "source": [
    "$\\quad$ Comparando (25) com (22) e (23), fazemos finalmente:"
   ]
  },
  {
   "cell_type": "markdown",
   "id": "b7c1d2c6-3aa8-4ed9-b6ef-aff25d76c665",
   "metadata": {},
   "source": [
    "$$\n",
    "P_n \\sinh \\left(\\frac{n \\pi a}{b} \\right) = \\frac{1}{b}\\int_{-b}^b f(y) \\sin \\left(\\frac{n \\pi y}{b} \\right) dy = \\frac{2}{b}\\int_{0}^b f(y) \\sin \\left(\\frac{n \\pi y}{b} \\right) dy. \\tag{26}\n",
    "$$"
   ]
  },
  {
   "cell_type": "markdown",
   "id": "b64fe82a-4b34-44e6-844a-6b8383b6f019",
   "metadata": {},
   "source": [
    "Essa passagem acontece devido a $f(y)$ agora ser uma função ímpar, e como a função seno também é impar, seu produto gera uma função par. Uma propriedade da função par é: seja $g(x)$ uma função par, então:"
   ]
  },
  {
   "cell_type": "markdown",
   "id": "0e9a80bb-7314-4250-b245-865639e6bd80",
   "metadata": {},
   "source": [
    "$$\n",
    "\\int_{-L}^L g(x) dx = 2 \\int_{0}^L g(x) dx.\n",
    "$$"
   ]
  },
  {
   "cell_type": "markdown",
   "id": "86b0e743-cfd9-419a-9b5d-b724dcb2c9c7",
   "metadata": {},
   "source": [
    "Isolamos $P_n$ em (26) de forma que:"
   ]
  },
  {
   "cell_type": "markdown",
   "id": "00c509f5-3e44-4f9a-8a0a-d8ef5de8c47d",
   "metadata": {},
   "source": [
    "$$\n",
    "P_n = \\frac{1}{\\sinh \\left(\\frac{n \\pi a}{b} \\right)}   \\frac{2}{b}\\int_{0}^b f(y) \\sin \\left(\\frac{n \\pi y}{b} \\right) dy. \\tag{27}\n",
    "$$"
   ]
  },
  {
   "cell_type": "markdown",
   "id": "c34f5f2d-53d0-46a3-96a9-e7f1ff39f433",
   "metadata": {},
   "source": [
    "$\\quad$ Com isso, finalmente obtemos a solução para o nosso problema (9). A função $\\Phi(x,y)$ é na forma:"
   ]
  },
  {
   "cell_type": "markdown",
   "id": "c83d590a-9c54-4ad9-bd14-052ae5fc3279",
   "metadata": {},
   "source": [
    "$$\n",
    "\\Phi(x,y) = \\sum_{n=0} ^{\\infty} P_n \\sinh \\left(\\frac{n \\pi x}{b} \\right)\\sin \\left(\\frac{n \\pi y}{b} \\right), \\tag{28}\n",
    "$$"
   ]
  },
  {
   "cell_type": "markdown",
   "id": "51cb219c-c5b1-4ef1-aac4-84c87e2d7abb",
   "metadata": {},
   "source": [
    "com os coeficientes $P_n$ calculados utilizando (27)."
   ]
  },
  {
   "cell_type": "markdown",
   "id": "fa422739-d391-404e-82aa-27135f4a8bc7",
   "metadata": {},
   "source": [
    "#### Exemplo 1"
   ]
  },
  {
   "cell_type": "markdown",
   "id": "a3f13d52-8713-42a7-aef2-afcbd9115171",
   "metadata": {},
   "source": [
    "$\\quad$ Vamos, agora, usar a solução que encontramos anteriormente para resolver um exemplo simples. Na seção seguinte, vamos comparar a solução analítica com a numérica."
   ]
  },
  {
   "cell_type": "markdown",
   "id": "9a89cdcd-d9b4-4c13-acc4-2d7cd5707648",
   "metadata": {},
   "source": [
    "$\\quad$ Consideremos uma caixa quadrada, de lado $L = 1 \\ m$, onde três de suas arestas estão aterradas, ou seja, tem potencial elétrico $V = 0$. Uma das arestas da caixa possui um potencial $V = 10 \\ V$. Dizemos que a aresta com potencial seja a reta definida pelos pontos com coordenadas [$(1,y); \\ 0 <y< 1$]. Calculemos como ocorre a distribuição de potencial no interior da caixa, sabendo que a densidade de cargas em seu interior é nula."
   ]
  },
  {
   "cell_type": "markdown",
   "id": "8e8ea583-2fc1-407d-86ff-2195230754a5",
   "metadata": {},
   "source": [
    "$\\quad$ Esse é um clássico e simples problema que envolve a solução da *Equação de Laplace*. Lembremos que, se em certa região não há densidade de cargas, então o potencial elétrico deve satisfazer a equação (7). Para esse exemplo, a utilização de coordenadas cartesianas é direta e trivial.  "
   ]
  },
  {
   "cell_type": "markdown",
   "id": "638a05eb-82cf-41e3-880a-bb293911b46f",
   "metadata": {},
   "source": [
    "$\\quad$ Podemos resolver nosso problema rapidamente, utilizando o mesmo desenvolvimento anterior. Note que as condições de contorno do problema se assemelham muito com (8). Se fizermos $f(y) = 10$, obtemos exatamente o que o exemplo sugere. Além disso, $a = b = L = 1$. Substituindo as informações em (27) e (28), a solução para o potencial será:"
   ]
  },
  {
   "cell_type": "markdown",
   "id": "a0be9295-17e4-481b-8555-d35ac5c7b3c7",
   "metadata": {},
   "source": [
    "$$\n",
    "\\begin{aligned}\n",
    "P_n = \\frac{1}{\\sinh \\left(n \\pi \\right)}   2\\int_{0}^1 10 \\cdot \\sin \\left(n \\pi y \\right) dy\n",
    "\\\\\n",
    "\\\\\n",
    "\\Phi(x,y) = \\sum_{n=0} ^{\\infty} P_n \\sinh \\left(n \\pi x \\right)\\sin \\left(n \\pi y \\right)\n",
    "\\end{aligned}\n",
    "\\tag{29}\n",
    "$$"
   ]
  },
  {
   "cell_type": "markdown",
   "id": "f9d80e4b-ba16-4c0a-89ad-558df90bb29b",
   "metadata": {},
   "source": [
    "$\\quad$ Agora, vamos resolver o termo $P_n$, afim de obter uma expressão fechada para o potencial:"
   ]
  },
  {
   "cell_type": "markdown",
   "id": "392f729b-369e-43d2-8263-e4fecbf49ee3",
   "metadata": {},
   "source": [
    "$$\n",
    "P_n = \\frac{20}{\\sinh \\left(n \\pi \\right)} \\frac{-1}{n \\pi} (\\cos (n \\pi y) \\Big|_0^1 \\rightarrow P_n = \\frac{20}{\\sinh \\left(n \\pi \\right)} \\frac{-1}{n \\pi} (\\cos(n \\pi) - 1) = \\frac{20}{\\sinh \\left(n \\pi \\right)} \\frac{1}{n \\pi} (1 - \\cos(n \\pi)).\n",
    "$$"
   ]
  },
  {
   "cell_type": "markdown",
   "id": "2a85fb9f-c301-4297-bdee-5962c85dbaa1",
   "metadata": {},
   "source": [
    "O termo entre parênteses é definitivo para como o termo $P_n$ estará na série. Note que, múltiplos inteiros de $\\pi$ na função cosseno geral apenas dois valores: $1$ e $-1$. Se $n$ é par, $\\cos (n \\pi) = 1$ e o termo inteiro se anula. Porém, se $n$ é ímpar, $\\cos (n \\pi) = -1$ e o termo entre parênteses se torna igual a $2$. Então, podemos escrever nossa solução inteira apenas com termos ímpares, de forma que:"
   ]
  },
  {
   "cell_type": "markdown",
   "id": "0d5be7f0-8457-40e8-b056-99237ed0efd8",
   "metadata": {},
   "source": [
    "$$\n",
    "P_n = \\frac{40}{\\sinh \\left((2n+1) \\pi \\right)} \\frac{1}{(2n+1) \\pi} \\rightarrow \\phi(x,y) = \\sum_{n=0} ^{\\infty}\\frac{40}{\\sinh \\left((2n+1) \\pi \\right)} \\frac{1}{(2n+1) \\pi} \\sinh \\left((2n+1) \\pi x \\right)\\sin \\left((2n+1) \\pi y \\right) \\tag{30}\n",
    "$$"
   ]
  },
  {
   "cell_type": "markdown",
   "id": "2913d871-7cef-4470-8df8-2cc93fadf556",
   "metadata": {},
   "source": [
    "$\\quad$ A forma encontrada em (30) representa a solução do nosso problema. Vemos que se trata de uma série bem complicada. Infelizmente, ela não pode ser escrita em termos de funções elementares simples. Sendo assim, nossa solução para esse problema chega ao fim."
   ]
  },
  {
   "cell_type": "markdown",
   "id": "50fa4b1f-7830-49fc-94fb-799b893397cc",
   "metadata": {},
   "source": [
    "### Coordenas polares"
   ]
  },
  {
   "cell_type": "markdown",
   "id": "b22eebc3-e531-46f9-a5dd-1cb323778b3e",
   "metadata": {},
   "source": [
    "$\\quad$ Agora que trabalhamos de maneira bem delicada para um caso cartesiano, podemos usar muitos dos resultados e técnicas adquiridas para resolver a *Equação de Laplace*, agora em coordenadas polares. Podemos reescrever a equação (7) como um potencial $\\phi$ agora dependente das variáveis polares $r$ e $\\theta$. Além disso, vamos estabelecer a região onde o problema está sendo calculado e as condições de contorno."
   ]
  },
  {
   "cell_type": "markdown",
   "id": "55baccbb-e9d4-442b-a8b3-1dc61b15a4b2",
   "metadata": {},
   "source": [
    "$\\quad$ A nossa função, $\\phi$, a qual resolveremos o nosso problema, é finita e está bem definida em um disco de raio $a$. Assim, o nosso intervalo de variação das variáveis é: $r < a$ e $0 \\leq \\theta < 2\\pi$. Lembremos que $r \\in \\mathbb{R}_+^*.$ Além disso, queremos que nossa função seja periódica em $\\theta$, com um período de $2 \\pi$ e que na borda do disco, o potencial obedeça à função dependente de $\\theta$. Queremos dizer que: "
   ]
  },
  {
   "cell_type": "markdown",
   "id": "ecbf5898-622a-4832-ba42-7b070a6517d5",
   "metadata": {},
   "source": [
    "$$\n",
    "\\begin{aligned}\n",
    "\\phi(r, \\theta) = \\phi(r, \\theta +2\\pi)\n",
    "\\\\\n",
    "\\phi(a,\\theta) = f(\\theta) \\quad \\quad\n",
    "\\end{aligned}\n",
    "\\quad, \\tag{31}\n",
    "$$"
   ]
  },
  {
   "cell_type": "markdown",
   "id": "c6632e03-3eed-4d83-a297-5e99e206d8d8",
   "metadata": {},
   "source": [
    "$\\quad$ Agora, vamos partir para a análise da forma da solução. Lembremos também da expressão (5) e adaptemos, de forma a obter:"
   ]
  },
  {
   "cell_type": "markdown",
   "id": "91b4aec9-e66e-4fcf-a47e-44038d87bed6",
   "metadata": {},
   "source": [
    "$$\n",
    "\\nabla^2 \\phi(r,\\theta) = 0 \\rightarrow \\frac{1}{r} \\frac{\\partial}{\\partial r} \\left(r\\frac{\\partial \\phi}{\\partial r} \\right) + \\frac{1}{r^2} \\frac{\\partial ^2 \\phi}{\\partial \\theta^2} = 0. \\tag{32}\n",
    "$$"
   ]
  },
  {
   "cell_type": "markdown",
   "id": "4d345586-c24e-4d38-b905-b4d5e4635401",
   "metadata": {},
   "source": [
    "$\\quad$ Para resolver (32), vamos utilizar a técnica de variáveis separadas, explorada anteriormente. Assim, impomos que $\\phi(r,\\theta) = R(r)\\Theta(\\theta)$. Dessa forma, reescrevemos a expressão anterior em termos das novas funções e suas derivadas totais. Com algumas outras operações, escrevemos:"
   ]
  },
  {
   "cell_type": "markdown",
   "id": "7212d30f-378e-456f-a2a6-dbb097567858",
   "metadata": {},
   "source": [
    "$$\n",
    "\\frac{r}{R}\\frac{d}{dr}\\left(r\\frac{dR}{dr} \\right) + \\frac{1}{\\Theta}\\frac{d^2\\Theta}{d\\theta^2} = 0. \\tag{33}\n",
    "$$"
   ]
  },
  {
   "cell_type": "markdown",
   "id": "e44a3210-0bd1-4bd7-97d5-6a3f7bdc4ce9",
   "metadata": {},
   "source": [
    "$\\quad$ Assim como para o caso cartesiano, notamos um termo com dependência apenas de uma variável, e outro termo com dependência na outra. Dessa forma, podemos fazer:"
   ]
  },
  {
   "cell_type": "markdown",
   "id": "2f45d3c9-9e8e-4bad-be00-da579c2edce6",
   "metadata": {},
   "source": [
    "$$\n",
    "\\frac{r}{R}\\frac{d}{dr}\\left(r\\frac{dR}{dr} \\right) = k^2 \\quad ; \\quad \\frac{1}{\\Theta}\\frac{d^2\\Theta}{d\\theta^2} = -k^2. \\tag{33}\n",
    "$$"
   ]
  },
  {
   "cell_type": "markdown",
   "id": "20e1a569-f357-423b-a413-a45e2a9c54af",
   "metadata": {},
   "source": [
    "$\\quad$ Em (33), a equação na variável $\\theta$ é bem simples e se assemelha muito a uma das soluções encontradas também para o caso cartesiano. Teremos então que:"
   ]
  },
  {
   "cell_type": "markdown",
   "id": "823ddfb7-f7d2-47fc-8093-ba313fc499e5",
   "metadata": {},
   "source": [
    "$$\n",
    "\\Theta(\\theta) = A\\cos(k\\theta) + B\\sin(k\\theta). \\tag{34}\n",
    "$$"
   ]
  },
  {
   "cell_type": "markdown",
   "id": "f20b3fb1-36be-4f73-9cc7-ce350a0d7817",
   "metadata": {},
   "source": [
    "Entretanto, para que as condições sobre periodicidade descritas em (31) sejam válidas, é necessário que $k \\in \\mathbb{N}$. Troquemos a variável $k$ por $n$, para relembrar a notação adotada anteriormente. Para cada valor de $n$, teremos uma solução. Dessa forma, (34) se transforma:"
   ]
  },
  {
   "cell_type": "markdown",
   "id": "765bf9d6-7029-486d-acd3-31b0d26f6b6d",
   "metadata": {},
   "source": [
    "$$\n",
    "\\Theta_n (\\theta) = A_n \\cos(n\\theta) + B_n\\sin(n\\theta), \\tag{35}\n",
    "$$"
   ]
  },
  {
   "cell_type": "markdown",
   "id": "111ad53c-7c9b-43e9-9791-1ac144a5337b",
   "metadata": {},
   "source": [
    "onde as constantes $A_n$ e $B_n$ serão discutidas posteriormente."
   ]
  },
  {
   "cell_type": "markdown",
   "id": "d3d85322-d2a6-454b-a117-b0c4c9b3071d",
   "metadata": {},
   "source": [
    "$\\quad$ A equação em relação à variável $r$ é conhecida como equação de Cauchy ou Euler. Suas soluções são do tipo $r^n$ ou $r^{-n}$. Dessa forma, para cada $n$ inteiro, teremos uma solução na forma:"
   ]
  },
  {
   "cell_type": "markdown",
   "id": "777b1135-7440-4649-af3c-2634f7a68e13",
   "metadata": {},
   "source": [
    "$$\n",
    "R_n(r) = C_n r^n + \\frac{D_n}{r^n}, \\tag{36}\n",
    "$$"
   ]
  },
  {
   "cell_type": "markdown",
   "id": "a15c7ca5-920e-48e8-84f3-e2d4010ec011",
   "metadata": {},
   "source": [
    "em que $C_n$ e $D_n$ são constantes. Quando $n = 0$, a solução se torna $R(r) = \\ln(r)$ ou $R(r)$ = constante. Porém, as condições no nosso problema definem que a função potencial deve ser limitada no círculo, não podendo haver divergências. Dessa forma, as soluções que envolvem o logaritmo são descartadas e teremos que $D_n = 0$ em (36)."
   ]
  },
  {
   "cell_type": "markdown",
   "id": "80d53fee-95c4-4165-a92d-2f80b6652156",
   "metadata": {},
   "source": [
    "$\\quad$ Agora, em posse das funções individuais, finalmente obtemos uma solução n-ésima para a equação (32). Assim como fizemos para um caso cartesiano, uma combinação linear das soluções também é uma solução. Dessa forma, teremos:"
   ]
  },
  {
   "cell_type": "markdown",
   "id": "c515aaa0-6483-4ba2-9247-940a9f21835f",
   "metadata": {},
   "source": [
    "$$\n",
    "\\phi(r,\\theta) = \\frac{S_0}{2} + \\sum_{n=1}^N r^n \\left(P_n\\cos(n\\theta) + Q_n\\sin(n\\theta)     \\right). \\tag{37}\n",
    "$$"
   ]
  },
  {
   "cell_type": "markdown",
   "id": "8af483c2-27bd-452d-8791-431105b9441f",
   "metadata": {},
   "source": [
    "$\\quad$ Para que respeitemos a condição de contorno, fazemos $N \\rightarrow \\infty$ e descrevemos a função para $r = a$ como uma Série de Fourier, de forma que:"
   ]
  },
  {
   "cell_type": "markdown",
   "id": "89c924cd-ab90-4b74-9cf3-d9c711e8d773",
   "metadata": {},
   "source": [
    "$$\n",
    "\\phi(a,\\theta) = \\frac{S_0}{2} + \\sum_{n=1}^{\\infty} a^n \\left(P_n\\cos(n\\theta) + Q_n\\sin(n\\theta)\\right) = f(\\theta). \\tag{38}\n",
    "$$"
   ]
  },
  {
   "cell_type": "markdown",
   "id": "40971111-a9d2-46cd-96f4-55d24f7a4473",
   "metadata": {},
   "source": [
    "$\\quad$ Utilizando as mesmas considerações feitas para o caso cartesiano, os coeficientes dessa Série de Fourier serão calculados de maneira análoga à análise anterior. Os resultados serão:"
   ]
  },
  {
   "cell_type": "markdown",
   "id": "76b1b70b-e5e3-4543-aa28-389974e92b6f",
   "metadata": {},
   "source": [
    "$$\n",
    "\\begin{aligned}\n",
    "a^n P_n = \\frac{1}{\\pi}\\int_0^{2 \\pi} f(\\theta) \\cos(n\\theta) d\\theta \\rightarrow P_n = \\frac{ a^{-n}}{\\pi}\\int_0^{2 \\pi} f(\\theta) \\cos(n\\theta) d\\theta\n",
    "\\\\\n",
    "\\\\\n",
    "a^nQ_n = \\frac{1}{\\pi}\\int_0^{2 \\pi} f(\\theta) \\sin(n\\theta) d\\theta \\rightarrow Q_n = \\frac{ a^{-n}}{\\pi}\\int_0^{2 \\pi} f(\\theta) \\sin(n\\theta) d\\theta\n",
    "\\\\\n",
    "\\\\\n",
    "S_0 =  \\frac{1}{\\pi}\\int_0^{2 \\pi} f(\\theta) d\\theta \\quad \\quad\\quad \\quad\\quad \\quad\\quad \\quad\\quad \\quad\n",
    "\\end{aligned}\n",
    "\\quad \\quad. \\tag{39}\n",
    "$$"
   ]
  },
  {
   "cell_type": "markdown",
   "id": "473dcc69-3f75-4408-82df-a81b7b726bc3",
   "metadata": {},
   "source": [
    "$\\quad$ Assim, finalmente obtemos uma solução para a *Equação de Laplaca* em coordenadas polares, apresentada em (32), com as devidas condições de contorno expressas em (31). A solução é:"
   ]
  },
  {
   "cell_type": "markdown",
   "id": "5b8a3325-7dff-4ecb-9dbf-d2d261579453",
   "metadata": {},
   "source": [
    "$$\n",
    "\\phi(r,\\theta) = \\frac{S_0}{2} + \\sum_{n=1}^{\\infty} r^n \\left(P_n\\cos(n\\theta) + Q_n\\sin(n\\theta)\\right), \\tag{40}\n",
    "$$"
   ]
  },
  {
   "cell_type": "markdown",
   "id": "0d23ddbf-b20f-40d8-a2e0-e1600458286a",
   "metadata": {},
   "source": [
    "com os coeficientes $P_n$, $Q_n$ e $S_0$ calculados com base em (39)."
   ]
  },
  {
   "cell_type": "markdown",
   "id": "8e2089b1-9e82-46fd-9667-bb963ea5208b",
   "metadata": {},
   "source": [
    "#### Exemplo 2"
   ]
  },
  {
   "cell_type": "markdown",
   "id": "42abfbd6-65d3-4a25-b756-7f9ace57d0c8",
   "metadata": {},
   "source": [
    "$\\quad$ Assim como fizemos para as coordenadas cartesianas, vamos utilizar a solução que acabamos de encontrar e aplicar em um exemplo simples. "
   ]
  },
  {
   "cell_type": "markdown",
   "id": "b5790d5c-7506-4d5a-8135-c2ef1cfb07aa",
   "metadata": {},
   "source": [
    "$\\quad$ Considere um cilindro condutor muito longo de raio $r = 1 \\ m$. Faremos uma divisão imaginária ao meio do cilindro e consideramos que uma metade permanecerá em um potencial fixo $V_1 = 3 \\ V$ e a outra metade permanecerá em um potencial fixo $V_2 = -3 \\ V$. Como o cilindro é muito longo, o resultado é simétrico durante toda a sua extensão, portanto, podemos trabalhar apenas com uma seção do mesmo. Assim, reduzimos nosso problema a trabalhar em um círculo de raio unitário. Calculemos como se dá a distribuição de potencial no interior do cilindro."
   ]
  },
  {
   "cell_type": "markdown",
   "id": "72abf6c5-c4c0-4572-84c1-655249596ad4",
   "metadata": {},
   "source": [
    "$\\quad$ Vamos considerar que o potencial tem periodicidade com um período igual a $2 \\pi$, assim como em (31). Além disso, representamos a função da condição de contorno como:"
   ]
  },
  {
   "cell_type": "markdown",
   "id": "e7526b4b-fad7-4f61-a5f1-ca677b6ff931",
   "metadata": {},
   "source": [
    "$$\n",
    "f(\\theta) =\n",
    "\\begin{cases}\n",
    "3, & 0 < \\theta < \\pi, \\\\\n",
    "-3, & \\pi < \\theta < 2\\pi.\n",
    "\\end{cases}\n",
    "\\tag{41}\n",
    "$$\n"
   ]
  },
  {
   "cell_type": "markdown",
   "id": "8e98f6f9-3c81-4d0a-8888-6bf2526a4b59",
   "metadata": {},
   "source": [
    "$\\quad$ Note que, a função é ímpar, já que garantimos a periodicidade do potencial e, consequentemente, da função. Assim, os termos $S_0$ e $P_n$ de (39) são nulos. Logo, nossa solução para o potencial será:"
   ]
  },
  {
   "cell_type": "markdown",
   "id": "81449f1e-9734-4ef2-8afd-7c3979528ac5",
   "metadata": {},
   "source": [
    "$$\n",
    "\\begin{aligned}\n",
    "\\phi(r,\\theta) = \\sum_{n=1}^{\\infty} r^n Q_n\\sin(n\\theta)\n",
    "\\\\\n",
    "\\\\\n",
    "Q_n = \\frac{1}{\\pi}\\int_0^{2 \\pi} f(\\theta) \\sin(n\\theta) d\\theta\n",
    "\\end{aligned}\n",
    "\\quad \\quad ,\n",
    "\\tag{42}\n",
    "$$"
   ]
  },
  {
   "cell_type": "markdown",
   "id": "b2cde2f1-1cb5-42f4-a55d-6a461884408f",
   "metadata": {},
   "source": [
    "$\\quad$ Aplicando a função $f$ em (42), calculamos nosso coeficiente de forma a obter toda a solução:"
   ]
  },
  {
   "cell_type": "markdown",
   "id": "a7ae156e-8182-4cb5-aac2-b318e8c5c0b0",
   "metadata": {},
   "source": [
    "$$\n",
    "\\begin{aligned}\n",
    "Q_n = \\frac{1}{\\pi}\\left(\\int_0^{\\pi} 3 \\sin(n\\theta) d\\theta + \\int_\\pi^{2\\pi} (-3) \\sin(n\\theta) d\\theta \\right) =  \\frac{3}{n \\pi}\\left(-\\cos(n\\theta) \\Big|_0^{\\pi} + \\cos(n\\theta) \\Big|_{\\pi}^{2 \\pi} \\right) \\qquad \\therefore\n",
    "\\\\\n",
    "\\\\\n",
    "Q_n = \\frac{3}{n \\pi} ((-\\cos(n\\pi) + 1) + (1 - \\cos(n \\pi)) = \\left(\\frac{3}{n \\pi}\\right) 2 (1 - \\cos(n\\pi)) \\qquad \\qquad \\qquad\n",
    "\\end{aligned}\n",
    "\\qquad \\qquad . \\tag{43}\n",
    "$$"
   ]
  },
  {
   "cell_type": "markdown",
   "id": "e681a6f6-75df-43f8-9935-7b2b74768af2",
   "metadata": {},
   "source": [
    "$\\quad$ O último termo entre parênteses é definitivo na definição do valor do nosso coeficiente. O cosseno de múltiplos inteiros de $\\pi$ só tem duas possibilidades de valores: se $n$ é par, $\\cos(n\\theta) = 1$. Assim sendo, todo o termo se anula; se $n$ é ímpar, $\\cos(n\\theta) = -1$. Com isso, o último termo em parênteses de (43) se iguala a $2$. Dessa forma, teremos apenas resultados para quando $n$ for ímpar, de forma que:"
   ]
  },
  {
   "cell_type": "markdown",
   "id": "c091917d-cb9d-4b43-aae9-9ca9b848445e",
   "metadata": {},
   "source": [
    "$$\n",
    "Q_n = \\frac{12}{(2n+1)\\pi}. \\tag{44}\n",
    "$$"
   ]
  },
  {
   "cell_type": "markdown",
   "id": "51f71f0d-40bf-4606-ac6a-a2fc69a26e1e",
   "metadata": {},
   "source": [
    "$\\quad$ Finalmente, subtituímos (44) em (42) para obtermos:"
   ]
  },
  {
   "cell_type": "markdown",
   "id": "cd5b2fe0-d24e-41e1-9a6e-d763029810d5",
   "metadata": {},
   "source": [
    "$$\n",
    "\\phi(r,\\theta) = \\frac{12}{\\pi} \\sum_{n=0}^{\\infty} \\frac{1}{(2n+1)}r^{2n+1} \\sin((2n+1)\\theta). \\tag{45}\n",
    "$$"
   ]
  },
  {
   "cell_type": "markdown",
   "id": "123c2f3e-635e-41a9-ace7-d5d018be97c4",
   "metadata": {},
   "source": [
    "$\\quad$ Essa é a função potencial que estávamos buscando. De acordo com [3], a expressão (45) é conhecida em termos de funções elementares. Assim, podemos expressar nosso potencial elétrico de maneira simples como:"
   ]
  },
  {
   "cell_type": "markdown",
   "id": "87cedbe1-e95e-4f20-a51a-bce22b19fe4c",
   "metadata": {},
   "source": [
    "$$\n",
    "\\phi(r,\\theta) = \\frac{6}{\\pi}tan^{-1}\\left(\\frac{2r\\sin\\theta}{1 - r^2} \\right). \\tag{46}\n",
    "$$"
   ]
  },
  {
   "cell_type": "markdown",
   "id": "7ce3afa3-d9e6-41d0-a9bb-2584927fddec",
   "metadata": {},
   "source": [
    "$\\quad$ Finalmente, encontramos uma expressão para nosso potencial que resolve a equação (32) para as devidas condições de contorno. Dessa forma, nossa análise analítica chega ao fim."
   ]
  },
  {
   "cell_type": "markdown",
   "id": "42f3c042-c497-4316-85d1-484bf1046bad",
   "metadata": {},
   "source": [
    "$\\quad$ Ao final dessa análise analítica, o leitor deve notar que, se mudarmos as condições de contornos em (8) e (31), as soluções encontradas em (28) e (46) mudariam completamente. Além disso, ao compararmos essas expressões, vemos que o sistema de coordenadas é fundamental para como a solução irá se apresentar. A seguir, iremos comparar nossos resultados analíticos com simulações envolvendo códigos numéricos para a solução."
   ]
  },
  {
   "cell_type": "markdown",
   "id": "2a7b1d6b-d386-4b7f-a364-3f6455381c33",
   "metadata": {},
   "source": [
    "## Soluções numéricas"
   ]
  },
  {
   "cell_type": "markdown",
   "id": "40dc532b-7a92-4c24-9ae3-e5026bff9dfd",
   "metadata": {},
   "source": [
    "#### Coordenadas cartesianas - Exemplo 1"
   ]
  },
  {
   "cell_type": "markdown",
   "id": "0b6110fb-2db8-42d9-9fce-ef295ad5c18d",
   "metadata": {},
   "source": [
    "$\\quad$ Vamos partir para uma abordagem computacional do nosso problema. Iremos utilizar os métodos para resolver equações diferenciais parciais descritos no livro do Mark Newman[1]. Primeiro, tratemos do caso cartesiano, discutido no exemplo 1. Utilizamos o método das diferenças centradas:"
   ]
  },
  {
   "cell_type": "markdown",
   "id": "ff16dc39-f862-4d8c-888d-8f8264ab9d72",
   "metadata": {},
   "source": [
    "$$\n",
    "\\frac{\\partial \\Phi(x,y)}{\\partial x} = \\frac{\\Phi(x+ h/2,y) - \\Phi(x - h/2,y)}{h},\n",
    "\\tag{47}\n",
    "$$"
   ]
  },
  {
   "cell_type": "markdown",
   "id": "9dd3f03c-2d64-4ef1-9c8e-82b4a2fa3ab2",
   "metadata": {},
   "source": [
    "onde $h$ representa uma separação espacial pequena, de forma que essa aproximação numérica se aproxime do valor analítico para a derivada analítica."
   ]
  },
  {
   "cell_type": "markdown",
   "id": "7e9b78e7-79d2-4489-b969-2c36f74995ba",
   "metadata": {},
   "source": [
    " $\\quad$ Como queremos calcular derivadas parciais segundas, usamos a aproximação duas vezes. Além disso, buscamos resolver (7), e precisamos fazer o mesmo procedimento para a variável $y$. Após as devidas operações, conseguimos obter:"
   ]
  },
  {
   "cell_type": "markdown",
   "id": "e7ecea7f-6fe8-420b-aeba-5590d28fba3b",
   "metadata": {},
   "source": [
    "$$\n",
    "\\Phi(x,y) = \\frac{\\Phi(x+h,y) + \\Phi(x-h,y) + \\Phi(x,y+h) + \\Phi(x,y-h)}{4}.\n",
    "\\tag{48}\n",
    "$$"
   ]
  },
  {
   "cell_type": "markdown",
   "id": "5d22e9d2-1fd8-4b33-8a1e-79f03e2ff38e",
   "metadata": {},
   "source": [
    "$\\quad$ Para resolvermos o nosso problema, imaginemos a caixa quadrada descrita no problema. Agora, tornamos as suas dimensões discretas. Assim, tratamos ela como uma malha quadrada, com pontos igualmente espaçados, separados por uma distância $h$. O que (48) nos diz é que o potencial em um determinado ponto é a média dos potenciais vizinhos."
   ]
  },
  {
   "cell_type": "markdown",
   "id": "1b741ea5-56b0-447d-a130-4bd0ed30e14d",
   "metadata": {},
   "source": [
    "$\\quad$ Para obtermos uma solução coerente, calculamos a expressão (48) diversas vezes durante toda a nossa malha, até que tenhamos um desvio muito baixo entre o potencial calculado atual e o obtido em uma iteração anterior. Chamemos o potencial calculado em uma iteração $i$ qualquer como potencial atual e o potencial calculado na iteração $i-1$ como potencial antigo. Ao final, fazemos uma nova malha e transportamos o potencial atual para essa malha nova, e dizemos que agora ele será o potencial antigo. Repetimos o cálculo até o desvio ser muito pequeno. Esse método é conhecido como relaxação."
   ]
  },
  {
   "cell_type": "markdown",
   "id": "c17e3844-4fc2-4875-bc1a-a0a9820252d7",
   "metadata": {},
   "source": [
    "$\\quad$ Entretanto, de modo garantir uma convergência mais rápida, utilizaremos em nosso programa a *sobrerelaxação*. Neste algoritmo, calculamos o desvio entre o potencial atual e o antigo, multiplicamos por uma constante e somamos ao potencial antigo. O resultado dessa operação é passado para a malha nova. O objetivo da sobrerelaxação é dar um impulso a mais na solução, para a buscar a convergência mais rápida, principalmente quando o potencial atual está longe da solução."
   ]
  },
  {
   "cell_type": "markdown",
   "id": "7b9d6dd6-308b-42e0-be20-9dcd85c3fa76",
   "metadata": {},
   "source": [
    "$\\quad$ Além da sobrerelaxação, utilizaremos outro método para melhorar a convergência do cálculo: o método Gauss-Seidel. Ao invés de fazer iterações usando o potencial antigo por toda a malha, e só após percorrermos todos os elementos, transferir os dados calculados para a malhar original, vamos fazer melhor. Agora, em cada ponto da malha, faremos o cálculo e substituiremos instantaneamente na mesma malha. De modo que, o próximo ponto, utilize o valor vizinho já calculado e, por conseguinte, mais próximo da solução. Dessa forma, não precisamos criar malhas adicionais, e o custo de memória será inferior. Se o leitor quiser mais detalhes sobre ambos os métodos, consultar [1]."
   ]
  },
  {
   "cell_type": "markdown",
   "id": "00459668-6a7c-45c2-b439-60778014dc3d",
   "metadata": {},
   "source": [
    "$\\quad$ Agora, vamos para a programação! Vamos resolver o exemplo 1, agora numericamente. Utilizemos os métodos discutidos anteriormente a fim de construir um gráfico mostrando a distribuição do potencial elétrico em uma caixa quadrada, com $1 \\ m$ de lado, com três de suas arestas aterradas, enquanto a aresta da direita tem um potencial fixo $V = 3 \\ V$."
   ]
  },
  {
   "cell_type": "markdown",
   "id": "c1a0daa8-de75-4f5e-ac19-2b709f471028",
   "metadata": {},
   "source": [
    "$\\quad$ Primeiro, vamos discretizar nossa caixa. Vamos dividi-la em uma malha quadrada, de $200 \\times 200$ pontos. Dessa maneira, estamos dizendo que cada ponto da caixa está separado por $5 \\ mm$. Também, vamos definir a constante utilizada para o algoritmo da sobrerelaxação. Empiricamente, verificou-se que o melhor seria para quando ela fosse igual a $1,94$. Além disso, definimos um critério de convergência para o cálculo: quando a maior diferença entre o potencial antigo e o atual em um determinado for inferior a $1\\cdot 10^{-6}$, dizemos que a solução foi encontrada."
   ]
  },
  {
   "cell_type": "code",
   "execution_count": null,
   "id": "8386ec24",
   "metadata": {},
   "outputs": [],
   "source": [
    "#Definição da constante de discretização da caixa, constante da sobrerelaxação e critério de divergência. Note que, não definimos a constante \n",
    "#de separação h, pois aproveitamos o modo como o python processa matrizes para definir a separação da nossa malha.\n",
    "N = 200\n",
    "w = 1.94\n",
    "tol = 1e-6"
   ]
  },
  {
   "cell_type": "code",
   "execution_count": null,
   "id": "55fe5d32",
   "metadata": {},
   "outputs": [],
   "source": [
    "#Inicializando uma malha de potencial em toda a caixa, com dimensões 200x200. Inicialmente, definimos todo o potencial como zero.\n",
    "Phi = np.zeros([N,N])"
   ]
  },
  {
   "cell_type": "code",
   "execution_count": null,
   "id": "f1a1fb3f-4621-45a1-bdfd-32f8d91d52a0",
   "metadata": {},
   "outputs": [],
   "source": [
    "#Aqui, aplicamos a condição de contorno, onde a aresta mais a direita da caixa possui um potencial constante e fixo em V = 10 V.\n",
    "Phi[:,N-1] = 10 "
   ]
  },
  {
   "cell_type": "code",
   "execution_count": null,
   "id": "869f5b66",
   "metadata": {},
   "outputs": [],
   "source": [
    "#Inicializamos uma variável que irá fazer a verificação entre o maior desvio do potencial antigo com o novo. Deixamos ela inicialmente em um valor\n",
    "#alto e arbitrário, afim apenas de fazer entrar no loop condicional.\n",
    "erromax = 1"
   ]
  },
  {
   "cell_type": "code",
   "execution_count": null,
   "id": "fbdef1e5-6e99-4e56-ad53-183a9d3914f8",
   "metadata": {},
   "outputs": [],
   "source": [
    "#Aqui, usamos uma estrutura condicional para controlar a convergência do cálculo. Quando o maior erro entre duas interações seguidas de potencial\n",
    "#for menor que a nossa tolerância, paramos de iterar o código e assumimos o respectivo estado como solução.\n",
    "while (erromax > tol):\n",
    "    #Aqui, colocamos nossa variável de erro máximo igual a 0, para que ela sempre possa receber o maior valor possível dos laços seguintes.\n",
    "    erromax = 0\n",
    "    #Esse é o ponto chave do código. Ele é constituído por dois laços, que atravessam toda a malha do potencial. Para respeitar as condições de \n",
    "    #contorno, note que os índices i e j não iteram nas bordas da caixa. Assim, o contorno da caixa mantém o valor do potencial constante.\n",
    "    for i in range(1,N-1):\n",
    "        for j in range(1,N-1):\n",
    "            #Agora, vamos aplicar o algoritmo da sobrerelaxação. Primeiro, definimos uma variável auxiliar, que calcula o potencial novo com\n",
    "            #base na equação (48).\n",
    "            aux = (Phi[i+1,j] + Phi[i-1,j] + Phi[i,j+1] + Phi[i,j-1])/4\n",
    "            #Calculamos a diferença entre o potencial atual e o antigo.\n",
    "            delta = aux-Phi[i,j]\n",
    "            #Aplicamos a sobrerelaxação, de modo a impulsionar a resposta para mais perto da solução. Além disso, guardamos nosso resultado\n",
    "            #na malha atual de potencial, configurando o método de Gauss-Seidel.\n",
    "            Phi[i,j] = Phi[i,j]+ w*delta\n",
    "            #Calcumos agora o desvio absoluto entre o potencial antigo e atual.\n",
    "            erro = abs(delta)\n",
    "            #Se o desvio para o determinado par ij for maior que o erro máximo atual, então esse desvio se tornará o maior erro.\n",
    "            if erro>erromax:\n",
    "                erromax = erro\n",
    "            #O erro máximo agora é usado para análise da estrutura condicional."
   ]
  },
  {
   "cell_type": "code",
   "execution_count": null,
   "id": "4b6e9ad6",
   "metadata": {},
   "outputs": [],
   "source": [
    "#Aqui, fazemos apenas o gráfico de densidade do potencial utilizando a funão 'imshow' da biblioteca matplotlib.\n",
    "plt.figure(figsize =(8,6))\n",
    "plt.imshow(Phi, extent=[0, 1, 0, 1], origin=\"lower\", cmap=\"plasma\", aspect=\"auto\")\n",
    "plt.colorbar(label = \"Potencial elétrico (V)\" )\n",
    "plt.title(\"Potencial elétrico para o exemplo 1 - Solução numérica\")\n",
    "plt.xlabel(\"x (m)\")\n",
    "plt.ylabel(\"y (m)\")\n",
    "plt.axis(\"scaled\")\n",
    "plt.show()"
   ]
  },
  {
   "cell_type": "markdown",
   "id": "89044e1a-62d8-4ffc-bb2f-d3210dbf6d6f",
   "metadata": {},
   "source": [
    "$\\quad$ Agora que temos a solução numérica, vamos lembrar de (30) e buscar representar a solução analítica como um gráfico de densidade da mesma maneira para a solução numérica, para comparar ambas as soluções. A implementação do código para a solução analítica é muito mais direta que a resolução numérica da *Equação de Laplace*."
   ]
  },
  {
   "cell_type": "code",
   "execution_count": null,
   "id": "4a84f366-4787-4435-b196-a1e6724f53cb",
   "metadata": {},
   "outputs": [],
   "source": [
    "#Vamos definir o número de termos que a Série de Fourier terá. A função seno hiperbólica sobe rapidamente quando aumentamos o valor de 'n'. \n",
    "#Isso é problemático para o computador, mesmo que haja a divisão entre dois deles na nossa solução analítica. Analiticamente, a função potencial\n",
    "#é bem comportada, porém se o nosso número de elementos na Série for muito elevado, o computador apresentará dificuldades de desenvolver essas contas\n",
    "#individualmente, impossibilitando o cálculo. 100 termos nos garante uma boa aproximação e bom trabalho computacional.\n",
    "Nmax = 100  # Número máximo de termos da série"
   ]
  },
  {
   "cell_type": "code",
   "execution_count": null,
   "id": "8db720aa-bd99-41fb-a375-4639472085bf",
   "metadata": {},
   "outputs": [],
   "source": [
    "#Agora, vamos definir o espaço de variação das variáveis x e y. \n",
    "x = np.linspace(0, 1, 200)  # Intervalo para x (de 0 a 1)\n",
    "y = np.linspace(0, 1, 200)  # Intervalo para y (de 0 a 1)"
   ]
  },
  {
   "cell_type": "code",
   "execution_count": null,
   "id": "a1e1ea12-88ad-4138-b460-c4cad629ec41",
   "metadata": {},
   "outputs": [],
   "source": [
    "#Aqui, utilizamos a função 'meshgrid' da biblioteca numpy. Ela é conveniente pois, utiliza os vetores definidos anteriormente e o transforma em matrizes,\n",
    "#sendo repetições do vetor original. Isso permite que, ao trabalharmos com funções que percorram pontos nas coordenadas, possam fazê-lo sem necessidades\n",
    "#de laços, que são mais custosos computacionalmente. As matrizes geradas, quando sobrepostas, funcionam como o plano cartesiano.\n",
    "X, Y = np.meshgrid(x, y)  # Cria a grade de valores (X, Y)"
   ]
  },
  {
   "cell_type": "code",
   "execution_count": null,
   "id": "c7395ced-b619-479d-8b25-64d4c98ff7c0",
   "metadata": {},
   "outputs": [],
   "source": [
    "#Agora, definimos nossa função potencial teórica. Ela será uma matriz com o mesmo número de elementos que as matrizes geradas pela função\n",
    "#'meshgrid'.\n",
    "Phiteo = np.zeros_like(X)"
   ]
  },
  {
   "cell_type": "code",
   "execution_count": null,
   "id": "188ebb66-537b-4f3c-9788-bfa31e61ea06",
   "metadata": {},
   "outputs": [],
   "source": [
    "#Aqui, fazemos o laço que irá nos gerar os 100 primeiros termos da Série de Fourier, e portanto, nossa aproximação para a solução analítica.\n",
    "for n in range(Nmax):\n",
    "    #Calculamos o coeficiente de (30) que não depende de x ou y:\n",
    "    cn = (40 / (np.sinh((2 * n + 1) * np.pi))) * (1 / ((2 * n + 1) * np.pi))\n",
    "    #Agora, calculamos o termo que depende apenas de x:\n",
    "    xn = np.sinh((2 * n + 1) * np.pi * X)\n",
    "    #O que depende apenas de y:\n",
    "    yn = np.sin((2 * n + 1) * np.pi * Y)\n",
    "    #E por fim, multiplicamos todos eles, afim de obter cada termo completo da série.\n",
    "    term = cn*xn*yn\n",
    "    #Agora, somamos o resultado a cada iteração, obtendo finalmente a série\n",
    "    Phiteo += term\n",
    "#Graças à função 'meshgrid', o programa atualiza todas as posições do potencial instantaneamente, para todos os valores de x e y."
   ]
  },
  {
   "cell_type": "code",
   "execution_count": null,
   "id": "6630d8c4-d9d9-4b2f-aef0-83dd045b1871",
   "metadata": {},
   "outputs": [],
   "source": [
    "#Agora, faremos o gráfico de densidade do potencial determinado analiticamente usando a função 'contourf' da biblioteca matplotlib. Essa função\n",
    "#é mais interessante que a 'imshow' para esse caso, pois nossa função foi calculada de maneira suavizada e não discretizada, como a função anterior.\n",
    "plt.figure(figsize=(8, 6))\n",
    "plt.contourf(X, Y, Phiteo, levels=100, cmap=\"plasma\", vmax = 10)\n",
    "plt.colorbar(label=\"Potencial elétrico (V)\", ticks=np.linspace(0, 10, num=6))\n",
    "plt.title(\"Potencial elétrico para o exemplo 1 - Solução analítica\")\n",
    "plt.xlabel(\"x (m)\")\n",
    "plt.ylabel(\"y (m)\")\n",
    "plt.axis(\"scaled\")\n",
    "plt.show()"
   ]
  },
  {
   "cell_type": "markdown",
   "id": "b4d99564-2b34-49c5-bde7-6a588db7cf01",
   "metadata": {},
   "source": [
    "$\\quad$ Ao compararmos os resultados dos gráficos de densidade obtidos pela solução numérica e pela aproximação da solução analítica, percebemos que ambas as soluções concordam quase que perfeitamente. A distribuição do potencial se assemelha muito nos dois gráficos. Percebemos no gráfico da solução numérica, resquícios da discretização do espaço. Alguns pequenos quadrados são bem visíveis na imagem. Entretanto, lembramos que estamos usando uma distância muito grande entre os pontos da malha, quando comparada ao que se espera de uma derivada (distância praticamente nula). Se aumentássemos o tamanho da nossa malha, com certeza a distribuição ficaria mais suavizada e teríamos uma aproximação ainda maior. Entretanto, o custo computacional seria alto demais, gastando muito tempo para gerar uma solução."
   ]
  },
  {
   "cell_type": "markdown",
   "id": "55aef98f-8d4e-43c5-a652-349e21de422d",
   "metadata": {},
   "source": [
    "$\\quad$ Além disso, nossa solução analítica foi apenas aproximada. Se quiséssemos obter um gráfico exato, deváamos estender o somatório por todos os naturais (o que é impossível, mesmo para o computador). Assim, até mesmo a condição de contorno parece ter desviado um pouco do proposto pelo problema. Ao visualizar a barra de cores, nos é induzido que existem alguns pontos com potencial maior que $10 \\ V$, o que não seria permitido. Entretanto, a limitação de termos da série com certeza é o fator limitante para essa divergência na solução."
   ]
  },
  {
   "cell_type": "markdown",
   "id": "faf7acf1-e17c-4b27-82cb-25421450d051",
   "metadata": {},
   "source": [
    "#### Coordenadas polares - Exemplo 2"
   ]
  },
  {
   "cell_type": "markdown",
   "id": "57cf5d04-66a4-4618-a0be-5d079d454910",
   "metadata": {},
   "source": [
    "$\\quad$ Vamos agora solucionar numericamente o exemplo 2. Usaremos as mesmas estratégias utilizadas para coordenadas cartesianas. Porém, como o laplaciano é um pouco mais complicado, podemos nos assustar à primeira vista. Usando as fórmulas da diferença centrada em (5), teremos, após algumas boas operações, que:"
   ]
  },
  {
   "cell_type": "markdown",
   "id": "067dbc34-1a72-4091-91c2-4b40ca2db607",
   "metadata": {},
   "source": [
    "$$\n",
    "\\phi(r,\\theta) = \\frac{1}{2\\left( \\frac{1}{\\Delta r^2} + \\frac{1}{r^2 \\Delta \\theta^2}  \\right)} \\left(\\frac{\\phi(r + \\Delta r,\\theta) + \\phi(r - \\Delta r,\\theta))}{\\Delta r^2} + \\frac{\\phi(r + \\Delta r,\\theta) + \\phi(r - \\Delta r,\\theta)}{2r\\Delta r}  + \\frac{\\phi(r, \\theta + \\Delta \\theta) + \\phi(r, \\theta - \\Delta \\theta)}{r^2 \\Delta \\theta^2}        \\right). \\tag{49}\n",
    "$$"
   ]
  },
  {
   "cell_type": "markdown",
   "id": "b62ff6a6-059e-4e32-bd0f-65f15c22b06a",
   "metadata": {},
   "source": [
    "$\\quad$ Na expressão (49), os termos $\\Delta r$ e $\\Delta \\theta$ são as separações de distância das respectivas variáveis com a mesma função de $h$ na equação (48). Porém, tratávamos anteriormente com regiões quadradas e um sistema cartesiano, e podáamos usar o mesmo diferencial para separação em ambos os eixos. Para o caso de coordenadas polares, isso não é permitido."
   ]
  },
  {
   "cell_type": "markdown",
   "id": "40e52fee-41cb-4657-ab38-c5523ceff970",
   "metadata": {},
   "source": [
    "$\\quad$ Para acelerar a convergência, usaremos os mesmos algoritmos discutidos na resolução do exemplo 1. A adaptação para o sistema de coordenadas ao escrever o código não possui muitas complicações. Entretanto, faremos uma malha circular em nosso programa, proporcionando dessa vez uma separação radial e angular entre cada ponto."
   ]
  },
  {
   "cell_type": "markdown",
   "id": "5457a098-feb4-4242-9301-8a62b1108991",
   "metadata": {},
   "source": [
    "$\\quad$ Vamos então calcular a distribuição de potencial elétrico no interior de um círculo de raio $R = 1 \\ m$, onde metade de seu perímetro possui potencial fixo $V_1 = 3 \\ V$ e a outra metade também tem um potencial fixo, porém de sinal contrário, $V_2 = -3 \\ V$. Vamos discretizar nosso sistema com 200 pontos em cada direção da nossa malha circular."
   ]
  },
  {
   "cell_type": "code",
   "execution_count": null,
   "id": "a96fee99-07d5-406e-b435-08890e858592",
   "metadata": {},
   "outputs": [],
   "source": [
    "# Começamos definindo nossa malha circular (ou polar). Defininos nosso raio como a = 1m. Além disso, fazemos a malhar ter quantidade de pontos igual\n",
    "#na direção radial e angular. Colocamos 200 pontos em cada direção. \n",
    "a = 1.0  # Raio máximo\n",
    "N = 150\n",
    "Nr, Ntheta = N,N"
   ]
  },
  {
   "cell_type": "code",
   "execution_count": null,
   "id": "2c113081-06f5-4e99-8247-3c814ae37d08",
   "metadata": {},
   "outputs": [],
   "source": [
    "#Agora, criamos vetores para armazenar o intervalo de variação de nossas grandezas\n",
    "r = np.linspace(0, a, Nr)\n",
    "theta = np.linspace(0, 2 * np.pi, Ntheta)"
   ]
  },
  {
   "cell_type": "code",
   "execution_count": null,
   "id": "bb08a225-8e1e-4df7-b8ef-92988d18c1df",
   "metadata": {},
   "outputs": [],
   "source": [
    "#Aqui, definimos nossos diferenciais, necessários para o cálculo de (49). Ao contrário do caso cartesiano, não podemos nos apoiar no modo\n",
    "#que faremos os laços para percorrer a malhar de forma  definir esses diferenciais.\n",
    "dr = r[1] - r[0]\n",
    "dtheta = theta[1] - theta[0]"
   ]
  },
  {
   "cell_type": "code",
   "execution_count": null,
   "id": "6db3688b-009f-4c18-aa32-d4eb56883f18",
   "metadata": {},
   "outputs": [],
   "source": [
    "#Finalmente, vamos definir nossa malha de potencial em forma polar. Primeiro, iniciamos uma matriz phi com as dimensões radiais e angulares\n",
    "#definidas anteriormente. Deixamos toda a malha com potencial nulo.\n",
    "phi = np.zeros((Nr, Ntheta))"
   ]
  },
  {
   "cell_type": "code",
   "execution_count": null,
   "id": "cc119834-ceeb-479d-afe1-f6f1104a46b8",
   "metadata": {},
   "outputs": [],
   "source": [
    "#Agora, aplicamos as condições de contorno para o potencial.\n",
    "phi[-1, 0:int(Ntheta / 2) + 1] = 3  # Metade da borda externa fixa em 3\n",
    "phi[-1, int(Ntheta / 2):Ntheta] = -3  # Outra metade da borda fixa em -3\n",
    "#Note que, usamos o índice -1 na primeira entrada da matriz potencial. Esse comando nos permite acessar diretamente o último elemento da linha\n",
    "#ou coluna da matriz. Nesse caso, o último elemento representa o raio mais externo do círculo. O modo como essa matriz é feita impõe cada linha\n",
    "#como um raio contante e cada coluna um ângulo constante. Assim, gera desenhos polares perfeitamente."
   ]
  },
  {
   "cell_type": "code",
   "execution_count": null,
   "id": "25478b4b-9862-4294-be96-7165d33473fa",
   "metadata": {},
   "outputs": [],
   "source": [
    "#Aqui, definimos a constante para o critério de convergência, a constante de sobrerelaxação (determinada empiricamente) e o fator de erro máximo\n",
    "#para entrarmos no loop.\n",
    "tol = 1e-6  \n",
    "w = 1.94\n",
    "erromax=10"
   ]
  },
  {
   "cell_type": "code",
   "execution_count": null,
   "id": "22da8da6-e630-4a8f-9dec-d41eb6e080d9",
   "metadata": {},
   "outputs": [],
   "source": [
    "#O laço principal para a solução em coordenadas polares se assemelha muito ao laço de coordenadas cartesianas. Dessa forma, iremos comentar\n",
    "#apenas as diferenças.\n",
    "while erromax > tol:\n",
    "    erromax = 0\n",
    "    for i in range(1, Nr - 1):  \n",
    "        for j in range(Ntheta):  # Percorre as posições em theta. Como o ângulo é periódico, não precisamos impor restrições.\n",
    "            #Agora, definimos os índices anterior e posterior em theta. Faremos essa definição manual afim de preservar as condições\n",
    "            #periódicas para o potencial e para os ângulos.\n",
    "            jm = (j - 1) % Ntheta  # Índice anterior em theta (com condições periódicas)\n",
    "            jp = (j + 1) % Ntheta  # Índice posterior em theta (com condições periódicas)\n",
    "            \n",
    "            # Termos da equação de diferenças finitas no Laplaciano em coordenadas polares:\n",
    "            term_r = (phi[i + 1, j] + phi[i - 1, j]) / dr**2\n",
    "            term_theta = (phi[i, jp] + phi[i, jm]) / (dtheta**2 * r[i]**2)\n",
    "            term_r2 = (phi[i + 1, j] - phi[i - 1, j]) / (2 * dr * r[i])\n",
    "            #Agora, juntamos todos os termos da maneira que a equação (49) impõe. Utilizamos a mesma iteração de sobrerelaxação do caso cartesiano.\n",
    "            aux = (term_r + term_theta + term_r2) / (2 / dr**2 + 2 / (dtheta**2 * r[i]**2))\n",
    "            delta= aux - phi[i, j]\n",
    "            phi[i, j] = phi[i, j] + w * (delta)\n",
    "            erro = abs(delta)\n",
    "            #Se o desvio para o determinado par ij for maior que o erro máximo atual, então esse desvio se tornará o maior erro.\n",
    "            if erro>erromax:\n",
    "                erromax = erro"
   ]
  },
  {
   "cell_type": "code",
   "execution_count": null,
   "id": "35147a45-9886-4185-87e9-8edc834908d5",
   "metadata": {},
   "outputs": [],
   "source": [
    "#Agora, vamos usar a função 'meshgrid', mostrada anteriormente para transformar os parâmetro de raio e ângulo em função de coordenadas cartesianas\n",
    "#x e y, para que nosso gráfico se apresente de maneira circular, como pretendemos.\n",
    "R, THETA = np.meshgrid(r, theta, indexing='ij') #O parâmetro \"indexing = 'ij\" é utilizado para capturar as informações usando a convenção de índice de\n",
    "#matriz. As linhas correspondem ao primeiro eixo(r) e as colunas o segundo (theta), assim como fizemos para definir a matriz do potencial"
   ]
  },
  {
   "cell_type": "code",
   "execution_count": null,
   "id": "fb4458bf-85fd-44ea-9bba-fa4552a26be8",
   "metadata": {},
   "outputs": [],
   "source": [
    "#Agora, usamos as transformações em (4) para obtermos as coordenadas cartesianas em função de grandezas polares. \n",
    "X, Y = R * np.cos(THETA), R * np.sin(THETA)"
   ]
  },
  {
   "cell_type": "code",
   "execution_count": null,
   "id": "f2adfc9f-9d43-4f2e-8a71-1c9dd0cfa07f",
   "metadata": {},
   "outputs": [],
   "source": [
    "#Aqui, usamos a função 'contourf' para gerar o gráfico de densidade do potencial, sendo a solução numérica do exemplo 2. Usaremos ela ao invés\n",
    "#de 'imshow' pois a distribuição para esse exemplo se mostrou muito suave, sendo melhor aproveitado esteticamente por essa função.\n",
    "plt.figure(figsize=(8, 6))\n",
    "plt.contourf(X, Y, phi, levels=100, cmap=\"plasma\")\n",
    "plt.colorbar(label=\"Potencial elétrico (V)\", ticks=np.linspace(-3, 3, num=6))\n",
    "plt.xlabel(\"x (m)\")\n",
    "plt.ylabel(\"y (m)\")\n",
    "plt.title(\"Potencial elétrico para o exemplo 2 - Solução numérica\")\n",
    "plt.axis(\"equal\")\n",
    "plt.show()"
   ]
  },
  {
   "cell_type": "markdown",
   "id": "025f7ea3-aa0c-4105-9c5e-aadbc448435a",
   "metadata": {},
   "source": [
    "$\\quad$ Com a solução numérica em mãos, vamos utilizar (46) para gerar um gráfico de densidade da solução analítica. Como a solução foi dada em termos de funções elementares, nossa distribuição de potencial obtida será a solução mais precisa possível."
   ]
  },
  {
   "cell_type": "code",
   "execution_count": null,
   "id": "430e9585-1ec2-4f39-af96-aa07a7dda5b0",
   "metadata": {},
   "outputs": [],
   "source": [
    "#Primeiro, vamos aproveitar os vetores r e theta definidos anteriormente, e vamos usá-los como base para gerar matrizes que representam\n",
    "#os eixos das coordenadas polares. Fazemos isso para trabalhar com as funções em cada par ordenado de raio e ângulo, sem necessidade de laços.\n",
    "RHO, PHI = np.meshgrid(r, theta, indexing='ij')"
   ]
  },
  {
   "cell_type": "code",
   "execution_count": null,
   "id": "6d84c5b5-0ac7-48d7-b865-1d138c65122a",
   "metadata": {},
   "outputs": [],
   "source": [
    "#Agora, substituimos na nossa expressão (46) e calculamos a distruibuição aumaticamente para toda a grade de valores\n",
    "phi_teo = (6/ np.pi) * np.arctan2(2 * RHO * np.sin(PHI), 1 - RHO**2)"
   ]
  },
  {
   "cell_type": "code",
   "execution_count": null,
   "id": "be9adc1b-b7b7-42e6-a5a8-947c10a3c04b",
   "metadata": {},
   "outputs": [],
   "source": [
    "# Conversão para coordenadas cartesianas, afim de deixar o gráfico com a distribuição circular.\n",
    "X = RHO * np.cos(PHI)\n",
    "Y = RHO * np.sin(PHI)"
   ]
  },
  {
   "cell_type": "code",
   "execution_count": null,
   "id": "f119024f-b27d-4f10-a77e-cc7a77355c6d",
   "metadata": {},
   "outputs": [],
   "source": [
    "# Plot do gráfico de densidade, usando 'contourf' novamente.\n",
    "plt.figure(figsize=(8, 6))\n",
    "plt.contourf(X, Y, phi_teo, levels=100, cmap=\"plasma\")\n",
    "plt.colorbar(label= \"Potencial elétrico (V)\", ticks=np.linspace(-3, 3, num=6))\n",
    "plt.xlabel(\"x (m)\")\n",
    "plt.ylabel(\"y (m)\")\n",
    "plt.axis(\"equal\")\n",
    "plt.title(\"Potencial elétrico para o exemplo 2 - Solução analítica\")\n",
    "plt.show()"
   ]
  },
  {
   "cell_type": "markdown",
   "id": "fe88d07e-821b-4972-aa5f-8fd0950cbfd2",
   "metadata": {},
   "source": [
    "$\\quad$ Comparando os gráficos obtidos, vemos que a distribuição de potencial para os dois casos se assemelhou profundamente. Na solução numérica, percebemos que na divisão horizontal que separa o círculo em duas metades, há regiões de transição mais abrupta de potencial. Por outro lado, na solução analítica, em todo o domínio, as transições foram suaves. Talvez essa tenha sido a maior diferença entre os resultados. Possivelmente, se aumentássemos a nossa malhar e fizéssemos a tolerância ser menor ainda, a transição na solução numérica seria totalmente suavizada. Entretanto, seria muito custoso computacionalmente."
   ]
  },
  {
   "cell_type": "markdown",
   "id": "7be65fda-bad0-44c5-9fd8-bf028d7be73e",
   "metadata": {},
   "source": [
    "## Conclusão"
   ]
  },
  {
   "cell_type": "markdown",
   "id": "d9bf75e4-26a3-489e-91d0-0b488579e6fb",
   "metadata": {},
   "source": [
    "$\\quad$ Esse `Notebook` buscou explorar a *Equação de Laplace* aplicada à eletrostática, mostrando maneiras de resolvê-la a depender das condições de contorno e dos sistemas de coordenadas. Fizemos exemplos para ilustrar a resolução de problemas tratados de maneira bidimensional e obtivemos soluções analíticas bem fechadas para esses exemplos. Além disso, utilizamos técnicas de cálculo numérico para gerar soluções dos mesmos exemplos, a partir de aproximações de derivadas. Notamos que o sistema de coordenadas também influenciava na maneira como as malhas de potencial eram geradas. "
   ]
  },
  {
   "cell_type": "markdown",
   "id": "1fff4f4e-fbc6-4e20-8568-057953c27653",
   "metadata": {},
   "source": [
    "$\\quad$ Posteriormente, geramos gráficos para retratar a distribuição de potencial a partir das soluções analíticas. Ao compararmos os resultados, notamos que as soluções concordam entre si. Ambas as distribuições de cada exemplo se assemelhasseem fielmente. Com isso, concluímos que o objetivo do    `Notebook` foi alcançado com êxito. "
   ]
  },
  {
   "cell_type": "markdown",
   "id": "fa7e7b5c-ae8a-4475-a647-cdb8bd1fcd58",
   "metadata": {},
   "source": [
    "## Referências"
   ]
  },
  {
   "cell_type": "markdown",
   "id": "60040b0b-485f-4441-a5b5-57c0234872a4",
   "metadata": {},
   "source": [
    "[1] = Newman, Mark. 2013. Computational Physics. 1 ed.\n",
    "\n",
    "[2] = Arfken, George; Weber, Hans; Harris, Frank. 2013. Mathematical Methods for Physicists. 7 ed.\n",
    "\n",
    "[3]=  Russman, Felipe. 2019. Teoria Eletromagnética I.\n",
    "\n",
    "[4] = Guidorizzi, Hamilton. 2002. Um curso de cálculo. Vol. 4. 5 ed.\n",
    "\n",
    "[5] = Boyce, William; DiPrima, Richard. 2006. Equações Diferenciais Elementares e Problemas de Valores de Contorno. 8 ed."
   ]
  }
 ],
 "metadata": {
  "kernelspec": {
   "display_name": "Python [conda env:base] *",
   "language": "python",
   "name": "conda-base-py"
  },
  "language_info": {
   "codemirror_mode": {
    "name": "ipython",
    "version": 3
   },
   "file_extension": ".py",
   "mimetype": "text/x-python",
   "name": "python",
   "nbconvert_exporter": "python",
   "pygments_lexer": "ipython3",
   "version": "3.12.7"
  }
 },
 "nbformat": 4,
 "nbformat_minor": 5
}
