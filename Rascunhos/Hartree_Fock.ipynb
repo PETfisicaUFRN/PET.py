{
 "cells": [
  {
   "cell_type": "markdown",
   "id": "4c98bca1-f998-4315-acc6-9b58308772b4",
   "metadata": {},
   "source": [
    "# Método de Hartree-Fock"
   ]
  },
  {
   "cell_type": "markdown",
   "id": "bec5c3af-13f9-4f1f-bbbf-ef7ae354fd39",
   "metadata": {},
   "source": [
    "* PET - Física UFRN\n",
    "* Petianos: Bruno Ramos Galindo, José Arthur de Luna Oliveira e Tiago Pernambuco Toledo de Macêdo\n",
    "* Data: "
   ]
  },
  {
   "cell_type": "markdown",
   "id": "dee336ad-bed8-44c0-a466-d19071825155",
   "metadata": {},
   "source": [
    "Este `Notebook` possui as seguinte seções:\n",
    "\n",
    "*  Introdução;\n",
    "*  Operadores;\n",
    "*  Aplicando Computacionalmente;\n",
    "*  Conclusão;\n",
    "*  Apêndice A."
   ]
  },
  {
   "cell_type": "markdown",
   "id": "326556f6-813a-4838-bae5-37650f856427",
   "metadata": {},
   "source": [
    "## 1. Introdução"
   ]
  },
  {
   "cell_type": "markdown",
   "id": "0008a41d-0900-479c-8634-7a0fb9673f04",
   "metadata": {},
   "source": [
    "$\\quad$ No estudo de corpos macroscópicos, estudamos o movimento desses corpos e as causas do movimento aplicando a Mecânica Clássica. Todavia, ao aplicar fundamentos da Mecânica Clássica na perspectiva microscópica, não obteremos o resultado correto, para tal ponto de vista é necessário outro ramo da física, a chamada Mecânica Quântica. Esta, por sua vez, é o ramo da física responsável por detalhar uma descrição matemática do comportamento dos elétrons e consequentemente dos sistemas químicos."
   ]
  },
  {
   "cell_type": "markdown",
   "id": "cb83fe49-6129-48e6-bc6b-0bedde505825",
   "metadata": {},
   "source": [
    "$\\quad$ Na mecânica clássica, podemos determinar a velocidade e a posição das partículas que constituem um certo sistema oferecido, no entanto, na mecânica quântica as coisas não funcionam deste modo. Pois, pelo princípio de Heisenberg, não é possível determinar a velocidade exata e a posição de uma partícula microscópica simultaneamente. Neste caso, para descrever uma partícula, ou melhor, para descrever o estado de um sistema na mecânica quântica, postula-se uma função de coordenadas denominada de $\\psi $, que se trata de função do tempo $\\psi = \\psi (x,t)$."
   ]
  },
  {
   "cell_type": "markdown",
   "id": "5ea41c38-cb74-4d27-895a-6354e1e165d1",
   "metadata": {},
   "source": [
    "$\\quad$ Nesta função, chamada de função de onda, têm-se todas as informações possíveis do sistema. A partir desta, é possível estudar sistemas moleculares poliatômicos, encontrando a solução da equação de Schrödinger para estes sistemas e descrever o estado quântico. "
   ]
  },
  {
   "cell_type": "markdown",
   "id": "297acdc4-9530-4e3f-a062-55e8e661b95e",
   "metadata": {},
   "source": [
    "$\\quad$ Na década de 20, diversos trabalhos sobre como tratar vários elétrons na teoria quântica, quando Enrico Fermi e Llewellyn Thomas em 1927 publicam algumas considerações estatísticas que, por sua vez, poderiam ser utilizadas para aproximar a distribuição eletrônica em um átomo. No ano de 1927 Thomas afirmar duas suposições, ele afirma que: “Electrons are distributed uniformly in the six-dimensional phase space for the motion of an electron at the rate of two for each h³ of volume” (Os elétrons estão distribuídos uniformemente no espaço de fase hexadimensional para o movimento de um elétron à taxa de dois para cada h³ de volume) e também foi afirmado outro para um campo de potencial que: “[...] is itself determined by the nuclear charge and his distribuição de elétrons” ([...] é em si determinado pela carga nuclear e sua distribuição de elétrons). O modelo de Thomas-Fermi é baseado nessas suposições, possibilitando o cálculo de uma aproximação para um gás de férmions se movimentando sobre um campo externo. Nesse modelo, os principais objetivos são determinar uma forma de calcular a densidade eletrônica e o potencial efetivo, em outras palavras, esse modelo é baseado apenas na densidade eletrônica. Essa teoria foi muito útil para conseguirmos descrever qualitativamente propriedades como a energia dos átomos, no entanto, não descreve de maneira razoável propriedades que dependem dos elétrons de valência, como, por exemplo, ligações químicas, estabilidade de moléculas, entre outros exemplos. O método de Thomas-Fermi serviu de incentivo para Walter Kohn ao desenvolvimento da Teoria do Funcional da Densidade (Density Functional Theory) na década de 60, teoria essa que é usada até os dias atuais para deduções de funcionais. Em 1927, um ano após Schrödinger publicar a famosa equação, Douglas Hartree propõe outra forma de tratar átomos envolvendo muitos elétrons. Ele propôs usar o método variacional para o Hamiltoniano de muitos elétrons usando como função “teste” o produto das funções de onda de cada elétron individualmente(orbitais), que se tornou conhecido como sendo a aproximação de Hartree."
   ]
  },
  {
   "cell_type": "markdown",
   "id": "e747fae8-b27b-435b-92cb-76cf45fddcfb",
   "metadata": {},
   "source": [
    "$\\quad$ Uma vasta quantidade de métodos vem sendo desenvolvida para encontrar uma solução estimada da equação de Schrödinger para sistemas com muitos elétrons. A maioria dos métodos tem como base o método de Hartree-Fock (HF), no entanto, o método HF só considera a parte da correlação eletrônica, o que, por sua vez, faz com que tenhamos que utilizar métodos pós-HF. A energia calculada por esse método tem como um erro um fator de 1%, o que, por sua vez, é de uma certa forma alto, pois a energia de ligação é algo próximo dos $100 Kcal mol^{-1}$. Esse erro pode ser corrigido quando consideramos as interações instantâneas entre os elétrons, que por sua vez é chamada de correlação eletrônica. Sendo assim, existem vários métodos feitos a partir do método HF, onde o termo de correlação eletrônica foi introduzido no sistema. A escolha do uso de um determinado método deve ser feita a partir do sistema de interesse a ser estudado e os tipos de propriedades que se pretende estudar."
   ]
  },
  {
   "cell_type": "markdown",
   "id": "2b9dc0cc-59d8-4942-8045-5884c0ad6e88",
   "metadata": {},
   "source": [
    "### 1.1 Equação de Schrödinger"
   ]
  },
  {
   "cell_type": "markdown",
   "id": "5c595496-39fc-43de-8c16-0d8a5ee11579",
   "metadata": {},
   "source": [
    "$\\quad$ A equação de Schrödinger é uma equação que descreve a mudança de um estado quântico, $\\Psi(r,t)$, de um dado sistema físico que muda com o tempo."
   ]
  },
  {
   "cell_type": "markdown",
   "id": "3be7633d-ec16-434a-8e64-677144d70f47",
   "metadata": {},
   "source": [
    "$$ \\hat{H}  \\Psi (r,t) = E \\Psi(r,t) \\ .\\tag{1.1}$$ "
   ]
  },
  {
   "cell_type": "markdown",
   "id": "1abcfa28-1ce8-4e53-bcc6-02c9ff5ae4d0",
   "metadata": {},
   "source": [
    "* $\\Psi$ é a função de onda;\n",
    "* $E$ é a energia associada a esta função;\n",
    "* $\\hat{H}$ é o operador Hamiltoniano de $\\Psi$ com respeito às coordenadas de cada elétron em função do tempo."
   ]
  },
  {
   "cell_type": "markdown",
   "id": "2ae3a627-d9b7-4290-ba7d-35650b24c1c5",
   "metadata": {},
   "source": [
    "$\\quad$ O estado $\\Psi(r,t)$ é a melhor descrição possível para um sistema físico, de acordo com o primeiro postulado da Mecânica Quântica."
   ]
  },
  {
   "cell_type": "markdown",
   "id": "ac78bb2c-eeaa-494a-93d1-1a8f0e9ad4c6",
   "metadata": {},
   "source": [
    "$\\quad$ No ano de 1926, Max Born postulou que a densidade de probabilidade de encontrar uma partícula em uma dada posição e um dado instante de tempo $t$ pode ser obtida através da função de onda pela relação"
   ]
  },
  {
   "cell_type": "markdown",
   "id": "47817ba1-bf85-41c9-bbeb-1933e6626aa1",
   "metadata": {},
   "source": [
    "$$p(x,t) = |\\Psi(r,t)|^{2} \\ .\\tag{1.2}$$"
   ]
  },
  {
   "cell_type": "markdown",
   "id": "7584b15e-b0d6-4628-8580-ed47acf13169",
   "metadata": {},
   "source": [
    "$\\quad$ Então, a probabilidade de encontrar uma partícula, em alguma região do espaço, é"
   ]
  },
  {
   "cell_type": "markdown",
   "id": "751f64f4-9b50-4c5a-b2fc-116347c4413b",
   "metadata": {},
   "source": [
    "$$\\int |\\Psi(r,t)|^{2} dr^{3} = 1 \\ .\\tag{1.3}$$"
   ]
  },
  {
   "cell_type": "markdown",
   "id": "6f038f16-d135-470d-b3db-123feaebcb27",
   "metadata": {},
   "source": [
    "$\\quad$ Para ter algum sentido físico as funções de onda precisam possuir algumas propriedades, tais como:"
   ]
  },
  {
   "cell_type": "markdown",
   "id": "3ae8fe46-07f9-4c1e-b1ab-720954825f82",
   "metadata": {},
   "source": [
    "* $\\Psi(r,t)$ deve pertencer a uma região finita do espaço de Hilbert, $L^{2}$;\n",
    "* $\\Psi(r,t)$ é um conjunto de funções de onda composta de funções suficientemente regulares ($\\psi(r,t)$ é um subespaço de $L^{2}$);\n",
    "* Precisa ser contínua e diferenciável;\n",
    "* $|\\Psi(r,t)|²$ deve ser integrável."
   ]
  },
  {
   "cell_type": "markdown",
   "id": "4f50f02e-450d-4a1f-8b01-2802e537f9f1",
   "metadata": {},
   "source": [
    "$\\quad$ A equação de Schrödinger independente do tempo também pode ser escrita como uma equação de autovalores e autovetores. A equação de Schrödinger independente do tempo para uma molécula com vários átomos composta por $N$ elétrons e $M$ núcleos pode ser escrita como:"
   ]
  },
  {
   "cell_type": "markdown",
   "id": "4bfb52d9-d76d-4987-9a56-e24c13d68351",
   "metadata": {},
   "source": [
    "$$\\hat{H}\\psi(r,R) = E\\psi(r,R) \\ .\\tag{1.4}$$"
   ]
  },
  {
   "cell_type": "markdown",
   "id": "6f49fafd-8f40-4e26-a3c3-5585e087c0ca",
   "metadata": {},
   "source": [
    "$\\quad$ Sendo que, $r$ e $R$ representam, respectivamente, as coordenadas dos elétrons e núcleos. Para esse caso, o operador Hamiltoniano é representado como sendo:"
   ]
  },
  {
   "cell_type": "markdown",
   "id": "7d06213a-084e-40eb-87f2-f658d8c9061a",
   "metadata": {},
   "source": [
    "$$ \\hat{H} = -\\sum_{i=1}^{N} \\frac{1}{2} \\nabla_i^2-\\sum_{A=1}^{M} \\frac{1}{2M} \\nabla_A^2 - \\sum_{i=1}^{N} \\sum_{A=1}^{M} \\frac{Z_A}{r_{iA}} + \\sum_{A=1}^{M} \\sum_{B>A}^{M} \\frac{Z_A Z_B}{R_{AB}} + \\sum_{i=1}^{N} \\sum_{j>i}^{N} \\frac{1}{r_{ij}} \\ .\\tag{1.5}$$ "
   ]
  },
  {
   "cell_type": "markdown",
   "id": "fa2a2790-c053-4460-a222-3b69c8065da7",
   "metadata": {},
   "source": [
    "$\\quad$ Sendo que:\n",
    "\n",
    "* $R_{AB}$ é a distância entre os núcleos $A$ e $B$, $R_{AB} = |R_A - R_B|$;\n",
    "* $r_{iA}$ é a distância entre o núcleo $A$ e o elétron $i$, $r_{iA}=|r_i - R_A|$;\n",
    "* $r_{ij}$ é a distância entre os elétrons $i$ e $j$, $r_{ij} = |r_i - r_j|$;\n",
    "* $Z_A$ é o número atômico do átomo $A$;\n",
    "* $M_A$ é a razão da massa do núcleo $A$ em relação ao elétron $i$."
   ]
  },
  {
   "cell_type": "markdown",
   "id": "70a40a95-4790-4f53-8259-53029058d610",
   "metadata": {},
   "source": [
    "$\\quad$ Outra forma de ver a equação é através de"
   ]
  },
  {
   "cell_type": "markdown",
   "id": "65994a0a-9ed7-42b0-88af-d591871723fb",
   "metadata": {},
   "source": [
    "$$ \\hat{H} = T_e + T_N + V_{Ne} + V_N + V_e \\ .\\tag{1.6}$$"
   ]
  },
  {
   "cell_type": "markdown",
   "id": "52319026-cc07-4537-92d3-d73f65e14835",
   "metadata": {},
   "source": [
    "Sendo que:\n",
    "\n",
    "* $T_N$ é o operador de energia cinética nuclear;\n",
    "* $T_e$ é o operador de energia cinética eletrônica;\n",
    "* $V_{Ne}$ é o operador referente à atração núcleo-elétron;\n",
    "* $V_e$ é o operador da energia potencial repulsiva elétron-elétron;\n",
    "* $V_N$ é operador de energia potencia repulsiva núcleo-núcleo."
   ]
  },
  {
   "cell_type": "markdown",
   "id": "6cbc04ae-1e18-47ae-844d-19fce80c83d5",
   "metadata": {},
   "source": [
    "$\\quad$ Sabendo que núcleos são muito pesados, em relação aos elétrons, suas transições são mais lentas do que as transições eletrônicas. Levando isso em conta, para obtermos uma boa aproximação, podemos considerar que os elétrons se movem em um campo de núcleo fixo, essa aproximação, é denominada de aproximação de Born-Oppenheimer.\n",
    "Como consequência dessa aproximação, é notório, que o segundo termo da Equação **(1.6)** é desprezado e o terceiro termo da Equação **(1.6)** é constante, visto que uma vez que o núcleo é fixo, a energia cinética do núcleo é zero e a distância núcleo-elétron não se altera, $T_N = 0$ e $V_{Ne} = cte$. Qualquer constante adicionada em um operador apenas adiciona ao operador autovalor e não possui nenhum efeito no operador autofunção. Portanto, essa aproximação tem como principal característica separar a equação de Schrödinger independente do tempo em duas partes: uma relacionada à parte eletrônica e outra a parte nuclear."
   ]
  },
  {
   "cell_type": "markdown",
   "id": "23e84519-8b8f-4d4a-ae3e-2403800fa1a5",
   "metadata": {},
   "source": [
    "$\\quad$ A parte eletrônica relata os movimentos dos elétrons para uma determinada configuração nuclear. A parte da equação nuclear relata sobre a dinâmica molecular, as interações de núcleos nos informa o estado eletrônico particular do sistema de moléculas e da energia de repulsão entre os núcleos."
   ]
  },
  {
   "cell_type": "markdown",
   "id": "c2b8fbca-3d4a-4479-90bd-56bfad417db3",
   "metadata": {},
   "source": [
    "$\\quad$ Dito isso, com a aproximação a equação do operador Hamiltoniano fica desta forma"
   ]
  },
  {
   "cell_type": "markdown",
   "id": "e6a75e38-aca6-4701-8e24-e565e07093c7",
   "metadata": {},
   "source": [
    "$$ \\hat{H}_T = T_e + V_{Ne} + V_{e} + V_N \\ .\\tag{1.7}$$ "
   ]
  },
  {
   "cell_type": "markdown",
   "id": "f1f8f21d-5db7-4146-85e1-3878e375c449",
   "metadata": {},
   "source": [
    "$\\quad$ Sendo $\\hat{H}_T$ o Hamiltoniano total"
   ]
  },
  {
   "cell_type": "markdown",
   "id": "04526def-ca26-40a1-9e35-10fc88f80f27",
   "metadata": {},
   "source": [
    "$$ \\hat{H}_T = \\hat{H}_{ele} + V_N \\ .\\tag{1.8}$$"
   ]
  },
  {
   "cell_type": "markdown",
   "id": "c92eff2e-4130-4b6c-a02b-57deec04e7dd",
   "metadata": {},
   "source": [
    "$\\quad$ Temos que $\\hat{H}_{ele}$ é o Hamiltoniano eletrônico."
   ]
  },
  {
   "cell_type": "markdown",
   "id": "1e4e4db2-5f47-4fda-8617-6a1ab90e2d7f",
   "metadata": {},
   "source": [
    "$\\quad$ Para o átomo de hidrogênio, existem apenas 2 termos do operador Hamiltoniano que continuam presentes na equação, são a energia cinética do elétron (assumindo núcleo fixo) e a energia potencial de interação elétron-núcleo. Para esse caso, existe a possibilidade de utilizar o procedimento de “separação de variáveis”, no qual a Equação de Schrödinger independente do tempo é separada em três equações que podem ser solucionadas de forma exata. No entanto, foi observado que a equação de Schrödinger não tem solução analítica para sistema moleculares, por serem sistemas com uma vasta quantidade de elétrons. Para obter uma solução nesse caso, é preciso utilizar de métodos baseados em aproximações matemáticas. Os métodos são denominados de ab initio, e graças a esses métodos que conseguimos soluções para a equação de Schrödinger em sistemas de muitos elétrons."
   ]
  },
  {
   "cell_type": "markdown",
   "id": "8475dfb7-1760-4325-a1eb-85e7f9064cd5",
   "metadata": {},
   "source": [
    "### 1.2 Método Hartree-Fock-Roothaan"
   ]
  },
  {
   "cell_type": "markdown",
   "id": "a0abb259-8e0b-40c2-84da-bca37146dc0c",
   "metadata": {},
   "source": [
    "$\\quad$ O método Hartree-Fock (HF) é um método usado para determinar funções de onda e energia no estado fundamental de sistemas quânticos de vários corpos. O método HF serve como base da teoria do orbital molecular, que afirma que cada movimento do elétron pode ser determinado por uma função (orbital) que não depende de maneira explicita da movimentação instantânea de cada elétron. O método HF é o começo para todos os outros métodos quânticos ab initio."
   ]
  },
  {
   "cell_type": "markdown",
   "id": "77fdd631-5906-46c2-b96e-4e48cfb3da40",
   "metadata": {},
   "source": [
    "$\\quad$ No fim da década de 1920, logo após da determinação da equação de Schrödinger, o método HF teve sua origem. No ano de 1927 J.R. Hartree introduz o método do campo autoconsciente para o cálculo aproximado de funções de onda e de energias para íons e átomos. Em outras palavras, Hartree propõe utilizar o método variacional para o Hamiltoniano de muitos elétrons usando como função “teste”, o produto das funções de onda de cada elétron individualmente. Esse método ficou conhecido como método de Hartree."
   ]
  },
  {
   "cell_type": "markdown",
   "id": "c7f44f2c-4722-4c39-bb80-03b533d25dde",
   "metadata": {},
   "source": [
    "$\\quad$ Hartree realizou considerações de suma importância em um primeiro estágio na pesquisa para resolver o problema da equação de Schrödinger de sistemas multieletrônico. Hartree fez uma aproximação do termo de interação entre elétrons para um termo de campo médio, deste modo, a separação de funções de onda de cada elétron foi possível, para um sistema de $N$ elétrons."
   ]
  },
  {
   "cell_type": "markdown",
   "id": "cf77e6c7-bab6-41b8-ae34-60b7f5cd003f",
   "metadata": {},
   "source": [
    "$$ \\psi(r) = \\psi_1(r_1)\\psi_2(r_2)...\\psi_N(r_N) = \\prod_{i}^{N}\\psi_i(r_i) \\ . \\tag{1.9}$$"
   ]
  },
  {
   "cell_type": "markdown",
   "id": "2046efb0-ce72-4dc9-b7f6-cffb415b663c",
   "metadata": {},
   "source": [
    "$\\quad$ Esse produto é denominado de produto de Hartree, com este produto a equação de Schrödinger pode ser dividida em $N$ equações independentes para cada elétron. Essa aproximação trata os elétrons como sendo funções de onda independentes e isso, por sua vez, traz sérias implicações, uma vez que, trata a parte de correlação eletrônica."
   ]
  },
  {
   "cell_type": "markdown",
   "id": "10897d9f-1dd7-4d9f-8cda-f23647220268",
   "metadata": {},
   "source": [
    "### 1.3 Determinante de Slater"
   ]
  },
  {
   "cell_type": "markdown",
   "id": "485161f6-7a1f-4a76-aff3-45a0ccef7517",
   "metadata": {},
   "source": [
    "$\\quad$ No ano de 1930, de maneira independente, Slater e Fock, demonstraram que o método de Hartree não obedece ao princípio da anti-simetria da função de onda.  Hartree usou um método que utilizava o princípio da exclusão de Pauli em sua antiga forma, que proibia a presença de dois elétrons em um mesmo estado quântico. Posteriormente demonstrando que um determinante de Slater satisfaz esse princípio e se trata de uma boa solução para a aplicação do princípio variacional. No ano de 1935 Hartree reajusta o método tornando ele mais adequado para a utilização do princípio variacional. Ele aproximou o termo de interação intereletrônica para um termo de campo médio, $v^{HF}$ que é resultado da presença dos demais elétrons.  A função de onda eletrônica antissimétrica é expressa através de um determinante de Slater. Esse determinante é a forma mais básica de função de onda antissimétrica utilizada para descrever o estado fundamental de sistemas contendo $N$ elétrons."
   ]
  },
  {
   "cell_type": "markdown",
   "id": "11ee0b83-a9dd-4ea2-ae3f-ee8131b151c2",
   "metadata": {},
   "source": [
    "$\\quad$ Considerando que um sistema de dois elétrons em que os orbitais spin $x_i$ e $x_j$ estão ocupados. Se o elétron 1 estiver em $x_i$ e o elétron 2 estiver em $x_j$, e vice-versa, tem-se que:"
   ]
  },
  {
   "cell_type": "markdown",
   "id": "237e5497-6307-4090-8b25-b0d267e1f890",
   "metadata": {},
   "source": [
    "$$\\psi_{12}^{''} = X_i(x_1)X_j(x_2) \\quad e \\quad \\psi_{21}^{''} = X_i(x_2)X_j(x_1) \\ .$$"
   ]
  },
  {
   "cell_type": "markdown",
   "id": "5ae24bf8-793d-4a6b-a7c2-1826b75745ff",
   "metadata": {},
   "source": [
    "$\\quad$  De maneira clara, cada um desses orbitais distingue os elétrons individualmente. No entanto, é possível obter uma função de onda que não faz essa distinção e ainda satisfaz o princípio de exclusão de Pauli, combinando linearmente esses dois produtos."
   ]
  },
  {
   "cell_type": "markdown",
   "id": "3a10bb21-cdb6-45dd-a245-b2ef740909c4",
   "metadata": {},
   "source": [
    "$$\\psi(x_1,x_2) = \\frac{1}{\\sqrt{2}}(X_i(x_1)X_j(x_2) - X_j(x_1)X_i(x_2)) = \\frac{1}{\\sqrt{2}} \\begin{vmatrix} X_i(x_1) & X_j(x_1) \\\\ X_i(x_2) & X_j(x_2)\\end{vmatrix}\\text{.} \\tag{1.10}$$"
   ]
  },
  {
   "cell_type": "markdown",
   "id": "cd5982a4-f277-48dc-9db8-817cc09795d8",
   "metadata": {},
   "source": [
    "$\\quad$ Cujo fator de $2^{-1/2}$ é um fator de normalização e o sinal negativo assegura a antissimétrica de $\\psi^H$ com relação à troca de coordenadas dos elétrons 1 e 2. Logo, para um sistema de $N$ elétrons temos que:"
   ]
  },
  {
   "cell_type": "markdown",
   "id": "06ffa5ee-c9d5-4592-ad3f-8df08710eb35",
   "metadata": {},
   "source": [
    "$$\\psi(x_1,x_2,...,x_N)=\\frac{1}{\\sqrt{N!}} \\begin{vmatrix} X_i(x_1) & X_j(x_1) & \\cdots & X_k(x_1) \\\\ X_i(x_2) & X_j(x_2) & \\cdots & X_K(x_2) \\\\  \\vdots & \\vdots & \\ddots & \\vdots \\\\ X_i(x_N) & X_j(x_N) & \\cdots & X_k(x_N)\\\\ \\end{vmatrix} \\text{.} \\tag{1.11}$$"
   ]
  },
  {
   "cell_type": "markdown",
   "id": "5763362f-9d5d-4050-bc48-9573ace8c3ea",
   "metadata": {},
   "source": [
    "$$\\psi(x_1,x_2,...,x_N)= |X_i (x_1) X_j(x_2)...X_k(x_N)\\rangle = |X_i X_j...X_k\\rangle \\text{.} \\tag{1.12}$$"
   ]
  },
  {
   "cell_type": "markdown",
   "id": "8ba32d0b-a3ef-472c-ada4-65f6dde20a79",
   "metadata": {},
   "source": [
    "$\\quad$ A troca de coordenadas de dois elétrons corresponde a permutação de duas linhas do determinante de Slater, resultando na mudança de sinal do determinante. Quando dois elétrons ocupam o mesmo orbital de spin, isso se traduz em duas colunas idênticas no determinante, tornando-o zero. Assim, conforme o Princípio de Exclusão de Pauli, não mais do que um elétron pode ocupar um determinado orbital de spin."
   ]
  },
  {
   "cell_type": "markdown",
   "id": "f5da8e1e-e637-4c8d-b487-fcdfb7db2d22",
   "metadata": {},
   "source": [
    "### 1.4 Hartree-Fock"
   ]
  },
  {
   "cell_type": "markdown",
   "id": "c8695b83-c9c4-4b1e-9587-89ba07dc8cef",
   "metadata": {},
   "source": [
    "$\\quad$ O método de Hartree-Fock é uma abordagem fundamental na teoria de estrutura eletrônica que descreve sistemas moleculares e atômicos. Em essência, cada elétron em um sistema é caracterizado por uma função de onda que depende apenas das coordenadas desse elétron. Isso significa que a função de onda de cada elétron é tratada como se todos os outros elétrons estivessem presentes em uma média estatística, criando uma abordagem autoconsistente.\n",
    "\n",
    "$\\quad$ Uma das premissas do método de Hartree-Fock é que a probabilidade de encontrar um elétron em um ponto específico próximo de um núcleo é determinada principalmente pela posição em relação a esse núcleo, ignorando as influências dos outros núcleos. Isso é conhecido como a aproximação de campo médio.\n",
    "\n",
    "$\\quad$ Além disso, o método de Hartree-Fock emprega o conceito de troca de elétrons, onde o efeito da troca quântica entre elétrons é modelado por uma correção que considera a indistinguibilidade dos elétrons. Essa troca é fundamental para obter uma descrição precisa da correlação eletrônica, sendo incorporada ao cálculo por meio de termos adicionais na equação de Hartree-Fock.\n",
    "\n",
    "$\\quad$ Em resumo, o método de Hartree-Fock oferece uma abordagem eficaz para calcular as propriedades eletrônicas de sistemas moleculares e atômicos, tratando cada elétron individualmente, considerando sua interação com os núcleos e a troca quântica entre ele."
   ]
  },
  {
   "cell_type": "markdown",
   "id": "037baafb-f3c9-4ae5-aa40-df24333fe1ad",
   "metadata": {},
   "source": [
    "## 2. Operadores"
   ]
  },
  {
   "cell_type": "markdown",
   "id": "2354ae2f-5217-43bb-a80f-17a0c67bb62e",
   "metadata": {},
   "source": [
    "$\\quad$ Antes de desenvolver os operadores, devemos definir alguns resultados para facilitar as demonstrações das próximas seções. Estamos interessados em obter um conjunto de spin-orbitais {$\\chi_a$}, tal qual o determinante de Slater a partir desses orbitais é expresso por"
   ]
  },
  {
   "cell_type": "markdown",
   "id": "51079003-29c8-4459-9df5-b87e20eb58a7",
   "metadata": {},
   "source": [
    "$$\\vert \\Psi_0 \\rangle = \\vert \\chi_1 \\chi_2 ... \\chi_a\\chi_b ... \\chi_N \\rangle \\ , \\tag{2.1}$$"
   ]
  },
  {
   "cell_type": "markdown",
   "id": "fc6b9908-69b7-4180-873a-4e1bcc6aaffe",
   "metadata": {},
   "source": [
    "essa é a melhor aproximação para o estado fundamental para um sistema de N-elétrons descrito pelo Hamiltoniano eletrônico $\\hat{H}$. Conhecendo o princípio variacional, devemos obter os spin-orbitais que minimizam a energia eletrônica,"
   ]
  },
  {
   "cell_type": "markdown",
   "id": "1a724a00-e405-447a-b192-73441fcefcf5",
   "metadata": {},
   "source": [
    "$$E_0 = \\langle \\Psi_0 \\vert \\hat{H} \\vert \\Psi_0 \\rangle = \\sum \\limits_a \\langle a \\vert \\hat{h} \\vert a \\rangle + \\frac{1}{2}\\sum \\limits_{ab} \\left( \\langle ab \\vert \\vert ab \\rangle \\right) \\ ,$$"
   ]
  },
  {
   "cell_type": "markdown",
   "id": "28e27265-287f-4a66-9493-c22fe77d7b95",
   "metadata": {},
   "source": [
    "em que $\\hat{h}$ é o operador hamiltoniano para um elétron específico, vale salientar que o resultado acima está demonstrado no *Apêndice A*,"
   ]
  },
  {
   "cell_type": "markdown",
   "id": "98181bbc-5bdc-4d13-b735-6d43696ce23a",
   "metadata": {},
   "source": [
    "$$E_0 = \\sum \\limits_a ^N \\langle a \\vert \\hat{h} \\vert a \\rangle + \\frac{1}{2}\\sum \\limits_{a, \\ b}^N (\\langle ab|ab \\rangle- \\langle ab|ba\\rangle) \\ .\\tag{2.2}$$"
   ]
  },
  {
   "cell_type": "markdown",
   "id": "114a22df-ed52-449f-b3c2-6a9c0323025d",
   "metadata": {},
   "source": [
    "$\\quad$ Variando os spin-orbitais ${\\chi_a}$ até que a energia $E_0$ seja mínima, obtemos uma equação que define os melhores spin-orbitais, os que minimizam $E_0$, esta equação é a equação integro-diferencial de Hartree-Fock, expressa logo abaixo"
   ]
  },
  {
   "cell_type": "markdown",
   "id": "28ebb3e9-702c-4adc-b6c2-6e677686811f",
   "metadata": {},
   "source": [
    "$$\\hat{h}(1)\\chi_a(1) + \\sum\\limits_{b \\neq a} \\left[ \\int dx_2 |\\chi_b(2)|^2 r_{12}^{-1} \\right]\\chi_a(1) - \\sum\\limits_{b\\neq a} \\left[ \\int dx_2 \\chi_b^*(2)\\chi_a(2) r_{12}^{-1} \\right]\\chi_b(1) = \\epsilon_a\\chi_a(1) \\ ,\\tag{2.3}$$"
   ]
  },
  {
   "cell_type": "markdown",
   "id": "39c4f813-826f-4582-a50e-806b9e72dd7e",
   "metadata": {},
   "source": [
    "na qual $\\epsilon_a$ é a energia do spin-orbital $\\chi_a$ e"
   ]
  },
  {
   "cell_type": "markdown",
   "id": "e4643a67-495c-4165-95e9-613ac39efa0c",
   "metadata": {},
   "source": [
    "$$\\hat{h}(1) = -\\frac{1}{2}\\nabla_1^2 -\\sum\\limits_A \\frac{Z_A}{r_{1A}} \\ ,\\tag{2.4}$$"
   ]
  },
  {
   "cell_type": "markdown",
   "id": "efcd02f2-7f68-4ad7-b7aa-76970489f5b7",
   "metadata": {},
   "source": [
    "este é a energia cinética e potencial da atração nuclear, eonde o índice $1$ representa o elétron escolhido."
   ]
  },
  {
   "cell_type": "markdown",
   "id": "0cd6fad2-766a-4738-b7cc-fc3c6dcb6e24",
   "metadata": {},
   "source": [
    "### 2.1 Operador de Coulomb"
   ]
  },
  {
   "cell_type": "markdown",
   "id": "7b1c4021-7c14-4830-9725-dd3e02cd969a",
   "metadata": {},
   "source": [
    "$\\quad$ Note que na Equação **(2.3)** os termos dos somatórios estão com o fator de interação elétron-elétron. Se tirarmos esses termos, obteremos"
   ]
  },
  {
   "cell_type": "markdown",
   "id": "cb2aa854-69cf-4770-97f2-9f89e1f00c92",
   "metadata": {},
   "source": [
    "$$\\hat{h}(1)\\chi_a(1) = \\epsilon_a\\chi_a(1) \\ , \\tag{2.5}$$"
   ]
  },
  {
   "cell_type": "markdown",
   "id": "8fed5344-4c45-44f7-b464-5c8e5b970b1a",
   "metadata": {},
   "source": [
    "resta apenas uma equação de Schrödinger de um elétron para os estados spins-orbitais de um único elétron no campo dos núcleos. O primeiro termo que possui o fator $r_{12}^{-1}$ na Equação **(2.3)** é o termo de Coulomb, já o segundo é o termo de troca, que surge devido à natureza antissimétrica da função de onda determinante.\n",
    "\n",
    "$\\quad$ Sabemos que a interação coulombiana é representada pelo operador de dois elétrons $r_{ij}^{-1}$. Na aproximação de Hartree-Fock o elétron $1$ em $\\chi_a$ sente o potencial de coulombiano de um elétron"
   ]
  },
  {
   "cell_type": "markdown",
   "id": "22385515-7077-46db-aed0-4414e5d6c349",
   "metadata": {},
   "source": [
    "$$v_{a}^{coul}(1) = \\sum\\limits_{b \\neq a} \\int dx_2 |\\chi_b(2)|^2 r_{12}^{-1} \\ . \\tag{2.6}$$"
   ]
  },
  {
   "cell_type": "markdown",
   "id": "92a3a57f-0a73-46f7-996a-21669963f0ae",
   "metadata": {},
   "source": [
    "$\\quad$ Suponhamos que o elétron $2$ ocupe o spin-orbital $\\chi_b$. O potencial de dois elétrons ($r_{12}^{-1}$) sentido pelo elétron $1$ e associado com a posição instantânea do elétron $2$ é trocado por um potencial de um elétron. Tal qual, este é obtido pela média da interação $r_{12}^{-1}$ do elétron $1$ e $2$, sobre todo o espaço e das coordenadas spins $x_2$ do elétron $2$, ponderado pela probabilidade $dx_2|\\chi_b(2)|^2$ de que o elétron $2$ ocupe o volume $dx_2$ em $x_2$. Somando todos os $b\\neq a$, obtém-se o potencial médio total atuando no elétron em $\\chi_a$, proveniente dos $N-1$ elétrons nos outros orbitais de spin.\n",
    "\n",
    "$\\quad$ Com esta interpretação é conveniente definir um operador de Coulomb como"
   ]
  },
  {
   "cell_type": "markdown",
   "id": "fff0a0ad-42c9-4f4b-8d07-903150d024f2",
   "metadata": {},
   "source": [
    "$$\\hat{J}_b(1) = \\int dx_2 |\\chi_b(2)|^2r_{12}^{-1} \\ , \\tag{2.7}$$"
   ]
  },
  {
   "cell_type": "markdown",
   "id": "631a9cde-e1c6-4c11-b04f-320d6a49bcbb",
   "metadata": {},
   "source": [
    "o qual representa o potencial médio em $x_1$ causado por um elétron em $\\chi_b$."
   ]
  },
  {
   "cell_type": "markdown",
   "id": "b6b0584b-f448-45ac-9dd2-30bd74af7e98",
   "metadata": {},
   "source": [
    "### 2.2 Operador de Troca"
   ]
  },
  {
   "cell_type": "markdown",
   "id": "9cf3a0c4-b62f-4e44-9137-dc8d206a6f2b",
   "metadata": {},
   "source": [
    "$\\quad$ O termo de troca na Equação **(2.3)** surge da natural anti-simetria do determinante único. O problema desse termo é que este não possui uma interpretação clássica como o termo de Coulomb. Contudo, reescreveremos a Equação **(2.3)** como uma equação de autovalor,"
   ]
  },
  {
   "cell_type": "markdown",
   "id": "b350ace9-5ac6-4b4a-8059-3cd33b3aa79d",
   "metadata": {},
   "source": [
    "$$\\hat{h}(1)\\chi_a(1) + \\sum\\limits_{b \\neq a} \\hat{J}_b(1)\\chi_a(1) - \\sum\\limits_{b\\neq a} \\left[ \\int dx_2 \\chi_b^*(2)\\chi_a(2) r_{12}^{-1} \\right]\\chi_b(1) = \\epsilon_a\\chi_a(1) \\ , $$"
   ]
  },
  {
   "cell_type": "markdown",
   "id": "e122adee-8637-4b85-9116-4e22f4dfed38",
   "metadata": {},
   "source": [
    "considerando que $\\left[ \\int dx_2\\chi_b^{*}(2)r_{12}^{-1}\\chi_a(2) \\right]\\chi_b(1) = \\hat{K}_b(1)\\chi_a(1)$, assim"
   ]
  },
  {
   "cell_type": "markdown",
   "id": "d258eecb-6c70-43d0-8fae-857b8f97cc84",
   "metadata": {},
   "source": [
    "$$\\implies \\hat{h}(1)\\chi_a(1) + \\sum\\limits_{b \\neq a} \\hat{J}_b(1)\\chi_a(1) - \\sum\\limits_{b\\neq a} \\hat{K}_b(1)\\chi_a(1) = \\epsilon_a\\chi_a(1) $$"
   ]
  },
  {
   "cell_type": "markdown",
   "id": "191dbffe-123b-4c52-ba00-6f9519ea1476",
   "metadata": {},
   "source": [
    "$$ \\therefore \\boxed{\\left[ \\hat{h}(1) + \\sum\\limits_{b\\neq a} \\hat{J}_b(1) - \\sum\\limits_{b\\neq a} \\hat{K}_b(1) \\right]\\chi_a(1) = \\epsilon_a \\chi_a(1)} \\ . \\tag{2.8}$$"
   ]
  },
  {
   "cell_type": "markdown",
   "id": "79c929cb-ed08-4591-90bf-9150d784723f",
   "metadata": {},
   "source": [
    "$\\quad$ O operador de troca é $\\hat{K}_b(1)$, que é determinado pelo seu efeito quando aplicado em um orbital de spin $\\chi_a(1)$,"
   ]
  },
  {
   "cell_type": "markdown",
   "id": "8e74bfaa-8509-4213-a976-91994d049c01",
   "metadata": {},
   "source": [
    "$$\\hat{K}_b(1)\\chi_a(1) = \\left[ \\int dx_2\\chi_b^{*}(2)r_{12}^{-1}\\chi_a(2) \\right]\\chi_b(1) \\ . \\tag{2.9}$$"
   ]
  },
  {
   "cell_type": "markdown",
   "id": "e183a4aa-fef3-4d3f-80d7-72e211ae10ec",
   "metadata": {},
   "source": [
    "$\\quad$ Este pode ser comparado com o resultado previsto para o operador de Coulomb,"
   ]
  },
  {
   "cell_type": "markdown",
   "id": "371d6cfb-9f6a-4d12-adc3-5dbcf41543f5",
   "metadata": {},
   "source": [
    "$$\\hat{J}_b(1)\\chi_a(1) = \\left[ \\int dx_2 \\chi_b^{*}(2)r_{12}^{-1}\\chi_b(2)\\right]\\chi_a(1) \\ . \\tag{2.10}$$"
   ]
  },
  {
   "cell_type": "markdown",
   "id": "776a2ece-6480-4d3b-b769-0f9c173a4fd4",
   "metadata": {},
   "source": [
    "$\\quad$ Diferente do operador de Coulomb, o operador de troca é um operador não local, já que não existe um único potencial $\\hat{K}_b(x_1)$ definido exclusivamente em um ponto local no espaço $x_1$. Quando operamos $\\hat{K}_b(x_1)$ em $\\chi_a(x_1)$, o resultado depende do valor de $\\chi_a$ por todo o espaço, não apenas de $x_1$, como pode ser visto na Equação **(2.8)**."
   ]
  },
  {
   "cell_type": "markdown",
   "id": "eb62e45d-df97-4060-b926-648a14b578e9",
   "metadata": {},
   "source": [
    "### 2.3 O operador de Fock"
   ]
  },
  {
   "cell_type": "markdown",
   "id": "161f8d6a-68c8-4098-8bc6-03898571bd0a",
   "metadata": {},
   "source": [
    "$\\quad$ Dada a Equação **(2.8)**, a equação de Hartree-Fock, que está na forma de equação de autovalor. O operador nos colchetes parece ser diferente para cada spin orbital $\\chi_a$, devido à restrição da soma $b \\neq a$. Então para tirar essa restrição, subtrairemos a Equação **(2.9)** com a Equação **(2.10)**, considerando que $a = b$, assim teremos"
   ]
  },
  {
   "cell_type": "markdown",
   "id": "cf5b5f17-b009-492d-bb39-e7fc6e32ca56",
   "metadata": {},
   "source": [
    "$$ \\hat{J}_b(1)\\chi_a(1) - \\hat{K}_b(1)\\chi_a(1) = \\left[ \\int dx_2 \\chi_b^{*}(2)r_{12}^{-1}\\chi_b(2)\\right]\\chi_a(1) - \\left[ \\int dx_2\\chi_b^{*}(2)r_{12}^{-1}\\chi_a(2) \\right]\\chi_b(1) $$"
   ]
  },
  {
   "cell_type": "markdown",
   "id": "0a2786f3-e21e-493d-a14d-86484617523d",
   "metadata": {},
   "source": [
    "$$\\implies \\hat{J}_a(1)\\chi_a(1) - \\hat{K}_a(1)\\chi_a(1) = \\left[\\int dx_2 \\chi_a^{*}(2)r_{12}^{-1}\\chi_a(2)\\right]\\chi_a(1) - \\left[ \\int dx_2\\chi_a^{*}(2)r_{12}^{-1}\\chi_a(2) \\right]\\chi_a(1) $$"
   ]
  },
  {
   "cell_type": "markdown",
   "id": "1c69ed06-de53-4b62-a7b6-c9781b48d82b",
   "metadata": {},
   "source": [
    "$$\\implies \\left[\\hat{J}_a(1) - \\hat{K}_a(1)\\right]\\chi_a(1) = \\left[ \\int dx_2 \\chi_a^{*}(2)r_{12}^{-1}\\chi_a(2) -  \\int dx_2\\chi_a^{*}(2)r_{12}^{-1}\\chi_a(2) \\right]\\chi_a(1) $$"
   ]
  },
  {
   "cell_type": "markdown",
   "id": "a9196f07-933a-4647-89a3-01c0f8c525b8",
   "metadata": {},
   "source": [
    "$$\\therefore \\boxed{\\left[\\hat{J}_a(1) - \\hat{K}_a(1)\\right]\\chi_a(1) = 0} \\ .\\tag{2.11}$$"
   ]
  },
  {
   "cell_type": "markdown",
   "id": "4d843b83-98a4-447c-a01f-e048538b08fb",
   "metadata": {},
   "source": [
    "$\\quad$ Com esse resultado concluímos que considerar o caso $a=b$ não mudará nada no resultado, já que nesse caso a diferença dos dois operadores será nula. Logo, podemos tirar a restrição da soma no Equação **(2.8)**, então temos"
   ]
  },
  {
   "cell_type": "markdown",
   "id": "dc72cb11-26b1-4283-aa15-651971aa1ed1",
   "metadata": {},
   "source": [
    "$$\\left\\{ \\hat{h}(1) + \\sum\\limits_{b} \\left[\\hat{J}_b(1) - \\hat{K}_b(1) \\right] \\right\\}\\chi_a(1) = \\epsilon_a \\chi_a(1) \\ . \\tag{2.12}$$"
   ]
  },
  {
   "cell_type": "markdown",
   "id": "009f9b93-7368-439f-9452-bb798f5c1572",
   "metadata": {},
   "source": [
    "$\\quad$ De forma que podemos definir o operador de Fock $\\hat{f}$ como"
   ]
  },
  {
   "cell_type": "markdown",
   "id": "b8ed776f-939f-4bc8-9ab8-6fb1c74ed97a",
   "metadata": {},
   "source": [
    "$$\\hat{f}(1) = \\hat{h}(1) + \\sum\\limits_b \\left[ \\hat{J}_b(1) - \\hat{K}_b(1) \\right] \\ .\\tag{2.13}$$"
   ]
  },
  {
   "cell_type": "markdown",
   "id": "cc0e2473-0956-4057-b82b-d614cfdbc3c4",
   "metadata": {},
   "source": [
    "$\\quad$ Então, a equação de Hartree-Fock se torna,"
   ]
  },
  {
   "cell_type": "markdown",
   "id": "29b3ade2-68b3-4c59-9f07-2f112693db5b",
   "metadata": {},
   "source": [
    "$$\\hat{f}(1)| \\chi_a \\rangle = \\epsilon_a| \\chi_a \\rangle \\ .\\tag{2.14}$$"
   ]
  },
  {
   "cell_type": "markdown",
   "id": "207f4a32-b4f9-4dc1-8b61-8067939b4af5",
   "metadata": {},
   "source": [
    "$\\quad$ Essa é a forma usual da equação de Hartree-Fock. O operador Hartree-Fock $\\hat{f}(1)$ é a soma entre o operador núcleo Hamiltoniano $\\hat{h}(1)$ e o operador potencial efetivo de um elétron, chamado de potencial Hartree-Fock $v^{HF}(1)$,"
   ]
  },
  {
   "cell_type": "markdown",
   "id": "1a781a7a-2c07-48b0-8763-d43056124eaa",
   "metadata": {},
   "source": [
    "$$v^{HF}(1) = \\sum\\limits_b\\left[\\hat{J}_b(1)-\\hat{K}_b(1)\\right] \\ . \\tag{2.15}$$"
   ]
  },
  {
   "cell_type": "markdown",
   "id": "4fc68da6-3cb3-4b93-980c-6f5e4358c6f1",
   "metadata": {},
   "source": [
    "$\\quad$ Assim, podemos definir o operador Hartree-Fock como"
   ]
  },
  {
   "cell_type": "markdown",
   "id": "432baceb-8b11-4ab0-a79a-ec24beac1dd2",
   "metadata": {},
   "source": [
    "$$\\hat{f}(1) = \\hat{h}(1) + v^{HF}(1) \\ .\\tag{2.16}$$"
   ]
  },
  {
   "cell_type": "markdown",
   "id": "8e31d2ef-5a46-42a0-998b-bfa19577a14f",
   "metadata": {},
   "source": [
    "$\\quad$ A Equação **(2.14)** é a equação de Hartree-Fock na forma de equação de autovalor, com spin-orbital como autofunções e energias de spin-orbitais como autovalores. A solução exata dessa equação integro-diferencial corresponde aos spin-orbitais de Hartree-Fock “exatos”. Na realidade só é possível resolver essa equação exatamente para átomos. Então, em vez disso, usa-se um conjunto de funções básicas para a expansão dos spin-orbitais e resolve-se um conjunto de equações matriciais. Só quando o conjunto se aproxima do limite de Hartree-Fock, os spin-orbitais obtidos se aproximam dos spin-orbitais de Hartree-Fock exatos.\n",
    "\n",
    "$\\quad$ Mesmo que a Equação **(2.14)** seja escrita como uma equação de autovalor linear, ela pode ser descrita melhor como uma equação de pseudo-autovalor, uma vez que o operador Fock tem uma dependência funcional, por meio dos operadores de coulomb e de troca, das soluções $\\{ \\chi_a \\}$ da equação de pseudo-autovalor. Logo, as equações de Hartree-Fock são realmente equações não lineares e precisarão ser resolvidas por meio de procedimentos iterativos."
   ]
  },
  {
   "cell_type": "markdown",
   "id": "0a9e9574-3976-4f1b-84f7-1426bfdcc640",
   "metadata": {},
   "source": [
    "## 3. Funções de Base e as Equações de Roothaan"
   ]
  },
  {
   "cell_type": "markdown",
   "id": "dc3f0728-e18d-408a-ba01-36c4396a3ad3",
   "metadata": {},
   "source": [
    "$\\quad$ Até esse momento nós desenvolvemos as equações de Hartree-Fock de uma perspectiva matemática formal para um conjunto geral arbitrário de spin-orbitais. Esse desenvolvimento matemático é extremamente valioso para dar uma base sólida à aproximação de Hartree-Fock e também para dar sentido físico aos resultados que podem ser obtidos a partir dela. Esse tratamento matemático, porém, não nos dá nenhuma informação sobre a forma dos spin-orbitais e, por consequência, como as equações de Hartree-Fock só podem ser solucionadas iterativamente, ainda não nos permite realizar nenhum cálculo fisicamente significante. Para que possamos fazer isso, devemos dar uma forma específica para os spin-orbitais.\n",
    "\n",
    "$\\quad$ Antes de dar uma forma exata a eles, porém, é necessário fazer uma distinção entre dois tipos de spin-orbitais comumente utilizados na literatura: os spin-orbitais restritos e irrestritos. Essas duas classes de autofunções do operador de Fock tem uma diferença bem específica: os spin-orbitais restritos possuem necessariamente a mesma função de onda espacial para elétrons com spin up e elétrons com spin down, enquanto os irrestritos, como o nome já diz, não obedecem essa limitação.\n",
    "\n",
    "$\\quad$ Nesse notebook, nos limitaremos a utilizar o método de Hartree-Fock com spin-orbitais restritos e camadas fechadas. O que significa que utilizaremos a mesma função de onda espacial para spin-orbitais de ambas as orientações do spin e também estudaremos apenas casos em que cada orbital eletrônico está ocupado por dois elétrons, um com spin up e outro com spin down. Dessa forma, não temos spins desemparelhados e consequentemente nossas configurações eletrônicas são no, no geral, mais estáveis."
   ]
  },
  {
   "cell_type": "markdown",
   "id": "be1c5114-aa84-4d2f-89c0-b27497cb69b9",
   "metadata": {},
   "source": [
    "### 3.1. Spin-Orbitais Restritos de Camada Fechada"
   ]
  },
  {
   "cell_type": "markdown",
   "id": "28d0b4a0-5d0f-4654-b833-3865696d48b4",
   "metadata": {},
   "source": [
    "$\\quad$ Como para spin-orbitais restritos utilizamos a mesma função espacial para todos os spin-orbitais, temos que as expressões que podem representar $\\chi_i$ são da forma"
   ]
  },
  {
   "cell_type": "markdown",
   "id": "cfa121d3-c62b-4d9f-b9ef-28a380939e29",
   "metadata": {},
   "source": [
    "$$  {\\chi_i (\\textbf{x}) = \\begin{cases} \n",
    "          \\psi_j(\\textbf{r})\\alpha(\\omega)\\\\\n",
    "          \\psi_j(\\textbf{r})\\beta(\\omega)\n",
    "       \\end{cases}   \n",
    "} \\ .\\tag{3.1}$$"
   ]
  },
  {
   "cell_type": "markdown",
   "id": "3cafb20e-69a6-40d4-b43d-dbb5b16367cb",
   "metadata": {},
   "source": [
    "$\\quad$ Onde as funções $\\alpha(\\omega)$ e $\\beta(\\omega)$ representam os spins up e down, respectivamente e $\\textbf{x} = (\\textbf{r}, \\omega)$ é o conjunto das variáveis das quais $\\chi_i$ depende: a posição espacial $\\textbf{r}$ e uma variável $\\omega$ que define o comportamento dos spins.\n",
    "\n",
    "$\\quad$ Como estamos tratando spin-orbitais de camada fechada, temos que o estado fundamental do nosso sistema deve ter a forma"
   ]
  },
  {
   "cell_type": "markdown",
   "id": "2046dfd5-64ba-4316-8600-7397c6c88074",
   "metadata": {},
   "source": [
    "$$\\vert\\Psi_0\\rangle = \\vert\\chi_1 \\chi_2 \\cdot \\cdot \\cdot \\chi_{N-1} \\chi_N \\rangle = \\vert \\psi_1 \\overline{\\psi}_1\n",
    "\\psi_2 \\overline{\\psi}_2 \\cdot \\cdot \\cdot \\psi_a \\overline{\\psi}_a \\cdot \\cdot \\cdot \\psi_{N/2} \\overline{\\psi}_{N/2}\\rangle \\ . \\tag{3.2}$$"
   ]
  },
  {
   "cell_type": "markdown",
   "id": "c2d34f63-c37d-49a6-ad51-5804a0669004",
   "metadata": {},
   "source": [
    "$\\quad$ Onde a utilizamos $\\psi_j =  \\psi_j \\alpha(\\omega)$ para denotar os spin-orbitais com spin up e $\\overline{\\psi_j} =  \\psi_j \\beta(\\omega)$ para denotar os que tem spin down no $j$-ésimo orbital espacial. O estado fundamental se reduz a essa forma uma vez que, como cada orbital espacial terá um spin up e um spin down, para $N$ elétrons no total, teremos $\\frac{N}{2}$ elétrons com spin up e $\\frac{N}{2}$ elétrons com spin down, por isso temos o produto de $\\frac{N}{2}$ pares de orbitais.\n",
    "\n",
    "$\\quad$ Agora, para que possemos nos aproveitar do formalismo dos orbitais espaciais, devemos converter a equação geral de Hartree-Fock para spin-orbitais $\\hat{f}\\vert \\chi_i \\rangle = \\epsilon_i \\vert \\chi_i \\rangle$ em uma equação de autovalor de orbitais espaciais, onde cada um desses orbitais moleculares está duplamente ocupado. Para isso, devemos integrar as funções de spin $\\alpha(\\omega)$ e $\\beta(\\omega)$ para fora da nossa expressão.\n",
    "\n",
    "$\\quad$ Para realizar esse procedimento, vamos primeiro escrever a equação de autovalor de Hartree-Fock explicitando as funções de orbital espacial e de spin. Para essa demonstração, presumiremos que temos spin up ($\\chi_i(\\textbf{x}) = \\psi_j(\\textbf{r})\\alpha(\\omega)$). O resultado para o caso de spin down é idêntico. Temos então que a equação toma a forma"
   ]
  },
  {
   "cell_type": "markdown",
   "id": "6eaa4d0a-5bb9-43a4-9801-f7026b4c2c6f",
   "metadata": {},
   "source": [
    "$$\\hat{f}(\\textbf{x}_i) \\psi_j(\\textbf{r}_i) \\alpha(\\omega_i) = \\epsilon_j \\psi_j(\\textbf{r}_i) \\alpha(\\omega_i) \\ .$$"
   ]
  },
  {
   "cell_type": "markdown",
   "id": "31b08e65-ebc2-44f0-a731-4d71ccbdc4cf",
   "metadata": {},
   "source": [
    "$\\quad$ Temos, nessa equação, que $\\epsilon_i$ e $\\epsilon_j$ devem ser idênticos, porém, manteremos o uso de $\\epsilon_j$ pela homogeneidade da notação. Multiplicando ambos os lados da equação por $\\alpha^*(\\omega_i)$ e integrando em $\\omega_i$, ficamos com"
   ]
  },
  {
   "cell_type": "markdown",
   "id": "cbba51d4-25dd-4107-bcd3-90408336ff2f",
   "metadata": {},
   "source": [
    "$$ {\\left[ \\int \\alpha^*(\\omega_i) \\hat{f}(\\textbf{x}_i) \\alpha(\\omega_i) d\\omega_i \\right] \\psi_j(\\textbf{r}_i)  = \\epsilon_j \\left[ \\int \\alpha^*(\\omega_i)\\alpha(\\omega_i) d\\omega_i \\right] \\psi_j(\\textbf{r}_i) } \\ . \\tag{3.3}$$"
   ]
  },
  {
   "cell_type": "markdown",
   "id": "9bbb23e7-201a-4ca3-9cd8-a0e6217c11f0",
   "metadata": {},
   "source": [
    "$\\quad$ Onde podemos tirar $\\psi_j(\\textbf{r}_i)$ das integrais uma vez que os orbitais espaciais não dependem de $\\omega_i$. Como o lado direito da equação corresponde ao valor esperado de $\\alpha^*(\\omega_i) \\alpha(\\omega_i)$ e $\\alpha$ é uma autofunção de spin, temos que $\\int\\alpha^*(\\omega_i) \\alpha(\\omega_i) d\\omega_i = 1$. Assim, o lado direito da nossa equação de autovalor se torna apenas $ \\epsilon_j \\psi_j(\\textbf{r}_i)$ e a equação de autovalor se simplifica para"
   ]
  },
  {
   "cell_type": "markdown",
   "id": "86d8cbb3-9091-4cf3-94fd-c4058a986613",
   "metadata": {},
   "source": [
    "$$ {\\left[ \\int \\alpha^*(\\omega_i) \\hat{f}(\\textbf{x}_i) \\alpha(\\omega_i) d\\omega_i \\right] \\psi_j(\\textbf{r}_i)  = \\epsilon_j \\psi_j(\\textbf{r}_i)} \\ .\\tag{3.4} $$"
   ]
  },
  {
   "cell_type": "markdown",
   "id": "d4322cba-3f61-4502-95bd-69fad25bce27",
   "metadata": {},
   "source": [
    "$\\quad$ Escrevendo o operador de Fock para spin-orbitais como"
   ]
  },
  {
   "cell_type": "markdown",
   "id": "05dffeea-f0fd-48ef-ad58-cf33b47b986b",
   "metadata": {},
   "source": [
    "$$\\hat{f}(\\textbf{x}_i) = \\hat{h}(\\textbf{r}_i) + \\sum_c ^N \\int \\chi_c ^* (\\textbf{x}_j)r_{ik}^{-1}(1 - \\hat{P}_{ik})\\chi_c (\\textbf{x}_k) d\\textbf{x}_k \\ .\\tag{3.5}$$"
   ]
  },
  {
   "cell_type": "markdown",
   "id": "4b361793-925a-4ef5-81b0-9b030717256d",
   "metadata": {},
   "source": [
    "$\\quad$ Onde $\\hat{P}_{ik}$ é um operador cujo efeito é permutar os elétrons $i$ e $k$, chegamos a"
   ]
  },
  {
   "cell_type": "markdown",
   "id": "1f03d7e7-35c7-4d98-bfc4-483f2b7022e1",
   "metadata": {},
   "source": [
    "$$\\left[ \\int \\alpha^*(\\omega_i) \\hat{h}(\\textbf{r}_i)\\alpha(\\omega_i) d\\omega_i \\right] \\psi_j(\\textbf{r}_i) + \\left[\\sum_c \\int \\alpha^*(\\omega_i)\\chi_c^*(\\textbf{x}_k) r_{ik}^{-1}(1- \\hat{P}_{ik})\\chi_c(\\textbf{x}_k)\\alpha(\\omega_i) d\\omega_i d\\textbf{x}_k \\right] \\psi_j(\\textbf{r}_i) = \\epsilon_j \\psi_j(\\textbf{r}_i) \\ .\\tag{3.6}$$"
   ]
  },
  {
   "cell_type": "markdown",
   "id": "5f40f8b1-24f4-475f-9a2d-66de6bad2de0",
   "metadata": {},
   "source": [
    "$\\quad$ Se deixarmos $\\hat{f}(\\textbf{r}_i)$ ser o operador de Fock para orbitais espaciais, obtido integrando os spins para fora do operador de Fock para spin-orbitais:"
   ]
  },
  {
   "cell_type": "markdown",
   "id": "a1b12149-f7a5-45ac-b6fc-4c18e885d45f",
   "metadata": {},
   "source": [
    "$$\\hat{f}(\\textbf{r}_i) = \\int \\alpha^*(\\omega_i) \\hat{f}(\\textbf{x}_i)\\alpha(\\omega_i) d\\omega_i \\tag{3.7}\\ .$$"
   ]
  },
  {
   "cell_type": "markdown",
   "id": "bb0527ae-bba7-4d81-9242-a53c6e9122ba",
   "metadata": {},
   "source": [
    "Temos que"
   ]
  },
  {
   "cell_type": "markdown",
   "id": "7db739e3-c070-46f9-99ae-64da34a46480",
   "metadata": {},
   "source": [
    "$$\\hat{f}(\\textbf{r}_i) \\psi_j(\\textbf{r}_i) = \\hat{h}(\\textbf{r}_i)\\psi_j(\\textbf{r}_i)$$"
   ]
  },
  {
   "cell_type": "markdown",
   "id": "2721aefc-2dc5-402e-95fa-af0eb3acb86e",
   "metadata": {},
   "source": [
    "$$ + \\left[\\sum_c \\int \\alpha^*(\\omega_i)\\chi_c^*(\\textbf{x}_k) r_{ik}^{-1}\\chi_c(\\textbf{x}_k)\\alpha(\\omega_i) d\\omega_i d\\textbf{x}_k \\right] \\psi_j(\\textbf{r}_i) \\tag{3.8}$$"
   ]
  },
  {
   "cell_type": "markdown",
   "id": "d0fd3dc7-9265-415e-830c-2b3ef1f3c087",
   "metadata": {},
   "source": [
    "$$-\\left[\\sum_c \\int \\alpha^*(\\omega_i)\\chi_c^*(\\textbf{x}_k) r_{ik}^{-1}\\chi_c(\\textbf{x}_i)\\alpha(\\omega_i) d\\omega_i d\\textbf{x}_k \\right] \\psi_j(\\textbf{r}_i)$$"
   ]
  },
  {
   "cell_type": "markdown",
   "id": "b3572541-d28c-4455-bf78-6c2cdc355f33",
   "metadata": {},
   "source": [
    "$$= \\epsilon_j \\psi_j(\\textbf{r}_i) \\ .$$"
   ]
  },
  {
   "cell_type": "markdown",
   "id": "22eafc09-0cf9-4af0-9af6-81b7e37d1d93",
   "metadata": {},
   "source": [
    "$\\quad$ Onde o produto por $(1-\\hat{P}_{ik})$ for aplicado distributivamente dentro da integral. Como o somatório ao longo de todos os spin-orbitais $c$, no caso das camadas fechadas, pode ser separado em um somatório de $\\frac{c}{2}$ elétrons com spin up e $\\frac{c}{2}$ elétrons de spin down, temos:"
   ]
  },
  {
   "cell_type": "markdown",
   "id": "12239e0d-14fe-4475-a4cb-efd8791f548e",
   "metadata": {},
   "source": [
    "$${\\hat{f}(\\textbf{r}_i) \\psi_j(\\textbf{r}_i) } = \\hat{h}(\\textbf{r}_i)\\psi_j(\\textbf{r}_i)$$"
   ]
  },
  {
   "cell_type": "markdown",
   "id": "68458c82-6bd7-4d31-b8c9-c17872ba9575",
   "metadata": {},
   "source": [
    " $$+ \\left[\\sum_c^{N/2} \\int \\alpha^*(\\omega_i)\\psi_c^*(\\textbf{r}_k)\\alpha(\\omega_k) r_{ik}^{-1}\\psi_c(\\textbf{r}_k) \\alpha(\\omega_k)\\alpha(\\omega_i) d\\omega_i d\\omega_k d\\textbf{r}_k \\right] \\psi_j(\\textbf{r}_i)$$"
   ]
  },
  {
   "cell_type": "markdown",
   "id": "fc31e902-519b-4f6f-9042-b3057bc22dd3",
   "metadata": {},
   "source": [
    "$$+\\left[\\sum_c^{N/2} \\int \\alpha^*(\\omega_i)\\psi_c^*(\\textbf{r}_k)\\beta(\\omega_k) r_{ik}^{-1}\\psi_c(\\textbf{r}_k) \\beta(\\omega_k)\\alpha(\\omega_i) d\\omega_i d\\omega_k d\\textbf{r}_k \\right] \\psi_j(\\textbf{r}_i)\\tag{3.9}$$"
   ]
  },
  {
   "cell_type": "markdown",
   "id": "93f3d946-6bde-4aaf-84e8-99f016254b9c",
   "metadata": {},
   "source": [
    "$$-\\left[\\sum_c^{N/2} \\int \\alpha^*(\\omega_i)\\psi_c^*(\\textbf{r}_k)\\alpha(\\omega_k) r_{ik}^{-1}\\psi_c(\\textbf{r}_k) \\alpha(\\omega_i)\\alpha(\\omega_k) d\\omega_i d\\omega_k d\\textbf{r}_k \\right] \\psi_j(\\textbf{r}_i)$$"
   ]
  },
  {
   "cell_type": "markdown",
   "id": "2da7298a-b350-4347-ba80-be5b17c9acd0",
   "metadata": {},
   "source": [
    "$$-\\left[\\sum_c^{N/2} \\int \\alpha^*(\\omega_i)\\psi_c^*(\\textbf{r}_k)\\beta(\\omega_k) r_{ik}^{-1}\\psi_c(\\textbf{r}_k) \\beta(\\omega_i)\\alpha(\\omega_k) d\\omega_i d\\omega_k d\\textbf{r}_k \\right] \\psi_j(\\textbf{r}_i)$$"
   ]
  },
  {
   "cell_type": "markdown",
   "id": "5930d2ad-33b6-40f4-9d5e-05512520a95b",
   "metadata": {},
   "source": [
    "$$ = \\epsilon_j \\psi_j(\\textbf{r}_i) \\ .$$"
   ]
  },
  {
   "cell_type": "markdown",
   "id": "762c9d99-a913-49ae-a654-687028791f5c",
   "metadata": {},
   "source": [
    "$\\quad$ A expressão acima é extensa, mas pode ser simplificada a partir de algumas observações:\n",
    "\n",
    "* A integral do último termo inclui uma interação de troca entre elétrons com spin antiparalelo. Como interações de troca só podem ocorrer entre elétrons de spin paralelo, devido à ortogonalidade dos spins up e down no espaço de estados, esse termo deve ser nulo;\n",
    "\n",
    "* Os dois primeiros termos, que representam as interações de Coulomb entre os elétrons, são iguais porque interações de Coulomb não distinguem entre os spins dos elétrons interagentes.\n",
    "\n",
    "$\\quad$ Assim, a Equação **(3.9)** se torna:"
   ]
  },
  {
   "cell_type": "markdown",
   "id": "2dcd3258-1766-4660-9baf-7a5e1d9ace9c",
   "metadata": {},
   "source": [
    "$${f(\\textbf{r}_i) \\psi_j(\\textbf{r}_i) } = h(\\textbf{r}_i)\\psi_j(\\textbf{r}_i)$$"
   ]
  },
  {
   "cell_type": "markdown",
   "id": "c022ae14-da5e-4ff8-b3d2-3862757b05eb",
   "metadata": {},
   "source": [
    "$$\\newline + 2\\sum_c ^{N/2} \\left[ \\int\\psi_c^*(\\textbf{r}_k) r_{ik}^{-1}\\psi_c(\\textbf{r}_k) d\\textbf{r}_k \\right] \\psi_j(\\textbf{r}_i) \\tag{3.10}$$"
   ]
  },
  {
   "cell_type": "markdown",
   "id": "2f30ea5f-1769-431e-8a3a-2485cfc7f73a",
   "metadata": {},
   "source": [
    "$$\\newline - \\sum_c^{N/2} \\left\\{\\left[\\int \\psi_c^*(\\textbf{r}_k) r_{ik}^{-1}\\psi_j(\\textbf{r}_k) d\\textbf{r}_k\\right] \\psi_c(\\textbf{r}_i)\\right\\}$$"
   ]
  },
  {
   "cell_type": "markdown",
   "id": "2d8dff8a-141e-4bff-b066-09485ae6b13f",
   "metadata": {},
   "source": [
    "$$\\newline = \\epsilon_j \\psi_j(\\textbf{r}_i) \\ .$$"
   ]
  },
  {
   "cell_type": "markdown",
   "id": "424df403-ed9d-4d8f-b388-fb7b1fb708f4",
   "metadata": {},
   "source": [
    "$\\quad$ Onde o primeiro termo representa a soma dos dois termos de interação de Coulomb e o segundo termo representa a interação de troca entre os elétrons.\n",
    "\n",
    "$\\quad$ Realmente, comparando a Equação **(3.10)** com as Equações **(2.7)** e **(2.9)**, podemos reconhecer as formas dos operadores de Coulomb e de troca. Assim, definimos os operadores de Coulomb e troca para camadas fechadas:"
   ]
  },
  {
   "cell_type": "markdown",
   "id": "5fd80747-bd14-47ac-8510-0c4329239a64",
   "metadata": {},
   "source": [
    "$$ \\hat{J}_c(\\textbf{r}_i) = \\int \\psi_c^*(\\textbf{r}_k) r_{ik}^{-1} \\psi_c(\\textbf{r}_k) d\\textbf{r}_k \\ ,\\tag{3.11}$$"
   ]
  },
  {
   "cell_type": "markdown",
   "id": "811ee071-6282-4c91-9438-16dd5c6138b1",
   "metadata": {},
   "source": [
    "$$\\hat{K}_c(\\textbf{r}_i) \\psi_j = \\left[\\int \\psi_c^*(\\textbf{r}_k)r_{ik}^{-1}\\psi_j(\\textbf{r}_i) d\\textbf{r}_k \\right]\\psi_c(\\textbf{r}_i) \\ ,\\tag{3.12}$$"
   ]
  },
  {
   "cell_type": "markdown",
   "id": "7887b617-9c54-46fa-bc12-ff46c4f24407",
   "metadata": {},
   "source": [
    "$$\\hat{f}(i) = \\hat{h}(i) + \\sum_c^{N/2}\\left[ 2\\hat{J}_c(i) - \\hat{K}_c(i)\\right] \\ .\\tag{3.13}$$"
   ]
  },
  {
   "cell_type": "markdown",
   "id": "7e5244bd-3901-4d2a-ab25-1ae545fd2354",
   "metadata": {},
   "source": [
    "$\\quad$ Na qual a soma ocorre nos pares de elétrons de spins opostos emparelhados em cada orbital.\n",
    "\n",
    "$\\quad$ Comparando a Equação **(3.13)** com a Equação **(2.13)**, onde definimos pela primeira fez o operador de Fock, notamos duas diferenças principais:\n",
    "\n",
    "* O somatório no operador de Fock para camadas fechadas vai apenas até $N/2$, enquanto o do operador de Fock geral vai até $N$;\n",
    "* O operador de Fock para camadas fechadas apresenta um fator de $2$ multiplicando o operador de Coulomb no somatório.\n",
    "\n",
    "$\\quad$ A interpretação dessas disparidades é bem direta: para moléculas que tem um número par $N$ de elétrons distribuídos em pares de spin oposto ao longo de $N/2$ orbitais espaciais, podemos efetivamente tratar como se cada elétron interagisse com cada um dos outros orbitais, com uma interação de Coulomb para cada um dos dois elétrons do orbital (uma vez que essa interação não depende do spin dos elétrons). E apenas uma interação de troca, pois, como cada orbital tem um spin up e um spin down e interações de troca entre elétrons de spins antiparalelos são nulas, apenas uma interação de troca por orbital acrescentará à energia de interação do sistema.\n",
    "\n",
    "$\\quad$ Com isso tudo, temos que a equação de Hartree-Fock restrita para orbitais fechados é idêntica em forma à Equação **(2.14)**:"
   ]
  },
  {
   "cell_type": "markdown",
   "id": "d6eebf5a-be49-4daa-a2a8-191dad6bc682",
   "metadata": {},
   "source": [
    "$$\\hat{f}(i)\\psi_j(i) = \\epsilon_j\\psi_j(i) \\ .\\tag{3.14}$$"
   ]
  },
  {
   "cell_type": "markdown",
   "id": "a0d921da-20b5-46bd-a471-8ccbc3b57522",
   "metadata": {},
   "source": [
    "$\\quad$ Com a exceção de que temos funções de onda espaciais $\\psi_j$ ao invés dos spin orbitais $\\chi_j$ e que, nesse caso, o operador de Fock é o dado pela Equação **(3.13)**."
   ]
  },
  {
   "cell_type": "markdown",
   "id": "03691fa4-3aa9-4f93-9ade-9e721ad8b7ff",
   "metadata": {},
   "source": [
    "### 3.2. Funções de Base"
   ]
  },
  {
   "cell_type": "markdown",
   "id": "b6781383-0c3c-41ce-ab4f-347394e71aa5",
   "metadata": {},
   "source": [
    "$\\quad$ Tendo eliminado o spin da nossa equação de autovalor original, podemos agora tentar encontrar uma forma de solucioná-la. Uma primeira possibilidade que vem à mente é tentar uma solução numérica. Isso, porém, se torna inviável para trabalhar moléculas compostas por vários átomos devido a uma mistura de problemas práticos relacionados à parte computacional do método com o fato de que as equações de Hartree-Fock são inerentemente não-lineares.\n",
    "\n",
    "$\\quad$ Felizmente, há uma solução razoavelmente simples para esse problema: podemos definir um conjunto de funções que formam uma base para o espaço de Hilbert, ao qual, pertencem os estados possíveis do nosso sistema de interesse. Com uma base completa, seria possível obter uma expansão exata da função de onda de uma molécula qualquer. Todavia, porque a dimensão do espaço de Hilbert cresce exponencialmente com o tamanho do sistema, devemos, geralmente, nos limitar a uma base que gere um sub-espaço do espaço de Hilbert. Para, assim, obter a melhor aproximação possível para o estado fundamental do nosso sistema. Assim, podemos escrever $\\psi_j$ da seguinte forma:"
   ]
  },
  {
   "cell_type": "markdown",
   "id": "fb488c83-1a80-475b-849f-1215ce5cb007",
   "metadata": {},
   "source": [
    "$$\\psi_j = \\sum_{\\mu = 1} ^K C_{\\mu j}\\phi_j\\ . \\tag{3.15}$$"
   ]
  },
  {
   "cell_type": "markdown",
   "id": "e036f7e7-6878-4208-b70d-fdc4ff3917fd",
   "metadata": {},
   "source": [
    "$\\quad$ onde $K$ é o número de funções de base utilizadas. Deve ser bastante intuitivo para qualquer pessoa com uma noção básica de álgebra linear que, quando maior o valor de $K$, maior o subespaço gerado pelo conjunto das funções de base e, consequentemente, melhor será a aproximação do estado da molécula. Substituindo a expansão da Equação **(3.15)** na **(3.14)**, chegamos à seguinte expressão:"
   ]
  },
  {
   "cell_type": "markdown",
   "id": "428c25bd-62bf-48b2-8ba2-880791f0f400",
   "metadata": {},
   "source": [
    "$$\\hat{f}(i)\\sum_\\nu C_{\\nu j} \\phi_{\\nu}(i) = \\epsilon_j \\sum_\\nu C_{\\nu j} \\phi_{\\nu}(i)\\ . \\tag{3.16}$$"
   ]
  },
  {
   "cell_type": "markdown",
   "id": "dc7b065b-cd39-436f-95fe-eb6d8089526c",
   "metadata": {},
   "source": [
    "$\\quad$ Multiplicando os dois lados da Equação **(3.16)** à esquerda por $\\phi_\\mu^*$ e integrando em $\\textbf{r}_i$, temos:"
   ]
  },
  {
   "cell_type": "markdown",
   "id": "bd7f0a53-5f2a-4d59-af06-8a0d6542949f",
   "metadata": {},
   "source": [
    "$$\\sum_\\nu C_{\\nu j} \\int{\\phi_\\mu^*(i) \\hat{f}(i) \\phi_\\nu(i) d\\textbf{r}_i} = \\epsilon_j \\sum_\\nu C_{\\nu j}\\int{\\phi_\\mu^*(i)\\phi_\\nu(i) d\\textbf{r}_i}\\ . \\tag{3.17}$$"
   ]
  },
  {
   "cell_type": "markdown",
   "id": "6a7298cf-cc51-4853-b333-f1c19d42251f",
   "metadata": {},
   "source": [
    "$\\quad$ Com base na equação acima definimos duas matrizes:\n",
    "* A matriz de sobreposição $\\textbf{S}$, cujos elementos são dados por:"
   ]
  },
  {
   "cell_type": "markdown",
   "id": "0a887a42-5cac-4666-bead-472172b5b371",
   "metadata": {},
   "source": [
    "$$\\textbf{S}_{\\mu \\nu} = \\int{\\phi_\\mu^*(i) \\phi_\\nu(i) d\\textbf{r}_i}\\ .$$"
   ]
  },
  {
   "cell_type": "markdown",
   "id": "2f585012-adc4-4f83-bbc9-385d63c365a7",
   "metadata": {},
   "source": [
    "* A matriz de Fock $\\textbf{F}$, cujos elementos são dados por:"
   ]
  },
  {
   "cell_type": "markdown",
   "id": "aeb27f21-ca92-40eb-9e61-855787a0dd61",
   "metadata": {},
   "source": [
    "$$\\textbf{F}_{\\mu \\nu} = \\int{\\phi_\\mu ^*(i) \\hat{f}(i) \\phi_\\nu(i) d\\textbf{r}_i }\\ .$$"
   ]
  },
  {
   "cell_type": "markdown",
   "id": "bd81a70e-df8e-4683-84bf-f5e42d1e3d93",
   "metadata": {},
   "source": [
    "$\\quad$ Ambas as matrizes de sobreposição e de Fock são matrizes quadradas ($K \\times K$). É fácil notar que os elementos da matriz de sobreposição são produtos internos entre diferentes funções de base. Como a base utilizada, de forma geral, não é ortogonal (embora presumamos aqui, sem perda de generalidade, que ela é normalizada), esses produtos internos não são necessariamente $0$ fora da diagonal principal. Na verdade, todos os elementos da matriz de sobreposição são medidas do quanto as funções de base $\\phi_\\mu$ e $\\phi_\\nu$ se sobrepõe no espaço de Hilbert e são da seguinte forma:"
   ]
  },
  {
   "cell_type": "markdown",
   "id": "3deea0f5-68e3-4c09-8318-0f4def679b99",
   "metadata": {},
   "source": [
    "$$  {\\begin{cases} \n",
    "          \\textbf{S}_{\\mu \\nu} = 1, \\mu = \\nu\\\\\n",
    "          0 \\leq \\textbf{S}_{\\mu \\nu}<1, \\mu \\neq \\nu\n",
    "       \\end{cases}   \n",
    "} \\ .$$"
   ]
  },
  {
   "cell_type": "markdown",
   "id": "a6638ffd-a35d-40d7-b61d-0266f96168b7",
   "metadata": {},
   "source": [
    "$\\quad$ Tendo definido essas duas matrizes, podemos reescrever a Equação **(3.17)** em função de seus elementos, o que nos dá:"
   ]
  },
  {
   "cell_type": "markdown",
   "id": "7e48b19b-9f01-4acf-ae30-d63c1bca2334",
   "metadata": {},
   "source": [
    "$$ \\sum_\\nu \\textbf{F}_{\\mu \\nu} C_{\\nu j} = \\epsilon_j \\sum_\\nu \\textbf{S}_{\\mu \\nu} C_{\\nu j} \\ . \\tag{3.18}$$"
   ]
  },
  {
   "cell_type": "markdown",
   "id": "b0b6a74f-b314-4b58-a878-c10890d63682",
   "metadata": {},
   "source": [
    "$\\quad$ Ou, ainda,"
   ]
  },
  {
   "cell_type": "markdown",
   "id": "47d891bf-8b68-4d4f-942f-3d977b94dab6",
   "metadata": {},
   "source": [
    "$$\\textbf{FC} = \\textbf{SC}\\textbf{E} \\ .\\tag{3.19}$$"
   ]
  },
  {
   "cell_type": "markdown",
   "id": "67af842f-365d-4412-8a84-31bb699d469a",
   "metadata": {},
   "source": [
    "$\\quad$ na qual, $\\textbf{C}$ é uma matriz $K \\times K$ cujos elementos são os coeficientes de expansão $C_{\\mu j}$ e $\\textbf{E}$ é uma matriz diagonal $K \\times K$, tal qual"
   ]
  },
  {
   "cell_type": "markdown",
   "id": "099db18b-bdeb-4a2c-883a-89085649d57c",
   "metadata": {},
   "source": [
    "$$  \\textbf{E}_{j k} = {\\begin{cases} \n",
    "          \\epsilon_j, j = k\\\\\n",
    "          0, j \\neq k\n",
    "       \\end{cases}   \n",
    "} \\ .$$"
   ]
  },
  {
   "cell_type": "markdown",
   "id": "c1c9194b-3e5f-4019-be66-3ebab11c1fca",
   "metadata": {},
   "source": [
    "$\\quad$ As expressões da Equação **(3.18)** são chamadas Equações de Roothaan, em homenagem ao físico e químico neerlandês Clemens C. J. Roothaan, que as desenvolveu durante suas pesquisas de doutorado.\n",
    "\n",
    "$\\quad$ Agora que transformamos as nossas equações de Hartree-Fock em uma equação matricial, dedicaremos a próxima seção a obter uma expressão explícita para a matriz de Fock para que possamos resolver a nossa equação matricial efetivamente."
   ]
  },
  {
   "cell_type": "markdown",
   "id": "279f680b-9cbc-46d4-b101-9b7921893869",
   "metadata": {},
   "source": [
    "### 3.3. Matriz de Densidade e a Matriz de Fock"
   ]
  },
  {
   "cell_type": "markdown",
   "id": "06fc7539-73e4-415c-bb09-271c4924a947",
   "metadata": {},
   "source": [
    "$\\quad$ Na Mecânica Quântica, a probabilidade de se encontrar um elétron descrito pela função de onda $\\psi_a$ numa vizinhança distando $d\\textbf{r}$ ponto $\\textbf{r}$ do espaço é dada por $|\\psi_a(\\textbf{r})|^2 d\\textbf{r}$. Se tivermos uma molécula de camadas fechadas com cada orbital molecular $\\psi_a$ contendo dois elétrons, a densidade eletrônica total será dada por:"
   ]
  },
  {
   "cell_type": "markdown",
   "id": "efaedd7f-0cdf-4858-bd60-620510a725b8",
   "metadata": {},
   "source": [
    "$$\\rho(\\textbf{r}) = 2\\sum_{a = 1}^{N/2}|\\psi_a(\\textbf{r})|^2 \\ . \\tag{3.20}$$"
   ]
  },
  {
   "cell_type": "markdown",
   "id": "4451f200-672e-414c-bba6-80eb89e1abbe",
   "metadata": {},
   "source": [
    "$\\quad$De forma que a integral de $\\rho(\\textbf{r})$ em todo o espaço será dada por:"
   ]
  },
  {
   "cell_type": "markdown",
   "id": "e0071ac5-4a60-4b87-a2a3-bdb9b44eb82f",
   "metadata": {},
   "source": [
    "$$\\int \\rho(\\textbf{r}) d\\textbf{r} = 2 \\sum_{a = 1}^{N/2} \\int |\\psi_a(\\textbf{r})|^2 d\\textbf{r} \\ .$$"
   ]
  },
  {
   "cell_type": "markdown",
   "id": "fa97f751-66e0-4128-abce-fe8ab3c59dc7",
   "metadata": {},
   "source": [
    "$$\\int \\rho(\\textbf{r}) d\\textbf{r} = 2 \\sum_{a = 1}^{N/2} \\int |\\psi_a(\\textbf{r})|^2 d\\textbf{r} \\ .$$"
   ]
  },
  {
   "cell_type": "markdown",
   "id": "fb57cf4c-b13a-4490-95f4-141412dbf456",
   "metadata": {},
   "source": [
    "$$ = 2\\sum_1^{N/2} 1 = 2\\cdot\\frac{N}{2} = N$$"
   ]
  },
  {
   "cell_type": "markdown",
   "id": "564af21e-5501-49e0-8c1d-8282a95a77c6",
   "metadata": {},
   "source": [
    "$\\quad$ Onde $N$ é o número total de elétrons na molécula. Como $|\\psi_a(\\textbf{r})|^2 = \\psi_a^* \\psi_a$, podemos usar a Equação **(3.15)** para escrever:"
   ]
  },
  {
   "cell_type": "markdown",
   "id": "ff6a6414-2c98-4c96-801a-a9f262f70d9d",
   "metadata": {},
   "source": [
    "$$\\rho(\\textbf{r}) = \\sum_{\\mu \\nu} \\left[2\\sum_a^{N/2}C_{\\mu a}C_{\\nu a}^*\\right]\\phi_\\mu(\\textbf{r})\\phi_\\nu^*(\\textbf{r})$$"
   ]
  },
  {
   "cell_type": "markdown",
   "id": "f51c8c54-8250-40d7-b70e-1a3495d751d1",
   "metadata": {},
   "source": [
    "$$\\therefore \\rho(\\textbf{r}) = \\sum_{\\mu \\nu}Q_{\\mu \\nu} \\phi_\\mu(\\textbf{r}) \\phi_\\nu(\\textbf{r})^* \\ . \\tag{3.21}$$"
   ]
  },
  {
   "cell_type": "markdown",
   "id": "bf2e6e56-95b4-409f-a51c-4b4f2db65cd8",
   "metadata": {},
   "source": [
    "$\\quad$ Onde $Q_{\\mu \\nu} = 2\\sum_{a = 1}^{N/2}C_{\\mu a}C_{\\nu a}^*$ são os elementos da Matriz de Densidade $\\textbf{Q}$, a qual, dado um conjunto de funções de base {$\\phi_\\mu$}, caracteriza completamente a densidade eletrônica $\\rho(\\textbf{r})$. Agora que definimos a matriz $\\textbf{Q}$, podemos construir a matriz de Fock de forma explícita.\n",
    "\n",
    "$\\quad$ Lembremos primeiro que, conforme a Equação **(3.13)**, o operador de Fock pode ser escrito como a soma de um operador de energia de um elétron $\\hat{h}(i)$ com os termos de interação de Coulomb e de Troca. Substituindo a Equação **(3.13)** na definição dos elementos da matriz de Fock $\\textbf{F}_{\\mu \\nu}$, encontramos:"
   ]
  },
  {
   "cell_type": "markdown",
   "id": "b76f0f8c-e1d9-493a-bc8f-80673327f0d8",
   "metadata": {},
   "source": [
    "$$\\textbf{F}_{\\mu \\nu} = \\int\\phi_\\mu^*(\\textbf{r}_i)\\hat{h}(i)\\phi_\\nu(\\textbf{r}_i) d\\textbf{r}_i + \\sum_{a = 1}^{N/2} \\int \\phi_\\mu^*(\\textbf{r}_i)\\left [2\\hat{J}_a(\\textbf{r}_i - \\hat{K}_a(\\textbf{r}_i) \\right] \\phi_\\nu(\\textbf{r}_i) d\\textbf{r}_i \\ .$$"
   ]
  },
  {
   "cell_type": "markdown",
   "id": "f097fb76-c75b-40e9-88d7-71862ff75cb1",
   "metadata": {},
   "source": [
    "$\\quad$ Onde definimos:"
   ]
  },
  {
   "cell_type": "markdown",
   "id": "dd0d9812-4e5a-4515-bf46-1e19287f37a0",
   "metadata": {},
   "source": [
    "$$\\textbf{H}_{\\mu \\nu} = \\int\\phi_\\mu^*(\\textbf{r}_i)\\hat{h}(i)\\phi_\\nu(\\textbf{r}_i) d\\textbf{r}_i \\ . \\tag{3.22}$$"
   ]
  },
  {
   "cell_type": "markdown",
   "id": "03b1ddff-b76f-491f-84ad-d941cce04288",
   "metadata": {},
   "source": [
    "$$(\\mu \\nu |\\lambda \\sigma) = \\int \\int \\phi_\\mu^*(\\textbf{r}_i)\\phi_\\nu(\\textbf{r}_i) r_{ij}^{-1}\\phi_\\lambda^*(\\textbf{r}_j)\\phi_\\sigma(\\textbf{r}_j) d\\textbf{r}_i d\\textbf{r}_j \\ . \\tag{3.23}$$"
   ]
  },
  {
   "cell_type": "markdown",
   "id": "67590aac-b0ea-4224-a414-366fdc2193f1",
   "metadata": {},
   "source": [
    "$\\quad$ Tal que podemos, através das Equações **(3.15)** e **(3.23)** e da definição dos elementos da Matriz de Densidade $Q_{\\mu \\nu}$, escrever os elementos da matriz de Fock como sendo:"
   ]
  },
  {
   "cell_type": "markdown",
   "id": "2b885141-7c89-4c5b-921a-7586061e3080",
   "metadata": {},
   "source": [
    "$$\\textbf{F}_{\\mu \\nu} = \\textbf{H}_{\\mu \\nu} + \\sum_{\\lambda \\sigma} \\left[(\\mu \\nu| \\lambda \\sigma) - \\frac{1}{2} (\\mu \\lambda | \\sigma \\nu)\\right] = \\textbf{H}_{\\mu \\nu} + \\textbf{G}_{\\mu \\nu} \\ . \\tag{3.24}$$"
   ]
  },
  {
   "cell_type": "markdown",
   "id": "d3d503a2-9cc0-4dcf-97e4-7b20ff5e6ed5",
   "metadata": {},
   "source": [
    "$\\quad$ Na Equação **(3.24)**, definimos os $\\textbf{G}_{\\mu \\nu} = \\sum_{\\lambda \\sigma} \\left[(\\mu \\nu | \\lambda \\sigma) - \\frac{1}{2}(\\mu \\lambda | \\sigma \\nu) \\right]$ que são aos elementos da matriz $\\textbf{G}$ e representam as interações entre pares de elétrons. Essa será a nossa expressão final para a matriz de Fock. Agora, para resolver as equações de Roothaan, na prática, só falta encontrarmos uma forma de nos livrarmos da matriz de sobreposição $\\textbf{S}$."
   ]
  },
  {
   "cell_type": "markdown",
   "id": "aa2e13ff-b85b-452c-9a2c-b4dca5c96b20",
   "metadata": {},
   "source": [
    "### 3.4. Ortogonalização da Base e o Procedimento de Campo Autoconsistente"
   ]
  },
  {
   "cell_type": "markdown",
   "id": "80b5e315-4018-4dfb-99d8-88fe82e87f78",
   "metadata": {},
   "source": [
    "$\\quad$ A forma matricial das equações de Roothaan, como mostrado na Equação **(3.19)**, apresenta uma forma muito semelhante ao de um problema matricial de autovalor. Observando a definição dos elementos da matriz de sobreposição $\\textbf{S}_{\\mu \\nu}$, é facilmente notável que, numa base ortonormal, $\\textbf{S}$ seria a matriz identidade. Dessa forma, dado que possamos ortogonalizar nossa base, podemos solucionar as equações de Roothan utilizando métodos iterativos. Existem duas formas comuns de realizar essa ortogonalização no contexto do Método de Hartree-Fock, as chamadas Ortogonalização Simétrica e Ortogonalização Canônica. Os dois métodos consistem em encontrar uma matriz $\\textbf{X}$ de mudança de base que diagonaliza a matriz $\\textbf{S}$. Não entraremos a fundo no funcionamento desses métodos (recomendamos a seção 3.4.5 do livro Modern Quantum Chemistry dos autores Szabo e Ostlund para mais detalhes), ao invés disso, forneceremos apenas as matrizes $\\textbf{X}$ para cada um dos casos\n",
    "\n",
    "$\\quad$ Para a Ortogononalização Simétrica, temos:"
   ]
  },
  {
   "cell_type": "markdown",
   "id": "c2c7d013-8790-41b2-9303-1c2ffea086e3",
   "metadata": {},
   "source": [
    "$$\\textbf{X}_{Symm} = \\textbf{S}^{-1/2}\\ . \\tag{3.25}$$"
   ]
  },
  {
   "cell_type": "markdown",
   "id": "e6e8483f-a6ce-4701-8949-7761a1d68e5e",
   "metadata": {},
   "source": [
    "$\\quad$ Ou seja, na Ortogonalização Simétrica, $\\textbf{X}$ é a raiz quadrada da inversa de $\\textbf{S}$. Para a Ortogonalização Canônica, por outro lado, temos:"
   ]
  },
  {
   "cell_type": "markdown",
   "id": "27aa0a22-edc8-4fa7-b0ff-d42aec323bd7",
   "metadata": {},
   "source": [
    "$$\\textbf{X}_{Can} = \\textbf{U}\\textbf{s}^{-1/2}\\ . \\tag{3.26}$$"
   ]
  },
  {
   "cell_type": "markdown",
   "id": "1d8c8ef3-fe7e-4ff5-a92d-f70ac538d3f0",
   "metadata": {},
   "source": [
    "$\\quad$ Onde $\\textbf{s}$ é a matriz diagonal cujos elementos são os autovalores de $\\textbf{S}$ e $\\textbf{U}$ é a matriz unitária que diagonaliza $\\textbf{S}$ tal que $\\textbf{s} = \\textbf{U}^{\\dagger}\\textbf{S}\\textbf{U}$."
   ]
  },
  {
   "cell_type": "markdown",
   "id": "4a5a2a31-bff2-4de9-ba68-474e217e204c",
   "metadata": {},
   "source": [
    "$\\quad$ Com isso tudo definido, podemos finalmente descrever o procedimento computacional que resolve o problema proposto de encontrar o estado fundamental e estimar quantidades de interesse de uma molécula de camada restrita, que se chama Procedimento de Campo Autoconsistente (frequentemente abreviado como Procedimento SCF, do inglês Self-Consistent Field)."
   ]
  },
  {
   "cell_type": "markdown",
   "id": "81a42474-1fba-449a-95a4-2d858755f6cf",
   "metadata": {},
   "source": [
    "## Procedimento SCF"
   ]
  },
  {
   "cell_type": "markdown",
   "id": "2ad87db2-3f4f-48d6-b8fb-e522256a7871",
   "metadata": {},
   "source": [
    "1. Especifique uma molécula, dada por um conjunto de coordenadas dos núcleos {$R_A$} (estáticas na aproximação de Bohr-Oppenheimer), números atômicos {$Z_A$}, número de elétrons $N$ e um conjunto de funções de base {$\\phi_\\mu$};\n",
    "2. Calcule as integrais moleculares necessárias e obtenha $\\textbf{S}$, $\\textbf{H}$ e $(\\mu \\nu | \\lambda \\sigma)$;\n",
    "3. Diagonalize a matriz de sobreposição $\\textbf{S}$ e obtenha a matriz $\\textbf{X}$ correspondente ao método de Ortogonalização desejado conforme a Equação **(3.25)** ou a Equação **(3.26)**;\n",
    "4. Chute um valor inicial para a Matriz de Densidade $\\textbf{Q}$;\n",
    "5. Calcule a matriz $\\textbf{G}$ a partir da Matriz de Densidade $\\textbf{Q}$ e das interações entre pares de elétrons $(\\mu \\nu | \\lambda \\sigma)$;\n",
    "6. Some $\\textbf{H}$ e $\\textbf{G}$ para obter $\\textbf{F}$;\n",
    "7. Calcule a Matriz de Fock transformada por $\\textbf{X}$, $\\textbf{F'} = \\textbf{X}^{\\dagger} \\textbf{F} \\textbf{X}$;\n",
    "8. Diagonalize $\\textbf{F'}$ para obter $\\textbf{C'}$ e $\\textbf{E}$;\n",
    "9. Calcule $\\textbf{C} = \\textbf{X}\\textbf{C'}$\n",
    "10. Construa uma nova Matriz de Densidade $\\textbf{Q}$ a partir de $\\textbf{C}$.\n",
    "11. Determine se o procedimento já convergiu, ou seja, se a diferença entre a Matriz de Densidade atual e a do passo anterior está dentro da margem de erro desejada. Se o procedimento ainda não houver convergido, retorne ao passo 5 com a nova Matriz de Densidade no lugar da antiga;\n",
    "12. Caso o procedimento já tenha convergido, utilize $\\textbf{C}$, $\\textbf{Q}$ e $\\textbf{F}$ para calcular quaisquer valores esperados ou quantidades de interesse."
   ]
  },
  {
   "cell_type": "markdown",
   "id": "7c844b64-196e-4c86-8f2d-1ffc07620caf",
   "metadata": {},
   "source": [
    "## Molécula de Hidrogênio"
   ]
  },
  {
   "cell_type": "code",
   "execution_count": 3,
   "id": "bb49ac13-c860-4f1d-9f0b-147d59d9f343",
   "metadata": {},
   "outputs": [],
   "source": [
    "import numpy as np"
   ]
  },
  {
   "cell_type": "code",
   "execution_count": null,
   "id": "9dad7435-7c14-44c5-8684-d6a4a3dacc39",
   "metadata": {},
   "outputs": [],
   "source": [
    "class gauss():\n",
    "    \n",
    "    def f(self, coord):\n",
    "        cosnt = np.array([[0.3425250914E+01, 0.1543289673E+0], [0.6239137298E+00, 0.5353281423E+00], [0.1688554040E+00, 0.4446345422E+00]])\n",
    "        H1 = np.zeros(3)\n",
    "        H2 = np.zeros(3)\n",
    "        for i in range(3):\n",
    "            for j in range(2):\n",
    "                self.alpha\n",
    "                \n",
    "        self.coordinates = np.array(coordinates)\n",
    "        self.A = ( 2.0 * alpha / math.pi ) ** 0.75 # + other terms for l1, l2, l3 > 0\n",
    "        return"
   ]
  },
  {
   "cell_type": "code",
   "execution_count": null,
   "id": "b1530c54-46a5-43ee-9e38-7642f2d31520",
   "metadata": {},
   "outputs": [],
   "source": [
    "cosnt = [[0.3425250914E+01, 0.1543289673E+0], [0.6239137298E+00, 0.5353281423E+00], [0.1688554040E+00, 0.4446345422E+00]]"
   ]
  },
  {
   "cell_type": "code",
   "execution_count": 1,
   "id": "4cc0c2cd-1d05-4267-9a7f-d7e6015ee1f4",
   "metadata": {},
   "outputs": [],
   "source": [
    "distances = [round(i*0.1,3) for i in range(4,61)]  # in unit = bohr (a.u of position)\n",
    "molecule_coordinates = [[[0.0, 0.0, 0.0], [0.0, 0.0, distance]] for distance in distances]\n",
    "total_energies = []\n",
    "for molecule_coordinate in molecule_coordinates:\n",
    "    # create H2 molecule - sto-3g basis\n",
    "    H1_pg1a = primitive_gaussian(0.3425250914E+01, 0.1543289673E+00, molecule_coordinate[0], 0, 0, 0)\n",
    "    H1_pg1b = primitive_gaussian(0.6239137298E+00, 0.5353281423E+00, molecule_coordinate[0], 0, 0, 0)\n",
    "    H1_pg1c = primitive_gaussian(0.1688554040E+00, 0.4446345422E+00, molecule_coordinate[0], 0, 0, 0)\n",
    "    H2_pg1a = primitive_gaussian(0.3425250914E+01, 0.1543289673E+00, molecule_coordinate[1], 0, 0, 0)\n",
    "    H2_pg1b = primitive_gaussian(0.6239137298E+00, 0.5353281423E+00, molecule_coordinate[1], 0, 0, 0)\n",
    "    H2_pg1c = primitive_gaussian(0.1688554040E+00, 0.4446345422E+00, molecule_coordinate[1], 0, 0, 0)\n",
    "    number_occupied_orbitals = 1\n",
    "    zlist = [1.0, 1.0]\n",
    "    atom_coords = [np.array(molecule_coordinate[0]), np.array(molecule_coordinate[1])]\n",
    "    H1_1s = [H1_pg1a, H1_pg1b, H1_pg1c]\n",
    "    H2_1s = [H2_pg1a, H2_pg1b, H2_pg1c]\n",
    "    molecule = [H1_1s, H2_1s]\n",
    "    \n",
    "    # compute scf energy (electronic energy)\n",
    "    S = overlap(molecule)\n",
    "    T = kinetic(molecule)\n",
    "    Vne = electron_nuclear_attraction(molecule, [1.0, 1.0])\n",
    "    Vee = electron_electron_repulsion(molecule)\n",
    "    Enn = nuclear_nuclear_repulsion_energy(atom_coords, zlist)\n",
    "    molecular_terms = [S, T, Vne, Vee]\n",
    "    scf_parameters = [1e-5, 20]\n",
    "    electronic_energy = scf_cycle(molecular_terms, scf_parameters, molecule)\n",
    "    # compute total energy - electronic_energy + Enn\n",
    "    total_energy = electronic_energy + Enn\n",
    "    total_energies.append(total_energy)\n",
    "    \n",
    "# plot bond dissociation curve\n",
    "import matplotlib.pyplot as plt\n",
    "plt.xlabel(\"Bond distance, Angstrom\")\n",
    "plt.ylabel(\"Total Energy, Hartree\")\n",
    "plt.plot(np.array(distances)*0.529, total_energies)"
   ]
  },
  {
   "cell_type": "code",
   "execution_count": null,
   "id": "70ddc9ba-24dd-4266-8178-683b1aca3b3a",
   "metadata": {},
   "outputs": [],
   "source": []
  },
  {
   "cell_type": "code",
   "execution_count": null,
   "id": "793e5c89-ccb3-4126-91cf-809eb0132c3c",
   "metadata": {},
   "outputs": [],
   "source": []
  },
  {
   "cell_type": "code",
   "execution_count": null,
   "id": "21b9074a-0d63-4397-8b99-fb7a4e000624",
   "metadata": {},
   "outputs": [],
   "source": []
  },
  {
   "cell_type": "markdown",
   "id": "fbfe51a9-290b-490b-b284-35bafce14ff8",
   "metadata": {},
   "source": [
    "## Apêndice A"
   ]
  },
  {
   "cell_type": "markdown",
   "id": "fdc4cbd9-5381-472a-92f5-3f6814aad164",
   "metadata": {},
   "source": [
    "$\\quad$ Aqui determinaremos dois operadores, o de um elétron $O_1$ e o de dois elétrons $O_2$. Vale ressaltar que precisaremos usar o determinante de Slater na forma de somatório, também vale salientar que esse desenvolvimento está descrito na referência **[1]**."
   ]
  },
  {
   "cell_type": "markdown",
   "id": "3cc6a3c9-14e9-465b-b31c-129680270d02",
   "metadata": {},
   "source": [
    "### Operador $\\hat{O}_1$"
   ]
  },
  {
   "cell_type": "markdown",
   "id": "db53f130-9cb5-408a-ab68-43db0fd1c888",
   "metadata": {},
   "source": [
    "$\\quad$ O operador $O_1$ é definido da seguinte forma"
   ]
  },
  {
   "cell_type": "markdown",
   "id": "24d08a5f-9fd8-4b35-8f7a-a5c4f4d229f0",
   "metadata": {},
   "source": [
    "$$\\hat{O}_1 = \\sum \\limits_{n=1} ^N h(n) \\ ,$$"
   ]
  },
  {
   "cell_type": "markdown",
   "id": "67bbb87e-8ab3-40e8-9d05-56ccf34c8fb2",
   "metadata": {},
   "source": [
    "no qual o operador $\\hat{h}(n)$ atua apenas no n-ésimo elétron. Assim, o valor esperado do operador $\\hat{O}_1$ é dado por"
   ]
  },
  {
   "cell_type": "markdown",
   "id": "712dd721-c084-4bc2-8563-71f9b9d8b1d4",
   "metadata": {},
   "source": [
    "$$\\langle \\Psi \\vert \\hat{O}_1 \\vert \\Psi \\rangle =\\frac{1}{N!} \\langle \\sum\\limits_{i=1}^{N!} (-1)^{p_i}\\chi_{i_1}\\chi_{i_2} ... \\chi_{i_N} \\vert \\sum \\limits_n \\hat{h}(n) \\vert\\sum\\limits_{j=1}^{N!}(-1)^{p_j}\\chi_{j_1}\\chi_{j_2} ... \\chi_{j_N} \\rangle$$"
   ]
  },
  {
   "cell_type": "markdown",
   "id": "4a70d2c0-8311-4dae-be28-36e51032f075",
   "metadata": {},
   "source": [
    "$$\\implies \\langle \\Psi \\vert \\hat{O}_1 \\vert \\Psi \\rangle = \\sum \\limits_n \\frac{1}{N!} \\langle \\sum\\limits_{i=1}^{N!} (-1)^{p_i}\\chi_{i-1}\\chi_{i_2} ... \\chi_{i_N} \\vert \\hat{h}(n) \\vert\\sum\\limits_{j=1}^{N!}(-1)^{p_j}\\chi_{j_1}\\chi_{j_2} ... \\chi_{j_N} \\rangle \\ ,$$"
   ]
  },
  {
   "cell_type": "markdown",
   "id": "fc3450d0-1c84-4bc5-93d5-602cc78acb94",
   "metadata": {},
   "source": [
    "como o operador $\\hat{h}(n)$ só atua n-ésimo elétron, então aqui ele só irá interagir com a n-ésima função de onda. Além disso, expandiremos o somatório"
   ]
  },
  {
   "cell_type": "markdown",
   "id": "0a0b954d-3df8-4734-9457-1e863f5fb210",
   "metadata": {},
   "source": [
    "$$\\langle \\Psi \\vert \\hat{O}_1 \\vert \\Psi \\rangle = \\frac{1}{N!}\\sum \\limits_n \\sum\\limits_{i=1}^{N!}\\sum\\limits_{j=1}^{N!} (-1)^{p_i+p_j}\\langle \\chi_{i_1} \\vert \\chi_{j_1} \\rangle \\langle \\chi_{i_2} \\vert \\chi_{j_2}\\rangle ... \\langle \\chi_{i_n} \\vert \\hat{h}(n) \\vert \\chi_{j_n} \\rangle ... \\langle \\chi_{i_N} \\vert \\chi_{j_N} \\rangle \\ ,$$"
   ]
  },
  {
   "cell_type": "markdown",
   "id": "a3e1b7a1-5b81-42a0-9f95-8a195db988d8",
   "metadata": {},
   "source": [
    "dado que os orbitais são ortonormais, então $\\langle \\chi_i \\vert \\chi_j \\rangle = \\delta_{ij}$. Logo, teremos"
   ]
  },
  {
   "cell_type": "markdown",
   "id": "cda940d5-6893-4182-be0e-e2d841490edd",
   "metadata": {},
   "source": [
    "$$\\langle \\Psi \\vert \\hat{O}_1 \\vert \\Psi \\rangle = \\frac{1}{N!}\\sum \\limits_n \\sum\\limits_{i=1}^{N!}\\sum\\limits_{j=1}^{N!} (-1)^{p_i+p_j} \\langle \\chi_{i_n} \\vert \\hat{h}(n) \\vert \\chi_{j_n} \\rangle \\delta_{i_1 j_1}\\delta_{i_2 j_2}...\\delta_{i_N j_N} \\ .$$"
   ]
  },
  {
   "cell_type": "markdown",
   "id": "de7e7db0-adbf-4ecc-99d3-00fd7e35aed0",
   "metadata": {},
   "source": [
    "$\\quad$ Conseguinte, os somatórios em $i$ e em $j$ somem, pois como $\\delta_{ij} = 0$ para $i\\neq j$ e apenas haverá valor quando $i=j$. Com isso o valor esperado ficará da seguinte forma"
   ]
  },
  {
   "cell_type": "markdown",
   "id": "ae82b87a-a787-4905-b4f8-545fbe85a19b",
   "metadata": {},
   "source": [
    "$$\\langle \\Psi \\vert \\hat{O}_1 \\vert \\Psi \\rangle = \\frac{1}{N!}\\sum \\limits_n \\sum\\limits_{i=1}^{N!}(-1)^{2 p_i} \\langle \\chi_{i_n} \\vert \\hat{h}(n) \\vert \\chi_{i_n} \\rangle = \\frac{1}{N!}\\sum \\limits_n \\sum\\limits_{i=1}^{N!} \\langle \\chi_{i_n} \\vert \\hat{h}(n) \\vert \\chi_{i_n} \\rangle \\ .$$"
   ]
  },
  {
   "cell_type": "markdown",
   "id": "34abe6f0-feed-42ff-8e5b-f6f87733c898",
   "metadata": {},
   "source": [
    "$\\quad$ Note que os termos do somatório $n$ são sempre iguais, então podemos trocar o somatório por um fator $N$,"
   ]
  },
  {
   "cell_type": "markdown",
   "id": "ad7cf2b7-cdc5-4f54-ae7c-d9fb246483a3",
   "metadata": {},
   "source": [
    "$$\\langle \\Psi \\vert \\hat{O}_1 \\vert \\Psi \\rangle = \\frac{N}{N!}\\sum\\limits_{i=1}^{N!} \\langle \\chi_{i_n} \\vert \\hat{h}(n) \\vert \\chi_{i_n} \\rangle \\ .$$"
   ]
  },
  {
   "cell_type": "markdown",
   "id": "aa1f1bc0-9422-4757-816e-8cfd48112663",
   "metadata": {},
   "source": [
    "$\\quad$ Suponhamos que um elétron ocupe o spin-orbital $\\chi_{i_n}$, então haverá $(N-1)!$ maneira dos outros $N-1$ elétrons se organizarem nos $N-1$ spin-orbitais sobrando. Dessa forma, podemos trocar o índice do somatório $i$ para $i_n$, mas devemos multiplicar pelo fator $(N-1)!$. Logo,"
   ]
  },
  {
   "cell_type": "markdown",
   "id": "cb709a99-2c3b-4185-8af8-4ec8bf6c6543",
   "metadata": {},
   "source": [
    "$$\\langle \\Psi \\vert \\hat{O}_1 \\vert \\Psi \\rangle = \\frac{N}{N!}(N-1)!\\sum\\limits_{i_n=1}^{N} \\langle \\chi_{i_n} \\vert \\hat{h}(n) \\vert \\chi_{i_n} \\rangle = \\frac{N!}{N!}\\sum\\limits_{i_n=1}^{N} \\langle \\chi_{i_n} \\vert \\hat{h}(n) \\vert \\chi_{i_n} \\rangle = \\sum\\limits_{i_n=1}^{N} \\langle \\chi_{i_n} \\vert \\hat{h}(n) \\vert \\chi_{i_n} \\rangle \\ .$$"
   ]
  },
  {
   "cell_type": "markdown",
   "id": "b21e0dc3-716c-48bc-a2cf-286bdc0f73dd",
   "metadata": {},
   "source": [
    "$\\quad$ Reindexando, $i_n$ por $i$, temos"
   ]
  },
  {
   "cell_type": "markdown",
   "id": "2685deaf-590d-44ae-bd34-f0ab155c331f",
   "metadata": {},
   "source": [
    "$$ \\therefore \\boxed{ \\langle \\Psi \\vert \\hat{O}_1 \\vert \\Psi \\rangle = \\sum \\limits_{i=1}^N \\langle \\chi_{i} \\vert \\hat{h} \\vert \\chi_i \\rangle } \\tag{1}$$"
   ]
  },
  {
   "cell_type": "markdown",
   "id": "a5c2d91b-127a-4cb4-89a6-7c7b723da6cb",
   "metadata": {},
   "source": [
    "### Operador $\\hat{O}_2$"
   ]
  },
  {
   "cell_type": "markdown",
   "id": "8cf611bc-afa3-450a-bae2-3f82f0fc383d",
   "metadata": {},
   "source": [
    "$\\quad$ Agora desenvolveremos o operador de dois elétrons $\\hat{O}_2$, cujo é expresso da seguinte forma"
   ]
  },
  {
   "cell_type": "markdown",
   "id": "80cfb8bd-c145-409e-afa3-7bc6d08ae1ce",
   "metadata": {},
   "source": [
    "$$\\hat{O}_2 = \\sum \\limits_{m\\neq n}^N r_{mn}^{-1} \\ , $$"
   ]
  },
  {
   "cell_type": "markdown",
   "id": "465d1b47-480e-43b2-a196-ec1c298397fa",
   "metadata": {},
   "source": [
    "analogamente ao operador $\\hat{h}(n)$, o termo $r_{mn}$ é referente a interação de repulsão Coulombiana entre o m-ésimo e n-ésimo elétrons. Assim, determinando o seu valor esperado, temos"
   ]
  },
  {
   "cell_type": "markdown",
   "id": "0d0425d4-dd03-4760-9c3e-97799fd6caa6",
   "metadata": {},
   "source": [
    "$$\\langle \\Psi \\vert \\hat{O}_2 \\vert \\Psi \\rangle = \\frac{1}{N!}\\langle \\sum\\limits_{i=1}^{N!} (-1)^{p_i} \\chi_{i_1}\\chi_{i_2} ... \\chi_{i_N} \\vert \\sum \\limits_{m \\neq n}^N r_{mn}^{-1} \\vert \\sum\\limits_{j=1}^{N!} (-1)^{p_j}\\chi_{j_1}\\chi_{j_2} ... \\chi_{j_N} \\rangle$$"
   ]
  },
  {
   "cell_type": "markdown",
   "id": "66dac5cd-f8bf-4b2a-8f87-9119f019c0fe",
   "metadata": {},
   "source": [
    "$$\\implies \\langle \\Psi \\vert \\hat{O}_2 \\vert \\Psi \\rangle = \\frac{1}{N!}\\sum \\limits_{m \\neq n}^N\\sum\\limits_{i=1}^{N!} \\sum\\limits_{j=1}^{N!} (-1)^{p_i+p_j}\\langle \\chi_{i_1}\\chi_{i_2} ... \\chi_{i_N} \\vert r_{mn}^{-1} \\vert \\chi_{j_1}\\chi_{j_2} ... \\chi_{j_N} \\rangle \\ .$$"
   ]
  },
  {
   "cell_type": "markdown",
   "id": "e7c5c7e4-c3db-47b0-9b0e-a54cbf81c43b",
   "metadata": {},
   "source": [
    "$\\quad$ Como $r^{-1}_{mn}$ interage apenas com os orbitais $m$ e $n$, então"
   ]
  },
  {
   "cell_type": "markdown",
   "id": "9e55dd8d-8006-491e-b79e-4c19b98fc9a6",
   "metadata": {},
   "source": [
    "$$\\langle \\Psi \\vert \\hat{O}_2 \\vert \\Psi \\rangle =  \\frac{1}{N!}\\sum \\limits_{m \\neq n}^N\\sum\\limits_{i=1}^{N!} \\sum\\limits_{j=1}^{N!} (-1)^{p_i+p_j} \\langle \\chi_{i_1} \\vert \\chi_{j_1} \\rangle \\langle \\chi_{i_2} \\vert \\chi_{j_2} \\rangle ... \\langle \\chi_{i_m} \\chi_{i_n} \\vert r_{mn}^{-1} \\vert \\chi_{j_m} \\chi_{j_n} \\rangle ... \\langle \\chi_{i_N} \\vert \\chi_{j_N} \\rangle$$"
   ]
  },
  {
   "cell_type": "markdown",
   "id": "962bf444-ead1-4645-8310-3c3871ee1f1e",
   "metadata": {},
   "source": [
    "$$\\implies \\langle \\Psi \\vert \\hat{O}_2 \\vert \\Psi \\rangle =  \\frac{1}{N!}\\sum \\limits_{m \\neq n}^N\\sum\\limits_{i=1}^{N!} \\sum\\limits_{j=1}^{N!} (-1)^{p_i+p_j}  \\langle \\chi_{i_m} \\chi_{i_n} \\vert r_{mn}^{-1} \\vert \\chi_{j_m} \\chi_{j_n} \\rangle \\delta_{i_1 j_1} \\delta_{i_2 j_2}...\\delta_{i_N j_N} \\ .$$"
   ]
  },
  {
   "cell_type": "markdown",
   "id": "50d18984-abda-4248-a803-aeed9e9abc40",
   "metadata": {},
   "source": [
    "$\\quad$ Note aqui que todo esse desenvolvimento é análogo ao que fizemos com o valor esperado do operador $\\hat{O}_1$. Porém, nesse caso há duas possibilidades, $ (\\chi_{i_m}, \\ \\chi_{i_n}) = (\\chi_{j_m}, \\ \\chi_{j_n})$ e $(\\chi_{i_m}, \\ \\chi_{i_n})  = (\\chi_{j_n}, \\ \\chi_{j_m})$, o primeiro caso tem como consequência $p_i = p_j$, já o segundo $p_i = p_j \\pm 1$. Em seguida, o somatório em $j$ some, devido aos deltas, mas ainda sim respeitando as possibilidades de $p_i$ e $p_j$, teremos"
   ]
  },
  {
   "cell_type": "markdown",
   "id": "a23856c5-f332-48fc-9709-eee7d2fc08d3",
   "metadata": {},
   "source": [
    "$$\\langle \\Psi \\vert \\hat{O}_2 \\vert \\Psi \\rangle = \\frac{1}{N!}\\sum \\limits_{m \\neq n}^N \\sum\\limits_{i=1}^{N!}\\left( (-1)^{2 p_i}\\langle \\chi_{i_m} \\chi_{i_n} \\vert r_{mn}^{-1} \\vert \\chi_{i_m} \\chi_{i_n} \\rangle + (-1)^{2 p_i \\mp 1} \\langle \\chi_{i_m} \\chi_{i_n} \\vert r_{mn}^{-1} \\vert \\chi_{i_n} \\chi_{i_m} \\rangle\\right) $$"
   ]
  },
  {
   "cell_type": "markdown",
   "id": "a9cf598c-c8bb-4a8a-b990-59c4c1684656",
   "metadata": {},
   "source": [
    "$$\\implies \\langle \\Psi \\vert \\hat{O}_2 \\vert \\Psi \\rangle = \\frac{1}{N!}\\sum \\limits_{m \\neq n}^N \\sum\\limits_{i=1}^{N!}\\left(\\langle \\chi_{i_m} \\chi_{i_n} \\vert r_{mn}^{-1} \\vert \\chi_{i_m} \\chi_{i_n} \\rangle - \\langle \\chi_{i_m} \\chi_{i_n} \\vert r_{mn}^{-1} \\vert \\chi_{i_n} \\chi_{i_m} \\rangle\\right) \\ .$$"
   ]
  },
  {
   "cell_type": "markdown",
   "id": "efb16056-56a8-46ba-9c2f-a4217322d193",
   "metadata": {},
   "source": [
    "$\\quad$ Análogo ao que foi feito com o operador $\\hat{O}_1$, podemos substituir o somatório de $(m, \\ n)$ em termos da análise combinatória dos pares $(m, \\ n)$, para isso basta usar a combinação simples, resultando em $C_{N,2} = \\frac{N!}{2(N-2)!} = \\frac{N(N-1)}{2}$. Já o somatório em $i$, podemos fazer a seguinte análise, considere que elétrons $m$ e $n$ ocuparão quaisquer dois diferentes orbitais $\\chi_m$ e $\\chi_n$ do conjunto de N spin-orbitais. Assim, para cada escolha de dois spins orbitais haverá $(N-2)!$ formas de permutar os outros $N-2$ elétrons no $N-2$ orbitais restantes. Portanto, podemos trocar esse somatório por um somatório em $(i_m, \\ i_n)$ surgindo um fator $(N-2)!$. Assim,"
   ]
  },
  {
   "cell_type": "markdown",
   "id": "0dc263d7-49a5-442f-8715-4fd1e106ae9c",
   "metadata": {},
   "source": [
    "$$\\langle \\Psi \\vert \\hat{O}_2 \\vert \\Psi \\rangle = \\frac{1}{2}\\frac{1}{N!}N(N-1)(N-2)!\\sum \\limits_{i_m \\neq i_n}^N \\left(\\langle \\chi_{i_m} \\chi_{i_n} \\vert r_{mn}^{-1} \\vert \\chi_{i_m} \\chi_{i_n} \\rangle - \\langle \\chi_{i_m} \\chi_{i_n} \\vert r_{mn}^{-1} \\vert \\chi_{i_n} \\chi_{i_m} \\rangle\\right)$$"
   ]
  },
  {
   "cell_type": "markdown",
   "id": "dea1d18d-fafc-47ae-a94b-271dcfb18847",
   "metadata": {},
   "source": [
    "$$\\implies \\langle \\Psi \\vert \\hat{O}_2 \\vert \\Psi \\rangle = \\frac{1}{2}\\frac{N!}{N!}\\sum \\limits_{i_m \\neq i_n}^N \\left(\\langle \\chi_{i_m} \\chi_{i_n} \\vert r_{mn}^{-1} \\vert \\chi_{i_m} \\chi_{i_n} \\rangle - \\langle \\chi_{i_m} \\chi_{i_n} \\vert r_{mn}^{-1} \\vert \\chi_{i_n} \\chi_{i_m} \\rangle\\right)$$"
   ]
  },
  {
   "cell_type": "markdown",
   "id": "80d889f7-d0ed-4723-bf76-1ea3ead9935b",
   "metadata": {},
   "source": [
    "$$\\implies \\langle \\Psi \\vert \\hat{O}_2 \\vert \\Psi \\rangle = \\frac{1}{2}\\sum \\limits_{i_m \\neq i_n}^N \\left(\\langle \\chi_{i_m} \\chi_{i_n} \\vert r_{mn}^{-1} \\vert \\chi_{i_m} \\chi_{i_n} \\rangle - \\langle \\chi_{i_m} \\chi_{i_n} \\vert r_{mn}^{-1} \\vert \\chi_{i_n} \\chi_{i_m} \\rangle\\right) \\ ,$$"
   ]
  },
  {
   "cell_type": "markdown",
   "id": "4dbd45ec-ace4-4f5d-900b-a7828b29e0ea",
   "metadata": {},
   "source": [
    "reindexando os índices $i_m$ e $i_n$ por $i$ e $j$, respectivamente,"
   ]
  },
  {
   "cell_type": "markdown",
   "id": "a4c14014-061f-459f-a95b-b1dc444b8b65",
   "metadata": {},
   "source": [
    "$$\\langle \\Psi \\vert \\hat{O}_2 \\vert \\Psi \\rangle = \\frac{1}{2}\\sum \\limits_{i \\neq j}^N \\left(\\langle \\chi_{i} \\chi_{j} \\vert r_{mn}^{-1} \\vert \\chi_{i} \\chi_{j} \\rangle - \\langle \\chi_{i} \\chi_{j} \\vert r_{mn}^{-1} \\vert \\chi_{j} \\chi_{i} \\rangle\\right) \\ .$$"
   ]
  },
  {
   "cell_type": "markdown",
   "id": "f43f5347-abe9-4bf0-b8fd-67209b8936f9",
   "metadata": {},
   "source": [
    "$\\quad$ Note que se $i=j$ o termo se anula, assim como não fará diferença no resultado final, então podemos tirar a restrição do somatório de $i\\neq j$,"
   ]
  },
  {
   "cell_type": "markdown",
   "id": "f779c796-48c3-4d8c-acf8-1cd5e786134c",
   "metadata": {},
   "source": [
    "$$\\therefore \\boxed{\\langle \\Psi \\vert \\hat{O}_2 \\vert \\Psi \\rangle = \\frac{1}{2}\\sum \\limits_{i, \\ j}^N \\left(\\langle \\chi_{i} \\chi_{j} \\vert r_{mn}^{-1} \\vert \\chi_{i} \\chi_{j} \\rangle - \\langle \\chi_{i} \\chi_{j} \\vert r_{mn}^{-1} \\vert \\chi_{j} \\chi_{i} \\rangle\\right)} \\ . \\tag{2}$$"
   ]
  },
  {
   "cell_type": "markdown",
   "id": "03ebb60f-8a6a-49c5-bc2c-2fe9d50154d6",
   "metadata": {},
   "source": [
    "### Hamiltoniano"
   ]
  },
  {
   "cell_type": "markdown",
   "id": "c94f5c84-feb7-465a-ba90-60bfa4e5992e",
   "metadata": {},
   "source": [
    "$\\quad$ Por fim, com as Equações **(1)** e **(2)** podemos finalmente determinar o valor esperado do Hamiltoniano, e tal resultado é a energia total, se for conhecido os orbitais. Sabendo que o Hamiltoniano é definido como $\\hat{H} = O_1 + O_2$, então"
   ]
  },
  {
   "cell_type": "markdown",
   "id": "7546dd68-78e5-4c78-88b4-dda4bcdcdbaf",
   "metadata": {},
   "source": [
    "$$\\langle \\Psi \\vert \\hat{H} \\vert \\Psi \\rangle = \\langle \\Psi \\vert \\hat{O}_1 \\vert \\Psi \\rangle + \\langle \\Psi \\vert \\hat{O}_2 \\vert \\Psi \\rangle$$"
   ]
  },
  {
   "cell_type": "markdown",
   "id": "3ab2ce2e-9f2b-4380-8381-b45516e92ade",
   "metadata": {},
   "source": [
    "$$ \\implies\\langle \\Psi \\vert \\hat{H} \\vert \\Psi \\rangle = \\sum \\limits_{i=1}^N \\langle \\chi_{i} \\vert \\hat{h} \\vert \\chi_i \\rangle + \\frac{1}{2}\\sum \\limits_{i, \\ j}^N \\left(\\langle \\chi_{i} \\chi_{j} \\vert r_{mn}^{-1}\\vert \\chi_{i} \\chi_{j} \\rangle - \\langle \\chi_{i} \\chi_{j} \\vert r_{mn}^{-1} \\vert \\chi_{j} \\chi_{i} \\rangle\\right) \\ .$$"
   ]
  },
  {
   "cell_type": "markdown",
   "id": "64c03c05-9f95-40ee-b758-ac2bf55248f1",
   "metadata": {},
   "source": [
    "$\\quad$ Para simplificar as equações, consideremos que $\\langle \\chi_i \\vert = \\langle i \\vert$ e $\\langle \\chi_i \\chi_j \\vert r_{mn}^{-1} \\vert \\chi_j \\chi_i \\rangle = \\langle i j \\vert j i \\rangle$, assim"
   ]
  },
  {
   "cell_type": "markdown",
   "id": "837119a4-d7bb-4583-a627-d8d93fa4cb14",
   "metadata": {},
   "source": [
    "$$\\therefore \\boxed{\\langle \\Psi \\vert \\hat{H} \\vert \\Psi \\rangle = \\sum \\limits_{i=1}^N \\langle i \\vert \\hat{h} \\vert i \\rangle + \\frac{1}{2}\\sum \\limits_{i, \\ j}^N \\left(\\langle i j \\vert i j \\rangle - \\langle i j \\vert j i \\rangle\\right)} \\ .$$"
   ]
  },
  {
   "cell_type": "markdown",
   "id": "e14230a3-fbd6-4fb8-a766-96b29bae8565",
   "metadata": {},
   "source": [
    "---"
   ]
  },
  {
   "cell_type": "markdown",
   "id": "87f3bd7c-2fee-4471-9c3c-2d4b313580f2",
   "metadata": {},
   "source": [
    "## Referências"
   ]
  },
  {
   "cell_type": "markdown",
   "id": "0f4e159e-0088-41f4-9d31-98f8275c40bf",
   "metadata": {},
   "source": [
    "**[1]** Oliveira Bastos, Carlos Maciel. Método de Hartree-Fock. 17 Nov. 2015.\n",
    "\n",
    "**[2]** Gabriel, Ramon, and Teixeira Rosa. The Hartree-Fock Method.\n",
    "\n",
    "**[3]** SZABO, A.; OSTLUND, N. S. Modern Quantum Chemistry. [s.l.] Courier Corporation, 2012.\n",
    "\n",
    "**[4]** A New Basis Set Exchange: An Open, Up-to-date Resource for the Molecular Sciences Community. Benjamin P. Pritchard, Doaa Altarawy, Brett Didier, Tara D. Gibson, Theresa L. Windus. J. Chem. Inf. Model. 2019, 59(11), 4814-4820, doi:10.1021/acs.jcim.9b00725."
   ]
  }
 ],
 "metadata": {
  "kernelspec": {
   "display_name": "Python 3 (ipykernel)",
   "language": "python",
   "name": "python3"
  },
  "language_info": {
   "codemirror_mode": {
    "name": "ipython",
    "version": 3
   },
   "file_extension": ".py",
   "mimetype": "text/x-python",
   "name": "python",
   "nbconvert_exporter": "python",
   "pygments_lexer": "ipython3",
   "version": "3.11.9"
  }
 },
 "nbformat": 4,
 "nbformat_minor": 5
}
