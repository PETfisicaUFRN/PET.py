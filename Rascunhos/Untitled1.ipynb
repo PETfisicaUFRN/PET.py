{
 "cells": [
  {
   "cell_type": "code",
   "execution_count": 1,
   "id": "ec625015-6848-4b09-86e7-b199e50f7a2c",
   "metadata": {},
   "outputs": [],
   "source": [
    "import matplotlib.pyplot as plt\n",
    "import numpy as np"
   ]
  },
  {
   "cell_type": "code",
   "execution_count": 2,
   "id": "b103b97d-21ff-4a66-b204-6c2c33473bca",
   "metadata": {},
   "outputs": [],
   "source": [
    "x = 15"
   ]
  }
 ],
 "metadata": {
  "kernelspec": {
   "display_name": "Python 3 (ipykernel)",
   "language": "python",
   "name": "python3"
  },
  "language_info": {
   "codemirror_mode": {
    "name": "ipython",
    "version": 3
   },
   "file_extension": ".py",
   "mimetype": "text/x-python",
   "name": "python",
   "nbconvert_exporter": "python",
   "pygments_lexer": "ipython3",
   "version": "3.11.7"
  }
 },
 "nbformat": 4,
 "nbformat_minor": 5
}
