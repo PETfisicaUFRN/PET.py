{
 "cells": [
  {
   "cell_type": "markdown",
   "id": "14c41924-9fd6-4e32-b38b-217bb588f06b",
   "metadata": {},
   "source": [
    "# Mecânica Orbital"
   ]
  },
  {
   "cell_type": "markdown",
   "id": "8ae368c2-ce19-48cf-93b3-8699a108bcee",
   "metadata": {},
   "source": [
    "* PET - Física UFRN\n",
    "* Petiano: Bruno Ramos Galindo\n",
    "* Data: 08/07/2024"
   ]
  },
  {
   "cell_type": "markdown",
   "id": "47f63a4b-934d-4276-9323-9a1c81127bdd",
   "metadata": {},
   "source": [
    "$\\quad$ O presente trabalho tem como objetivo fazer com que o leitor entenda o movimento de planetas e estrelas de sistemas binários em torno de um centro de massa devido à força que atua sobre o sistema e o momento angular. Determinaremos as fórmulas que descrevem tais movimentos e seus significados físicos que nos auxiliam no estudo destes corpos celestes, tal qual também possibilita que a humanidade envie satélites artificiais em órbita da Terra. Para alcançar o objetivo, neste `Notebook` exploraremos a teoria por trás do movimento orbital e implementaremos gráficos e códigos que facilitem o entendimento e a didática do conteúdo abordado."
   ]
  },
  {
   "cell_type": "markdown",
   "id": "48e9c4e3-940b-4c0a-85d0-4c9bf6c0b6e4",
   "metadata": {},
   "source": [
    "## Pré-Requisitos"
   ]
  },
  {
   "cell_type": "markdown",
   "id": "55f6caa6-aa6a-4857-a0e9-82fb5ee61e4e",
   "metadata": {},
   "source": [
    "$\\quad$ Para melhor entendimento deste `Notebook`, recomenda-se que o leitor tenha uma noção básica de Python. Além disso, é necessário ter um ambiente com bibliotecas e funções necessárias para o funcionamento do código."
   ]
  },
  {
   "cell_type": "markdown",
   "id": "427510d3-8beb-4c48-bc81-f61ee0ed66a4",
   "metadata": {},
   "source": [
    "### Importando Bibliotecas"
   ]
  },
  {
   "cell_type": "code",
   "execution_count": 1,
   "id": "d61c3135-b493-4eb6-96da-10575ce16e33",
   "metadata": {
    "tags": []
   },
   "outputs": [],
   "source": [
    "import numpy as np\n",
    "import matplotlib.pyplot as plt\n",
    "from scipy.constants import year, hour, au, G\n",
    "from astropy.constants import M_sun"
   ]
  },
  {
   "cell_type": "markdown",
   "id": "79500df8-82cb-49f6-a31c-d1a263031843",
   "metadata": {},
   "source": [
    "### Detalhes da Bibliotecas"
   ]
  },
  {
   "cell_type": "code",
   "execution_count": 51,
   "id": "98fc8f34-c323-46bf-be90-a39d5562d5ac",
   "metadata": {
    "tags": []
   },
   "outputs": [
    {
     "data": {
      "application/json": {
       "Software versions": [
        {
         "module": "Python",
         "version": "3.11.3 64bit [MSC v.1916 64 bit (AMD64)]"
        },
        {
         "module": "IPython",
         "version": "8.12.0"
        },
        {
         "module": "OS",
         "version": "Windows 10 10.0.22621 SP0"
        },
        {
         "module": "Matplotlib",
         "version": "3.7.1"
        },
        {
         "module": "Numpy",
         "version": "1.24.3"
        },
        {
         "module": "Scipy",
         "version": "1.10.1"
        }
       ]
      },
      "text/html": [
       "<table><tr><th>Software</th><th>Version</th></tr><tr><td>Python</td><td>3.11.3 64bit [MSC v.1916 64 bit (AMD64)]</td></tr><tr><td>IPython</td><td>8.12.0</td></tr><tr><td>OS</td><td>Windows 10 10.0.22621 SP0</td></tr><tr><td>Matplotlib</td><td>3.7.1</td></tr><tr><td>Numpy</td><td>1.24.3</td></tr><tr><td>Scipy</td><td>1.10.1</td></tr><tr><td colspan='2'>Wed Jul 03 18:12:16 2024 Hora oficial do Brasil</td></tr></table>"
      ],
      "text/latex": [
       "\\begin{tabular}{|l|l|}\\hline\n",
       "{\\bf Software} & {\\bf Version} \\\\ \\hline\\hline\n",
       "Python & 3.11.3 64bit [MSC v.1916 64 bit (AMD64)] \\\\ \\hline\n",
       "IPython & 8.12.0 \\\\ \\hline\n",
       "OS & Windows 10 10.0.22621 SP0 \\\\ \\hline\n",
       "Matplotlib & 3.7.1 \\\\ \\hline\n",
       "Numpy & 1.24.3 \\\\ \\hline\n",
       "Scipy & 1.10.1 \\\\ \\hline\n",
       "\\hline \\multicolumn{2}{|l|}{Wed Jul 03 18:12:16 2024 Hora oficial do Brasil} \\\\ \\hline\n",
       "\\end{tabular}\n"
      ],
      "text/plain": [
       "Software versions\n",
       "Python 3.11.3 64bit [MSC v.1916 64 bit (AMD64)]\n",
       "IPython 8.12.0\n",
       "OS Windows 10 10.0.22621 SP0\n",
       "Matplotlib 3.7.1\n",
       "Numpy 1.24.3\n",
       "Scipy 1.10.1\n",
       "Wed Jul 03 18:12:16 2024 Hora oficial do Brasil"
      ]
     },
     "execution_count": 51,
     "metadata": {},
     "output_type": "execute_result"
    }
   ],
   "source": [
    "%load_ext version_information\n",
    "%version_information Matplotlib, Numpy, Scipy"
   ]
  },
  {
   "cell_type": "markdown",
   "id": "63719c79-c417-4e12-b2f5-d9edfacb322c",
   "metadata": {},
   "source": [
    "## 1. Uma breve introdução"
   ]
  },
  {
   "cell_type": "markdown",
   "id": "f929323b-ffad-41a8-b082-2d0dc10f1d5d",
   "metadata": {},
   "source": [
    "$\\quad$ As leis fundamentais do movimento planetário foram primeiramente formuladas pelo astrônomo Johannes Kepler com base em dados empíricos do século XVII. Kepler usou as medições mais precisas das posições planetárias disponíveis naquele momento. Particularmente para o planeta Marte, ele percebeu que o movimento aparente de Marte no céu poderia ser explicado assumindo que o planeta segue uma órbita elíptica ao redor do Sol. Isso foi uma proposta completamente revolucionária, pois o movimento dos planetas era considerado circular (mais precisamente, uma combinação de movimentos circulares no sistema de Ptolomeu), com a Terra estando no centro do Universo. Embora as diferenças fossem bastante minuciosas, Kepler concluiu pelas suas análises que os planetas se movem em órbitas elípticas, onde o Sol está localizado em um dos pontos focais da elipse (primeira lei). Na linguagem moderna, a área varrida pelo vetor radial do Sol para um planeta é proporcional ao tempo da elipse (segunda lei). Depois, ele encontrou a relação entre os semi-eixos maiores (o seguimento de linha do centro, passando pelo foco até o perímetro de uma elipse) e os períodos orbitais, que hoje é conhecido como a Terceira Lei de Kepler. Isaac Newton encontrou uma explicação teórica para as leis de Kepler para o movimento planetário através da aplicação das leis dele sobre a gravidade e a conservação de momento angular."
   ]
  },
  {
   "cell_type": "markdown",
   "id": "2d7ecb8d-0197-40a9-99a8-914cdd3ef01f",
   "metadata": {},
   "source": [
    "## 2. Geometria da elipse"
   ]
  },
  {
   "cell_type": "markdown",
   "id": "b4128fb6-250f-44f5-97c7-29323feb02b4",
   "metadata": {},
   "source": [
    "$\\quad$ Para entendermos os significados das leis de Kepler, nós devemos entender a natureza de uma elipse. Uma elipse é definido pelo conjunto de pontos que satisfaz a equação"
   ]
  },
  {
   "cell_type": "markdown",
   "id": "5e53f740-0295-4807-91f9-c2217d0e8288",
   "metadata": {},
   "source": [
    "$$r + r' = 2a \\ , \\tag{2.1}$$"
   ]
  },
  {
   "cell_type": "markdown",
   "id": "da8384d8-d9c1-4509-9fda-24d98464e3d0",
   "metadata": {},
   "source": [
    "$\\quad$ onde $a$ é uma constante conhecida como semi-eixo maior (maior eixo de uma elipse), e $r$ e $r'$ representam as distâncias da elipse para os dois pontos focais, $F$ e $F'$, respectivamente. "
   ]
  },
  {
   "attachments": {
    "d1b7c7d6-a6cb-4341-bac3-74468e53908b.png": {
     "image/png": "[encoded data removed]"
    }
   },
   "cell_type": "markdown",
   "id": "cc1844b6-b0f3-455d-842a-3fa9f0c4fb27",
   "metadata": {},
   "source": [
    "![image.png](attachment:d1b7c7d6-a6cb-4341-bac3-74468e53908b.png)"
   ]
  },
  {
   "cell_type": "markdown",
   "id": "98b133cc-40dc-4c40-985f-15fe32fd566d",
   "metadata": {},
   "source": [
    "$\\quad$ Conforme a primeira lei de Kepler, as órbitas dos planetas ao redor do Sol são uma elipse e o Sol se encontra em um dos focos da elipse, o **foco principal**, $F$ (o outro foco é um espaço vazio). Note que, se $F$ e $F'$ fossem localizados no mesmo ponto, então $r'=r$ e a equação anterior seria resumida a $r = r' = a$, basicamente se tornaria a equação para um círculo. A distância $b$ é conhecida como semi-eixo menor da elipse. A **excentricidade**, $(0 \\leq e <1)$, da elipse é definida como a distância entre os pontos focais dividida por $2a$, implicando que a distância de ambos os pontos do centro da elipse pode ser expressa como $ae$. Para um círculo, $e=0$. O ponto da elipse que está mais próximo do foco principal (localizado no semi-eixo maior) é chamado de periélio; o ponto que está mais distante do foco principal (localizado no semi-eixo maior) é conhecido como afélio."
   ]
  },
  {
   "cell_type": "markdown",
   "id": "35efeab3-ee14-49bd-ae83-31456ded77d5",
   "metadata": {},
   "source": [
    "$\\quad$ Uma conveniente relação entre $a,b$ e $e$ pode ser determinada geometricamente. Considere um de dois pontos ambos no fim do semi-eixo menor da elipse, onde $r = r'$. Nesse caso, $r = a e$, usando o teorema de Pitágoras, $r^2 = b^2 + a^2e^2$. Substituindo obtemos imediatamente a equação"
   ]
  },
  {
   "cell_type": "markdown",
   "id": "ba87fea9-84f6-4657-a406-0dec7c1e9b22",
   "metadata": {},
   "source": [
    "$$\\boxed{b^2 = a^2(1-e^2)}. \\tag{2.2}$$"
   ]
  },
  {
   "cell_type": "markdown",
   "id": "01cb70bd-bb03-4805-9b5a-87e1fa0ec740",
   "metadata": {},
   "source": [
    "$\\quad$ A segunda lei de Kepler afirma que a velocidade de um planeta depende da localização dele na órbita. Para descrever em detalhes a órbita de um planeta, é necessário especificar onde esse planeta está (o vetor posição), bem como o quão rápido e qual a direção o planeta está se movendo. É frequentemente conveniente expressar uma órbita planetária em coordenadas polares, indicando a distância $r$ do foco principal em termos de um ângulo $\\theta$ medido no sentido anti-horário a partir do eixo principal da elipse começando do periélio. Usando o teorema de Pitágoras, nós temos"
   ]
  },
  {
   "cell_type": "markdown",
   "id": "6231c444-e338-463b-bb98-2b3ae30ed5d3",
   "metadata": {},
   "source": [
    "$$r'^2 = r^2sin^2(\\theta) + (2ae + rcos(\\theta)^2 \\ ,$$"
   ]
  },
  {
   "cell_type": "markdown",
   "id": "c5ca903b-5d5a-4788-9294-3814099cee4f",
   "metadata": {},
   "source": [
    "que se reduz para"
   ]
  },
  {
   "cell_type": "markdown",
   "id": "2322ee92-866a-482e-9203-d08c927594b2",
   "metadata": {},
   "source": [
    "$$r'^2 = r^2 + 4ae(ae + rcos(\\theta)) \\ .$$"
   ]
  },
  {
   "cell_type": "markdown",
   "id": "a27a561f-c054-4792-a9a5-911a9b122fba",
   "metadata": {},
   "source": [
    "$\\quad$ Usando a definição de uma elipse, $r + r' = 2a$, nós encontramos que "
   ]
  },
  {
   "cell_type": "markdown",
   "id": "04ac5af6-0b7f-4b2d-a310-971475d9bd0a",
   "metadata": {},
   "source": [
    "$$\\boxed{r = \\frac{a(1-e^2)}{1+ecos(\\theta)}\\hspace{0.5cm} (0 \\leq e < 1)} \\ .\\tag{2.3}$$"
   ]
  },
  {
   "cell_type": "markdown",
   "id": "195ab3c6-f0c5-41a9-8416-17d96369b35b",
   "metadata": {},
   "source": [
    "$\\quad$ Quando estamos querendo encontrar a distância $r$ no ponto localizado no periélio, a equação se reduz a"
   ]
  },
  {
   "cell_type": "markdown",
   "id": "daed5982-b4d3-4b2c-b003-f73598804355",
   "metadata": {},
   "source": [
    "$$r = a(1-e) \\ , \\tag{2.4}$$"
   ]
  },
  {
   "cell_type": "markdown",
   "id": "ea8c3a54-7895-43f2-88ac-e64132f1d4bc",
   "metadata": {},
   "source": [
    "visto que no periélio $\\theta = 0$ e $\\cos(\\theta) = 1$. Quando estamos querendo encontrar a distância $r$ no ponto localizado no afélio, a equação se reduz a"
   ]
  },
  {
   "cell_type": "markdown",
   "id": "a234598d-1920-4071-8cc9-32257dec8846",
   "metadata": {},
   "source": [
    "$$r = a(1+e) \\ ,  \\tag{2.5}$$"
   ]
  },
  {
   "cell_type": "markdown",
   "id": "09782c64-2c20-4084-ad2e-92a9748de24a",
   "metadata": {},
   "source": [
    "visto que no afélio $\\theta = \\pi$ e $\\cos(\\theta) = -1$."
   ]
  },
  {
   "cell_type": "markdown",
   "id": "08bac572-0298-438c-b107-6ed81e19afdf",
   "metadata": {},
   "source": [
    "## 3. Derivando as leis de Kepler"
   ]
  },
  {
   "cell_type": "markdown",
   "id": "cedd0b37-9154-437f-bf69-6fda940001cd",
   "metadata": {},
   "source": [
    "$\\quad$ Através da pesquisa que Kepler fez, foi finalmente determinado que a geometria da movimentação dos planetas é, de modo geral, mais próxima de uma elipse do que a de um círculo, mas ele não conseguiu explicar a natureza da força que mantinha os planetas em movimento. Em contrapartida, Isaac Newton obteve êxito em quantificar essa força, ele também pôde generalizar o trabalho de Kepler, derivando leis empíricas do movimento planetário por meio da lei de força gravitacional. A derivação da Lei de Kepler representa um passo crucial no desenvolvimento da astrofísica moderna."
   ]
  },
  {
   "cell_type": "markdown",
   "id": "ea445c1f-3f0b-470b-b76f-41a336c0ba85",
   "metadata": {},
   "source": [
    "### 3.1 O centro de massa de refêrencia"
   ]
  },
  {
   "cell_type": "markdown",
   "id": "3e3db598-014b-4d59-accc-a7fa77bfd0cc",
   "metadata": {},
   "source": [
    "$\\quad$ No entanto, antes de desenvolver as leis de Kepler, será útil examinar mais de perto a dinâmica do movimento orbital. Um interessante problema de dois corpos são as órbitas binárias. De maneira geral, problemas de vários corpos são mais facilmente resolvidos tendo um centro de massa como referência."
   ]
  },
  {
   "attachments": {
    "39985401-6e42-43fb-b8e3-dd0fbe26eaee.png": {
     "image/png": "[encoded data removed]"
    }
   },
   "cell_type": "markdown",
   "id": "91949553-abee-468b-a92c-6a9b4e6f4a4f",
   "metadata": {},
   "source": [
    "![image.png](attachment:39985401-6e42-43fb-b8e3-dd0fbe26eaee.png)"
   ]
  },
  {
   "cell_type": "markdown",
   "id": "432db2a4-01c9-4fe3-b8ff-ffd9ce7663ea",
   "metadata": {},
   "source": [
    "$\\quad$ A figura acima mostra dois objetos de massa $m_1$ e $m_2$, respectivamente, com um vetor deslocamento  $\\mathbf{r_1'}$ e $\\mathbf{r_2'}$ dado por:"
   ]
  },
  {
   "cell_type": "markdown",
   "id": "1c1f8220-cfea-4322-b742-3a3a808d11de",
   "metadata": {},
   "source": [
    "$$r = \\mathbf{r}_2' - \\mathbf{r}_1' . \\tag{3.1}$$"
   ]
  },
  {
   "cell_type": "markdown",
   "id": "da81ffdb-a46c-4d25-95b9-4835578db592",
   "metadata": {},
   "source": [
    "$\\quad$ Defina um vetor posição $\\mathbf{R}$ como uma média ponderada dos vetores de posição das massas individuais"
   ]
  },
  {
   "cell_type": "markdown",
   "id": "e549ca36-d224-4c17-b1c6-98d77ebcf07d",
   "metadata": {},
   "source": [
    "$$\\mathbf{R} = \\frac{m_1\\mathbf{r}_1' + m_2\\mathbf{r}_2'}{m_1+m_2}. \\tag{3.2}$$"
   ]
  },
  {
   "cell_type": "markdown",
   "id": "aa6d0764-ba87-479f-93e1-843a4be3b875",
   "metadata": {},
   "source": [
    "$\\quad$Podemos generalizar a equação acima para $n$ objetos como sendo"
   ]
  },
  {
   "cell_type": "markdown",
   "id": "91d6329d-7737-4a1e-aac5-23c5266eb298",
   "metadata": {},
   "source": [
    "$$ \\mathbf{R} = \\frac{\\sum_{i=1}^{n} m_i\\mathbf{r}_i'}{\\sum_{i=1}^{n} m_i}.$$"
   ]
  },
  {
   "cell_type": "markdown",
   "id": "95d95241-3964-4c76-a309-86b474d0837a",
   "metadata": {},
   "source": [
    "$\\quad$ Reescrevendo a equação temos que:"
   ]
  },
  {
   "cell_type": "markdown",
   "id": "221f08c3-e9bf-40cc-bd34-e927949704c4",
   "metadata": {},
   "source": [
    "$$ \\sum_{i=1}^{n}m_i \\mathbf{R} = \\sum_{i=1}^{n} m_i\\mathbf{r}_i'.$$"
   ]
  },
  {
   "cell_type": "markdown",
   "id": "0c30dd0d-f165-4a9a-b60a-be4ae8cac3d0",
   "metadata": {},
   "source": [
    "$\\quad$ Então, se nós definimos $M$ para ser a massa total de um sistema, $M = \\sum_{i=1}^{n}m_i$, a equação agora se torna"
   ]
  },
  {
   "cell_type": "markdown",
   "id": "b970747a-cd1b-4540-adf0-48885348ce9b",
   "metadata": {},
   "source": [
    "$$ M\\mathbf{R} = \\sum_{i=1}^{n} m_i\\mathbf{r}_i'.$$"
   ]
  },
  {
   "cell_type": "markdown",
   "id": "20f10fed-82f7-4d82-93e7-50434a296e79",
   "metadata": {},
   "source": [
    "$\\quad$ Assumindo que a massa individual não muda, podemos aplicar a derivada em relação ao tempo em ambos os lados considerando a massa constate, logo"
   ]
  },
  {
   "cell_type": "markdown",
   "id": "18ed63b1-a5fe-422b-ae4b-fc5798e205fc",
   "metadata": {},
   "source": [
    "$$M\\frac{d\\mathbf{R}}{dt} = \\sum_{i=1}^{n}m_i\\frac{d\\mathbf{r}_i'}{dt} $$"
   ]
  },
  {
   "cell_type": "markdown",
   "id": "e83ed535-67d0-4422-9d09-e2ed44b4a84c",
   "metadata": {},
   "source": [
    "$\\quad$ou"
   ]
  },
  {
   "cell_type": "markdown",
   "id": "fa46a0a7-95e6-48fd-8ae7-841cc0fe45f6",
   "metadata": {},
   "source": [
    "$$M\\mathbf{V} = \\sum_{i=1}^{n}m_i\\mathbf{v}_i'.$$"
   ]
  },
  {
   "cell_type": "markdown",
   "id": "b264543c-6cce-49e0-81ca-66d0161f80ad",
   "metadata": {},
   "source": [
    "$\\quad$ O lado direito da equação é a soma do momento linear de todas as partículas do sistema, então o momento linear total de um sistema pode ser tratado como se toda a massa estivesse localizada em $\\mathbf{R} $, movendo-se com uma velocidade $\\mathbf{V}$. Esse $\\mathbf{R}$ é a posição do centro de massa do sistema e $\\mathbf{V}$ é a velocidade do centro de massa. Logo, $\\mathbf{P} = \\mathbf{MV}$ é o momento linear do centro de massa e $\\mathbf{p}_i' = m_i\\mathbf{v}_i'$ é o momento linear de uma partícula individual $i$. Podemos agora diferenciar novamente ambos os lados da equação em relação ao tempo."
   ]
  },
  {
   "cell_type": "markdown",
   "id": "b56edc6b-4f77-45f2-a46e-4473d5bde614",
   "metadata": {},
   "source": [
    "$$\\frac{d\\mathbf{P}}{dt} = \\sum_{i=1}^{n}\\frac{d\\mathbf{p}_i'}{dt}.$$"
   ]
  },
  {
   "cell_type": "markdown",
   "id": "a286117a-47f3-4ffb-9bb9-0cce95ec1fe5",
   "metadata": {},
   "source": [
    "$\\quad$ Se assumimos que todas as forças agindo sobre as partículas individuais no sistema são devido ao contato de outras partículas com o sistema, a terceira lei de Newton requer que a força total deva ser zero. Esse contraste existe devido às magnitudes que são iguais e das posições opostas da paridade ação e reação. No entanto, é claro que o momento linear de cada partícula pode variar. Usado o centro de massa, encontramos que a força total no sistema é "
   ]
  },
  {
   "cell_type": "markdown",
   "id": "10ca5dd5-196f-4c03-a63d-314c428d9d30",
   "metadata": {},
   "source": [
    "$$\\mathbf{F} = \\frac{d\\mathbf{P}}{dt} = M\\frac{d^2\\mathbf{R}}{dt^2} = 0. $$"
   ]
  },
  {
   "cell_type": "markdown",
   "id": "92731418-aba6-4a1a-98dd-0cd6bb043c49",
   "metadata": {},
   "source": [
    "$\\quad$ Todavia, o centro de massa não acelerará se não há uma força existindo. Logo, o sistema de referência associado com o centro de massa deve ser um sistema de referencial inercial e que o problema de **N-corpos (vários corpos)** pode ser simplificado, escolhendo um sistema de coordenadas para o qual o centro de massa está em repouso em $R = 0$."
   ]
  },
  {
   "cell_type": "markdown",
   "id": "9a78e78a-38c0-401f-8159-37d4f66096e4",
   "metadata": {},
   "source": [
    "$\\quad$ Se escolhermos um referencial  de centro de massa para um sistema binário, e considerando **$R = 0$**, a Eq. **(3.2)** se torna"
   ]
  },
  {
   "cell_type": "markdown",
   "id": "d92bd8e3-0889-427d-ab43-233d3adb20fe",
   "metadata": {},
   "source": [
    "$$\\frac{m_1\\mathbf{r}'_1 + m_2\\mathbf{r}'_2}{m_1+m_2} = 0. \\tag{3.3}$$"
   ]
  },
  {
   "cell_type": "markdown",
   "id": "7f0afc19-5849-4823-9583-4a6168acdc99",
   "metadata": {},
   "source": [
    "$\\quad$ Ambos $\\mathbf{r}_1$ e $\\mathbf{r}_2$ podem ser reescritos em termos do vetor, $\\mathbf{r}$. Substituindo $\\mathbf{r}'_2 = \\mathbf{r}'_1 + \\mathbf{r}$, temos que"
   ]
  },
  {
   "cell_type": "markdown",
   "id": "af810cec-c355-48b1-9e0a-547ca056e634",
   "metadata": {},
   "source": [
    "$$\\mathbf{r}'_1 = -\\frac{m_2}{m_1+m_2}\\mathbf{r} \\ , \\tag{3.4}$$"
   ]
  },
  {
   "cell_type": "markdown",
   "id": "5ca09c16-233a-4ca1-a7b2-35ac37dbbbc6",
   "metadata": {},
   "source": [
    "$$\\mathbf{r}'_2 = \\frac{m_2}{m_1+m_2}\\mathbf{r}. \\tag{3.5}$$"
   ]
  },
  {
   "cell_type": "markdown",
   "id": "40f8ba62-d51f-45a0-a89c-6367e1088476",
   "metadata": {},
   "source": [
    "$\\quad$ Podemos então definir a **massa reduzida** como sendo"
   ]
  },
  {
   "cell_type": "markdown",
   "id": "2f75ed7a-7f6a-42bb-b653-42adc0ae52e1",
   "metadata": {},
   "source": [
    "$$\\boxed{\\mu = \\frac{m_1m_2}{m_1 + m_2}}. \\tag{3.6}$$"
   ]
  },
  {
   "cell_type": "markdown",
   "id": "a99074a4-d37b-4095-a699-286e3825c562",
   "metadata": {},
   "source": [
    "$\\quad$ Então $\\mathbf{r}'_1$ e $\\mathbf{r}'_2$ se tornam"
   ]
  },
  {
   "cell_type": "markdown",
   "id": "290c84dc-76a7-415b-b9e3-6f2f3c6f55a8",
   "metadata": {},
   "source": [
    "$$ \\boxed{\\mathbf{r}'_2 = -\\frac{\\mu}{m_1}\\mathbf{r}} \\ , \\tag{3.7}$$"
   ]
  },
  {
   "cell_type": "markdown",
   "id": "fd47d1c3-884d-462e-9fb2-5c46d66a6db3",
   "metadata": {},
   "source": [
    "$$ \\boxed{\\mathbf{r}'_2 = \\frac{\\mu}{m_2}\\mathbf{r}}. \\tag{3.8}$$"
   ]
  },
  {
   "cell_type": "markdown",
   "id": "a0f2857e-a622-47e4-ab0d-0fe66fcd4409",
   "metadata": {},
   "source": [
    "$\\quad$ A conveniência do centro de massa do sistema de referência se torna evidente quando a energia total e o momento angular do sistema são considerados. Incluindo a necessidade de energia cinética e termos da energia potencial gravitacional, a energia total pode ser expressa como"
   ]
  },
  {
   "cell_type": "markdown",
   "id": "cb5b64b2-edb0-4a03-873c-cd562c5f9e33",
   "metadata": {},
   "source": [
    "$$ E = \\frac{1}{2}m_1|\\mathbf{v}_1|^2 + \\frac{1}{2}m_2|\\mathbf{v}_2|^2 - G\\frac{m_1m_2}{|\\mathbf{r}'_2 - \\mathbf{r}'_1|} \\ .$$"
   ]
  },
  {
   "cell_type": "markdown",
   "id": "85edb0a8-bc24-4cb5-a637-d08d1d7a5058",
   "metadata": {},
   "source": [
    "$\\quad$ Substituindo as relações para $\\mathbf{r}_1$ e $\\mathbf{r}_2$, a equação acima se torna"
   ]
  },
  {
   "cell_type": "markdown",
   "id": "0d8a849c-d9d8-4350-ac1d-ed3d04d09a78",
   "metadata": {},
   "source": [
    "$$E = \\frac{1}{2}\\mu v^2 - G\\frac{M\\mu}{r} \\ .\\tag{3.9}$$"
   ]
  },
  {
   "cell_type": "markdown",
   "id": "2aef56b1-e822-40ca-a0d4-8bcd78468630",
   "metadata": {},
   "source": [
    "$\\quad$ Onde $v = |\\mathbf{v}|$ e $v = dr/dt$. Nós também usamos a notação $r = |\\mathbf{r}'_2 - \\mathbf{r}'_1|$. A energia total do sistema é igual para a energia cinética da massa reduzida, mais a energia potencial da massa reduzida movendo-se sobre uma massa $M$, assumindo estar localizado e fixado na origem. A distância entre $\\mu$ e $M$ é igual à separação entre os objetos de massas $m_1$ e $m_2$.\n",
    "\n",
    "$\\quad$ Similarmente, o momento orbital total é"
   ]
  },
  {
   "cell_type": "markdown",
   "id": "cfc8e367-86bc-4933-9461-f22aa650c7f3",
   "metadata": {},
   "source": [
    "$$\\mathbf{L} = m_1\\mathbf{r}'_1 \\times \\mathbf{v}_1 + m_2\\mathbf{r}'_2 \\times \\mathbf{v}_2 \\ .$$"
   ]
  },
  {
   "cell_type": "markdown",
   "id": "b975ee41-c903-49d6-af3d-3b21006bed6a",
   "metadata": {},
   "source": [
    "$\\quad$ Se torna então"
   ]
  },
  {
   "cell_type": "markdown",
   "id": "22c13935-cbed-42ef-b268-dac67ced5737",
   "metadata": {},
   "source": [
    "$$\\mathbf{L} = \\mu \\mathbf{r} \\times \\mathbf{v} = \\mathbf{r} \\times \\mathbf{p}. \\tag{3.10}$$"
   ]
  },
  {
   "cell_type": "markdown",
   "id": "a08106fe-c777-4099-806c-f05840f7b839",
   "metadata": {},
   "source": [
    "$\\quad$ Onde $\\mathbf{p} = \\mu \\mathbf{v}$. O momento angular orbital total é igual ao momento angular da massa reduzida."
   ]
  },
  {
   "cell_type": "markdown",
   "id": "63f43b8b-5e9e-4c65-a3a5-a86b75d23ea1",
   "metadata": {},
   "source": [
    "### 3.2 A derivação da primeira Lei de Kepler"
   ]
  },
  {
   "cell_type": "markdown",
   "id": "364b3b4f-1e36-4d4e-b025-e06c8d43ef39",
   "metadata": {},
   "source": [
    "$\\quad$ Para obtermos as leis de Kepler, começaremos considerando o efeito da gravidade no momento angular orbital de um planeta. Usando as coordenadas do centro de massa e aplicando a derivada em relação ao tempo na Eq. **(3.10)** vemos a evolução do momento angular orbital da massa reduzida dada por"
   ]
  },
  {
   "cell_type": "markdown",
   "id": "5990ee6d-5114-462e-b11c-fe86ee229667",
   "metadata": {},
   "source": [
    "$$\\frac{d\\mathbf{L}}{dt} = \\frac{d\\mathbf{r}}{dt}  \\times \\mathbf{p} + \\mathbf{r} \\times \\frac{d\\mathbf{p}}{dt} = \\mathbf{v} \\times \\mathbf{p} + \\mathbf{r} \\times \\mathbf{F}. \\tag{3.11}$$"
   ]
  },
  {
   "cell_type": "markdown",
   "id": "04de8b9c-3a26-4e52-a7b2-2f43752fb67b",
   "metadata": {},
   "source": [
    "$\\quad$ A segunda expressão é oriunda da definição de velocidade e da segunda lei de Newton. Note que, devido a $\\mathbf{v}$ e $\\mathbf{p}$ estão na mesma direção, o produto vetorial deles é igual a zero. De maneira similar, $\\mathbf{F}$ é uma força central direcionada para dentro ao longo de $\\mathbf{r}$, o produto vetorial $\\mathbf{F}$ e $\\mathbf{r}$ também é zero. O resultado é uma importante declaração sobre o momento angular."
   ]
  },
  {
   "cell_type": "markdown",
   "id": "7ec74468-960f-4672-bab5-30a88dab622d",
   "metadata": {},
   "source": [
    "$$\\frac{d\\mathbf{L}}{dt} = 0. \\tag{3.12}$$"
   ]
  },
  {
   "cell_type": "markdown",
   "id": "f1789557-f1f0-4f97-ac21-5e258bfd16f9",
   "metadata": {},
   "source": [
    "$\\quad$ O momento angular de um sistema é uma constante para uma força centrípeta. A Eq. **(3.10)** mostra que a posição do vetor $\\mathbf{r}$ é sempre perpendicular ao constante vetor momento angular $\\mathbf{L}$, em outras palavras, isso significa que a órbita da massa reduzida está em um plano perpendicular ao momento angular $\\mathbf{L}$.\n",
    "\n",
    "$\\quad$ Usando o vetor unitário $\\hat{r}$ (então $\\mathbf{r} = r \\hat{r}$), podemos agora escrever o vetor momento angular na sua forma alternativa como sendo"
   ]
  },
  {
   "cell_type": "markdown",
   "id": "6c6a200a-0a37-4ed4-95c7-eabcf1558e37",
   "metadata": {},
   "source": [
    "$$\\mathbf{L} = \\mu \\mathbf{r} \\times \\mathbf{v}$$"
   ]
  },
  {
   "cell_type": "markdown",
   "id": "ce5ccbdb-22c4-4de9-a6f8-7837ac0b7f76",
   "metadata": {},
   "source": [
    "$$= \\mu r \\hat{r} \\times \\frac{d}{dt}(r\\hat{r})$$"
   ]
  },
  {
   "cell_type": "markdown",
   "id": "6a209ffb-a6da-46a3-8b05-79a96862b0e4",
   "metadata": {},
   "source": [
    "$$= \\mu r\\hat{r} \\times \\left(\\frac{d\\mathbf{r}}{dt}\\hat{r} + r\\frac{d}{dt}\\hat{r}\\right).$$"
   ]
  },
  {
   "cell_type": "markdown",
   "id": "b413a06f-028c-4e10-a312-05b83dc77a54",
   "metadata": {},
   "source": [
    "$\\quad$ O produto vetorial entre $\\mu r^2\\hat{r}$ e $\\frac{dr}{dt}\\hat{r}$ é igual a zero, visto que $\\hat{r} \\times \\hat{r} = 0$. Logo, o momento angular é dado por:"
   ]
  },
  {
   "cell_type": "markdown",
   "id": "52a4cbc1-6b52-4692-a1ab-a294a042e82d",
   "metadata": {},
   "source": [
    "$$ L = \\mu r^2\\hat{r} \\times \\frac{dr}{dt}\\hat{r}. $$"
   ]
  },
  {
   "cell_type": "markdown",
   "id": "d486ac17-9d4b-4ab6-8a6d-c45c4f87f17d",
   "metadata": {},
   "source": [
    "$\\quad$ Na forma vetorial, a aceleração da massa reduzida devido à ação da força gravitacional exercida por $M$ é"
   ]
  },
  {
   "cell_type": "markdown",
   "id": "ef38119c-d297-42f2-99aa-edaced3e943a",
   "metadata": {},
   "source": [
    "$$\\mathbf{a} = -\\frac{GM}{r^2}\\hat{r}.$$"
   ]
  },
  {
   "cell_type": "markdown",
   "id": "04d0f324-abad-4565-8211-e0a73b8fe340",
   "metadata": {},
   "source": [
    "$\\quad$ Fazendo o produto vetorial entre a aceleração da massa reduzida com o próprio  momento angular e aplicando a identidade vetorial $\\mathbf{A} \\times ( \\mathbf{B} \\times \\mathbf{C}) = (\\mathbf{A} \\cdot \\mathbf{C})\\mathbf{B} - (\\mathbf{A}  \\cdot \\mathbf{B})\\mathbf{C}$, temos que"
   ]
  },
  {
   "cell_type": "markdown",
   "id": "16977c78-05e3-4191-979e-420f5b1a9aff",
   "metadata": {},
   "source": [
    "$$\\mathbf{a} \\times \\mathbf{L} = -GM\\mu \\left[\\left(\\hat{r} \\cdot \\frac{d}{dt}\\hat{r}\\right)\\hat{r} - (\\hat{r} \\cdot \\hat{r})\\frac{d}{dt}\\hat{r}\\right].$$"
   ]
  },
  {
   "cell_type": "markdown",
   "id": "d8bbf0e7-f9cb-463c-81cd-a5dff3df58c1",
   "metadata": {},
   "source": [
    "$\\quad$ Sabendo que $\\hat{r}$ é um vetor unitário, logo $\\hat{r} \\cdot \\hat{r} = 1$, então"
   ]
  },
  {
   "cell_type": "markdown",
   "id": "2772a281-de17-49e6-935c-39a41cc5ad33",
   "metadata": {},
   "source": [
    "$$\\frac{d}{dt}(\\hat{r}\\cdot\\hat{r}) = 2\\hat{r}\\cdot\\frac{d}{dt}\\hat{r} = 0.$$"
   ]
  },
  {
   "cell_type": "markdown",
   "id": "0f760dfd-76c6-4659-9e9d-be2924e1e3a2",
   "metadata": {},
   "source": [
    "$\\quad$Como resultado,"
   ]
  },
  {
   "cell_type": "markdown",
   "id": "6adb39f8-1d02-41f3-99dc-e22b3a6de825",
   "metadata": {},
   "source": [
    "$$\\mathbf{a} \\times \\mathbf{L} = GM\\mu \\frac{d}{dt}\\hat{r}$$"
   ]
  },
  {
   "cell_type": "markdown",
   "id": "d58018c3-45d9-43e1-9fea-422b05803651",
   "metadata": {},
   "source": [
    "$\\quad$ou, usando a Eq. **(3.12)**, podemos"
   ]
  },
  {
   "cell_type": "markdown",
   "id": "77be0757-30c6-4a3d-9931-ba5e9eec059c",
   "metadata": {},
   "source": [
    "$$\\frac{d}{dt}(\\mathbf{v} \\times \\mathbf{L}) = \\frac{d}{dt}(GM\\mu \\hat{r}).$$"
   ]
  },
  {
   "cell_type": "markdown",
   "id": "4201416c-2098-4a86-8ac3-445b976614e6",
   "metadata": {},
   "source": [
    "$\\quad$ Integrando em relação ao tempo, temos que"
   ]
  },
  {
   "cell_type": "markdown",
   "id": "e9c6e9f1-6eb6-4c85-b9be-a7946e7959c1",
   "metadata": {},
   "source": [
    "$$ \\mathbf{v} \\times \\mathbf{L} = GM\\mu \\hat{r} + \\mathbf{D}. \\tag{3.13}$$"
   ]
  },
  {
   "cell_type": "markdown",
   "id": "ff1e3871-59f5-4e9c-89be-3efffd82fb93",
   "metadata": {},
   "source": [
    "$\\quad$ Onde $\\mathbf{D}$ é um vetor constante. Porque $\\mathbf{v} \\times \\mathbf{L}$ e $\\hat{r}$ estão ambos no plano orbital, então $\\mathbf{D}$ deve estar também. Além disso, a magnitude do lado esquerdo da equação será maior no periélio, quando a velocidade da massa reduzida é máxima. E essa magnitude é maior quando $\\hat{r}$ e $\\mathbf{D}$ apontam para a mesma direção. Portanto, $\\mathbf{D}$ é direcionado para o periélio. Como mostrado abaixo, a magnitude de $\\mathbf{D}$ determina a excentricidade da órbita."
   ]
  },
  {
   "cell_type": "markdown",
   "id": "5e69f836-e675-47ca-ba24-f74c14f2061a",
   "metadata": {},
   "source": [
    "$\\quad$ Usando a Eq. **(3.13)** e aplicando o produto escalar com o vetor posição $\\vec{r} = r\\hat{r}$, teremos"
   ]
  },
  {
   "cell_type": "markdown",
   "id": "d1d90130-2e50-46a2-9b5b-20b2472b0c8b",
   "metadata": {},
   "source": [
    "$$  \\mathbf{r}\\cdot (\\mathbf{v} \\times \\mathbf{L}) = GM\\mu r \\hat{r} \\cdot \\hat{r} + \\mathbf{r} \\cdot \\mathbf{D} $$"
   ]
  },
  {
   "cell_type": "markdown",
   "id": "131973f4-c0a9-4a18-a497-63f3b55c8943",
   "metadata": {},
   "source": [
    "$\\quad$ Aplicando a identidade vetorial $\\mathbf{A} \\cdot (\\mathbf{B} \\times \\mathbf{C}) = (\\mathbf{A} \\times \\mathbf{B})\\cdot \\mathbf{C}$, temos"
   ]
  },
  {
   "cell_type": "markdown",
   "id": "122a7134-7638-4a0e-a1e6-b59387f8e9b2",
   "metadata": {},
   "source": [
    "$$ (\\mathbf{r} \\times \\mathbf{v})\\cdot \\mathbf{L} = GM \\mu r + rDcos(\\theta).$$"
   ]
  },
  {
   "cell_type": "markdown",
   "id": "de2836f2-d340-470b-8bda-9949b03af2bb",
   "metadata": {},
   "source": [
    "$\\quad$ Relembrando a definição de momento angular usando a Eq. **(3.10)**, temos"
   ]
  },
  {
   "cell_type": "markdown",
   "id": "e2ca8812-3915-4ef3-ac56-9a7ef0bb40e3",
   "metadata": {},
   "source": [
    "$$\\frac{L^2}{\\mu} = GM \\mu r \\left(1 + \\frac{Dcos(\\theta)}{GM \\mu}\\right).$$"
   ]
  },
  {
   "cell_type": "markdown",
   "id": "9a3f5c82-d082-4ef2-9036-2f788c918981",
   "metadata": {},
   "source": [
    "$\\quad$ Onde $\\theta$ é o ângulo da massa reduzida medida da direção do periélio. Definindo $e = D/GM \\mu$ e deixando $r$ isolado, temos que:"
   ]
  },
  {
   "cell_type": "markdown",
   "id": "e4c60870-3427-4eb0-9b4b-61d19b80e1e4",
   "metadata": {},
   "source": [
    "**Primeira Lei de Kepler**"
   ]
  },
  {
   "cell_type": "markdown",
   "id": "6c14023a-33a4-4f7a-8891-1c5738b6ccd2",
   "metadata": {},
   "source": [
    "$$\\boxed{ r = \\frac{L^2/\\mu^2}{GM(1+ecos(\\theta))}.} \\tag{3.14}$$"
   ]
  },
  {
   "cell_type": "markdown",
   "id": "c49bd41e-e4ae-44e7-b7f8-a50ba170b9a4",
   "metadata": {},
   "source": [
    "$\\quad$ Deste modo, a primeira lei de Kepler para as órbitas planetárias pode ser estabelecida como: ambos os objetos em uma órbita binária movem-se ao redor do centro de massa da elipse, com o centro de massa estando em um dos focos da elipse. Para nosso sistema solar, em vez do centro de massa estar no centro exato do Sol, está, na verdade, em um dos focus da elipse."
   ]
  },
  {
   "cell_type": "markdown",
   "id": "dab2a870-4c95-495d-9b41-bce3b7bbd966",
   "metadata": {},
   "source": [
    "$\\quad$ Para o caso de órbitas planetárias, comparando a equação **(2.3)** e **(3.14)** mostra-se que momento angular de um sistema é dado por"
   ]
  },
  {
   "cell_type": "markdown",
   "id": "d4721059-207a-42cc-b708-40aca3cbcee1",
   "metadata": {},
   "source": [
    "$$ L = \\mu \\sqrt{GMa(1-e^2)} \\tag{3.15}$$"
   ]
  },
  {
   "cell_type": "markdown",
   "id": "93016f9e-dabb-479f-a8fc-b980e8e97a00",
   "metadata": {},
   "source": [
    "### 3.3 Derivando a segunda lei de Kepler"
   ]
  },
  {
   "cell_type": "markdown",
   "id": "de555b2e-b198-4942-aa85-c5fe3f9a5ea2",
   "metadata": {},
   "source": [
    "$\\quad$ Para encontrar a segunda lei de Kepler, que relaciona a área de uma seção da elipse com um intervalo de tempo, começamos considerando um elemento de área infinitesimal em coordenadas polares, como mostrado na figura abaixo."
   ]
  },
  {
   "attachments": {
    "2b9cc071-35ad-456d-acce-f24274602dfe.png": {
     "image/png": "[encoded data removed]"
    }
   },
   "cell_type": "markdown",
   "id": "6b651595-07b8-48c6-932a-f59c722d2cf9",
   "metadata": {},
   "source": [
    "![image.png](attachment:2b9cc071-35ad-456d-acce-f24274602dfe.png)"
   ]
  },
  {
   "cell_type": "markdown",
   "id": "0dc9efcf-3345-4894-a8d9-1e5107c326ea",
   "metadata": {},
   "source": [
    "$\\quad$ Em que essa área pode ser determinada da seguinte forma,"
   ]
  },
  {
   "cell_type": "markdown",
   "id": "f99934f7-190b-4415-8521-6e9658c3063b",
   "metadata": {},
   "source": [
    "$$dA = dr(rd\\theta) = rdrd\\theta .$$"
   ]
  },
  {
   "cell_type": "markdown",
   "id": "04ff7540-e68c-4daa-a522-20e90e14b644",
   "metadata": {},
   "source": [
    "$\\quad$ Se integrarmos do foco principal da elipse para uma distância específica, $r$, a área varrida por uma mudança infinitesimal de $\\theta$ se torna"
   ]
  },
  {
   "cell_type": "markdown",
   "id": "f8c977b6-ae36-48b4-8a80-fea02e7ceeb2",
   "metadata": {},
   "source": [
    "$$dA = \\frac{1}{2}r^2d\\theta . $$"
   ]
  },
  {
   "cell_type": "markdown",
   "id": "927c985b-3c39-4a94-bcba-227a2343d7f6",
   "metadata": {},
   "source": [
    "$\\quad$ Portanto, a taxa de variação temporal na área varrida por uma linha que une um ponto na elipse ao foco torna-se"
   ]
  },
  {
   "cell_type": "markdown",
   "id": "ee7bc005-b0ad-48f6-bfcf-7a507c2b5d4a",
   "metadata": {},
   "source": [
    "$$\\frac{dA}{dt} = \\frac{1}{2}r^2\\frac{d\\theta}{dt} . \\tag{3.16}$$"
   ]
  },
  {
   "cell_type": "markdown",
   "id": "d6eec9f6-6af7-4cfb-af8c-d8a89b2ac00a",
   "metadata": {},
   "source": [
    "$\\quad$ Agora a velocidade orbital, $\\mathbf{v}$, pode ser expressa em dois componentes, um na direção de $r$ e o outro perpendicular a $r$. Deixando $\\hat{r}$ e $\\hat{\\theta}$ para serem vetores unitários ao longo de $r$ e sua normal, respectivamente, $\\mathbf{v}$ pode ser escrito como sendo:"
   ]
  },
  {
   "cell_type": "markdown",
   "id": "9d3e2986-130f-4599-aab5-d412700e5599",
   "metadata": {},
   "source": [
    "$$\\mathbf{v} = \\mathbf{v}_r + \\mathbf{v}_{\\theta} = \\frac{dr}{dt}\\hat{r} + r\\frac{d\\theta}{dt}\\hat{\\theta}.$$"
   ]
  },
  {
   "cell_type": "markdown",
   "id": "ff246c75-3938-48aa-9674-84cdbc6d0535",
   "metadata": {},
   "source": [
    "$\\quad$ Substituindo $\\mathbf{v}_{\\theta}$ na Eq. **(3.15)** temos"
   ]
  },
  {
   "cell_type": "markdown",
   "id": "db0a2600-b9cf-4416-bb00-b1f746028734",
   "metadata": {},
   "source": [
    "$$\\frac{dA}{dt} = \\frac{1}{2}\\mathbf{r} \\cdot \\mathbf{v}_{\\theta}.$$"
   ]
  },
  {
   "cell_type": "markdown",
   "id": "68f6af7e-7582-4af3-adbc-fb0820e3172e",
   "metadata": {},
   "source": [
    "$\\quad$ Sabendo que $\\mathbf{r}$ e $\\mathbf{v}_{\\theta}$ são perpendiculares,"
   ]
  },
  {
   "cell_type": "markdown",
   "id": "9ec95a6f-d4f4-495b-b723-76de9192e809",
   "metadata": {},
   "source": [
    "$$\\mathbf{r} \\cdot \\mathbf{v}_{\\theta} = |\\mathbf{r} \\times \\mathbf{v}| = \\left|\\frac{\\mathbf{L}}{\\mu}\\right| = \\frac{L}{\\mu}.$$"
   ]
  },
  {
   "cell_type": "markdown",
   "id": "d806f618-15a3-4406-b1fa-58f757436306",
   "metadata": {},
   "source": [
    "$\\quad$ Finalmente, a derivada da área em relação ao tempo se torna"
   ]
  },
  {
   "cell_type": "markdown",
   "id": "0b3261f7-fb4d-47aa-b807-242d49cc9d1b",
   "metadata": {},
   "source": [
    "**Segunda lei de Kepler**"
   ]
  },
  {
   "cell_type": "markdown",
   "id": "b9c53e4e-1962-43b3-9226-be3f2f4585e5",
   "metadata": {},
   "source": [
    "$$\\boxed{\\frac{dA}{dt} = \\frac{1}{2}\\frac{L}{\\mu}}. \\tag{3.17}$$"
   ]
  },
  {
   "cell_type": "markdown",
   "id": "f01a22ac-2a8b-4fa3-82d7-7f4b53225b14",
   "metadata": {},
   "source": [
    "$\\quad$ Deste modo, a segunda lei de Kepler evidência que a taxa de mudança da área varrida em função do tempo por linha que conecta um planeta ao foco da elipse é uma constante."
   ]
  },
  {
   "attachments": {
    "9f5f598a-438b-4b73-873d-7efd3bc4205c.png": {
     "image/png": "[encoded data removed]"
    }
   },
   "cell_type": "markdown",
   "id": "19b1e72b-69e3-420a-a15c-4cf80ad649a3",
   "metadata": {},
   "source": [
    "![image.png](attachment:9f5f598a-438b-4b73-873d-7efd3bc4205c.png)"
   ]
  },
  {
   "cell_type": "markdown",
   "id": "cd6636b0-947a-4f19-b357-4c8fe01bcf07",
   "metadata": {},
   "source": [
    "$\\quad$ Expressões para a velocidade da massa reduzida no periélio e no afélio, ou seja, $\\theta = 0$ e $\\theta = \\pi$, respectivamente, pode ser facilmente determinadas utilizando a Eq. **(3.14)**. Visto que $\\mathbf{v}$ e $\\mathbf{r}$ são perpendiculares no periélio e no afélio, temos que o momento angular é dado por:"
   ]
  },
  {
   "cell_type": "markdown",
   "id": "07ead165-09b3-4f28-ada4-34b19e14065c",
   "metadata": {},
   "source": [
    "$$\\mathbf{L} = \\mu vr.$$"
   ]
  },
  {
   "cell_type": "markdown",
   "id": "fcf24520-195f-47e7-8e23-e8731e3f79d7",
   "metadata": {},
   "source": [
    "$\\quad$ **Obs.**: note que o momento angular é dado por $L = r \\times p = rpsin(\\phi) = r\\mu vsin(\\phi)$, sendo o $\\phi$ o angulo entre os dois vetores é $\\pi/2$, que por sua vez, torna o $sin(\\pi/2)$ = 1, e, portanto, $L = \\mu vr$."
   ]
  },
  {
   "cell_type": "markdown",
   "id": "a02dda3c-82a2-44f4-a64b-d868fd2c8445",
   "metadata": {},
   "source": [
    "$\\quad$ Para o periélio temos"
   ]
  },
  {
   "cell_type": "markdown",
   "id": "2061df2c-468a-41ab-982c-17a0d771c0fc",
   "metadata": {},
   "source": [
    "$$r_p = \\frac{(\\mu r_p v_p)^2/\\mu^2}{GM(1+e)},$$"
   ]
  },
  {
   "cell_type": "markdown",
   "id": "b88f8ea9-261d-4097-bd4f-51b409542f76",
   "metadata": {},
   "source": [
    "$\\quad$enquanto no afélio"
   ]
  },
  {
   "cell_type": "markdown",
   "id": "539bdf30-4464-466a-877b-5a81ef4a9765",
   "metadata": {},
   "source": [
    "$$r_a = \\frac{(\\mu r_a v_a)^2/\\mu^2}{GM(1 - e)}.$$"
   ]
  },
  {
   "cell_type": "markdown",
   "id": "196a6871-84e6-4271-8337-621a0d1aee63",
   "metadata": {},
   "source": [
    "$\\quad$Sabendo que $r_p = a(1-e)$ e $r_a = a(1+e)$, podemos encontrar expressões para a velocidade no afélio e periélio:"
   ]
  },
  {
   "cell_type": "markdown",
   "id": "aafeeb08-553f-4e86-a34c-a57703d158a7",
   "metadata": {},
   "source": [
    "$$V_p^2 = \\frac{GM(1+e)}{r_p} = \\frac{GM}{a}\\frac{(1+e)}{(1-e)} ,\\tag{3.18}$$"
   ]
  },
  {
   "cell_type": "markdown",
   "id": "35d42616-e486-4d04-9078-6df87b8bfc33",
   "metadata": {},
   "source": [
    "$\\quad$ no periélio, e"
   ]
  },
  {
   "cell_type": "markdown",
   "id": "00873350-e92a-446e-9be0-01931348426f",
   "metadata": {},
   "source": [
    "$$V_a^2 = \\frac{GM(1-e)}{r_a} = \\frac{GM}{a}\\frac{(1-e)}{(1+e)}, \\tag{3.19}$$"
   ]
  },
  {
   "cell_type": "markdown",
   "id": "16f0d126-c6b9-4af9-8572-352b2e4b3f02",
   "metadata": {},
   "source": [
    "$\\quad$afélio."
   ]
  },
  {
   "cell_type": "markdown",
   "id": "82dc2733-5d4e-40d3-9c01-12b89a3757ec",
   "metadata": {},
   "source": [
    "$\\quad$ A energia total pode ser encontrada como:"
   ]
  },
  {
   "cell_type": "markdown",
   "id": "350d8253-0d32-413f-af82-018e98d3de01",
   "metadata": {},
   "source": [
    "$$E = \\frac{1}{2}\\mu v_p^2 - G\\frac{Mm}{r_p}.$$"
   ]
  },
  {
   "cell_type": "markdown",
   "id": "abf416f1-8a60-41af-8080-13cc1e21df21",
   "metadata": {},
   "source": [
    "$\\quad$Fazendo algumas substituições apropriadas a equação torna-se"
   ]
  },
  {
   "cell_type": "markdown",
   "id": "a2fa9aba-e57d-4d42-a55d-f9f7ad000c0f",
   "metadata": {},
   "source": [
    "$$E = -G\\frac{M\\mu}{2a} = -G\\frac{m_1m_2}{2a} .\\tag{3.20}$$"
   ]
  },
  {
   "cell_type": "markdown",
   "id": "8eeb67a4-ad64-42e3-85dc-74cb0ebb7085",
   "metadata": {},
   "source": [
    "$\\quad$Uma expressão muito útil para a velocidade de massa reduzida pode ser encontrada diretamente usando a conservação de energia e a equação de energia orbital total. Logo, temos que: "
   ]
  },
  {
   "cell_type": "markdown",
   "id": "8892052c-6780-4925-afb4-0dbf411c097c",
   "metadata": {},
   "source": [
    "$$-G\\frac{M\\mu}{2a} = \\frac{1}{2}\\mu v^2 - G\\frac{M\\mu}{r} , $$"
   ]
  },
  {
   "cell_type": "markdown",
   "id": "50f5636e-d554-4c3b-afb1-f4723e54f8ff",
   "metadata": {},
   "source": [
    "logo"
   ]
  },
  {
   "cell_type": "markdown",
   "id": "1d811595-871c-4222-b76a-c7a6e0223ead",
   "metadata": {},
   "source": [
    "$$v^2 = GM\\left(\\frac{2}{r}-\\frac{1}{a}\\right).$$"
   ]
  },
  {
   "cell_type": "markdown",
   "id": "5723f90e-aaeb-44d4-b7ff-d001314b7c41",
   "metadata": {},
   "source": [
    "$\\quad$ Sabendo que $M = m_1+ m_2$, a equação se torna"
   ]
  },
  {
   "cell_type": "markdown",
   "id": "1c29d679-49e1-4895-bebe-9a4b8cfaf5d9",
   "metadata": {},
   "source": [
    "$$v^2 = G(m_1+m_2)\\left(\\frac{2}{r}-\\frac{1}{a}\\right) . \\tag{3.21}$$"
   ]
  },
  {
   "cell_type": "markdown",
   "id": "2c5c7ce3-bb11-49c7-b417-d1fd5c89b0a4",
   "metadata": {},
   "source": [
    "## 3.4 Derivando a Terceira Lei de Kepler"
   ]
  },
  {
   "cell_type": "markdown",
   "id": "579cdf80-1d41-4e6f-bc64-1dd772909a61",
   "metadata": {},
   "source": [
    "$\\quad$ Podemos integrar a Eq. **(3.17)** sobre um período orbital $P$ e obter que"
   ]
  },
  {
   "cell_type": "markdown",
   "id": "9a6116cc-71ca-4058-9b68-60f8b4a926ca",
   "metadata": {},
   "source": [
    "$$A = \\frac{1}{2}\\frac{L}{\\mu}P$$"
   ]
  },
  {
   "cell_type": "markdown",
   "id": "40614dda-1055-4296-b3d5-30e3d6c5080e",
   "metadata": {},
   "source": [
    "$\\quad$ Substituindo $A$ por $\\pi ab$ (área de uma elipse) e elevando a equação ao quadrado, passamos a obter "
   ]
  },
  {
   "cell_type": "markdown",
   "id": "4618fc47-a374-4b89-9100-0903b504053c",
   "metadata": {},
   "source": [
    "$$ P = \\frac{4\\pi^2a^2b^2\\mu^2}{L^2}$$"
   ]
  },
  {
   "cell_type": "markdown",
   "id": "34cbed18-7a2a-42e2-b3a9-8e5d222321f7",
   "metadata": {},
   "source": [
    "$\\quad$ Fazendo algumas operações, temos a fórmula geral para o período $P$ de um movimento planetário em uma órbita elíptica ao redor de uma estrela é dado por:"
   ]
  },
  {
   "cell_type": "markdown",
   "id": "2dc81b74-c30f-4ffc-8dc2-2aee588c31c8",
   "metadata": {},
   "source": [
    "$$\\boxed{P^2 = \\frac{4\\pi^2}{G(M + m)}a^3}. \\tag{3.22}$$"
   ]
  },
  {
   "cell_type": "markdown",
   "id": "7927ce42-b8c9-4702-acd4-c2096f7ec599",
   "metadata": {},
   "source": [
    "$\\quad$ Dado que:\n",
    "* $a$ é o semi-eixo maior da órbita;\n",
    "* $G$ é a constante gravitacional;\n",
    "* $M$ a massa da estrela;\n",
    "* $m$ massa do planeta."
   ]
  },
  {
   "cell_type": "markdown",
   "id": "3ce03fbc-a402-44e0-9f90-f680fc4b4b01",
   "metadata": {},
   "source": [
    "## 4. Implementação do código"
   ]
  },
  {
   "cell_type": "markdown",
   "id": "5f14fdd6-d5d0-496e-a867-59c61a2c9907",
   "metadata": {},
   "source": [
    "$\\quad$ O programa a seguir computa o período orbital dado pela Equação **(3.22)** para os oito planetas do sistema solar. Na realidade, isso é uma aproximação, pois negligenciamos a mútua interferência entre os planetas. Em outras palavras, a terceira lei de Kepler assume um sistema de dois corpos. Isto é, é mais preciso do que usar uma massa de teste aproximadamente nula ($m=0$). O código abaixo compara os períodos resultantes dos dois corpos (Sol e planeta) com a fórmula com uma massa teste aproximadamente zero."
   ]
  },
  {
   "cell_type": "code",
   "execution_count": 2,
   "id": "a9adcef5-d204-4d37-b8ac-a9fb4e2e50b4",
   "metadata": {
    "tags": []
   },
   "outputs": [],
   "source": [
    "def plot_ticks(): #função para colocar ticks no gráficos\n",
    "    plt.figure(figsize = (8,5))\n",
    "    plt.minorticks_on()\n",
    "    plt.tick_params(axis='x', which='both', top = True, right = True, direction = 'in', length=5, width=1)\n",
    "    plt.tick_params(axis='y', which='both', top = True, right = True, direction = 'in', length=5, width=1)"
   ]
  },
  {
   "cell_type": "code",
   "execution_count": 3,
   "id": "8877c21d-8647-49e7-bf79-4263477a227f",
   "metadata": {
    "tags": []
   },
   "outputs": [],
   "source": [
    "M_S = M_sun.value #massa do sol\n",
    "\n",
    "#massa de cada planeta\n",
    "m = 1e24 * np.array([0.33011, 4.8675, 5.9723, 0.64171,1898.19, 568.34, 86.813, 102.413]) \n",
    "\n",
    "# maior semi-eixo de cada planeta\n",
    "a = 1e9 * np.array([57.9, 108.21, 149.60, 227.92, 778.57, 1433.53, 2872.46, 4495.06])\n",
    "\n",
    "T_massa_0 = 2*np.pi*(G*M_S)**(-1/2)*a**(3/2)\n",
    "T_dois_corpos = 2*np.pi*(G*(M_S+m))**(-1/2)*a**(3/2)"
   ]
  },
  {
   "cell_type": "code",
   "execution_count": 4,
   "id": "e9ba615e-90ee-4cdf-a28b-7534098a5fbc",
   "metadata": {
    "tags": []
   },
   "outputs": [
    {
     "name": "stdout",
     "output_type": "stream",
     "text": [
      "Planetas | T [yr]|dev [hr]| dev rel|\n",
      "Mercurio |   0.24|  0.0002| 8.3e-08|\n",
      "Vênus    |   0.62|  0.0066| 1.2e-06|\n",
      "Terra    |   1.00|  0.0132| 1.5e-06|\n",
      "Marte    |   1.88|  0.0027| 1.6e-07|\n",
      "Jupíter  |  11.88|    49.6| 4.8e-04|\n",
      "Saturno  |  29.68|    37.2| 1.4e-04|\n",
      "Urano    |  84.20|    16.1| 2.2e-05|\n",
      "Netuno   | 164.82|    37.2| 2.6e-05|\n"
     ]
    }
   ],
   "source": [
    "print(\"Planetas | T [yr]|dev [hr]| dev rel|\")\n",
    "cont = 0\n",
    "planetas = ['Mercurio', 'Vênus', 'Terra', 'Marte', 'Jupíter', 'Saturno', 'Urano', 'Netuno']\n",
    "for x1, x2 in zip(T_massa_0,T_dois_corpos):\n",
    "    diff = x1 - x2\n",
    "    if diff > hour:\n",
    "        linha = \"{:<9s}| {:6.2f}| {:>7.1f}| {:.1e}|\"\n",
    "    else:\n",
    "        linha = \"{:<9s}| {:6.2f}| {:7.4f}| {:.1e}|\"\n",
    "   \n",
    "    print(linha.format(planetas[cont],x2/year, diff/hour, diff/x1))\n",
    "    cont += 1"
   ]
  },
  {
   "cell_type": "markdown",
   "id": "671b23eb-6699-43d5-baef-c0dead3811b7",
   "metadata": {},
   "source": [
    "$\\quad$ Os períodos orbitais definidos pela equação **(3.21)** e a massa teste aproximada, onde a massa do planeta é negligenciada, são computadas em `T_dois_corpos` e `T_massa_0`, respectivamente, usando os operadores array. Os resultados são printados no loop `for`, onde a primeira coluna da lista de períodos é dada pela equação **(3.21)**, a segunda coluna é o desvio da aproximação da massa teste em horas (hr), e a terceira coluna é o desvio relativo."
   ]
  },
  {
   "cell_type": "markdown",
   "id": "90f9c62f-2404-4a6d-afb0-832bf7561358",
   "metadata": {},
   "source": [
    "$\\quad$ Enquanto a revolução de Mercúrio ao redor do Sol é efetuada quatro vezes por ano, a revolução de Netuno é acima de um século para completar a órbita em torno do Sol. Para printar o período em anos, nós precisamos dividir o valor computado no **SI** (Sistema Internacional de Unidades) (s) para conversão em anos. O desvio da massa teste aproximada é maior para planetas mais distantes como, por exemplo, Júpiter, Saturno, Urano e Netuno, como eles são muito massivos do que planetas de órbitas mais próximas como Mercúrio, Vênus, Terra e Marte. No entanto, o erro relativo do período orbital é pequeno. Para alinhar os valores na terceira coluna e ajustar os pontos decimais, foi usado um `If-else`, estruturas de controle de fluxo em Python usadas para definir o formato de uma linha, dependendo do valor do desvio absoluto, é maior ou menor do que uma hora (o método hour é uma hora em segundos). Para a coluna que possui um comprimento de 7, ou seja, para os planetas mais massivos, o valor do desvio foi arredondado para 1 e para os planetas com menos massa, portanto, com um desvio menor do que 1 hora, temos um arrendondamento de 4 casas decimais."
   ]
  },
  {
   "cell_type": "markdown",
   "id": "3ab9ac6a-bd91-4ed1-9f7a-8ada089f5ab9",
   "metadata": {},
   "source": [
    "$\\quad$ Leis de potência, tais quais $P \\propto a^{2/3}$, aparece com uma linha reta com inclinação igual ao expoente em um diagrama logaritimico duplo:"
   ]
  },
  {
   "cell_type": "markdown",
   "id": "7edbbde7-70c8-4490-ac5f-17578f8cdbbe",
   "metadata": {},
   "source": [
    "$$log P = \\frac{2}{3}log a + const . \\tag{4.1}$$"
   ]
  },
  {
   "cell_type": "markdown",
   "id": "3ecb2640-abd8-4f30-bafd-d57a746284c1",
   "metadata": {},
   "source": [
    "$\\quad$ Agora, plotamos o resultado obtido em uma escala logarítmica aplicando a função `loglog()` oriunda da biblioteca Matplotlib:"
   ]
  },
  {
   "cell_type": "code",
   "execution_count": 5,
   "id": "6f97bc05-9b78-4663-834a-f05dcc43e057",
   "metadata": {
    "tags": []
   },
   "outputs": [
    {
     "data": {
      "text/plain": [
       "Text(0, 0.5, 'Periodo orbital em [anos]')"
      ]
     },
     "execution_count": 5,
     "metadata": {},
     "output_type": "execute_result"
    },
    {
     "data": {
      "image/png": "[encoded data removed]",
      "text/plain": [
       "<Figure size 800x500 with 1 Axes>"
      ]
     },
     "metadata": {},
     "output_type": "display_data"
    }
   ],
   "source": [
    "plt.style.use('dark_background') # o estilo é opcional\n",
    "plot_ticks()\n",
    "#plt.grid(True)\n",
    "plt.loglog(a/au, T_massa_0/year, 'green', linestyle = '--', label = 'T com a massa teste')\n",
    "plt.loglog(a/au, T_dois_corpos/year,'ro', label = 'T com as massas dos planetas')\n",
    "plt.legend(loc = 'lower right')\n",
    "\n",
    "for i, planeta in enumerate(planetas):\n",
    "    plt.text(a[i]/au, T_dois_corpos[i]/year, planeta, fontsize=9, ha='center', va='bottom', color='white')\n",
    "    \n",
    "plt.xlabel('semi-eixo maior em [AU]')\n",
    "plt.ylabel('Periodo orbital em [anos]')"
   ]
  },
  {
   "cell_type": "markdown",
   "id": "0d1248fc-5c28-4128-a5cd-56da097481b2",
   "metadata": {},
   "source": [
    "$\\quad$ O gráfico acima é o resultado do código. Plotar o período em hora em relação ao o semi-eixo maior em AU (Unidade Astronômica) é simplesmente dividir os períodos obtidos, período com massa teste e período com as massas dos planetas, por hour. "
   ]
  },
  {
   "cell_type": "markdown",
   "id": "2518a59d-12be-404b-99e5-845e726d0c19",
   "metadata": {},
   "source": [
    "$\\quad$ Vamos agora adicionar para este gráfico os planetas anões Plutão, Ceres e Eris."
   ]
  },
  {
   "cell_type": "code",
   "execution_count": 6,
   "id": "851dd8fb-29e0-4d2d-9565-c9880e3c11f2",
   "metadata": {
    "tags": []
   },
   "outputs": [
    {
     "data": {
      "text/plain": [
       "Text(0, 0.5, 'Periodo orbital em [anos]')"
      ]
     },
     "execution_count": 6,
     "metadata": {},
     "output_type": "execute_result"
    },
    {
     "data": {
      "image/png": "[encoded data removed]",
      "text/plain": [
       "<Figure size 800x500 with 1 Axes>"
      ]
     },
     "metadata": {},
     "output_type": "display_data"
    }
   ],
   "source": [
    "Planetas_anao = ['Ceres', 'Plutão', 'Eris']\n",
    "a_anao = 1e9 * np.array([2.7675, 39.48, 67.781])#Aqui temos a distancia de Ceres, Plutão e Eris, respectivamente.\n",
    "T_anao = 2*np.pi*(G*M_S)**(-1/2)*a_anao**(3/2) #Para T_anao não temos massa, pois despresamos a massa dos planetas anões\n",
    "\n",
    "plt.style.use('dark_background') # o estilo é opcional\n",
    "plot_ticks()\n",
    "#plt.grid(True)\n",
    "#plt.loglog(a/au, T_massa_0/year, 'green', linestyle = '--', label = 'T com a massa teste')\n",
    "plt.loglog(a/au, T_dois_corpos/year,'ro', label = 'T com as massas dos planetas')\n",
    "plt.loglog(a_anao/au, T_anao/year, 'bo', label = 'planetas anões')\n",
    "plt.legend(loc = 'lower right')\n",
    "\n",
    "corpos_celestes = planetas + Planetas_anao\n",
    "\n",
    "for i, corpo_c in enumerate(corpos_celestes):\n",
    "    if i < len(planetas):\n",
    "        plt.text(a[i]/au, T_dois_corpos[i]/year, corpo_c, fontsize=9, ha='center', va='bottom', color='white')\n",
    "    else:\n",
    "        plt.text(a_anao[i-len(planetas)]/au, T_anao[i-len(planetas)]/year, corpo_c, fontsize=9, ha='center', va='bottom', color='white')\n",
    "\n",
    "    \n",
    "plt.xlabel('semi-eixo maior em [AU]')\n",
    "plt.ylabel('Periodo orbital em [anos]')"
   ]
  },
  {
   "cell_type": "markdown",
   "id": "18229f6c-0195-41e8-a24c-4c07e87ea9e8",
   "metadata": {},
   "source": [
    "$\\quad$ Note que, nesse gráfico, o período orbital de Ceres, Plutão e Eris, são menores, por terem uma menor distância em relação aos planetas **(neste exemplo)**."
   ]
  },
  {
   "cell_type": "markdown",
   "id": "2e6dd85d-a7a3-476c-988a-5b1a776470a3",
   "metadata": {},
   "source": [
    "$\\quad$ No código abaixo analisaremos a órbita das estrelas binárias Siriús A e B. Para o código abaixo usaremos as Eq. **(3.4), (3.5) e (3.21)**. Além disso, as acelerações são dadas por"
   ]
  },
  {
   "cell_type": "markdown",
   "id": "4ccce493-2d84-4e8e-b6d4-7f9f756e8a6e",
   "metadata": {},
   "source": [
    "$$\\ddot{r_1} = \\frac{\\vec{F_{12}}}{M_1} \\hspace{0.5cm} \\text{e} \\hspace{0.5cm} \\ddot{r_2} = \\frac{\\vec{F_{21}}}{M_2}. \\tag{4.2}$$"
   ]
  },
  {
   "cell_type": "markdown",
   "id": "365c7d39-70b9-49d4-8647-1fd1a8af24ed",
   "metadata": {},
   "source": [
    "$\\quad$ E sabendo que a força gravitacional é dada por"
   ]
  },
  {
   "cell_type": "markdown",
   "id": "7be41655-376b-4f02-b516-2f702f32a86d",
   "metadata": {},
   "source": [
    "$$ \\mathbf{F_{12} = -F_{21}} = \\frac{GM_1M_2}{d^3}\\mathbf{d} . \\tag{4.3}$$"
   ]
  },
  {
   "cell_type": "markdown",
   "id": "1c04e341-3502-453c-935f-16ad30450056",
   "metadata": {},
   "source": [
    "$\\quad$ Vamos agora determinar as condições iniciais do problema."
   ]
  },
  {
   "cell_type": "markdown",
   "id": "cbdc99e8-1b9b-47e3-b1ff-36b11356d8c1",
   "metadata": {},
   "source": [
    "$\\quad$ Nos pontos de mínimo e máxima distância, o vetor velocidade $\\dot{\\mathbf{d}}$ é perpendicular a $\\mathbf{d}$. No periastro, se trata da posição onde os corpos celestes (nesse caso as estrelas) estão mais próximas uma da outra, logo temos que"
   ]
  },
  {
   "cell_type": "markdown",
   "id": "2548276d-fa8b-4a2b-8305-469f782238d8",
   "metadata": {},
   "source": [
    "$$r_1(0) = \\left(\\frac{M_2}{M_1+M_2}d_p,0,0\\right), \\tag{4.4}$$"
   ]
  },
  {
   "cell_type": "markdown",
   "id": "362dbbb7-6583-45e9-8a34-bbd83e3a9df5",
   "metadata": {},
   "source": [
    "$$r_2(0) = \\left(-\\frac{M_2}{M_1+M_2}d_p,0,0\\right). \\tag{4.5}$$"
   ]
  },
  {
   "cell_type": "markdown",
   "id": "e94a8808-eab3-407a-a42a-60abb60840c4",
   "metadata": {},
   "source": [
    "$\\quad$ Assumindo que o eixo maior da elipse são alinhados com o eixo $x$. Para elipse de **excentricidade e**, o periastro é dado por $d_p = a(1-e)$ e a velocidade relativa correspondente, $v_p$, é obtida substituindo $d_p$ na Eq. **(3.21)**. Orientando o eixo $z$ perpendicular ao plano orbital, a velocidade no periastro pode ser expressa por"
   ]
  },
  {
   "cell_type": "markdown",
   "id": "6303149c-8b88-4d7b-925a-6f7e7bcb59c4",
   "metadata": {},
   "source": [
    "$$ v_1(0) = \\dot{r}_1(0) = \\left(0, -\\frac{M_2}{M_1+M_2}v_p,0\\right), \\tag{4.6}$$"
   ]
  },
  {
   "cell_type": "markdown",
   "id": "8d31dc65-5169-4299-aec7-4c3f7c2efe8f",
   "metadata": {},
   "source": [
    "$$ v_2(0) = \\dot{r}_2(0) = \\left(0, \\frac{M_1}{M_1+M_2}v_p,0\\right). \\tag{4.7}$$"
   ]
  },
  {
   "cell_type": "markdown",
   "id": "f823778c-0b76-4049-a66e-8c0611c8b517",
   "metadata": {},
   "source": [
    "$\\quad$ Deste modo, completamos as condições iniciais do problema para duas estrelas."
   ]
  },
  {
   "cell_type": "code",
   "execution_count": 7,
   "id": "a730aa96-036c-4fdd-aa7f-775846d3a6df",
   "metadata": {},
   "outputs": [],
   "source": [
    "M_SA = 2.06*M_sun.value #Massa de Sirius A\n",
    "M_SB = 1.02*M_sun.value #Massa de Sirius B\n",
    "\n",
    "a = 2.64*7.4957*au\n",
    "e = 0.5914"
   ]
  },
  {
   "cell_type": "markdown",
   "id": "533db14e-6feb-42d5-9914-62d1b080697f",
   "metadata": {},
   "source": [
    "$\\quad$ Siriús B é uma anã branca com uma massa solar e Siriús A é uma estrela mais maciça. O semi-eixo maior $a$, aproximadamente $20 \\ AU$, é calculado a partir da distância do sistema estelar em relação à Terra e do tamanho angular. A **excentricidade** orbital é de aproximadamente $0.6$ indicando se tratar de uma órbita elíptica. O período orbital segue a terceira lei de Kepler."
   ]
  },
  {
   "cell_type": "code",
   "execution_count": 8,
   "id": "b3f6c02e-9269-4a6c-a417-f448ac6d37a6",
   "metadata": {},
   "outputs": [
    {
     "name": "stdout",
     "output_type": "stream",
     "text": [
      "Periodo orbital = 50.2 anos\n"
     ]
    }
   ],
   "source": [
    "P = 2*np.pi * (G*(M_SA+M_SB))**(-1/2) * a**(3/2) #teceira lei de kepler\n",
    "print('Periodo orbital = {:.1f} anos'.format(P/year))"
   ]
  },
  {
   "cell_type": "markdown",
   "id": "8a92760e-f625-4758-a41f-220d116dd5e4",
   "metadata": {},
   "source": [
    "$\\quad$ Até o momento, resolvemos as equações diferenciais para uma única função. No caso do problema de **dois-corpos**, nós estamos lidando com um sistema de equações diferenciais **(4.2)** para as funções vetoriais $\\mathbf{r}_1(t)$ e $\\mathbf{r}_2(t)$. Agora, reformulando as equações de movimento como um sistema de equações diferenciais de primeira ordem, temos que"
   ]
  },
  {
   "cell_type": "markdown",
   "id": "37c8520d-7155-4410-bbbc-3d2131d2deb1",
   "metadata": {},
   "source": [
    "$$\\mathbf{\\dot{v}}_1 = \\frac{GM_2}{|\\mathbf{r}_2 - \\mathbf{r}_1|^3}(\\mathbf{r}_2 - \\mathbf{r}_1) \\hspace{0.5cm} \\text{e} \\hspace{0.5cm} \\mathbf{\\dot{v}}_2 = \\frac{GM_2}{|\\mathbf{r}_2 - \\mathbf{r}_1|^3}(\\mathbf{r}_2 - \\mathbf{r}_1), $$"
   ]
  },
  {
   "cell_type": "markdown",
   "id": "84ad5d77-7b58-471d-9812-ee900f0bd38a",
   "metadata": {},
   "source": [
    "$$\\mathbf{\\dot{r}}_1 = \\mathbf{v}_1 \\hspace{0.5cm} \\text{e} \\hspace{0.5cm} \\mathbf{\\dot{r}}_2 = \\mathbf{v}_2.$$"
   ]
  },
  {
   "cell_type": "markdown",
   "id": "f85a18d6-d3d9-4f37-a038-d266e4cec1f5",
   "metadata": {},
   "source": [
    "$\\quad$ Para o código abaixo, definimos o intervalo de integração em unidades do período orbital e o número de passos de tempo. Em seguida, inicializamos arrays para as coordenadas e componentes de velocidade (a orientação das coordenadas é escolhida de tal forma que as órbitas estão no plano $xy$ e as coordenadas em $z$ possam ser ignoradas)."
   ]
  },
  {
   "cell_type": "code",
   "execution_count": 9,
   "id": "88d97bab-3cdf-43ae-a1a3-885ae4e82b0f",
   "metadata": {},
   "outputs": [],
   "source": [
    "voltas = 3\n",
    "passo = voltas*500\n",
    "dt = voltas*P/passo\n",
    "\n",
    "tempo = np.arange(0, (passo+1)*dt,dt)\n",
    "\n",
    "x_1 = np.zeros(passo+1)\n",
    "y_1 = np.zeros(passo+1)\n",
    "x_2 = np.zeros(passo+1)\n",
    "y_2 = np.zeros(passo+1)\n",
    "\n",
    "vx_1 = np.zeros(passo+1)\n",
    "vy_1 = np.zeros(passo+1)\n",
    "vx_2 = np.zeros(passo+1)\n",
    "vy_2 = np.zeros(passo+1)"
   ]
  },
  {
   "cell_type": "markdown",
   "id": "8d182b04-8ff8-498e-951b-4f3587b72351",
   "metadata": {},
   "source": [
    "$\\quad$ A seguir, aplicamos as condições **(4.4)**, **(4.5)**, **(4.6)** e **(4.7)** para os primeiros elementos do arranjo, isto é, colocamos as condições iniciais."
   ]
  },
  {
   "cell_type": "code",
   "execution_count": 10,
   "id": "ccff022c-b291-4c53-ae5e-b0cf3e8bad7f",
   "metadata": {
    "tags": []
   },
   "outputs": [],
   "source": [
    "d = a*(1 + e)\n",
    "v = np.sqrt(G*(M_SA + M_SB) * (2/d - 1/a))\n",
    "\n",
    "x_1[0], y_1[0] = d*M_SB/(M_SA + M_SB), 0\n",
    "x_2[0], y_2[0] = -d*M_SA/(M_SA + M_SB), 0\n",
    "\n",
    "vx_1[0], vy_1[0] = 0, -v*M_SB/(M_SA + M_SB)\n",
    "vx_2[0], vy_2[0] = 0, v*M_SA/(M_SA + M_SB)"
   ]
  },
  {
   "cell_type": "markdown",
   "id": "1b565a3f-5800-4b4e-895a-fa2010ed039e",
   "metadata": {},
   "source": [
    "$\\quad$ No `for` abaixo estamos integrando a equações"
   ]
  },
  {
   "cell_type": "code",
   "execution_count": 11,
   "id": "9ef7e206-968c-4ded-92a0-bb7595ae0794",
   "metadata": {
    "tags": []
   },
   "outputs": [],
   "source": [
    "alpha = G*M_SA*M_SB\n",
    "\n",
    "for i in range(passo):\n",
    "    delta_x = x_2[i] - x_1[i]\n",
    "    delta_y = y_2[i] - y_1[i]\n",
    "    \n",
    "    d3 = (delta_x**2 + delta_y**2)**(3/2)\n",
    "    \n",
    "    Fx = alpha*delta_x/d3\n",
    "    Fy = alpha*delta_y/d3\n",
    "\n",
    "    vx_1[i+1] = vx_1[i] + Fx*dt/M_SA\n",
    "    vy_1[i+1] = vy_1[i] + Fy*dt/M_SA\n",
    "    vx_2[i+1] = vx_2[i] - Fx*dt/M_SB\n",
    "    vy_2[i+1] = vy_2[i] - Fy*dt/M_SB\n",
    "\n",
    "    x_1[i+1] = x_1[i] + vx_1[i+1]*dt\n",
    "    y_1[i+1] = y_1[i] + vy_1[i+1]*dt\n",
    "    x_2[i+1] = x_2[i] + vx_2[i+1]*dt\n",
    "    y_2[i+1] = y_2[i] + vy_2[i+1]*dt\n",
    "    "
   ]
  },
  {
   "cell_type": "markdown",
   "id": "8740f619-b0d9-4188-9da2-f2f5a9f20a10",
   "metadata": {},
   "source": [
    "$\\quad$ Por fim plotamos o gráfico das órbitas de Siriús A e Siriús B."
   ]
  },
  {
   "cell_type": "code",
   "execution_count": 13,
   "id": "45f7064a-9804-4ce5-98d1-be2aabe7907c",
   "metadata": {
    "tags": []
   },
   "outputs": [
    {
     "data": {
      "image/png": "[encoded data removed]",
      "text/plain": [
       "<Figure size 600x381.818 with 1 Axes>"
      ]
     },
     "metadata": {},
     "output_type": "display_data"
    }
   ],
   "source": [
    "plt.style.use('dark_background') #O estilo é opcional\n",
    "fig = plt.figure(figsize=(6, 6*35/55), dpi=100) \n",
    "plt.plot([0],[0],'+w')\n",
    "plt.plot(x_1/au,y_1/au,color='r', label = 'Sirius A')\n",
    "plt.plot(x_2/au,y_2/au,color='blue', label = 'Sirius B')\n",
    "plt.xlabel('x [AU]')\n",
    "plt.ylabel('y [AU]')\n",
    "plt.legend()\n",
    "plt.show()"
   ]
  },
  {
   "cell_type": "markdown",
   "id": "a047df11-1574-440e-ac3f-439a4804e054",
   "metadata": {},
   "source": [
    "## Conclusão"
   ]
  },
  {
   "cell_type": "markdown",
   "id": "20f8b0a4-2c5d-4b25-b36b-76efd201b1c0",
   "metadata": {},
   "source": [
    "$\\quad$ No presente `Notebook` analisamos o comportamento do movimento dos planetas e de estrelas binárias, observando que tais corpos celestes têm movimentos que mais se assemelham a uma elipse, e não com um círculo. Isto é, em primeiro momento introduzimos o conceito de centro de massa e, por meio deste conceito, podemos considerar que a massa de um sistema pode estar localizada em um único ponto. Deste modo, tornou-se mais fácil e viável determinar a dinâmica de movimentação dos corpos celestes.\n",
    "\n",
    "$\\quad$ Em segundo momento, com o conceito de centro de massa já entendido, conseguimos deduzir as três leis de Kepler essenciais para o estudo da dinâmica orbital entre dois corpos celestes. Derivamos da primeira lei de Kepler, nela chegamos à conclusão de que os planetas orbitam em uma forma elíptica, tendo uma estrela (no nosso caso, o Sol) em um dos focos da elipse, e encontramos uma fórmula para tal lei. Para a segunda lei de Kepler, vimos que um planeta varre uma área igual em intervalo de tempos iguais. Por fim, a terceira lei de Kepler, encontramos uma relação entre o período orbital e o maior semi-eixo da elipse. Para todas as leis, determinamos fórmulas matemáticas.\n",
    "\n",
    "$\\quad$ Após a parte teórica, implementamos códigos que realizassem o cálculo do período que um planeta leva para completar uma revolução em torno do Sol e aplicamos um código capaz de mostrar gráficos a fim de facilitar o entendimento. Por fim, aplicamos um código que mostra o movimento entre duas estrelas e observamos sua órbita. Deste modo, neste `Notebook` entendemos sobre a mecânica orbital responsável pelo movimento de planetas e estrelas binárias."
   ]
  },
  {
   "cell_type": "markdown",
   "id": "0a37379e-0ce4-4585-9896-5b166fd26081",
   "metadata": {},
   "source": [
    "## Referências"
   ]
  },
  {
   "cell_type": "markdown",
   "id": "4925c37c-3e5e-4cc1-b189-62f42d133428",
   "metadata": {},
   "source": [
    "**[1]** SCHMIDT, W.; VÖLSCHOW, M. Numerical Python in Astronomy and Astrophysics. [s.l.] Springer Nature, 2021.\n",
    "\n",
    "**[2]** CARROLL, B. W.; OSTLIE, D. A. An introduction to modern astrophysics. 2. ed. Cambridge Etc.: Cambridge University Press, 2017.\n",
    "\n",
    "**[3]** M E J NEWMAN. Computational physics. North Charleston, Sc: Createspace, 2013.\n"
   ]
  }
 ],
 "metadata": {
  "kernelspec": {
   "display_name": "Python 3 (ipykernel)",
   "language": "python",
   "name": "python3"
  },
  "language_info": {
   "codemirror_mode": {
    "name": "ipython",
    "version": 3
   },
   "file_extension": ".py",
   "mimetype": "text/x-python",
   "name": "python",
   "nbconvert_exporter": "python",
   "pygments_lexer": "ipython3",
   "version": "3.11.9"
  }
 },
 "nbformat": 4,
 "nbformat_minor": 5
}
