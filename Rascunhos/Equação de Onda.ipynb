{
 "cells": [
  {
   "cell_type": "markdown",
   "id": "4691265d-a275-4d8d-a8ca-8cf2d344a394",
   "metadata": {},
   "source": [
    "# Equação de Onda: resolução numérica e analítica"
   ]
  },
  {
   "cell_type": "markdown",
   "id": "019bddd7",
   "metadata": {},
   "source": [
    "* PET- Física UFRN\n",
    "* Petianos: Wallysson Pereira da Silva\n",
    "* Data: 22/11/2024"
   ]
  },
  {
   "cell_type": "markdown",
   "id": "2806db3c",
   "metadata": {},
   "source": [
    "$\\quad$ O objetivo desse `Notebook` é fazer uma abordagem geral da **Equação de Onda**, explorando tanto uma de suas resoluções analíticas quanto uma resolução numérica. Tendo isso em vista, esse `Notebook` será dividido nos seguintes tópicos:\n",
    "1. Introdução da Equação de Onda\n",
    "2. Resolução Analítica\n",
    "3. Resolução Numérica\n",
    "4. Conclusão\n",
    "5. Referências"
   ]
  },
  {
   "cell_type": "markdown",
   "id": "c140bf9b-a7f3-4fdf-a3f8-74d968ec730d",
   "metadata": {},
   "source": [
    "$\\quad$ A primeira seção estará meramente dedicada à apresentação da Equação de Onda.\n",
    "\n",
    "$\\quad$ Já na segunda seção, apesar de estar indexada como Resolução Analítica, iremos, ao obter a solução analítica utilizando o devido método, usar ferramentais computacionais para ilustrar o comportamento da onda por meio de gráficos.\n",
    "\n",
    "$\\quad$ A terceira parte é focada na resolução numérica da Equação de Onda. Aqui também será feita a devida ilustração do comportamento da onda através de gráficos.\n",
    "\n",
    "$\\quad$ Por fim, no quarto tópico desse `Notebook`, tem-se uma conclusão, com as devidas referências aqui utilizadas no quinto e último tópico. \n"
   ]
  },
  {
   "cell_type": "markdown",
   "id": "0452b31a",
   "metadata": {},
   "source": [
    "## Pré-requesitos"
   ]
  },
  {
   "cell_type": "markdown",
   "id": "71e8a00f-fcb0-4c64-8e0e-5f2f33a4e9bd",
   "metadata": {},
   "source": [
    "$\\quad$ Para o total entendimento desse `Notebook`, é interessante que o leitor tenha conhecimentos básicos de programação (sobretudo em Python), junto de uma pequena noção sobre derivadas (totais e parciais) de funções. No entanto, como esse trabalho busca servir como uma base para quem está estudando a Equação de Onda, a abordagem aqui adotada buscará sempre ser bem elucidativa. Ainda, tanto na abordagem analítica quanto na numérica, conhecimentos prévios sobre Séries de Fourier e a Transformada Discreta de Fourier são necessários para o melhor entendimento dos métodos. "
   ]
  },
  {
   "cell_type": "markdown",
   "id": "470c57a5-f990-4559-a02b-2c5ee47fc3fa",
   "metadata": {},
   "source": [
    "## Importando as bibliotecas"
   ]
  },
  {
   "cell_type": "code",
   "execution_count": 1,
   "id": "768e4e10-8edd-4599-acef-8d5a21209bcf",
   "metadata": {},
   "outputs": [],
   "source": [
    "import numpy as np\n",
    "import matplotlib.pyplot as plt\n",
    "from math import exp, sin, cos, pi\n",
    "from numpy.fft import rfft, irfft"
   ]
  },
  {
   "cell_type": "markdown",
   "id": "d8b8edf6-4dfc-4551-af66-702daf7d9ba0",
   "metadata": {},
   "source": [
    "## Informações sobre as bibliotecas"
   ]
  },
  {
   "cell_type": "code",
   "execution_count": 2,
   "id": "ad49a513-2746-45e9-afc2-8524a62bf51a",
   "metadata": {},
   "outputs": [
    {
     "data": {
      "application/json": {
       "Software versions": [
        {
         "module": "Python",
         "version": "3.12.7 64bit [MSC v.1929 64 bit (AMD64)]"
        },
        {
         "module": "IPython",
         "version": "8.29.0"
        },
        {
         "module": "OS",
         "version": "Windows 11 10.0.22631 SP0"
        },
        {
         "module": "Matplotlib",
         "version": "3.9.2"
        },
        {
         "module": "Numpy",
         "version": "2.1.3"
        }
       ]
      },
      "text/html": [
       "<table><tr><th>Software</th><th>Version</th></tr><tr><td>Python</td><td>3.12.7 64bit [MSC v.1929 64 bit (AMD64)]</td></tr><tr><td>IPython</td><td>8.29.0</td></tr><tr><td>OS</td><td>Windows 11 10.0.22631 SP0</td></tr><tr><td>Matplotlib</td><td>3.9.2</td></tr><tr><td>Numpy</td><td>2.1.3</td></tr><tr><td colspan='2'>Wed Nov 27 22:24:16 2024 Hora oficial do Brasil</td></tr></table>"
      ],
      "text/latex": [
       "\\begin{tabular}{|l|l|}\\hline\n",
       "{\\bf Software} & {\\bf Version} \\\\ \\hline\\hline\n",
       "Python & 3.12.7 64bit [MSC v.1929 64 bit (AMD64)] \\\\ \\hline\n",
       "IPython & 8.29.0 \\\\ \\hline\n",
       "OS & Windows 11 10.0.22631 SP0 \\\\ \\hline\n",
       "Matplotlib & 3.9.2 \\\\ \\hline\n",
       "Numpy & 2.1.3 \\\\ \\hline\n",
       "\\hline \\multicolumn{2}{|l|}{Wed Nov 27 22:24:16 2024 Hora oficial do Brasil} \\\\ \\hline\n",
       "\\end{tabular}\n"
      ],
      "text/plain": [
       "Software versions\n",
       "Python 3.12.7 64bit [MSC v.1929 64 bit (AMD64)]\n",
       "IPython 8.29.0\n",
       "OS Windows 11 10.0.22631 SP0\n",
       "Matplotlib 3.9.2\n",
       "Numpy 2.1.3\n",
       "Wed Nov 27 22:24:16 2024 Hora oficial do Brasil"
      ]
     },
     "execution_count": 2,
     "metadata": {},
     "output_type": "execute_result"
    }
   ],
   "source": [
    "%load_ext version_information\n",
    "%version_information Matplotlib, Numpy"
   ]
  },
  {
   "cell_type": "markdown",
   "id": "359dfcc9-4605-4a42-bf93-d642ae3b7d06",
   "metadata": {},
   "source": [
    "## 1. Introdução"
   ]
  },
  {
   "cell_type": "markdown",
   "id": "d1ba6c5e-411a-4b6a-aa42-1714e5299386",
   "metadata": {},
   "source": [
    "$\\quad$ O estudo da Equação de Onda é de suma importância para a física, justamente pelo seu caracter geral no contexto de uma descrição física de fenômenos oscilatórios, governando tanto a propagação de uma onda mecânica (uma onda numa corda, por exemplo), quanto de uma onda eletromagnética. A Equação de Onda, demonstrado em [1], tem a seguinte forma: "
   ]
  },
  {
   "cell_type": "markdown",
   "id": "f8eda872-f36d-4479-812b-49262acd871b",
   "metadata": {},
   "source": [
    "$$ \\frac{\\partial^2 u(x,t)}{\\partial t^2} =  v^2 \\frac{\\partial^2 u(x,t)}{\\partial x^2}, \\tag{1.1}$$"
   ]
  },
  {
   "cell_type": "markdown",
   "id": "f83a81d2",
   "metadata": {},
   "source": [
    "onde $u(x,t)$ é a amplitude da oscilação numa dada posição $x$ e tempo $t$ e a constante $v$ é a velocidade segundo a qual uma pequena pertubação (onda) move-se ao longo da corda.  "
   ]
  },
  {
   "cell_type": "markdown",
   "id": "13da288e",
   "metadata": {},
   "source": [
    "$\\quad$ Encontrar uma solução para a Equação de Onda significa resolver uma Equação Diferencial Parcial, que nesse caso, equivalentemente, significa encontrar a uma função $u(x,t)$ no qual suas derivadas parciais segundas se relacionem da maneira expressa acima. "
   ]
  },
  {
   "cell_type": "markdown",
   "id": "fd78cbc8-9af4-4ecb-9094-297473520a87",
   "metadata": {},
   "source": [
    "## 2. Resolução Analítica "
   ]
  },
  {
   "cell_type": "markdown",
   "id": "7978de98",
   "metadata": {},
   "source": [
    "$\\quad$ Começaremos com a resolução analítica da Equação de Onda, utilizando o **Método de Separação das Variáveis**. "
   ]
  },
  {
   "cell_type": "markdown",
   "id": "b7968e76",
   "metadata": {},
   "source": [
    "$\\quad$ Para a resolução, iremos considerar o caso da **corda elástica com deslocamento inicial não nulo** apresentado em [1]. Nele, teremos uma corda com as extremidades fixas em $x=0$ e $x = L$ (ou seja, o valor de $u(x,t)$ é sempre igual a $0$ nessas extremidades). Assim:"
   ]
  },
  {
   "cell_type": "markdown",
   "id": "e3b193f1",
   "metadata": {},
   "source": [
    "$$u(0,t) = u(L,t) = 0. \\tag{1.2}$$"
   ]
  },
  {
   "cell_type": "markdown",
   "id": "f36d6ede",
   "metadata": {},
   "source": [
    "$\\quad$ As últimas considerações a serem feitas serão de que, em $t=0$ todos os pontos da corda não terão velocidade vertical e a posição inicial de cada ponto da corda será fornecida por uma dada função $f(x)$. Ou seja:"
   ]
  },
  {
   "cell_type": "markdown",
   "id": "db320849-51e2-4bf0-83f3-80dc8e80e9d0",
   "metadata": {},
   "source": [
    "$$u(x,0) = f(x) \\ \\text{ e } \\ \\frac{\\partial u(x,0)}{\\partial t} = 0 . \\tag{1.3}$$ "
   ]
  },
  {
   "cell_type": "markdown",
   "id": "3ba66ecb-86a3-4776-89be-7cb3cb08485f",
   "metadata": {},
   "source": [
    "$\\quad$ Como já discutido, o resultado da EDP apresentada é uma função $u(x,t)$, ou seja, uma função de duas variáveis independentes. No presente método, estaremos supondo que $u(x,t)$ pode ser escrita como a **multiplicação** de duas funções, uma dependendo só da variável $x$ e outra dependente apenas de $t$:"
   ]
  },
  {
   "cell_type": "markdown",
   "id": "17f8fa05-9aeb-4871-a1e1-b2d580dab680",
   "metadata": {},
   "source": [
    "$$u(x,t) = X(x)T(t). \\tag{1.4}$$"
   ]
  },
  {
   "cell_type": "markdown",
   "id": "439f7682-68a7-4d5a-b6b5-368b5655baf9",
   "metadata": {},
   "source": [
    "$\\quad$ Com essa condição imposta, obteremos os termos $\\frac{\\partial^2 u(x,t)}{\\partial x^2}$ e $\\frac{\\partial^2 u(x,t)}{\\partial t^2}$ e substituiremos em **(1.1)**. Para o termo espacial:"
   ]
  },
  {
   "cell_type": "markdown",
   "id": "4c97f8df-05d1-4cce-82fa-337010b4dfb7",
   "metadata": {},
   "source": [
    "$$\\frac{\\partial^2 u(x,t)}{\\partial t^2} = \\frac{\\partial^2 [X(x) T(t)]}{\\partial t^2}$$"
   ]
  },
  {
   "cell_type": "markdown",
   "id": "5f4b9c22-6166-45a1-bf0b-85b88f983d1f",
   "metadata": {},
   "source": [
    "$\\quad$ Mas, considerando que estamos derivando em relação ao tempo, teremos que $X(x)$ pode ser tratado como uma constante. Daí segue, já considerando que a função restante na derivada temporal será uma função unica e exclusivamente da variável $t$, a derivada parcial se tornará uma derivada total:"
   ]
  },
  {
   "cell_type": "markdown",
   "id": "8e562e02-fbdb-4853-a2fd-28ed87744d36",
   "metadata": {},
   "source": [
    "$$\\frac{\\partial^2 u(x,t)}{\\partial t^2} = X(x)\\frac{\\partial^2 T(t)}{\\partial t^2}  \n",
    "\\implies \\frac{\\partial^2 u(x,t)}{\\partial t^2} = X(x) T^{\\prime\\prime}(t) \\tag{1.5}$$"
   ]
  },
  {
   "cell_type": "markdown",
   "id": "52ceb727-2998-47b6-8468-0e98ec71c3e2",
   "metadata": {},
   "source": [
    "$\\quad$ Com um raciocíno análogo, obtemos o termo equivalente para a derivada espacial:"
   ]
  },
  {
   "cell_type": "markdown",
   "id": "cd8dd855-8a72-4bee-9741-65d19abb6e3f",
   "metadata": {},
   "source": [
    "$$\\frac{\\partial^2 u(x,t)}{\\partial x^2} = T(t) X^{\\prime \\prime}(x) \\tag{1.6}$$"
   ]
  },
  {
   "cell_type": "markdown",
   "id": "b3a47418-a96c-499b-b9b2-cf0cdb16f82f",
   "metadata": {},
   "source": [
    "$\\quad$ Utilizando **(1.5)** e **(1.6)** na Equação de Onda, obtém-se:"
   ]
  },
  {
   "cell_type": "markdown",
   "id": "7ea2b847-d4d8-42c6-b118-042f5985bc5f",
   "metadata": {},
   "source": [
    "$$ X(x) T^{\\prime\\prime}(t) = v^2 T(t) X^{\\prime \\prime}(x)$$"
   ]
  },
  {
   "cell_type": "markdown",
   "id": "027eae85-8747-49dc-b46a-142e0b9caf4a",
   "metadata": {},
   "source": [
    "$\\quad$ Agora é conviente organizar essa igualdade da seguinte forma:"
   ]
  },
  {
   "cell_type": "markdown",
   "id": "46e721e4-23f2-4033-8d5c-1ef08505220f",
   "metadata": {},
   "source": [
    "$$ \\frac{X^{\\prime\\prime}(x)}{X(x)} = \\frac{1}{v^2} \\frac{T^{\\prime\\prime}(t)}{T(t)}     $$"
   ]
  },
  {
   "cell_type": "markdown",
   "id": "f06b22db-649f-4a02-a537-3f88eb4be9c8",
   "metadata": {},
   "source": [
    "$\\quad$ Segue-se uma pequena análise da expressão obtida: de um lado temos uma função só de $x$, do outro uma função só de $t$. Contudo, como as funções estão intimamente ligadas por uma igualdade, tiramos que elas obrigatoriamente terão que ser iguais a uma dada constante. Para essa conclusão, basta pensarmos, por exemplo, que estamos variando o $x$ da expressão à esquerda. Porém, nada nos obriga a estar variando o $t$ ao mesmo tempo que variamos $x$ (já que as variáveis são independentes). Assim, mesmo que a variável $x$ esteja assumindo diferentes valores (fato que poderia estar alterando todo o termo $\\frac{X^{\\prime\\prime}(x)}{X(x)}$), o termo $\\frac{X^{\\prime\\prime}(x)}{X(x)}$ não pode estar variando, justamente porque $\\frac{1}{v^2} \\frac{T^{\\prime\\prime}(t)}{T(t)}$ estará constante."
   ]
  },
  {
   "cell_type": "markdown",
   "id": "b338f732-73ef-4456-968c-ec9a1c389f47",
   "metadata": {},
   "source": [
    "$\\quad$ Denominando a constante de $\\lambda$, obtemos a relação:"
   ]
  },
  {
   "cell_type": "markdown",
   "id": "f0f51232-256c-4c94-b5c1-21abc9493adc",
   "metadata": {},
   "source": [
    "$$ \\frac{X^{\\prime\\prime}(x)}{X(x)} = \\frac{1}{v^2} \\frac{T^{\\prime\\prime}(t)}{T(t)} = \\lambda   \\tag{1.7}$$"
   ]
  },
  {
   "cell_type": "markdown",
   "id": "92095f86-ba78-458f-a1ad-bbae248ba4e9",
   "metadata": {},
   "source": [
    "$\\quad$ Iremos analisar o termo espacial e o temporal separadamente. "
   ]
  },
  {
   "cell_type": "markdown",
   "id": "5cce8704-f0d8-4c34-ab49-39a585c89011",
   "metadata": {},
   "source": [
    "- Para o termo espacial:"
   ]
  },
  {
   "cell_type": "markdown",
   "id": "a3ea53ef-d4f9-4e14-993b-322244c440e2",
   "metadata": {},
   "source": [
    "$$ \\frac{X^{\\prime\\prime}(x)}{X(x)} = \\lambda \\ \\implies  \\ X^{\\prime\\prime}(x) = \\lambda X(x)$$ "
   ]
  },
  {
   "cell_type": "markdown",
   "id": "df36bcc3-1629-407e-b314-a6720397dc41",
   "metadata": {},
   "source": [
    "$\\quad$ Onde obtemos simplemsente a EDO (Equação Diferencial Ordinária):"
   ]
  },
  {
   "cell_type": "markdown",
   "id": "17897673-ffa4-407d-9595-3efae05570b3",
   "metadata": {},
   "source": [
    "$$ X^{\\prime\\prime}(x) - \\lambda X(x) = 0, $$ "
   ]
  },
  {
   "cell_type": "markdown",
   "id": "c16dca91-b04a-4b51-8aa0-7a484d868ac1",
   "metadata": {},
   "source": [
    "$\\quad$ que pode ser resolvida obtendo-se a equação característica e determinando a solução geral. A raiz da equação característica será:"
   ]
  },
  {
   "cell_type": "markdown",
   "id": "d9e3b3d3-ba5e-44d1-96e7-4417b8f604e9",
   "metadata": {},
   "source": [
    "$$ r^2 - \\lambda = 0 \\implies r = \\pm \\sqrt{\\lambda}. $$"
   ]
  },
  {
   "cell_type": "markdown",
   "id": "0666dd1b",
   "metadata": {},
   "source": [
    "$\\quad$ Na expressão acima tem-se 3 possíveis casos para constante: $\\lambda = 0$, $\\lambda > 0$ e $\\lambda <0$. Contudo, como argumentado em **[1]**, as soluções obtidas quando consideramos os dois primeiros casos não safistazem a condição de contorno. Por isso, o terceiro caso prevalece e $\\lambda$ será necessariamente uma constante negativa.  "
   ]
  },
  {
   "cell_type": "markdown",
   "id": "4383b06f-67b6-4c70-9082-504174a72aab",
   "metadata": {},
   "source": [
    "$\\quad$ Com isso em mente, para facilitar os desenvolvimentos seguintes, explecitaremos o sinal negativo de $\\lambda$ em **(1.7)**:"
   ]
  },
  {
   "cell_type": "markdown",
   "id": "b71086c8-a9d4-48df-bf26-7132a95fa71d",
   "metadata": {},
   "source": [
    "$$ \\frac{X^{\\prime\\prime}(x)}{X(x)} = \\frac{1}{v^2} \\frac{T^{\\prime\\prime}(t)}{T(t)} = -\\lambda,   \\tag{1.8}$$"
   ]
  },
  {
   "cell_type": "markdown",
   "id": "1d9f9343-5671-43ce-851f-9af3a4a2fff5",
   "metadata": {},
   "source": [
    "onde $\\lambda$ essencialmente se torna um valor positivo, já que explicitamos o sinal negativo na igualdade. Repetindo a análise da equação característica para o termo espacial, mas agora considerando **(1.7)**, obtém-se:"
   ]
  },
  {
   "cell_type": "markdown",
   "id": "f36173d1-097e-408d-baa6-d0b257763848",
   "metadata": {},
   "source": [
    "$$r = \\pm \\sqrt{-\\lambda} = \\pm \\sqrt{-1} \\sqrt{\\lambda} \\ \\therefore \\ r = \\pm i\\sqrt{\\lambda} .$$"
   ]
  },
  {
   "cell_type": "markdown",
   "id": "20a075fd-821c-468a-9c1c-aa2ca0dbf154",
   "metadata": {},
   "source": [
    "$\\quad$ Como também demonstrado em **[1]**, a solução geral para uma EDO de segunda ordem homogênea com raiz complexa $\\alpha \\pm \\beta i$ é: "
   ]
  },
  {
   "cell_type": "markdown",
   "id": "ccc253ba-42b8-4856-b509-7bcbf6e45fb0",
   "metadata": {},
   "source": [
    "$$ X(x) = e^{\\alpha}(A\\cos{\\beta x} + B\\sin{\\beta x}),$$"
   ]
  },
  {
   "cell_type": "markdown",
   "id": "c74a2d02-1422-4ad5-9214-ece3c610bf25",
   "metadata": {},
   "source": [
    "onde $A$ e $B$ são constantes. Então, como no nosso caso $\\alpha = 0$ e $\\beta = \\sqrt{\\lambda}$, a solução geral se torna:"
   ]
  },
  {
   "cell_type": "markdown",
   "id": "3c6ebb4d-53f1-4603-bf86-902eca284586",
   "metadata": {},
   "source": [
    "$$ X(x) = A\\cos{\\sqrt{\\lambda}x} + B\\sin{\\sqrt{\\lambda} x}. \\tag{1.9}$$"
   ]
  },
  {
   "cell_type": "markdown",
   "id": "138ac620-981e-4d39-ac75-0c62afc29649",
   "metadata": {},
   "source": [
    "$\\quad$ Analisaremos a função $X(x)$ obtida em relação às condições iniciais. Considerando primeiro a condição exposta em **(1.2)**, tem-se que $u(0,t) = X(0)\\cdot T(t) = 0$, onde se obtém que $X(0) = 0$ (para evitar a solução trivial onde $T(t) = 0$ para todo $t$). Então, aplicando essa condição em **(1.8)**:"
   ]
  },
  {
   "cell_type": "markdown",
   "id": "3325952b-06dd-4c2a-a1a2-e81dd44c67ee",
   "metadata": {},
   "source": [
    "$$X(0) = A\\cos{\\sqrt{\\lambda} 0} + B\\sin{\\sqrt{\\lambda} 0} = A = 0,$$"
   ]
  },
  {
   "cell_type": "markdown",
   "id": "97d7723c-2d99-4352-9d3e-c175e43620de",
   "metadata": {},
   "source": [
    "reduzindo **(1.8)** à: "
   ]
  },
  {
   "cell_type": "markdown",
   "id": "554e08c8-09b2-44b0-8a82-92710d9ed1bd",
   "metadata": {},
   "source": [
    "$$ X(x) = B\\sin{\\sqrt{\\lambda} x}. \\tag{1.10}$$"
   ]
  },
  {
   "cell_type": "markdown",
   "id": "e79aea6f-0372-4da3-ac0f-7fe8a0730696",
   "metadata": {},
   "source": [
    "Aplicando a segunda condição de **(1.2)**, onde $u(L,t) = X(L)\\cdot T(t) = 0$, tiramos que $X(L) = 0$, novamente para evitar uma solução trivial onde $T(t) = 0$ para todo $t$. Assim:"
   ]
  },
  {
   "cell_type": "markdown",
   "id": "050e6a3a-d9ae-4a5b-a4ec-d52411de4526",
   "metadata": {},
   "source": [
    "$$ X(L) = B\\sin{(\\sqrt{\\lambda}L)} = 0.$$"
   ]
  },
  {
   "cell_type": "markdown",
   "id": "472fac27-3ee6-4eec-8d05-cb5ee3a8c007",
   "metadata": {},
   "source": [
    " Se a constante $B$ for igual a zero também, caímos na solução trivial para $X(x)$. Então teremos que o termo do seno será igual a zero:"
   ]
  },
  {
   "cell_type": "markdown",
   "id": "30c41c73-fa45-40f8-acb6-9e07ccb9f666",
   "metadata": {},
   "source": [
    "$$ \\sin{\\sqrt{\\lambda}L} = 0.$$"
   ]
  },
  {
   "cell_type": "markdown",
   "id": "8f3a0eff-98fa-4a51-80f1-3bf45187c9ea",
   "metadata": {},
   "source": [
    "Para essa relação ser satisfeita, tem-se uma limitação para o valor de $\\lambda$, onde ele tem que ser tal que respeite: "
   ]
  },
  {
   "cell_type": "markdown",
   "id": "2a0a4d9d-ad2c-4d80-8f0c-89264be806ef",
   "metadata": {},
   "source": [
    "$$ \\sqrt{\\lambda} L = n\\pi, \\ \\text{onde } n \\in \\mathbb{N}.$$"
   ]
  },
  {
   "cell_type": "markdown",
   "id": "0935ec7a-79ba-4763-95e6-7baab371ce8d",
   "metadata": {},
   "source": [
    "Ou seja: "
   ]
  },
  {
   "cell_type": "markdown",
   "id": "fca655f1-545c-4ab2-8318-901b7edfd1b1",
   "metadata": {},
   "source": [
    "$$ \\sqrt{\\lambda}= \\frac{n\\pi}{L}. \\tag{1.11}$$"
   ]
  },
  {
   "cell_type": "markdown",
   "id": "c0c67c32-7bd6-48a5-b78d-3625e4c50c0a",
   "metadata": {},
   "source": [
    "$\\quad$ Substituindo o valor $\\lambda$ exposto em **(1.10)** na equação **(1.9)**, chega-se na solução para o termo espacial:"
   ]
  },
  {
   "cell_type": "markdown",
   "id": "1fa0a136-febf-4e87-a08c-cfd2e72de797",
   "metadata": {},
   "source": [
    "$$ X_n(x) = B_n\\sin{(\\frac{n\\pi}{L}x)}, \\tag{1.12}$$"
   ]
  },
  {
   "cell_type": "markdown",
   "id": "38519b97-b2a1-4d34-a761-d8758e1d7a28",
   "metadata": {},
   "source": [
    "onde o infixo $n$ foi inserido para destacar que temos uma família de soluções aqui, onde cada $n$ determina uma solução particular diferente. "
   ]
  },
  {
   "cell_type": "markdown",
   "id": "cdd6ad3e-27ad-4d71-9cb4-99d1e9864140",
   "metadata": {},
   "source": [
    "- Para o termo temporal:"
   ]
  },
  {
   "cell_type": "markdown",
   "id": "46d0767a-69c1-4db3-9d2b-fb53604c3b2a",
   "metadata": {},
   "source": [
    "$\\quad$ A equação **(1.8)** nos fornece a EDO:"
   ]
  },
  {
   "cell_type": "markdown",
   "id": "707ef39e-110e-4f86-a92d-d8cdef6ab520",
   "metadata": {},
   "source": [
    "$$T^{\\prime\\prime}(t)+v^2\\lambda T(t) = 0,$$"
   ]
  },
  {
   "cell_type": "markdown",
   "id": "c61e7316-ed78-4662-be64-2bf1033c604c",
   "metadata": {},
   "source": [
    "de onde tiramos a equação característica:"
   ]
  },
  {
   "cell_type": "markdown",
   "id": "83c07b18-8193-4c6c-b36f-18923e326fe0",
   "metadata": {},
   "source": [
    "$$ r^2 + v^2\\lambda = 0 \\implies r = \\pm \\sqrt{-v^2 \\lambda} = \\pm v\\sqrt{-\\lambda} \\ \\therefore \\ r = \\pm iv\\sqrt{\\lambda}.$$"
   ]
  },
  {
   "cell_type": "markdown",
   "id": "84ab7e46-448d-4c61-9509-e5f438673ee3",
   "metadata": {},
   "source": [
    "$\\quad$ Novamente aplicando a solução geral $T(t) = e^{\\alpha}(A\\cos{\\beta t} + B\\sin{\\beta t})$ para uma equação característica com raíz complexa, com $\\alpha = 0$ e $\\beta = v\\sqrt{\\lambda}$ e denominando as constante por $A = K_1$ e $B = K_2$:"
   ]
  },
  {
   "cell_type": "markdown",
   "id": "279eeac7-ac3d-42d1-811b-90ad25d207a2",
   "metadata": {},
   "source": [
    "$$ T(t) = K_1\\cos{(v \\sqrt{\\lambda} t)} + K_2\\sin{(v \\sqrt{\\lambda} t)}. \\tag{1.13}$$"
   ]
  },
  {
   "cell_type": "markdown",
   "id": "d88d2e91-9a3f-4eb8-8e5c-55788fb97577",
   "metadata": {},
   "source": [
    "$\\quad$ Aplicando a segunda condição inicial exposta em **(1.3)**:"
   ]
  },
  {
   "cell_type": "markdown",
   "id": "2d5b26bb-c854-490e-a0b8-9847481c0b4d",
   "metadata": {},
   "source": [
    "$$\\frac{\\partial u(x,0)}{\\partial t} = \\frac{\\partial [X(x)\\cdot T(0)]}{\\partial t} = X(x)\\frac{d T(0)}{dt} = 0,$$"
   ]
  },
  {
   "cell_type": "markdown",
   "id": "34c4b33a-c420-4dc1-822d-02806504f0ef",
   "metadata": {},
   "source": [
    "onde, novamente para evitar a solução trivial, teremos que:"
   ]
  },
  {
   "cell_type": "markdown",
   "id": "c801e52a-214a-4897-a5bd-2ea02ac9779c",
   "metadata": {},
   "source": [
    "$$ \\frac{d T(0)}{dt} = 0.$$"
   ]
  },
  {
   "cell_type": "markdown",
   "id": "958a0c86-1237-4815-9463-bfe1f8b226c3",
   "metadata": {},
   "source": [
    "Aplicando essa condição à expressão $\\frac{d T(t)}{dt} = \\frac{d}{dt}(K_1\\cos{(v \\sqrt{\\lambda} t)} + K_2\\sin{(v \\sqrt{\\lambda} t)}) = -v\\sqrt{\\lambda}K_1\\sin{(v \\sqrt{\\lambda} t)} + v\\sqrt{\\lambda}K_2\\cos{(v \\sqrt{\\lambda} t)} $ obtida, teremos:"
   ]
  },
  {
   "cell_type": "markdown",
   "id": "0508c7e1-ed36-4f6e-8509-6693fe2315e0",
   "metadata": {},
   "source": [
    "$$ \\frac{d T(0)}{dt} = -v\\sqrt{\\lambda}K_1\\sin{(v \\sqrt{\\lambda} 0)} + v\\sqrt{\\lambda}K_2\\cos{(v \\sqrt{\\lambda} 0)} = 0 \\implies v\\sqrt{\\lambda}K_2 = 0 \\implies K_2 = 0.$$"
   ]
  },
  {
   "cell_type": "markdown",
   "id": "dc566a08-6079-4878-b903-238b69e8907b",
   "metadata": {},
   "source": [
    "$\\quad$ Assim, a solução **(1.13)** se reduz à:"
   ]
  },
  {
   "cell_type": "markdown",
   "id": "8ed4e314-468a-43de-8076-b0d58afe7347",
   "metadata": {},
   "source": [
    "$$ T(t) = K_1\\cos{(v\\sqrt{\\lambda}t)}.$$"
   ]
  },
  {
   "cell_type": "markdown",
   "id": "7ca4d033-6e21-4c31-8c76-edfc91441ac1",
   "metadata": {},
   "source": [
    "$\\quad$ Contudo, $\\sqrt{\\lambda}$ já tem um valor determinado, exibido em **(1.11)**. Substituindo-o:"
   ]
  },
  {
   "cell_type": "markdown",
   "id": "9127090e-0ef4-4224-87b6-aa38f269ecc0",
   "metadata": {},
   "source": [
    "$$ T_n(t) = K_1\\cos{(v\\frac{n\\pi}{L}t)}. \\tag{1.14}$$"
   ]
  },
  {
   "cell_type": "markdown",
   "id": "94f13681-3ab1-4f34-a857-92a5bd5b554f",
   "metadata": {},
   "source": [
    "$\\quad$ Por fim, justando o resultado obtido em **(1.12)** e em **(1.14)** e substituindo em **(1.4)**:"
   ]
  },
  {
   "cell_type": "markdown",
   "id": "612ba27b-f222-44dc-b2de-bca756ecdd25",
   "metadata": {},
   "source": [
    "$$u_n(x,t) = B_n\\sin{(\\frac{n\\pi}{L}x)} K_n\\cos{(v\\frac{n\\pi}{L}t)}. \\tag{1.15}$$"
   ]
  },
  {
   "cell_type": "markdown",
   "id": "d73ca6a7-4bf9-468c-9abc-d91073f2246d",
   "metadata": {},
   "source": [
    "Para cada $n$ na expressão teremos uma solução particular. Contudo, para satisfazer qualquer condição inicial, teremos que considerar uma superposição dessas soluções fundamentais. Assim, determina-se a seguinte forma para $u(x,t)$:"
   ]
  },
  {
   "cell_type": "markdown",
   "id": "bc7b3b3f-bbae-434e-9361-863c05f3db1b",
   "metadata": {},
   "source": [
    "$$ u(x,t) = \\sum_{i=1}^{\\infty} B_n\\sin{\\left(\\frac{n\\pi}{L}x\\right)}K_n\\cos{\\left(v\\frac{n\\pi}{L}t\\right)}. \\tag{1.16}$$"
   ]
  },
  {
   "cell_type": "markdown",
   "id": "bc1b641e-b4fc-4843-b6ef-1699c8cf5913",
   "metadata": {},
   "source": [
    "$\\quad$ Como $B_n$ multiplicado com $K_n$ resulta numa outra constante, faremos a substituição $C_n = B_nK_n$:"
   ]
  },
  {
   "cell_type": "markdown",
   "id": "bb79fb58-3534-417d-8322-f2800d5a75d0",
   "metadata": {},
   "source": [
    "$$ \\boxed{u(x,t) = \\sum_{i=1}^{\\infty} C_n\\sin{(\\frac{n\\pi}{L}x)}\\cos{(v\\frac{n\\pi}{L}t)}. \\tag{1.17}}$$"
   ]
  },
  {
   "cell_type": "markdown",
   "id": "183129de-9d7f-4978-821c-47c5ba28867b",
   "metadata": {},
   "source": [
    "$\\quad$ Obtida essa solução, vamos aplicar a condição inicial $u(x,0) = f(x)$: "
   ]
  },
  {
   "cell_type": "markdown",
   "id": "d447bc0b-3d0e-4f81-8796-63b2001a82f8",
   "metadata": {},
   "source": [
    "$$ u(x,0) = \\sum_{i=1}^{\\infty} C_n\\sin{\\left(\\frac{n\\pi}{L}x\\right)}\\cos{\\left(\\frac{n\\pi}{L}0\\right)} = \\sum_{i=1}^{\\infty} C_n\\sin{\\left(\\frac{n\\pi}{L}x\\right)} = f(x).$$"
   ]
  },
  {
   "cell_type": "markdown",
   "id": "079b81b8-caff-41e4-bdef-137999e708d9",
   "metadata": {},
   "source": [
    "Onde a igualdade $f(x) = \\sum_{i=1}^{\\infty} C_n\\sin{\\left(\\frac{n\\pi}{L}x\\right)}$ nos dá a informação de que os $C_n$ são os coeficientes de Fourier da função $f(x)$ expandida em senos."
   ]
  },
  {
   "cell_type": "markdown",
   "id": "ce428f76",
   "metadata": {},
   "source": [
    "$\\quad$ Com isso já podemos partir para uma implementação dessa solução. Usaremos a seguinte função $f(x)$ como condição inicial (tanto agora quanto na parte do método numérico): "
   ]
  },
  {
   "cell_type": "markdown",
   "id": "3dc1494a",
   "metadata": {},
   "source": [
    "$$ f(x) = \n",
    "\\begin{cases} \n",
    "    x, & \\text{se } 0 \\leq x < \\frac{L}{2} \\\\\n",
    "    L-x, & \\text{se } \\frac{L}{2} \\leq x < L \n",
    "\\end{cases}\n",
    "\\tag{1.18}$$"
   ]
  },
  {
   "cell_type": "markdown",
   "id": "2b22f7bc",
   "metadata": {},
   "source": [
    "onde usaremos $L = 1m$. À primeira vista parece uma condição inicial estranha, mas ela nos retorna simplesmente um bico, com o seu valor máximo em $x = \\frac{L}{2}$. Isso ficará mais visualmente apresentável logo mais."
   ]
  },
  {
   "cell_type": "markdown",
   "id": "6b6488fc",
   "metadata": {},
   "source": [
    "$\\quad$ Definindo a função $f(x)$ no código:"
   ]
  },
  {
   "cell_type": "code",
   "execution_count": 3,
   "id": "276a2a0b",
   "metadata": {},
   "outputs": [],
   "source": [
    "def f(x, L):\n",
    "    if x>=0 and x<(L/2):\n",
    "        return x\n",
    "    if x>=(L/2) and x<=L:\n",
    "        return L-x"
   ]
  },
  {
   "cell_type": "markdown",
   "id": "67564536",
   "metadata": {},
   "source": [
    "$\\quad$ Definida a função, os coeficientes $C_n$ já podem ser determiados (utilizados na solução)."
   ]
  },
  {
   "cell_type": "markdown",
   "id": "a3740cf8",
   "metadata": {},
   "source": [
    "$\\quad$ Já considerando que $f(x)$ extendida de $x = -L$ até $x = L$ será uma função ímpar (já que queremos a sua expansão em senos), os coecificentes serão obtedos pela seguinte integral **[1]**: "
   ]
  },
  {
   "cell_type": "markdown",
   "id": "33f08dc6",
   "metadata": {},
   "source": [
    "$$ C_n = \\frac{2}{L} \\int_{0}^{L} f(x)\\sin{\\left(\\frac{n\\pi x}{L}\\right)} \\, dx.$$"
   ]
  },
  {
   "cell_type": "markdown",
   "id": "5ce7d7a4-ae50-4600-b249-98609f0c4b38",
   "metadata": {},
   "source": [
    "$\\quad$ Visto que o desenvolvimento dos coeficientes $C_n$ é consideravalmente longo, ele será omitido do corpo principal desse trabalho. Sua dedução está detalhadamente exibida no *Apêndice A*. O resultado lá exibido é:"
   ]
  },
  {
   "cell_type": "markdown",
   "id": "7d891ab4-f193-4c5c-aa46-8bb586d355d0",
   "metadata": {},
   "source": [
    "$$ C_n  = \n",
    "\\begin{cases} \n",
    "    \\frac{4}{n^2\\pi^2} (-1)^{\\frac{n-1}{2}}, & \\text{se n for ímpar} \\\\\n",
    "    0, & \\text{se n for par}  \n",
    "\\end{cases}$$"
   ]
  },
  {
   "cell_type": "markdown",
   "id": "45539180",
   "metadata": {},
   "source": [
    "$\\quad$ Já implementando esse resultado:"
   ]
  },
  {
   "cell_type": "code",
   "execution_count": 4,
   "id": "84852c8a",
   "metadata": {},
   "outputs": [],
   "source": [
    "def C(n):\n",
    "    if n%2 == 0:\n",
    "        return 0\n",
    "    else:\n",
    "        return (4/(n**2*pi**2))*(-1)**((n-1)/2)"
   ]
  },
  {
   "cell_type": "markdown",
   "id": "b9359a5a",
   "metadata": {},
   "source": [
    "$\\quad$ Terminando com a consideração de que $v = 4 m/s$, já temos tudo necessário para desenvolver o código de aplicação."
   ]
  },
  {
   "cell_type": "markdown",
   "id": "32893731",
   "metadata": {},
   "source": [
    "$\\quad$ Primeiro determinando algumas variáveis importantes para o desenrolar do código, junto com a visualização da condição inicial:"
   ]
  },
  {
   "cell_type": "code",
   "execution_count": 5,
   "id": "b724c7a4",
   "metadata": {},
   "outputs": [
    {
     "data": {
      "image/png": "[encoded data removed]",
      "text/plain": [
       "<Figure size 640x480 with 1 Axes>"
      ]
     },
     "metadata": {},
     "output_type": "display_data"
    }
   ],
   "source": [
    "a = 0 # Extremidade à esquerda.\n",
    "L = 1 # Extremidade à direita .\n",
    "N = 201 # Número de repartições do intervalo.\n",
    "v = 4 # Parametro (velocidade) da equação de onda.\n",
    "dx = (L-a)/N # Espaçamendo do grid espacial.\n",
    "xs = np.arange(a,L,dx) # Grid espacial.\n",
    "ys = np.zeros(N, float) # Array para armazenar a condição inicial.\n",
    "for i in range(N):\n",
    "    ys[i] = f(xs[i],L)\n",
    "\n",
    "plt.plot(xs,ys, label = \"$u(x,0)$\")\n",
    "plt.xlabel(\"Grid espacial (m)\")\n",
    "plt.ylabel(\"Deslocamento da onda (m)\")\n",
    "plt.grid()\n",
    "plt.legend()\n",
    "plt.title(\"Condição inicial f(x)\")\n",
    "plt.show()"
   ]
  },
  {
   "cell_type": "markdown",
   "id": "8d358e9f",
   "metadata": {},
   "source": [
    "$\\quad$ Como obviamente é impossível obter todos os infinitos coeficientes $C_n$, truncaremos o seu valor para um dado valor máximo. Assim:"
   ]
  },
  {
   "cell_type": "code",
   "execution_count": 6,
   "id": "adac5a62",
   "metadata": {},
   "outputs": [],
   "source": [
    "Max = 100 # O valor máximo de coeficientes Cn que usaremos.\n",
    "Cn = np.zeros(Max, float)\n",
    "for n in range(1,Max):\n",
    "    Cn[n] = C(n)"
   ]
  },
  {
   "cell_type": "markdown",
   "id": "422bf65c",
   "metadata": {},
   "source": [
    "$\\quad$ O restante do código é dedicado à aplicação da solução exposta em **(1.17)**, junto com sua visualização através de gráficos."
   ]
  },
  {
   "cell_type": "code",
   "execution_count": 7,
   "id": "94edbfd1-2dca-4d2b-b3ec-2ce59fdd892d",
   "metadata": {},
   "outputs": [
    {
     "data": {
      "image/png": "[encoded data removed]",
      "text/plain": [
       "<Figure size 640x480 with 1 Axes>"
      ]
     },
     "metadata": {},
     "output_type": "display_data"
    }
   ],
   "source": [
    "tempos = [0.0625, 0.125, 0.1875, 0.25, 0.5] # Array com os instantes de tempo em que analisaremos a onda.\n",
    "\n",
    "u_x_t_fourier = [] # Lista para salvar a solução u(x,t) em cada t usando o método analítico.\n",
    "\n",
    "for t in tempos:\n",
    "    u_x_t = np.arange(a,L,dx) # Cria um array vazio equivalente à grade espacial.\n",
    "    for i in range(N): # Percorre todo o grid espacial no dado tempo t iniciado no for anterior.\n",
    "        aux = 0\n",
    "        for n in range(Max): # Para cada ponto do grid espacial, executa um somatório com todos os coeficientes Cn, que convirgirá para o valor da oscilação da naquele dado ponto.\n",
    "            aux+= Cn[n]*sin(n*pi*(i*dx)/L)*cos(v*n*pi*t/L)\n",
    "        u_x_t[i] = aux\n",
    "        \n",
    "    u_x_t_fourier.append(u_x_t) # Adiciona a solução u(x,t) no dado tempo t à lista anteriormente criada.\n",
    "    \n",
    "    plt.plot(xs,u_x_t, label = f'u(x,t) para t = {t}s') # Plota a solução u(x,t) no tempo em questão.\n",
    "    \n",
    "u_x_t_fourier = np.array(u_x_t_fourier) # Apenas para transformar a lista num array.\n",
    "\n",
    "plt.xlabel(\"Grid espacial (m)\")\n",
    "plt.ylabel(\"Deslocamento da onda (m)\")\n",
    "plt.title(\"Solução $u(x,t)$ para alguns valores de $t$ (Método Analítico)\")\n",
    "plt.grid()\n",
    "plt.legend()\n",
    "plt.show()"
   ]
  },
  {
   "cell_type": "markdown",
   "id": "e7d47558",
   "metadata": {},
   "source": [
    "## COLOCAR OS PLOTS DE TEMPO UM DO LADO DO OUTRO"
   ]
  },
  {
   "cell_type": "markdown",
   "id": "1d62b8b5",
   "metadata": {},
   "source": [
    "$\\quad$ No figura exibida, é possível perceber, em $t=0.5s$, o valor de $u(x,t)$ é igual à condição inicial, ou seja, nesse tempo já foi percorrido uma oscilação completa. Como as imagem são exatamente iguais, tem-se a interpretação física de que a onda não está perdendo energia ao decorrer da sua oscilação. Assim, a sua amplitude de oscilação máxima será constante. "
   ]
  },
  {
   "cell_type": "markdown",
   "id": "f469a878",
   "metadata": {},
   "source": [
    "$\\quad$ Um fato interessante, porém trivial, para se notar é que, apesar da corda só estar definida para $x$ entre $0 \\ m$ e $L = 1.0 \\ m$, a solução, por ser baseada no ferramental das Série de Fourier, acaba sendo definida em todo o intervalo real, sobre a forma de uma função ímpar com comprimento de onda igual a $2L$. Tiraremos um pequenos vislumbre dessa propriedade da solução, plotando a solução no intervalo $[-3,3]$:"
   ]
  },
  {
   "cell_type": "code",
   "execution_count": 8,
   "id": "4dcba10c",
   "metadata": {},
   "outputs": [
    {
     "ename": "NameError",
     "evalue": "name 'xs3' is not defined",
     "output_type": "error",
     "traceback": [
      "\u001b[1;31m---------------------------------------------------------------------------\u001b[0m",
      "\u001b[1;31mNameError\u001b[0m                                 Traceback (most recent call last)",
      "Cell \u001b[1;32mIn[8], line 5\u001b[0m\n\u001b[0;32m      2\u001b[0m xs_ \u001b[38;5;241m=\u001b[39m np\u001b[38;5;241m.\u001b[39marange(\u001b[38;5;241m-\u001b[39m\u001b[38;5;241m3\u001b[39m,\u001b[38;5;241m3\u001b[39m,dx) \u001b[38;5;66;03m# Grid espacial, dessa vez definido entre [-3,3], e não apenas entre [0,1].\u001b[39;00m\n\u001b[0;32m      3\u001b[0m u_x_t \u001b[38;5;241m=\u001b[39m np\u001b[38;5;241m.\u001b[39mzeros(\u001b[38;5;28mlen\u001b[39m(xs_), \u001b[38;5;28mfloat\u001b[39m) \u001b[38;5;66;03m# Array para armazenar o valor da função\u001b[39;00m\n\u001b[1;32m----> 5\u001b[0m \u001b[38;5;28;01mfor\u001b[39;00m i \u001b[38;5;129;01min\u001b[39;00m \u001b[38;5;28mrange\u001b[39m(\u001b[38;5;28mlen\u001b[39m(\u001b[43mxs3\u001b[49m)):\n\u001b[0;32m      6\u001b[0m     aux \u001b[38;5;241m=\u001b[39m \u001b[38;5;241m0\u001b[39m\n\u001b[0;32m      7\u001b[0m     \u001b[38;5;28;01mfor\u001b[39;00m n \u001b[38;5;129;01min\u001b[39;00m \u001b[38;5;28mrange\u001b[39m(Max):\n",
      "\u001b[1;31mNameError\u001b[0m: name 'xs3' is not defined"
     ]
    }
   ],
   "source": [
    "# Para t = 0:\n",
    "xs_ = np.arange(-3,3,dx) # Grid espacial, dessa vez definido entre [-3,3], e não apenas entre [0,1].\n",
    "u_x_t = np.zeros(len(xs_), float) # Array para armazenar o valor da função\n",
    "\n",
    "for i in range(len(xs3)):\n",
    "    aux = 0\n",
    "    for n in range(Max):\n",
    "        aux+= Cn[n]*sin(n*pi*(xs3[i])/L)*cos(v*n*pi*0/L)\n",
    "    u_x_t[i] = aux\n",
    "        \n",
    "\n",
    "\n",
    "\n",
    "plt.plot(xs3,u_x_t)\n",
    "plt.xlabel(\"Grid espacial (m)\")\n",
    "plt.ylabel(\"Deslocamento da onda (m)\")\n",
    "plt.title(\"Solução $u(x,0)$ no intervalo [-3,3]\")\n",
    "plt.grid()\n",
    "plt.legend()\n",
    "plt.show()\n"
   ]
  },
  {
   "cell_type": "markdown",
   "id": "e913ed0b",
   "metadata": {},
   "source": [
    "$\\quad$ No gráfico acima é notável que ocorre uma oscilação completa da onda ao percorrer $2m$ (o que equivale a $2L$), e que isso se extende para todo o intervalo real."
   ]
  },
  {
   "cell_type": "markdown",
   "id": "c062ae8f-de70-4a95-b385-f21124c8313b",
   "metadata": {},
   "source": [
    "## 3. Resolução Numérica"
   ]
  },
  {
   "cell_type": "markdown",
   "id": "225478f9-5d4e-43f4-b99a-25bb429105bf",
   "metadata": {},
   "source": [
    "$\\quad$ Considere novamente uma onda numa corda de comprimento $L$, com as extremidades fixadas tal que $u(x,t) = 0$ em $x=0$ e $x=L$. Para o desenvovimento do denominado **Método Espectral**, assim como exposto em **[2]**, consideraremos a seguinte solução trivial para a Equação de Onda:"
   ]
  },
  {
   "cell_type": "markdown",
   "id": "bd9f3a49-21dc-4f98-8002-befae4571c56",
   "metadata": {},
   "source": [
    "$$ u_k(x,t) = \\sin{\\left(\\frac{\\pi kx}{L}\\right)}e^{i\\omega t}. \\tag{2.1}$$"
   ]
  },
  {
   "cell_type": "markdown",
   "id": "d79275e4",
   "metadata": {},
   "source": [
    "Assimindo que $u$ deve ser sempre real, nós deveríamos pegar a parte real da solução, mas, será mais conviente usar a forma complexa e pegar a parte real apenas no final do desenvolvimento do método. Também é natural o desenvolvimento para confirmar que a expressão respeita a Equação de Onda **[2]**, com a condição de que: "
   ]
  },
  {
   "cell_type": "markdown",
   "id": "7fb252fa-6983-4485-a394-3f024cba6160",
   "metadata": {},
   "source": [
    "$\\quad$ Também é natural o desenvolvimento para confirmar que a expressão respeita a Equação de Onda **[2]**, desde que:"
   ]
  },
  {
   "cell_type": "markdown",
   "id": "dd845148-0a8e-4e93-b0ad-2ca7e1a3a24b",
   "metadata": {},
   "source": [
    "$$ \\omega = \\frac{\\pi vk}{L}. \\tag{2.2}$$"
   ]
  },
  {
   "cell_type": "markdown",
   "id": "d26281d5-3beb-4cbf-a715-595495f2e2cb",
   "metadata": {},
   "source": [
    "$\\quad$ Agora discretizaremos o domínio espacial, dividindo a corda em $N$ intervalores iguais, com $N+1$ pontos. A expressão para o enésimo ponto do grid será dada por:"
   ]
  },
  {
   "cell_type": "markdown",
   "id": "d50f81d5-c554-4f9f-b2d6-fdec5a4fed11",
   "metadata": {},
   "source": [
    "$$ x_n = \\frac{n}{N}L. \\tag{2.3}$$"
   ]
  },
  {
   "cell_type": "markdown",
   "id": "16cd6fcf-adcc-4114-9d26-2df927e5f96d",
   "metadata": {},
   "source": [
    "$\\quad$ Ao substituir **(2.2)** e **(2.3)** na expressão da solução trivial, obteremos:"
   ]
  },
  {
   "cell_type": "markdown",
   "id": "a3e23b8b-347e-4b6e-99d6-bcb43f6c8c23",
   "metadata": {},
   "source": [
    "$$u_k(x_n,t) = \\sin{\\left(\\frac{\\pi k}{L}x_n\\right)}exp{\\left(i\\frac{\\pi vk}{L}t\\right)}.$$"
   ]
  },
  {
   "cell_type": "markdown",
   "id": "041b9146-7ce9-4ed3-8877-f503d938fe59",
   "metadata": {},
   "source": [
    "$$ \\implies u_k(x_n,t) = \\sin{\\left(\\frac{\\pi k}{L}\\frac{nL}{N}\\right)}exp{\\left(i\\frac{\\pi vkt}{L}\\right)}.$$"
   ]
  },
  {
   "cell_type": "markdown",
   "id": "b674c6e4-ac8c-4cb0-84ce-1fde66345948",
   "metadata": {},
   "source": [
    "$$ \\implies u_k(x_n,t) = \\sin{\\left(\\frac{\\pi k n}{N}\\right)}exp{\\left(i\\frac{\\pi vkt}{L}\\right)}. \\tag{2.4}$$"
   ]
  },
  {
   "cell_type": "markdown",
   "id": "65504a78-3f00-4b4b-bf0c-c5aabcc0da75",
   "metadata": {},
   "source": [
    "$\\quad$ Contudo, **(2.4)** não é apta a satisfazer qualquer condição inicial. Para resolver isso, consideraremos uma superposição dessas expressões, assim permitindo a determinação de condições iniciais mais gerais. Vale lembrar que só podemos realizar esse passo porque a Equação de Onda é linear. Assim:"
   ]
  },
  {
   "cell_type": "markdown",
   "id": "7f25a8a6-ec82-47cd-a76e-c18f0341f110",
   "metadata": {},
   "source": [
    "$$ u(x_n,t) = \\frac{1}{N}\\sum_{k=1}^{N-1} b_k \\sin{\\left(\\frac{\\pi k n}{N}\\right)}exp{\\left(i\\frac{\\pi vkt}{L}\\right)}, \\tag{2.5}$$"
   ]
  },
  {
   "cell_type": "markdown",
   "id": "252e054f",
   "metadata": {},
   "source": [
    "onde $b_k$ são coeficientes qualquer e o termo $\\frac{1}{N}$ foi adicionado para possibilitar futuras comparações a Transformada Direta de Fourier. Como $b_k$ pode ser um número complexo, podemos considerar a seguinte forma para ele: "
   ]
  },
  {
   "cell_type": "markdown",
   "id": "f0d7265e-3e24-4426-8fb8-afb80b73b5d2",
   "metadata": {},
   "source": [
    "$$ b_k = \\alpha_k + i\\eta_k. \\tag{2.6}$$"
   ]
  },
  {
   "cell_type": "markdown",
   "id": "de15bba1-53c2-4ed6-975e-47be70fea64a",
   "metadata": {},
   "source": [
    "$\\quad$ Assim, substituindo **(2.6)** em **(2.5)**:"
   ]
  },
  {
   "cell_type": "markdown",
   "id": "f1c51a15-8236-4399-a46b-ce3e493506c5",
   "metadata": {},
   "source": [
    "$$ u(x_n,t) = \\frac{1}{N}\\sum_{k=1}^{N-1} \\left( \\alpha_k + i\\eta_k\\right) \\sin{\\left(\\frac{\\pi k n}{N}\\right)}exp{\\left(i\\frac{\\pi vkt}{L}\\right)}. \\tag{2.7}$$"
   ]
  },
  {
   "cell_type": "markdown",
   "id": "e77bd1dc-0a5f-441d-8fab-4777b0617233",
   "metadata": {},
   "source": [
    "$\\quad$ Aplicando a condição inicial $u(x,0) = f(x)$:"
   ]
  },
  {
   "cell_type": "markdown",
   "id": "76378675-acdb-4421-adf2-9560037a32c8",
   "metadata": {},
   "source": [
    "$$ u(x_n,0) = \\frac{1}{N}\\sum_{k=1}^{N-1} \\left(\\alpha_k + i\\eta_k \\right) \\sin{\\left(\\frac{\\pi k n}{N}\\right)}exp{\\left(i\\frac{\\pi vk0}{L}\\right)} = f(x_n)\\ \\therefore \\ f(x_n) = \\frac{1}{N}\\sum_{k=1}^{N-1} \\left(\\alpha_k + i\\eta_k \\right) \\sin{\\left(\\frac{\\pi k n}{N}\\right)}.$$"
   ]
  },
  {
   "cell_type": "markdown",
   "id": "56be8e6a-07ee-4001-ace9-7aad99fbd462",
   "metadata": {},
   "source": [
    "Contudo, considerando a própria natureza física de $u(x,0) = f(x)$, teremos que o lado esquerdo da equação sempre será um valor real, justamente porque um deslocamento sempre o é. Assim, para a igualdade ser verdadeira, $b_k$ será composto apenas pela parte real $\\alpha_k$, resultando em:"
   ]
  },
  {
   "cell_type": "markdown",
   "id": "5f13d501-7d5c-4b3c-b2cf-516f17111826",
   "metadata": {},
   "source": [
    "$$ f(x_n) = \\frac{1}{N}\\sum_{k=1}^{N-1} \\alpha_k \\sin{\\left(\\frac{\\pi k n}{N}\\right)}, \\tag{2.8}$$"
   ]
  },
  {
   "cell_type": "markdown",
   "id": "dbecca56",
   "metadata": {},
   "source": [
    "que é uma série de Forier em senos com coeficientes $\\alpha_k$. $f(x_n)$ representa o valor da função avaliado em cada ponto $x_n$. Utilizando a função **rfft** da biblioteca `numpy.fft`, pode-se obter os coeficientes da Transformada Discreta de Fourier de $f(x_n)$. Contudo, assim como destacada na sessão 7.4.3 de **[2]**, devemos pegar apenas as constantes ligadas à parte imaginária dos coeficientes, já que estes estão ligados à expansão da função em senos, descartando os coeficientes reais (que nesse caso teriam influência no termos de cosseno). O processo descrito está materalizado na seguinte função:"
   ]
  },
  {
   "cell_type": "code",
   "execution_count": null,
   "id": "69ed6d4e",
   "metadata": {},
   "outputs": [],
   "source": [
    "# Transformada Discreta de Fourier em senos de uma dada coleção de dados y\n",
    "def dst(y):\n",
    "    N = len(y)\n",
    "    y2 = np.empty(2*N,float)\n",
    "    y2[0] = y2[N] = 0.0\n",
    "    y2[1:N] = y[1:]\n",
    "    \n",
    "    y2[len(y2)-1:N:-1] = -1*y[1:]\n",
    "    \n",
    "    a = -np.imag(rfft(y2))[:N]\n",
    "    a[0] = 0.0\n",
    "\n",
    "    return a"
   ]
  },
  {
   "cell_type": "markdown",
   "id": "4d789644",
   "metadata": {},
   "source": [
    "A função recebe uma coleção de dados $y$ e retorna seus coeficientes em senos da Transformada Discreta de Fourier. No nosso caso, $y = f(x_n)$."
   ]
  },
  {
   "cell_type": "markdown",
   "id": "65bc81c1-0e35-415f-963b-0a077510309d",
   "metadata": {},
   "source": [
    "$\\quad$ De forma similar, podemos fazer essa análise com a outra condição inicial $\\frac{\\partial u(x_n,0)}{\\partial t}$. Primeiro obtendo $\\frac{\\partial u(x_n,t)}{\\partial t}$, utilizando o valor de $u(x_n,t)$ fornecido por **(2.7)**:"
   ]
  },
  {
   "cell_type": "markdown",
   "id": "16eae9b8-15be-4c46-bb05-1c5efe44b012",
   "metadata": {},
   "source": [
    "$$ \\frac{\\partial u(x_n,t)}{\\partial t} = \\frac{\\partial \\left[\\frac{1}{N}\\sum_{k=1}^{N-1} ( \\alpha_k + i\\eta_k) \\sin{\\left(\\frac{\\pi k n}{N}\\right)}exp{\\left(i\\frac{\\pi vkt}{L}\\right)}\\right]}{\\partial t} = \\frac{1}{N} \\sum_{k=1}^{N-1} \\left(\\alpha_k + i\\eta_k \\right) \\sin{\\left(\\frac{\\pi k n}{N}\\right)} \\frac{\\partial \\left[exp{(i\\frac{\\pi vkt}{L})}\\right]}{\\partial t}.$$"
   ]
  },
  {
   "cell_type": "markdown",
   "id": "699727ff-a2f6-4447-a255-e62ae849e298",
   "metadata": {},
   "source": [
    "$$\\implies \\frac{\\partial u(x_n,t)}{\\partial t} = \\frac{1}{N} \\sum_{k=1}^{N-1}\\left( \\alpha_k + i\\eta_k \\right) \\sin{\\left(\\frac{\\pi k n}{N}\\right)} \\exp{\\left(\\frac{i\\pi v k t}{L}\\right)} \\frac{i\\pi vk}{L}.$$"
   ]
  },
  {
   "cell_type": "markdown",
   "id": "4c3f1695-e3bb-4b8c-b835-a639a18f8940",
   "metadata": {},
   "source": [
    "$$\\implies \\frac{\\partial u(x_n,t)}{\\partial t} = \\frac{1}{N}  \\sum_{k=1}^{N-1} \\frac{\\pi v k}{L} (i\\alpha_k -\\eta_k) \\sin{\\left(\\frac{\\pi k n}{N}\\right)} \\exp{\\left(\\frac{i\\pi v k t}{L}\\right)}. \\tag{2.9}$$"
   ]
  },
  {
   "cell_type": "markdown",
   "id": "8c137d11",
   "metadata": {},
   "source": [
    "$\\quad$ Considerando o instante de tempo com $t=0$ em **(2.9)**:"
   ]
  },
  {
   "cell_type": "markdown",
   "id": "3f01402b-0422-49e9-83c8-f2ba1f8720e7",
   "metadata": {},
   "source": [
    "$$ \\frac{\\partial u(x_n,0)}{\\partial t} = \\frac{1}{N}  \\sum_{k=1}^{N-1} \\frac{\\pi vk}{L} \\left(i\\alpha_k -\\eta_k\\right) \\sin{\\left(\\frac{\\pi k n}{N}\\right)}.$$"
   ]
  },
  {
   "cell_type": "markdown",
   "id": "f0a62949-fa24-4f5b-8f17-dacf76162e7b",
   "metadata": {},
   "source": [
    "$\\quad$ Recaindo no mesmo argumento de que o termo à esquerda da expressão é sempre um valor real, consequentemente desconsiderando a parte imaginária à direita, obtemos:"
   ]
  },
  {
   "cell_type": "markdown",
   "id": "d73f1271-e683-4ada-9756-ab0f238dd65d",
   "metadata": {},
   "source": [
    "$$ \\frac{\\partial u(x_n,0)}{\\partial t} = \\frac{1}{N}  \\sum_{k=1}^{N-1} \\frac{\\pi v k}{L} (-\\eta_k) \\sin{\\left(\\frac{\\pi k n}{N}\\right)}.$$"
   ]
  },
  {
   "cell_type": "markdown",
   "id": "79536b3c",
   "metadata": {},
   "source": [
    "$$ \\implies \\frac{\\partial u(x_n,0)}{\\partial t} = \\frac{1}{N}  \\sum_{k=1}^{N-1} \\left(-\\frac{\\pi v k}{L}\\right) \\eta_k \\sin{\\left(\\frac{\\pi k n}{N}\\right)}, \\tag{2.10}$$"
   ]
  },
  {
   "cell_type": "markdown",
   "id": "5d52ba6f-b445-4b01-927e-8cde1a6a6d18",
   "metadata": {},
   "source": [
    "onde chegamos em uma outra série de Fourier em senos, dessa vez com coeficientes $\\left(-\\frac{\\pi v k}{L}\\right) \\eta_k $. Considerando um coeficiente\n"
   ]
  },
  {
   "cell_type": "markdown",
   "id": "39015d28",
   "metadata": {},
   "source": [
    "$$o_k = \\left(-\\frac{\\pi v}{L}\\right) k\\eta_k, \\tag{2.11}$$"
   ]
  },
  {
   "cell_type": "markdown",
   "id": "c29638de",
   "metadata": {},
   "source": [
    "podemos modificar **(2.10)** para:"
   ]
  },
  {
   "cell_type": "markdown",
   "id": "e597c2d1",
   "metadata": {},
   "source": [
    "$$ \\frac{\\partial u(x_n,0)}{\\partial t} = \\frac{1}{N}  \\sum_{k=1}^{N-1} o_k \\sin{\\left(\\frac{\\pi k n}{N}\\right)}.\\tag{2.12}$$"
   ]
  },
  {
   "cell_type": "markdown",
   "id": "72e8df85",
   "metadata": {},
   "source": [
    "Percebe-se a total enorme semelhança entre **(2.12)** e **(2.8)**, com a única diferença de que tem-se a condição inicial da velocidade vertical da corda ao invés da sua amplitude de oscilação. No desenvolvimento do método analítico foi-se considerado que a velocidade do vertical em cada ponto era nula. Porém, para fins de generalização do Método Espectral, consideraremos que"
   ]
  },
  {
   "cell_type": "markdown",
   "id": "fab38836",
   "metadata": {},
   "source": [
    "$$ \\frac{\\partial u(x_n,0)}{\\partial t} = g(x_n),$$"
   ]
  },
  {
   "cell_type": "markdown",
   "id": "9be45ab9",
   "metadata": {},
   "source": [
    "onde a função $g(x_n)$ for informará a velocidade vertical inicial da corda para cada ponto $x_n$. Assim, **(2.12)** pode ser reescrita como:"
   ]
  },
  {
   "cell_type": "markdown",
   "id": "a03a538b",
   "metadata": {},
   "source": [
    "$$ g(x_n) = \\frac{1}{N}  \\sum_{k=1}^{N-1} o_k \\sin{\\left(\\frac{\\pi k n}{N}\\right)}.\\tag{2.12}$$"
   ]
  },
  {
   "cell_type": "markdown",
   "id": "fe4d1208",
   "metadata": {},
   "source": [
    "$\\quad$ Comparando **(2.12)** com **(2.8)**, pode-se concluir que podemos obter os coeficientes $o_k$ da mesma forma que obteríamos $\\alpha_k$, dessa vez apenas considerando o conjunto de pontos $g(x_n)$ e não mais os $f(x_n)$. Feito isso, pode-se obter os coeficientes $\\eta_k$, utlizando a relação exposta em **(2.11)**:"
   ]
  },
  {
   "cell_type": "markdown",
   "id": "8c948924",
   "metadata": {},
   "source": [
    "$$ \\eta_k = \\frac{o_k}{k} \\left(-\\frac{L}{\\pi v}\\right). \\tag{2.13}$$"
   ]
  },
  {
   "cell_type": "markdown",
   "id": "5be75561-8ed5-4939-92af-2756fc354f2a",
   "metadata": {},
   "source": [
    "$\\quad$ Agora sabendo o caminho para a obtenção dos coeficeintes $\\alpha_k$ e $\\eta_k$, voltaremos para **(2.7)**:"
   ]
  },
  {
   "cell_type": "markdown",
   "id": "68fc0f0b",
   "metadata": {},
   "source": [
    "$$ u(x_n,t) = \\frac{1}{N}\\sum_{k=1}^{N-1} \\left( \\alpha_k + i\\eta_k\\right) \\sin{\\left(\\frac{\\pi k n}{N}\\right)}exp{\\left(i\\frac{\\pi vkt}{L}\\right)}. $$"
   ]
  },
  {
   "cell_type": "markdown",
   "id": "4202ca00-15e1-41df-9872-a1d5d222a344",
   "metadata": {},
   "source": [
    "$\\quad$ Utilizando a identidade de Euler $e^{i\\theta} = \\cos{(\\theta)} + i\\sin{(\\theta)}$, com $\\theta = \\frac{\\pi vkt}{L}$:"
   ]
  },
  {
   "cell_type": "markdown",
   "id": "5da92b07-0359-49c9-81ea-5446b7799cf7",
   "metadata": {},
   "source": [
    "$$ u(x_n,t) = \\frac{1}{N}\\sum_{k=1}^{N-1} \\left(\\alpha_k+i\\eta_k\\right) \\sin{\\left(\\frac{\\pi k n}{N}\\right)}\\left[\\cos{\\left(\\frac{\\pi vkt}{L}\\right)} + i\\sin{\\left(\\frac{\\pi vkt}{L}\\right)}\\right] $$"
   ]
  },
  {
   "cell_type": "markdown",
   "id": "a819cbd9-ea66-45e6-a082-3e04ecf60b7d",
   "metadata": {},
   "source": [
    "$$ \\implies u(x_n,t) = \\frac{1}{N}\\sum_{k=1}^{N-1} \\left[\\alpha_k\\cos{\\left(\\frac{\\pi vkt}{L}\\right)} + \\alpha_ki\\sin{\\left(\\frac{\\pi vkt}{L}\\right)} + i\\eta_k\\cos{\\left(\\frac{\\pi vkt}{L}\\right)} + i\\eta_ki\\sin{\\left(\\frac{\\pi vkt}{L}\\right)}\\right]\\sin{\\left(\\frac{\\pi kn}{N}\\right)}. \\tag{2.14}$$"
   ]
  },
  {
   "cell_type": "markdown",
   "id": "c1af9590-1020-4a47-ab3d-98b452bb5317",
   "metadata": {},
   "source": [
    "$\\quad$ Como argumentado ainda na introdução do método, ao considerar que $u$ é definido apenas para valores reais, pode-se desconsiderar a parte imaginária do somatório em **(2.14)**. Assim:"
   ]
  },
  {
   "cell_type": "markdown",
   "id": "64964123-a485-4610-85c2-67f717633c53",
   "metadata": {},
   "source": [
    "$$\\boxed{ u(x_n,t) = \\frac{1}{N}\\sum_{k=1}^{N-1} \\left[\\alpha_k\\cos{\\left(\\frac{\\pi vkt}{L}\\right)}-\\eta_k\\sin{\\left(\\frac{\\pi vkt}{L}\\right)}\\right]\\sin{\\left(\\frac{\\pi kn}{N}\\right)}. \\tag{2.15} }$$"
   ]
  },
  {
   "cell_type": "markdown",
   "id": "e64103d6",
   "metadata": {},
   "source": [
    "$\\quad$ Esta é expressão final do Método Espectral, onde, determinados os coeficientes $\\alpha_k$ e $\\eta_k$ através das condições inicial para a posição e velocidade da corda, podemos avaliar o instantêneo de oscilação da corda para qualquer $t$ em questão.  "
   ]
  },
  {
   "cell_type": "markdown",
   "id": "b830abba",
   "metadata": {},
   "source": [
    "$\\quad$ Implementando a solução obtida:"
   ]
  },
  {
   "cell_type": "code",
   "execution_count": null,
   "id": "3652cdec-2291-49f7-b9b4-f7e436649d12",
   "metadata": {},
   "outputs": [
    {
     "data": {
      "image/png": "[encoded data removed]",
      "text/plain": [
       "<Figure size 640x480 with 1 Axes>"
      ]
     },
     "metadata": {},
     "output_type": "display_data"
    }
   ],
   "source": [
    "# Iremos utilizar os mesmos padrões para o grid espacial anterior utilizado (ou seja, o dx é o mesmo) e o mesmo array de tempos. \n",
    "\n",
    "u_x_0 = np.zeros(N, float)\n",
    "\n",
    "for i in range(N):\n",
    "    u_x_0[i] = f(i*dx, L) # Obtendo a condição inicial\n",
    "\n",
    "\n",
    "\n",
    "\n",
    "\n",
    "\n",
    "\n",
    "\n",
    "alfas = dst(u_x_0) # Obtendo os alfas_k\n",
    "\n",
    "# Os etas são todos nulo, pois não há velocidade inicial \n",
    "etas = np.zeros(len(alfas), float) # todos etas = 0\n",
    "\n",
    "u_x_t_espectral = [] # Lista para armazenas a solução u(x,t) para cada instante de tempo analisado, dessa vez utilizando o método espectral\n",
    "\n",
    "for t in tempos:\n",
    "    u_x_t = np.zeros(N, float) # Cria um grid espacial\n",
    "    for n in range(N): # Percorre todo o grid espacial\n",
    "        aux = 0\n",
    "        for k in range(1,N):\n",
    "            aux += (alfas[k]*cos(pi*v*k*t/L)-etas[k]*sin(pi*v*k*t/L))*sin(pi*k*n/N)    # Solução do método espectral; o somatório converge para o valor de u(xn,t) no dado ponto xn em análise\n",
    "        u_x_t[n] = aux/N # Há o fator 1/N ainda na solução\n",
    "\n",
    "    u_x_t_espectral.append(u_x_t) # Adiciona a solução à lista criada para esse método\n",
    "    \n",
    "    plt.plot(xs,u_x_t, label = f'u(x,t) para t = {t}s') # Plota a solução no dado tempo em análise \n",
    "\n",
    "u_x_t_espectral = np.array(u_x_t_espectral)\n",
    "\n",
    "\n",
    "# Estética do plot\n",
    "plt.xlabel(\"Grid espacial (m)\")\n",
    "plt.ylabel(\"Deslocamento da onda (m)\")\n",
    "plt.title(\"Solução $u(x,t)$ para alguns valores de $t$ (Método Numérico)\")\n",
    "plt.grid()\n",
    "plt.legend()\n",
    "plt.show()"
   ]
  },
  {
   "cell_type": "markdown",
   "id": "566df9f3",
   "metadata": {},
   "source": [
    "$\\quad$ Como o esperado, a solução foi idêntica à obtida anteiormente com o método analítico, o que podemos confirmar através do período de oscilação da onda. Ela também leva $T = 0.5s$ para realizar uma osclação completa. "
   ]
  },
  {
   "cell_type": "markdown",
   "id": "5b006403",
   "metadata": {},
   "source": [
    "$\\quad$ Utilizando os arrays criados com o armazenamento da solução tanto analítica quanto numérica para cada $t$, a seguir definiremos um erro relatido e plotaremos a magnetude desse erro para cada ponto do grid espacial."
   ]
  },
  {
   "cell_type": "code",
   "execution_count": null,
   "id": "8b9b8b14",
   "metadata": {},
   "outputs": [
    {
     "data": {
      "image/png": "[encoded data removed]",
      "text/plain": [
       "<Figure size 640x480 with 1 Axes>"
      ]
     },
     "metadata": {},
     "output_type": "display_data"
    }
   ],
   "source": [
    "erro =  u_x_t_fourier - u_x_t_espectral\n",
    "\n",
    "for t in range(len(tempos)):\n",
    "    plt.plot(xs, erro[t], label = f'Erro para t = {tempos[t]}s')    \n",
    "plt.xlabel(\"Grid espacial (m)\")\n",
    "plt.ylabel(\"Amplitude do erro (m)\")\n",
    "plt.title(\"Erro relativo para alguns valores de t\")\n",
    "plt.grid()\n",
    "plt.legend()\n",
    "plt.show()"
   ]
  },
  {
   "cell_type": "markdown",
   "id": "99430d99",
   "metadata": {},
   "source": [
    "$\\quad$ Com essa imagem, obtemos um perfil da discrepância entre os métodos em cada ponto do grid. Percebe-se que o instante de tempo responsável pela maior amplitude de erro é $t = 0s$, $t=0,25s$, $t=0.5s$, justamente quando a onda está no seu ápice (ou vale, como é o caso para $t=0.25$). A região espacial onde ocorre essa maior discrepância é justamente aquela próxima à metade do intervalo. "
   ]
  },
  {
   "cell_type": "code",
   "execution_count": null,
   "id": "ec04e58d",
   "metadata": {},
   "outputs": [],
   "source": []
  },
  {
   "cell_type": "markdown",
   "id": "9176453e",
   "metadata": {},
   "source": [
    "$\\quad$ Aqui farei uma rápida resolução de um caso onde a corda tem velocidade inicial não nula, o que consequentemente fará com que os $\\eta_n$ deixem de ser nulos."
   ]
  },
  {
   "cell_type": "markdown",
   "id": "22f5d534",
   "metadata": {},
   "source": [
    "$\\quad$ Manteremos todas as outras condições inalteradas, adicionando apenas:"
   ]
  },
  {
   "cell_type": "markdown",
   "id": "99f19b43",
   "metadata": {},
   "source": [
    "$$ \\frac{\\partial u(x,0)}{\\partial t} = -1,$$"
   ]
  },
  {
   "cell_type": "markdown",
   "id": "1dbf3905",
   "metadata": {},
   "source": [
    "ou seja, todo ponto da corda terá uma velocidade vertical inicial de $-1 m/s$, onde o sinal negativo siginifica que tal velocidade está na direção negativa do eixo vertical. "
   ]
  },
  {
   "cell_type": "markdown",
   "id": "9480cc3a",
   "metadata": {},
   "source": [
    "$\\quad$ Relembrando a relação:"
   ]
  },
  {
   "cell_type": "markdown",
   "id": "2daeca3d",
   "metadata": {},
   "source": [
    "$$ \\eta_k = \\frac{o_k}{k} (-\\frac{L}{\\pi v}),   $$"
   ]
  },
  {
   "cell_type": "markdown",
   "id": "ace7eb98",
   "metadata": {},
   "source": [
    "onde o coeficiente $o_k$ é o obtido diretamente pela Transformada Direta de Fourier em senos da condição inicial da velocidade."
   ]
  },
  {
   "cell_type": "markdown",
   "id": "19408c46",
   "metadata": {},
   "source": [
    "Implementando:"
   ]
  },
  {
   "cell_type": "code",
   "execution_count": null,
   "id": "97d0b70c",
   "metadata": {},
   "outputs": [
    {
     "data": {
      "image/png": "[encoded data removed]",
      "text/plain": [
       "<Figure size 640x480 with 1 Axes>"
      ]
     },
     "metadata": {},
     "output_type": "display_data"
    }
   ],
   "source": [
    "del_u_x_0 = -np.ones(N, float) #\n",
    "\n",
    "tempos = [0, 0.0625, 0.125] # Definiremos novos tempos de análise, para melhor visualização do resultado\n",
    "\n",
    "o_k = dst(del_u_x_0)\n",
    "eta_k_2 = -(L/pi*v)*o_k\n",
    "\n",
    "for t in tempos:\n",
    "    u_x_t = np.zeros(N, float)\n",
    "    for n in range(N):\n",
    "        aux = 0\n",
    "        for k in range(1,N):\n",
    "            eta = eta_k_2[k]/k\n",
    "\n",
    "\n",
    "            aux += (alfas[k]*cos(pi*v*k*t/L)-eta*sin(pi*v*k*t/L))*sin(pi*k*n/N)    # Solução do método \n",
    "        u_x_t[n] = aux/N\n",
    "    \n",
    "    plt.plot(xs,u_x_t, label = f'u(x,t) para t = {t}')\n",
    "\n",
    "\n",
    "plt.xlabel(\"Grid espacial (m)\")\n",
    "plt.ylabel(\"Deslocamento da onda (m)\")\n",
    "plt.title(\"Solução $u(x,t)$ para alguns valores de $t$ (Método Numérico)\")\n",
    "plt.grid()\n",
    "plt.legend()\n",
    "plt.show()\n"
   ]
  },
  {
   "cell_type": "markdown",
   "id": "13325492",
   "metadata": {},
   "source": []
  },
  {
   "cell_type": "markdown",
   "id": "d3f612a4",
   "metadata": {},
   "source": [
    "## Conclusão"
   ]
  },
  {
   "cell_type": "markdown",
   "id": "b34441a9",
   "metadata": {},
   "source": [
    "## Apêndice A"
   ]
  },
  {
   "cell_type": "markdown",
   "id": "eb6e1369",
   "metadata": {},
   "source": [
    "$\\quad$ Tem-se o objetivo de determinar o resultado da integral:"
   ]
  },
  {
   "cell_type": "markdown",
   "id": "f27eb99e",
   "metadata": {},
   "source": [
    "$$ C_n = \\frac{2}{L} \\int_{0}^{L} f(x)\\sin{\\left(\\frac{n\\pi x}{L}\\right)} \\, dx. \\tag{1}$$"
   ]
  },
  {
   "cell_type": "markdown",
   "id": "6096fc14",
   "metadata": {},
   "source": [
    "$\\quad$ Tendo em vista que função em questão é:"
   ]
  },
  {
   "cell_type": "markdown",
   "id": "bec7a281",
   "metadata": {},
   "source": [
    "$$ f(x) = \n",
    "\\begin{cases} \n",
    "    x, & \\text{se } 0 \\leq x < \\frac{L}{2} \\\\\n",
    "    L-x, & \\text{se } \\frac{L}{2} \\leq x < L \n",
    "\\end{cases},\n",
    "$$"
   ]
  },
  {
   "cell_type": "markdown",
   "id": "8cc2961a",
   "metadata": {},
   "source": [
    "podemos manipular os limites da integral em **(1)** e separar em outras 2 integrais:"
   ]
  },
  {
   "cell_type": "markdown",
   "id": "2f497dd9-b9db-4953-b840-0d2a251d8bbd",
   "metadata": {},
   "source": [
    "$$ C_n = \\frac{2}{L}\\left[\\int_{0}^{\\frac{L}{2}} x\\sin{\\left(\\frac{n\\pi x}{L}\\right)} \\, dx + \\int_{\\frac{L}{2}}^{L} (L-x)\\sin{\\left(\\frac{n\\pi x}{L}\\right)} \\, dx\\right]. \\tag{2}$$"
   ]
  },
  {
   "cell_type": "markdown",
   "id": "ade58c7a-fc76-405b-8d9e-74a0bb530723",
   "metadata": {},
   "source": [
    "$\\quad$ A resolução de cada integral será feita individualmente. "
   ]
  },
  {
   "cell_type": "markdown",
   "id": "c4b225f0-38c5-406b-ac81-844598461eb3",
   "metadata": {},
   "source": [
    "- Para a primeira integral de **(2)**:"
   ]
  },
  {
   "cell_type": "markdown",
   "id": "95e9fd4d-9505-47f1-bda8-4dce60c7632f",
   "metadata": {},
   "source": [
    "$$ \\int_{0}^{\\frac{L}{2}} x\\sin{\\left(\\frac{n\\pi x}{L}\\right)} \\, dx . \\tag{3}$$"
   ]
  },
  {
   "cell_type": "markdown",
   "id": "dcab27c5-e5bd-4400-aaf4-2cdfae2fe150",
   "metadata": {},
   "source": [
    "$\\quad$ Utilizaremos a tecnica de integração por partes $\\int fg^{\\prime} = fg - \\int f^{\\prime}g$, com $f = x$ e $g^{\\prime} = sin{(\\frac{n\\pi x}{L})}$. Sabendo que $f^{\\prime} = 1$ e $g = -\\frac{\\cos{(\\frac{n\\pi x}{L})}}{\\frac{n\\pi}{L}}$, desenvolve-se **(3)**:"
   ]
  },
  {
   "cell_type": "markdown",
   "id": "5024420a-bc2b-4f80-9789-17d0aa993194",
   "metadata": {},
   "source": [
    "$$ \\int_{0}^{\\frac{L}{2}} x\\sin{\\left(\\frac{n\\pi x}{L}\\right)} \\, dx = x \\left[-\\frac{\\cos{(\\frac{n\\pi x}{L})}}{\\frac{n\\pi}{L}}\\right]_{0}^{\\frac{L}{2}} - \\int_{0}^{\\frac{L}{2}} -\\frac{\\cos{\\left(\\frac{n\\pi x}{L}\\right)}}{\\frac{n\\pi}{L}} dx.$$"
   ]
  },
  {
   "cell_type": "markdown",
   "id": "5b518c27-3f4f-491d-8bef-5133334664b7",
   "metadata": {},
   "source": [
    "$$\\implies \\int_{0}^{\\frac{L}{2}} x\\sin{\\left(\\frac{n\\pi x}{L}\\right)} \\, dx = -\\frac{L}{n\\pi} \\left[x\\cos{\\left(\\frac{n\\pi x}{L}\\right)}\\right]_{0}^{\\frac{L}{2}} + \\frac{L}{n\\pi}\\int_{0}^{\\frac{L}{2}} cos{\\frac{n\\pi x}{L}} dx.$$"
   ]
  },
  {
   "cell_type": "markdown",
   "id": "0f00663c-8e39-4c08-86f5-da46f86d7cba",
   "metadata": {},
   "source": [
    "$$ \\implies \\int_{0}^{\\frac{L}{2}} x\\sin{\\left(\\frac{n\\pi x}{L}\\right)} \\, dx = -\\frac{L}{n\\pi}\\left[\\frac{L}{2}\\cos{\\left(\\frac{n\\pi}{L}\\frac{L}{2}\\right) - 0}\\right] + \\frac{L}{n\\pi} \\left[\\frac{\\sin{(\\frac{n\\pi x}{L})}}{\\frac{n\\pi}{L}}\\right]_{0}^{\\frac{L}{2}}.$$"
   ]
  },
  {
   "cell_type": "markdown",
   "id": "740ebff4-ca7d-4dc0-a75e-4c8b49faaa2d",
   "metadata": {},
   "source": [
    "$$ \\implies \\int_{0}^{\\frac{L}{2}} x\\sin{\\left(\\frac{n\\pi x}{L}\\right)} \\, dx = -\\frac{L^2}{2n\\pi}\\cos{\\left(\\frac{\\pi}{2}n\\right)} + \\frac{L^2}{n^2\\pi^2}\\left[\\sin{\\left(\\frac{n\\pi x}{L}\\right)}\\right]_{0}^{\\frac{L}{2}}.$$"
   ]
  },
  {
   "cell_type": "markdown",
   "id": "432aa619-449c-4adf-9590-9fbb6001c224",
   "metadata": {},
   "source": [
    "$$\\implies \\int_{0}^{\\frac{L}{2}} x\\sin{\\left(\\frac{n\\pi x}{L}\\right)} \\, dx = -\\frac{L^2}{2n\\pi}\\cos{\\left(\\frac{\\pi}{2}n\\right)} + \\frac{L^2}{n^2\\pi^2}\\left[\\sin{\\left(\\frac{n\\pi}{L}\\frac{L}{2}\\right)} - \\sin{\\left(\\frac{n\\pi}{L}0\\right)}\\right].$$"
   ]
  },
  {
   "cell_type": "markdown",
   "id": "a39c67ab-87bd-4c45-b7e3-2d03fd86009b",
   "metadata": {},
   "source": [
    "$$ \\implies \\int_{0}^{\\frac{L}{2}} x\\sin{\\left(\\frac{n\\pi x}{L}\\right)} \\, dx = -\\frac{L^2}{2n\\pi}\\cos{\\left(\\frac{\\pi}{2}n\\right)} + \\frac{L^2}{n^2\\pi^2}\\sin{\\left(\\frac{\\pi}{2}n\\right)}. \\tag{4}$$"
   ]
  },
  {
   "cell_type": "markdown",
   "id": "919cbfff-dfc9-43ce-91c9-0300dd828cdb",
   "metadata": {},
   "source": [
    "$\\quad$ Essa é a expressão final para a primera integral, onde o termo do cosseno e do seno vão ficar alternando entre $1$, $-1$ e $0$."
   ]
  },
  {
   "cell_type": "markdown",
   "id": "59f16c5a-a0c9-426d-9c33-f03b964d1e3c",
   "metadata": {},
   "source": [
    "- Desenvolvendo a segunda integral de **(2)**:"
   ]
  },
  {
   "cell_type": "markdown",
   "id": "13f0d597-77ed-4319-a0b0-18e8931b7d0c",
   "metadata": {},
   "source": [
    "$$  \\int_{\\frac{L}{2}}^{L} \\left(L-x\\right)\\sin{\\left(\\frac{n\\pi x}{L}\\right)} \\, dx = \\int_{\\frac{L}{2}}^{L} L \\sin{\\left(\\frac{n\\pi x}{L}\\right)} \\, dx - \\int_{\\frac{L}{2}}^{L} x\\sin{\\left(\\frac{n\\pi x}{L}\\right)} \\, dx. \\tag{5}$$"
   ]
  },
  {
   "cell_type": "markdown",
   "id": "a561e051-d2ef-411a-a337-c093f9569289",
   "metadata": {},
   "source": [
    "$\\quad$ Para a primeira integral de **(5)**:"
   ]
  },
  {
   "cell_type": "markdown",
   "id": "465cfa43-2552-4b0f-9834-3b2789e9a4d2",
   "metadata": {},
   "source": [
    "$$ \\int_{\\frac{L}{2}}^{L} L \\sin{\\left(\\frac{n\\pi x}{L}\\right)} \\, dx = L\\int_{\\frac{L}{2}}^{L} \\sin{\\left(\\frac{n\\pi x}{L}\\right)} \\, dx = L\\left[-\\frac{\\cos{(\\frac{n\\pi x}{L})}}{\\frac{n\\pi}{L}}\\right]_{\\frac{L}{2}}^{L} = -\\frac{L^2}{n\\pi}\\left[\\cos{\\left(\\frac{n\\pi x}{L}\\right)}\\right]_{\\frac{L}{2}}^{L}.$$"
   ]
  },
  {
   "cell_type": "markdown",
   "id": "bac3f4df-a29a-4376-b5e1-82c2f7e893a6",
   "metadata": {},
   "source": [
    "$$ \\implies \\int_{\\frac{L}{2}}^{L} L \\sin{\\left(\\frac{n\\pi x}{L}\\right)} \\, dx = -\\frac{L^2}{n\\pi}\\left[cos{\\left(\\frac{n\\pi}{L}L\\right) - cos{\\left(\\frac{n\\pi}{L}\\frac{L}{2}\\right)}}\\right].$$"
   ]
  },
  {
   "cell_type": "markdown",
   "id": "1ab5197e-ecf4-497a-a6a0-5c723f36a2e9",
   "metadata": {},
   "source": [
    "$$ \\implies \\int_{\\frac{L}{2}}^{L} L \\sin{\\left(\\frac{n\\pi x}{L}\\right)} \\, dx = -\\frac{L^2}{n\\pi}\\left[\\cos{\\left(n\\pi\\right)} - \\cos{\\left(\\frac{\\pi}{2}n\\right)}\\right].$$"
   ]
  },
  {
   "cell_type": "markdown",
   "id": "713b48ff-4c50-4918-bd60-956d74a90df8",
   "metadata": {},
   "source": [
    "$$ \\implies \\int_{\\frac{L}{2}}^{L} L \\sin{\\left(\\frac{n\\pi x}{L}\\right)} \\, dx = -\\frac{L^2}{n\\pi}\\cos{\\left(n\\pi\\right)} + \\frac{L^2}{n\\pi}\\cos{\\left(\\frac{\\pi}{2}n\\right)}. \\tag{5.1}$$"
   ]
  },
  {
   "cell_type": "markdown",
   "id": "3f3b6815-9fac-47c0-b436-75195c09278f",
   "metadata": {},
   "source": [
    "$\\quad$ Já para a segunda integral de **(5)**:"
   ]
  },
  {
   "cell_type": "markdown",
   "id": "a99197a2-ee57-44ef-b2a2-51f9865bc593",
   "metadata": {},
   "source": [
    "$$ \\int_{\\frac{L}{2}}^{L} x\\sin{\\left(\\frac{n\\pi x}{L}\\right)} \\, dx.$$"
   ]
  },
  {
   "cell_type": "markdown",
   "id": "ede3c087-d82f-47c1-8e76-0d71502d01fc",
   "metadata": {},
   "source": [
    "$\\quad$ Novaimente utilizando a integração por partes $\\int fg^{\\prime} = fg - \\int f^{\\prime}g$, com $f = x$, $g^{\\prime} = sin{\\left(\\frac{n\\pi x}{L}\\right)}$, $f^{\\prime} = 1$ e $g = -\\frac{\\cos{(\\frac{n\\pi x}{L})}}{\\frac{n\\pi}{L}}$. Assim:"
   ]
  },
  {
   "cell_type": "markdown",
   "id": "423174e3-670f-4015-a7e1-a954f15bcc14",
   "metadata": {},
   "source": [
    "$$ \\int_{\\frac{L}{2}}^{L} x\\sin{\\left(\\frac{n\\pi x}{L}\\right)} \\, dx = x \\left[-\\frac{\\cos{\\left(\\frac{n\\pi x}{L}\\right)}}{\\frac{n\\pi}{L}}\\right]_{\\frac{L}{2}}^{L} - \\int_{\\frac{L}{2}}^{L} -\\frac{\\cos{(\\frac{n\\pi x}{L})}}{\\frac{n\\pi}{L}} dx.$$"
   ]
  },
  {
   "cell_type": "markdown",
   "id": "319f1a04-9613-41dd-93c4-9ad5f4f5d93c",
   "metadata": {},
   "source": [
    "$$ \\implies \\int_{\\frac{L}{2}}^{L} x\\sin{\\left(\\frac{n\\pi x}{L}\\right)} \\, dx  = -\\frac{L}{n\\pi} \\left[x\\cos{\\left(\\frac{n\\pi x}{L}\\right)}\\right]_{\\frac{L}{2}}^{L} + \\frac{L}{n\\pi}\\int_{\\frac{L}{2}}^{L} cos{\\left(\\frac{n\\pi x}{L}\\right)} dx.$$"
   ]
  },
  {
   "cell_type": "markdown",
   "id": "cf0373f1-22b3-495b-a0f2-df2aaca471b7",
   "metadata": {},
   "source": [
    "$$ \\implies \\int_{\\frac{L}{2}}^{L} x\\sin{\\left(\\frac{n\\pi x}{L}\\right)} \\, dx = -\\frac{L}{n\\pi}\\left[L\\cos{\\left(\\frac{n\\pi}{L}L\\right)} - \\frac{L}{2}\\cos{\\left(\\frac{n\\pi}{L}\\frac{L}{2}\\right)}\\right] + \\frac{L}{n\\pi}\\left[\\frac{\\sin{(\\frac{n\\pi x}{L})}}{\\frac{n\\pi}{L}}\\right]_{\\frac{L}{2}}^{L}.$$"
   ]
  },
  {
   "cell_type": "markdown",
   "id": "81d960e1-ec3d-4830-b68f-cc6f1bab4ef8",
   "metadata": {},
   "source": [
    "$$ \\implies \\int_{\\frac{L}{2}}^{L} x\\sin{\\left(\\frac{n\\pi x}{L}\\right)} \\, dx = -\\frac{L}{n\\pi}\\left[Lcos{\\left(n\\pi\\right)} - \\frac{L}{2}\\cos{\\left(\\frac{\\pi}{2}n\\right)}\\right] + \\frac{L^2}{n^2\\pi^2}\\left[\\sin{\\left(\\frac{n\\pi x}{L}\\right)}\\right]_{\\frac{L}{2}}^{L}.$$"
   ]
  },
  {
   "cell_type": "markdown",
   "id": "b3a47fee-2e2b-4cce-9b83-df3bbdbad01b",
   "metadata": {},
   "source": [
    "$$\\implies \\int_{\\frac{L}{2}}^{L} x\\sin{\\left(\\frac{n\\pi x}{L}\\right)} \\, dx = -\\frac{L}{n\\pi}\\left[Lcos{\\left(n\\pi \\right)} - \\frac{L}{2}\\cos{\\left(\\frac{\\pi}{2}n\\right)}\\right] + \\frac{L^2}{n^2\\pi^2}\\left[\\sin{\\left(\\frac{n\\pi}{L}L\\right)} - \\sin{\\left(\\frac{n\\pi}{L}\\frac{L}{2}\\right)}\\right].$$"
   ]
  },
  {
   "cell_type": "markdown",
   "id": "50026495-9665-4cb0-b4ae-5c4381e4b1e4",
   "metadata": {},
   "source": [
    "$$ \\int_{\\frac{L}{2}}^{L} x\\sin{\\left(\\frac{n\\pi x}{L}\\right)} \\, dx = -\\frac{L}{n\\pi}\\left[Lcos{\\left(n\\pi \\right)} - \\frac{L}{2}\\cos{\\left(\\frac{\\pi}{2}n\\right)}\\right] + \\frac{L^2}{n^2\\pi^2}\\left[\\sin{\\left(n\\pi\\right)}-\\sin{\\left(\\frac{\\pi}{2}n\\right)}\\right].$$"
   ]
  },
  {
   "cell_type": "markdown",
   "id": "6e268c8c-5ede-4ce4-b822-cbc683b62def",
   "metadata": {},
   "source": [
    "$\\quad$ Como $n$ é um número natural, o termo $\\sin{(n\\pi)}$ será sempre igual a 0. Então:"
   ]
  },
  {
   "cell_type": "markdown",
   "id": "a14ece6c-62be-4627-ab0e-bbd496c18552",
   "metadata": {},
   "source": [
    "$$ \\int_{\\frac{L}{2}}^{L} x\\sin{\\left(\\frac{n\\pi x}{L}\\right)} \\, dx = -\\frac{L^2}{n\\pi}cos{(n\\pi)} + \\frac{L^2}{2n\\pi}\\cos{\\left(\\frac{\\pi}{2}n\\right)} - \\frac{L^2}{n^2\\pi^2}\\sin{\\left(\\frac{\\pi}{2}n\\right)}. \\tag{5.2}$$"
   ]
  },
  {
   "cell_type": "markdown",
   "id": "c6754377-145f-4a95-8936-133658a9f03b",
   "metadata": {},
   "source": [
    "$\\quad$ Substituindo os valores de **(5.1)** e **(5.2)** em **(5)**, chega-se no resultado:"
   ]
  },
  {
   "cell_type": "markdown",
   "id": "dee4e9da-ae6b-4b69-88e1-012cce51b211",
   "metadata": {},
   "source": [
    "$$ \\int_{\\frac{L}{2}}^{L} \\left(L-x\\right)\\sin{\\left(\\frac{n\\pi x}{L}\\right)} \\, dx  = -\\frac{L^2}{n\\pi}\\cos{(n\\pi )} + \\frac{L^2}{n\\pi}\\cos{\\left(\\frac{\\pi}{2}n\\right)} - \\left[ -\\frac{L^2}{n\\pi}cos{\\left(n\\pi\\right)} + \\frac{L^2}{2n\\pi}\\cos{\\left(\\frac{\\pi}{2}n\\right)} - \\frac{L^2}{n^2\\pi^2}\\sin{\\left(\\frac{\\pi}{2}n\\right)}\\right].$$"
   ]
  },
  {
   "cell_type": "markdown",
   "id": "f08e964c-19ea-4627-8acd-39bba0da0520",
   "metadata": {},
   "source": [
    "$$ \\implies \\int_{\\frac{L}{2}}^{L} (L-x)\\sin{\\left(\\frac{n\\pi x}{L}\\right)} \\, dx  = -\\frac{L^2}{n\\pi}\\cos{\\left(n\\pi\\right)}+\\frac{L^2}{n\\pi}\\cos{\\left(\\frac{\\pi}{2}n\\right)} + \\left[\\frac{L^2}{n\\pi}\\cos{(n\\pi)}-\\frac{L^2}{2n\\pi}\\cos{\\left(\\frac{\\pi}{2}n\\right)} + \\frac{L^2}{n^2\\pi^2}\\sin{\\left(\\frac{\\pi}{2}n\\right)}\\right].$$"
   ]
  },
  {
   "cell_type": "markdown",
   "id": "1cb2a51b-926a-49ce-b203-591e227a5def",
   "metadata": {},
   "source": [
    "$$ \\implies \\int_{\\frac{L}{2}}^{L} (L-x)\\sin{(\\frac{n\\pi x}{L})} \\, dx  = \\frac{L^2}{2n\\pi}\\cos{\\left(\\frac{\\pi}{2}n\\right)} + \\frac{L^2}{n^2\\pi^2}\\sin{\\left(\\frac{\\pi}{2}n\\right)}. \\tag{5.3}$$"
   ]
  },
  {
   "cell_type": "markdown",
   "id": "31aa3da4-992d-4b10-9c68-9bb8b9496ae0",
   "metadata": {},
   "source": [
    "$\\quad$ Finalmente, substituindo os valores de **(4)** e **(5.3)** em **(2)**:"
   ]
  },
  {
   "cell_type": "markdown",
   "id": "53c2fa92-dfa9-4754-b1ce-7b49b40f96c3",
   "metadata": {},
   "source": [
    "$$ C_n = \\frac{2}{L}\\left[\\int_{0}^{\\frac{L}{2}} x\\sin{(\\frac{n\\pi x}{L})} \\, dx + \\int_{\\frac{L}{2}}^{L} (L-x)\\sin{(\\frac{n\\pi x}{L})} \\, dx\\right].$$ "
   ]
  },
  {
   "cell_type": "markdown",
   "id": "b5b9b5d7-b3e4-412b-bbc6-26d8db120eb4",
   "metadata": {},
   "source": [
    "$$\\implies C_n = \\frac{2}{L}\\left[-\\frac{L^2}{2n\\pi}\\cos{\\left(\\frac{\\pi}{2}n\\right)} + \\frac{L^2}{n^2\\pi^2}\\sin{\\left(\\frac{\\pi}{2}n\\right)} + \\frac{L^2}{2n\\pi}\\cos{\\left(\\frac{\\pi}{2}n\\right)} + \\frac{L^2}{n^2\\pi^2}\\sin{\\left(\\frac{\\pi}{2}n\\right)}\\right].$$"
   ]
  },
  {
   "cell_type": "markdown",
   "id": "a4837e03-1b2c-489f-84f7-6a73fd8f5969",
   "metadata": {},
   "source": [
    "$$ \\implies C_n = \\frac{2}{L}\\left[\\frac{2L^2}{n^2\\pi^2}\\sin{\\left(\\frac{\\pi}{2}n\\right)}\\right].$$"
   ]
  },
  {
   "cell_type": "markdown",
   "id": "678a6f7b-0a08-4080-80c4-5419ea6f7926",
   "metadata": {},
   "source": [
    "$$\\implies C_n = \\frac{4L}{n^2\\pi^2}\\sin{\\left(\\frac{\\pi}{2}n\\right)}.$$"
   ]
  },
  {
   "cell_type": "markdown",
   "id": "89a56e67-4fd7-4d0c-bff9-70a216129e04",
   "metadata": {},
   "source": [
    "$\\quad$ Os primeiros termos da sequência serão:"
   ]
  },
  {
   "cell_type": "markdown",
   "id": "3dc2c4d6-196b-43f0-bee5-9093483bb5e7",
   "metadata": {},
   "source": [
    "$$ C_1 = \\frac{4L}{1^2\\pi^2}\\sin{\\left(\\frac{\\pi}{2}1\\right)} = \\frac{4L}{1^2\\pi^2}.$$"
   ]
  },
  {
   "cell_type": "markdown",
   "id": "50e2eb77-83b3-4e55-8cb1-e7385dc34bd2",
   "metadata": {},
   "source": [
    "$$ C_2 = \\frac{4L}{2^2\\pi^2}\\sin{\\left(\\frac{\\pi}{2}2\\right)} = 0.$$"
   ]
  },
  {
   "cell_type": "markdown",
   "id": "5bccbe6a-59aa-4a64-9424-923697e624bc",
   "metadata": {},
   "source": [
    "$$ C_3 = \\frac{4L}{3^2\\pi^2}\\sin{\\left(\\frac{\\pi}{2}3\\right)} = -\\frac{4L}{3^2\\pi^2}.$$"
   ]
  },
  {
   "cell_type": "markdown",
   "id": "2d028f92-6667-4e9f-ab0d-725666a89c51",
   "metadata": {},
   "source": [
    "$$ C_4 = \\frac{4L}{4^2\\pi^2}\\sin{\\left(\\frac{\\pi}{2}4\\right)} = 0.$$"
   ]
  },
  {
   "cell_type": "markdown",
   "id": "add2692c-099b-4fb4-9889-4f45bdfdd92b",
   "metadata": {},
   "source": [
    "$\\quad$ Pelo padrão, percebemos que a sequência será alternada nos $n$ ímpares e nula para $n$ par. Assim:"
   ]
  },
  {
   "cell_type": "markdown",
   "id": "50faca2a-101e-477e-83bf-eeec89fb3747",
   "metadata": {},
   "source": [
    "$$ \\therefore \\boxed{C_n  = \n",
    "\\begin{cases} \n",
    "    \\frac{4L}{n^2\\pi^2} (-1)^{\\left(\\frac{n-1}{2}\\right)}, & \\text{se n for ímpar} \\\\\n",
    "    0, & \\text{se n for par}  \n",
    "\\end{cases}}.$$"
   ]
  },
  {
   "cell_type": "markdown",
   "id": "9ba2f7a8",
   "metadata": {},
   "source": [
    "$\\quad$ A expressão acima nos informa o valor do n-ésimo coeficiente de Fourier para a função $f(x)$ definida. Nota-se que o valor de $C_n$ decaí com o fator $\\frac{1}{n^2}$. Assim, os primeiros termos acabam tendo uma influência bem maior no somatório do que os termos cujo $n$ é muito grande. Tal fato será aproveitado para truncar o somatório num dado valor de $n$, não realizando o somatório até infinito."
   ]
  },
  {
   "cell_type": "markdown",
   "id": "47377e0c",
   "metadata": {},
   "source": [
    "## Conclusão"
   ]
  },
  {
   "cell_type": "markdown",
   "id": "1fa76a2c",
   "metadata": {},
   "source": []
  },
  {
   "cell_type": "markdown",
   "id": "cbf16876",
   "metadata": {},
   "source": []
  },
  {
   "cell_type": "markdown",
   "id": "08efbeb0",
   "metadata": {},
   "source": [
    "## Referências "
   ]
  },
  {
   "cell_type": "markdown",
   "id": "7ce5c3d4",
   "metadata": {},
   "source": [
    "**[1]** William E. Boyce; Richard C. DiPrima. Equações Diferenciais Elementares e Problemas de Valores de Contorno. 8. Ed. LTC, 2012.\n",
    "\n",
    "**[2]** *Mark Newman - Computational Physics (2013, University of Michigan)*"
   ]
  }
 ],
 "metadata": {
  "kernelspec": {
   "display_name": "base",
   "language": "python",
   "name": "python3"
  },
  "language_info": {
   "codemirror_mode": {
    "name": "ipython",
    "version": 3
   },
   "file_extension": ".py",
   "mimetype": "text/x-python",
   "name": "python",
   "nbconvert_exporter": "python",
   "pygments_lexer": "ipython3",
   "version": "3.12.7"
  }
 },
 "nbformat": 4,
 "nbformat_minor": 5
}
