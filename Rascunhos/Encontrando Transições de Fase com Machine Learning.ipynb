{
 "cells": [
  {
   "cell_type": "markdown",
   "id": "1309425b-a721-46b6-b375-8a7a38c1db86",
   "metadata": {},
   "source": [
    "# Encontrando Transições de Fase com Machine Learning"
   ]
  },
  {
   "cell_type": "markdown",
   "id": "2182be02-6504-4bbf-8c24-8d2e680cfe7e",
   "metadata": {},
   "source": [
    "* PET - Física UFRN\n",
    "* Petiano: Tiago Pernambuco Toledo de Macêdo\n",
    "* Data: 03/01/2025"
   ]
  },
  {
   "cell_type": "markdown",
   "id": "4befdf9f-37f8-4da8-bf5d-55c3c2ff3f48",
   "metadata": {},
   "source": [
    "## Importando Bibliotecas"
   ]
  },
  {
   "cell_type": "code",
   "execution_count": 1,
   "id": "babe4ea9-4fd9-4884-b4d7-90df081cdb2f",
   "metadata": {},
   "outputs": [],
   "source": [
    "import numpy as np\n",
    "import matplotlib.pyplot as plt\n",
    "import pandas as pd \n",
    "import scipy as sp\n",
    "from sklearn.cluster import KMeans\n",
    "from tqdm import tqdm"
   ]
  },
  {
   "cell_type": "markdown",
   "id": "ecfee59d-7b11-41b1-80de-d085db2137ea",
   "metadata": {},
   "source": [
    "## Detalhes das Bibliotecas"
   ]
  },
  {
   "cell_type": "code",
   "execution_count": 2,
   "id": "15adb276-f6fb-4662-be1b-f1f5b79ea296",
   "metadata": {},
   "outputs": [
    {
     "data": {
      "application/json": {
       "Software versions": [
        {
         "module": "Python",
         "version": "3.11.9 64bit [MSC v.1938 64 bit (AMD64)]"
        },
        {
         "module": "IPython",
         "version": "8.29.0"
        },
        {
         "module": "OS",
         "version": "Windows 10 10.0.22631 SP0"
        },
        {
         "module": "Numpy",
         "version": "2.1.3"
        },
        {
         "module": "Scipy",
         "version": "1.14.1"
        },
        {
         "module": "Matplotlib",
         "version": "3.9.2"
        },
        {
         "module": "Pandas",
         "version": "2.2.3"
        },
        {
         "module": "Scikit-Learn",
         "version": "1.6.0"
        },
        {
         "module": "tqdm",
         "version": "4.67.1"
        }
       ]
      },
      "text/html": [
       "<table><tr><th>Software</th><th>Version</th></tr><tr><td>Python</td><td>3.11.9 64bit [MSC v.1938 64 bit (AMD64)]</td></tr><tr><td>IPython</td><td>8.29.0</td></tr><tr><td>OS</td><td>Windows 10 10.0.22631 SP0</td></tr><tr><td>Numpy</td><td>2.1.3</td></tr><tr><td>Scipy</td><td>1.14.1</td></tr><tr><td>Matplotlib</td><td>3.9.2</td></tr><tr><td>Pandas</td><td>2.2.3</td></tr><tr><td>Scikit-Learn</td><td>1.6.0</td></tr><tr><td>tqdm</td><td>4.67.1</td></tr><tr><td colspan='2'>Thu Jan 02 13:19:46 2025 Hora Padrão de Buenos Aires</td></tr></table>"
      ],
      "text/latex": [
       "\\begin{tabular}{|l|l|}\\hline\n",
       "{\\bf Software} & {\\bf Version} \\\\ \\hline\\hline\n",
       "Python & 3.11.9 64bit [MSC v.1938 64 bit (AMD64)] \\\\ \\hline\n",
       "IPython & 8.29.0 \\\\ \\hline\n",
       "OS & Windows 10 10.0.22631 SP0 \\\\ \\hline\n",
       "Numpy & 2.1.3 \\\\ \\hline\n",
       "Scipy & 1.14.1 \\\\ \\hline\n",
       "Matplotlib & 3.9.2 \\\\ \\hline\n",
       "Pandas & 2.2.3 \\\\ \\hline\n",
       "Scikit-Learn & 1.6.0 \\\\ \\hline\n",
       "tqdm & 4.67.1 \\\\ \\hline\n",
       "\\hline \\multicolumn{2}{|l|}{Thu Jan 02 13:19:46 2025 Hora Padrão de Buenos Aires} \\\\ \\hline\n",
       "\\end{tabular}\n"
      ],
      "text/plain": [
       "Software versions\n",
       "Python 3.11.9 64bit [MSC v.1938 64 bit (AMD64)]\n",
       "IPython 8.29.0\n",
       "OS Windows 10 10.0.22631 SP0\n",
       "Numpy 2.1.3\n",
       "Scipy 1.14.1\n",
       "Matplotlib 3.9.2\n",
       "Pandas 2.2.3\n",
       "Scikit-Learn 1.6.0\n",
       "tqdm 4.67.1\n",
       "Thu Jan 02 13:19:46 2025 Hora Padrão de Buenos Aires"
      ]
     },
     "execution_count": 2,
     "metadata": {},
     "output_type": "execute_result"
    }
   ],
   "source": [
    "%load_ext version_information\n",
    "%version_information Numpy, Scipy, Matplotlib, Pandas, Scikit-Learn, tqdm"
   ]
  },
  {
   "cell_type": "markdown",
   "id": "ce692ba0-aba8-46da-a346-8f1c86e4218d",
   "metadata": {},
   "source": [
    "## 1. Introdução"
   ]
  },
  {
   "cell_type": "markdown",
   "id": "3da3b307-5a8b-4214-8e67-0c88dc317219",
   "metadata": {},
   "source": [
    "$\\quad$ O uso de métodos de Machine Learning em aplicação à física da matéria condensada é um fenômeno recente que vem atraindo muita atenção devido ao seu grande potencial de descrever sistemas físicos, uma das maiores aplicações sendo na identificação de transições de fases em sistemas quânticos de muitos corpos. Uma das formas através das quais isso pode ser feito é através de modelos de _clusterização_ de dados, que agrupam dados conforme sua semelhança. Um desses métodos é o K-Means Clustering, que separa os dados em K agrupamentos considerando as distâncias entre pontos diferentes. Neste notebook, aplicaremos o algoritmo K-Means Clustering para obter o diagrama de fase do célebre modelo ANNNI em 1D."
   ]
  },
  {
   "cell_type": "markdown",
   "id": "41b30ea9-5548-4bd9-a29f-793ed6c39957",
   "metadata": {},
   "source": [
    "### 1.1. O Modelo ANNNI"
   ]
  },
  {
   "cell_type": "markdown",
   "id": "675517a2-3b80-467e-87ed-c72ccb10f3ed",
   "metadata": {},
   "source": [
    "$\\quad$ O modelo _Axial Next-Nearest-Neighbor Ising_ (ANNNI) descreve um sistema de spins com interações entre primeiros vizinhos e segundos vizinhos ao longo de um eixo de simetria, além de interações de cada spin da rede com um campo magnético externo e transversal. O modelo ANNNI é razoavelmente simples, mas é de grande importância na física da matéria condensada devido ao seu rico diagrama de fases [1, 2]. O modelo ANNNI foi originalmente proposto em 1961 para descrever o ordenamento magnético em metais terras-raras [3].\n",
    "\n",
    "$\\quad$ Neste `Notebook`, trataremos do modelo ANNNI unidimensional, tal que temos uma cadeia de spins com o eixo de simetria ao longo da cadeia. Nos limitaremos também ao caso no qual as interações entre primeiros vizinhos são ferromagnéticas (tendem a alinhar os spins) enquanto as interações entre segundos vizinhos são antiferromagnéticas (tendem a anti-alinhar os spins). Nessa situação, o operador Hamiltoniano do nosso sistema se escreve:"
   ]
  },
  {
   "cell_type": "markdown",
   "id": "79adbe3e-d54c-44e4-9968-f7fd97c3fb8d",
   "metadata": {},
   "source": [
    "$$ H = -J \\left( \\sum_{i = 0}^{N-1} \\sigma_i^z \\sigma_{i+1}^z - k\\sum_{i = 0}^{N-1} \\sigma_i^z \\sigma_{i+2}^z + g\\sum_{i = 0}^{N-1} \\sigma_i^x  \\right) .\\tag{1}$$"
   ]
  },
  {
   "cell_type": "markdown",
   "id": "fd4b917d-3427-47d7-a9a7-708b6c9c3472",
   "metadata": {},
   "source": [
    "Na expressão acima, $J$ é a intensidade da interação entre primeiros vizinhos, $k$ é a intensidade relativa (a $J$) da interação entre segundos vizinhos e $g$ é a intensidade relativa (também a $J$) do campo magnético externo. As matrizes $\\sigma_i^\\gamma$ ($\\gamma = x, y, z$) são as matrizes de Pauli agindo no $i-ésimo$ spin e são definidas por:"
   ]
  },
  {
   "cell_type": "markdown",
   "id": "5cfd2593-e8f7-4d24-b1a1-de77777df9b7",
   "metadata": {},
   "source": [
    "$$\\sigma_i^\\gamma = \\left[\\bigotimes_{j = 0}^{i - 1} \\mathbb{I}\\right] \\otimes \\sigma^\\gamma \\otimes \\left[\\bigotimes_{j = i + 1}^{N - 1} \\mathbb{I}\\right]. \\tag{2}$$"
   ]
  },
  {
   "cell_type": "markdown",
   "id": "c49cd108-90a1-4f84-b875-030b60880c98",
   "metadata": {},
   "source": [
    "Onde $\\otimes$ representa o produto tensorial e:"
   ]
  },
  {
   "cell_type": "markdown",
   "id": "b98f42c4-81d8-4599-b9d1-1200a62e6950",
   "metadata": {},
   "source": [
    "$$ \\mathbb{I} = \\begin{pmatrix} 1 && 0 \\\\ 0 && 1\\end{pmatrix}. $$"
   ]
  },
  {
   "cell_type": "markdown",
   "id": "df3babdc-f123-4750-9f67-c677440aafaf",
   "metadata": {},
   "source": [
    "$$ \\sigma^x = \\begin{pmatrix} 0 && 1 \\\\ 1 && 0\\end{pmatrix}. $$"
   ]
  },
  {
   "cell_type": "markdown",
   "id": "52884c0a-e9c5-4658-9598-58749689d014",
   "metadata": {},
   "source": [
    "$$ \\sigma^y = \\begin{pmatrix} 0 && -i \\\\ i && 0\\end{pmatrix}. $$"
   ]
  },
  {
   "cell_type": "markdown",
   "id": "20370af8-0836-4ac2-86e1-ffe584d0f88f",
   "metadata": {},
   "source": [
    "$$ \\sigma^z = \\begin{pmatrix} 1 && 0 \\\\ 0 && -1\\end{pmatrix}. $$"
   ]
  },
  {
   "cell_type": "markdown",
   "id": "4ebdec88-f919-4003-8060-2e69e5839d46",
   "metadata": {},
   "source": [
    "### 1.2. K-Means Clustering"
   ]
  },
  {
   "cell_type": "markdown",
   "id": "92905434-09dc-4d48-82cb-bde480e41f77",
   "metadata": {},
   "source": [
    "$\\quad$ O algoritmo K-Means Clustering é, como o nome diz, um algoritmo de clusterização. Isso significa que, dado um conjunto de dados e um número de clusters (agrupamentos) $K$, o algoritmo busca separar os dados em $K$ grupos diferentes com base próximo de cada ponto do conjunto de dados com o centro do cluster mais próximo [4]. Não entraremos em muitos detalhes a respeito do funcionamento do método, mas é evidente, dada a sua descrição, que, dado um conjunto de observáveis adequado como dados, algoritmos como o K-Means devem ser capazes de identificar fases diferentes em um sistema físico."
   ]
  },
  {
   "cell_type": "markdown",
   "id": "384de0f4-3858-4f32-9223-6df4c66cbf5c",
   "metadata": {},
   "source": [
    "## 2. Solução Numérica do Modelo ANNNI"
   ]
  },
  {
   "cell_type": "markdown",
   "id": "fe867f48-26f9-4873-b23d-c3e9e36de8ab",
   "metadata": {},
   "source": [
    "$\\quad$ A primeira coisa que devemos fazer para aplicar o algoritmo K-Means Clustering ao modelo ANNNI é obter os dados que passaremos ao modelo de clusterização. Neste `Notebook`, utilizaremos como dados médias de correladores das seguintes formas:"
   ]
  },
  {
   "cell_type": "markdown",
   "id": "86ccb958-d704-46ca-8d2a-638b0777cd2b",
   "metadata": {},
   "source": [
    "$$\\langle \\sigma_i^\\gamma \\sigma_{i+1}^\\gamma\\rangle,$$"
   ]
  },
  {
   "cell_type": "markdown",
   "id": "432a5e4a-c522-4b1c-ac6d-956b2e7b4dac",
   "metadata": {},
   "source": [
    "$$\\langle \\sigma_i^\\gamma \\sigma_{i+2}^\\gamma\\rangle.$$"
   ]
  },
  {
   "cell_type": "markdown",
   "id": "556f3e00-6cc3-4095-bc4e-d9aa0205c349",
   "metadata": {},
   "source": [
    "Onde os valores médios são calculados no estado fundamental do sistema. Este método foi proposta na referência [5]. Nele, estamos presumindo duas coisas:\n",
    "\n",
    "- As informações relevantes sobre o ground state do modelo ANNNI são bem representadas por correlações entre primeiros e segundos vizinhos. Esta presunção é razoável, uma vez que cada spin só interage com seus primeiros e segundos vizinhos.\n",
    "- Correlações entre spins em direções diferentes não carregam informações relevantes. Isto também é razoável, uma vez que, na definição do nosso Hamiltoniano na Equação (1), não há acoplamentos de interação além dos da forma $\\sigma^\\gamma \\sigma^\\gamma$."
   ]
  },
  {
   "cell_type": "markdown",
   "id": "b7714fca-2ce1-41c9-8dd0-d0b25ffa4fe7",
   "metadata": {},
   "source": [
    "$\\quad$ Para obter esses correladores, vamos primeiro definir as matrizes de Pauli:"
   ]
  },
  {
   "cell_type": "code",
   "execution_count": 3,
   "id": "1ee78e2e-f168-4545-8393-6bcdfff34236",
   "metadata": {},
   "outputs": [],
   "source": [
    "pauli_x = np.array([[0,1],[1,0]]) # Pauli X\n",
    "pauli_y = np.array([[0,-1j],[1j,0]]) # Pauli Y\n",
    "pauli_z = np.array([[1,0],[0,-1]]) # Pauli Z"
   ]
  },
  {
   "cell_type": "markdown",
   "id": "f689e656-d9a2-4c72-9907-5e6fa698b454",
   "metadata": {},
   "source": [
    "$\\quad$ Com as matrizes de Pauli definidas, podemos criar uma função para construir os operadores da forma descrita na Equação (2):"
   ]
  },
  {
   "cell_type": "code",
   "execution_count": 4,
   "id": "18e491b2-7b98-46f8-9037-040f9bd3f7b7",
   "metadata": {},
   "outputs": [],
   "source": [
    "# A função Opi dado um operador (matriz) O, uma posição na cadeia de spins i e o número total de spins N, constrói um operador da forma da Equação (2).\n",
    "def Opi(O,i, N):\n",
    "    if(i<N):\n",
    "        return sp.linalg.kron(sp.linalg.kron(np.identity(2**i), O),np.identity(2**(N-1-i)))\n",
    "    elif(i==N):\n",
    "        j=0\n",
    "        return sp.linalg.kron(sp.linalg.kron(np.identity(2**j), O),np.identity(2**(N-1-j)))\n",
    "    elif(i==N+1):\n",
    "        j=1\n",
    "        return sp.linalg.kron(sp.linalg.kron(np.identity(2**j), O),np.identity(2**(N-1-j)))"
   ]
  },
  {
   "cell_type": "markdown",
   "id": "faecd805-b9dc-4169-91f9-c70ba79bf0a6",
   "metadata": {},
   "source": [
    "$\\quad$ Na função acima, utilizamos as funções `sp.linalg.kron` da biblioteca Scipy para realizar o produto tensorial e `np.identity` do Numpy para evocar a matriz identidade."
   ]
  },
  {
   "cell_type": "markdown",
   "id": "a4df0780-da61-41ad-b21c-cc2852b5d4bd",
   "metadata": {},
   "source": [
    "$\\quad$ Agora que temos os ingredientes básicos do nosso Hamiltoniano, construamos ele como está escrito na Equação (1):"
   ]
  },
  {
   "cell_type": "code",
   "execution_count": 5,
   "id": "5c5714ac-25ca-4663-8258-06b153f4ce0d",
   "metadata": {},
   "outputs": [],
   "source": [
    "# Dados os valores de N, J, k e g, essa função constrói o Hamiltoniano como na equação (1).\n",
    "def Hamiltonian(N, J, k, g):\n",
    "    # Inicializando o primeiro termo de H\n",
    "    H1 =  np.zeros((2**N,2**N))\n",
    "\n",
    "    # Inicializando o segundo termo de H\n",
    "    H2 =  np.zeros((2**N,2**N))\n",
    "\n",
    "    # Inicializando o terceiro termo de H\n",
    "    H3 =  np.zeros((2**N,2**N))\n",
    "\n",
    "    # Loop para somar cada termo dos somatórios. O operador de Python @ realiza o produto matricial.\n",
    "    for i in range(N):\n",
    "        H1 += Opi(pauli_z,i, N)@Opi(pauli_z,(i+1)%N, N)\n",
    "        H2 += Opi(pauli_z,i, N)@Opi(pauli_z,(i+2)%N, N)\n",
    "        H3 += Opi(pauli_x,i, N)\n",
    "\n",
    "    # Multiplicando cada termo pelas constantes correspondentes\n",
    "    Ham = -J*(H1 - k*H2 + g*H3)\n",
    "    \n",
    "    return Ham"
   ]
  },
  {
   "cell_type": "markdown",
   "id": "b79b0460-b6ff-4470-ada7-2cb3dcbd2a74",
   "metadata": {},
   "source": [
    "$\\quad$ Tendo esta função feita, podemos montar um Hamiltoniano para fazer um teste:"
   ]
  },
  {
   "cell_type": "code",
   "execution_count": 6,
   "id": "a9bb56ec-0c77-4d27-8ee2-57ed3a2b29dc",
   "metadata": {},
   "outputs": [],
   "source": [
    "H = Hamiltonian(8, 1, 1/2, 1)"
   ]
  },
  {
   "cell_type": "markdown",
   "id": "56e4c282-3934-4424-ac39-7bcdf4bf82f7",
   "metadata": {},
   "source": [
    "$\\quad$ Vamos imprimir a sua forma matricial para visualizar melhor:"
   ]
  },
  {
   "cell_type": "code",
   "execution_count": 7,
   "id": "dacc5346-1955-4ca7-9a02-7643ced503d4",
   "metadata": {},
   "outputs": [
    {
     "name": "stdout",
     "output_type": "stream",
     "text": [
      "[[-4. -1. -1. ... -0. -0. -0.]\n",
      " [-1. -2. -0. ... -0. -0. -0.]\n",
      " [-1. -0. -2. ... -0. -0. -0.]\n",
      " ...\n",
      " [-0. -0. -0. ... -2. -0. -1.]\n",
      " [-0. -0. -0. ... -0. -2. -1.]\n",
      " [-0. -0. -0. ... -1. -1. -4.]]\n"
     ]
    }
   ],
   "source": [
    "print(H)"
   ]
  },
  {
   "cell_type": "markdown",
   "id": "9a9e5db9-bfe8-4ccb-b1d5-cfdc92e23fb7",
   "metadata": {},
   "source": [
    "$\\quad$ Um bom teste para saber se o Hamiltoniano está consistente é verificar se ele é hermitiano, o que garante que seus autovalores (energias permitidas) do sistema são números reais. Podemos fazer isso com a função `sp.linalg.ishermitian()`:"
   ]
  },
  {
   "cell_type": "code",
   "execution_count": 8,
   "id": "8d3b3bc9-64e6-4408-9eb1-ea6ac938580e",
   "metadata": {},
   "outputs": [
    {
     "data": {
      "text/plain": [
       "True"
      ]
     },
     "execution_count": 8,
     "metadata": {},
     "output_type": "execute_result"
    }
   ],
   "source": [
    "sp.linalg.ishermitian(H)"
   ]
  },
  {
   "cell_type": "markdown",
   "id": "7435d7db-e9b0-4b23-baf9-17307ca069c8",
   "metadata": {},
   "source": [
    "$\\quad$ Agora que temos a certeza de que nosso $H$ é hermitiano, usaremos a função `sp.linalg.eigh()` para calcular seus autovalores e autovetores de forma mais eficiente:"
   ]
  },
  {
   "cell_type": "code",
   "execution_count": 9,
   "id": "63bede35-b9db-4378-b224-1a3bea566323",
   "metadata": {},
   "outputs": [
    {
     "data": {
      "text/plain": [
       "(array([-9.57113119e+00, -8.52009031e+00, -8.52009031e+00, -8.03093170e+00,\n",
       "        -7.91179999e+00, -7.91179999e+00, -7.22079845e+00, -7.22079845e+00,\n",
       "        -7.02614606e+00, -7.02614606e+00, -6.96935513e+00, -6.63046754e+00,\n",
       "        -6.55184806e+00, -6.37572469e+00, -6.37572469e+00, -6.31234268e+00,\n",
       "        -6.31234268e+00, -5.88207977e+00, -5.88207977e+00, -5.77343050e+00,\n",
       "        -5.69772732e+00, -5.65683408e+00, -5.65683408e+00, -5.59750190e+00,\n",
       "        -5.48646401e+00, -5.48646401e+00, -5.42243179e+00, -5.23933419e+00,\n",
       "        -5.23933419e+00, -5.17880516e+00, -5.17880516e+00, -5.06417777e+00,\n",
       "        -4.76334301e+00, -4.76334301e+00, -4.46975393e+00, -4.46975393e+00,\n",
       "        -4.44852814e+00, -4.44852814e+00, -4.38099259e+00, -4.38099259e+00,\n",
       "        -4.38071850e+00, -4.24804626e+00, -4.19631885e+00, -4.19631885e+00,\n",
       "        -4.17134142e+00, -4.08006868e+00, -4.08006868e+00, -4.01784680e+00,\n",
       "        -4.01784680e+00, -4.00000000e+00, -4.00000000e+00, -3.86136681e+00,\n",
       "        -3.86136681e+00, -3.75134012e+00, -3.31322750e+00, -3.31322750e+00,\n",
       "        -3.25380495e+00, -3.25380495e+00, -3.24213391e+00, -3.24213391e+00,\n",
       "        -3.20127728e+00, -3.13604660e+00, -3.13604660e+00, -3.06607588e+00,\n",
       "        -3.01696240e+00, -2.95082879e+00, -2.86573642e+00, -2.86573642e+00,\n",
       "        -2.82316060e+00, -2.76769114e+00, -2.76769114e+00, -2.70879173e+00,\n",
       "        -2.70879173e+00, -2.70360248e+00, -2.70360248e+00, -2.69459271e+00,\n",
       "        -2.64969646e+00, -2.62912671e+00, -2.62912671e+00, -2.49641649e+00,\n",
       "        -2.49641649e+00, -2.29328942e+00, -2.29328942e+00, -2.12432947e+00,\n",
       "        -2.12432947e+00, -2.11318295e+00, -2.11318295e+00, -2.07910966e+00,\n",
       "        -2.00000000e+00, -2.00000000e+00, -2.00000000e+00, -1.92714800e+00,\n",
       "        -1.91241310e+00, -1.91241310e+00, -1.88016671e+00, -1.48181511e+00,\n",
       "        -1.48181511e+00, -1.41571765e+00, -1.35928637e+00, -1.33566050e+00,\n",
       "        -1.28732767e+00, -1.28732767e+00, -1.20015064e+00, -1.20015064e+00,\n",
       "        -1.19676940e+00, -1.19676940e+00, -1.18099628e+00, -1.18099628e+00,\n",
       "        -1.05819019e+00, -1.05819019e+00, -9.44491161e-01, -9.22540142e-01,\n",
       "        -9.22540142e-01, -8.11440792e-01, -8.11440792e-01, -7.36510345e-01,\n",
       "        -7.07752231e-01, -7.07752231e-01, -7.00796546e-01, -7.00796546e-01,\n",
       "        -6.92411835e-01, -6.18207569e-01, -6.18207569e-01, -5.73480237e-01,\n",
       "        -5.73480237e-01, -5.52800120e-01, -5.52800120e-01, -5.47957704e-01,\n",
       "        -3.51337565e-01, -3.51337565e-01, -1.16115976e-01, -1.16115976e-01,\n",
       "        -4.81316832e-02, -4.81316832e-02, -1.06373359e-15,  6.01199220e-16,\n",
       "         8.17853953e-16,  3.44723016e-15,  8.90910840e-15,  1.28708994e-01,\n",
       "         1.28708994e-01,  2.01895581e-01,  4.61733472e-01,  4.61733472e-01,\n",
       "         5.89100636e-01,  5.89100636e-01,  5.96853981e-01,  5.96853981e-01,\n",
       "         7.12247404e-01,  7.12247404e-01,  7.34877563e-01,  7.34877563e-01,\n",
       "         7.64106408e-01,  8.80961188e-01,  8.80961188e-01,  8.98816412e-01,\n",
       "         8.98816412e-01,  1.06277328e+00,  1.11324758e+00,  1.29778414e+00,\n",
       "         1.29778414e+00,  1.30649047e+00,  1.32357825e+00,  1.32357825e+00,\n",
       "         1.48745725e+00,  1.48745725e+00,  1.60935964e+00,  1.60935964e+00,\n",
       "         1.65156910e+00,  1.75877048e+00,  1.78339094e+00,  1.78339094e+00,\n",
       "         1.87288122e+00,  1.87288122e+00,  1.93936068e+00,  2.00000000e+00,\n",
       "         2.06727152e+00,  2.06727152e+00,  2.07997014e+00,  2.09004027e+00,\n",
       "         2.09004027e+00,  2.18546057e+00,  2.30021790e+00,  2.39125386e+00,\n",
       "         2.42343701e+00,  2.42343701e+00,  2.48894104e+00,  2.48894104e+00,\n",
       "         2.70426968e+00,  2.70426968e+00,  2.92827220e+00,  2.92827220e+00,\n",
       "         2.93067096e+00,  2.97562768e+00,  2.97562768e+00,  3.13679554e+00,\n",
       "         3.13679554e+00,  3.19283876e+00,  3.22209069e+00,  3.22209069e+00,\n",
       "         3.24469875e+00,  3.39068173e+00,  3.39068173e+00,  3.58444137e+00,\n",
       "         3.58444137e+00,  3.63071707e+00,  3.63071707e+00,  3.73553001e+00,\n",
       "         3.73856575e+00,  3.73856575e+00,  4.00383403e+00,  4.00383403e+00,\n",
       "         4.13980782e+00,  4.26320302e+00,  4.26320302e+00,  4.32922012e+00,\n",
       "         4.50529626e+00,  4.50529626e+00,  4.59228615e+00,  4.72467967e+00,\n",
       "         4.99725711e+00,  4.99725711e+00,  5.08469949e+00,  5.25027743e+00,\n",
       "         5.25027743e+00,  5.40085218e+00,  5.50257099e+00,  5.59702269e+00,\n",
       "         5.59702269e+00,  5.80501469e+00,  5.80501469e+00,  5.84342513e+00,\n",
       "         5.84342513e+00,  6.67338878e+00,  6.72311578e+00,  6.72311578e+00,\n",
       "         6.82569201e+00,  6.82569201e+00,  7.29665787e+00,  7.29665787e+00,\n",
       "         7.31637744e+00,  7.41349660e+00,  7.41349660e+00,  7.45951623e+00,\n",
       "         7.64258468e+00,  7.64258468e+00,  7.67457822e+00,  7.67457822e+00,\n",
       "         8.02379288e+00,  8.02379288e+00,  8.13254129e+00,  8.77213220e+00,\n",
       "         8.77213220e+00,  9.26654797e+00,  1.33450367e+01,  1.33551240e+01]),\n",
       " array([[-9.41036423e-02,  6.49657609e-17,  2.14296179e-18, ...,\n",
       "          1.63692067e-02,  4.82853525e-17,  2.33940627e-03],\n",
       "        [-6.55329671e-02,  3.20031812e-03, -5.52481924e-02, ...,\n",
       "         -2.71453583e-02,  3.91179687e-03, -5.07508574e-03],\n",
       "        [-6.55329671e-02, -3.68034048e-02, -4.13293381e-02, ...,\n",
       "         -2.71453583e-02, -3.91179687e-03, -5.07508574e-03],\n",
       "        ...,\n",
       "        [-6.55329671e-02,  3.68034048e-02,  4.13293381e-02, ...,\n",
       "         -2.71453583e-02,  3.91179687e-03, -5.07508574e-03],\n",
       "        [-6.55329671e-02, -3.20031812e-03,  5.52481924e-02, ...,\n",
       "         -2.71453583e-02, -3.91179687e-03, -5.07508574e-03],\n",
       "        [-9.41036423e-02, -2.99239800e-17,  6.93889390e-18, ...,\n",
       "          1.63692067e-02,  5.37764278e-17,  2.33940627e-03]]))"
      ]
     },
     "execution_count": 9,
     "metadata": {},
     "output_type": "execute_result"
    }
   ],
   "source": [
    "sp.linalg.eigh(H)"
   ]
  },
  {
   "cell_type": "markdown",
   "id": "daecb4f5-71c8-49fa-9208-193cf995dd25",
   "metadata": {},
   "source": [
    "$\\quad$ Agora que temos as funções necessárias para construir nosso sistema físico, vamos obter nossos dados e começar a aplicar o K-Means Clustering."
   ]
  },
  {
   "cell_type": "markdown",
   "id": "6ec0a858-b14a-4f7c-92b3-12b6a15a8255",
   "metadata": {},
   "source": [
    "## 3. Encontrando Transições de Fase com K-Means Clustering"
   ]
  },
  {
   "cell_type": "markdown",
   "id": "2124ad70-be85-4599-bf8c-e7cfac40eaa6",
   "metadata": {},
   "source": [
    "$\\quad$ Para utilizar o K-Means Clustering, primeiro precisamos definir um conjunto com os observáveis que podemos querer analisar. Para tratar dos conjuntos de dados, utilizaremos os DataFrames da biblioteca Pandas:"
   ]
  },
  {
   "cell_type": "code",
   "execution_count": 10,
   "id": "e0e346fa-cd04-4685-99d8-59456b86bad0",
   "metadata": {},
   "outputs": [],
   "source": [
    "data = pd.DataFrame() # Definindo o DataFrame do Pandas\n",
    "data['k'] = [] # Guardar o valor de k\n",
    "data['g'] = [] # Guardar o valor de g\n",
    "data['E'] = [] # Guardar o valor de E, a energia do estado fundamental\n",
    "data['GS'] = [] # Guardar o vetor de estado do estado fundamental, GS\n",
    "data['PVX'] = [] # Guardar correladores entre primeiros vizinhos na direção x\n",
    "data['SVX'] = [] # Guardar correladores entre segundos vizinhos na direção x\n",
    "data['PVY'] = [] # Guardar correladores entre primeiros vizinhos na direção y\n",
    "data['SVY'] = [] # Guardar correladores entre segundos vizinhos na direção y\n",
    "data['PVZ'] = [] # Guardar correladores entre primeiros vizinhos na direção z\n",
    "data['SVZ'] = [] # Guardar correladores entre segundos vizinhos na direção z"
   ]
  },
  {
   "cell_type": "markdown",
   "id": "84095182-ac90-43d9-938c-2d06b61f60ca",
   "metadata": {},
   "source": [
    "$\\quad$ Como estaremos calculando muitos correladores, será útil definir funções para computá-los mais eficientemente:"
   ]
  },
  {
   "cell_type": "code",
   "execution_count": 11,
   "id": "07e0e3e5-ae5d-4441-8b01-1f4948446128",
   "metadata": {},
   "outputs": [],
   "source": [
    "# Esta função calcula uma única correlação da forma discutida na Seção 2.\n",
    "def Corr(O, i, j, N, state):\n",
    "\n",
    "    # Definindo os operadores\n",
    "    Oi = Opi(O, i, N)\n",
    "    Oj = Opi(O, j, N)\n",
    "\n",
    "    # Calculando o valor esperado do produto de Oi e Oj\n",
    "    corr = np.dot(np.conjugate(state.T),np.dot(Oi@Oj,state))\n",
    "    \n",
    "    return corr"
   ]
  },
  {
   "cell_type": "code",
   "execution_count": 12,
   "id": "c75b2c41-4414-4dcb-aaf8-5401e291f5ce",
   "metadata": {},
   "outputs": [],
   "source": [
    "# Esta função calcula todos os correladores relevantes para um dado Ground State de N spins.\n",
    "def CorrsGS(ground_state, N):\n",
    "    Corrs = {\n",
    "    'PVX':[],\n",
    "    'SVX': [],\n",
    "    'PVY': [],\n",
    "    'SVY':[],\n",
    "    'PVZ':[],\n",
    "    'SVZ': []\n",
    "    }\n",
    "    for i in range(N):\n",
    "        Corrs[\"PVX\"].append(Corr(O = pauli_x, i = i, j = i+1 , N = N, state = ground_state)) # Primeiros vizinhos em x\n",
    "        Corrs[\"SVX\"].append(Corr(O = pauli_x, i = i, j = i+2 , N = N, state = ground_state)) # Segundos vizinhos em x\n",
    "\n",
    "        Corrs[\"PVY\"].append(Corr(O = pauli_y, i = i, j = i+1, N = N, state = ground_state)) # Primeiros vizinhos em y\n",
    "        Corrs[\"SVY\"].append(Corr(O = pauli_y, i = i, j = i+2, N = N, state = ground_state)) # Segundos vizinhos em y\n",
    "\n",
    "        Corrs[\"PVZ\"].append(Corr(O = pauli_z, i = i, j = i+1, N = N, state = ground_state)) # Primeiros vizinhos em z\n",
    "        Corrs[\"SVZ\"].append(Corr(O = pauli_z, i = i, j = i+2, N = N, state = ground_state)) # Segundos vizinhos em z\n",
    "    \n",
    "    return Corrs"
   ]
  },
  {
   "cell_type": "markdown",
   "id": "7e6fa2ec-be51-4f05-a956-19ae3a7decb8",
   "metadata": {},
   "source": [
    "$\\quad$ Com essas funções definidas, podemos passar ao loop principal para a obtenção dos dados. Calcularemos os valores dos correladores para diversos valores de $k$ e $g$ com $J = 1$ fixo para um sistema de $N = 8$ spins."
   ]
  },
  {
   "cell_type": "code",
   "execution_count": 13,
   "id": "62d33390-835c-4bea-bc79-7cf994a68d12",
   "metadata": {},
   "outputs": [
    {
     "name": "stderr",
     "output_type": "stream",
     "text": [
      "100%|██████████| 21/21 [01:18<00:00,  3.75s/it]\n"
     ]
    }
   ],
   "source": [
    "# Definindo passos e ranges de k e g\n",
    "dk = 0.05\n",
    "dg = 0.05\n",
    "krange = np.arange(0, 1 + dk, dk)\n",
    "grange = np.arange(0, 1 + dg, dg)\n",
    "\n",
    "# Definindo vetores para guardar quantidades relevantes\n",
    "kvec = []\n",
    "gvec = []\n",
    "Evec = []\n",
    "GSvec = []\n",
    "PVXvec = []\n",
    "SVXvec = []\n",
    "PVYvec = []\n",
    "SVYvec = []\n",
    "PVZvec = []\n",
    "SVZvec = []\n",
    "\n",
    "# Definindo constantes fixas\n",
    "N = 8\n",
    "J = 1\n",
    "\n",
    "# Loop principal\n",
    "for k in tqdm(krange):\n",
    "    for g in grange:\n",
    "\n",
    "        # Para cada par de valores de k e g, construimos o Hamiltoniano e computamos seus autovetores e autovalores\n",
    "        Ham = Hamiltonian(N = N, J = J, k = k, g = g)\n",
    "        autovalores, autovetores = sp.linalg.eigh(Ham)\n",
    "\n",
    "        # Como estamos interessados no estado fundamental, tomamos apenas a menor autoenergia e seu autoestado correspondente\n",
    "        E = autovalores[0]\n",
    "        GS = autovetores[:, 0]\n",
    "\n",
    "        # Utilizando a função CorrsGS para calcular os correladores\n",
    "        Corrs = CorrsGS(GS, N)\n",
    "\n",
    "        # Guardando os dados para estes k e g nos vetores\n",
    "        kvec.append(k)\n",
    "        gvec.append(g)\n",
    "        Evec.append(E)\n",
    "        GSvec.append(GS)\n",
    "\n",
    "        # Guardando as médias dos correladores\n",
    "        PVXvec.append(np.mean(Corrs['PVX']).real)\n",
    "        SVXvec.append(np.mean(Corrs['SVX']).real)\n",
    "        PVYvec.append(np.mean(Corrs['PVY']).real)\n",
    "        SVYvec.append(np.mean(Corrs['SVY']).real)\n",
    "        PVZvec.append(np.mean(Corrs['PVZ']).real)\n",
    "        SVZvec.append(np.mean(Corrs['SVZ']).real)\n",
    "\n",
    "# Guardando os vetores em nosso DataFrame\n",
    "data['k'] = kvec\n",
    "data['g'] = gvec\n",
    "data['E'] = Evec\n",
    "data['GS'] = GSvec\n",
    "data['PVX'] = PVXvec\n",
    "data['SVX'] = SVXvec\n",
    "data['PVY'] = PVYvec\n",
    "data['SVY'] = SVYvec\n",
    "data['PVZ'] = PVZvec\n",
    "data['SVZ'] = SVZvec"
   ]
  },
  {
   "cell_type": "markdown",
   "id": "354bf0b0-c89d-4fce-89da-5f7dae588cb0",
   "metadata": {},
   "source": [
    "$\\quad$ Agora que temos nossos dados, precisamos de mais uma coisa para aplicar o método K-Means Clustering: saber o número $K$ de clusters que queremos. Naturalmente, este valor deve ser o número de fases que o nosso sistema apresenta. Esse número, porém, é no geral desconhecido. Para estimá-lo, utilizaremos o chamado “Elbow Method”, ou “Método do Cotovelo”, em português. O método consiste em calcular a “Inércia” do conjunto de dados clusterizado para diferentes valores de $K$ e escolher o $K$ para o qual a Inércia começa a se estabilizar, mostrando convergência do método. A Inércia é definida como:"
   ]
  },
  {
   "cell_type": "markdown",
   "id": "ad0f231f-d4bb-42d1-bed7-b287e1c104fd",
   "metadata": {},
   "source": [
    "$$I = \\sum_{i = 1}^{n} d(x_i, c_j^*)^2. $$"
   ]
  },
  {
   "cell_type": "markdown",
   "id": "57a61118-8ac6-45ae-987b-12f883a583c3",
   "metadata": {},
   "source": [
    "Onde $d(x_i, c_j^*)$ é a distância euclidiana entre o ponto $x_i$ e o centro do j-ésimo cluster, $c_j^*$ e $n$ é o número de valores no conjunto de dados."
   ]
  },
  {
   "cell_type": "markdown",
   "id": "65c09767-d124-48aa-8789-a9c0cf69c31b",
   "metadata": {},
   "source": [
    "$\\quad$ Como o modelo ANNNI unidimensional é bastante simples, esperamos que não haja um número muito grande de fases. Determinaremos a Inércia para $K = 1,...,6$ para aplicar o método do cotovelo:"
   ]
  },
  {
   "cell_type": "code",
   "execution_count": 14,
   "id": "4cdcb66f-6be5-4e7f-b9a7-b42a37de13c7",
   "metadata": {},
   "outputs": [],
   "source": [
    "Inertia = []\n",
    "for i in range(1, 7):\n",
    "    # Inicializando o modelo KMeans\n",
    "    km = KMeans(n_clusters = i, init = 'k-means++', algorithm = 'lloyd')\n",
    "\n",
    "    # Fazendo o fit do modelo aos nossos dados dos correladores apenas\n",
    "    km.fit(data.drop(['k', 'g', 'E', 'GS'], axis = 'columns'))\n",
    "    Inertia.append(km.inertia_)"
   ]
  },
  {
   "cell_type": "markdown",
   "id": "e942242d-aaea-4f50-aafd-c10612632aaf",
   "metadata": {},
   "source": [
    "$\\quad$ Com os valores de inércia calculados, plotemos eles em um gráfico:"
   ]
  },
  {
   "cell_type": "code",
   "execution_count": 15,
   "id": "0e63889e-56ad-40a3-910b-a8aafb311bbe",
   "metadata": {},
   "outputs": [
    {
     "data": {
      "text/plain": [
       "Text(0, 0.5, 'Inércia')"
      ]
     },
     "execution_count": 15,
     "metadata": {},
     "output_type": "execute_result"
    },
    {
     "data": {
      "image/png": "[encoded data removed]",
      "text/plain": [
       "<Figure size 640x480 with 1 Axes>"
      ]
     },
     "metadata": {},
     "output_type": "display_data"
    }
   ],
   "source": [
    "plt.plot(range(1, 7), Inertia)\n",
    "plt.xlabel('K')\n",
    "plt.ylabel(\"Inércia\")"
   ]
  },
  {
   "cell_type": "markdown",
   "id": "f3d1045e-a28d-49d8-9801-63847a82959d",
   "metadata": {},
   "source": [
    "$\\quad$ Podemos claramente ver que entre $K = 3$ e $K = 4$, o comportamento do gráfico muda bastante, tendendo a se estabilizar. Isso indica que devemos procurar 3 ou 4 fases diferentes no nosso modelo. Façamos a análise primeiro para 3:"
   ]
  },
  {
   "cell_type": "code",
   "execution_count": 16,
   "id": "e6ae53d8-a858-4ecf-b4d5-d56ebdb528f6",
   "metadata": {},
   "outputs": [],
   "source": [
    "# Definindo o modelo para K = 3\n",
    "model = KMeans(n_clusters = 3, init = 'k-means++', algorithm = 'lloyd')"
   ]
  },
  {
   "cell_type": "code",
   "execution_count": 17,
   "id": "2c23b765-c91b-4af9-9a7a-605fb947cf1c",
   "metadata": {},
   "outputs": [
    {
     "data": {
      "text/html": [
       "<style>#sk-container-id-1 {\n",
       "  /* Definition of color scheme common for light and dark mode */\n",
       "  --sklearn-color-text: #000;\n",
       "  --sklearn-color-text-muted: #666;\n",
       "  --sklearn-color-line: gray;\n",
       "  /* Definition of color scheme for unfitted estimators */\n",
       "  --sklearn-color-unfitted-level-0: #fff5e6;\n",
       "  --sklearn-color-unfitted-level-1: #f6e4d2;\n",
       "  --sklearn-color-unfitted-level-2: #ffe0b3;\n",
       "  --sklearn-color-unfitted-level-3: chocolate;\n",
       "  /* Definition of color scheme for fitted estimators */\n",
       "  --sklearn-color-fitted-level-0: #f0f8ff;\n",
       "  --sklearn-color-fitted-level-1: #d4ebff;\n",
       "  --sklearn-color-fitted-level-2: #b3dbfd;\n",
       "  --sklearn-color-fitted-level-3: cornflowerblue;\n",
       "\n",
       "  /* Specific color for light theme */\n",
       "  --sklearn-color-text-on-default-background: var(--sg-text-color, var(--theme-code-foreground, var(--jp-content-font-color1, black)));\n",
       "  --sklearn-color-background: var(--sg-background-color, var(--theme-background, var(--jp-layout-color0, white)));\n",
       "  --sklearn-color-border-box: var(--sg-text-color, var(--theme-code-foreground, var(--jp-content-font-color1, black)));\n",
       "  --sklearn-color-icon: #696969;\n",
       "\n",
       "  @media (prefers-color-scheme: dark) {\n",
       "    /* Redefinition of color scheme for dark theme */\n",
       "    --sklearn-color-text-on-default-background: var(--sg-text-color, var(--theme-code-foreground, var(--jp-content-font-color1, white)));\n",
       "    --sklearn-color-background: var(--sg-background-color, var(--theme-background, var(--jp-layout-color0, #111)));\n",
       "    --sklearn-color-border-box: var(--sg-text-color, var(--theme-code-foreground, var(--jp-content-font-color1, white)));\n",
       "    --sklearn-color-icon: #878787;\n",
       "  }\n",
       "}\n",
       "\n",
       "#sk-container-id-1 {\n",
       "  color: var(--sklearn-color-text);\n",
       "}\n",
       "\n",
       "#sk-container-id-1 pre {\n",
       "  padding: 0;\n",
       "}\n",
       "\n",
       "#sk-container-id-1 input.sk-hidden--visually {\n",
       "  border: 0;\n",
       "  clip: rect(1px 1px 1px 1px);\n",
       "  clip: rect(1px, 1px, 1px, 1px);\n",
       "  height: 1px;\n",
       "  margin: -1px;\n",
       "  overflow: hidden;\n",
       "  padding: 0;\n",
       "  position: absolute;\n",
       "  width: 1px;\n",
       "}\n",
       "\n",
       "#sk-container-id-1 div.sk-dashed-wrapped {\n",
       "  border: 1px dashed var(--sklearn-color-line);\n",
       "  margin: 0 0.4em 0.5em 0.4em;\n",
       "  box-sizing: border-box;\n",
       "  padding-bottom: 0.4em;\n",
       "  background-color: var(--sklearn-color-background);\n",
       "}\n",
       "\n",
       "#sk-container-id-1 div.sk-container {\n",
       "  /* jupyter's `normalize.less` sets `[hidden] { display: none; }`\n",
       "     but bootstrap.min.css set `[hidden] { display: none !important; }`\n",
       "     so we also need the `!important` here to be able to override the\n",
       "     default hidden behavior on the sphinx rendered scikit-learn.org.\n",
       "     See: https://github.com/scikit-learn/scikit-learn/issues/21755 */\n",
       "  display: inline-block !important;\n",
       "  position: relative;\n",
       "}\n",
       "\n",
       "#sk-container-id-1 div.sk-text-repr-fallback {\n",
       "  display: none;\n",
       "}\n",
       "\n",
       "div.sk-parallel-item,\n",
       "div.sk-serial,\n",
       "div.sk-item {\n",
       "  /* draw centered vertical line to link estimators */\n",
       "  background-image: linear-gradient(var(--sklearn-color-text-on-default-background), var(--sklearn-color-text-on-default-background));\n",
       "  background-size: 2px 100%;\n",
       "  background-repeat: no-repeat;\n",
       "  background-position: center center;\n",
       "}\n",
       "\n",
       "/* Parallel-specific style estimator block */\n",
       "\n",
       "#sk-container-id-1 div.sk-parallel-item::after {\n",
       "  content: \"\";\n",
       "  width: 100%;\n",
       "  border-bottom: 2px solid var(--sklearn-color-text-on-default-background);\n",
       "  flex-grow: 1;\n",
       "}\n",
       "\n",
       "#sk-container-id-1 div.sk-parallel {\n",
       "  display: flex;\n",
       "  align-items: stretch;\n",
       "  justify-content: center;\n",
       "  background-color: var(--sklearn-color-background);\n",
       "  position: relative;\n",
       "}\n",
       "\n",
       "#sk-container-id-1 div.sk-parallel-item {\n",
       "  display: flex;\n",
       "  flex-direction: column;\n",
       "}\n",
       "\n",
       "#sk-container-id-1 div.sk-parallel-item:first-child::after {\n",
       "  align-self: flex-end;\n",
       "  width: 50%;\n",
       "}\n",
       "\n",
       "#sk-container-id-1 div.sk-parallel-item:last-child::after {\n",
       "  align-self: flex-start;\n",
       "  width: 50%;\n",
       "}\n",
       "\n",
       "#sk-container-id-1 div.sk-parallel-item:only-child::after {\n",
       "  width: 0;\n",
       "}\n",
       "\n",
       "/* Serial-specific style estimator block */\n",
       "\n",
       "#sk-container-id-1 div.sk-serial {\n",
       "  display: flex;\n",
       "  flex-direction: column;\n",
       "  align-items: center;\n",
       "  background-color: var(--sklearn-color-background);\n",
       "  padding-right: 1em;\n",
       "  padding-left: 1em;\n",
       "}\n",
       "\n",
       "\n",
       "/* Toggleable style: style used for estimator/Pipeline/ColumnTransformer box that is\n",
       "clickable and can be expanded/collapsed.\n",
       "- Pipeline and ColumnTransformer use this feature and define the default style\n",
       "- Estimators will overwrite some part of the style using the `sk-estimator` class\n",
       "*/\n",
       "\n",
       "/* Pipeline and ColumnTransformer style (default) */\n",
       "\n",
       "#sk-container-id-1 div.sk-toggleable {\n",
       "  /* Default theme specific background. It is overwritten whether we have a\n",
       "  specific estimator or a Pipeline/ColumnTransformer */\n",
       "  background-color: var(--sklearn-color-background);\n",
       "}\n",
       "\n",
       "/* Toggleable label */\n",
       "#sk-container-id-1 label.sk-toggleable__label {\n",
       "  cursor: pointer;\n",
       "  display: flex;\n",
       "  width: 100%;\n",
       "  margin-bottom: 0;\n",
       "  padding: 0.5em;\n",
       "  box-sizing: border-box;\n",
       "  text-align: center;\n",
       "  align-items: start;\n",
       "  justify-content: space-between;\n",
       "  gap: 0.5em;\n",
       "}\n",
       "\n",
       "#sk-container-id-1 label.sk-toggleable__label .caption {\n",
       "  font-size: 0.6rem;\n",
       "  font-weight: lighter;\n",
       "  color: var(--sklearn-color-text-muted);\n",
       "}\n",
       "\n",
       "#sk-container-id-1 label.sk-toggleable__label-arrow:before {\n",
       "  /* Arrow on the left of the label */\n",
       "  content: \"▸\";\n",
       "  float: left;\n",
       "  margin-right: 0.25em;\n",
       "  color: var(--sklearn-color-icon);\n",
       "}\n",
       "\n",
       "#sk-container-id-1 label.sk-toggleable__label-arrow:hover:before {\n",
       "  color: var(--sklearn-color-text);\n",
       "}\n",
       "\n",
       "/* Toggleable content - dropdown */\n",
       "\n",
       "#sk-container-id-1 div.sk-toggleable__content {\n",
       "  max-height: 0;\n",
       "  max-width: 0;\n",
       "  overflow: hidden;\n",
       "  text-align: left;\n",
       "  /* unfitted */\n",
       "  background-color: var(--sklearn-color-unfitted-level-0);\n",
       "}\n",
       "\n",
       "#sk-container-id-1 div.sk-toggleable__content.fitted {\n",
       "  /* fitted */\n",
       "  background-color: var(--sklearn-color-fitted-level-0);\n",
       "}\n",
       "\n",
       "#sk-container-id-1 div.sk-toggleable__content pre {\n",
       "  margin: 0.2em;\n",
       "  border-radius: 0.25em;\n",
       "  color: var(--sklearn-color-text);\n",
       "  /* unfitted */\n",
       "  background-color: var(--sklearn-color-unfitted-level-0);\n",
       "}\n",
       "\n",
       "#sk-container-id-1 div.sk-toggleable__content.fitted pre {\n",
       "  /* unfitted */\n",
       "  background-color: var(--sklearn-color-fitted-level-0);\n",
       "}\n",
       "\n",
       "#sk-container-id-1 input.sk-toggleable__control:checked~div.sk-toggleable__content {\n",
       "  /* Expand drop-down */\n",
       "  max-height: 200px;\n",
       "  max-width: 100%;\n",
       "  overflow: auto;\n",
       "}\n",
       "\n",
       "#sk-container-id-1 input.sk-toggleable__control:checked~label.sk-toggleable__label-arrow:before {\n",
       "  content: \"▾\";\n",
       "}\n",
       "\n",
       "/* Pipeline/ColumnTransformer-specific style */\n",
       "\n",
       "#sk-container-id-1 div.sk-label input.sk-toggleable__control:checked~label.sk-toggleable__label {\n",
       "  color: var(--sklearn-color-text);\n",
       "  background-color: var(--sklearn-color-unfitted-level-2);\n",
       "}\n",
       "\n",
       "#sk-container-id-1 div.sk-label.fitted input.sk-toggleable__control:checked~label.sk-toggleable__label {\n",
       "  background-color: var(--sklearn-color-fitted-level-2);\n",
       "}\n",
       "\n",
       "/* Estimator-specific style */\n",
       "\n",
       "/* Colorize estimator box */\n",
       "#sk-container-id-1 div.sk-estimator input.sk-toggleable__control:checked~label.sk-toggleable__label {\n",
       "  /* unfitted */\n",
       "  background-color: var(--sklearn-color-unfitted-level-2);\n",
       "}\n",
       "\n",
       "#sk-container-id-1 div.sk-estimator.fitted input.sk-toggleable__control:checked~label.sk-toggleable__label {\n",
       "  /* fitted */\n",
       "  background-color: var(--sklearn-color-fitted-level-2);\n",
       "}\n",
       "\n",
       "#sk-container-id-1 div.sk-label label.sk-toggleable__label,\n",
       "#sk-container-id-1 div.sk-label label {\n",
       "  /* The background is the default theme color */\n",
       "  color: var(--sklearn-color-text-on-default-background);\n",
       "}\n",
       "\n",
       "/* On hover, darken the color of the background */\n",
       "#sk-container-id-1 div.sk-label:hover label.sk-toggleable__label {\n",
       "  color: var(--sklearn-color-text);\n",
       "  background-color: var(--sklearn-color-unfitted-level-2);\n",
       "}\n",
       "\n",
       "/* Label box, darken color on hover, fitted */\n",
       "#sk-container-id-1 div.sk-label.fitted:hover label.sk-toggleable__label.fitted {\n",
       "  color: var(--sklearn-color-text);\n",
       "  background-color: var(--sklearn-color-fitted-level-2);\n",
       "}\n",
       "\n",
       "/* Estimator label */\n",
       "\n",
       "#sk-container-id-1 div.sk-label label {\n",
       "  font-family: monospace;\n",
       "  font-weight: bold;\n",
       "  display: inline-block;\n",
       "  line-height: 1.2em;\n",
       "}\n",
       "\n",
       "#sk-container-id-1 div.sk-label-container {\n",
       "  text-align: center;\n",
       "}\n",
       "\n",
       "/* Estimator-specific */\n",
       "#sk-container-id-1 div.sk-estimator {\n",
       "  font-family: monospace;\n",
       "  border: 1px dotted var(--sklearn-color-border-box);\n",
       "  border-radius: 0.25em;\n",
       "  box-sizing: border-box;\n",
       "  margin-bottom: 0.5em;\n",
       "  /* unfitted */\n",
       "  background-color: var(--sklearn-color-unfitted-level-0);\n",
       "}\n",
       "\n",
       "#sk-container-id-1 div.sk-estimator.fitted {\n",
       "  /* fitted */\n",
       "  background-color: var(--sklearn-color-fitted-level-0);\n",
       "}\n",
       "\n",
       "/* on hover */\n",
       "#sk-container-id-1 div.sk-estimator:hover {\n",
       "  /* unfitted */\n",
       "  background-color: var(--sklearn-color-unfitted-level-2);\n",
       "}\n",
       "\n",
       "#sk-container-id-1 div.sk-estimator.fitted:hover {\n",
       "  /* fitted */\n",
       "  background-color: var(--sklearn-color-fitted-level-2);\n",
       "}\n",
       "\n",
       "/* Specification for estimator info (e.g. \"i\" and \"?\") */\n",
       "\n",
       "/* Common style for \"i\" and \"?\" */\n",
       "\n",
       ".sk-estimator-doc-link,\n",
       "a:link.sk-estimator-doc-link,\n",
       "a:visited.sk-estimator-doc-link {\n",
       "  float: right;\n",
       "  font-size: smaller;\n",
       "  line-height: 1em;\n",
       "  font-family: monospace;\n",
       "  background-color: var(--sklearn-color-background);\n",
       "  border-radius: 1em;\n",
       "  height: 1em;\n",
       "  width: 1em;\n",
       "  text-decoration: none !important;\n",
       "  margin-left: 0.5em;\n",
       "  text-align: center;\n",
       "  /* unfitted */\n",
       "  border: var(--sklearn-color-unfitted-level-1) 1pt solid;\n",
       "  color: var(--sklearn-color-unfitted-level-1);\n",
       "}\n",
       "\n",
       ".sk-estimator-doc-link.fitted,\n",
       "a:link.sk-estimator-doc-link.fitted,\n",
       "a:visited.sk-estimator-doc-link.fitted {\n",
       "  /* fitted */\n",
       "  border: var(--sklearn-color-fitted-level-1) 1pt solid;\n",
       "  color: var(--sklearn-color-fitted-level-1);\n",
       "}\n",
       "\n",
       "/* On hover */\n",
       "div.sk-estimator:hover .sk-estimator-doc-link:hover,\n",
       ".sk-estimator-doc-link:hover,\n",
       "div.sk-label-container:hover .sk-estimator-doc-link:hover,\n",
       ".sk-estimator-doc-link:hover {\n",
       "  /* unfitted */\n",
       "  background-color: var(--sklearn-color-unfitted-level-3);\n",
       "  color: var(--sklearn-color-background);\n",
       "  text-decoration: none;\n",
       "}\n",
       "\n",
       "div.sk-estimator.fitted:hover .sk-estimator-doc-link.fitted:hover,\n",
       ".sk-estimator-doc-link.fitted:hover,\n",
       "div.sk-label-container:hover .sk-estimator-doc-link.fitted:hover,\n",
       ".sk-estimator-doc-link.fitted:hover {\n",
       "  /* fitted */\n",
       "  background-color: var(--sklearn-color-fitted-level-3);\n",
       "  color: var(--sklearn-color-background);\n",
       "  text-decoration: none;\n",
       "}\n",
       "\n",
       "/* Span, style for the box shown on hovering the info icon */\n",
       ".sk-estimator-doc-link span {\n",
       "  display: none;\n",
       "  z-index: 9999;\n",
       "  position: relative;\n",
       "  font-weight: normal;\n",
       "  right: .2ex;\n",
       "  padding: .5ex;\n",
       "  margin: .5ex;\n",
       "  width: min-content;\n",
       "  min-width: 20ex;\n",
       "  max-width: 50ex;\n",
       "  color: var(--sklearn-color-text);\n",
       "  box-shadow: 2pt 2pt 4pt #999;\n",
       "  /* unfitted */\n",
       "  background: var(--sklearn-color-unfitted-level-0);\n",
       "  border: .5pt solid var(--sklearn-color-unfitted-level-3);\n",
       "}\n",
       "\n",
       ".sk-estimator-doc-link.fitted span {\n",
       "  /* fitted */\n",
       "  background: var(--sklearn-color-fitted-level-0);\n",
       "  border: var(--sklearn-color-fitted-level-3);\n",
       "}\n",
       "\n",
       ".sk-estimator-doc-link:hover span {\n",
       "  display: block;\n",
       "}\n",
       "\n",
       "/* \"?\"-specific style due to the `<a>` HTML tag */\n",
       "\n",
       "#sk-container-id-1 a.estimator_doc_link {\n",
       "  float: right;\n",
       "  font-size: 1rem;\n",
       "  line-height: 1em;\n",
       "  font-family: monospace;\n",
       "  background-color: var(--sklearn-color-background);\n",
       "  border-radius: 1rem;\n",
       "  height: 1rem;\n",
       "  width: 1rem;\n",
       "  text-decoration: none;\n",
       "  /* unfitted */\n",
       "  color: var(--sklearn-color-unfitted-level-1);\n",
       "  border: var(--sklearn-color-unfitted-level-1) 1pt solid;\n",
       "}\n",
       "\n",
       "#sk-container-id-1 a.estimator_doc_link.fitted {\n",
       "  /* fitted */\n",
       "  border: var(--sklearn-color-fitted-level-1) 1pt solid;\n",
       "  color: var(--sklearn-color-fitted-level-1);\n",
       "}\n",
       "\n",
       "/* On hover */\n",
       "#sk-container-id-1 a.estimator_doc_link:hover {\n",
       "  /* unfitted */\n",
       "  background-color: var(--sklearn-color-unfitted-level-3);\n",
       "  color: var(--sklearn-color-background);\n",
       "  text-decoration: none;\n",
       "}\n",
       "\n",
       "#sk-container-id-1 a.estimator_doc_link.fitted:hover {\n",
       "  /* fitted */\n",
       "  background-color: var(--sklearn-color-fitted-level-3);\n",
       "}\n",
       "</style><div id=\"sk-container-id-1\" class=\"sk-top-container\"><div class=\"sk-text-repr-fallback\"><pre>KMeans(n_clusters=3)</pre><b>In a Jupyter environment, please rerun this cell to show the HTML representation or trust the notebook. <br />On GitHub, the HTML representation is unable to render, please try loading this page with nbviewer.org.</b></div><div class=\"sk-container\" hidden><div class=\"sk-item\"><div class=\"sk-estimator fitted sk-toggleable\"><input class=\"sk-toggleable__control sk-hidden--visually\" id=\"sk-estimator-id-1\" type=\"checkbox\" checked><label for=\"sk-estimator-id-1\" class=\"sk-toggleable__label fitted sk-toggleable__label-arrow\"><div><div>KMeans</div></div><div><a class=\"sk-estimator-doc-link fitted\" rel=\"noreferrer\" target=\"_blank\" href=\"https://scikit-learn.org/1.6/modules/generated/sklearn.cluster.KMeans.html\">?<span>Documentation for KMeans</span></a><span class=\"sk-estimator-doc-link fitted\">i<span>Fitted</span></span></div></label><div class=\"sk-toggleable__content fitted\"><pre>KMeans(n_clusters=3)</pre></div> </div></div></div></div>"
      ],
      "text/plain": [
       "KMeans(n_clusters=3)"
      ]
     },
     "execution_count": 17,
     "metadata": {},
     "output_type": "execute_result"
    }
   ],
   "source": [
    "# Realizando o fit dos dados\n",
    "model.fit(data.drop(['k', 'g', 'E', 'GS'], axis = 'columns'))"
   ]
  },
  {
   "cell_type": "markdown",
   "id": "caf97c61-bc67-49f6-a30f-79e65a2e26c1",
   "metadata": {},
   "source": [
    "$\\quad$ Vamos agora visualizar como o K-Means Clustering classificou cada um dos pontos do nosso conjunto de dados e onde estão os centros de cada cluster no plano cartesiano:"
   ]
  },
  {
   "cell_type": "code",
   "execution_count": 18,
   "id": "b04130fb-300e-4f76-aaab-027a169dfa6c",
   "metadata": {},
   "outputs": [
    {
     "data": {
      "text/plain": [
       "array([2, 2, 2, 2, 2, 2, 2, 2, 2, 2, 2, 2, 2, 2, 2, 2, 2, 2, 2, 2, 2, 2,\n",
       "       2, 2, 2, 2, 2, 2, 2, 2, 2, 2, 2, 2, 2, 2, 2, 2, 2, 2, 0, 0, 2, 2,\n",
       "       2, 2, 2, 2, 2, 2, 2, 2, 2, 2, 2, 2, 2, 2, 2, 2, 0, 0, 0, 2, 2, 2,\n",
       "       2, 2, 2, 2, 2, 2, 2, 2, 2, 2, 2, 2, 2, 0, 0, 0, 0, 0, 2, 2, 2, 2,\n",
       "       2, 2, 2, 2, 2, 2, 2, 2, 2, 2, 0, 0, 0, 0, 0, 0, 0, 2, 2, 2, 2, 2,\n",
       "       2, 2, 2, 2, 2, 2, 2, 0, 0, 0, 0, 0, 0, 0, 0, 0, 2, 2, 2, 2, 2, 2,\n",
       "       2, 2, 2, 2, 0, 0, 0, 0, 0, 0, 0, 0, 0, 0, 0, 2, 2, 2, 2, 2, 2, 2,\n",
       "       2, 0, 0, 0, 0, 0, 0, 0, 0, 0, 0, 0, 0, 0, 2, 2, 2, 2, 2, 2, 0, 0,\n",
       "       0, 0, 0, 0, 0, 0, 0, 0, 0, 0, 0, 0, 0, 2, 2, 2, 0, 0, 0, 0, 0, 0,\n",
       "       0, 0, 0, 0, 0, 0, 0, 0, 0, 0, 0, 0, 2, 0, 0, 0, 0, 0, 0, 0, 0, 0,\n",
       "       0, 0, 0, 0, 0, 0, 0, 0, 0, 0, 0, 1, 1, 1, 0, 0, 0, 0, 0, 0, 0, 0,\n",
       "       0, 0, 0, 0, 0, 0, 0, 0, 0, 0, 1, 1, 1, 1, 1, 1, 0, 0, 0, 0, 0, 0,\n",
       "       0, 0, 0, 0, 0, 0, 0, 0, 0, 1, 1, 1, 1, 1, 1, 1, 1, 0, 0, 0, 0, 0,\n",
       "       0, 0, 0, 0, 0, 0, 0, 0, 1, 1, 1, 1, 1, 1, 1, 1, 1, 1, 0, 0, 0, 0,\n",
       "       0, 0, 0, 0, 0, 0, 0, 1, 1, 1, 1, 1, 1, 1, 1, 1, 1, 1, 1, 0, 0, 0,\n",
       "       0, 0, 0, 0, 0, 0, 1, 1, 1, 1, 1, 1, 1, 1, 1, 1, 1, 1, 1, 0, 0, 0,\n",
       "       0, 0, 0, 0, 0, 1, 1, 1, 1, 1, 1, 1, 1, 1, 1, 1, 1, 1, 1, 1, 0, 0,\n",
       "       0, 0, 0, 0, 1, 1, 1, 1, 1, 1, 1, 1, 1, 1, 1, 1, 1, 1, 1, 1, 0, 0,\n",
       "       0, 0, 0, 1, 1, 1, 1, 1, 1, 1, 1, 1, 1, 1, 1, 1, 1, 1, 1, 1, 1, 0,\n",
       "       0, 0, 1, 1, 1, 1, 1, 1, 1, 1, 1, 1, 1, 1, 1, 1, 1, 1, 1, 1, 1, 0,\n",
       "       0], dtype=int32)"
      ]
     },
     "execution_count": 18,
     "metadata": {},
     "output_type": "execute_result"
    }
   ],
   "source": [
    "model.labels_"
   ]
  },
  {
   "cell_type": "code",
   "execution_count": 19,
   "id": "7c29113d-6e57-4db6-b7aa-faa5f0eeeedb",
   "metadata": {},
   "outputs": [
    {
     "data": {
      "text/plain": [
       "array([[ 0.70690739,  0.59429026, -0.33881537,  0.12912511,  0.34975381,\n",
       "        -0.06009433],\n",
       "       [ 0.13183456,  0.18267027, -0.05474182,  0.10039078,  0.01687506,\n",
       "        -0.89529204],\n",
       "       [ 0.14866386,  0.09664105, -0.07354114, -0.00555824,  0.91432825,\n",
       "         0.89360537]])"
      ]
     },
     "execution_count": 19,
     "metadata": {},
     "output_type": "execute_result"
    }
   ],
   "source": [
    "model.cluster_centers_"
   ]
  },
  {
   "cell_type": "markdown",
   "id": "b378dfdd-8a76-4636-b89c-1f675dfa2572",
   "metadata": {},
   "source": [
    "$\\quad$ A título de comparação, vamos plotar junto aos nossos resultados as curvas das transições de fase como encontradas na referência [6]. Os arquivos com os dados destas curvas estarão disponíveis no [github do PET.py](https://github.com/PETfisicaUFRN/PET.py/tree/main/Dados) sob os nomes de Transições.txt e KT.txt."
   ]
  },
  {
   "cell_type": "code",
   "execution_count": 22,
   "id": "a412103d-2fb8-4b10-9ed8-2e4ad4e4b45e",
   "metadata": {},
   "outputs": [
    {
     "ename": "FileNotFoundError",
     "evalue": "[Errno 2] No such file or directory: 'C:\\\\Users\\\\tiago\\\\OneDrive\\\\Documentos\\\\GitHub\\\\PET.py\\\\Dados\\\\Encontrando Transições de Fase com Machine Learning\\\\Transições.txt'",
     "output_type": "error",
     "traceback": [
      "\u001b[1;31m---------------------------------------------------------------------------\u001b[0m",
      "\u001b[1;31mFileNotFoundError\u001b[0m                         Traceback (most recent call last)",
      "Cell \u001b[1;32mIn[22], line 1\u001b[0m\n\u001b[1;32m----> 1\u001b[0m trans \u001b[38;5;241m=\u001b[39m \u001b[43mpd\u001b[49m\u001b[38;5;241;43m.\u001b[39;49m\u001b[43mread_csv\u001b[49m\u001b[43m(\u001b[49m\u001b[38;5;124;43mr\u001b[39;49m\u001b[38;5;124;43m'\u001b[39;49m\u001b[38;5;124;43mC:\u001b[39;49m\u001b[38;5;124;43m\\\u001b[39;49m\u001b[38;5;124;43mUsers\u001b[39;49m\u001b[38;5;124;43m\\\u001b[39;49m\u001b[38;5;124;43mtiago\u001b[39;49m\u001b[38;5;124;43m\\\u001b[39;49m\u001b[38;5;124;43mOneDrive\u001b[39;49m\u001b[38;5;124;43m\\\u001b[39;49m\u001b[38;5;124;43mDocumentos\u001b[39;49m\u001b[38;5;124;43m\\\u001b[39;49m\u001b[38;5;124;43mGitHub\u001b[39;49m\u001b[38;5;124;43m\\\u001b[39;49m\u001b[38;5;124;43mPET.py\u001b[39;49m\u001b[38;5;124;43m\\\u001b[39;49m\u001b[38;5;124;43mDados\u001b[39;49m\u001b[38;5;124;43m\\\u001b[39;49m\u001b[38;5;124;43mEncontrando Transições de Fase com Machine Learning\u001b[39;49m\u001b[38;5;124;43m\\\u001b[39;49m\u001b[38;5;124;43mTransições.txt\u001b[39;49m\u001b[38;5;124;43m'\u001b[39;49m\u001b[43m,\u001b[49m\u001b[43m \u001b[49m\u001b[43msep\u001b[49m\u001b[43m \u001b[49m\u001b[38;5;241;43m=\u001b[39;49m\u001b[43m \u001b[49m\u001b[38;5;124;43m'\u001b[39;49m\u001b[38;5;124;43m;\u001b[39;49m\u001b[38;5;124;43m'\u001b[39;49m\u001b[43m,\u001b[49m\u001b[43m \u001b[49m\u001b[43mdecimal\u001b[49m\u001b[43m \u001b[49m\u001b[38;5;241;43m=\u001b[39;49m\u001b[43m \u001b[49m\u001b[38;5;124;43m'\u001b[39;49m\u001b[38;5;124;43m,\u001b[39;49m\u001b[38;5;124;43m'\u001b[39;49m\u001b[43m)\u001b[49m\n\u001b[0;32m      2\u001b[0m KT \u001b[38;5;241m=\u001b[39m pd\u001b[38;5;241m.\u001b[39mread_csv(\u001b[38;5;124mr\u001b[39m\u001b[38;5;124m'\u001b[39m\u001b[38;5;124mC:\u001b[39m\u001b[38;5;124m\\\u001b[39m\u001b[38;5;124mUsers\u001b[39m\u001b[38;5;124m\\\u001b[39m\u001b[38;5;124mtiago\u001b[39m\u001b[38;5;124m\\\u001b[39m\u001b[38;5;124mOneDrive\u001b[39m\u001b[38;5;124m\\\u001b[39m\u001b[38;5;124mDocumentos\u001b[39m\u001b[38;5;124m\\\u001b[39m\u001b[38;5;124mGitHub\u001b[39m\u001b[38;5;124m\\\u001b[39m\u001b[38;5;124mPET.py\u001b[39m\u001b[38;5;124m\\\u001b[39m\u001b[38;5;124mDados\u001b[39m\u001b[38;5;124m\\\u001b[39m\u001b[38;5;124mEncontrando Transições de Fase com Machine Learning\u001b[39m\u001b[38;5;124m\\\u001b[39m\u001b[38;5;124mKT.txt\u001b[39m\u001b[38;5;124m'\u001b[39m, sep \u001b[38;5;241m=\u001b[39m \u001b[38;5;124m'\u001b[39m\u001b[38;5;124m;\u001b[39m\u001b[38;5;124m'\u001b[39m, decimal \u001b[38;5;241m=\u001b[39m \u001b[38;5;124m'\u001b[39m\u001b[38;5;124m,\u001b[39m\u001b[38;5;124m'\u001b[39m)\n",
      "File \u001b[1;32m~\\AppData\\Local\\Packages\\PythonSoftwareFoundation.Python.3.11_qbz5n2kfra8p0\\LocalCache\\local-packages\\Python311\\site-packages\\pandas\\io\\parsers\\readers.py:1026\u001b[0m, in \u001b[0;36mread_csv\u001b[1;34m(filepath_or_buffer, sep, delimiter, header, names, index_col, usecols, dtype, engine, converters, true_values, false_values, skipinitialspace, skiprows, skipfooter, nrows, na_values, keep_default_na, na_filter, verbose, skip_blank_lines, parse_dates, infer_datetime_format, keep_date_col, date_parser, date_format, dayfirst, cache_dates, iterator, chunksize, compression, thousands, decimal, lineterminator, quotechar, quoting, doublequote, escapechar, comment, encoding, encoding_errors, dialect, on_bad_lines, delim_whitespace, low_memory, memory_map, float_precision, storage_options, dtype_backend)\u001b[0m\n\u001b[0;32m   1013\u001b[0m kwds_defaults \u001b[38;5;241m=\u001b[39m _refine_defaults_read(\n\u001b[0;32m   1014\u001b[0m     dialect,\n\u001b[0;32m   1015\u001b[0m     delimiter,\n\u001b[1;32m   (...)\u001b[0m\n\u001b[0;32m   1022\u001b[0m     dtype_backend\u001b[38;5;241m=\u001b[39mdtype_backend,\n\u001b[0;32m   1023\u001b[0m )\n\u001b[0;32m   1024\u001b[0m kwds\u001b[38;5;241m.\u001b[39mupdate(kwds_defaults)\n\u001b[1;32m-> 1026\u001b[0m \u001b[38;5;28;01mreturn\u001b[39;00m \u001b[43m_read\u001b[49m\u001b[43m(\u001b[49m\u001b[43mfilepath_or_buffer\u001b[49m\u001b[43m,\u001b[49m\u001b[43m \u001b[49m\u001b[43mkwds\u001b[49m\u001b[43m)\u001b[49m\n",
      "File \u001b[1;32m~\\AppData\\Local\\Packages\\PythonSoftwareFoundation.Python.3.11_qbz5n2kfra8p0\\LocalCache\\local-packages\\Python311\\site-packages\\pandas\\io\\parsers\\readers.py:620\u001b[0m, in \u001b[0;36m_read\u001b[1;34m(filepath_or_buffer, kwds)\u001b[0m\n\u001b[0;32m    617\u001b[0m _validate_names(kwds\u001b[38;5;241m.\u001b[39mget(\u001b[38;5;124m\"\u001b[39m\u001b[38;5;124mnames\u001b[39m\u001b[38;5;124m\"\u001b[39m, \u001b[38;5;28;01mNone\u001b[39;00m))\n\u001b[0;32m    619\u001b[0m \u001b[38;5;66;03m# Create the parser.\u001b[39;00m\n\u001b[1;32m--> 620\u001b[0m parser \u001b[38;5;241m=\u001b[39m \u001b[43mTextFileReader\u001b[49m\u001b[43m(\u001b[49m\u001b[43mfilepath_or_buffer\u001b[49m\u001b[43m,\u001b[49m\u001b[43m \u001b[49m\u001b[38;5;241;43m*\u001b[39;49m\u001b[38;5;241;43m*\u001b[39;49m\u001b[43mkwds\u001b[49m\u001b[43m)\u001b[49m\n\u001b[0;32m    622\u001b[0m \u001b[38;5;28;01mif\u001b[39;00m chunksize \u001b[38;5;129;01mor\u001b[39;00m iterator:\n\u001b[0;32m    623\u001b[0m     \u001b[38;5;28;01mreturn\u001b[39;00m parser\n",
      "File \u001b[1;32m~\\AppData\\Local\\Packages\\PythonSoftwareFoundation.Python.3.11_qbz5n2kfra8p0\\LocalCache\\local-packages\\Python311\\site-packages\\pandas\\io\\parsers\\readers.py:1620\u001b[0m, in \u001b[0;36mTextFileReader.__init__\u001b[1;34m(self, f, engine, **kwds)\u001b[0m\n\u001b[0;32m   1617\u001b[0m     \u001b[38;5;28mself\u001b[39m\u001b[38;5;241m.\u001b[39moptions[\u001b[38;5;124m\"\u001b[39m\u001b[38;5;124mhas_index_names\u001b[39m\u001b[38;5;124m\"\u001b[39m] \u001b[38;5;241m=\u001b[39m kwds[\u001b[38;5;124m\"\u001b[39m\u001b[38;5;124mhas_index_names\u001b[39m\u001b[38;5;124m\"\u001b[39m]\n\u001b[0;32m   1619\u001b[0m \u001b[38;5;28mself\u001b[39m\u001b[38;5;241m.\u001b[39mhandles: IOHandles \u001b[38;5;241m|\u001b[39m \u001b[38;5;28;01mNone\u001b[39;00m \u001b[38;5;241m=\u001b[39m \u001b[38;5;28;01mNone\u001b[39;00m\n\u001b[1;32m-> 1620\u001b[0m \u001b[38;5;28mself\u001b[39m\u001b[38;5;241m.\u001b[39m_engine \u001b[38;5;241m=\u001b[39m \u001b[38;5;28;43mself\u001b[39;49m\u001b[38;5;241;43m.\u001b[39;49m\u001b[43m_make_engine\u001b[49m\u001b[43m(\u001b[49m\u001b[43mf\u001b[49m\u001b[43m,\u001b[49m\u001b[43m \u001b[49m\u001b[38;5;28;43mself\u001b[39;49m\u001b[38;5;241;43m.\u001b[39;49m\u001b[43mengine\u001b[49m\u001b[43m)\u001b[49m\n",
      "File \u001b[1;32m~\\AppData\\Local\\Packages\\PythonSoftwareFoundation.Python.3.11_qbz5n2kfra8p0\\LocalCache\\local-packages\\Python311\\site-packages\\pandas\\io\\parsers\\readers.py:1880\u001b[0m, in \u001b[0;36mTextFileReader._make_engine\u001b[1;34m(self, f, engine)\u001b[0m\n\u001b[0;32m   1878\u001b[0m     \u001b[38;5;28;01mif\u001b[39;00m \u001b[38;5;124m\"\u001b[39m\u001b[38;5;124mb\u001b[39m\u001b[38;5;124m\"\u001b[39m \u001b[38;5;129;01mnot\u001b[39;00m \u001b[38;5;129;01min\u001b[39;00m mode:\n\u001b[0;32m   1879\u001b[0m         mode \u001b[38;5;241m+\u001b[39m\u001b[38;5;241m=\u001b[39m \u001b[38;5;124m\"\u001b[39m\u001b[38;5;124mb\u001b[39m\u001b[38;5;124m\"\u001b[39m\n\u001b[1;32m-> 1880\u001b[0m \u001b[38;5;28mself\u001b[39m\u001b[38;5;241m.\u001b[39mhandles \u001b[38;5;241m=\u001b[39m \u001b[43mget_handle\u001b[49m\u001b[43m(\u001b[49m\n\u001b[0;32m   1881\u001b[0m \u001b[43m    \u001b[49m\u001b[43mf\u001b[49m\u001b[43m,\u001b[49m\n\u001b[0;32m   1882\u001b[0m \u001b[43m    \u001b[49m\u001b[43mmode\u001b[49m\u001b[43m,\u001b[49m\n\u001b[0;32m   1883\u001b[0m \u001b[43m    \u001b[49m\u001b[43mencoding\u001b[49m\u001b[38;5;241;43m=\u001b[39;49m\u001b[38;5;28;43mself\u001b[39;49m\u001b[38;5;241;43m.\u001b[39;49m\u001b[43moptions\u001b[49m\u001b[38;5;241;43m.\u001b[39;49m\u001b[43mget\u001b[49m\u001b[43m(\u001b[49m\u001b[38;5;124;43m\"\u001b[39;49m\u001b[38;5;124;43mencoding\u001b[39;49m\u001b[38;5;124;43m\"\u001b[39;49m\u001b[43m,\u001b[49m\u001b[43m \u001b[49m\u001b[38;5;28;43;01mNone\u001b[39;49;00m\u001b[43m)\u001b[49m\u001b[43m,\u001b[49m\n\u001b[0;32m   1884\u001b[0m \u001b[43m    \u001b[49m\u001b[43mcompression\u001b[49m\u001b[38;5;241;43m=\u001b[39;49m\u001b[38;5;28;43mself\u001b[39;49m\u001b[38;5;241;43m.\u001b[39;49m\u001b[43moptions\u001b[49m\u001b[38;5;241;43m.\u001b[39;49m\u001b[43mget\u001b[49m\u001b[43m(\u001b[49m\u001b[38;5;124;43m\"\u001b[39;49m\u001b[38;5;124;43mcompression\u001b[39;49m\u001b[38;5;124;43m\"\u001b[39;49m\u001b[43m,\u001b[49m\u001b[43m \u001b[49m\u001b[38;5;28;43;01mNone\u001b[39;49;00m\u001b[43m)\u001b[49m\u001b[43m,\u001b[49m\n\u001b[0;32m   1885\u001b[0m \u001b[43m    \u001b[49m\u001b[43mmemory_map\u001b[49m\u001b[38;5;241;43m=\u001b[39;49m\u001b[38;5;28;43mself\u001b[39;49m\u001b[38;5;241;43m.\u001b[39;49m\u001b[43moptions\u001b[49m\u001b[38;5;241;43m.\u001b[39;49m\u001b[43mget\u001b[49m\u001b[43m(\u001b[49m\u001b[38;5;124;43m\"\u001b[39;49m\u001b[38;5;124;43mmemory_map\u001b[39;49m\u001b[38;5;124;43m\"\u001b[39;49m\u001b[43m,\u001b[49m\u001b[43m \u001b[49m\u001b[38;5;28;43;01mFalse\u001b[39;49;00m\u001b[43m)\u001b[49m\u001b[43m,\u001b[49m\n\u001b[0;32m   1886\u001b[0m \u001b[43m    \u001b[49m\u001b[43mis_text\u001b[49m\u001b[38;5;241;43m=\u001b[39;49m\u001b[43mis_text\u001b[49m\u001b[43m,\u001b[49m\n\u001b[0;32m   1887\u001b[0m \u001b[43m    \u001b[49m\u001b[43merrors\u001b[49m\u001b[38;5;241;43m=\u001b[39;49m\u001b[38;5;28;43mself\u001b[39;49m\u001b[38;5;241;43m.\u001b[39;49m\u001b[43moptions\u001b[49m\u001b[38;5;241;43m.\u001b[39;49m\u001b[43mget\u001b[49m\u001b[43m(\u001b[49m\u001b[38;5;124;43m\"\u001b[39;49m\u001b[38;5;124;43mencoding_errors\u001b[39;49m\u001b[38;5;124;43m\"\u001b[39;49m\u001b[43m,\u001b[49m\u001b[43m \u001b[49m\u001b[38;5;124;43m\"\u001b[39;49m\u001b[38;5;124;43mstrict\u001b[39;49m\u001b[38;5;124;43m\"\u001b[39;49m\u001b[43m)\u001b[49m\u001b[43m,\u001b[49m\n\u001b[0;32m   1888\u001b[0m \u001b[43m    \u001b[49m\u001b[43mstorage_options\u001b[49m\u001b[38;5;241;43m=\u001b[39;49m\u001b[38;5;28;43mself\u001b[39;49m\u001b[38;5;241;43m.\u001b[39;49m\u001b[43moptions\u001b[49m\u001b[38;5;241;43m.\u001b[39;49m\u001b[43mget\u001b[49m\u001b[43m(\u001b[49m\u001b[38;5;124;43m\"\u001b[39;49m\u001b[38;5;124;43mstorage_options\u001b[39;49m\u001b[38;5;124;43m\"\u001b[39;49m\u001b[43m,\u001b[49m\u001b[43m \u001b[49m\u001b[38;5;28;43;01mNone\u001b[39;49;00m\u001b[43m)\u001b[49m\u001b[43m,\u001b[49m\n\u001b[0;32m   1889\u001b[0m \u001b[43m\u001b[49m\u001b[43m)\u001b[49m\n\u001b[0;32m   1890\u001b[0m \u001b[38;5;28;01massert\u001b[39;00m \u001b[38;5;28mself\u001b[39m\u001b[38;5;241m.\u001b[39mhandles \u001b[38;5;129;01mis\u001b[39;00m \u001b[38;5;129;01mnot\u001b[39;00m \u001b[38;5;28;01mNone\u001b[39;00m\n\u001b[0;32m   1891\u001b[0m f \u001b[38;5;241m=\u001b[39m \u001b[38;5;28mself\u001b[39m\u001b[38;5;241m.\u001b[39mhandles\u001b[38;5;241m.\u001b[39mhandle\n",
      "File \u001b[1;32m~\\AppData\\Local\\Packages\\PythonSoftwareFoundation.Python.3.11_qbz5n2kfra8p0\\LocalCache\\local-packages\\Python311\\site-packages\\pandas\\io\\common.py:873\u001b[0m, in \u001b[0;36mget_handle\u001b[1;34m(path_or_buf, mode, encoding, compression, memory_map, is_text, errors, storage_options)\u001b[0m\n\u001b[0;32m    868\u001b[0m \u001b[38;5;28;01melif\u001b[39;00m \u001b[38;5;28misinstance\u001b[39m(handle, \u001b[38;5;28mstr\u001b[39m):\n\u001b[0;32m    869\u001b[0m     \u001b[38;5;66;03m# Check whether the filename is to be opened in binary mode.\u001b[39;00m\n\u001b[0;32m    870\u001b[0m     \u001b[38;5;66;03m# Binary mode does not support 'encoding' and 'newline'.\u001b[39;00m\n\u001b[0;32m    871\u001b[0m     \u001b[38;5;28;01mif\u001b[39;00m ioargs\u001b[38;5;241m.\u001b[39mencoding \u001b[38;5;129;01mand\u001b[39;00m \u001b[38;5;124m\"\u001b[39m\u001b[38;5;124mb\u001b[39m\u001b[38;5;124m\"\u001b[39m \u001b[38;5;129;01mnot\u001b[39;00m \u001b[38;5;129;01min\u001b[39;00m ioargs\u001b[38;5;241m.\u001b[39mmode:\n\u001b[0;32m    872\u001b[0m         \u001b[38;5;66;03m# Encoding\u001b[39;00m\n\u001b[1;32m--> 873\u001b[0m         handle \u001b[38;5;241m=\u001b[39m \u001b[38;5;28;43mopen\u001b[39;49m\u001b[43m(\u001b[49m\n\u001b[0;32m    874\u001b[0m \u001b[43m            \u001b[49m\u001b[43mhandle\u001b[49m\u001b[43m,\u001b[49m\n\u001b[0;32m    875\u001b[0m \u001b[43m            \u001b[49m\u001b[43mioargs\u001b[49m\u001b[38;5;241;43m.\u001b[39;49m\u001b[43mmode\u001b[49m\u001b[43m,\u001b[49m\n\u001b[0;32m    876\u001b[0m \u001b[43m            \u001b[49m\u001b[43mencoding\u001b[49m\u001b[38;5;241;43m=\u001b[39;49m\u001b[43mioargs\u001b[49m\u001b[38;5;241;43m.\u001b[39;49m\u001b[43mencoding\u001b[49m\u001b[43m,\u001b[49m\n\u001b[0;32m    877\u001b[0m \u001b[43m            \u001b[49m\u001b[43merrors\u001b[49m\u001b[38;5;241;43m=\u001b[39;49m\u001b[43merrors\u001b[49m\u001b[43m,\u001b[49m\n\u001b[0;32m    878\u001b[0m \u001b[43m            \u001b[49m\u001b[43mnewline\u001b[49m\u001b[38;5;241;43m=\u001b[39;49m\u001b[38;5;124;43m\"\u001b[39;49m\u001b[38;5;124;43m\"\u001b[39;49m\u001b[43m,\u001b[49m\n\u001b[0;32m    879\u001b[0m \u001b[43m        \u001b[49m\u001b[43m)\u001b[49m\n\u001b[0;32m    880\u001b[0m     \u001b[38;5;28;01melse\u001b[39;00m:\n\u001b[0;32m    881\u001b[0m         \u001b[38;5;66;03m# Binary mode\u001b[39;00m\n\u001b[0;32m    882\u001b[0m         handle \u001b[38;5;241m=\u001b[39m \u001b[38;5;28mopen\u001b[39m(handle, ioargs\u001b[38;5;241m.\u001b[39mmode)\n",
      "\u001b[1;31mFileNotFoundError\u001b[0m: [Errno 2] No such file or directory: 'C:\\\\Users\\\\tiago\\\\OneDrive\\\\Documentos\\\\GitHub\\\\PET.py\\\\Dados\\\\Encontrando Transições de Fase com Machine Learning\\\\Transições.txt'"
     ]
    }
   ],
   "source": [
    "trans = pd.read_csv(r'C:\\Users\\tiago\\OneDrive\\Documentos\\GitHub\\PET.py\\Dados\\Encontrando Transições de Fase com Machine Learning\\Transições.txt', sep = ';', decimal = ',')\n",
    "KT = pd.read_csv(r'C:\\Users\\tiago\\OneDrive\\Documentos\\GitHub\\PET.py\\Dados\\Encontrando Transições de Fase com Machine Learning\\KT.txt', sep = ';', decimal = ',')"
   ]
  },
  {
   "cell_type": "code",
   "execution_count": 21,
   "id": "38fd042d-c98d-4990-9404-98520e2dc00c",
   "metadata": {},
   "outputs": [
    {
     "ename": "NameError",
     "evalue": "name 'trans' is not defined",
     "output_type": "error",
     "traceback": [
      "\u001b[1;31m---------------------------------------------------------------------------\u001b[0m",
      "\u001b[1;31mNameError\u001b[0m                                 Traceback (most recent call last)",
      "Cell \u001b[1;32mIn[21], line 7\u001b[0m\n\u001b[0;32m      5\u001b[0m plt\u001b[38;5;241m.\u001b[39mxlabel(\u001b[38;5;124m'\u001b[39m\u001b[38;5;124mk\u001b[39m\u001b[38;5;124m'\u001b[39m)\n\u001b[0;32m      6\u001b[0m plt\u001b[38;5;241m.\u001b[39mylabel(\u001b[38;5;124m'\u001b[39m\u001b[38;5;124mg\u001b[39m\u001b[38;5;124m'\u001b[39m)\n\u001b[1;32m----> 7\u001b[0m plt\u001b[38;5;241m.\u001b[39mplot(\u001b[43mtrans\u001b[49m[\u001b[38;5;124m'\u001b[39m\u001b[38;5;124mx\u001b[39m\u001b[38;5;124m'\u001b[39m], trans[\u001b[38;5;124m'\u001b[39m\u001b[38;5;124my\u001b[39m\u001b[38;5;124m'\u001b[39m], color \u001b[38;5;241m=\u001b[39m \u001b[38;5;124m'\u001b[39m\u001b[38;5;124mblack\u001b[39m\u001b[38;5;124m'\u001b[39m)\n\u001b[0;32m      8\u001b[0m plt\u001b[38;5;241m.\u001b[39mplot(KT[\u001b[38;5;124m'\u001b[39m\u001b[38;5;124mx\u001b[39m\u001b[38;5;124m'\u001b[39m], KT[\u001b[38;5;124m'\u001b[39m\u001b[38;5;124my\u001b[39m\u001b[38;5;124m'\u001b[39m], color \u001b[38;5;241m=\u001b[39m \u001b[38;5;124m'\u001b[39m\u001b[38;5;124mblack\u001b[39m\u001b[38;5;124m'\u001b[39m)\n",
      "\u001b[1;31mNameError\u001b[0m: name 'trans' is not defined"
     ]
    },
    {
     "data": {
      "image/png": "[encoded data removed]",
      "text/plain": [
       "<Figure size 640x480 with 1 Axes>"
      ]
     },
     "metadata": {},
     "output_type": "display_data"
    }
   ],
   "source": [
    "# Plotando o diagrama de fase e as linhas de transição\n",
    "plt.scatter(data['k'][model.labels_==0], data['g'][model.labels_==0])\n",
    "plt.scatter(data['k'][model.labels_==1], data['g'][model.labels_==1])\n",
    "plt.scatter(data['k'][model.labels_==2], data['g'][model.labels_==2])\n",
    "plt.xlabel('k')\n",
    "plt.ylabel('g')\n",
    "plt.plot(trans['x'], trans['y'], color = 'black')\n",
    "plt.plot(KT['x'], KT['y'], color = 'black')"
   ]
  },
  {
   "cell_type": "markdown",
   "id": "61c763f7-0305-4dba-b41c-fa7a9c2e07dd",
   "metadata": {},
   "source": [
    "$\\quad$ Um primeiro ponto a se comentar é que, como visível pelas linhas de transição, há 4 fases no diagrama completo do modelo ANNNI. São elas a fase ferromagnética, fase paramagnética, “antifase” e a “fase flutuante”. Notamos que a linha que divide as fases ferromagnética e paramagnética (regiões azul e verde, respectivamente) é quase perfeitamente reproduzida pelo método K-Means. A linha que divide as fases paramagnética e flutuante é qualitativamente reproduzida, ainda que com erros quantitativos. Analisemos agora o que acontece quando tomamos 4 clusters ao invés de 3:"
   ]
  },
  {
   "cell_type": "code",
   "execution_count": 223,
   "id": "ecf288cc-644f-45be-bbc9-6b38b7d729f5",
   "metadata": {},
   "outputs": [],
   "source": [
    "# Definindo o modelo para K = 4\n",
    "model = KMeans(n_clusters = 4, init = 'k-means++', algorithm = 'lloyd')"
   ]
  },
  {
   "cell_type": "code",
   "execution_count": 224,
   "id": "16911bed-b55e-434a-a785-134573d31856",
   "metadata": {},
   "outputs": [
    {
     "name": "stderr",
     "output_type": "stream",
     "text": [
      "C:\\Users\\tiago\\anaconda3\\lib\\site-packages\\sklearn\\cluster\\_kmeans.py:1411: UserWarning: KMeans is known to have a memory leak on Windows with MKL, when there are less chunks than available threads. You can avoid it by setting the environment variable OMP_NUM_THREADS=2.\n",
      "  warnings.warn(\n"
     ]
    },
    {
     "data": {
      "text/html": [
       "<style>#sk-container-id-21 {\n",
       "  /* Definition of color scheme common for light and dark mode */\n",
       "  --sklearn-color-text: #000;\n",
       "  --sklearn-color-text-muted: #666;\n",
       "  --sklearn-color-line: gray;\n",
       "  /* Definition of color scheme for unfitted estimators */\n",
       "  --sklearn-color-unfitted-level-0: #fff5e6;\n",
       "  --sklearn-color-unfitted-level-1: #f6e4d2;\n",
       "  --sklearn-color-unfitted-level-2: #ffe0b3;\n",
       "  --sklearn-color-unfitted-level-3: chocolate;\n",
       "  /* Definition of color scheme for fitted estimators */\n",
       "  --sklearn-color-fitted-level-0: #f0f8ff;\n",
       "  --sklearn-color-fitted-level-1: #d4ebff;\n",
       "  --sklearn-color-fitted-level-2: #b3dbfd;\n",
       "  --sklearn-color-fitted-level-3: cornflowerblue;\n",
       "\n",
       "  /* Specific color for light theme */\n",
       "  --sklearn-color-text-on-default-background: var(--sg-text-color, var(--theme-code-foreground, var(--jp-content-font-color1, black)));\n",
       "  --sklearn-color-background: var(--sg-background-color, var(--theme-background, var(--jp-layout-color0, white)));\n",
       "  --sklearn-color-border-box: var(--sg-text-color, var(--theme-code-foreground, var(--jp-content-font-color1, black)));\n",
       "  --sklearn-color-icon: #696969;\n",
       "\n",
       "  @media (prefers-color-scheme: dark) {\n",
       "    /* Redefinition of color scheme for dark theme */\n",
       "    --sklearn-color-text-on-default-background: var(--sg-text-color, var(--theme-code-foreground, var(--jp-content-font-color1, white)));\n",
       "    --sklearn-color-background: var(--sg-background-color, var(--theme-background, var(--jp-layout-color0, #111)));\n",
       "    --sklearn-color-border-box: var(--sg-text-color, var(--theme-code-foreground, var(--jp-content-font-color1, white)));\n",
       "    --sklearn-color-icon: #878787;\n",
       "  }\n",
       "}\n",
       "\n",
       "#sk-container-id-21 {\n",
       "  color: var(--sklearn-color-text);\n",
       "}\n",
       "\n",
       "#sk-container-id-21 pre {\n",
       "  padding: 0;\n",
       "}\n",
       "\n",
       "#sk-container-id-21 input.sk-hidden--visually {\n",
       "  border: 0;\n",
       "  clip: rect(1px 1px 1px 1px);\n",
       "  clip: rect(1px, 1px, 1px, 1px);\n",
       "  height: 1px;\n",
       "  margin: -1px;\n",
       "  overflow: hidden;\n",
       "  padding: 0;\n",
       "  position: absolute;\n",
       "  width: 1px;\n",
       "}\n",
       "\n",
       "#sk-container-id-21 div.sk-dashed-wrapped {\n",
       "  border: 1px dashed var(--sklearn-color-line);\n",
       "  margin: 0 0.4em 0.5em 0.4em;\n",
       "  box-sizing: border-box;\n",
       "  padding-bottom: 0.4em;\n",
       "  background-color: var(--sklearn-color-background);\n",
       "}\n",
       "\n",
       "#sk-container-id-21 div.sk-container {\n",
       "  /* jupyter's `normalize.less` sets `[hidden] { display: none; }`\n",
       "     but bootstrap.min.css set `[hidden] { display: none !important; }`\n",
       "     so we also need the `!important` here to be able to override the\n",
       "     default hidden behavior on the sphinx rendered scikit-learn.org.\n",
       "     See: https://github.com/scikit-learn/scikit-learn/issues/21755 */\n",
       "  display: inline-block !important;\n",
       "  position: relative;\n",
       "}\n",
       "\n",
       "#sk-container-id-21 div.sk-text-repr-fallback {\n",
       "  display: none;\n",
       "}\n",
       "\n",
       "div.sk-parallel-item,\n",
       "div.sk-serial,\n",
       "div.sk-item {\n",
       "  /* draw centered vertical line to link estimators */\n",
       "  background-image: linear-gradient(var(--sklearn-color-text-on-default-background), var(--sklearn-color-text-on-default-background));\n",
       "  background-size: 2px 100%;\n",
       "  background-repeat: no-repeat;\n",
       "  background-position: center center;\n",
       "}\n",
       "\n",
       "/* Parallel-specific style estimator block */\n",
       "\n",
       "#sk-container-id-21 div.sk-parallel-item::after {\n",
       "  content: \"\";\n",
       "  width: 100%;\n",
       "  border-bottom: 2px solid var(--sklearn-color-text-on-default-background);\n",
       "  flex-grow: 1;\n",
       "}\n",
       "\n",
       "#sk-container-id-21 div.sk-parallel {\n",
       "  display: flex;\n",
       "  align-items: stretch;\n",
       "  justify-content: center;\n",
       "  background-color: var(--sklearn-color-background);\n",
       "  position: relative;\n",
       "}\n",
       "\n",
       "#sk-container-id-21 div.sk-parallel-item {\n",
       "  display: flex;\n",
       "  flex-direction: column;\n",
       "}\n",
       "\n",
       "#sk-container-id-21 div.sk-parallel-item:first-child::after {\n",
       "  align-self: flex-end;\n",
       "  width: 50%;\n",
       "}\n",
       "\n",
       "#sk-container-id-21 div.sk-parallel-item:last-child::after {\n",
       "  align-self: flex-start;\n",
       "  width: 50%;\n",
       "}\n",
       "\n",
       "#sk-container-id-21 div.sk-parallel-item:only-child::after {\n",
       "  width: 0;\n",
       "}\n",
       "\n",
       "/* Serial-specific style estimator block */\n",
       "\n",
       "#sk-container-id-21 div.sk-serial {\n",
       "  display: flex;\n",
       "  flex-direction: column;\n",
       "  align-items: center;\n",
       "  background-color: var(--sklearn-color-background);\n",
       "  padding-right: 1em;\n",
       "  padding-left: 1em;\n",
       "}\n",
       "\n",
       "\n",
       "/* Toggleable style: style used for estimator/Pipeline/ColumnTransformer box that is\n",
       "clickable and can be expanded/collapsed.\n",
       "- Pipeline and ColumnTransformer use this feature and define the default style\n",
       "- Estimators will overwrite some part of the style using the `sk-estimator` class\n",
       "*/\n",
       "\n",
       "/* Pipeline and ColumnTransformer style (default) */\n",
       "\n",
       "#sk-container-id-21 div.sk-toggleable {\n",
       "  /* Default theme specific background. It is overwritten whether we have a\n",
       "  specific estimator or a Pipeline/ColumnTransformer */\n",
       "  background-color: var(--sklearn-color-background);\n",
       "}\n",
       "\n",
       "/* Toggleable label */\n",
       "#sk-container-id-21 label.sk-toggleable__label {\n",
       "  cursor: pointer;\n",
       "  display: flex;\n",
       "  width: 100%;\n",
       "  margin-bottom: 0;\n",
       "  padding: 0.5em;\n",
       "  box-sizing: border-box;\n",
       "  text-align: center;\n",
       "  align-items: start;\n",
       "  justify-content: space-between;\n",
       "  gap: 0.5em;\n",
       "}\n",
       "\n",
       "#sk-container-id-21 label.sk-toggleable__label .caption {\n",
       "  font-size: 0.6rem;\n",
       "  font-weight: lighter;\n",
       "  color: var(--sklearn-color-text-muted);\n",
       "}\n",
       "\n",
       "#sk-container-id-21 label.sk-toggleable__label-arrow:before {\n",
       "  /* Arrow on the left of the label */\n",
       "  content: \"▸\";\n",
       "  float: left;\n",
       "  margin-right: 0.25em;\n",
       "  color: var(--sklearn-color-icon);\n",
       "}\n",
       "\n",
       "#sk-container-id-21 label.sk-toggleable__label-arrow:hover:before {\n",
       "  color: var(--sklearn-color-text);\n",
       "}\n",
       "\n",
       "/* Toggleable content - dropdown */\n",
       "\n",
       "#sk-container-id-21 div.sk-toggleable__content {\n",
       "  max-height: 0;\n",
       "  max-width: 0;\n",
       "  overflow: hidden;\n",
       "  text-align: left;\n",
       "  /* unfitted */\n",
       "  background-color: var(--sklearn-color-unfitted-level-0);\n",
       "}\n",
       "\n",
       "#sk-container-id-21 div.sk-toggleable__content.fitted {\n",
       "  /* fitted */\n",
       "  background-color: var(--sklearn-color-fitted-level-0);\n",
       "}\n",
       "\n",
       "#sk-container-id-21 div.sk-toggleable__content pre {\n",
       "  margin: 0.2em;\n",
       "  border-radius: 0.25em;\n",
       "  color: var(--sklearn-color-text);\n",
       "  /* unfitted */\n",
       "  background-color: var(--sklearn-color-unfitted-level-0);\n",
       "}\n",
       "\n",
       "#sk-container-id-21 div.sk-toggleable__content.fitted pre {\n",
       "  /* unfitted */\n",
       "  background-color: var(--sklearn-color-fitted-level-0);\n",
       "}\n",
       "\n",
       "#sk-container-id-21 input.sk-toggleable__control:checked~div.sk-toggleable__content {\n",
       "  /* Expand drop-down */\n",
       "  max-height: 200px;\n",
       "  max-width: 100%;\n",
       "  overflow: auto;\n",
       "}\n",
       "\n",
       "#sk-container-id-21 input.sk-toggleable__control:checked~label.sk-toggleable__label-arrow:before {\n",
       "  content: \"▾\";\n",
       "}\n",
       "\n",
       "/* Pipeline/ColumnTransformer-specific style */\n",
       "\n",
       "#sk-container-id-21 div.sk-label input.sk-toggleable__control:checked~label.sk-toggleable__label {\n",
       "  color: var(--sklearn-color-text);\n",
       "  background-color: var(--sklearn-color-unfitted-level-2);\n",
       "}\n",
       "\n",
       "#sk-container-id-21 div.sk-label.fitted input.sk-toggleable__control:checked~label.sk-toggleable__label {\n",
       "  background-color: var(--sklearn-color-fitted-level-2);\n",
       "}\n",
       "\n",
       "/* Estimator-specific style */\n",
       "\n",
       "/* Colorize estimator box */\n",
       "#sk-container-id-21 div.sk-estimator input.sk-toggleable__control:checked~label.sk-toggleable__label {\n",
       "  /* unfitted */\n",
       "  background-color: var(--sklearn-color-unfitted-level-2);\n",
       "}\n",
       "\n",
       "#sk-container-id-21 div.sk-estimator.fitted input.sk-toggleable__control:checked~label.sk-toggleable__label {\n",
       "  /* fitted */\n",
       "  background-color: var(--sklearn-color-fitted-level-2);\n",
       "}\n",
       "\n",
       "#sk-container-id-21 div.sk-label label.sk-toggleable__label,\n",
       "#sk-container-id-21 div.sk-label label {\n",
       "  /* The background is the default theme color */\n",
       "  color: var(--sklearn-color-text-on-default-background);\n",
       "}\n",
       "\n",
       "/* On hover, darken the color of the background */\n",
       "#sk-container-id-21 div.sk-label:hover label.sk-toggleable__label {\n",
       "  color: var(--sklearn-color-text);\n",
       "  background-color: var(--sklearn-color-unfitted-level-2);\n",
       "}\n",
       "\n",
       "/* Label box, darken color on hover, fitted */\n",
       "#sk-container-id-21 div.sk-label.fitted:hover label.sk-toggleable__label.fitted {\n",
       "  color: var(--sklearn-color-text);\n",
       "  background-color: var(--sklearn-color-fitted-level-2);\n",
       "}\n",
       "\n",
       "/* Estimator label */\n",
       "\n",
       "#sk-container-id-21 div.sk-label label {\n",
       "  font-family: monospace;\n",
       "  font-weight: bold;\n",
       "  display: inline-block;\n",
       "  line-height: 1.2em;\n",
       "}\n",
       "\n",
       "#sk-container-id-21 div.sk-label-container {\n",
       "  text-align: center;\n",
       "}\n",
       "\n",
       "/* Estimator-specific */\n",
       "#sk-container-id-21 div.sk-estimator {\n",
       "  font-family: monospace;\n",
       "  border: 1px dotted var(--sklearn-color-border-box);\n",
       "  border-radius: 0.25em;\n",
       "  box-sizing: border-box;\n",
       "  margin-bottom: 0.5em;\n",
       "  /* unfitted */\n",
       "  background-color: var(--sklearn-color-unfitted-level-0);\n",
       "}\n",
       "\n",
       "#sk-container-id-21 div.sk-estimator.fitted {\n",
       "  /* fitted */\n",
       "  background-color: var(--sklearn-color-fitted-level-0);\n",
       "}\n",
       "\n",
       "/* on hover */\n",
       "#sk-container-id-21 div.sk-estimator:hover {\n",
       "  /* unfitted */\n",
       "  background-color: var(--sklearn-color-unfitted-level-2);\n",
       "}\n",
       "\n",
       "#sk-container-id-21 div.sk-estimator.fitted:hover {\n",
       "  /* fitted */\n",
       "  background-color: var(--sklearn-color-fitted-level-2);\n",
       "}\n",
       "\n",
       "/* Specification for estimator info (e.g. \"i\" and \"?\") */\n",
       "\n",
       "/* Common style for \"i\" and \"?\" */\n",
       "\n",
       ".sk-estimator-doc-link,\n",
       "a:link.sk-estimator-doc-link,\n",
       "a:visited.sk-estimator-doc-link {\n",
       "  float: right;\n",
       "  font-size: smaller;\n",
       "  line-height: 1em;\n",
       "  font-family: monospace;\n",
       "  background-color: var(--sklearn-color-background);\n",
       "  border-radius: 1em;\n",
       "  height: 1em;\n",
       "  width: 1em;\n",
       "  text-decoration: none !important;\n",
       "  margin-left: 0.5em;\n",
       "  text-align: center;\n",
       "  /* unfitted */\n",
       "  border: var(--sklearn-color-unfitted-level-1) 1pt solid;\n",
       "  color: var(--sklearn-color-unfitted-level-1);\n",
       "}\n",
       "\n",
       ".sk-estimator-doc-link.fitted,\n",
       "a:link.sk-estimator-doc-link.fitted,\n",
       "a:visited.sk-estimator-doc-link.fitted {\n",
       "  /* fitted */\n",
       "  border: var(--sklearn-color-fitted-level-1) 1pt solid;\n",
       "  color: var(--sklearn-color-fitted-level-1);\n",
       "}\n",
       "\n",
       "/* On hover */\n",
       "div.sk-estimator:hover .sk-estimator-doc-link:hover,\n",
       ".sk-estimator-doc-link:hover,\n",
       "div.sk-label-container:hover .sk-estimator-doc-link:hover,\n",
       ".sk-estimator-doc-link:hover {\n",
       "  /* unfitted */\n",
       "  background-color: var(--sklearn-color-unfitted-level-3);\n",
       "  color: var(--sklearn-color-background);\n",
       "  text-decoration: none;\n",
       "}\n",
       "\n",
       "div.sk-estimator.fitted:hover .sk-estimator-doc-link.fitted:hover,\n",
       ".sk-estimator-doc-link.fitted:hover,\n",
       "div.sk-label-container:hover .sk-estimator-doc-link.fitted:hover,\n",
       ".sk-estimator-doc-link.fitted:hover {\n",
       "  /* fitted */\n",
       "  background-color: var(--sklearn-color-fitted-level-3);\n",
       "  color: var(--sklearn-color-background);\n",
       "  text-decoration: none;\n",
       "}\n",
       "\n",
       "/* Span, style for the box shown on hovering the info icon */\n",
       ".sk-estimator-doc-link span {\n",
       "  display: none;\n",
       "  z-index: 9999;\n",
       "  position: relative;\n",
       "  font-weight: normal;\n",
       "  right: .2ex;\n",
       "  padding: .5ex;\n",
       "  margin: .5ex;\n",
       "  width: min-content;\n",
       "  min-width: 20ex;\n",
       "  max-width: 50ex;\n",
       "  color: var(--sklearn-color-text);\n",
       "  box-shadow: 2pt 2pt 4pt #999;\n",
       "  /* unfitted */\n",
       "  background: var(--sklearn-color-unfitted-level-0);\n",
       "  border: .5pt solid var(--sklearn-color-unfitted-level-3);\n",
       "}\n",
       "\n",
       ".sk-estimator-doc-link.fitted span {\n",
       "  /* fitted */\n",
       "  background: var(--sklearn-color-fitted-level-0);\n",
       "  border: var(--sklearn-color-fitted-level-3);\n",
       "}\n",
       "\n",
       ".sk-estimator-doc-link:hover span {\n",
       "  display: block;\n",
       "}\n",
       "\n",
       "/* \"?\"-specific style due to the `<a>` HTML tag */\n",
       "\n",
       "#sk-container-id-21 a.estimator_doc_link {\n",
       "  float: right;\n",
       "  font-size: 1rem;\n",
       "  line-height: 1em;\n",
       "  font-family: monospace;\n",
       "  background-color: var(--sklearn-color-background);\n",
       "  border-radius: 1rem;\n",
       "  height: 1rem;\n",
       "  width: 1rem;\n",
       "  text-decoration: none;\n",
       "  /* unfitted */\n",
       "  color: var(--sklearn-color-unfitted-level-1);\n",
       "  border: var(--sklearn-color-unfitted-level-1) 1pt solid;\n",
       "}\n",
       "\n",
       "#sk-container-id-21 a.estimator_doc_link.fitted {\n",
       "  /* fitted */\n",
       "  border: var(--sklearn-color-fitted-level-1) 1pt solid;\n",
       "  color: var(--sklearn-color-fitted-level-1);\n",
       "}\n",
       "\n",
       "/* On hover */\n",
       "#sk-container-id-21 a.estimator_doc_link:hover {\n",
       "  /* unfitted */\n",
       "  background-color: var(--sklearn-color-unfitted-level-3);\n",
       "  color: var(--sklearn-color-background);\n",
       "  text-decoration: none;\n",
       "}\n",
       "\n",
       "#sk-container-id-21 a.estimator_doc_link.fitted:hover {\n",
       "  /* fitted */\n",
       "  background-color: var(--sklearn-color-fitted-level-3);\n",
       "}\n",
       "</style><div id=\"sk-container-id-21\" class=\"sk-top-container\"><div class=\"sk-text-repr-fallback\"><pre>KMeans(n_clusters=4)</pre><b>In a Jupyter environment, please rerun this cell to show the HTML representation or trust the notebook. <br />On GitHub, the HTML representation is unable to render, please try loading this page with nbviewer.org.</b></div><div class=\"sk-container\" hidden><div class=\"sk-item\"><div class=\"sk-estimator fitted sk-toggleable\"><input class=\"sk-toggleable__control sk-hidden--visually\" id=\"sk-estimator-id-21\" type=\"checkbox\" checked><label for=\"sk-estimator-id-21\" class=\"sk-toggleable__label fitted sk-toggleable__label-arrow\"><div><div>KMeans</div></div><div><a class=\"sk-estimator-doc-link fitted\" rel=\"noreferrer\" target=\"_blank\" href=\"https://scikit-learn.org/1.6/modules/generated/sklearn.cluster.KMeans.html\">?<span>Documentation for KMeans</span></a><span class=\"sk-estimator-doc-link fitted\">i<span>Fitted</span></span></div></label><div class=\"sk-toggleable__content fitted\"><pre>KMeans(n_clusters=4)</pre></div> </div></div></div></div>"
      ],
      "text/plain": [
       "KMeans(n_clusters=4)"
      ]
     },
     "execution_count": 224,
     "metadata": {},
     "output_type": "execute_result"
    }
   ],
   "source": [
    "# Realizando o fit dos dados\n",
    "model.fit(data.drop(['k', 'g', 'E', 'GS'], axis = 'columns'))"
   ]
  },
  {
   "cell_type": "code",
   "execution_count": 225,
   "id": "8fd4c82c-2290-4a1a-a029-e3d105ef6538",
   "metadata": {},
   "outputs": [
    {
     "data": {
      "text/plain": [
       "[<matplotlib.lines.Line2D at 0x22787532ca0>]"
      ]
     },
     "execution_count": 225,
     "metadata": {},
     "output_type": "execute_result"
    },
    {
     "data": {
      "image/png": "[encoded data removed]",
      "text/plain": [
       "<Figure size 640x480 with 1 Axes>"
      ]
     },
     "metadata": {},
     "output_type": "display_data"
    }
   ],
   "source": [
    "# Plotando o diagrama de fase e as linhas de transição\n",
    "plt.scatter(data['k'][model.labels_==0], data['g'][model.labels_==0])\n",
    "plt.scatter(data['k'][model.labels_==1], data['g'][model.labels_==1])\n",
    "plt.scatter(data['k'][model.labels_==2], data['g'][model.labels_==2])\n",
    "plt.scatter(data['k'][model.labels_==3], data['g'][model.labels_==3])\n",
    "plt.xlabel('k')\n",
    "plt.ylabel('g')\n",
    "plt.plot(trans['x'], trans['y'], color = 'black')\n",
    "plt.plot(KT['x'], KT['y'], color = 'black')"
   ]
  },
  {
   "cell_type": "markdown",
   "id": "66800449-8090-41be-b25a-851e1f75c2e4",
   "metadata": {},
   "source": [
    "$\\quad$ Desta vez, ocorreu algo curioso. Embora a precisão da linha que divide as fases paramagnética e flutuante tenha melhorado, o K-Means Clustering ao invés de reconhecer a diferença entre a fase flutuante e a antifase, reconhece uma outra região dentro da fase paramagnética. A referência [5] fornece evidências de que, para sistemas maiores, essa nova transição identificada para corresponder à chamada \"Linha de Emery-Peschel\", que divide a fase paramagnética nas fases paramagnéticas comensurada e incomensurada. Vale notar que essa linha não corresponde a uma transição de fase propriamente dita, mas a uma sutil mudança no comportamento do sistema, que ainda é paramagnético. "
   ]
  },
  {
   "cell_type": "markdown",
   "id": "19f8cab4-1838-47bd-862d-f707e874e5a7",
   "metadata": {},
   "source": [
    "$\\quad$ Ficamos ainda, porém, com o fato de que o método K-Means falha em identificar a transição ilustrada na linha inferior direita no gráfico acima. Esse fato se dá pois a transição é de caráter altamente não-trivial, sendo assim, provavelmente não é bem representada pelo detalhe reduzido que obtemos ao considerar apenas correlações entre primeiros e segundos vizinhos como os dados utilizados para classificar as fases.\n",
    "\n",
    "$\\quad$ Mesmo considerando esta falha, porém, vemos que métodos como o K-Means Clustering tem um grande potencial de auxiliar na descrição de transições de fase em sistemas de matéria condensada, tendo apresentado resultados bastante consistentes em uma análise extremamente simples e rápida para um sistema pequeno. Como a estrutura de um sistema de spins só é totalmente bem definida no limite termodinâmico ($N \\rightarrow \\infty$), este é outro fator que contribui para as falhas observadas. Considerando isso tudo, notamos que nossos resultados são bastante positivos."
   ]
  },
  {
   "cell_type": "markdown",
   "id": "6d08d520-7811-4004-a2b2-8379d2e353ab",
   "metadata": {},
   "source": [
    "## 4. Conclusão"
   ]
  },
  {
   "cell_type": "markdown",
   "id": "d56faf7b-097d-4781-a997-db5d8ea9648a",
   "metadata": {},
   "source": [
    "$\\quad$ Neste `Notebook`, aplicamos o método de Machine Learning conhecido como K-Means Clustering para identificar transições de fase no estado fundamental do modelo Axial Next-Nearest-Neighbor Ising (ANNNI). Começamos com uma breve explicação do modelo ANNNI e como construir seu Hamiltoniano. Isso feito, passamos a solucionar numericamente com métodos matriciais o modelo, obtendo suas autoenergias e seus autoestados. Com isso, calculamos correlações entre primeiros e segundos vizinhos para utilizar como dados para clusterizar com o K-Means.\n",
    "\n",
    "$\\quad$ Aplicando o método K-Means Clustering, observando que, mesmo com uma quantidade pequena de dados extremamente simples e pouco tempo de processamento, nossa técnica de aprendizado de máquina não-supervisionado foi capaz de identificar com bastante precisão duas das três transições de fase presentes no diagrama de fase do modelo ANNNI, indicando um bom desempenho e um excelente potencial de desenvolvimento no futuro, especialmente considerando métodos mais complexos e maiores quantidades de dados."
   ]
  },
  {
   "cell_type": "markdown",
   "id": "ba69c68c",
   "metadata": {},
   "source": [
    "---"
   ]
  },
  {
   "cell_type": "markdown",
   "id": "6dec5138-ad53-46bb-ad5d-6b0712d30cd0",
   "metadata": {},
   "source": [
    "## 5. Referências"
   ]
  },
  {
   "cell_type": "markdown",
   "id": "87459f94-28db-4d7e-89c6-08ef358a4dd3",
   "metadata": {},
   "source": [
    "[1] J. Villain and P. Bak, “Two-dimensional ising model with competing interactions : floating phase, walls and dislocations, ” Journal de Physique 42, 657–668 (1981).\n",
    "\n",
    "[2] Heiko Rieger and Genadi Uimin, “The one-dimensional ANNNI model in a transverse field: analytic and numerical study of effective hamiltonians, ” Zeitschriftfür Physik B Condensed Matter 101, 597–611 (1996).\n",
    "\n",
    "[3] R. J. Elliott, “Phenomenological discussion of magnetic ordering in the heavy rare-earth metals,” Phys. Rev. 124, 346–353 (1961).\n",
    "\n",
    "[4] Hartigan, J. A., & Wong, M. A. (1979). A k-means clustering algorithm. Applied statistics, 28(1), 100-108.\n",
    "\n",
    "[5] Askery Canabarro, Felipe Fernandes Fanchini, André Luiz Malvezzi, Rodrigo Pereira, and Rafael Chaves, “Unveiling phase transitions with machine learning,” Phys. Rev. B 100, 045129 (2019).\n",
    "\n",
    "[6] M. Cea, M. Grossi, S. Monaco, E. Rico, L. Tagliacozzo, and S. Vallecorsa, “Exploring the phase diagram of the quantum one-dimensional annni model,” (2024), arXiv:2402.11022 [cond-mat.str-el]."
   ]
  }
 ],
 "metadata": {
  "kernelspec": {
   "display_name": "Python 3",
   "language": "python",
   "name": "python3"
  },
  "language_info": {
   "codemirror_mode": {
    "name": "ipython",
    "version": 3
   },
   "file_extension": ".py",
   "mimetype": "text/x-python",
   "name": "python",
   "nbconvert_exporter": "python",
   "pygments_lexer": "ipython3",
   "version": "3.11.9"
  }
 },
 "nbformat": 4,
 "nbformat_minor": 5
}
